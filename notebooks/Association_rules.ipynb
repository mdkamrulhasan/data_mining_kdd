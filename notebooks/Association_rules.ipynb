{
  "metadata": {
    "kernelspec": {
      "language": "python",
      "display_name": "Python 3",
      "name": "python3"
    },
    "language_info": {
      "pygments_lexer": "ipython3",
      "nbconvert_exporter": "python",
      "version": "3.6.4",
      "file_extension": ".py",
      "codemirror_mode": {
        "name": "ipython",
        "version": 3
      },
      "name": "python",
      "mimetype": "text/x-python"
    },
    "colab": {
      "provenance": [],
      "include_colab_link": true
    }
  },
  "nbformat_minor": 0,
  "nbformat": 4,
  "cells": [
    {
      "cell_type": "markdown",
      "metadata": {
        "id": "view-in-github",
        "colab_type": "text"
      },
      "source": [
        "<a href=\"https://colab.research.google.com/github/mdkamrulhasan/data_mining_kdd/blob/main/notebooks/Association_rules.ipynb\" target=\"_parent\"><img src=\"https://colab.research.google.com/assets/colab-badge.svg\" alt=\"Open In Colab\"/></a>"
      ]
    },
    {
      "cell_type": "markdown",
      "source": [
        "### Summary:\n",
        "* [Problem definition](#problem_definition)\n",
        "* [Data Analysis](#data_analysis)\n",
        "* [Market Basket Analysis](#market_basket_analysis)\n",
        "    * [Item Recommendation](#item_recommendation)\n",
        "* [Conclusions](#conclusions)\n",
        "* [References](#references)"
      ],
      "metadata": {
        "id": "IH5KV9MkY1pR"
      }
    },
    {
      "cell_type": "markdown",
      "source": [
        "[ref](https://www.kaggle.com/code/ceruttivini/association-rules-mining-market-basket-analysis/notebook)"
      ],
      "metadata": {
        "id": "OFDNEVBPY8xB"
      }
    },
    {
      "cell_type": "code",
      "source": [
        "!pip install unidecode"
      ],
      "metadata": {
        "colab": {
          "base_uri": "https://localhost:8080/"
        },
        "id": "lDwfv6ifZM8g",
        "outputId": "ec61573e-3469-4536-e5fa-1a45070a878c"
      },
      "execution_count": 3,
      "outputs": [
        {
          "output_type": "stream",
          "name": "stderr",
          "text": [
            "/usr/local/lib/python3.10/dist-packages/ipykernel/ipkernel.py:283: DeprecationWarning: `should_run_async` will not call `transform_cell` automatically in the future. Please pass the result to `transformed_cell` argument and any exception that happen during thetransform in `preprocessing_exc_tuple` in IPython 7.17 and above.\n",
            "  and should_run_async(code)\n"
          ]
        },
        {
          "output_type": "stream",
          "name": "stdout",
          "text": [
            "Collecting unidecode\n",
            "  Downloading Unidecode-1.3.7-py3-none-any.whl (235 kB)\n",
            "\u001b[2K     \u001b[90m━━━━━━━━━━━━━━━━━━━━━━━━━━━━━━━━━━━━━━━━\u001b[0m \u001b[32m235.5/235.5 kB\u001b[0m \u001b[31m2.5 MB/s\u001b[0m eta \u001b[36m0:00:00\u001b[0m\n",
            "\u001b[?25hInstalling collected packages: unidecode\n",
            "Successfully installed unidecode-1.3.7\n"
          ]
        }
      ]
    },
    {
      "cell_type": "markdown",
      "source": [
        "[MLxtend](https://rasbt.github.io/mlxtend/)\n",
        "\n",
        "Mlxtend (machine learning extensions) is a Python library of useful tools for the day-to-day data science tasks."
      ],
      "metadata": {
        "id": "McjMFQpRbaBX"
      }
    },
    {
      "cell_type": "code",
      "source": [
        "import pandas as pd\n",
        "from mlxtend.preprocessing import TransactionEncoder\n",
        "from mlxtend.frequent_patterns import apriori, association_rules\n",
        "import unidecode\n",
        "import plotly.express as px"
      ],
      "metadata": {
        "execution": {
          "iopub.status.busy": "2022-01-19T20:18:30.303992Z",
          "iopub.execute_input": "2022-01-19T20:18:30.304304Z",
          "iopub.status.idle": "2022-01-19T20:18:30.309574Z",
          "shell.execute_reply.started": "2022-01-19T20:18:30.304272Z",
          "shell.execute_reply": "2022-01-19T20:18:30.308713Z"
        },
        "trusted": true,
        "colab": {
          "base_uri": "https://localhost:8080/"
        },
        "id": "c6-dlfmmY1pU",
        "outputId": "1a801a06-4e22-4dd5-ca5a-e21cce59a064"
      },
      "execution_count": 4,
      "outputs": [
        {
          "output_type": "stream",
          "name": "stderr",
          "text": [
            "/usr/local/lib/python3.10/dist-packages/ipykernel/ipkernel.py:283: DeprecationWarning: `should_run_async` will not call `transform_cell` automatically in the future. Please pass the result to `transformed_cell` argument and any exception that happen during thetransform in `preprocessing_exc_tuple` in IPython 7.17 and above.\n",
            "  and should_run_async(code)\n"
          ]
        }
      ]
    },
    {
      "cell_type": "markdown",
      "source": [
        "<a id='problem_definition'></a>\n",
        "### Problem Defination:\n",
        "\n",
        "This dataset consisted of 33k orders from two Indian takeaway restaurants in London, UK. The purpose of this notebook is to increase cross-selling when the customer performs by applying makert basket analysis (association rules) where the food could be or recommend when the takeaway is performed:\n",
        "\n",
        "* Both X and Y could be placed on the same shelf, so that buyers of one item would be prompted to buy the other;\n",
        "* Promotional discounts could be applied to only one of the two items;\n",
        "* Advertisements on X could be targeted to shoppers buying Y;\n",
        "* X and Y could be combined into a new product.\n",
        "\n",
        "<a id='data_analysis'></a>\n",
        "### Data Analysis:"
      ],
      "metadata": {
        "id": "x-n-_ecsY1pV"
      }
    },
    {
      "cell_type": "markdown",
      "source": [
        "Since we have two data sets, we need to merge the information into one for easier analysis. To differentiate it between restaurant orders, first and second, a specific column was created for this purpose and remove the total_products column because it is a sum of the quantity of items in each order."
      ],
      "metadata": {
        "id": "9HQix3iiY1pV"
      }
    },
    {
      "cell_type": "code",
      "source": [
        "data_url = 'https://raw.githubusercontent.com/mdkamrulhasan/data_mining_kdd/main/data/association/restaurant-1-orders.csv'\n",
        "df = pd.read_csv(data_url)"
      ],
      "metadata": {
        "id": "SZT4Fw25aYGA",
        "colab": {
          "base_uri": "https://localhost:8080/"
        },
        "outputId": "25cdd8f2-563c-4c95-d1ae-8e5a6d336764"
      },
      "execution_count": 5,
      "outputs": [
        {
          "output_type": "stream",
          "name": "stderr",
          "text": [
            "/usr/local/lib/python3.10/dist-packages/ipykernel/ipkernel.py:283: DeprecationWarning: `should_run_async` will not call `transform_cell` automatically in the future. Please pass the result to `transformed_cell` argument and any exception that happen during thetransform in `preprocessing_exc_tuple` in IPython 7.17 and above.\n",
            "  and should_run_async(code)\n"
          ]
        }
      ]
    },
    {
      "cell_type": "code",
      "source": [
        "orders_first_restaurant = pd.read_csv('https://raw.githubusercontent.com/mdkamrulhasan/data_mining_kdd/main/data/association/restaurant-1-orders.csv')\n",
        "orders_first_restaurant['restaurant'] = '1 - restaurant'\n",
        "\n",
        "orders_second_restaurant = pd.read_csv('https://raw.githubusercontent.com/mdkamrulhasan/data_mining_kdd/main/data/association/restaurant-2-orders.csv')\n",
        "orders_second_restaurant['restaurant'] = '2 - restaurant'\n",
        "orders_second_restaurant.rename(columns={'Order ID':'Order Number'},inplace=True)\n",
        "\n",
        "orders = pd.concat([orders_first_restaurant,orders_second_restaurant])\n",
        "orders.drop('Total products',axis=1,inplace=True)"
      ],
      "metadata": {
        "execution": {
          "iopub.status.busy": "2022-01-19T20:18:30.314483Z",
          "iopub.execute_input": "2022-01-19T20:18:30.314875Z",
          "iopub.status.idle": "2022-01-19T20:18:30.612004Z",
          "shell.execute_reply.started": "2022-01-19T20:18:30.314836Z",
          "shell.execute_reply": "2022-01-19T20:18:30.610943Z"
        },
        "trusted": true,
        "colab": {
          "base_uri": "https://localhost:8080/"
        },
        "id": "QvntRLVWY1pW",
        "outputId": "84bd6bcf-3d86-46ae-8c27-b0cfb2d1bffe"
      },
      "execution_count": 6,
      "outputs": [
        {
          "output_type": "stream",
          "name": "stderr",
          "text": [
            "/usr/local/lib/python3.10/dist-packages/ipykernel/ipkernel.py:283: DeprecationWarning: `should_run_async` will not call `transform_cell` automatically in the future. Please pass the result to `transformed_cell` argument and any exception that happen during thetransform in `preprocessing_exc_tuple` in IPython 7.17 and above.\n",
            "  and should_run_async(code)\n"
          ]
        }
      ]
    },
    {
      "cell_type": "markdown",
      "source": [
        "To facilitate the analysis, we formatted the columns in lowercase and without spaces."
      ],
      "metadata": {
        "id": "jz67RhMBY1pW"
      }
    },
    {
      "cell_type": "code",
      "source": [
        "orders.info()"
      ],
      "metadata": {
        "execution": {
          "iopub.status.busy": "2022-01-19T20:18:30.613712Z",
          "iopub.execute_input": "2022-01-19T20:18:30.614006Z",
          "iopub.status.idle": "2022-01-19T20:18:30.697Z",
          "shell.execute_reply.started": "2022-01-19T20:18:30.613964Z",
          "shell.execute_reply": "2022-01-19T20:18:30.696132Z"
        },
        "trusted": true,
        "colab": {
          "base_uri": "https://localhost:8080/"
        },
        "id": "dV2_rBbIY1pW",
        "outputId": "70d26d5f-f4dc-4dfc-cc0e-b0402e0ef47b"
      },
      "execution_count": 7,
      "outputs": [
        {
          "output_type": "stream",
          "name": "stdout",
          "text": [
            "<class 'pandas.core.frame.DataFrame'>\n",
            "Int64Index: 194001 entries, 0 to 119182\n",
            "Data columns (total 6 columns):\n",
            " #   Column         Non-Null Count   Dtype  \n",
            "---  ------         --------------   -----  \n",
            " 0   Order Number   194001 non-null  int64  \n",
            " 1   Order Date     194001 non-null  object \n",
            " 2   Item Name      194001 non-null  object \n",
            " 3   Quantity       194001 non-null  int64  \n",
            " 4   Product Price  194001 non-null  float64\n",
            " 5   restaurant     194001 non-null  object \n",
            "dtypes: float64(1), int64(2), object(3)\n",
            "memory usage: 10.4+ MB\n"
          ]
        },
        {
          "output_type": "stream",
          "name": "stderr",
          "text": [
            "/usr/local/lib/python3.10/dist-packages/ipykernel/ipkernel.py:283: DeprecationWarning: `should_run_async` will not call `transform_cell` automatically in the future. Please pass the result to `transformed_cell` argument and any exception that happen during thetransform in `preprocessing_exc_tuple` in IPython 7.17 and above.\n",
            "  and should_run_async(code)\n"
          ]
        }
      ]
    },
    {
      "cell_type": "code",
      "source": [
        "orders.sample(5)"
      ],
      "metadata": {
        "execution": {
          "iopub.status.busy": "2022-01-19T20:18:30.698367Z",
          "iopub.execute_input": "2022-01-19T20:18:30.699218Z",
          "iopub.status.idle": "2022-01-19T20:18:30.721349Z",
          "shell.execute_reply.started": "2022-01-19T20:18:30.699183Z",
          "shell.execute_reply": "2022-01-19T20:18:30.720133Z"
        },
        "trusted": true,
        "colab": {
          "base_uri": "https://localhost:8080/",
          "height": 366
        },
        "id": "A22FYXujY1pX",
        "outputId": "9aa1676e-9ab8-4f53-c532-6e3ca7dd522f"
      },
      "execution_count": 8,
      "outputs": [
        {
          "output_type": "stream",
          "name": "stderr",
          "text": [
            "/usr/local/lib/python3.10/dist-packages/ipykernel/ipkernel.py:283: DeprecationWarning: `should_run_async` will not call `transform_cell` automatically in the future. Please pass the result to `transformed_cell` argument and any exception that happen during thetransform in `preprocessing_exc_tuple` in IPython 7.17 and above.\n",
            "  and should_run_async(code)\n"
          ]
        },
        {
          "output_type": "execute_result",
          "data": {
            "text/plain": [
              "        Order Number        Order Date         Item Name  Quantity  \\\n",
              "52305          10317  15/07/2018 13:49      Curry - Lamb         1   \n",
              "40802          11041  06/08/2017 13:54        Pilau Rice         1   \n",
              "58956          10946  30/07/2017 22:18  Vegetable Samosa         1   \n",
              "108905          5028  06/08/2016 16:55          Mushroom         1   \n",
              "26703           5025  08/04/2017 19:04        Pilau Rice         1   \n",
              "\n",
              "        Product Price      restaurant  \n",
              "52305            7.95  1 - restaurant  \n",
              "40802            2.95  2 - restaurant  \n",
              "58956            3.95  2 - restaurant  \n",
              "108905           8.95  2 - restaurant  \n",
              "26703            2.95  1 - restaurant  "
            ],
            "text/html": [
              "\n",
              "  <div id=\"df-6d50c069-962c-4f19-bf56-eabad18222d0\" class=\"colab-df-container\">\n",
              "    <div>\n",
              "<style scoped>\n",
              "    .dataframe tbody tr th:only-of-type {\n",
              "        vertical-align: middle;\n",
              "    }\n",
              "\n",
              "    .dataframe tbody tr th {\n",
              "        vertical-align: top;\n",
              "    }\n",
              "\n",
              "    .dataframe thead th {\n",
              "        text-align: right;\n",
              "    }\n",
              "</style>\n",
              "<table border=\"1\" class=\"dataframe\">\n",
              "  <thead>\n",
              "    <tr style=\"text-align: right;\">\n",
              "      <th></th>\n",
              "      <th>Order Number</th>\n",
              "      <th>Order Date</th>\n",
              "      <th>Item Name</th>\n",
              "      <th>Quantity</th>\n",
              "      <th>Product Price</th>\n",
              "      <th>restaurant</th>\n",
              "    </tr>\n",
              "  </thead>\n",
              "  <tbody>\n",
              "    <tr>\n",
              "      <th>52305</th>\n",
              "      <td>10317</td>\n",
              "      <td>15/07/2018 13:49</td>\n",
              "      <td>Curry - Lamb</td>\n",
              "      <td>1</td>\n",
              "      <td>7.95</td>\n",
              "      <td>1 - restaurant</td>\n",
              "    </tr>\n",
              "    <tr>\n",
              "      <th>40802</th>\n",
              "      <td>11041</td>\n",
              "      <td>06/08/2017 13:54</td>\n",
              "      <td>Pilau Rice</td>\n",
              "      <td>1</td>\n",
              "      <td>2.95</td>\n",
              "      <td>2 - restaurant</td>\n",
              "    </tr>\n",
              "    <tr>\n",
              "      <th>58956</th>\n",
              "      <td>10946</td>\n",
              "      <td>30/07/2017 22:18</td>\n",
              "      <td>Vegetable Samosa</td>\n",
              "      <td>1</td>\n",
              "      <td>3.95</td>\n",
              "      <td>2 - restaurant</td>\n",
              "    </tr>\n",
              "    <tr>\n",
              "      <th>108905</th>\n",
              "      <td>5028</td>\n",
              "      <td>06/08/2016 16:55</td>\n",
              "      <td>Mushroom</td>\n",
              "      <td>1</td>\n",
              "      <td>8.95</td>\n",
              "      <td>2 - restaurant</td>\n",
              "    </tr>\n",
              "    <tr>\n",
              "      <th>26703</th>\n",
              "      <td>5025</td>\n",
              "      <td>08/04/2017 19:04</td>\n",
              "      <td>Pilau Rice</td>\n",
              "      <td>1</td>\n",
              "      <td>2.95</td>\n",
              "      <td>1 - restaurant</td>\n",
              "    </tr>\n",
              "  </tbody>\n",
              "</table>\n",
              "</div>\n",
              "    <div class=\"colab-df-buttons\">\n",
              "\n",
              "  <div class=\"colab-df-container\">\n",
              "    <button class=\"colab-df-convert\" onclick=\"convertToInteractive('df-6d50c069-962c-4f19-bf56-eabad18222d0')\"\n",
              "            title=\"Convert this dataframe to an interactive table.\"\n",
              "            style=\"display:none;\">\n",
              "\n",
              "  <svg xmlns=\"http://www.w3.org/2000/svg\" height=\"24px\" viewBox=\"0 -960 960 960\">\n",
              "    <path d=\"M120-120v-720h720v720H120Zm60-500h600v-160H180v160Zm220 220h160v-160H400v160Zm0 220h160v-160H400v160ZM180-400h160v-160H180v160Zm440 0h160v-160H620v160ZM180-180h160v-160H180v160Zm440 0h160v-160H620v160Z\"/>\n",
              "  </svg>\n",
              "    </button>\n",
              "\n",
              "  <style>\n",
              "    .colab-df-container {\n",
              "      display:flex;\n",
              "      gap: 12px;\n",
              "    }\n",
              "\n",
              "    .colab-df-convert {\n",
              "      background-color: #E8F0FE;\n",
              "      border: none;\n",
              "      border-radius: 50%;\n",
              "      cursor: pointer;\n",
              "      display: none;\n",
              "      fill: #1967D2;\n",
              "      height: 32px;\n",
              "      padding: 0 0 0 0;\n",
              "      width: 32px;\n",
              "    }\n",
              "\n",
              "    .colab-df-convert:hover {\n",
              "      background-color: #E2EBFA;\n",
              "      box-shadow: 0px 1px 2px rgba(60, 64, 67, 0.3), 0px 1px 3px 1px rgba(60, 64, 67, 0.15);\n",
              "      fill: #174EA6;\n",
              "    }\n",
              "\n",
              "    .colab-df-buttons div {\n",
              "      margin-bottom: 4px;\n",
              "    }\n",
              "\n",
              "    [theme=dark] .colab-df-convert {\n",
              "      background-color: #3B4455;\n",
              "      fill: #D2E3FC;\n",
              "    }\n",
              "\n",
              "    [theme=dark] .colab-df-convert:hover {\n",
              "      background-color: #434B5C;\n",
              "      box-shadow: 0px 1px 3px 1px rgba(0, 0, 0, 0.15);\n",
              "      filter: drop-shadow(0px 1px 2px rgba(0, 0, 0, 0.3));\n",
              "      fill: #FFFFFF;\n",
              "    }\n",
              "  </style>\n",
              "\n",
              "    <script>\n",
              "      const buttonEl =\n",
              "        document.querySelector('#df-6d50c069-962c-4f19-bf56-eabad18222d0 button.colab-df-convert');\n",
              "      buttonEl.style.display =\n",
              "        google.colab.kernel.accessAllowed ? 'block' : 'none';\n",
              "\n",
              "      async function convertToInteractive(key) {\n",
              "        const element = document.querySelector('#df-6d50c069-962c-4f19-bf56-eabad18222d0');\n",
              "        const dataTable =\n",
              "          await google.colab.kernel.invokeFunction('convertToInteractive',\n",
              "                                                    [key], {});\n",
              "        if (!dataTable) return;\n",
              "\n",
              "        const docLinkHtml = 'Like what you see? Visit the ' +\n",
              "          '<a target=\"_blank\" href=https://colab.research.google.com/notebooks/data_table.ipynb>data table notebook</a>'\n",
              "          + ' to learn more about interactive tables.';\n",
              "        element.innerHTML = '';\n",
              "        dataTable['output_type'] = 'display_data';\n",
              "        await google.colab.output.renderOutput(dataTable, element);\n",
              "        const docLink = document.createElement('div');\n",
              "        docLink.innerHTML = docLinkHtml;\n",
              "        element.appendChild(docLink);\n",
              "      }\n",
              "    </script>\n",
              "  </div>\n",
              "\n",
              "\n",
              "<div id=\"df-6716018d-8a99-4df7-a251-b9120a9c75c4\">\n",
              "  <button class=\"colab-df-quickchart\" onclick=\"quickchart('df-6716018d-8a99-4df7-a251-b9120a9c75c4')\"\n",
              "            title=\"Suggest charts\"\n",
              "            style=\"display:none;\">\n",
              "\n",
              "<svg xmlns=\"http://www.w3.org/2000/svg\" height=\"24px\"viewBox=\"0 0 24 24\"\n",
              "     width=\"24px\">\n",
              "    <g>\n",
              "        <path d=\"M19 3H5c-1.1 0-2 .9-2 2v14c0 1.1.9 2 2 2h14c1.1 0 2-.9 2-2V5c0-1.1-.9-2-2-2zM9 17H7v-7h2v7zm4 0h-2V7h2v10zm4 0h-2v-4h2v4z\"/>\n",
              "    </g>\n",
              "</svg>\n",
              "  </button>\n",
              "\n",
              "<style>\n",
              "  .colab-df-quickchart {\n",
              "      --bg-color: #E8F0FE;\n",
              "      --fill-color: #1967D2;\n",
              "      --hover-bg-color: #E2EBFA;\n",
              "      --hover-fill-color: #174EA6;\n",
              "      --disabled-fill-color: #AAA;\n",
              "      --disabled-bg-color: #DDD;\n",
              "  }\n",
              "\n",
              "  [theme=dark] .colab-df-quickchart {\n",
              "      --bg-color: #3B4455;\n",
              "      --fill-color: #D2E3FC;\n",
              "      --hover-bg-color: #434B5C;\n",
              "      --hover-fill-color: #FFFFFF;\n",
              "      --disabled-bg-color: #3B4455;\n",
              "      --disabled-fill-color: #666;\n",
              "  }\n",
              "\n",
              "  .colab-df-quickchart {\n",
              "    background-color: var(--bg-color);\n",
              "    border: none;\n",
              "    border-radius: 50%;\n",
              "    cursor: pointer;\n",
              "    display: none;\n",
              "    fill: var(--fill-color);\n",
              "    height: 32px;\n",
              "    padding: 0;\n",
              "    width: 32px;\n",
              "  }\n",
              "\n",
              "  .colab-df-quickchart:hover {\n",
              "    background-color: var(--hover-bg-color);\n",
              "    box-shadow: 0 1px 2px rgba(60, 64, 67, 0.3), 0 1px 3px 1px rgba(60, 64, 67, 0.15);\n",
              "    fill: var(--button-hover-fill-color);\n",
              "  }\n",
              "\n",
              "  .colab-df-quickchart-complete:disabled,\n",
              "  .colab-df-quickchart-complete:disabled:hover {\n",
              "    background-color: var(--disabled-bg-color);\n",
              "    fill: var(--disabled-fill-color);\n",
              "    box-shadow: none;\n",
              "  }\n",
              "\n",
              "  .colab-df-spinner {\n",
              "    border: 2px solid var(--fill-color);\n",
              "    border-color: transparent;\n",
              "    border-bottom-color: var(--fill-color);\n",
              "    animation:\n",
              "      spin 1s steps(1) infinite;\n",
              "  }\n",
              "\n",
              "  @keyframes spin {\n",
              "    0% {\n",
              "      border-color: transparent;\n",
              "      border-bottom-color: var(--fill-color);\n",
              "      border-left-color: var(--fill-color);\n",
              "    }\n",
              "    20% {\n",
              "      border-color: transparent;\n",
              "      border-left-color: var(--fill-color);\n",
              "      border-top-color: var(--fill-color);\n",
              "    }\n",
              "    30% {\n",
              "      border-color: transparent;\n",
              "      border-left-color: var(--fill-color);\n",
              "      border-top-color: var(--fill-color);\n",
              "      border-right-color: var(--fill-color);\n",
              "    }\n",
              "    40% {\n",
              "      border-color: transparent;\n",
              "      border-right-color: var(--fill-color);\n",
              "      border-top-color: var(--fill-color);\n",
              "    }\n",
              "    60% {\n",
              "      border-color: transparent;\n",
              "      border-right-color: var(--fill-color);\n",
              "    }\n",
              "    80% {\n",
              "      border-color: transparent;\n",
              "      border-right-color: var(--fill-color);\n",
              "      border-bottom-color: var(--fill-color);\n",
              "    }\n",
              "    90% {\n",
              "      border-color: transparent;\n",
              "      border-bottom-color: var(--fill-color);\n",
              "    }\n",
              "  }\n",
              "</style>\n",
              "\n",
              "  <script>\n",
              "    async function quickchart(key) {\n",
              "      const quickchartButtonEl =\n",
              "        document.querySelector('#' + key + ' button');\n",
              "      quickchartButtonEl.disabled = true;  // To prevent multiple clicks.\n",
              "      quickchartButtonEl.classList.add('colab-df-spinner');\n",
              "      try {\n",
              "        const charts = await google.colab.kernel.invokeFunction(\n",
              "            'suggestCharts', [key], {});\n",
              "      } catch (error) {\n",
              "        console.error('Error during call to suggestCharts:', error);\n",
              "      }\n",
              "      quickchartButtonEl.classList.remove('colab-df-spinner');\n",
              "      quickchartButtonEl.classList.add('colab-df-quickchart-complete');\n",
              "    }\n",
              "    (() => {\n",
              "      let quickchartButtonEl =\n",
              "        document.querySelector('#df-6716018d-8a99-4df7-a251-b9120a9c75c4 button');\n",
              "      quickchartButtonEl.style.display =\n",
              "        google.colab.kernel.accessAllowed ? 'block' : 'none';\n",
              "    })();\n",
              "  </script>\n",
              "</div>\n",
              "    </div>\n",
              "  </div>\n"
            ]
          },
          "metadata": {},
          "execution_count": 8
        }
      ]
    },
    {
      "cell_type": "code",
      "source": [
        "def format_columns(column):\n",
        "    new_column = ' '.join(column.split())\n",
        "    new_column = new_column.replace(' ','_')\n",
        "    return new_column.lower()\n",
        "\n",
        "orders.columns = [format_columns(c) for c in orders.columns]"
      ],
      "metadata": {
        "execution": {
          "iopub.status.busy": "2022-01-19T20:18:30.724767Z",
          "iopub.execute_input": "2022-01-19T20:18:30.725134Z",
          "iopub.status.idle": "2022-01-19T20:18:30.732831Z",
          "shell.execute_reply.started": "2022-01-19T20:18:30.72508Z",
          "shell.execute_reply": "2022-01-19T20:18:30.731847Z"
        },
        "trusted": true,
        "colab": {
          "base_uri": "https://localhost:8080/"
        },
        "id": "IJGQu3aEY1pX",
        "outputId": "477f504a-3645-47ec-ef7f-043daa479b3c"
      },
      "execution_count": 9,
      "outputs": [
        {
          "output_type": "stream",
          "name": "stderr",
          "text": [
            "/usr/local/lib/python3.10/dist-packages/ipykernel/ipkernel.py:283: DeprecationWarning: `should_run_async` will not call `transform_cell` automatically in the future. Please pass the result to `transformed_cell` argument and any exception that happen during thetransform in `preprocessing_exc_tuple` in IPython 7.17 and above.\n",
            "  and should_run_async(code)\n"
          ]
        }
      ]
    },
    {
      "cell_type": "markdown",
      "source": [
        "How we can see, there is no null values in orders"
      ],
      "metadata": {
        "id": "Xl5H-i_EY1pX"
      }
    },
    {
      "cell_type": "code",
      "source": [
        "orders.isna().mean()"
      ],
      "metadata": {
        "execution": {
          "iopub.status.busy": "2022-01-19T20:18:30.734719Z",
          "iopub.execute_input": "2022-01-19T20:18:30.735467Z",
          "iopub.status.idle": "2022-01-19T20:18:30.819217Z",
          "shell.execute_reply.started": "2022-01-19T20:18:30.735418Z",
          "shell.execute_reply": "2022-01-19T20:18:30.818358Z"
        },
        "trusted": true,
        "colab": {
          "base_uri": "https://localhost:8080/"
        },
        "id": "j8W7A0LXY1pY",
        "outputId": "0aca5d5b-6719-4a56-ab1c-567baff62c78"
      },
      "execution_count": 10,
      "outputs": [
        {
          "output_type": "stream",
          "name": "stderr",
          "text": [
            "/usr/local/lib/python3.10/dist-packages/ipykernel/ipkernel.py:283: DeprecationWarning: `should_run_async` will not call `transform_cell` automatically in the future. Please pass the result to `transformed_cell` argument and any exception that happen during thetransform in `preprocessing_exc_tuple` in IPython 7.17 and above.\n",
            "  and should_run_async(code)\n"
          ]
        },
        {
          "output_type": "execute_result",
          "data": {
            "text/plain": [
              "order_number     0.0\n",
              "order_date       0.0\n",
              "item_name        0.0\n",
              "quantity         0.0\n",
              "product_price    0.0\n",
              "restaurant       0.0\n",
              "dtype: float64"
            ]
          },
          "metadata": {},
          "execution_count": 10
        }
      ]
    },
    {
      "cell_type": "code",
      "source": [
        "def stats_summary(data):\n",
        "\n",
        "    sales = data['product_price'].sum()\n",
        "    quantity = data['quantity'].sum()\n",
        "    orders_count = len(data['order_number'].unique())\n",
        "\n",
        "    avg_price_order = sales / orders_count\n",
        "    avg_price_food = sales / quantity\n",
        "    count_food_orders = quantity / orders_count\n",
        "\n",
        "    return {'avg_price_order': avg_price_order,\n",
        "            'avg_price_food': avg_price_food,\n",
        "            'count_food_orders': count_food_orders\n",
        "           }\n",
        "\n",
        "def print_summary(data):\n",
        "\n",
        "    stats = stats_summary(data)\n",
        "\n",
        "    for key, value in stats.items():\n",
        "        print(f'{key}: {value:.3}')"
      ],
      "metadata": {
        "execution": {
          "iopub.status.busy": "2022-01-19T20:18:30.820539Z",
          "iopub.execute_input": "2022-01-19T20:18:30.820783Z",
          "iopub.status.idle": "2022-01-19T20:18:30.827956Z",
          "shell.execute_reply.started": "2022-01-19T20:18:30.820754Z",
          "shell.execute_reply": "2022-01-19T20:18:30.827197Z"
        },
        "trusted": true,
        "colab": {
          "base_uri": "https://localhost:8080/"
        },
        "id": "WSeZKUyPY1pY",
        "outputId": "f5ed06b9-53fd-49e7-9856-e945f4fb53eb"
      },
      "execution_count": 11,
      "outputs": [
        {
          "output_type": "stream",
          "name": "stderr",
          "text": [
            "/usr/local/lib/python3.10/dist-packages/ipykernel/ipkernel.py:283: DeprecationWarning: `should_run_async` will not call `transform_cell` automatically in the future. Please pass the result to `transformed_cell` argument and any exception that happen during thetransform in `preprocessing_exc_tuple` in IPython 7.17 and above.\n",
            "  and should_run_async(code)\n"
          ]
        }
      ]
    },
    {
      "cell_type": "markdown",
      "source": [
        "As we can see, the difference of the average order price between two restaurants is \\\\$ 1.44 and the food price of restaurant 1 is 0.16 cents more than the second restaurant, but the quantity of the food per order is higher in the second restaurant, which increases the average order price. The total shows that the average price is \\\\$ 43.6 and 10 food per order with \\\\$ 4.15 per food the average."
      ],
      "metadata": {
        "id": "Cr5Hh7oRY1pY"
      }
    },
    {
      "cell_type": "code",
      "source": [
        "print('\\n1 - restaurant\\n')\n",
        "print_summary(orders[orders['restaurant']=='1 - restaurant'])\n",
        "print('\\n2 - restaurant\\n')\n",
        "print_summary(orders[orders['restaurant']=='2 - restaurant'])\n",
        "\n",
        "print('\\nTotal\\n')\n",
        "print_summary(orders)"
      ],
      "metadata": {
        "execution": {
          "iopub.status.busy": "2022-01-19T20:18:30.829247Z",
          "iopub.execute_input": "2022-01-19T20:18:30.829647Z",
          "iopub.status.idle": "2022-01-19T20:18:30.935375Z",
          "shell.execute_reply.started": "2022-01-19T20:18:30.82961Z",
          "shell.execute_reply": "2022-01-19T20:18:30.933879Z"
        },
        "trusted": true,
        "colab": {
          "base_uri": "https://localhost:8080/"
        },
        "id": "9EpCH3RqY1pY",
        "outputId": "3f1c1ee6-6e90-4ddd-c475-918dd32cea9a"
      },
      "execution_count": 12,
      "outputs": [
        {
          "output_type": "stream",
          "name": "stderr",
          "text": [
            "/usr/local/lib/python3.10/dist-packages/ipykernel/ipkernel.py:283: DeprecationWarning: `should_run_async` will not call `transform_cell` automatically in the future. Please pass the result to `transformed_cell` argument and any exception that happen during thetransform in `preprocessing_exc_tuple` in IPython 7.17 and above.\n",
            "  and should_run_async(code)\n"
          ]
        },
        {
          "output_type": "stream",
          "name": "stdout",
          "text": [
            "\n",
            "1 - restaurant\n",
            "\n",
            "avg_price_order: 29.5\n",
            "avg_price_food: 4.25\n",
            "count_food_orders: 6.94\n",
            "\n",
            "2 - restaurant\n",
            "\n",
            "avg_price_order: 31.0\n",
            "avg_price_food: 4.09\n",
            "count_food_orders: 7.57\n",
            "\n",
            "Total\n",
            "\n",
            "avg_price_order: 43.6\n",
            "avg_price_food: 4.15\n",
            "count_food_orders: 10.5\n"
          ]
        }
      ]
    },
    {
      "cell_type": "markdown",
      "source": [
        "As we can see, the average frequency item is 509, that is, an item appears on average 509 times. When, we look at the median, we see that it is the outliers that pull the average up. The maximum value is 13093, which represents 56.8% of the orders with this item which is Pilau Rice. The frequency percentage of the item is 2.22% (mean / total unit orders) and the median percentage is 0.49%."
      ],
      "metadata": {
        "id": "g_koIevMY1pY"
      }
    },
    {
      "cell_type": "code",
      "source": [
        "items_frequence = orders.groupby('item_name').size().reset_index(name='quantity')\n",
        "print(items_frequence.describe())\n",
        "print(f'\\ntotal unique orders: {len(orders[\"order_number\"].unique())}')"
      ],
      "metadata": {
        "execution": {
          "iopub.status.busy": "2022-01-19T20:18:30.936904Z",
          "iopub.execute_input": "2022-01-19T20:18:30.937247Z",
          "iopub.status.idle": "2022-01-19T20:18:30.981082Z",
          "shell.execute_reply.started": "2022-01-19T20:18:30.937211Z",
          "shell.execute_reply": "2022-01-19T20:18:30.98007Z"
        },
        "trusted": true,
        "colab": {
          "base_uri": "https://localhost:8080/"
        },
        "id": "uRAj_XbIY1pY",
        "outputId": "4a52ce0d-9d98-481f-b517-351c3804738b"
      },
      "execution_count": 13,
      "outputs": [
        {
          "output_type": "stream",
          "name": "stderr",
          "text": [
            "/usr/local/lib/python3.10/dist-packages/ipykernel/ipkernel.py:283: DeprecationWarning: `should_run_async` will not call `transform_cell` automatically in the future. Please pass the result to `transformed_cell` argument and any exception that happen during thetransform in `preprocessing_exc_tuple` in IPython 7.17 and above.\n",
            "  and should_run_async(code)\n"
          ]
        },
        {
          "output_type": "stream",
          "name": "stdout",
          "text": [
            "           quantity\n",
            "count    381.000000\n",
            "mean     509.188976\n",
            "std     1261.237290\n",
            "min        1.000000\n",
            "25%       26.000000\n",
            "50%      113.000000\n",
            "75%      408.000000\n",
            "max    13093.000000\n",
            "\n",
            "total unique orders: 23041\n"
          ]
        }
      ]
    },
    {
      "cell_type": "markdown",
      "source": [
        "We need to remove the extra spaces, symbols or accents if any, because maybe there are duplicate items but the same text with another way of writing."
      ],
      "metadata": {
        "id": "8Te7GeozY1pY"
      }
    },
    {
      "cell_type": "code",
      "source": [
        "def text_normalization(text):\n",
        "    new_text = ' '.join(text.split())\n",
        "    return unidecode.unidecode(new_text.lower())\n",
        "\n",
        "orders['item_name'] = orders['item_name'].apply(text_normalization)"
      ],
      "metadata": {
        "execution": {
          "iopub.status.busy": "2022-01-19T20:18:30.983076Z",
          "iopub.execute_input": "2022-01-19T20:18:30.983328Z",
          "iopub.status.idle": "2022-01-19T20:18:31.235221Z",
          "shell.execute_reply.started": "2022-01-19T20:18:30.983297Z",
          "shell.execute_reply": "2022-01-19T20:18:31.234481Z"
        },
        "trusted": true,
        "colab": {
          "base_uri": "https://localhost:8080/"
        },
        "id": "BbRgdSYtY1pY",
        "outputId": "09aa75ac-16d1-45bb-ec5f-4ef79e189dde"
      },
      "execution_count": 14,
      "outputs": [
        {
          "output_type": "stream",
          "name": "stderr",
          "text": [
            "/usr/local/lib/python3.10/dist-packages/ipykernel/ipkernel.py:283: DeprecationWarning: `should_run_async` will not call `transform_cell` automatically in the future. Please pass the result to `transformed_cell` argument and any exception that happen during thetransform in `preprocessing_exc_tuple` in IPython 7.17 and above.\n",
            "  and should_run_async(code)\n"
          ]
        }
      ]
    },
    {
      "cell_type": "markdown",
      "source": [
        "<a id='market_basket_analysis'></a>\n",
        "### Market Basket Analysis (Association Rules)\n",
        "\n",
        "Through the frequency of the items in the orders, we try to understand if there is an association between one product and another in the order with the objective of recommending this product in an extra purchase.\n",
        "\n",
        "### Example\n",
        "We have a Market Basket transactions, where diapers and beer are a set of frequent items and with that, we have those who buy diapers have a probability of buying beer.\n",
        "\n",
        "![example_mba_kaggle.png](attachment:7f09ccef-4191-4585-bc60-c1db7a9d03d5.png)"
      ],
      "metadata": {
        "id": "aCygeKNSY1pY"
      }
    },
    {
      "cell_type": "markdown",
      "source": [
        "We need to transform the dataset into a list of items in order and convert it into a matrix (data set) where the columns are items and the rows are the order. If that item belongs to that order the value 1 is assigned, otherwise 0."
      ],
      "metadata": {
        "id": "bRsZ2f3yY1pY"
      }
    },
    {
      "cell_type": "code",
      "source": [
        "#convert the dataframe to list items in order\n",
        "item_list = orders.groupby('order_number')['item_name'].unique()\n",
        "\n",
        "# transform the values of the data set to 1 if that item belongs to that order, otherwise 0\n",
        "te = TransactionEncoder()\n",
        "oht_orders = te.fit(item_list).transform(item_list, sparse=True)"
      ],
      "metadata": {
        "execution": {
          "iopub.status.busy": "2022-01-19T20:18:31.237421Z",
          "iopub.execute_input": "2022-01-19T20:18:31.238051Z",
          "iopub.status.idle": "2022-01-19T20:18:32.895374Z",
          "shell.execute_reply.started": "2022-01-19T20:18:31.237998Z",
          "shell.execute_reply": "2022-01-19T20:18:32.894142Z"
        },
        "trusted": true,
        "colab": {
          "base_uri": "https://localhost:8080/"
        },
        "id": "5kWWioSZY1pY",
        "outputId": "c4c91206-c2ba-49e6-ce8e-8f7ed8af4ebc"
      },
      "execution_count": 15,
      "outputs": [
        {
          "output_type": "stream",
          "name": "stderr",
          "text": [
            "/usr/local/lib/python3.10/dist-packages/ipykernel/ipkernel.py:283: DeprecationWarning: `should_run_async` will not call `transform_cell` automatically in the future. Please pass the result to `transformed_cell` argument and any exception that happen during thetransform in `preprocessing_exc_tuple` in IPython 7.17 and above.\n",
            "  and should_run_async(code)\n"
          ]
        }
      ]
    },
    {
      "cell_type": "markdown",
      "source": [
        "To save memory, we represent the transaction data in sparse format.  Because, we have 316 items and 23041 orders."
      ],
      "metadata": {
        "id": "NC6joCg3Y1pY"
      }
    },
    {
      "cell_type": "code",
      "source": [
        "sparse_df_items = pd.DataFrame.sparse.from_spmatrix(oht_orders, columns=te.columns_)"
      ],
      "metadata": {
        "execution": {
          "iopub.status.busy": "2022-01-19T20:18:32.896776Z",
          "iopub.execute_input": "2022-01-19T20:18:32.897085Z",
          "iopub.status.idle": "2022-01-19T20:18:32.915592Z",
          "shell.execute_reply.started": "2022-01-19T20:18:32.89705Z",
          "shell.execute_reply": "2022-01-19T20:18:32.914894Z"
        },
        "trusted": true,
        "colab": {
          "base_uri": "https://localhost:8080/"
        },
        "id": "2jV8-KrlY1pZ",
        "outputId": "7809d014-39c4-4d04-f7af-33e85ff02961"
      },
      "execution_count": 16,
      "outputs": [
        {
          "output_type": "stream",
          "name": "stderr",
          "text": [
            "/usr/local/lib/python3.10/dist-packages/ipykernel/ipkernel.py:283: DeprecationWarning: `should_run_async` will not call `transform_cell` automatically in the future. Please pass the result to `transformed_cell` argument and any exception that happen during thetransform in `preprocessing_exc_tuple` in IPython 7.17 and above.\n",
            "  and should_run_async(code)\n"
          ]
        }
      ]
    },
    {
      "cell_type": "markdown",
      "source": [
        "As a threshold for the minimum frequency of a set of items(the support metric), we used the percentage of the average/unique order frequency, which is 2.22% and max len of set of items equals 10."
      ],
      "metadata": {
        "id": "v9BPJ0wlY1pZ"
      }
    },
    {
      "cell_type": "code",
      "source": [
        "frequent_itemsets = apriori(sparse_df_items, min_support=0.02209,max_len=11, use_colnames=True, verbose=1)"
      ],
      "metadata": {
        "execution": {
          "iopub.status.busy": "2022-01-19T20:18:32.916739Z",
          "iopub.execute_input": "2022-01-19T20:18:32.917351Z",
          "iopub.status.idle": "2022-01-19T20:18:34.833906Z",
          "shell.execute_reply.started": "2022-01-19T20:18:32.917316Z",
          "shell.execute_reply": "2022-01-19T20:18:34.832896Z"
        },
        "trusted": true,
        "colab": {
          "base_uri": "https://localhost:8080/"
        },
        "id": "ovmMwEs-Y1pZ",
        "outputId": "b6dc0be2-5378-491b-afdc-e3ce3201e897"
      },
      "execution_count": 17,
      "outputs": [
        {
          "output_type": "stream",
          "name": "stderr",
          "text": [
            "/usr/local/lib/python3.10/dist-packages/ipykernel/ipkernel.py:283: DeprecationWarning: `should_run_async` will not call `transform_cell` automatically in the future. Please pass the result to `transformed_cell` argument and any exception that happen during thetransform in `preprocessing_exc_tuple` in IPython 7.17 and above.\n",
            "  and should_run_async(code)\n"
          ]
        },
        {
          "output_type": "stream",
          "name": "stdout",
          "text": [
            "Processing 600 combinations | Sampling itemset size 5\n"
          ]
        }
      ]
    },
    {
      "cell_type": "markdown",
      "source": [
        "We create a copy of frequent item sets to create a custom output and analyze."
      ],
      "metadata": {
        "id": "XoANKM6jY1pZ"
      }
    },
    {
      "cell_type": "code",
      "source": [
        "frequent_itemsets_plot = frequent_itemsets.copy()\n",
        "frequent_itemsets_plot['length'] = frequent_itemsets['itemsets'].apply(lambda x: len(x))\n",
        "frequent_itemsets_plot['support'] = (frequent_itemsets_plot['support'] * 100).round(2)\n",
        "frequent_itemsets_plot[\"itemsets\"] = frequent_itemsets_plot[\"itemsets\"].apply(lambda x: ', '.join(list(x))).astype(\"str\")"
      ],
      "metadata": {
        "scrolled": true,
        "execution": {
          "iopub.status.busy": "2022-01-19T20:18:34.835317Z",
          "iopub.execute_input": "2022-01-19T20:18:34.83567Z",
          "iopub.status.idle": "2022-01-19T20:18:34.850327Z",
          "shell.execute_reply.started": "2022-01-19T20:18:34.835634Z",
          "shell.execute_reply": "2022-01-19T20:18:34.84901Z"
        },
        "trusted": true,
        "colab": {
          "base_uri": "https://localhost:8080/"
        },
        "id": "n7mpjCAdY1pZ",
        "outputId": "41dca5ea-4f3c-4cf0-d579-641e89c85061"
      },
      "execution_count": 18,
      "outputs": [
        {
          "output_type": "stream",
          "name": "stderr",
          "text": [
            "/usr/local/lib/python3.10/dist-packages/ipykernel/ipkernel.py:283: DeprecationWarning: `should_run_async` will not call `transform_cell` automatically in the future. Please pass the result to `transformed_cell` argument and any exception that happen during thetransform in `preprocessing_exc_tuple` in IPython 7.17 and above.\n",
            "  and should_run_async(code)\n"
          ]
        }
      ]
    },
    {
      "cell_type": "markdown",
      "source": [
        "We get 556 frequency item sets with the filter we apply. We can see, that most of the item set sizes are 2 and the maximum value is 5. But it is not necessary that this itemset has a high frequency in orders. We have a high std for length equal to 1 indicating item variability and a low variability for length equal to 2 or 3 representing 4.64% and 3.48% respectively on average in the orders."
      ],
      "metadata": {
        "id": "wdpkWwkCY1pZ"
      }
    },
    {
      "cell_type": "code",
      "source": [
        "frequent_itemsets_plot.groupby('length')['support'].describe()"
      ],
      "metadata": {
        "execution": {
          "iopub.status.busy": "2022-01-19T20:18:34.852525Z",
          "iopub.execute_input": "2022-01-19T20:18:34.852934Z",
          "iopub.status.idle": "2022-01-19T20:18:34.894501Z",
          "shell.execute_reply.started": "2022-01-19T20:18:34.852883Z",
          "shell.execute_reply": "2022-01-19T20:18:34.893859Z"
        },
        "trusted": true,
        "colab": {
          "base_uri": "https://localhost:8080/",
          "height": 293
        },
        "id": "gxeqWHriY1pZ",
        "outputId": "90d80612-b4e9-4963-ead6-4fd5a5b8c1af"
      },
      "execution_count": 19,
      "outputs": [
        {
          "output_type": "stream",
          "name": "stderr",
          "text": [
            "/usr/local/lib/python3.10/dist-packages/ipykernel/ipkernel.py:283: DeprecationWarning: `should_run_async` will not call `transform_cell` automatically in the future. Please pass the result to `transformed_cell` argument and any exception that happen during thetransform in `preprocessing_exc_tuple` in IPython 7.17 and above.\n",
            "  and should_run_async(code)\n"
          ]
        },
        {
          "output_type": "execute_result",
          "data": {
            "text/plain": [
              "        count      mean       std   min     25%   50%     75%    max\n",
              "length                                                              \n",
              "1        73.0  8.864384  8.976832  2.22  3.2800  5.06  10.580  50.17\n",
              "2       252.0  4.637302  3.121391  2.21  2.7375  3.51   5.215  24.15\n",
              "3       197.0  3.484112  1.451654  2.21  2.5400  2.99   3.920  12.07\n",
              "4        43.0  2.908140  0.703607  2.27  2.4300  2.68   3.100   5.01\n",
              "5         1.0  2.280000       NaN  2.28  2.2800  2.28   2.280   2.28"
            ],
            "text/html": [
              "\n",
              "  <div id=\"df-4fd2e365-6026-4872-927e-de4760c44f03\" class=\"colab-df-container\">\n",
              "    <div>\n",
              "<style scoped>\n",
              "    .dataframe tbody tr th:only-of-type {\n",
              "        vertical-align: middle;\n",
              "    }\n",
              "\n",
              "    .dataframe tbody tr th {\n",
              "        vertical-align: top;\n",
              "    }\n",
              "\n",
              "    .dataframe thead th {\n",
              "        text-align: right;\n",
              "    }\n",
              "</style>\n",
              "<table border=\"1\" class=\"dataframe\">\n",
              "  <thead>\n",
              "    <tr style=\"text-align: right;\">\n",
              "      <th></th>\n",
              "      <th>count</th>\n",
              "      <th>mean</th>\n",
              "      <th>std</th>\n",
              "      <th>min</th>\n",
              "      <th>25%</th>\n",
              "      <th>50%</th>\n",
              "      <th>75%</th>\n",
              "      <th>max</th>\n",
              "    </tr>\n",
              "    <tr>\n",
              "      <th>length</th>\n",
              "      <th></th>\n",
              "      <th></th>\n",
              "      <th></th>\n",
              "      <th></th>\n",
              "      <th></th>\n",
              "      <th></th>\n",
              "      <th></th>\n",
              "      <th></th>\n",
              "    </tr>\n",
              "  </thead>\n",
              "  <tbody>\n",
              "    <tr>\n",
              "      <th>1</th>\n",
              "      <td>73.0</td>\n",
              "      <td>8.864384</td>\n",
              "      <td>8.976832</td>\n",
              "      <td>2.22</td>\n",
              "      <td>3.2800</td>\n",
              "      <td>5.06</td>\n",
              "      <td>10.580</td>\n",
              "      <td>50.17</td>\n",
              "    </tr>\n",
              "    <tr>\n",
              "      <th>2</th>\n",
              "      <td>252.0</td>\n",
              "      <td>4.637302</td>\n",
              "      <td>3.121391</td>\n",
              "      <td>2.21</td>\n",
              "      <td>2.7375</td>\n",
              "      <td>3.51</td>\n",
              "      <td>5.215</td>\n",
              "      <td>24.15</td>\n",
              "    </tr>\n",
              "    <tr>\n",
              "      <th>3</th>\n",
              "      <td>197.0</td>\n",
              "      <td>3.484112</td>\n",
              "      <td>1.451654</td>\n",
              "      <td>2.21</td>\n",
              "      <td>2.5400</td>\n",
              "      <td>2.99</td>\n",
              "      <td>3.920</td>\n",
              "      <td>12.07</td>\n",
              "    </tr>\n",
              "    <tr>\n",
              "      <th>4</th>\n",
              "      <td>43.0</td>\n",
              "      <td>2.908140</td>\n",
              "      <td>0.703607</td>\n",
              "      <td>2.27</td>\n",
              "      <td>2.4300</td>\n",
              "      <td>2.68</td>\n",
              "      <td>3.100</td>\n",
              "      <td>5.01</td>\n",
              "    </tr>\n",
              "    <tr>\n",
              "      <th>5</th>\n",
              "      <td>1.0</td>\n",
              "      <td>2.280000</td>\n",
              "      <td>NaN</td>\n",
              "      <td>2.28</td>\n",
              "      <td>2.2800</td>\n",
              "      <td>2.28</td>\n",
              "      <td>2.280</td>\n",
              "      <td>2.28</td>\n",
              "    </tr>\n",
              "  </tbody>\n",
              "</table>\n",
              "</div>\n",
              "    <div class=\"colab-df-buttons\">\n",
              "\n",
              "  <div class=\"colab-df-container\">\n",
              "    <button class=\"colab-df-convert\" onclick=\"convertToInteractive('df-4fd2e365-6026-4872-927e-de4760c44f03')\"\n",
              "            title=\"Convert this dataframe to an interactive table.\"\n",
              "            style=\"display:none;\">\n",
              "\n",
              "  <svg xmlns=\"http://www.w3.org/2000/svg\" height=\"24px\" viewBox=\"0 -960 960 960\">\n",
              "    <path d=\"M120-120v-720h720v720H120Zm60-500h600v-160H180v160Zm220 220h160v-160H400v160Zm0 220h160v-160H400v160ZM180-400h160v-160H180v160Zm440 0h160v-160H620v160ZM180-180h160v-160H180v160Zm440 0h160v-160H620v160Z\"/>\n",
              "  </svg>\n",
              "    </button>\n",
              "\n",
              "  <style>\n",
              "    .colab-df-container {\n",
              "      display:flex;\n",
              "      gap: 12px;\n",
              "    }\n",
              "\n",
              "    .colab-df-convert {\n",
              "      background-color: #E8F0FE;\n",
              "      border: none;\n",
              "      border-radius: 50%;\n",
              "      cursor: pointer;\n",
              "      display: none;\n",
              "      fill: #1967D2;\n",
              "      height: 32px;\n",
              "      padding: 0 0 0 0;\n",
              "      width: 32px;\n",
              "    }\n",
              "\n",
              "    .colab-df-convert:hover {\n",
              "      background-color: #E2EBFA;\n",
              "      box-shadow: 0px 1px 2px rgba(60, 64, 67, 0.3), 0px 1px 3px 1px rgba(60, 64, 67, 0.15);\n",
              "      fill: #174EA6;\n",
              "    }\n",
              "\n",
              "    .colab-df-buttons div {\n",
              "      margin-bottom: 4px;\n",
              "    }\n",
              "\n",
              "    [theme=dark] .colab-df-convert {\n",
              "      background-color: #3B4455;\n",
              "      fill: #D2E3FC;\n",
              "    }\n",
              "\n",
              "    [theme=dark] .colab-df-convert:hover {\n",
              "      background-color: #434B5C;\n",
              "      box-shadow: 0px 1px 3px 1px rgba(0, 0, 0, 0.15);\n",
              "      filter: drop-shadow(0px 1px 2px rgba(0, 0, 0, 0.3));\n",
              "      fill: #FFFFFF;\n",
              "    }\n",
              "  </style>\n",
              "\n",
              "    <script>\n",
              "      const buttonEl =\n",
              "        document.querySelector('#df-4fd2e365-6026-4872-927e-de4760c44f03 button.colab-df-convert');\n",
              "      buttonEl.style.display =\n",
              "        google.colab.kernel.accessAllowed ? 'block' : 'none';\n",
              "\n",
              "      async function convertToInteractive(key) {\n",
              "        const element = document.querySelector('#df-4fd2e365-6026-4872-927e-de4760c44f03');\n",
              "        const dataTable =\n",
              "          await google.colab.kernel.invokeFunction('convertToInteractive',\n",
              "                                                    [key], {});\n",
              "        if (!dataTable) return;\n",
              "\n",
              "        const docLinkHtml = 'Like what you see? Visit the ' +\n",
              "          '<a target=\"_blank\" href=https://colab.research.google.com/notebooks/data_table.ipynb>data table notebook</a>'\n",
              "          + ' to learn more about interactive tables.';\n",
              "        element.innerHTML = '';\n",
              "        dataTable['output_type'] = 'display_data';\n",
              "        await google.colab.output.renderOutput(dataTable, element);\n",
              "        const docLink = document.createElement('div');\n",
              "        docLink.innerHTML = docLinkHtml;\n",
              "        element.appendChild(docLink);\n",
              "      }\n",
              "    </script>\n",
              "  </div>\n",
              "\n",
              "\n",
              "<div id=\"df-643df805-92ff-4602-91fc-fb94adb3f4aa\">\n",
              "  <button class=\"colab-df-quickchart\" onclick=\"quickchart('df-643df805-92ff-4602-91fc-fb94adb3f4aa')\"\n",
              "            title=\"Suggest charts\"\n",
              "            style=\"display:none;\">\n",
              "\n",
              "<svg xmlns=\"http://www.w3.org/2000/svg\" height=\"24px\"viewBox=\"0 0 24 24\"\n",
              "     width=\"24px\">\n",
              "    <g>\n",
              "        <path d=\"M19 3H5c-1.1 0-2 .9-2 2v14c0 1.1.9 2 2 2h14c1.1 0 2-.9 2-2V5c0-1.1-.9-2-2-2zM9 17H7v-7h2v7zm4 0h-2V7h2v10zm4 0h-2v-4h2v4z\"/>\n",
              "    </g>\n",
              "</svg>\n",
              "  </button>\n",
              "\n",
              "<style>\n",
              "  .colab-df-quickchart {\n",
              "      --bg-color: #E8F0FE;\n",
              "      --fill-color: #1967D2;\n",
              "      --hover-bg-color: #E2EBFA;\n",
              "      --hover-fill-color: #174EA6;\n",
              "      --disabled-fill-color: #AAA;\n",
              "      --disabled-bg-color: #DDD;\n",
              "  }\n",
              "\n",
              "  [theme=dark] .colab-df-quickchart {\n",
              "      --bg-color: #3B4455;\n",
              "      --fill-color: #D2E3FC;\n",
              "      --hover-bg-color: #434B5C;\n",
              "      --hover-fill-color: #FFFFFF;\n",
              "      --disabled-bg-color: #3B4455;\n",
              "      --disabled-fill-color: #666;\n",
              "  }\n",
              "\n",
              "  .colab-df-quickchart {\n",
              "    background-color: var(--bg-color);\n",
              "    border: none;\n",
              "    border-radius: 50%;\n",
              "    cursor: pointer;\n",
              "    display: none;\n",
              "    fill: var(--fill-color);\n",
              "    height: 32px;\n",
              "    padding: 0;\n",
              "    width: 32px;\n",
              "  }\n",
              "\n",
              "  .colab-df-quickchart:hover {\n",
              "    background-color: var(--hover-bg-color);\n",
              "    box-shadow: 0 1px 2px rgba(60, 64, 67, 0.3), 0 1px 3px 1px rgba(60, 64, 67, 0.15);\n",
              "    fill: var(--button-hover-fill-color);\n",
              "  }\n",
              "\n",
              "  .colab-df-quickchart-complete:disabled,\n",
              "  .colab-df-quickchart-complete:disabled:hover {\n",
              "    background-color: var(--disabled-bg-color);\n",
              "    fill: var(--disabled-fill-color);\n",
              "    box-shadow: none;\n",
              "  }\n",
              "\n",
              "  .colab-df-spinner {\n",
              "    border: 2px solid var(--fill-color);\n",
              "    border-color: transparent;\n",
              "    border-bottom-color: var(--fill-color);\n",
              "    animation:\n",
              "      spin 1s steps(1) infinite;\n",
              "  }\n",
              "\n",
              "  @keyframes spin {\n",
              "    0% {\n",
              "      border-color: transparent;\n",
              "      border-bottom-color: var(--fill-color);\n",
              "      border-left-color: var(--fill-color);\n",
              "    }\n",
              "    20% {\n",
              "      border-color: transparent;\n",
              "      border-left-color: var(--fill-color);\n",
              "      border-top-color: var(--fill-color);\n",
              "    }\n",
              "    30% {\n",
              "      border-color: transparent;\n",
              "      border-left-color: var(--fill-color);\n",
              "      border-top-color: var(--fill-color);\n",
              "      border-right-color: var(--fill-color);\n",
              "    }\n",
              "    40% {\n",
              "      border-color: transparent;\n",
              "      border-right-color: var(--fill-color);\n",
              "      border-top-color: var(--fill-color);\n",
              "    }\n",
              "    60% {\n",
              "      border-color: transparent;\n",
              "      border-right-color: var(--fill-color);\n",
              "    }\n",
              "    80% {\n",
              "      border-color: transparent;\n",
              "      border-right-color: var(--fill-color);\n",
              "      border-bottom-color: var(--fill-color);\n",
              "    }\n",
              "    90% {\n",
              "      border-color: transparent;\n",
              "      border-bottom-color: var(--fill-color);\n",
              "    }\n",
              "  }\n",
              "</style>\n",
              "\n",
              "  <script>\n",
              "    async function quickchart(key) {\n",
              "      const quickchartButtonEl =\n",
              "        document.querySelector('#' + key + ' button');\n",
              "      quickchartButtonEl.disabled = true;  // To prevent multiple clicks.\n",
              "      quickchartButtonEl.classList.add('colab-df-spinner');\n",
              "      try {\n",
              "        const charts = await google.colab.kernel.invokeFunction(\n",
              "            'suggestCharts', [key], {});\n",
              "      } catch (error) {\n",
              "        console.error('Error during call to suggestCharts:', error);\n",
              "      }\n",
              "      quickchartButtonEl.classList.remove('colab-df-spinner');\n",
              "      quickchartButtonEl.classList.add('colab-df-quickchart-complete');\n",
              "    }\n",
              "    (() => {\n",
              "      let quickchartButtonEl =\n",
              "        document.querySelector('#df-643df805-92ff-4602-91fc-fb94adb3f4aa button');\n",
              "      quickchartButtonEl.style.display =\n",
              "        google.colab.kernel.accessAllowed ? 'block' : 'none';\n",
              "    })();\n",
              "  </script>\n",
              "</div>\n",
              "    </div>\n",
              "  </div>\n"
            ]
          },
          "metadata": {},
          "execution_count": 19
        }
      ]
    },
    {
      "cell_type": "markdown",
      "source": [
        "As we can see, 50% of orders have rice pilau and 39.78% have simple papadum and other information is 24.15% of orders have simple papadum and rice pilau in the same order and 19.2% have simple papadum, mango chutney. In addition, 2.28% of orders have simple papadum, onion chutney, mango chutney, mint sauce, rice pilau as items."
      ],
      "metadata": {
        "id": "jTj4ou44Y1pZ"
      }
    },
    {
      "cell_type": "code",
      "source": [
        "top_20_frequence = frequent_itemsets_plot.sort_values('support',ascending=False).head(20).sort_values('support')\n",
        "fig = px.bar(top_20_frequence, x=\"support\", y=\"itemsets\", orientation='h', text='support')\n",
        "fig.update_traces(textposition=\"outside\")\n",
        "fig.show()"
      ],
      "metadata": {
        "execution": {
          "iopub.status.busy": "2022-01-19T20:18:47.433109Z",
          "iopub.execute_input": "2022-01-19T20:18:47.433422Z",
          "iopub.status.idle": "2022-01-19T20:18:47.510647Z",
          "shell.execute_reply.started": "2022-01-19T20:18:47.433392Z",
          "shell.execute_reply": "2022-01-19T20:18:47.50982Z"
        },
        "trusted": true,
        "colab": {
          "base_uri": "https://localhost:8080/",
          "height": 597
        },
        "id": "ndRK7PpVY1pZ",
        "outputId": "83072765-681f-4675-b485-659dc5dea5a5"
      },
      "execution_count": 20,
      "outputs": [
        {
          "output_type": "stream",
          "name": "stderr",
          "text": [
            "/usr/local/lib/python3.10/dist-packages/ipykernel/ipkernel.py:283: DeprecationWarning: `should_run_async` will not call `transform_cell` automatically in the future. Please pass the result to `transformed_cell` argument and any exception that happen during thetransform in `preprocessing_exc_tuple` in IPython 7.17 and above.\n",
            "  and should_run_async(code)\n"
          ]
        },
        {
          "output_type": "display_data",
          "data": {
            "text/html": [
              "<html>\n",
              "<head><meta charset=\"utf-8\" /></head>\n",
              "<body>\n",
              "    <div>            <script src=\"https://cdnjs.cloudflare.com/ajax/libs/mathjax/2.7.5/MathJax.js?config=TeX-AMS-MML_SVG\"></script><script type=\"text/javascript\">if (window.MathJax && window.MathJax.Hub && window.MathJax.Hub.Config) {window.MathJax.Hub.Config({SVG: {font: \"STIX-Web\"}});}</script>                <script type=\"text/javascript\">window.PlotlyConfig = {MathJaxConfig: 'local'};</script>\n",
              "        <script charset=\"utf-8\" src=\"https://cdn.plot.ly/plotly-2.24.1.min.js\"></script>                <div id=\"655dac3a-af7f-4b4a-8cb5-b143ac042333\" class=\"plotly-graph-div\" style=\"height:525px; width:100%;\"></div>            <script type=\"text/javascript\">                                    window.PLOTLYENV=window.PLOTLYENV || {};                                    if (document.getElementById(\"655dac3a-af7f-4b4a-8cb5-b143ac042333\")) {                    Plotly.newPlot(                        \"655dac3a-af7f-4b4a-8cb5-b143ac042333\",                        [{\"alignmentgroup\":\"True\",\"hovertemplate\":\"support=%{text}\\u003cbr\\u003eitemsets=%{y}\\u003cextra\\u003e\\u003c\\u002fextra\\u003e\",\"legendgroup\":\"\",\"marker\":{\"color\":\"#636efa\",\"pattern\":{\"shape\":\"\"}},\"name\":\"\",\"offsetgroup\":\"\",\"orientation\":\"h\",\"showlegend\":false,\"text\":[15.12,15.38,15.58,15.67,15.84,16.04,16.28,16.62,17.76,18.42,19.2,21.3,22.78,23.12,24.15,24.35,26.67,28.99,39.78,50.17],\"textposition\":\"outside\",\"x\":[15.12,15.38,15.58,15.67,15.84,16.04,16.28,16.62,17.76,18.42,19.2,21.3,22.78,23.12,24.15,24.35,26.67,28.99,39.78,50.17],\"xaxis\":\"x\",\"y\":[\"bombay aloo, pilau rice\",\"garlic naan, pilau rice\",\"peshwari naan\",\"onion bhaji\",\"chicken tikka masala, pilau rice\",\"keema naan\",\"plain naan\",\"mint sauce\",\"naan, pilau rice\",\"mushroom rice\",\"plain papadum, mango chutney\",\"plain rice\",\"mango chutney\",\"chicken tikka masala\",\"plain papadum, pilau rice\",\"bombay aloo\",\"garlic naan\",\"naan\",\"plain papadum\",\"pilau rice\"],\"yaxis\":\"y\",\"type\":\"bar\"}],                        {\"template\":{\"data\":{\"histogram2dcontour\":[{\"type\":\"histogram2dcontour\",\"colorbar\":{\"outlinewidth\":0,\"ticks\":\"\"},\"colorscale\":[[0.0,\"#0d0887\"],[0.1111111111111111,\"#46039f\"],[0.2222222222222222,\"#7201a8\"],[0.3333333333333333,\"#9c179e\"],[0.4444444444444444,\"#bd3786\"],[0.5555555555555556,\"#d8576b\"],[0.6666666666666666,\"#ed7953\"],[0.7777777777777778,\"#fb9f3a\"],[0.8888888888888888,\"#fdca26\"],[1.0,\"#f0f921\"]]}],\"choropleth\":[{\"type\":\"choropleth\",\"colorbar\":{\"outlinewidth\":0,\"ticks\":\"\"}}],\"histogram2d\":[{\"type\":\"histogram2d\",\"colorbar\":{\"outlinewidth\":0,\"ticks\":\"\"},\"colorscale\":[[0.0,\"#0d0887\"],[0.1111111111111111,\"#46039f\"],[0.2222222222222222,\"#7201a8\"],[0.3333333333333333,\"#9c179e\"],[0.4444444444444444,\"#bd3786\"],[0.5555555555555556,\"#d8576b\"],[0.6666666666666666,\"#ed7953\"],[0.7777777777777778,\"#fb9f3a\"],[0.8888888888888888,\"#fdca26\"],[1.0,\"#f0f921\"]]}],\"heatmap\":[{\"type\":\"heatmap\",\"colorbar\":{\"outlinewidth\":0,\"ticks\":\"\"},\"colorscale\":[[0.0,\"#0d0887\"],[0.1111111111111111,\"#46039f\"],[0.2222222222222222,\"#7201a8\"],[0.3333333333333333,\"#9c179e\"],[0.4444444444444444,\"#bd3786\"],[0.5555555555555556,\"#d8576b\"],[0.6666666666666666,\"#ed7953\"],[0.7777777777777778,\"#fb9f3a\"],[0.8888888888888888,\"#fdca26\"],[1.0,\"#f0f921\"]]}],\"heatmapgl\":[{\"type\":\"heatmapgl\",\"colorbar\":{\"outlinewidth\":0,\"ticks\":\"\"},\"colorscale\":[[0.0,\"#0d0887\"],[0.1111111111111111,\"#46039f\"],[0.2222222222222222,\"#7201a8\"],[0.3333333333333333,\"#9c179e\"],[0.4444444444444444,\"#bd3786\"],[0.5555555555555556,\"#d8576b\"],[0.6666666666666666,\"#ed7953\"],[0.7777777777777778,\"#fb9f3a\"],[0.8888888888888888,\"#fdca26\"],[1.0,\"#f0f921\"]]}],\"contourcarpet\":[{\"type\":\"contourcarpet\",\"colorbar\":{\"outlinewidth\":0,\"ticks\":\"\"}}],\"contour\":[{\"type\":\"contour\",\"colorbar\":{\"outlinewidth\":0,\"ticks\":\"\"},\"colorscale\":[[0.0,\"#0d0887\"],[0.1111111111111111,\"#46039f\"],[0.2222222222222222,\"#7201a8\"],[0.3333333333333333,\"#9c179e\"],[0.4444444444444444,\"#bd3786\"],[0.5555555555555556,\"#d8576b\"],[0.6666666666666666,\"#ed7953\"],[0.7777777777777778,\"#fb9f3a\"],[0.8888888888888888,\"#fdca26\"],[1.0,\"#f0f921\"]]}],\"surface\":[{\"type\":\"surface\",\"colorbar\":{\"outlinewidth\":0,\"ticks\":\"\"},\"colorscale\":[[0.0,\"#0d0887\"],[0.1111111111111111,\"#46039f\"],[0.2222222222222222,\"#7201a8\"],[0.3333333333333333,\"#9c179e\"],[0.4444444444444444,\"#bd3786\"],[0.5555555555555556,\"#d8576b\"],[0.6666666666666666,\"#ed7953\"],[0.7777777777777778,\"#fb9f3a\"],[0.8888888888888888,\"#fdca26\"],[1.0,\"#f0f921\"]]}],\"mesh3d\":[{\"type\":\"mesh3d\",\"colorbar\":{\"outlinewidth\":0,\"ticks\":\"\"}}],\"scatter\":[{\"fillpattern\":{\"fillmode\":\"overlay\",\"size\":10,\"solidity\":0.2},\"type\":\"scatter\"}],\"parcoords\":[{\"type\":\"parcoords\",\"line\":{\"colorbar\":{\"outlinewidth\":0,\"ticks\":\"\"}}}],\"scatterpolargl\":[{\"type\":\"scatterpolargl\",\"marker\":{\"colorbar\":{\"outlinewidth\":0,\"ticks\":\"\"}}}],\"bar\":[{\"error_x\":{\"color\":\"#2a3f5f\"},\"error_y\":{\"color\":\"#2a3f5f\"},\"marker\":{\"line\":{\"color\":\"#E5ECF6\",\"width\":0.5},\"pattern\":{\"fillmode\":\"overlay\",\"size\":10,\"solidity\":0.2}},\"type\":\"bar\"}],\"scattergeo\":[{\"type\":\"scattergeo\",\"marker\":{\"colorbar\":{\"outlinewidth\":0,\"ticks\":\"\"}}}],\"scatterpolar\":[{\"type\":\"scatterpolar\",\"marker\":{\"colorbar\":{\"outlinewidth\":0,\"ticks\":\"\"}}}],\"histogram\":[{\"marker\":{\"pattern\":{\"fillmode\":\"overlay\",\"size\":10,\"solidity\":0.2}},\"type\":\"histogram\"}],\"scattergl\":[{\"type\":\"scattergl\",\"marker\":{\"colorbar\":{\"outlinewidth\":0,\"ticks\":\"\"}}}],\"scatter3d\":[{\"type\":\"scatter3d\",\"line\":{\"colorbar\":{\"outlinewidth\":0,\"ticks\":\"\"}},\"marker\":{\"colorbar\":{\"outlinewidth\":0,\"ticks\":\"\"}}}],\"scattermapbox\":[{\"type\":\"scattermapbox\",\"marker\":{\"colorbar\":{\"outlinewidth\":0,\"ticks\":\"\"}}}],\"scatterternary\":[{\"type\":\"scatterternary\",\"marker\":{\"colorbar\":{\"outlinewidth\":0,\"ticks\":\"\"}}}],\"scattercarpet\":[{\"type\":\"scattercarpet\",\"marker\":{\"colorbar\":{\"outlinewidth\":0,\"ticks\":\"\"}}}],\"carpet\":[{\"aaxis\":{\"endlinecolor\":\"#2a3f5f\",\"gridcolor\":\"white\",\"linecolor\":\"white\",\"minorgridcolor\":\"white\",\"startlinecolor\":\"#2a3f5f\"},\"baxis\":{\"endlinecolor\":\"#2a3f5f\",\"gridcolor\":\"white\",\"linecolor\":\"white\",\"minorgridcolor\":\"white\",\"startlinecolor\":\"#2a3f5f\"},\"type\":\"carpet\"}],\"table\":[{\"cells\":{\"fill\":{\"color\":\"#EBF0F8\"},\"line\":{\"color\":\"white\"}},\"header\":{\"fill\":{\"color\":\"#C8D4E3\"},\"line\":{\"color\":\"white\"}},\"type\":\"table\"}],\"barpolar\":[{\"marker\":{\"line\":{\"color\":\"#E5ECF6\",\"width\":0.5},\"pattern\":{\"fillmode\":\"overlay\",\"size\":10,\"solidity\":0.2}},\"type\":\"barpolar\"}],\"pie\":[{\"automargin\":true,\"type\":\"pie\"}]},\"layout\":{\"autotypenumbers\":\"strict\",\"colorway\":[\"#636efa\",\"#EF553B\",\"#00cc96\",\"#ab63fa\",\"#FFA15A\",\"#19d3f3\",\"#FF6692\",\"#B6E880\",\"#FF97FF\",\"#FECB52\"],\"font\":{\"color\":\"#2a3f5f\"},\"hovermode\":\"closest\",\"hoverlabel\":{\"align\":\"left\"},\"paper_bgcolor\":\"white\",\"plot_bgcolor\":\"#E5ECF6\",\"polar\":{\"bgcolor\":\"#E5ECF6\",\"angularaxis\":{\"gridcolor\":\"white\",\"linecolor\":\"white\",\"ticks\":\"\"},\"radialaxis\":{\"gridcolor\":\"white\",\"linecolor\":\"white\",\"ticks\":\"\"}},\"ternary\":{\"bgcolor\":\"#E5ECF6\",\"aaxis\":{\"gridcolor\":\"white\",\"linecolor\":\"white\",\"ticks\":\"\"},\"baxis\":{\"gridcolor\":\"white\",\"linecolor\":\"white\",\"ticks\":\"\"},\"caxis\":{\"gridcolor\":\"white\",\"linecolor\":\"white\",\"ticks\":\"\"}},\"coloraxis\":{\"colorbar\":{\"outlinewidth\":0,\"ticks\":\"\"}},\"colorscale\":{\"sequential\":[[0.0,\"#0d0887\"],[0.1111111111111111,\"#46039f\"],[0.2222222222222222,\"#7201a8\"],[0.3333333333333333,\"#9c179e\"],[0.4444444444444444,\"#bd3786\"],[0.5555555555555556,\"#d8576b\"],[0.6666666666666666,\"#ed7953\"],[0.7777777777777778,\"#fb9f3a\"],[0.8888888888888888,\"#fdca26\"],[1.0,\"#f0f921\"]],\"sequentialminus\":[[0.0,\"#0d0887\"],[0.1111111111111111,\"#46039f\"],[0.2222222222222222,\"#7201a8\"],[0.3333333333333333,\"#9c179e\"],[0.4444444444444444,\"#bd3786\"],[0.5555555555555556,\"#d8576b\"],[0.6666666666666666,\"#ed7953\"],[0.7777777777777778,\"#fb9f3a\"],[0.8888888888888888,\"#fdca26\"],[1.0,\"#f0f921\"]],\"diverging\":[[0,\"#8e0152\"],[0.1,\"#c51b7d\"],[0.2,\"#de77ae\"],[0.3,\"#f1b6da\"],[0.4,\"#fde0ef\"],[0.5,\"#f7f7f7\"],[0.6,\"#e6f5d0\"],[0.7,\"#b8e186\"],[0.8,\"#7fbc41\"],[0.9,\"#4d9221\"],[1,\"#276419\"]]},\"xaxis\":{\"gridcolor\":\"white\",\"linecolor\":\"white\",\"ticks\":\"\",\"title\":{\"standoff\":15},\"zerolinecolor\":\"white\",\"automargin\":true,\"zerolinewidth\":2},\"yaxis\":{\"gridcolor\":\"white\",\"linecolor\":\"white\",\"ticks\":\"\",\"title\":{\"standoff\":15},\"zerolinecolor\":\"white\",\"automargin\":true,\"zerolinewidth\":2},\"scene\":{\"xaxis\":{\"backgroundcolor\":\"#E5ECF6\",\"gridcolor\":\"white\",\"linecolor\":\"white\",\"showbackground\":true,\"ticks\":\"\",\"zerolinecolor\":\"white\",\"gridwidth\":2},\"yaxis\":{\"backgroundcolor\":\"#E5ECF6\",\"gridcolor\":\"white\",\"linecolor\":\"white\",\"showbackground\":true,\"ticks\":\"\",\"zerolinecolor\":\"white\",\"gridwidth\":2},\"zaxis\":{\"backgroundcolor\":\"#E5ECF6\",\"gridcolor\":\"white\",\"linecolor\":\"white\",\"showbackground\":true,\"ticks\":\"\",\"zerolinecolor\":\"white\",\"gridwidth\":2}},\"shapedefaults\":{\"line\":{\"color\":\"#2a3f5f\"}},\"annotationdefaults\":{\"arrowcolor\":\"#2a3f5f\",\"arrowhead\":0,\"arrowwidth\":1},\"geo\":{\"bgcolor\":\"white\",\"landcolor\":\"#E5ECF6\",\"subunitcolor\":\"white\",\"showland\":true,\"showlakes\":true,\"lakecolor\":\"white\"},\"title\":{\"x\":0.05},\"mapbox\":{\"style\":\"light\"}}},\"xaxis\":{\"anchor\":\"y\",\"domain\":[0.0,1.0],\"title\":{\"text\":\"support\"}},\"yaxis\":{\"anchor\":\"x\",\"domain\":[0.0,1.0],\"title\":{\"text\":\"itemsets\"}},\"legend\":{\"tracegroupgap\":0},\"margin\":{\"t\":60},\"barmode\":\"relative\"},                        {\"responsive\": true}                    ).then(function(){\n",
              "                            \n",
              "var gd = document.getElementById('655dac3a-af7f-4b4a-8cb5-b143ac042333');\n",
              "var x = new MutationObserver(function (mutations, observer) {{\n",
              "        var display = window.getComputedStyle(gd).display;\n",
              "        if (!display || display === 'none') {{\n",
              "            console.log([gd, 'removed!']);\n",
              "            Plotly.purge(gd);\n",
              "            observer.disconnect();\n",
              "        }}\n",
              "}});\n",
              "\n",
              "// Listen for the removal of the full notebook cells\n",
              "var notebookContainer = gd.closest('#notebook-container');\n",
              "if (notebookContainer) {{\n",
              "    x.observe(notebookContainer, {childList: true});\n",
              "}}\n",
              "\n",
              "// Listen for the clearing of the current output cell\n",
              "var outputEl = gd.closest('.output');\n",
              "if (outputEl) {{\n",
              "    x.observe(outputEl, {childList: true});\n",
              "}}\n",
              "\n",
              "                        })                };                            </script>        </div>\n",
              "</body>\n",
              "</html>"
            ]
          },
          "metadata": {}
        }
      ]
    },
    {
      "cell_type": "markdown",
      "source": [
        "We filter an lift equal to 1 to get only rules that have a probability of buying the antecedents and consequents in the same order. As we can see, we have a high probability of recomedations if the customer buys an item. For example, we have 174 possibilities of recommendations if the customer buys a plain papadum."
      ],
      "metadata": {
        "id": "v3ns7Nm_Y1pZ"
      }
    },
    {
      "cell_type": "code",
      "source": [
        "market_basket_rules = association_rules(frequent_itemsets, metric=\"lift\", min_threshold=1)\n",
        "market_basket_rules.groupby('antecedents').size().sort_values(ascending=False)"
      ],
      "metadata": {
        "execution": {
          "iopub.status.busy": "2022-01-19T20:18:34.977885Z",
          "iopub.execute_input": "2022-01-19T20:18:34.979011Z",
          "iopub.status.idle": "2022-01-19T20:18:35.015991Z",
          "shell.execute_reply.started": "2022-01-19T20:18:34.978959Z",
          "shell.execute_reply": "2022-01-19T20:18:35.015307Z"
        },
        "trusted": true,
        "colab": {
          "base_uri": "https://localhost:8080/"
        },
        "id": "FF34yvSiY1pZ",
        "outputId": "ff017256-cf5c-42ef-a2ea-e48f1eb7c7d8"
      },
      "execution_count": 21,
      "outputs": [
        {
          "output_type": "stream",
          "name": "stderr",
          "text": [
            "/usr/local/lib/python3.10/dist-packages/ipykernel/ipkernel.py:283: DeprecationWarning:\n",
            "\n",
            "`should_run_async` will not call `transform_cell` automatically in the future. Please pass the result to `transformed_cell` argument and any exception that happen during thetransform in `preprocessing_exc_tuple` in IPython 7.17 and above.\n",
            "\n"
          ]
        },
        {
          "output_type": "execute_result",
          "data": {
            "text/plain": [
              "antecedents\n",
              "(plain papadum)                                           174\n",
              "(pilau rice)                                              166\n",
              "(mango chutney)                                           105\n",
              "(naan)                                                     71\n",
              "(mint sauce)                                               70\n",
              "                                                         ... \n",
              "(garlic naan, mint sauce, pilau rice)                       1\n",
              "(mango chutney, garlic naan, pilau rice)                    1\n",
              "(garlic naan, mint sauce, mango chutney)                    1\n",
              "(plain papadum, keema naan, mango chutney)                  1\n",
              "(plain papadum, onion chutney, mint sauce, pilau rice)      1\n",
              "Length: 285, dtype: int64"
            ]
          },
          "metadata": {},
          "execution_count": 21
        }
      ]
    },
    {
      "cell_type": "markdown",
      "source": [
        "<a id='item_recommendation'></a>\n",
        "### Item Recommendation\n",
        "\n",
        "To filter the best recommendations we will use the highest confidence value for each antecedent. We ran with the top 20 most frequent items and got some recommendations:\n",
        "\n",
        "* 4.44% (confidence) of those who buys pilau rice, buys paratha as well;\n",
        "* If one buys garlic naan, it's likely that one has also bought plain papadum with saag aloo. This way, it is possible to create a bundle with these items and apply a discount;\n",
        "* If one buys pilau rice with chicken tikka masala it's likely that one has also bought madras. This way, it is possible apply discount in the madras."
      ],
      "metadata": {
        "id": "mOPmdWRnY1pZ"
      }
    },
    {
      "cell_type": "code",
      "source": [
        "best_item_recommendations = market_basket_rules.sort_values(['confidence','lift'],ascending=False).drop_duplicates(subset=['antecedents'])\n",
        "top_20_frequence_items = frequent_itemsets.sort_values('support',ascending=False).head(20)['itemsets']\n",
        "best_item_recommendations[best_item_recommendations['antecedents'].isin(top_20_frequence_items)]"
      ],
      "metadata": {
        "execution": {
          "iopub.status.busy": "2022-01-19T20:18:35.017019Z",
          "iopub.execute_input": "2022-01-19T20:18:35.017935Z",
          "iopub.status.idle": "2022-01-19T20:18:35.065031Z",
          "shell.execute_reply.started": "2022-01-19T20:18:35.0179Z",
          "shell.execute_reply": "2022-01-19T20:18:35.064031Z"
        },
        "trusted": true,
        "colab": {
          "base_uri": "https://localhost:8080/",
          "height": 1000
        },
        "id": "rAdJWZf5Y1pZ",
        "outputId": "3375179a-eef4-4f25-a48d-9021c59e7ead"
      },
      "execution_count": 22,
      "outputs": [
        {
          "output_type": "stream",
          "name": "stderr",
          "text": [
            "/usr/local/lib/python3.10/dist-packages/ipykernel/ipkernel.py:283: DeprecationWarning:\n",
            "\n",
            "`should_run_async` will not call `transform_cell` automatically in the future. Please pass the result to `transformed_cell` argument and any exception that happen during thetransform in `preprocessing_exc_tuple` in IPython 7.17 and above.\n",
            "\n"
          ]
        },
        {
          "output_type": "execute_result",
          "data": {
            "text/plain": [
              "                             antecedents      consequents  antecedent support  \\\n",
              "303                      (mango chutney)  (plain papadum)            0.227811   \n",
              "341                         (mint sauce)  (plain papadum)            0.166225   \n",
              "134               (chicken tikka masala)     (pilau rice)            0.231197   \n",
              "418                         (plain naan)     (pilau rice)            0.162840   \n",
              "1283      (plain papadum, mango chutney)     (pilau rice)            0.192006   \n",
              "38                         (bombay aloo)     (pilau rice)            0.243522   \n",
              "408                      (peshwari naan)     (pilau rice)            0.155766   \n",
              "368                               (naan)     (pilau rice)            0.289875   \n",
              "214                         (keema naan)     (pilau rice)            0.160410   \n",
              "420                      (plain papadum)     (pilau rice)            0.397813   \n",
              "184                        (garlic naan)     (pilau rice)            0.266655   \n",
              "392                        (onion bhaji)     (pilau rice)            0.156721   \n",
              "849   (chicken tikka masala, pilau rice)  (plain papadum)            0.158413   \n",
              "1478                  (naan, pilau rice)  (plain papadum)            0.177640   \n",
              "616            (bombay aloo, pilau rice)  (plain papadum)            0.151165   \n",
              "984            (garlic naan, pilau rice)  (plain papadum)            0.153769   \n",
              "1282         (plain papadum, pilau rice)  (mango chutney)            0.241526   \n",
              "439                         (plain rice)  (plain papadum)            0.213012   \n",
              "421                         (pilau rice)  (plain papadum)            0.501714   \n",
              "361                      (mushroom rice)  (plain papadum)            0.184193   \n",
              "\n",
              "      consequent support   support  confidence      lift  leverage  \\\n",
              "303             0.397813  0.192006    0.842827  2.118654  0.101379   \n",
              "341             0.397813  0.133414    0.802611  2.017560  0.067288   \n",
              "134             0.501714  0.158413    0.685189  1.365695  0.042419   \n",
              "418             0.501714  0.103728    0.636994  1.269634  0.022029   \n",
              "1283            0.501714  0.120698    0.628617  1.252937  0.024366   \n",
              "38              0.501714  0.151165    0.620745  1.237248  0.028987   \n",
              "408             0.501714  0.096480    0.619393  1.234552  0.018330   \n",
              "368             0.501714  0.177640    0.612816  1.221445  0.032206   \n",
              "214             0.501714  0.097956    0.610660  1.217147  0.017476   \n",
              "420             0.501714  0.241526    0.607135  1.210121  0.041938   \n",
              "184             0.501714  0.153769    0.576660  1.149379  0.019985   \n",
              "392             0.501714  0.085239    0.543894  1.084070  0.006610   \n",
              "849             0.397813  0.082245    0.519178  1.305082  0.019226   \n",
              "1478            0.397813  0.091142    0.513071  1.289731  0.020475   \n",
              "616             0.397813  0.077080    0.509905  1.281773  0.016945   \n",
              "984             0.397813  0.078252    0.508891  1.279222  0.017080   \n",
              "1282            0.227811  0.120698    0.499730  2.193616  0.065676   \n",
              "439             0.397813  0.104075    0.488590  1.228192  0.019337   \n",
              "421             0.397813  0.241526    0.481401  1.210121  0.041938   \n",
              "361             0.397813  0.082158    0.446041  1.121235  0.008883   \n",
              "\n",
              "      conviction  zhangs_metric  \n",
              "303     3.831372       0.683774  \n",
              "341     3.050764       0.604902  \n",
              "134     1.582807       0.348297  \n",
              "418     1.372664       0.253681  \n",
              "1283    1.341702       0.249848  \n",
              "38      1.313854       0.253483  \n",
              "408     1.309185       0.225044  \n",
              "368     1.286949       0.255303  \n",
              "214     1.279822       0.212493  \n",
              "420     1.268338       0.288343  \n",
              "184     1.177035       0.177223  \n",
              "392     1.092477       0.091963  \n",
              "849     1.252413       0.277767  \n",
              "1478    1.236705       0.273170  \n",
              "616     1.228716       0.258979  \n",
              "984     1.226178       0.257938  \n",
              "1282    1.543545       0.717403  \n",
              "439     1.177504       0.236083  \n",
              "421     1.161182       0.348468  \n",
              "361     1.087062       0.132539  "
            ],
            "text/html": [
              "\n",
              "  <div id=\"df-5d5deff0-b387-4282-b014-0e6c692f0241\" class=\"colab-df-container\">\n",
              "    <div>\n",
              "<style scoped>\n",
              "    .dataframe tbody tr th:only-of-type {\n",
              "        vertical-align: middle;\n",
              "    }\n",
              "\n",
              "    .dataframe tbody tr th {\n",
              "        vertical-align: top;\n",
              "    }\n",
              "\n",
              "    .dataframe thead th {\n",
              "        text-align: right;\n",
              "    }\n",
              "</style>\n",
              "<table border=\"1\" class=\"dataframe\">\n",
              "  <thead>\n",
              "    <tr style=\"text-align: right;\">\n",
              "      <th></th>\n",
              "      <th>antecedents</th>\n",
              "      <th>consequents</th>\n",
              "      <th>antecedent support</th>\n",
              "      <th>consequent support</th>\n",
              "      <th>support</th>\n",
              "      <th>confidence</th>\n",
              "      <th>lift</th>\n",
              "      <th>leverage</th>\n",
              "      <th>conviction</th>\n",
              "      <th>zhangs_metric</th>\n",
              "    </tr>\n",
              "  </thead>\n",
              "  <tbody>\n",
              "    <tr>\n",
              "      <th>303</th>\n",
              "      <td>(mango chutney)</td>\n",
              "      <td>(plain papadum)</td>\n",
              "      <td>0.227811</td>\n",
              "      <td>0.397813</td>\n",
              "      <td>0.192006</td>\n",
              "      <td>0.842827</td>\n",
              "      <td>2.118654</td>\n",
              "      <td>0.101379</td>\n",
              "      <td>3.831372</td>\n",
              "      <td>0.683774</td>\n",
              "    </tr>\n",
              "    <tr>\n",
              "      <th>341</th>\n",
              "      <td>(mint sauce)</td>\n",
              "      <td>(plain papadum)</td>\n",
              "      <td>0.166225</td>\n",
              "      <td>0.397813</td>\n",
              "      <td>0.133414</td>\n",
              "      <td>0.802611</td>\n",
              "      <td>2.017560</td>\n",
              "      <td>0.067288</td>\n",
              "      <td>3.050764</td>\n",
              "      <td>0.604902</td>\n",
              "    </tr>\n",
              "    <tr>\n",
              "      <th>134</th>\n",
              "      <td>(chicken tikka masala)</td>\n",
              "      <td>(pilau rice)</td>\n",
              "      <td>0.231197</td>\n",
              "      <td>0.501714</td>\n",
              "      <td>0.158413</td>\n",
              "      <td>0.685189</td>\n",
              "      <td>1.365695</td>\n",
              "      <td>0.042419</td>\n",
              "      <td>1.582807</td>\n",
              "      <td>0.348297</td>\n",
              "    </tr>\n",
              "    <tr>\n",
              "      <th>418</th>\n",
              "      <td>(plain naan)</td>\n",
              "      <td>(pilau rice)</td>\n",
              "      <td>0.162840</td>\n",
              "      <td>0.501714</td>\n",
              "      <td>0.103728</td>\n",
              "      <td>0.636994</td>\n",
              "      <td>1.269634</td>\n",
              "      <td>0.022029</td>\n",
              "      <td>1.372664</td>\n",
              "      <td>0.253681</td>\n",
              "    </tr>\n",
              "    <tr>\n",
              "      <th>1283</th>\n",
              "      <td>(plain papadum, mango chutney)</td>\n",
              "      <td>(pilau rice)</td>\n",
              "      <td>0.192006</td>\n",
              "      <td>0.501714</td>\n",
              "      <td>0.120698</td>\n",
              "      <td>0.628617</td>\n",
              "      <td>1.252937</td>\n",
              "      <td>0.024366</td>\n",
              "      <td>1.341702</td>\n",
              "      <td>0.249848</td>\n",
              "    </tr>\n",
              "    <tr>\n",
              "      <th>38</th>\n",
              "      <td>(bombay aloo)</td>\n",
              "      <td>(pilau rice)</td>\n",
              "      <td>0.243522</td>\n",
              "      <td>0.501714</td>\n",
              "      <td>0.151165</td>\n",
              "      <td>0.620745</td>\n",
              "      <td>1.237248</td>\n",
              "      <td>0.028987</td>\n",
              "      <td>1.313854</td>\n",
              "      <td>0.253483</td>\n",
              "    </tr>\n",
              "    <tr>\n",
              "      <th>408</th>\n",
              "      <td>(peshwari naan)</td>\n",
              "      <td>(pilau rice)</td>\n",
              "      <td>0.155766</td>\n",
              "      <td>0.501714</td>\n",
              "      <td>0.096480</td>\n",
              "      <td>0.619393</td>\n",
              "      <td>1.234552</td>\n",
              "      <td>0.018330</td>\n",
              "      <td>1.309185</td>\n",
              "      <td>0.225044</td>\n",
              "    </tr>\n",
              "    <tr>\n",
              "      <th>368</th>\n",
              "      <td>(naan)</td>\n",
              "      <td>(pilau rice)</td>\n",
              "      <td>0.289875</td>\n",
              "      <td>0.501714</td>\n",
              "      <td>0.177640</td>\n",
              "      <td>0.612816</td>\n",
              "      <td>1.221445</td>\n",
              "      <td>0.032206</td>\n",
              "      <td>1.286949</td>\n",
              "      <td>0.255303</td>\n",
              "    </tr>\n",
              "    <tr>\n",
              "      <th>214</th>\n",
              "      <td>(keema naan)</td>\n",
              "      <td>(pilau rice)</td>\n",
              "      <td>0.160410</td>\n",
              "      <td>0.501714</td>\n",
              "      <td>0.097956</td>\n",
              "      <td>0.610660</td>\n",
              "      <td>1.217147</td>\n",
              "      <td>0.017476</td>\n",
              "      <td>1.279822</td>\n",
              "      <td>0.212493</td>\n",
              "    </tr>\n",
              "    <tr>\n",
              "      <th>420</th>\n",
              "      <td>(plain papadum)</td>\n",
              "      <td>(pilau rice)</td>\n",
              "      <td>0.397813</td>\n",
              "      <td>0.501714</td>\n",
              "      <td>0.241526</td>\n",
              "      <td>0.607135</td>\n",
              "      <td>1.210121</td>\n",
              "      <td>0.041938</td>\n",
              "      <td>1.268338</td>\n",
              "      <td>0.288343</td>\n",
              "    </tr>\n",
              "    <tr>\n",
              "      <th>184</th>\n",
              "      <td>(garlic naan)</td>\n",
              "      <td>(pilau rice)</td>\n",
              "      <td>0.266655</td>\n",
              "      <td>0.501714</td>\n",
              "      <td>0.153769</td>\n",
              "      <td>0.576660</td>\n",
              "      <td>1.149379</td>\n",
              "      <td>0.019985</td>\n",
              "      <td>1.177035</td>\n",
              "      <td>0.177223</td>\n",
              "    </tr>\n",
              "    <tr>\n",
              "      <th>392</th>\n",
              "      <td>(onion bhaji)</td>\n",
              "      <td>(pilau rice)</td>\n",
              "      <td>0.156721</td>\n",
              "      <td>0.501714</td>\n",
              "      <td>0.085239</td>\n",
              "      <td>0.543894</td>\n",
              "      <td>1.084070</td>\n",
              "      <td>0.006610</td>\n",
              "      <td>1.092477</td>\n",
              "      <td>0.091963</td>\n",
              "    </tr>\n",
              "    <tr>\n",
              "      <th>849</th>\n",
              "      <td>(chicken tikka masala, pilau rice)</td>\n",
              "      <td>(plain papadum)</td>\n",
              "      <td>0.158413</td>\n",
              "      <td>0.397813</td>\n",
              "      <td>0.082245</td>\n",
              "      <td>0.519178</td>\n",
              "      <td>1.305082</td>\n",
              "      <td>0.019226</td>\n",
              "      <td>1.252413</td>\n",
              "      <td>0.277767</td>\n",
              "    </tr>\n",
              "    <tr>\n",
              "      <th>1478</th>\n",
              "      <td>(naan, pilau rice)</td>\n",
              "      <td>(plain papadum)</td>\n",
              "      <td>0.177640</td>\n",
              "      <td>0.397813</td>\n",
              "      <td>0.091142</td>\n",
              "      <td>0.513071</td>\n",
              "      <td>1.289731</td>\n",
              "      <td>0.020475</td>\n",
              "      <td>1.236705</td>\n",
              "      <td>0.273170</td>\n",
              "    </tr>\n",
              "    <tr>\n",
              "      <th>616</th>\n",
              "      <td>(bombay aloo, pilau rice)</td>\n",
              "      <td>(plain papadum)</td>\n",
              "      <td>0.151165</td>\n",
              "      <td>0.397813</td>\n",
              "      <td>0.077080</td>\n",
              "      <td>0.509905</td>\n",
              "      <td>1.281773</td>\n",
              "      <td>0.016945</td>\n",
              "      <td>1.228716</td>\n",
              "      <td>0.258979</td>\n",
              "    </tr>\n",
              "    <tr>\n",
              "      <th>984</th>\n",
              "      <td>(garlic naan, pilau rice)</td>\n",
              "      <td>(plain papadum)</td>\n",
              "      <td>0.153769</td>\n",
              "      <td>0.397813</td>\n",
              "      <td>0.078252</td>\n",
              "      <td>0.508891</td>\n",
              "      <td>1.279222</td>\n",
              "      <td>0.017080</td>\n",
              "      <td>1.226178</td>\n",
              "      <td>0.257938</td>\n",
              "    </tr>\n",
              "    <tr>\n",
              "      <th>1282</th>\n",
              "      <td>(plain papadum, pilau rice)</td>\n",
              "      <td>(mango chutney)</td>\n",
              "      <td>0.241526</td>\n",
              "      <td>0.227811</td>\n",
              "      <td>0.120698</td>\n",
              "      <td>0.499730</td>\n",
              "      <td>2.193616</td>\n",
              "      <td>0.065676</td>\n",
              "      <td>1.543545</td>\n",
              "      <td>0.717403</td>\n",
              "    </tr>\n",
              "    <tr>\n",
              "      <th>439</th>\n",
              "      <td>(plain rice)</td>\n",
              "      <td>(plain papadum)</td>\n",
              "      <td>0.213012</td>\n",
              "      <td>0.397813</td>\n",
              "      <td>0.104075</td>\n",
              "      <td>0.488590</td>\n",
              "      <td>1.228192</td>\n",
              "      <td>0.019337</td>\n",
              "      <td>1.177504</td>\n",
              "      <td>0.236083</td>\n",
              "    </tr>\n",
              "    <tr>\n",
              "      <th>421</th>\n",
              "      <td>(pilau rice)</td>\n",
              "      <td>(plain papadum)</td>\n",
              "      <td>0.501714</td>\n",
              "      <td>0.397813</td>\n",
              "      <td>0.241526</td>\n",
              "      <td>0.481401</td>\n",
              "      <td>1.210121</td>\n",
              "      <td>0.041938</td>\n",
              "      <td>1.161182</td>\n",
              "      <td>0.348468</td>\n",
              "    </tr>\n",
              "    <tr>\n",
              "      <th>361</th>\n",
              "      <td>(mushroom rice)</td>\n",
              "      <td>(plain papadum)</td>\n",
              "      <td>0.184193</td>\n",
              "      <td>0.397813</td>\n",
              "      <td>0.082158</td>\n",
              "      <td>0.446041</td>\n",
              "      <td>1.121235</td>\n",
              "      <td>0.008883</td>\n",
              "      <td>1.087062</td>\n",
              "      <td>0.132539</td>\n",
              "    </tr>\n",
              "  </tbody>\n",
              "</table>\n",
              "</div>\n",
              "    <div class=\"colab-df-buttons\">\n",
              "\n",
              "  <div class=\"colab-df-container\">\n",
              "    <button class=\"colab-df-convert\" onclick=\"convertToInteractive('df-5d5deff0-b387-4282-b014-0e6c692f0241')\"\n",
              "            title=\"Convert this dataframe to an interactive table.\"\n",
              "            style=\"display:none;\">\n",
              "\n",
              "  <svg xmlns=\"http://www.w3.org/2000/svg\" height=\"24px\" viewBox=\"0 -960 960 960\">\n",
              "    <path d=\"M120-120v-720h720v720H120Zm60-500h600v-160H180v160Zm220 220h160v-160H400v160Zm0 220h160v-160H400v160ZM180-400h160v-160H180v160Zm440 0h160v-160H620v160ZM180-180h160v-160H180v160Zm440 0h160v-160H620v160Z\"/>\n",
              "  </svg>\n",
              "    </button>\n",
              "\n",
              "  <style>\n",
              "    .colab-df-container {\n",
              "      display:flex;\n",
              "      gap: 12px;\n",
              "    }\n",
              "\n",
              "    .colab-df-convert {\n",
              "      background-color: #E8F0FE;\n",
              "      border: none;\n",
              "      border-radius: 50%;\n",
              "      cursor: pointer;\n",
              "      display: none;\n",
              "      fill: #1967D2;\n",
              "      height: 32px;\n",
              "      padding: 0 0 0 0;\n",
              "      width: 32px;\n",
              "    }\n",
              "\n",
              "    .colab-df-convert:hover {\n",
              "      background-color: #E2EBFA;\n",
              "      box-shadow: 0px 1px 2px rgba(60, 64, 67, 0.3), 0px 1px 3px 1px rgba(60, 64, 67, 0.15);\n",
              "      fill: #174EA6;\n",
              "    }\n",
              "\n",
              "    .colab-df-buttons div {\n",
              "      margin-bottom: 4px;\n",
              "    }\n",
              "\n",
              "    [theme=dark] .colab-df-convert {\n",
              "      background-color: #3B4455;\n",
              "      fill: #D2E3FC;\n",
              "    }\n",
              "\n",
              "    [theme=dark] .colab-df-convert:hover {\n",
              "      background-color: #434B5C;\n",
              "      box-shadow: 0px 1px 3px 1px rgba(0, 0, 0, 0.15);\n",
              "      filter: drop-shadow(0px 1px 2px rgba(0, 0, 0, 0.3));\n",
              "      fill: #FFFFFF;\n",
              "    }\n",
              "  </style>\n",
              "\n",
              "    <script>\n",
              "      const buttonEl =\n",
              "        document.querySelector('#df-5d5deff0-b387-4282-b014-0e6c692f0241 button.colab-df-convert');\n",
              "      buttonEl.style.display =\n",
              "        google.colab.kernel.accessAllowed ? 'block' : 'none';\n",
              "\n",
              "      async function convertToInteractive(key) {\n",
              "        const element = document.querySelector('#df-5d5deff0-b387-4282-b014-0e6c692f0241');\n",
              "        const dataTable =\n",
              "          await google.colab.kernel.invokeFunction('convertToInteractive',\n",
              "                                                    [key], {});\n",
              "        if (!dataTable) return;\n",
              "\n",
              "        const docLinkHtml = 'Like what you see? Visit the ' +\n",
              "          '<a target=\"_blank\" href=https://colab.research.google.com/notebooks/data_table.ipynb>data table notebook</a>'\n",
              "          + ' to learn more about interactive tables.';\n",
              "        element.innerHTML = '';\n",
              "        dataTable['output_type'] = 'display_data';\n",
              "        await google.colab.output.renderOutput(dataTable, element);\n",
              "        const docLink = document.createElement('div');\n",
              "        docLink.innerHTML = docLinkHtml;\n",
              "        element.appendChild(docLink);\n",
              "      }\n",
              "    </script>\n",
              "  </div>\n",
              "\n",
              "\n",
              "<div id=\"df-ab24ae87-9420-4fef-a8cd-e5b94bb1f038\">\n",
              "  <button class=\"colab-df-quickchart\" onclick=\"quickchart('df-ab24ae87-9420-4fef-a8cd-e5b94bb1f038')\"\n",
              "            title=\"Suggest charts\"\n",
              "            style=\"display:none;\">\n",
              "\n",
              "<svg xmlns=\"http://www.w3.org/2000/svg\" height=\"24px\"viewBox=\"0 0 24 24\"\n",
              "     width=\"24px\">\n",
              "    <g>\n",
              "        <path d=\"M19 3H5c-1.1 0-2 .9-2 2v14c0 1.1.9 2 2 2h14c1.1 0 2-.9 2-2V5c0-1.1-.9-2-2-2zM9 17H7v-7h2v7zm4 0h-2V7h2v10zm4 0h-2v-4h2v4z\"/>\n",
              "    </g>\n",
              "</svg>\n",
              "  </button>\n",
              "\n",
              "<style>\n",
              "  .colab-df-quickchart {\n",
              "      --bg-color: #E8F0FE;\n",
              "      --fill-color: #1967D2;\n",
              "      --hover-bg-color: #E2EBFA;\n",
              "      --hover-fill-color: #174EA6;\n",
              "      --disabled-fill-color: #AAA;\n",
              "      --disabled-bg-color: #DDD;\n",
              "  }\n",
              "\n",
              "  [theme=dark] .colab-df-quickchart {\n",
              "      --bg-color: #3B4455;\n",
              "      --fill-color: #D2E3FC;\n",
              "      --hover-bg-color: #434B5C;\n",
              "      --hover-fill-color: #FFFFFF;\n",
              "      --disabled-bg-color: #3B4455;\n",
              "      --disabled-fill-color: #666;\n",
              "  }\n",
              "\n",
              "  .colab-df-quickchart {\n",
              "    background-color: var(--bg-color);\n",
              "    border: none;\n",
              "    border-radius: 50%;\n",
              "    cursor: pointer;\n",
              "    display: none;\n",
              "    fill: var(--fill-color);\n",
              "    height: 32px;\n",
              "    padding: 0;\n",
              "    width: 32px;\n",
              "  }\n",
              "\n",
              "  .colab-df-quickchart:hover {\n",
              "    background-color: var(--hover-bg-color);\n",
              "    box-shadow: 0 1px 2px rgba(60, 64, 67, 0.3), 0 1px 3px 1px rgba(60, 64, 67, 0.15);\n",
              "    fill: var(--button-hover-fill-color);\n",
              "  }\n",
              "\n",
              "  .colab-df-quickchart-complete:disabled,\n",
              "  .colab-df-quickchart-complete:disabled:hover {\n",
              "    background-color: var(--disabled-bg-color);\n",
              "    fill: var(--disabled-fill-color);\n",
              "    box-shadow: none;\n",
              "  }\n",
              "\n",
              "  .colab-df-spinner {\n",
              "    border: 2px solid var(--fill-color);\n",
              "    border-color: transparent;\n",
              "    border-bottom-color: var(--fill-color);\n",
              "    animation:\n",
              "      spin 1s steps(1) infinite;\n",
              "  }\n",
              "\n",
              "  @keyframes spin {\n",
              "    0% {\n",
              "      border-color: transparent;\n",
              "      border-bottom-color: var(--fill-color);\n",
              "      border-left-color: var(--fill-color);\n",
              "    }\n",
              "    20% {\n",
              "      border-color: transparent;\n",
              "      border-left-color: var(--fill-color);\n",
              "      border-top-color: var(--fill-color);\n",
              "    }\n",
              "    30% {\n",
              "      border-color: transparent;\n",
              "      border-left-color: var(--fill-color);\n",
              "      border-top-color: var(--fill-color);\n",
              "      border-right-color: var(--fill-color);\n",
              "    }\n",
              "    40% {\n",
              "      border-color: transparent;\n",
              "      border-right-color: var(--fill-color);\n",
              "      border-top-color: var(--fill-color);\n",
              "    }\n",
              "    60% {\n",
              "      border-color: transparent;\n",
              "      border-right-color: var(--fill-color);\n",
              "    }\n",
              "    80% {\n",
              "      border-color: transparent;\n",
              "      border-right-color: var(--fill-color);\n",
              "      border-bottom-color: var(--fill-color);\n",
              "    }\n",
              "    90% {\n",
              "      border-color: transparent;\n",
              "      border-bottom-color: var(--fill-color);\n",
              "    }\n",
              "  }\n",
              "</style>\n",
              "\n",
              "  <script>\n",
              "    async function quickchart(key) {\n",
              "      const quickchartButtonEl =\n",
              "        document.querySelector('#' + key + ' button');\n",
              "      quickchartButtonEl.disabled = true;  // To prevent multiple clicks.\n",
              "      quickchartButtonEl.classList.add('colab-df-spinner');\n",
              "      try {\n",
              "        const charts = await google.colab.kernel.invokeFunction(\n",
              "            'suggestCharts', [key], {});\n",
              "      } catch (error) {\n",
              "        console.error('Error during call to suggestCharts:', error);\n",
              "      }\n",
              "      quickchartButtonEl.classList.remove('colab-df-spinner');\n",
              "      quickchartButtonEl.classList.add('colab-df-quickchart-complete');\n",
              "    }\n",
              "    (() => {\n",
              "      let quickchartButtonEl =\n",
              "        document.querySelector('#df-ab24ae87-9420-4fef-a8cd-e5b94bb1f038 button');\n",
              "      quickchartButtonEl.style.display =\n",
              "        google.colab.kernel.accessAllowed ? 'block' : 'none';\n",
              "    })();\n",
              "  </script>\n",
              "</div>\n",
              "    </div>\n",
              "  </div>\n"
            ]
          },
          "metadata": {},
          "execution_count": 22
        }
      ]
    },
    {
      "cell_type": "markdown",
      "source": [
        "<a id='conclusions'></a>\n",
        "### Conclusions:\n",
        "\n",
        "* The quantity of the food per order is higher in the second restaurant, which increases the average order price with difference \\\\$ 1.44;\n",
        "* The average price is \\\\$ 43.6 and 10 food per order with \\\\$ 4.15 per food the average;\n",
        "* The average frequency item is 509, that is, an item appears on average 509 times which represets 2.22%;\n",
        "* 50,17% of orders has pilau rice;\n",
        "* 24.15% of orders have simple papadum and rice pilau in the same order 19.2% have simple papadum, mango chutney;\n",
        "* 2.28% of orders have simple papadum, onion chutney, mango chutney, mint sauce, rice pilau as items;\n",
        "* 4.44% (confidence) of those who buys pilau rice, buys paratha as well;\n",
        "* If one buys plain papadum with pilau rice it's likely that one has also bought garlic naan with naan;\n",
        "* If one buys garlic naan, it's likely that one has also bought plain papadum with saag aloo. This way, it is possible to create a bundle with these items and apply a discount;\n",
        "* If one buys pilau rice with chicken tikka masala it's likely that one has also bought madras. This way, it is possible apply discount in the madras.\n",
        "\n",
        "\n",
        "And that’s it! It has been a pleasure to make this kernel, I have learned a lot! Thank you for reading and if you like it, please upvote it!\n",
        "\n",
        "<a id='references'></a>\n",
        "### References:\n",
        "\n",
        "Annalyn Ng(2016) Association rules apriori algorithm tutorial. Retrieved from: [https://www.kdnuggets.com/2016/04/association-rules-apriori-algorithm-tutorial.html](https://www.kdnuggets.com/2016/04/association-rules-apriori-algorithm-tutorial.html)\n",
        "\n",
        "Hafsa Jabeen(2018) Market Basket Analysis using R. Retrieved from: [https://www.datacamp.com/community/tutorials/market-basket-analysis-r](https://www.datacamp.com/community/tutorials/market-basket-analysis-r)\n",
        "\n",
        "Association Rules. Retrived from: [http://rasbt.github.io/mlxtend/user_guide/frequent_patterns/association_rules/](http://rasbt.github.io/mlxtend/user_guide/frequent_patterns/association_rules/)\n",
        "\n",
        "Apriori. Retrived from: [http://rasbt.github.io/mlxtend/user_guide/frequent_patterns/apriori/](http://rasbt.github.io/mlxtend/user_guide/frequent_patterns/apriori/)\n"
      ],
      "metadata": {
        "id": "CSn7xhNxY1pa"
      }
    }
  ]
}