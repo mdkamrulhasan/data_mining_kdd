{
  "nbformat": 4,
  "nbformat_minor": 0,
  "metadata": {
    "colab": {
      "provenance": [],
      "include_colab_link": true
    },
    "kernelspec": {
      "name": "python3",
      "display_name": "Python 3"
    },
    "language_info": {
      "name": "python"
    }
  },
  "cells": [
    {
      "cell_type": "markdown",
      "metadata": {
        "id": "view-in-github",
        "colab_type": "text"
      },
      "source": [
        "<a href=\"https://colab.research.google.com/github/mdkamrulhasan/data_mining_kdd/blob/main/notebooks/Classification_digitis_MNIST_SVD.ipynb\" target=\"_parent\"><img src=\"https://colab.research.google.com/assets/colab-badge.svg\" alt=\"Open In Colab\"/></a>"
      ]
    },
    {
      "cell_type": "markdown",
      "source": [
        "What will we cover today ?\n",
        "\n",
        "\n",
        "1.   Singular Value Decomposition (SVD)\n"
      ],
      "metadata": {
        "id": "FBRyAWfz-KuJ"
      }
    },
    {
      "cell_type": "code",
      "execution_count": null,
      "metadata": {
        "id": "03-NXl9m_dPA"
      },
      "outputs": [],
      "source": [
        "import numpy as np\n",
        "import pandas as pd\n",
        "# Models (Sklearn)\n",
        "from sklearn.linear_model import LogisticRegression\n",
        "from sklearn.ensemble import RandomForestClassifier, GradientBoostingClassifier\n",
        "from sklearn.naive_bayes import GaussianNB\n",
        "from sklearn.svm import SVC\n",
        "# Data and Evaluation packages\n",
        "from sklearn import datasets\n",
        "from sklearn.metrics import mean_squared_error\n",
        "from sklearn.metrics import accuracy_score\n",
        "# visualization\n",
        "import plotly.express as px\n",
        "from sklearn.model_selection import train_test_split"
      ]
    },
    {
      "cell_type": "markdown",
      "source": [
        "# Our Wrapper Class (Can take any model as an input)"
      ],
      "metadata": {
        "id": "gZH3V3LG-uqL"
      }
    },
    {
      "cell_type": "code",
      "source": [
        "from sklearn.model_selection import cross_val_score\n",
        "\n",
        "class myClassificationModel:\n",
        "  def __init__(self, model):\n",
        "    self.model = model\n",
        "    self.nb_cv_splits = 10\n",
        "    self.evaluation_metrics = 'accuracy'\n",
        "\n",
        "  def train(self, X, y):\n",
        "    self.model.fit(X, y)\n",
        "\n",
        "  def evaluate(self, X, y):\n",
        "    y_predict = self.model.predict(X)\n",
        "    # return mean_squared_error(y, y_predict)\n",
        "    return accuracy_score(y, y_predict)\n",
        "\n",
        "  def cv_score(self, X, y):\n",
        "    return cross_val_score(self.model,\n",
        "                           X,\n",
        "                           y, scoring=self.evaluation_metrics,\n",
        "                           cv=self.nb_cv_splits)\n",
        "\n"
      ],
      "metadata": {
        "id": "5k6GS-4h-oW9"
      },
      "execution_count": null,
      "outputs": []
    },
    {
      "cell_type": "markdown",
      "source": [
        "[Data description](https://archive.ics.uci.edu/dataset/80/optical+recognition+of+handwritten+digits)"
      ],
      "metadata": {
        "id": "WhUKTt3zUnSh"
      }
    },
    {
      "cell_type": "code",
      "source": [
        "from sklearn.datasets import load_digits\n",
        "df = load_digits(as_frame=True)\n",
        "print(df.data.shape)\n",
        "import matplotlib.pyplot as plt\n",
        "plt.gray()\n",
        "plt.matshow(df.images[0])\n",
        "plt.show()\n",
        "df.keys()"
      ],
      "metadata": {
        "colab": {
          "base_uri": "https://localhost:8080/",
          "height": 489
        },
        "id": "4s-U2y5DPOHR",
        "outputId": "7a18aab4-4a18-4e0d-841e-406877a84262"
      },
      "execution_count": null,
      "outputs": [
        {
          "output_type": "stream",
          "name": "stdout",
          "text": [
            "(1797, 64)\n"
          ]
        },
        {
          "output_type": "display_data",
          "data": {
            "text/plain": [
              "<Figure size 640x480 with 0 Axes>"
            ]
          },
          "metadata": {}
        },
        {
          "output_type": "display_data",
          "data": {
            "text/plain": [
              "<Figure size 480x480 with 1 Axes>"
            ],
            "image/png": "[encoded data removed]"
          },
          "metadata": {}
        },
        {
          "output_type": "execute_result",
          "data": {
            "text/plain": [
              "dict_keys(['data', 'target', 'frame', 'feature_names', 'target_names', 'images', 'DESCR'])"
            ]
          },
          "metadata": {},
          "execution_count": 3
        }
      ]
    },
    {
      "cell_type": "code",
      "source": [
        "df.data.head()"
      ],
      "metadata": {
        "colab": {
          "base_uri": "https://localhost:8080/",
          "height": 255
        },
        "id": "7J7PEf7IL487",
        "outputId": "ddf57cfe-c5b9-41cc-ea0a-bed238eb7bcc"
      },
      "execution_count": null,
      "outputs": [
        {
          "output_type": "execute_result",
          "data": {
            "text/plain": [
              "   pixel_0_0  pixel_0_1  pixel_0_2  pixel_0_3  pixel_0_4  pixel_0_5  \\\n",
              "0        0.0        0.0        5.0       13.0        9.0        1.0   \n",
              "1        0.0        0.0        0.0       12.0       13.0        5.0   \n",
              "2        0.0        0.0        0.0        4.0       15.0       12.0   \n",
              "3        0.0        0.0        7.0       15.0       13.0        1.0   \n",
              "4        0.0        0.0        0.0        1.0       11.0        0.0   \n",
              "\n",
              "   pixel_0_6  pixel_0_7  pixel_1_0  pixel_1_1  ...  pixel_6_6  pixel_6_7  \\\n",
              "0        0.0        0.0        0.0        0.0  ...        0.0        0.0   \n",
              "1        0.0        0.0        0.0        0.0  ...        0.0        0.0   \n",
              "2        0.0        0.0        0.0        0.0  ...        5.0        0.0   \n",
              "3        0.0        0.0        0.0        8.0  ...        9.0        0.0   \n",
              "4        0.0        0.0        0.0        0.0  ...        0.0        0.0   \n",
              "\n",
              "   pixel_7_0  pixel_7_1  pixel_7_2  pixel_7_3  pixel_7_4  pixel_7_5  \\\n",
              "0        0.0        0.0        6.0       13.0       10.0        0.0   \n",
              "1        0.0        0.0        0.0       11.0       16.0       10.0   \n",
              "2        0.0        0.0        0.0        3.0       11.0       16.0   \n",
              "3        0.0        0.0        7.0       13.0       13.0        9.0   \n",
              "4        0.0        0.0        0.0        2.0       16.0        4.0   \n",
              "\n",
              "   pixel_7_6  pixel_7_7  \n",
              "0        0.0        0.0  \n",
              "1        0.0        0.0  \n",
              "2        9.0        0.0  \n",
              "3        0.0        0.0  \n",
              "4        0.0        0.0  \n",
              "\n",
              "[5 rows x 64 columns]"
            ],
            "text/html": [
              "\n",
              "  <div id=\"df-8778a31b-46e3-4768-b6c6-28b78c025e7c\" class=\"colab-df-container\">\n",
              "    <div>\n",
              "<style scoped>\n",
              "    .dataframe tbody tr th:only-of-type {\n",
              "        vertical-align: middle;\n",
              "    }\n",
              "\n",
              "    .dataframe tbody tr th {\n",
              "        vertical-align: top;\n",
              "    }\n",
              "\n",
              "    .dataframe thead th {\n",
              "        text-align: right;\n",
              "    }\n",
              "</style>\n",
              "<table border=\"1\" class=\"dataframe\">\n",
              "  <thead>\n",
              "    <tr style=\"text-align: right;\">\n",
              "      <th></th>\n",
              "      <th>pixel_0_0</th>\n",
              "      <th>pixel_0_1</th>\n",
              "      <th>pixel_0_2</th>\n",
              "      <th>pixel_0_3</th>\n",
              "      <th>pixel_0_4</th>\n",
              "      <th>pixel_0_5</th>\n",
              "      <th>pixel_0_6</th>\n",
              "      <th>pixel_0_7</th>\n",
              "      <th>pixel_1_0</th>\n",
              "      <th>pixel_1_1</th>\n",
              "      <th>...</th>\n",
              "      <th>pixel_6_6</th>\n",
              "      <th>pixel_6_7</th>\n",
              "      <th>pixel_7_0</th>\n",
              "      <th>pixel_7_1</th>\n",
              "      <th>pixel_7_2</th>\n",
              "      <th>pixel_7_3</th>\n",
              "      <th>pixel_7_4</th>\n",
              "      <th>pixel_7_5</th>\n",
              "      <th>pixel_7_6</th>\n",
              "      <th>pixel_7_7</th>\n",
              "    </tr>\n",
              "  </thead>\n",
              "  <tbody>\n",
              "    <tr>\n",
              "      <th>0</th>\n",
              "      <td>0.0</td>\n",
              "      <td>0.0</td>\n",
              "      <td>5.0</td>\n",
              "      <td>13.0</td>\n",
              "      <td>9.0</td>\n",
              "      <td>1.0</td>\n",
              "      <td>0.0</td>\n",
              "      <td>0.0</td>\n",
              "      <td>0.0</td>\n",
              "      <td>0.0</td>\n",
              "      <td>...</td>\n",
              "      <td>0.0</td>\n",
              "      <td>0.0</td>\n",
              "      <td>0.0</td>\n",
              "      <td>0.0</td>\n",
              "      <td>6.0</td>\n",
              "      <td>13.0</td>\n",
              "      <td>10.0</td>\n",
              "      <td>0.0</td>\n",
              "      <td>0.0</td>\n",
              "      <td>0.0</td>\n",
              "    </tr>\n",
              "    <tr>\n",
              "      <th>1</th>\n",
              "      <td>0.0</td>\n",
              "      <td>0.0</td>\n",
              "      <td>0.0</td>\n",
              "      <td>12.0</td>\n",
              "      <td>13.0</td>\n",
              "      <td>5.0</td>\n",
              "      <td>0.0</td>\n",
              "      <td>0.0</td>\n",
              "      <td>0.0</td>\n",
              "      <td>0.0</td>\n",
              "      <td>...</td>\n",
              "      <td>0.0</td>\n",
              "      <td>0.0</td>\n",
              "      <td>0.0</td>\n",
              "      <td>0.0</td>\n",
              "      <td>0.0</td>\n",
              "      <td>11.0</td>\n",
              "      <td>16.0</td>\n",
              "      <td>10.0</td>\n",
              "      <td>0.0</td>\n",
              "      <td>0.0</td>\n",
              "    </tr>\n",
              "    <tr>\n",
              "      <th>2</th>\n",
              "      <td>0.0</td>\n",
              "      <td>0.0</td>\n",
              "      <td>0.0</td>\n",
              "      <td>4.0</td>\n",
              "      <td>15.0</td>\n",
              "      <td>12.0</td>\n",
              "      <td>0.0</td>\n",
              "      <td>0.0</td>\n",
              "      <td>0.0</td>\n",
              "      <td>0.0</td>\n",
              "      <td>...</td>\n",
              "      <td>5.0</td>\n",
              "      <td>0.0</td>\n",
              "      <td>0.0</td>\n",
              "      <td>0.0</td>\n",
              "      <td>0.0</td>\n",
              "      <td>3.0</td>\n",
              "      <td>11.0</td>\n",
              "      <td>16.0</td>\n",
              "      <td>9.0</td>\n",
              "      <td>0.0</td>\n",
              "    </tr>\n",
              "    <tr>\n",
              "      <th>3</th>\n",
              "      <td>0.0</td>\n",
              "      <td>0.0</td>\n",
              "      <td>7.0</td>\n",
              "      <td>15.0</td>\n",
              "      <td>13.0</td>\n",
              "      <td>1.0</td>\n",
              "      <td>0.0</td>\n",
              "      <td>0.0</td>\n",
              "      <td>0.0</td>\n",
              "      <td>8.0</td>\n",
              "      <td>...</td>\n",
              "      <td>9.0</td>\n",
              "      <td>0.0</td>\n",
              "      <td>0.0</td>\n",
              "      <td>0.0</td>\n",
              "      <td>7.0</td>\n",
              "      <td>13.0</td>\n",
              "      <td>13.0</td>\n",
              "      <td>9.0</td>\n",
              "      <td>0.0</td>\n",
              "      <td>0.0</td>\n",
              "    </tr>\n",
              "    <tr>\n",
              "      <th>4</th>\n",
              "      <td>0.0</td>\n",
              "      <td>0.0</td>\n",
              "      <td>0.0</td>\n",
              "      <td>1.0</td>\n",
              "      <td>11.0</td>\n",
              "      <td>0.0</td>\n",
              "      <td>0.0</td>\n",
              "      <td>0.0</td>\n",
              "      <td>0.0</td>\n",
              "      <td>0.0</td>\n",
              "      <td>...</td>\n",
              "      <td>0.0</td>\n",
              "      <td>0.0</td>\n",
              "      <td>0.0</td>\n",
              "      <td>0.0</td>\n",
              "      <td>0.0</td>\n",
              "      <td>2.0</td>\n",
              "      <td>16.0</td>\n",
              "      <td>4.0</td>\n",
              "      <td>0.0</td>\n",
              "      <td>0.0</td>\n",
              "    </tr>\n",
              "  </tbody>\n",
              "</table>\n",
              "<p>5 rows × 64 columns</p>\n",
              "</div>\n",
              "    <div class=\"colab-df-buttons\">\n",
              "\n",
              "  <div class=\"colab-df-container\">\n",
              "    <button class=\"colab-df-convert\" onclick=\"convertToInteractive('df-8778a31b-46e3-4768-b6c6-28b78c025e7c')\"\n",
              "            title=\"Convert this dataframe to an interactive table.\"\n",
              "            style=\"display:none;\">\n",
              "\n",
              "  <svg xmlns=\"http://www.w3.org/2000/svg\" height=\"24px\" viewBox=\"0 -960 960 960\">\n",
              "    <path d=\"M120-120v-720h720v720H120Zm60-500h600v-160H180v160Zm220 220h160v-160H400v160Zm0 220h160v-160H400v160ZM180-400h160v-160H180v160Zm440 0h160v-160H620v160ZM180-180h160v-160H180v160Zm440 0h160v-160H620v160Z\"/>\n",
              "  </svg>\n",
              "    </button>\n",
              "\n",
              "  <style>\n",
              "    .colab-df-container {\n",
              "      display:flex;\n",
              "      gap: 12px;\n",
              "    }\n",
              "\n",
              "    .colab-df-convert {\n",
              "      background-color: #E8F0FE;\n",
              "      border: none;\n",
              "      border-radius: 50%;\n",
              "      cursor: pointer;\n",
              "      display: none;\n",
              "      fill: #1967D2;\n",
              "      height: 32px;\n",
              "      padding: 0 0 0 0;\n",
              "      width: 32px;\n",
              "    }\n",
              "\n",
              "    .colab-df-convert:hover {\n",
              "      background-color: #E2EBFA;\n",
              "      box-shadow: 0px 1px 2px rgba(60, 64, 67, 0.3), 0px 1px 3px 1px rgba(60, 64, 67, 0.15);\n",
              "      fill: #174EA6;\n",
              "    }\n",
              "\n",
              "    .colab-df-buttons div {\n",
              "      margin-bottom: 4px;\n",
              "    }\n",
              "\n",
              "    [theme=dark] .colab-df-convert {\n",
              "      background-color: #3B4455;\n",
              "      fill: #D2E3FC;\n",
              "    }\n",
              "\n",
              "    [theme=dark] .colab-df-convert:hover {\n",
              "      background-color: #434B5C;\n",
              "      box-shadow: 0px 1px 3px 1px rgba(0, 0, 0, 0.15);\n",
              "      filter: drop-shadow(0px 1px 2px rgba(0, 0, 0, 0.3));\n",
              "      fill: #FFFFFF;\n",
              "    }\n",
              "  </style>\n",
              "\n",
              "    <script>\n",
              "      const buttonEl =\n",
              "        document.querySelector('#df-8778a31b-46e3-4768-b6c6-28b78c025e7c button.colab-df-convert');\n",
              "      buttonEl.style.display =\n",
              "        google.colab.kernel.accessAllowed ? 'block' : 'none';\n",
              "\n",
              "      async function convertToInteractive(key) {\n",
              "        const element = document.querySelector('#df-8778a31b-46e3-4768-b6c6-28b78c025e7c');\n",
              "        const dataTable =\n",
              "          await google.colab.kernel.invokeFunction('convertToInteractive',\n",
              "                                                    [key], {});\n",
              "        if (!dataTable) return;\n",
              "\n",
              "        const docLinkHtml = 'Like what you see? Visit the ' +\n",
              "          '<a target=\"_blank\" href=https://colab.research.google.com/notebooks/data_table.ipynb>data table notebook</a>'\n",
              "          + ' to learn more about interactive tables.';\n",
              "        element.innerHTML = '';\n",
              "        dataTable['output_type'] = 'display_data';\n",
              "        await google.colab.output.renderOutput(dataTable, element);\n",
              "        const docLink = document.createElement('div');\n",
              "        docLink.innerHTML = docLinkHtml;\n",
              "        element.appendChild(docLink);\n",
              "      }\n",
              "    </script>\n",
              "  </div>\n",
              "\n",
              "\n",
              "<div id=\"df-e3d3ca00-fa8e-4bde-b4ee-44a30e45970a\">\n",
              "  <button class=\"colab-df-quickchart\" onclick=\"quickchart('df-e3d3ca00-fa8e-4bde-b4ee-44a30e45970a')\"\n",
              "            title=\"Suggest charts\"\n",
              "            style=\"display:none;\">\n",
              "\n",
              "<svg xmlns=\"http://www.w3.org/2000/svg\" height=\"24px\"viewBox=\"0 0 24 24\"\n",
              "     width=\"24px\">\n",
              "    <g>\n",
              "        <path d=\"M19 3H5c-1.1 0-2 .9-2 2v14c0 1.1.9 2 2 2h14c1.1 0 2-.9 2-2V5c0-1.1-.9-2-2-2zM9 17H7v-7h2v7zm4 0h-2V7h2v10zm4 0h-2v-4h2v4z\"/>\n",
              "    </g>\n",
              "</svg>\n",
              "  </button>\n",
              "\n",
              "<style>\n",
              "  .colab-df-quickchart {\n",
              "      --bg-color: #E8F0FE;\n",
              "      --fill-color: #1967D2;\n",
              "      --hover-bg-color: #E2EBFA;\n",
              "      --hover-fill-color: #174EA6;\n",
              "      --disabled-fill-color: #AAA;\n",
              "      --disabled-bg-color: #DDD;\n",
              "  }\n",
              "\n",
              "  [theme=dark] .colab-df-quickchart {\n",
              "      --bg-color: #3B4455;\n",
              "      --fill-color: #D2E3FC;\n",
              "      --hover-bg-color: #434B5C;\n",
              "      --hover-fill-color: #FFFFFF;\n",
              "      --disabled-bg-color: #3B4455;\n",
              "      --disabled-fill-color: #666;\n",
              "  }\n",
              "\n",
              "  .colab-df-quickchart {\n",
              "    background-color: var(--bg-color);\n",
              "    border: none;\n",
              "    border-radius: 50%;\n",
              "    cursor: pointer;\n",
              "    display: none;\n",
              "    fill: var(--fill-color);\n",
              "    height: 32px;\n",
              "    padding: 0;\n",
              "    width: 32px;\n",
              "  }\n",
              "\n",
              "  .colab-df-quickchart:hover {\n",
              "    background-color: var(--hover-bg-color);\n",
              "    box-shadow: 0 1px 2px rgba(60, 64, 67, 0.3), 0 1px 3px 1px rgba(60, 64, 67, 0.15);\n",
              "    fill: var(--button-hover-fill-color);\n",
              "  }\n",
              "\n",
              "  .colab-df-quickchart-complete:disabled,\n",
              "  .colab-df-quickchart-complete:disabled:hover {\n",
              "    background-color: var(--disabled-bg-color);\n",
              "    fill: var(--disabled-fill-color);\n",
              "    box-shadow: none;\n",
              "  }\n",
              "\n",
              "  .colab-df-spinner {\n",
              "    border: 2px solid var(--fill-color);\n",
              "    border-color: transparent;\n",
              "    border-bottom-color: var(--fill-color);\n",
              "    animation:\n",
              "      spin 1s steps(1) infinite;\n",
              "  }\n",
              "\n",
              "  @keyframes spin {\n",
              "    0% {\n",
              "      border-color: transparent;\n",
              "      border-bottom-color: var(--fill-color);\n",
              "      border-left-color: var(--fill-color);\n",
              "    }\n",
              "    20% {\n",
              "      border-color: transparent;\n",
              "      border-left-color: var(--fill-color);\n",
              "      border-top-color: var(--fill-color);\n",
              "    }\n",
              "    30% {\n",
              "      border-color: transparent;\n",
              "      border-left-color: var(--fill-color);\n",
              "      border-top-color: var(--fill-color);\n",
              "      border-right-color: var(--fill-color);\n",
              "    }\n",
              "    40% {\n",
              "      border-color: transparent;\n",
              "      border-right-color: var(--fill-color);\n",
              "      border-top-color: var(--fill-color);\n",
              "    }\n",
              "    60% {\n",
              "      border-color: transparent;\n",
              "      border-right-color: var(--fill-color);\n",
              "    }\n",
              "    80% {\n",
              "      border-color: transparent;\n",
              "      border-right-color: var(--fill-color);\n",
              "      border-bottom-color: var(--fill-color);\n",
              "    }\n",
              "    90% {\n",
              "      border-color: transparent;\n",
              "      border-bottom-color: var(--fill-color);\n",
              "    }\n",
              "  }\n",
              "</style>\n",
              "\n",
              "  <script>\n",
              "    async function quickchart(key) {\n",
              "      const quickchartButtonEl =\n",
              "        document.querySelector('#' + key + ' button');\n",
              "      quickchartButtonEl.disabled = true;  // To prevent multiple clicks.\n",
              "      quickchartButtonEl.classList.add('colab-df-spinner');\n",
              "      try {\n",
              "        const charts = await google.colab.kernel.invokeFunction(\n",
              "            'suggestCharts', [key], {});\n",
              "      } catch (error) {\n",
              "        console.error('Error during call to suggestCharts:', error);\n",
              "      }\n",
              "      quickchartButtonEl.classList.remove('colab-df-spinner');\n",
              "      quickchartButtonEl.classList.add('colab-df-quickchart-complete');\n",
              "    }\n",
              "    (() => {\n",
              "      let quickchartButtonEl =\n",
              "        document.querySelector('#df-e3d3ca00-fa8e-4bde-b4ee-44a30e45970a button');\n",
              "      quickchartButtonEl.style.display =\n",
              "        google.colab.kernel.accessAllowed ? 'block' : 'none';\n",
              "    })();\n",
              "  </script>\n",
              "</div>\n",
              "\n",
              "    </div>\n",
              "  </div>\n"
            ],
            "application/vnd.google.colaboratory.intrinsic+json": {
              "type": "dataframe"
            }
          },
          "metadata": {},
          "execution_count": 4
        }
      ]
    },
    {
      "cell_type": "code",
      "source": [
        "X, y = load_digits(return_X_y=True)\n",
        "X.shape, y.shape"
      ],
      "metadata": {
        "colab": {
          "base_uri": "https://localhost:8080/"
        },
        "id": "NBfvYkH5LSEW",
        "outputId": "489eeb5a-f94a-49c4-84e2-cb785e555035"
      },
      "execution_count": null,
      "outputs": [
        {
          "output_type": "execute_result",
          "data": {
            "text/plain": [
              "((1797, 64), (1797,))"
            ]
          },
          "metadata": {},
          "execution_count": 5
        }
      ]
    },
    {
      "cell_type": "markdown",
      "source": [
        "## Unique y values (i.e the labels)"
      ],
      "metadata": {
        "id": "_WAO-2Lz2bre"
      }
    },
    {
      "cell_type": "code",
      "source": [
        "set(y)"
      ],
      "metadata": {
        "colab": {
          "base_uri": "https://localhost:8080/"
        },
        "id": "dKP4ET432fn8",
        "outputId": "f5114387-8b03-492f-8284-a1495ffef433"
      },
      "execution_count": null,
      "outputs": [
        {
          "output_type": "execute_result",
          "data": {
            "text/plain": [
              "{0, 1, 2, 3, 4, 5, 6, 7, 8, 9}"
            ]
          },
          "metadata": {},
          "execution_count": 6
        }
      ]
    },
    {
      "cell_type": "markdown",
      "source": [
        "## Are the feature values scaled/normalized ?"
      ],
      "metadata": {
        "id": "zv_92Vp65AtP"
      }
    },
    {
      "cell_type": "code",
      "source": [
        "X.min(), X.max()"
      ],
      "metadata": {
        "colab": {
          "base_uri": "https://localhost:8080/"
        },
        "id": "qHL9vFmp374V",
        "outputId": "6f2fdcaf-be39-4e39-ee6f-325a4320264d"
      },
      "execution_count": null,
      "outputs": [
        {
          "output_type": "execute_result",
          "data": {
            "text/plain": [
              "(0.0, 16.0)"
            ]
          },
          "metadata": {},
          "execution_count": 7
        }
      ]
    },
    {
      "cell_type": "markdown",
      "source": [
        "## Lets normalize the features."
      ],
      "metadata": {
        "id": "KZJPi6Ww5INQ"
      }
    },
    {
      "cell_type": "code",
      "source": [
        "from sklearn.preprocessing import MinMaxScaler\n",
        "feature_scaler = MinMaxScaler()\n",
        "X_scaled = feature_scaler.fit_transform(X)"
      ],
      "metadata": {
        "id": "SPsyFqcT3w2X"
      },
      "execution_count": null,
      "outputs": []
    },
    {
      "cell_type": "code",
      "source": [
        "X_scaled.min(), X_scaled.max()"
      ],
      "metadata": {
        "colab": {
          "base_uri": "https://localhost:8080/"
        },
        "id": "fXfbExgX4A7A",
        "outputId": "a3c9662a-dc96-4235-f03d-dc63b87d4779"
      },
      "execution_count": null,
      "outputs": [
        {
          "output_type": "execute_result",
          "data": {
            "text/plain": [
              "(0.0, 1.0)"
            ]
          },
          "metadata": {},
          "execution_count": 9
        }
      ]
    },
    {
      "cell_type": "code",
      "source": [
        "# make sure X is scaled\n",
        "X = X_scaled"
      ],
      "metadata": {
        "id": "09P_wF7O4JQz"
      },
      "execution_count": null,
      "outputs": []
    },
    {
      "cell_type": "markdown",
      "source": [
        "# Imporing and fitting the PCA model"
      ],
      "metadata": {
        "id": "NTRvB0ct3vbF"
      }
    },
    {
      "cell_type": "code",
      "source": [
        "# importing SVD module\n",
        "from sklearn.decomposition import TruncatedSVD"
      ],
      "metadata": {
        "id": "5U4b3WgU4TiA"
      },
      "execution_count": null,
      "outputs": []
    },
    {
      "cell_type": "code",
      "source": [
        "# fitting the PCA model\n",
        "svd = TruncatedSVD(n_components=32)\n",
        "svd.fit(X)"
      ],
      "metadata": {
        "colab": {
          "base_uri": "https://localhost:8080/",
          "height": 80
        },
        "id": "_59q-IWf3q0e",
        "outputId": "2eb475e5-aebd-4b4b-d242-31b78301e9e4"
      },
      "execution_count": null,
      "outputs": [
        {
          "output_type": "execute_result",
          "data": {
            "text/plain": [
              "TruncatedSVD(n_components=32)"
            ],
            "text/html": [
              "<style>#sk-container-id-2 {\n",
              "  /* Definition of color scheme common for light and dark mode */\n",
              "  --sklearn-color-text: black;\n",
              "  --sklearn-color-line: gray;\n",
              "  /* Definition of color scheme for unfitted estimators */\n",
              "  --sklearn-color-unfitted-level-0: #fff5e6;\n",
              "  --sklearn-color-unfitted-level-1: #f6e4d2;\n",
              "  --sklearn-color-unfitted-level-2: #ffe0b3;\n",
              "  --sklearn-color-unfitted-level-3: chocolate;\n",
              "  /* Definition of color scheme for fitted estimators */\n",
              "  --sklearn-color-fitted-level-0: #f0f8ff;\n",
              "  --sklearn-color-fitted-level-1: #d4ebff;\n",
              "  --sklearn-color-fitted-level-2: #b3dbfd;\n",
              "  --sklearn-color-fitted-level-3: cornflowerblue;\n",
              "\n",
              "  /* Specific color for light theme */\n",
              "  --sklearn-color-text-on-default-background: var(--sg-text-color, var(--theme-code-foreground, var(--jp-content-font-color1, black)));\n",
              "  --sklearn-color-background: var(--sg-background-color, var(--theme-background, var(--jp-layout-color0, white)));\n",
              "  --sklearn-color-border-box: var(--sg-text-color, var(--theme-code-foreground, var(--jp-content-font-color1, black)));\n",
              "  --sklearn-color-icon: #696969;\n",
              "\n",
              "  @media (prefers-color-scheme: dark) {\n",
              "    /* Redefinition of color scheme for dark theme */\n",
              "    --sklearn-color-text-on-default-background: var(--sg-text-color, var(--theme-code-foreground, var(--jp-content-font-color1, white)));\n",
              "    --sklearn-color-background: var(--sg-background-color, var(--theme-background, var(--jp-layout-color0, #111)));\n",
              "    --sklearn-color-border-box: var(--sg-text-color, var(--theme-code-foreground, var(--jp-content-font-color1, white)));\n",
              "    --sklearn-color-icon: #878787;\n",
              "  }\n",
              "}\n",
              "\n",
              "#sk-container-id-2 {\n",
              "  color: var(--sklearn-color-text);\n",
              "}\n",
              "\n",
              "#sk-container-id-2 pre {\n",
              "  padding: 0;\n",
              "}\n",
              "\n",
              "#sk-container-id-2 input.sk-hidden--visually {\n",
              "  border: 0;\n",
              "  clip: rect(1px 1px 1px 1px);\n",
              "  clip: rect(1px, 1px, 1px, 1px);\n",
              "  height: 1px;\n",
              "  margin: -1px;\n",
              "  overflow: hidden;\n",
              "  padding: 0;\n",
              "  position: absolute;\n",
              "  width: 1px;\n",
              "}\n",
              "\n",
              "#sk-container-id-2 div.sk-dashed-wrapped {\n",
              "  border: 1px dashed var(--sklearn-color-line);\n",
              "  margin: 0 0.4em 0.5em 0.4em;\n",
              "  box-sizing: border-box;\n",
              "  padding-bottom: 0.4em;\n",
              "  background-color: var(--sklearn-color-background);\n",
              "}\n",
              "\n",
              "#sk-container-id-2 div.sk-container {\n",
              "  /* jupyter's `normalize.less` sets `[hidden] { display: none; }`\n",
              "     but bootstrap.min.css set `[hidden] { display: none !important; }`\n",
              "     so we also need the `!important` here to be able to override the\n",
              "     default hidden behavior on the sphinx rendered scikit-learn.org.\n",
              "     See: https://github.com/scikit-learn/scikit-learn/issues/21755 */\n",
              "  display: inline-block !important;\n",
              "  position: relative;\n",
              "}\n",
              "\n",
              "#sk-container-id-2 div.sk-text-repr-fallback {\n",
              "  display: none;\n",
              "}\n",
              "\n",
              "div.sk-parallel-item,\n",
              "div.sk-serial,\n",
              "div.sk-item {\n",
              "  /* draw centered vertical line to link estimators */\n",
              "  background-image: linear-gradient(var(--sklearn-color-text-on-default-background), var(--sklearn-color-text-on-default-background));\n",
              "  background-size: 2px 100%;\n",
              "  background-repeat: no-repeat;\n",
              "  background-position: center center;\n",
              "}\n",
              "\n",
              "/* Parallel-specific style estimator block */\n",
              "\n",
              "#sk-container-id-2 div.sk-parallel-item::after {\n",
              "  content: \"\";\n",
              "  width: 100%;\n",
              "  border-bottom: 2px solid var(--sklearn-color-text-on-default-background);\n",
              "  flex-grow: 1;\n",
              "}\n",
              "\n",
              "#sk-container-id-2 div.sk-parallel {\n",
              "  display: flex;\n",
              "  align-items: stretch;\n",
              "  justify-content: center;\n",
              "  background-color: var(--sklearn-color-background);\n",
              "  position: relative;\n",
              "}\n",
              "\n",
              "#sk-container-id-2 div.sk-parallel-item {\n",
              "  display: flex;\n",
              "  flex-direction: column;\n",
              "}\n",
              "\n",
              "#sk-container-id-2 div.sk-parallel-item:first-child::after {\n",
              "  align-self: flex-end;\n",
              "  width: 50%;\n",
              "}\n",
              "\n",
              "#sk-container-id-2 div.sk-parallel-item:last-child::after {\n",
              "  align-self: flex-start;\n",
              "  width: 50%;\n",
              "}\n",
              "\n",
              "#sk-container-id-2 div.sk-parallel-item:only-child::after {\n",
              "  width: 0;\n",
              "}\n",
              "\n",
              "/* Serial-specific style estimator block */\n",
              "\n",
              "#sk-container-id-2 div.sk-serial {\n",
              "  display: flex;\n",
              "  flex-direction: column;\n",
              "  align-items: center;\n",
              "  background-color: var(--sklearn-color-background);\n",
              "  padding-right: 1em;\n",
              "  padding-left: 1em;\n",
              "}\n",
              "\n",
              "\n",
              "/* Toggleable style: style used for estimator/Pipeline/ColumnTransformer box that is\n",
              "clickable and can be expanded/collapsed.\n",
              "- Pipeline and ColumnTransformer use this feature and define the default style\n",
              "- Estimators will overwrite some part of the style using the `sk-estimator` class\n",
              "*/\n",
              "\n",
              "/* Pipeline and ColumnTransformer style (default) */\n",
              "\n",
              "#sk-container-id-2 div.sk-toggleable {\n",
              "  /* Default theme specific background. It is overwritten whether we have a\n",
              "  specific estimator or a Pipeline/ColumnTransformer */\n",
              "  background-color: var(--sklearn-color-background);\n",
              "}\n",
              "\n",
              "/* Toggleable label */\n",
              "#sk-container-id-2 label.sk-toggleable__label {\n",
              "  cursor: pointer;\n",
              "  display: block;\n",
              "  width: 100%;\n",
              "  margin-bottom: 0;\n",
              "  padding: 0.5em;\n",
              "  box-sizing: border-box;\n",
              "  text-align: center;\n",
              "}\n",
              "\n",
              "#sk-container-id-2 label.sk-toggleable__label-arrow:before {\n",
              "  /* Arrow on the left of the label */\n",
              "  content: \"▸\";\n",
              "  float: left;\n",
              "  margin-right: 0.25em;\n",
              "  color: var(--sklearn-color-icon);\n",
              "}\n",
              "\n",
              "#sk-container-id-2 label.sk-toggleable__label-arrow:hover:before {\n",
              "  color: var(--sklearn-color-text);\n",
              "}\n",
              "\n",
              "/* Toggleable content - dropdown */\n",
              "\n",
              "#sk-container-id-2 div.sk-toggleable__content {\n",
              "  max-height: 0;\n",
              "  max-width: 0;\n",
              "  overflow: hidden;\n",
              "  text-align: left;\n",
              "  /* unfitted */\n",
              "  background-color: var(--sklearn-color-unfitted-level-0);\n",
              "}\n",
              "\n",
              "#sk-container-id-2 div.sk-toggleable__content.fitted {\n",
              "  /* fitted */\n",
              "  background-color: var(--sklearn-color-fitted-level-0);\n",
              "}\n",
              "\n",
              "#sk-container-id-2 div.sk-toggleable__content pre {\n",
              "  margin: 0.2em;\n",
              "  border-radius: 0.25em;\n",
              "  color: var(--sklearn-color-text);\n",
              "  /* unfitted */\n",
              "  background-color: var(--sklearn-color-unfitted-level-0);\n",
              "}\n",
              "\n",
              "#sk-container-id-2 div.sk-toggleable__content.fitted pre {\n",
              "  /* unfitted */\n",
              "  background-color: var(--sklearn-color-fitted-level-0);\n",
              "}\n",
              "\n",
              "#sk-container-id-2 input.sk-toggleable__control:checked~div.sk-toggleable__content {\n",
              "  /* Expand drop-down */\n",
              "  max-height: 200px;\n",
              "  max-width: 100%;\n",
              "  overflow: auto;\n",
              "}\n",
              "\n",
              "#sk-container-id-2 input.sk-toggleable__control:checked~label.sk-toggleable__label-arrow:before {\n",
              "  content: \"▾\";\n",
              "}\n",
              "\n",
              "/* Pipeline/ColumnTransformer-specific style */\n",
              "\n",
              "#sk-container-id-2 div.sk-label input.sk-toggleable__control:checked~label.sk-toggleable__label {\n",
              "  color: var(--sklearn-color-text);\n",
              "  background-color: var(--sklearn-color-unfitted-level-2);\n",
              "}\n",
              "\n",
              "#sk-container-id-2 div.sk-label.fitted input.sk-toggleable__control:checked~label.sk-toggleable__label {\n",
              "  background-color: var(--sklearn-color-fitted-level-2);\n",
              "}\n",
              "\n",
              "/* Estimator-specific style */\n",
              "\n",
              "/* Colorize estimator box */\n",
              "#sk-container-id-2 div.sk-estimator input.sk-toggleable__control:checked~label.sk-toggleable__label {\n",
              "  /* unfitted */\n",
              "  background-color: var(--sklearn-color-unfitted-level-2);\n",
              "}\n",
              "\n",
              "#sk-container-id-2 div.sk-estimator.fitted input.sk-toggleable__control:checked~label.sk-toggleable__label {\n",
              "  /* fitted */\n",
              "  background-color: var(--sklearn-color-fitted-level-2);\n",
              "}\n",
              "\n",
              "#sk-container-id-2 div.sk-label label.sk-toggleable__label,\n",
              "#sk-container-id-2 div.sk-label label {\n",
              "  /* The background is the default theme color */\n",
              "  color: var(--sklearn-color-text-on-default-background);\n",
              "}\n",
              "\n",
              "/* On hover, darken the color of the background */\n",
              "#sk-container-id-2 div.sk-label:hover label.sk-toggleable__label {\n",
              "  color: var(--sklearn-color-text);\n",
              "  background-color: var(--sklearn-color-unfitted-level-2);\n",
              "}\n",
              "\n",
              "/* Label box, darken color on hover, fitted */\n",
              "#sk-container-id-2 div.sk-label.fitted:hover label.sk-toggleable__label.fitted {\n",
              "  color: var(--sklearn-color-text);\n",
              "  background-color: var(--sklearn-color-fitted-level-2);\n",
              "}\n",
              "\n",
              "/* Estimator label */\n",
              "\n",
              "#sk-container-id-2 div.sk-label label {\n",
              "  font-family: monospace;\n",
              "  font-weight: bold;\n",
              "  display: inline-block;\n",
              "  line-height: 1.2em;\n",
              "}\n",
              "\n",
              "#sk-container-id-2 div.sk-label-container {\n",
              "  text-align: center;\n",
              "}\n",
              "\n",
              "/* Estimator-specific */\n",
              "#sk-container-id-2 div.sk-estimator {\n",
              "  font-family: monospace;\n",
              "  border: 1px dotted var(--sklearn-color-border-box);\n",
              "  border-radius: 0.25em;\n",
              "  box-sizing: border-box;\n",
              "  margin-bottom: 0.5em;\n",
              "  /* unfitted */\n",
              "  background-color: var(--sklearn-color-unfitted-level-0);\n",
              "}\n",
              "\n",
              "#sk-container-id-2 div.sk-estimator.fitted {\n",
              "  /* fitted */\n",
              "  background-color: var(--sklearn-color-fitted-level-0);\n",
              "}\n",
              "\n",
              "/* on hover */\n",
              "#sk-container-id-2 div.sk-estimator:hover {\n",
              "  /* unfitted */\n",
              "  background-color: var(--sklearn-color-unfitted-level-2);\n",
              "}\n",
              "\n",
              "#sk-container-id-2 div.sk-estimator.fitted:hover {\n",
              "  /* fitted */\n",
              "  background-color: var(--sklearn-color-fitted-level-2);\n",
              "}\n",
              "\n",
              "/* Specification for estimator info (e.g. \"i\" and \"?\") */\n",
              "\n",
              "/* Common style for \"i\" and \"?\" */\n",
              "\n",
              ".sk-estimator-doc-link,\n",
              "a:link.sk-estimator-doc-link,\n",
              "a:visited.sk-estimator-doc-link {\n",
              "  float: right;\n",
              "  font-size: smaller;\n",
              "  line-height: 1em;\n",
              "  font-family: monospace;\n",
              "  background-color: var(--sklearn-color-background);\n",
              "  border-radius: 1em;\n",
              "  height: 1em;\n",
              "  width: 1em;\n",
              "  text-decoration: none !important;\n",
              "  margin-left: 1ex;\n",
              "  /* unfitted */\n",
              "  border: var(--sklearn-color-unfitted-level-1) 1pt solid;\n",
              "  color: var(--sklearn-color-unfitted-level-1);\n",
              "}\n",
              "\n",
              ".sk-estimator-doc-link.fitted,\n",
              "a:link.sk-estimator-doc-link.fitted,\n",
              "a:visited.sk-estimator-doc-link.fitted {\n",
              "  /* fitted */\n",
              "  border: var(--sklearn-color-fitted-level-1) 1pt solid;\n",
              "  color: var(--sklearn-color-fitted-level-1);\n",
              "}\n",
              "\n",
              "/* On hover */\n",
              "div.sk-estimator:hover .sk-estimator-doc-link:hover,\n",
              ".sk-estimator-doc-link:hover,\n",
              "div.sk-label-container:hover .sk-estimator-doc-link:hover,\n",
              ".sk-estimator-doc-link:hover {\n",
              "  /* unfitted */\n",
              "  background-color: var(--sklearn-color-unfitted-level-3);\n",
              "  color: var(--sklearn-color-background);\n",
              "  text-decoration: none;\n",
              "}\n",
              "\n",
              "div.sk-estimator.fitted:hover .sk-estimator-doc-link.fitted:hover,\n",
              ".sk-estimator-doc-link.fitted:hover,\n",
              "div.sk-label-container:hover .sk-estimator-doc-link.fitted:hover,\n",
              ".sk-estimator-doc-link.fitted:hover {\n",
              "  /* fitted */\n",
              "  background-color: var(--sklearn-color-fitted-level-3);\n",
              "  color: var(--sklearn-color-background);\n",
              "  text-decoration: none;\n",
              "}\n",
              "\n",
              "/* Span, style for the box shown on hovering the info icon */\n",
              ".sk-estimator-doc-link span {\n",
              "  display: none;\n",
              "  z-index: 9999;\n",
              "  position: relative;\n",
              "  font-weight: normal;\n",
              "  right: .2ex;\n",
              "  padding: .5ex;\n",
              "  margin: .5ex;\n",
              "  width: min-content;\n",
              "  min-width: 20ex;\n",
              "  max-width: 50ex;\n",
              "  color: var(--sklearn-color-text);\n",
              "  box-shadow: 2pt 2pt 4pt #999;\n",
              "  /* unfitted */\n",
              "  background: var(--sklearn-color-unfitted-level-0);\n",
              "  border: .5pt solid var(--sklearn-color-unfitted-level-3);\n",
              "}\n",
              "\n",
              ".sk-estimator-doc-link.fitted span {\n",
              "  /* fitted */\n",
              "  background: var(--sklearn-color-fitted-level-0);\n",
              "  border: var(--sklearn-color-fitted-level-3);\n",
              "}\n",
              "\n",
              ".sk-estimator-doc-link:hover span {\n",
              "  display: block;\n",
              "}\n",
              "\n",
              "/* \"?\"-specific style due to the `<a>` HTML tag */\n",
              "\n",
              "#sk-container-id-2 a.estimator_doc_link {\n",
              "  float: right;\n",
              "  font-size: 1rem;\n",
              "  line-height: 1em;\n",
              "  font-family: monospace;\n",
              "  background-color: var(--sklearn-color-background);\n",
              "  border-radius: 1rem;\n",
              "  height: 1rem;\n",
              "  width: 1rem;\n",
              "  text-decoration: none;\n",
              "  /* unfitted */\n",
              "  color: var(--sklearn-color-unfitted-level-1);\n",
              "  border: var(--sklearn-color-unfitted-level-1) 1pt solid;\n",
              "}\n",
              "\n",
              "#sk-container-id-2 a.estimator_doc_link.fitted {\n",
              "  /* fitted */\n",
              "  border: var(--sklearn-color-fitted-level-1) 1pt solid;\n",
              "  color: var(--sklearn-color-fitted-level-1);\n",
              "}\n",
              "\n",
              "/* On hover */\n",
              "#sk-container-id-2 a.estimator_doc_link:hover {\n",
              "  /* unfitted */\n",
              "  background-color: var(--sklearn-color-unfitted-level-3);\n",
              "  color: var(--sklearn-color-background);\n",
              "  text-decoration: none;\n",
              "}\n",
              "\n",
              "#sk-container-id-2 a.estimator_doc_link.fitted:hover {\n",
              "  /* fitted */\n",
              "  background-color: var(--sklearn-color-fitted-level-3);\n",
              "}\n",
              "</style><div id=\"sk-container-id-2\" class=\"sk-top-container\"><div class=\"sk-text-repr-fallback\"><pre>TruncatedSVD(n_components=32)</pre><b>In a Jupyter environment, please rerun this cell to show the HTML representation or trust the notebook. <br />On GitHub, the HTML representation is unable to render, please try loading this page with nbviewer.org.</b></div><div class=\"sk-container\" hidden><div class=\"sk-item\"><div class=\"sk-estimator fitted sk-toggleable\"><input class=\"sk-toggleable__control sk-hidden--visually\" id=\"sk-estimator-id-2\" type=\"checkbox\" checked><label for=\"sk-estimator-id-2\" class=\"sk-toggleable__label fitted sk-toggleable__label-arrow fitted\">&nbsp;&nbsp;TruncatedSVD<a class=\"sk-estimator-doc-link fitted\" rel=\"noreferrer\" target=\"_blank\" href=\"https://scikit-learn.org/1.5/modules/generated/sklearn.decomposition.TruncatedSVD.html\">?<span>Documentation for TruncatedSVD</span></a><span class=\"sk-estimator-doc-link fitted\">i<span>Fitted</span></span></label><div class=\"sk-toggleable__content fitted\"><pre>TruncatedSVD(n_components=32)</pre></div> </div></div></div></div>"
            ]
          },
          "metadata": {},
          "execution_count": 13
        }
      ]
    },
    {
      "cell_type": "code",
      "source": [
        "# perform copression\n",
        "X_compressed = svd.transform(X)\n",
        "X.shape, X_compressed.shape"
      ],
      "metadata": {
        "colab": {
          "base_uri": "https://localhost:8080/"
        },
        "id": "pILrlA_x4Kol",
        "outputId": "5b53234b-6ab8-4bb4-83bc-29d9070a5ef2"
      },
      "execution_count": null,
      "outputs": [
        {
          "output_type": "execute_result",
          "data": {
            "text/plain": [
              "((1797, 64), (1797, 32))"
            ]
          },
          "metadata": {},
          "execution_count": 14
        }
      ]
    },
    {
      "cell_type": "code",
      "source": [
        "# plotting the per component variances\n",
        "fig = px.bar(x=np.arange(X_compressed.shape[1]), y=svd.explained_variance_ratio_)\n",
        "fig.show()\n",
        "print(np.sum(svd.explained_variance_ratio_))"
      ],
      "metadata": {
        "colab": {
          "base_uri": "https://localhost:8080/",
          "height": 559
        },
        "id": "kemQa5CLAIL9",
        "outputId": "fd70d984-1793-484f-efa1-637ba3900adb"
      },
      "execution_count": null,
      "outputs": [
        {
          "output_type": "display_data",
          "data": {
            "text/html": [
              "<html>\n",
              "<head><meta charset=\"utf-8\" /></head>\n",
              "<body>\n",
              "    <div>            <script src=\"https://cdnjs.cloudflare.com/ajax/libs/mathjax/2.7.5/MathJax.js?config=TeX-AMS-MML_SVG\"></script><script type=\"text/javascript\">if (window.MathJax && window.MathJax.Hub && window.MathJax.Hub.Config) {window.MathJax.Hub.Config({SVG: {font: \"STIX-Web\"}});}</script>                <script type=\"text/javascript\">window.PlotlyConfig = {MathJaxConfig: 'local'};</script>\n",
              "        <script charset=\"utf-8\" src=\"https://cdn.plot.ly/plotly-2.35.2.min.js\"></script>                <div id=\"78b6afb0-2b59-44e7-85e6-3afd1f75f6fd\" class=\"plotly-graph-div\" style=\"height:525px; width:100%;\"></div>            <script type=\"text/javascript\">                                    window.PLOTLYENV=window.PLOTLYENV || {};                                    if (document.getElementById(\"78b6afb0-2b59-44e7-85e6-3afd1f75f6fd\")) {                    Plotly.newPlot(                        \"78b6afb0-2b59-44e7-85e6-3afd1f75f6fd\",                        [{\"alignmentgroup\":\"True\",\"hovertemplate\":\"x=%{x}\\u003cbr\\u003ey=%{y}\\u003cextra\\u003e\\u003c\\u002fextra\\u003e\",\"legendgroup\":\"\",\"marker\":{\"color\":\"#636efa\",\"pattern\":{\"shape\":\"\"}},\"name\":\"\",\"offsetgroup\":\"\",\"orientation\":\"v\",\"showlegend\":false,\"textposition\":\"auto\",\"x\":[0,1,2,3,4,5,6,7,8,9,10,11,12,13,14,15,16,17,18,19,20,21,22,23,24,25,26,27,28,29,30,31],\"xaxis\":\"x\",\"y\":[0.02811112361798071,0.1481469070179705,0.13511832035565807,0.11687722880743576,0.0829746842329325,0.057329728677467946,0.04689540034391465,0.04166181837087548,0.03632724488048027,0.03314933555333546,0.02410884354650992,0.0233719829187879,0.020186922063977597,0.01785995323912987,0.015918462203662942,0.014040949175723188,0.013393955899965799,0.012583660331611882,0.010205121979416858,0.009791150097352921,0.008917104440720778,0.007987136708691485,0.007912120436104682,0.007650130782314623,0.0069062862996293614,0.005968873369508406,0.00576917600254111,0.005132717323578995,0.0050280797100735256,0.0044270351079010615,0.003982196864529139,0.0037845546779361632],\"yaxis\":\"y\",\"type\":\"bar\"}],                        {\"template\":{\"data\":{\"histogram2dcontour\":[{\"type\":\"histogram2dcontour\",\"colorbar\":{\"outlinewidth\":0,\"ticks\":\"\"},\"colorscale\":[[0.0,\"#0d0887\"],[0.1111111111111111,\"#46039f\"],[0.2222222222222222,\"#7201a8\"],[0.3333333333333333,\"#9c179e\"],[0.4444444444444444,\"#bd3786\"],[0.5555555555555556,\"#d8576b\"],[0.6666666666666666,\"#ed7953\"],[0.7777777777777778,\"#fb9f3a\"],[0.8888888888888888,\"#fdca26\"],[1.0,\"#f0f921\"]]}],\"choropleth\":[{\"type\":\"choropleth\",\"colorbar\":{\"outlinewidth\":0,\"ticks\":\"\"}}],\"histogram2d\":[{\"type\":\"histogram2d\",\"colorbar\":{\"outlinewidth\":0,\"ticks\":\"\"},\"colorscale\":[[0.0,\"#0d0887\"],[0.1111111111111111,\"#46039f\"],[0.2222222222222222,\"#7201a8\"],[0.3333333333333333,\"#9c179e\"],[0.4444444444444444,\"#bd3786\"],[0.5555555555555556,\"#d8576b\"],[0.6666666666666666,\"#ed7953\"],[0.7777777777777778,\"#fb9f3a\"],[0.8888888888888888,\"#fdca26\"],[1.0,\"#f0f921\"]]}],\"heatmap\":[{\"type\":\"heatmap\",\"colorbar\":{\"outlinewidth\":0,\"ticks\":\"\"},\"colorscale\":[[0.0,\"#0d0887\"],[0.1111111111111111,\"#46039f\"],[0.2222222222222222,\"#7201a8\"],[0.3333333333333333,\"#9c179e\"],[0.4444444444444444,\"#bd3786\"],[0.5555555555555556,\"#d8576b\"],[0.6666666666666666,\"#ed7953\"],[0.7777777777777778,\"#fb9f3a\"],[0.8888888888888888,\"#fdca26\"],[1.0,\"#f0f921\"]]}],\"heatmapgl\":[{\"type\":\"heatmapgl\",\"colorbar\":{\"outlinewidth\":0,\"ticks\":\"\"},\"colorscale\":[[0.0,\"#0d0887\"],[0.1111111111111111,\"#46039f\"],[0.2222222222222222,\"#7201a8\"],[0.3333333333333333,\"#9c179e\"],[0.4444444444444444,\"#bd3786\"],[0.5555555555555556,\"#d8576b\"],[0.6666666666666666,\"#ed7953\"],[0.7777777777777778,\"#fb9f3a\"],[0.8888888888888888,\"#fdca26\"],[1.0,\"#f0f921\"]]}],\"contourcarpet\":[{\"type\":\"contourcarpet\",\"colorbar\":{\"outlinewidth\":0,\"ticks\":\"\"}}],\"contour\":[{\"type\":\"contour\",\"colorbar\":{\"outlinewidth\":0,\"ticks\":\"\"},\"colorscale\":[[0.0,\"#0d0887\"],[0.1111111111111111,\"#46039f\"],[0.2222222222222222,\"#7201a8\"],[0.3333333333333333,\"#9c179e\"],[0.4444444444444444,\"#bd3786\"],[0.5555555555555556,\"#d8576b\"],[0.6666666666666666,\"#ed7953\"],[0.7777777777777778,\"#fb9f3a\"],[0.8888888888888888,\"#fdca26\"],[1.0,\"#f0f921\"]]}],\"surface\":[{\"type\":\"surface\",\"colorbar\":{\"outlinewidth\":0,\"ticks\":\"\"},\"colorscale\":[[0.0,\"#0d0887\"],[0.1111111111111111,\"#46039f\"],[0.2222222222222222,\"#7201a8\"],[0.3333333333333333,\"#9c179e\"],[0.4444444444444444,\"#bd3786\"],[0.5555555555555556,\"#d8576b\"],[0.6666666666666666,\"#ed7953\"],[0.7777777777777778,\"#fb9f3a\"],[0.8888888888888888,\"#fdca26\"],[1.0,\"#f0f921\"]]}],\"mesh3d\":[{\"type\":\"mesh3d\",\"colorbar\":{\"outlinewidth\":0,\"ticks\":\"\"}}],\"scatter\":[{\"fillpattern\":{\"fillmode\":\"overlay\",\"size\":10,\"solidity\":0.2},\"type\":\"scatter\"}],\"parcoords\":[{\"type\":\"parcoords\",\"line\":{\"colorbar\":{\"outlinewidth\":0,\"ticks\":\"\"}}}],\"scatterpolargl\":[{\"type\":\"scatterpolargl\",\"marker\":{\"colorbar\":{\"outlinewidth\":0,\"ticks\":\"\"}}}],\"bar\":[{\"error_x\":{\"color\":\"#2a3f5f\"},\"error_y\":{\"color\":\"#2a3f5f\"},\"marker\":{\"line\":{\"color\":\"#E5ECF6\",\"width\":0.5},\"pattern\":{\"fillmode\":\"overlay\",\"size\":10,\"solidity\":0.2}},\"type\":\"bar\"}],\"scattergeo\":[{\"type\":\"scattergeo\",\"marker\":{\"colorbar\":{\"outlinewidth\":0,\"ticks\":\"\"}}}],\"scatterpolar\":[{\"type\":\"scatterpolar\",\"marker\":{\"colorbar\":{\"outlinewidth\":0,\"ticks\":\"\"}}}],\"histogram\":[{\"marker\":{\"pattern\":{\"fillmode\":\"overlay\",\"size\":10,\"solidity\":0.2}},\"type\":\"histogram\"}],\"scattergl\":[{\"type\":\"scattergl\",\"marker\":{\"colorbar\":{\"outlinewidth\":0,\"ticks\":\"\"}}}],\"scatter3d\":[{\"type\":\"scatter3d\",\"line\":{\"colorbar\":{\"outlinewidth\":0,\"ticks\":\"\"}},\"marker\":{\"colorbar\":{\"outlinewidth\":0,\"ticks\":\"\"}}}],\"scattermapbox\":[{\"type\":\"scattermapbox\",\"marker\":{\"colorbar\":{\"outlinewidth\":0,\"ticks\":\"\"}}}],\"scatterternary\":[{\"type\":\"scatterternary\",\"marker\":{\"colorbar\":{\"outlinewidth\":0,\"ticks\":\"\"}}}],\"scattercarpet\":[{\"type\":\"scattercarpet\",\"marker\":{\"colorbar\":{\"outlinewidth\":0,\"ticks\":\"\"}}}],\"carpet\":[{\"aaxis\":{\"endlinecolor\":\"#2a3f5f\",\"gridcolor\":\"white\",\"linecolor\":\"white\",\"minorgridcolor\":\"white\",\"startlinecolor\":\"#2a3f5f\"},\"baxis\":{\"endlinecolor\":\"#2a3f5f\",\"gridcolor\":\"white\",\"linecolor\":\"white\",\"minorgridcolor\":\"white\",\"startlinecolor\":\"#2a3f5f\"},\"type\":\"carpet\"}],\"table\":[{\"cells\":{\"fill\":{\"color\":\"#EBF0F8\"},\"line\":{\"color\":\"white\"}},\"header\":{\"fill\":{\"color\":\"#C8D4E3\"},\"line\":{\"color\":\"white\"}},\"type\":\"table\"}],\"barpolar\":[{\"marker\":{\"line\":{\"color\":\"#E5ECF6\",\"width\":0.5},\"pattern\":{\"fillmode\":\"overlay\",\"size\":10,\"solidity\":0.2}},\"type\":\"barpolar\"}],\"pie\":[{\"automargin\":true,\"type\":\"pie\"}]},\"layout\":{\"autotypenumbers\":\"strict\",\"colorway\":[\"#636efa\",\"#EF553B\",\"#00cc96\",\"#ab63fa\",\"#FFA15A\",\"#19d3f3\",\"#FF6692\",\"#B6E880\",\"#FF97FF\",\"#FECB52\"],\"font\":{\"color\":\"#2a3f5f\"},\"hovermode\":\"closest\",\"hoverlabel\":{\"align\":\"left\"},\"paper_bgcolor\":\"white\",\"plot_bgcolor\":\"#E5ECF6\",\"polar\":{\"bgcolor\":\"#E5ECF6\",\"angularaxis\":{\"gridcolor\":\"white\",\"linecolor\":\"white\",\"ticks\":\"\"},\"radialaxis\":{\"gridcolor\":\"white\",\"linecolor\":\"white\",\"ticks\":\"\"}},\"ternary\":{\"bgcolor\":\"#E5ECF6\",\"aaxis\":{\"gridcolor\":\"white\",\"linecolor\":\"white\",\"ticks\":\"\"},\"baxis\":{\"gridcolor\":\"white\",\"linecolor\":\"white\",\"ticks\":\"\"},\"caxis\":{\"gridcolor\":\"white\",\"linecolor\":\"white\",\"ticks\":\"\"}},\"coloraxis\":{\"colorbar\":{\"outlinewidth\":0,\"ticks\":\"\"}},\"colorscale\":{\"sequential\":[[0.0,\"#0d0887\"],[0.1111111111111111,\"#46039f\"],[0.2222222222222222,\"#7201a8\"],[0.3333333333333333,\"#9c179e\"],[0.4444444444444444,\"#bd3786\"],[0.5555555555555556,\"#d8576b\"],[0.6666666666666666,\"#ed7953\"],[0.7777777777777778,\"#fb9f3a\"],[0.8888888888888888,\"#fdca26\"],[1.0,\"#f0f921\"]],\"sequentialminus\":[[0.0,\"#0d0887\"],[0.1111111111111111,\"#46039f\"],[0.2222222222222222,\"#7201a8\"],[0.3333333333333333,\"#9c179e\"],[0.4444444444444444,\"#bd3786\"],[0.5555555555555556,\"#d8576b\"],[0.6666666666666666,\"#ed7953\"],[0.7777777777777778,\"#fb9f3a\"],[0.8888888888888888,\"#fdca26\"],[1.0,\"#f0f921\"]],\"diverging\":[[0,\"#8e0152\"],[0.1,\"#c51b7d\"],[0.2,\"#de77ae\"],[0.3,\"#f1b6da\"],[0.4,\"#fde0ef\"],[0.5,\"#f7f7f7\"],[0.6,\"#e6f5d0\"],[0.7,\"#b8e186\"],[0.8,\"#7fbc41\"],[0.9,\"#4d9221\"],[1,\"#276419\"]]},\"xaxis\":{\"gridcolor\":\"white\",\"linecolor\":\"white\",\"ticks\":\"\",\"title\":{\"standoff\":15},\"zerolinecolor\":\"white\",\"automargin\":true,\"zerolinewidth\":2},\"yaxis\":{\"gridcolor\":\"white\",\"linecolor\":\"white\",\"ticks\":\"\",\"title\":{\"standoff\":15},\"zerolinecolor\":\"white\",\"automargin\":true,\"zerolinewidth\":2},\"scene\":{\"xaxis\":{\"backgroundcolor\":\"#E5ECF6\",\"gridcolor\":\"white\",\"linecolor\":\"white\",\"showbackground\":true,\"ticks\":\"\",\"zerolinecolor\":\"white\",\"gridwidth\":2},\"yaxis\":{\"backgroundcolor\":\"#E5ECF6\",\"gridcolor\":\"white\",\"linecolor\":\"white\",\"showbackground\":true,\"ticks\":\"\",\"zerolinecolor\":\"white\",\"gridwidth\":2},\"zaxis\":{\"backgroundcolor\":\"#E5ECF6\",\"gridcolor\":\"white\",\"linecolor\":\"white\",\"showbackground\":true,\"ticks\":\"\",\"zerolinecolor\":\"white\",\"gridwidth\":2}},\"shapedefaults\":{\"line\":{\"color\":\"#2a3f5f\"}},\"annotationdefaults\":{\"arrowcolor\":\"#2a3f5f\",\"arrowhead\":0,\"arrowwidth\":1},\"geo\":{\"bgcolor\":\"white\",\"landcolor\":\"#E5ECF6\",\"subunitcolor\":\"white\",\"showland\":true,\"showlakes\":true,\"lakecolor\":\"white\"},\"title\":{\"x\":0.05},\"mapbox\":{\"style\":\"light\"}}},\"xaxis\":{\"anchor\":\"y\",\"domain\":[0.0,1.0],\"title\":{\"text\":\"x\"}},\"yaxis\":{\"anchor\":\"x\",\"domain\":[0.0,1.0],\"title\":{\"text\":\"y\"}},\"legend\":{\"tracegroupgap\":0},\"margin\":{\"t\":60},\"barmode\":\"relative\"},                        {\"responsive\": true}                    ).then(function(){\n",
              "                            \n",
              "var gd = document.getElementById('78b6afb0-2b59-44e7-85e6-3afd1f75f6fd');\n",
              "var x = new MutationObserver(function (mutations, observer) {{\n",
              "        var display = window.getComputedStyle(gd).display;\n",
              "        if (!display || display === 'none') {{\n",
              "            console.log([gd, 'removed!']);\n",
              "            Plotly.purge(gd);\n",
              "            observer.disconnect();\n",
              "        }}\n",
              "}});\n",
              "\n",
              "// Listen for the removal of the full notebook cells\n",
              "var notebookContainer = gd.closest('#notebook-container');\n",
              "if (notebookContainer) {{\n",
              "    x.observe(notebookContainer, {childList: true});\n",
              "}}\n",
              "\n",
              "// Listen for the clearing of the current output cell\n",
              "var outputEl = gd.closest('.output');\n",
              "if (outputEl) {{\n",
              "    x.observe(outputEl, {childList: true});\n",
              "}}\n",
              "\n",
              "                        })                };                            </script>        </div>\n",
              "</body>\n",
              "</html>"
            ]
          },
          "metadata": {}
        },
        {
          "output_type": "stream",
          "name": "stdout",
          "text": [
            "0.9615182050377196\n"
          ]
        }
      ]
    },
    {
      "cell_type": "code",
      "source": [
        "X.shape, X_compressed.shape"
      ],
      "metadata": {
        "colab": {
          "base_uri": "https://localhost:8080/"
        },
        "id": "LdePlM2u9Dho",
        "outputId": "5a637ea0-a7d8-48cd-9781-b940fc5f0862"
      },
      "execution_count": null,
      "outputs": [
        {
          "output_type": "execute_result",
          "data": {
            "text/plain": [
              "((1797, 64), (1797, 32))"
            ]
          },
          "metadata": {},
          "execution_count": 18
        }
      ]
    },
    {
      "cell_type": "markdown",
      "source": [
        "# Model testing with raw data"
      ],
      "metadata": {
        "id": "qcaltgrg-23H"
      }
    },
    {
      "cell_type": "code",
      "source": [
        "model_repo = {\n",
        "    'lr': LogisticRegression(),\n",
        "    'rf': RandomForestClassifier(),\n",
        "    'gb': GradientBoostingClassifier(),\n",
        "    'svm': SVC()\n",
        "}"
      ],
      "metadata": {
        "id": "wa-2XNBW_pcQ"
      },
      "execution_count": null,
      "outputs": []
    },
    {
      "cell_type": "code",
      "source": [
        "# testing a model type\n",
        "#my_model = myClassificationModel(model_repo['svm'])\n",
        "my_model = myClassificationModel(model_repo['lr'])"
      ],
      "metadata": {
        "id": "mPrW42YOA54T"
      },
      "execution_count": null,
      "outputs": []
    },
    {
      "cell_type": "code",
      "source": [
        "cv_scores = my_model.cv_score(X, y)\n",
        "print('cross validation scores:', cv_scores)\n",
        "print('cross validation score (mean):', np.mean(cv_scores))\n",
        "print('cross validation score (std):', np.std(cv_scores))"
      ],
      "metadata": {
        "colab": {
          "base_uri": "https://localhost:8080/"
        },
        "id": "km_iBt4Z3Poc",
        "outputId": "c905b6fa-6a31-4327-d4e3-530b1aaaf23b"
      },
      "execution_count": null,
      "outputs": [
        {
          "output_type": "stream",
          "name": "stdout",
          "text": [
            "cross validation scores: [0.91111111 0.97222222 0.9        0.93333333 0.96111111 0.97222222\n",
            " 0.97777778 0.96089385 0.88268156 0.94413408]\n",
            "cross validation score (mean): 0.9415487274984482\n",
            "cross validation score (std): 0.031848793288462546\n"
          ]
        }
      ]
    },
    {
      "cell_type": "markdown",
      "source": [
        "# Model testing with compressed data"
      ],
      "metadata": {
        "id": "7F37eJKv_RVV"
      }
    },
    {
      "cell_type": "code",
      "source": [
        "cv_scores = my_model.cv_score(X_compressed, y)\n",
        "print('cross validation scores:', cv_scores)\n",
        "print('cross validation score (mean):', np.mean(cv_scores))\n",
        "print('cross validation score (std):', np.std(cv_scores))"
      ],
      "metadata": {
        "colab": {
          "base_uri": "https://localhost:8080/"
        },
        "id": "8e1e5wjw-QG2",
        "outputId": "2fbcd042-957d-4cca-e98d-10e3b9743c74"
      },
      "execution_count": null,
      "outputs": [
        {
          "output_type": "stream",
          "name": "stderr",
          "text": [
            "/usr/local/lib/python3.10/dist-packages/sklearn/linear_model/_logistic.py:469: ConvergenceWarning:\n",
            "\n",
            "lbfgs failed to converge (status=1):\n",
            "STOP: TOTAL NO. of ITERATIONS REACHED LIMIT.\n",
            "\n",
            "Increase the number of iterations (max_iter) or scale the data as shown in:\n",
            "    https://scikit-learn.org/stable/modules/preprocessing.html\n",
            "Please also refer to the documentation for alternative solver options:\n",
            "    https://scikit-learn.org/stable/modules/linear_model.html#logistic-regression\n",
            "\n"
          ]
        },
        {
          "output_type": "stream",
          "name": "stdout",
          "text": [
            "cross validation scores: [0.91666667 0.97222222 0.9        0.93333333 0.95555556 0.96666667\n",
            " 0.97777778 0.95530726 0.87709497 0.93296089]\n",
            "cross validation score (mean): 0.9387585350713842\n",
            "cross validation score (std): 0.03135745349621055\n"
          ]
        }
      ]
    },
    {
      "cell_type": "markdown",
      "source": [
        "Advantages:\n",
        "\n",
        "*   lower std\n",
        "*   half the data size (so gain in complexity both time and space\n"
      ],
      "metadata": {
        "id": "LGP-9kb4BkxM"
      }
    },
    {
      "cell_type": "markdown",
      "source": [
        "# How about plotting the data?\n",
        "- We will have hard time plotting 64D data matrix; right?"
      ],
      "metadata": {
        "id": "UT5mvTKqB4qI"
      }
    },
    {
      "cell_type": "code",
      "source": [
        "svd = TruncatedSVD(n_components=2)\n",
        "X_2D = svd.fit_transform(X)"
      ],
      "metadata": {
        "id": "sjTGeBTF2i3F"
      },
      "execution_count": null,
      "outputs": []
    },
    {
      "cell_type": "code",
      "source": [
        "X_2D.shape"
      ],
      "metadata": {
        "colab": {
          "base_uri": "https://localhost:8080/"
        },
        "id": "qjLyf0p3CJlO",
        "outputId": "5c2a2487-dcd6-4e3f-f8aa-eb28cc035420"
      },
      "execution_count": null,
      "outputs": [
        {
          "output_type": "execute_result",
          "data": {
            "text/plain": [
              "(1797, 2)"
            ]
          },
          "metadata": {},
          "execution_count": 27
        }
      ]
    },
    {
      "cell_type": "code",
      "source": [
        "df_2D = pd.DataFrame({'f1':X_2D[:,0],\n",
        "                      'f2':X_2D[:,1],\n",
        "                      'y':y})\n",
        "df_2D.head(2)"
      ],
      "metadata": {
        "colab": {
          "base_uri": "https://localhost:8080/",
          "height": 112
        },
        "id": "u3yw3g8ECMIJ",
        "outputId": "785a5a39-b543-42c7-bd92-3b15c17b499b"
      },
      "execution_count": null,
      "outputs": [
        {
          "output_type": "execute_result",
          "data": {
            "text/plain": [
              "         f1        f2  y\n",
              "0  2.880979  0.064788  0\n",
              "1  3.469059  0.370334  1"
            ],
            "text/html": [
              "\n",
              "  <div id=\"df-55fceb91-5cc4-4b14-953f-c3d76495ec89\" class=\"colab-df-container\">\n",
              "    <div>\n",
              "<style scoped>\n",
              "    .dataframe tbody tr th:only-of-type {\n",
              "        vertical-align: middle;\n",
              "    }\n",
              "\n",
              "    .dataframe tbody tr th {\n",
              "        vertical-align: top;\n",
              "    }\n",
              "\n",
              "    .dataframe thead th {\n",
              "        text-align: right;\n",
              "    }\n",
              "</style>\n",
              "<table border=\"1\" class=\"dataframe\">\n",
              "  <thead>\n",
              "    <tr style=\"text-align: right;\">\n",
              "      <th></th>\n",
              "      <th>f1</th>\n",
              "      <th>f2</th>\n",
              "      <th>y</th>\n",
              "    </tr>\n",
              "  </thead>\n",
              "  <tbody>\n",
              "    <tr>\n",
              "      <th>0</th>\n",
              "      <td>2.880979</td>\n",
              "      <td>0.064788</td>\n",
              "      <td>0</td>\n",
              "    </tr>\n",
              "    <tr>\n",
              "      <th>1</th>\n",
              "      <td>3.469059</td>\n",
              "      <td>0.370334</td>\n",
              "      <td>1</td>\n",
              "    </tr>\n",
              "  </tbody>\n",
              "</table>\n",
              "</div>\n",
              "    <div class=\"colab-df-buttons\">\n",
              "\n",
              "  <div class=\"colab-df-container\">\n",
              "    <button class=\"colab-df-convert\" onclick=\"convertToInteractive('df-55fceb91-5cc4-4b14-953f-c3d76495ec89')\"\n",
              "            title=\"Convert this dataframe to an interactive table.\"\n",
              "            style=\"display:none;\">\n",
              "\n",
              "  <svg xmlns=\"http://www.w3.org/2000/svg\" height=\"24px\" viewBox=\"0 -960 960 960\">\n",
              "    <path d=\"M120-120v-720h720v720H120Zm60-500h600v-160H180v160Zm220 220h160v-160H400v160Zm0 220h160v-160H400v160ZM180-400h160v-160H180v160Zm440 0h160v-160H620v160ZM180-180h160v-160H180v160Zm440 0h160v-160H620v160Z\"/>\n",
              "  </svg>\n",
              "    </button>\n",
              "\n",
              "  <style>\n",
              "    .colab-df-container {\n",
              "      display:flex;\n",
              "      gap: 12px;\n",
              "    }\n",
              "\n",
              "    .colab-df-convert {\n",
              "      background-color: #E8F0FE;\n",
              "      border: none;\n",
              "      border-radius: 50%;\n",
              "      cursor: pointer;\n",
              "      display: none;\n",
              "      fill: #1967D2;\n",
              "      height: 32px;\n",
              "      padding: 0 0 0 0;\n",
              "      width: 32px;\n",
              "    }\n",
              "\n",
              "    .colab-df-convert:hover {\n",
              "      background-color: #E2EBFA;\n",
              "      box-shadow: 0px 1px 2px rgba(60, 64, 67, 0.3), 0px 1px 3px 1px rgba(60, 64, 67, 0.15);\n",
              "      fill: #174EA6;\n",
              "    }\n",
              "\n",
              "    .colab-df-buttons div {\n",
              "      margin-bottom: 4px;\n",
              "    }\n",
              "\n",
              "    [theme=dark] .colab-df-convert {\n",
              "      background-color: #3B4455;\n",
              "      fill: #D2E3FC;\n",
              "    }\n",
              "\n",
              "    [theme=dark] .colab-df-convert:hover {\n",
              "      background-color: #434B5C;\n",
              "      box-shadow: 0px 1px 3px 1px rgba(0, 0, 0, 0.15);\n",
              "      filter: drop-shadow(0px 1px 2px rgba(0, 0, 0, 0.3));\n",
              "      fill: #FFFFFF;\n",
              "    }\n",
              "  </style>\n",
              "\n",
              "    <script>\n",
              "      const buttonEl =\n",
              "        document.querySelector('#df-55fceb91-5cc4-4b14-953f-c3d76495ec89 button.colab-df-convert');\n",
              "      buttonEl.style.display =\n",
              "        google.colab.kernel.accessAllowed ? 'block' : 'none';\n",
              "\n",
              "      async function convertToInteractive(key) {\n",
              "        const element = document.querySelector('#df-55fceb91-5cc4-4b14-953f-c3d76495ec89');\n",
              "        const dataTable =\n",
              "          await google.colab.kernel.invokeFunction('convertToInteractive',\n",
              "                                                    [key], {});\n",
              "        if (!dataTable) return;\n",
              "\n",
              "        const docLinkHtml = 'Like what you see? Visit the ' +\n",
              "          '<a target=\"_blank\" href=https://colab.research.google.com/notebooks/data_table.ipynb>data table notebook</a>'\n",
              "          + ' to learn more about interactive tables.';\n",
              "        element.innerHTML = '';\n",
              "        dataTable['output_type'] = 'display_data';\n",
              "        await google.colab.output.renderOutput(dataTable, element);\n",
              "        const docLink = document.createElement('div');\n",
              "        docLink.innerHTML = docLinkHtml;\n",
              "        element.appendChild(docLink);\n",
              "      }\n",
              "    </script>\n",
              "  </div>\n",
              "\n",
              "\n",
              "<div id=\"df-0d0f7caf-5dc7-4266-9301-e098e849cea6\">\n",
              "  <button class=\"colab-df-quickchart\" onclick=\"quickchart('df-0d0f7caf-5dc7-4266-9301-e098e849cea6')\"\n",
              "            title=\"Suggest charts\"\n",
              "            style=\"display:none;\">\n",
              "\n",
              "<svg xmlns=\"http://www.w3.org/2000/svg\" height=\"24px\"viewBox=\"0 0 24 24\"\n",
              "     width=\"24px\">\n",
              "    <g>\n",
              "        <path d=\"M19 3H5c-1.1 0-2 .9-2 2v14c0 1.1.9 2 2 2h14c1.1 0 2-.9 2-2V5c0-1.1-.9-2-2-2zM9 17H7v-7h2v7zm4 0h-2V7h2v10zm4 0h-2v-4h2v4z\"/>\n",
              "    </g>\n",
              "</svg>\n",
              "  </button>\n",
              "\n",
              "<style>\n",
              "  .colab-df-quickchart {\n",
              "      --bg-color: #E8F0FE;\n",
              "      --fill-color: #1967D2;\n",
              "      --hover-bg-color: #E2EBFA;\n",
              "      --hover-fill-color: #174EA6;\n",
              "      --disabled-fill-color: #AAA;\n",
              "      --disabled-bg-color: #DDD;\n",
              "  }\n",
              "\n",
              "  [theme=dark] .colab-df-quickchart {\n",
              "      --bg-color: #3B4455;\n",
              "      --fill-color: #D2E3FC;\n",
              "      --hover-bg-color: #434B5C;\n",
              "      --hover-fill-color: #FFFFFF;\n",
              "      --disabled-bg-color: #3B4455;\n",
              "      --disabled-fill-color: #666;\n",
              "  }\n",
              "\n",
              "  .colab-df-quickchart {\n",
              "    background-color: var(--bg-color);\n",
              "    border: none;\n",
              "    border-radius: 50%;\n",
              "    cursor: pointer;\n",
              "    display: none;\n",
              "    fill: var(--fill-color);\n",
              "    height: 32px;\n",
              "    padding: 0;\n",
              "    width: 32px;\n",
              "  }\n",
              "\n",
              "  .colab-df-quickchart:hover {\n",
              "    background-color: var(--hover-bg-color);\n",
              "    box-shadow: 0 1px 2px rgba(60, 64, 67, 0.3), 0 1px 3px 1px rgba(60, 64, 67, 0.15);\n",
              "    fill: var(--button-hover-fill-color);\n",
              "  }\n",
              "\n",
              "  .colab-df-quickchart-complete:disabled,\n",
              "  .colab-df-quickchart-complete:disabled:hover {\n",
              "    background-color: var(--disabled-bg-color);\n",
              "    fill: var(--disabled-fill-color);\n",
              "    box-shadow: none;\n",
              "  }\n",
              "\n",
              "  .colab-df-spinner {\n",
              "    border: 2px solid var(--fill-color);\n",
              "    border-color: transparent;\n",
              "    border-bottom-color: var(--fill-color);\n",
              "    animation:\n",
              "      spin 1s steps(1) infinite;\n",
              "  }\n",
              "\n",
              "  @keyframes spin {\n",
              "    0% {\n",
              "      border-color: transparent;\n",
              "      border-bottom-color: var(--fill-color);\n",
              "      border-left-color: var(--fill-color);\n",
              "    }\n",
              "    20% {\n",
              "      border-color: transparent;\n",
              "      border-left-color: var(--fill-color);\n",
              "      border-top-color: var(--fill-color);\n",
              "    }\n",
              "    30% {\n",
              "      border-color: transparent;\n",
              "      border-left-color: var(--fill-color);\n",
              "      border-top-color: var(--fill-color);\n",
              "      border-right-color: var(--fill-color);\n",
              "    }\n",
              "    40% {\n",
              "      border-color: transparent;\n",
              "      border-right-color: var(--fill-color);\n",
              "      border-top-color: var(--fill-color);\n",
              "    }\n",
              "    60% {\n",
              "      border-color: transparent;\n",
              "      border-right-color: var(--fill-color);\n",
              "    }\n",
              "    80% {\n",
              "      border-color: transparent;\n",
              "      border-right-color: var(--fill-color);\n",
              "      border-bottom-color: var(--fill-color);\n",
              "    }\n",
              "    90% {\n",
              "      border-color: transparent;\n",
              "      border-bottom-color: var(--fill-color);\n",
              "    }\n",
              "  }\n",
              "</style>\n",
              "\n",
              "  <script>\n",
              "    async function quickchart(key) {\n",
              "      const quickchartButtonEl =\n",
              "        document.querySelector('#' + key + ' button');\n",
              "      quickchartButtonEl.disabled = true;  // To prevent multiple clicks.\n",
              "      quickchartButtonEl.classList.add('colab-df-spinner');\n",
              "      try {\n",
              "        const charts = await google.colab.kernel.invokeFunction(\n",
              "            'suggestCharts', [key], {});\n",
              "      } catch (error) {\n",
              "        console.error('Error during call to suggestCharts:', error);\n",
              "      }\n",
              "      quickchartButtonEl.classList.remove('colab-df-spinner');\n",
              "      quickchartButtonEl.classList.add('colab-df-quickchart-complete');\n",
              "    }\n",
              "    (() => {\n",
              "      let quickchartButtonEl =\n",
              "        document.querySelector('#df-0d0f7caf-5dc7-4266-9301-e098e849cea6 button');\n",
              "      quickchartButtonEl.style.display =\n",
              "        google.colab.kernel.accessAllowed ? 'block' : 'none';\n",
              "    })();\n",
              "  </script>\n",
              "</div>\n",
              "\n",
              "    </div>\n",
              "  </div>\n"
            ],
            "application/vnd.google.colaboratory.intrinsic+json": {
              "type": "dataframe",
              "variable_name": "df_2D",
              "summary": "{\n  \"name\": \"df_2D\",\n  \"rows\": 1797,\n  \"fields\": [\n    {\n      \"column\": \"f1\",\n      \"properties\": {\n        \"dtype\": \"number\",\n        \"std\": 0.3662925387932802,\n        \"min\": 2.174049702590384,\n        \"max\": 4.555298276824927,\n        \"num_unique_values\": 1797,\n        \"samples\": [\n          2.895859756475234,\n          3.66038649743219,\n          2.887966730853864\n        ],\n        \"semantic_type\": \"\",\n        \"description\": \"\"\n      }\n    },\n    {\n      \"column\": \"f2\",\n      \"properties\": {\n        \"dtype\": \"number\",\n        \"std\": 0.8408824032725064,\n        \"min\": -1.9065689143485427,\n        \"max\": 2.0306372276934304,\n        \"num_unique_values\": 1797,\n        \"samples\": [\n          0.9706413241815922,\n          -0.8356324944187938,\n          -1.3667159894985361\n        ],\n        \"semantic_type\": \"\",\n        \"description\": \"\"\n      }\n    },\n    {\n      \"column\": \"y\",\n      \"properties\": {\n        \"dtype\": \"number\",\n        \"std\": 2,\n        \"min\": 0,\n        \"max\": 9,\n        \"num_unique_values\": 10,\n        \"samples\": [\n          8,\n          1,\n          5\n        ],\n        \"semantic_type\": \"\",\n        \"description\": \"\"\n      }\n    }\n  ]\n}"
            }
          },
          "metadata": {},
          "execution_count": 28
        }
      ]
    },
    {
      "cell_type": "code",
      "source": [
        "fig = px.scatter(df_2D, x=\"f1\", y=\"f2\", color=\"y\",\n",
        "                 title=\"String 'y(digits)' values mean discrete colors\")\n",
        "\n",
        "fig.show()"
      ],
      "metadata": {
        "colab": {
          "base_uri": "https://localhost:8080/",
          "height": 542
        },
        "id": "XSVEcM_4DWyj",
        "outputId": "5fe57d3c-f2ff-49d7-c9be-4a744eef801c"
      },
      "execution_count": null,
      "outputs": [
        {
          "output_type": "display_data",
          "data": {
            "text/html": [
              "<html>\n",
              "<head><meta charset=\"utf-8\" /></head>\n",
              "<body>\n",
              "    <div>            <script src=\"https://cdnjs.cloudflare.com/ajax/libs/mathjax/2.7.5/MathJax.js?config=TeX-AMS-MML_SVG\"></script><script type=\"text/javascript\">if (window.MathJax && window.MathJax.Hub && window.MathJax.Hub.Config) {window.MathJax.Hub.Config({SVG: {font: \"STIX-Web\"}});}</script>                <script type=\"text/javascript\">window.PlotlyConfig = {MathJaxConfig: 'local'};</script>\n",
              "        <script charset=\"utf-8\" src=\"https://cdn.plot.ly/plotly-2.35.2.min.js\"></script>                <div id=\"2f5a92c6-2a2d-4d1f-b070-c551df8b20b0\" class=\"plotly-graph-div\" style=\"height:525px; width:100%;\"></div>            <script type=\"text/javascript\">                                    window.PLOTLYENV=window.PLOTLYENV || {};                                    if (document.getElementById(\"2f5a92c6-2a2d-4d1f-b070-c551df8b20b0\")) {                    Plotly.newPlot(                        \"2f5a92c6-2a2d-4d1f-b070-c551df8b20b0\",                        [{\"hovertemplate\":\"f1=%{x}\\u003cbr\\u003ef2=%{y}\\u003cbr\\u003ey=%{marker.color}\\u003cextra\\u003e\\u003c\\u002fextra\\u003e\",\"legendgroup\":\"\",\"marker\":{\"color\":[0,1,2,3,4,5,6,7,8,9,0,1,2,3,4,5,6,7,8,9,0,1,2,3,4,5,6,7,8,9,0,9,5,5,6,5,0,9,8,9,8,4,1,7,7,3,5,1,0,0,2,2,7,8,2,0,1,2,6,3,3,7,3,3,4,6,6,6,4,9,1,5,0,9,5,2,8,2,0,0,1,7,6,3,2,1,7,4,6,3,1,3,9,1,7,6,8,4,3,1,4,0,5,3,6,9,6,1,7,5,4,4,7,2,8,2,2,5,7,9,5,4,8,8,4,9,0,8,9,8,0,1,2,3,4,5,6,7,8,9,0,1,2,3,4,5,6,7,8,9,0,1,2,3,4,5,6,7,8,9,0,9,5,5,6,5,0,9,8,9,8,4,1,7,7,3,5,1,0,0,2,2,7,8,2,0,1,2,6,3,3,7,3,3,4,6,6,6,4,9,1,5,0,9,5,2,8,2,0,0,1,7,6,3,2,1,7,3,1,3,9,1,7,6,8,4,3,1,4,0,5,3,6,9,6,1,7,5,4,4,7,2,8,2,2,5,5,4,8,8,4,9,0,8,9,8,0,1,2,3,4,5,6,7,8,9,0,1,2,3,4,5,6,7,8,9,0,1,2,3,4,5,6,7,8,9,0,9,5,5,6,5,0,9,8,9,8,4,1,7,7,3,5,1,0,0,2,2,7,8,2,0,1,2,6,3,3,7,3,3,4,6,6,6,4,9,1,5,0,9,5,2,8,2,0,0,1,7,6,3,2,1,7,4,6,3,1,3,9,1,7,6,8,4,3,1,4,0,5,3,6,9,6,1,7,5,4,4,7,2,8,2,2,5,7,9,5,4,8,8,4,9,0,8,9,3,0,1,2,3,4,5,6,7,8,9,0,1,2,3,4,5,6,7,8,9,0,1,2,3,4,5,6,7,8,9,0,9,5,5,6,5,0,9,8,9,8,4,1,7,7,3,5,1,0,0,2,2,7,8,2,0,1,2,6,3,3,7,3,3,4,6,6,6,4,9,1,5,0,9,5,2,8,2,0,0,1,7,6,3,2,1,7,4,6,3,1,3,9,1,7,6,8,4,3,1,4,0,5,3,6,9,6,1,7,5,4,4,7,2,8,2,2,5,7,9,5,4,8,8,4,9,0,8,9,8,0,1,2,3,4,5,6,7,8,9,0,1,2,3,4,5,6,7,8,9,0,1,2,3,4,5,6,7,8,9,0,9,5,5,6,5,0,9,8,9,8,4,1,7,7,3,5,1,0,0,2,2,7,8,2,0,1,2,6,3,3,7,3,3,4,6,6,6,4,9,1,5,0,9,5,2,8,2,0,0,1,7,6,3,2,1,7,4,6,3,1,3,9,1,7,6,8,4,3,1,4,0,5,3,6,9,6,1,7,5,4,4,7,2,8,2,2,5,7,9,5,4,8,8,4,9,0,8,9,8,0,1,2,3,4,5,6,7,8,9,0,1,2,3,4,5,6,7,8,9,0,1,2,3,4,5,6,7,8,9,0,9,5,5,6,5,0,9,8,9,8,4,1,7,7,3,5,1,0,0,2,2,7,8,2,0,1,2,6,3,3,7,3,3,4,6,6,6,4,9,1,5,0,9,5,2,8,2,0,0,1,7,6,3,2,1,7,4,6,3,1,3,9,1,7,6,8,4,3,1,4,0,5,3,6,9,6,1,7,5,4,4,7,2,8,2,2,5,7,9,5,4,8,8,4,9,0,8,9,8,0,1,2,3,4,5,6,7,8,9,0,1,2,3,4,5,6,7,8,9,0,1,2,3,4,5,6,7,8,9,0,9,5,5,6,5,0,9,8,9,8,4,1,7,7,3,5,1,0,0,2,2,7,8,2,0,1,2,6,3,3,7,3,3,4,6,6,6,4,9,1,5,0,9,5,2,8,2,0,0,1,7,6,3,2,1,7,4,6,3,1,3,9,1,7,6,8,4,3,1,4,0,5,3,6,9,6,1,7,5,4,4,7,2,8,2,2,5,7,9,5,4,8,8,4,9,0,8,9,8,1,2,3,4,5,6,7,8,9,0,1,2,3,4,5,6,7,8,9,0,1,2,3,4,5,6,7,8,9,0,9,5,5,6,5,0,9,8,9,8,4,1,7,7,3,5,1,2,7,8,2,0,1,2,6,3,3,7,3,3,4,6,6,6,4,9,1,5,0,9,5,2,8,2,0,0,1,7,6,3,2,1,4,6,3,1,3,9,1,7,6,8,4,3,1,4,0,5,3,6,9,6,1,7,5,4,4,7,2,8,2,2,5,7,9,5,4,4,9,0,8,9,8,0,1,2,3,4,5,6,7,8,9,0,1,2,3,4,5,6,7,8,9,0,1,2,3,4,5,6,7,8,9,0,9,5,5,6,5,0,9,8,9,8,4,1,7,7,3,5,1,0,0,7,8,2,0,1,2,6,3,3,7,3,3,4,6,6,6,4,9,1,5,0,9,5,2,8,2,0,0,1,7,6,3,2,1,7,4,6,3,1,3,9,1,7,6,8,4,3,1,4,0,5,3,6,9,6,1,7,5,4,4,7,2,8,2,2,5,7,9,5,4,8,8,4,9,0,8,9,8,0,1,2,3,4,5,6,7,8,9,0,1,2,3,4,5,6,7,8,9,0,1,2,3,4,5,6,7,8,9,0,9,5,5,6,5,0,9,8,9,8,4,1,7,7,3,5,1,0,0,2,2,7,8,2,0,1,2,6,3,3,7,3,3,4,6,6,6,4,9,1,5,0,9,5,2,8,2,0,0,1,7,6,3,2,1,7,4,6,3,1,3,9,1,7,6,8,4,3,1,4,0,5,3,6,9,6,1,7,5,4,4,7,2,8,2,2,5,7,9,5,4,8,8,4,9,0,8,9,8,0,1,2,3,4,5,6,7,8,9,0,1,2,3,4,5,6,7,8,9,0,1,2,3,4,5,6,7,8,9,0,9,5,5,6,5,0,9,8,9,8,4,1,7,7,3,5,1,0,0,2,2,7,8,2,0,1,2,6,3,3,7,3,3,4,6,6,6,4,9,1,5,0,9,5,2,8,2,0,0,1,7,6,3,2,1,7,4,6,3,1,3,9,1,7,6,8,4,3,1,4,0,5,3,6,9,6,1,7,5,4,4,7,2,8,2,2,5,7,9,5,4,8,8,4,9,0,8,0,1,2,3,4,5,6,7,8,9,0,1,2,3,4,5,6,7,8,9,0,1,2,3,4,5,6,7,8,9,0,9,5,5,6,5,0,9,8,9,8,4,1,7,7,3,5,1,0,0,2,2,7,8,2,0,1,2,6,3,3,7,3,3,4,6,6,6,4,9,1,5,0,9,5,2,8,2,0,0,1,7,6,3,2,1,7,4,6,3,1,3,9,1,7,6,8,4,3,1,4,0,5,3,6,9,6,1,7,5,4,4,7,2,8,2,2,5,7,9,5,4,8,8,4,9,0,8,9,8,0,1,2,3,4,5,6,7,8,9,0,1,2,3,4,5,6,9,0,1,2,3,4,5,6,7,8,9,0,9,5,5,6,5,0,9,8,9,8,4,1,7,7,3,5,1,0,0,2,2,7,8,2,0,1,2,6,3,3,7,3,3,4,6,6,6,4,9,1,5,0,9,5,2,8,0,1,7,6,3,2,1,7,4,6,3,1,3,9,1,7,6,8,4,3,1,4,0,5,3,6,9,6,1,7,5,4,4,7,2,2,5,7,9,5,4,4,9,0,8,9,8,0,1,2,3,4,5,6,7,8,9,0,1,2,3,4,5,6,7,8,9,0,1,2,3,4,5,6,7,8,9,0,9,5,5,6,5,0,9,8,9,8,4,1,7,7,3,5,1,0,0,2,2,7,8,2,0,1,2,6,3,3,7,3,3,4,6,6,6,4,9,1,5,0,9,5,2,8,2,0,0,1,7,6,3,2,1,7,4,6,3,1,3,9,1,7,6,8,4,3,1,4,0,5,3,6,9,6,1,7,5,4,4,7,2,8,2,2,5,7,9,5,4,8,8,4,9,0,8,9,8],\"coloraxis\":\"coloraxis\",\"symbol\":\"circle\"},\"mode\":\"markers\",\"name\":\"\",\"showlegend\":false,\"x\":[2.8809793817642064,3.4690586281840448,3.485858846205459,2.8184903581175047,2.5575165596576688,3.631932207954767,3.317344010815385,2.697314315314891,3.7436550575468917,3.4757940212091594,3.2361804677776638,3.321607690644379,2.6823158590549485,3.2594494816578483,3.522268129546519,3.3280813262004014,3.147494089636463,3.514874608060597,2.776724045779097,2.6701773944003526,3.5107893405272392,3.47034337329267,2.858948109961683,2.9167686139712274,2.6616199407025163,2.798043061466418,3.8871397517895416,3.2309862744181377,3.3558387443910704,3.286417861041707,3.3307399984870543,2.7327930066611956,3.6361090441315476,3.611221412334363,3.0758131000501217,3.3480375160686973,3.6047752049780346,3.1947616153401377,2.97180530686688,3.2508597563927233,3.593810364948271,3.593021848224976,2.852065386613062,2.7673398306563755,3.4323235397503966,2.944983066445779,3.2964867772451467,2.833892123259744,3.1774499636000204,3.098052264640444,2.7072219256276817,2.8607725208286103,3.470847984629699,3.1918891903750213,2.6575846975241624,3.8991228848610047,3.095607244715641,2.771795301575006,3.396120077296023,3.0008837012751313,2.909862600252249,3.729579451706647,3.450525353830224,3.4543197921424897,3.4098245855573093,3.0338239514017418,3.3132848548757727,2.9449979661284185,2.8408810133938664,3.038539967530898,2.8468168386529467,2.9673270093407735,3.809189621379372,3.4226912103558083,3.6586680084703245,2.5569858277147057,3.7933126484418116,3.2160807119357147,3.0949022719065358,3.368629350139935,3.250607366134117,3.50604315409369,3.594700406864598,2.842133297854162,3.3628339911822334,2.898197728395907,2.9723528174050653,3.4326503502535526,3.2903162439722493,3.352019842050659,2.899322095698852,3.437809544506108,3.4285062144236473,3.3021424489242537,3.2268249622183354,3.583882822698003,3.6063088451179577,3.044212233185102,3.6137970418219467,3.460957657355705,2.750212693657735,3.4218206818824743,3.4813150313588688,2.609368080877424,3.0630489453267153,2.9297344787688524,2.845492703330654,2.694945378940919,2.9406761318611996,3.7460287372048087,2.833316201303551,2.8419676266664293,3.5262745202451926,3.374106861491696,3.4929781428076176,2.919856853824806,3.0556172762578444,3.1810178568477374,3.3081253324992277,2.9554208413246372,3.035680661432359,3.5545779431717484,3.0731845152063024,3.828272412476048,3.2886271917191725,3.0291655177804504,3.8401666552687024,2.7852405622746947,3.6638770395915476,3.0918460539197934,2.884741691034114,2.7038509039860776,3.3234481045754714,2.5781550256783627,3.217675321725,3.200072483937508,3.0344232610415904,2.9597090732174984,4.159248204718858,3.0251476833612374,3.5523639495001227,3.0101634010645646,3.1851600201795334,3.5317226069150367,3.1205820053006943,3.5605606283298967,3.3483632812145654,3.2897901548163584,4.11017003441608,3.6816704913620995,3.504905557375057,2.5171137262002934,3.27613848334095,2.6869457969135393,3.3621622730686616,2.9376872799436096,3.4828389507589343,3.3923263097712826,3.3012465350257507,3.044638851560615,3.893912332232645,2.8829406012579177,3.5004654878165695,3.0506055029468633,3.2476319165169327,3.0164988528397743,3.4321801323232997,3.1515139508902767,4.13821167943213,3.027284241050064,3.0271377730788975,3.575425700783764,3.524959369034821,3.4252999277590677,3.1333946084863085,3.177750510055291,3.3435806971085826,2.985338888303259,3.8151577744464276,3.458301505622109,3.5732994179508424,3.165629933792673,2.850024813675798,3.8750083763297076,3.0267913225069036,4.088404638566859,3.46541161610813,3.6734614477087426,3.263740075621026,3.219065107790951,2.9965466516207515,3.0198124660053116,2.7469985786206754,2.8510055326209107,2.614724378290632,3.3880746937401547,3.011927836091865,3.467533091819454,3.0346796121092865,3.6096566497412508,3.0857466822393746,3.330672010361902,3.634386253981012,3.7289254025712295,2.847413552885924,2.9734440774119535,3.371495279024627,3.0192783211423704,3.9928800040074743,3.7530470760514514,3.31120860560867,3.144006857199831,3.138279527996551,3.1949166385169905,3.327140566378694,2.7834477240599442,3.132580436001216,3.342282547291093,2.7373048974308976,3.1974376871136245,3.66038649743219,3.935478003801143,3.1682988373030705,3.1391642237566377,3.869939101797326,3.5526886197523875,3.1685571239710746,3.4131555845468178,3.376509162426194,3.3868252001945645,2.837652998365841,2.8744944408378847,3.511074413610738,3.3955972072371243,3.0669760575903653,3.886807307341459,3.5713091994152197,3.311086018508848,3.291745890269241,3.315566058977684,2.7307843396958487,3.3613848444497494,3.5927274710243515,3.4784835788847874,3.691518016395087,2.6890005457378487,2.853342969837236,3.364135020804575,4.023781491644958,3.7351584817357133,3.421373800770991,3.6473522733884893,3.5561776774629594,3.767372033993331,3.672503920035206,3.8799436133410543,3.303945179411518,3.580073732964478,2.9055449379274974,2.9861321564549033,2.8136565034981325,3.1962551832999777,2.9655110890238916,3.2195861420185965,3.3615146928429076,3.169010780377259,3.1495127822074873,2.8462960938073123,3.4965886816568834,3.7715294341689827,3.607865165872223,3.2416190908429527,3.2163019954929086,3.0213069141413644,3.2040676047221694,3.381330753136827,3.1220356935533706,3.7090017262168176,3.508237673050633,2.74940047778658,2.741460394381524,3.067537182469477,3.0395704080847694,3.3043561503664916,3.107766682440266,3.103477263831765,3.067979541244917,2.820380595207482,3.0086835303564343,2.7873000645120296,3.136768999197996,2.75504855027235,2.9518545797360676,3.168110701679873,3.3085878663826036,3.148668553577978,3.5750920798418315,2.7180524266534216,3.7018277073093278,2.771783954882147,2.881061346089355,3.790221679001033,2.908415814542736,3.483273214364309,2.8517789308086554,3.1594757476132314,3.143840001080154,2.9910536342814744,3.1720544259928882,3.761501418646975,3.37387273294966,3.118918323083163,3.2487364570063706,3.47812398165776,2.8773883973105874,3.6946613779712294,3.413509663090654,2.8299581703114525,3.4187381866209887,3.5128454085978036,3.2813778889031022,2.86987574828442,2.988653960389526,2.8874176329352266,3.063860233186216,2.8499851594708647,3.457488722626657,3.401373787208321,3.100671586213801,2.889180391964606,2.7665087632672054,3.7661454369164153,3.8310309632829633,3.3081701466575963,3.346352699517186,3.1636612899216874,2.9280392258289214,3.5044353784993745,2.785901685265006,3.6194061941271416,3.3509850768976444,2.819405007433726,3.3482898220692787,3.4588350010432083,2.9059212616698917,3.5536762561210367,3.396576404312307,3.1871853206462117,3.0134876789805998,3.3439302010304424,3.0061471981893706,3.46524956782579,3.9784060907293646,3.3167061128970388,3.1550842040334035,3.1799904906185024,3.460403673986875,3.188638137401905,2.9732274492620756,2.7868106673414594,2.9909430046179355,3.002912269273809,2.9633438093545594,3.950693978023889,3.161132558102514,3.555137095736643,3.11171069511695,2.704280111835834,3.4413203397624272,2.7029267690465875,3.822904150865441,3.2572131022720963,3.4027537090551823,3.1421777163331086,3.164961178690939,2.8351298894301302,3.0091766328947496,3.185988345780145,3.201122631952822,3.641871775434646,3.392575028377796,2.6924833150553633,3.120476600613358,3.3900071766254976,2.954677665187963,2.8818119893834306,3.3409670698664584,3.4535797417982717,3.0676085608170798,3.370565923360883,3.0709537379330563,3.631848429666616,3.71704715194677,2.882338089705878,3.466521971097256,3.5999557081246927,3.5810464321426188,3.7547945149107993,3.118283272346644,3.556519807324469,3.020997830161857,3.523319920641108,4.2067140104379215,2.405867241924035,3.200226218192566,3.5957321097878454,3.4409070723337996,4.0810410620277,3.077519781388984,3.2953560269856323,3.2526043507456217,3.4442405707374846,3.9661799874889283,2.5070778361223383,3.67055263395331,3.605570457004928,3.4492234724162145,3.8006035908007556,3.4779856321304563,3.6147606335255418,3.8423189436105623,3.645129594559669,3.3163129649329735,4.048646695312639,4.329676269574914,3.449337787810898,3.4673363511776585,3.1811245777924575,3.4485490519099313,2.6985912952012643,3.4595889318141753,3.5631072646659443,3.2877541318115266,3.4205709215201847,3.262011037112231,3.035416785253494,3.537770469296656,2.8299437664510245,2.7512776574305704,3.726309221744421,2.989013312216699,3.0686531890061106,2.6710972439630236,3.0619137138357337,3.1352223815895504,3.5738430414887215,3.4995526525328517,2.3111733519641757,3.302557766770001,3.2960262373980695,2.9926264002668796,3.960485670079428,4.127705659512577,3.9123187038063776,2.877392971193201,3.5145013305268837,3.557675737184559,3.7506582773816954,3.2189236992607158,3.9175189031518536,3.621255472893475,3.033904030973073,3.1856250640640114,3.1174256913398297,3.071382943580378,3.534026063092534,3.3580205703875565,2.650816016175087,3.7215054997323076,3.323580040336845,3.0220878769086075,3.5898065143618356,2.602012951962413,2.670881255580865,3.6596109293459937,3.4151900664817423,2.982057335694041,3.14683478126752,3.792748551783013,3.967869725443884,2.930845407601634,3.7946522584100193,2.801653426793958,3.0445898758887546,3.325867722336817,3.9339043235323308,3.1227400655192397,3.2558665491002654,3.311862441203824,3.25728607113047,3.587120760206484,4.014169229346564,3.4732707931097884,3.971940424055897,2.866387268946803,3.5247977301086526,3.254832414597136,2.886071485455778,2.567038890784812,2.9323384740816247,3.887041425161078,2.8331696868082767,3.1859757054979374,3.1620010210950107,2.5803325810470277,3.7193257942433435,3.5486868894101513,2.8514632725034277,3.710280998747294,4.179643723601518,3.1469489970986726,3.4286837755973965,3.002651850281702,4.166496295605314,3.8023100478526115,3.461713996717282,3.284145473203214,3.1591126745515177,3.139446704833597,2.8703173589344497,3.2089696207502234,3.294437139591476,3.732125678065106,3.041471786072975,2.8919035353213345,3.2640259364725948,2.6459503580544363,2.6583755205711967,3.7069760779208223,2.999184480699327,3.1763752797729508,3.248057245614568,3.0080068559188633,3.306612951750101,3.4756983662081917,3.560439421243315,3.0801914613504615,3.185791632344292,3.6535510905451294,2.738228787953816,3.2357502592540874,3.0479459071769797,3.631611731457577,3.1853183610615607,3.4180485678700236,2.908492568543711,3.0903309609265,3.47145753050812,3.6293423915372722,2.8380817670503515,3.4817962492142036,2.9618279992128644,2.815928083719237,3.4602591566697094,3.2248181339346593,3.3848725409457807,3.4244324951969145,2.8299796321284423,3.153770921797887,3.4779811870795196,2.7974714798310316,2.736484175707132,2.9681884398671547,3.407864246262416,2.9158050232712145,3.4389571895717888,2.690158099947451,2.748028639583874,2.9735854614265507,2.836726483710011,2.8692414977623386,2.871573767623339,3.1155112895177006,2.677159131513973,3.4287226490305494,2.855912944433335,2.7713629049570567,3.0607759143029507,3.650639591708887,2.640137245039732,3.31035200138834,2.8367161284493383,3.519396895037552,2.752643235701916,3.5086605417774686,3.032770154386582,3.3313926834076453,2.8001166611038038,3.2591100158702835,2.8287893843700513,2.8640424353715432,3.6282410568195873,3.190623375931472,2.83090254687378,2.6609509673900344,3.007814569711784,3.0215137632701654,3.03924983477015,2.8406010731213693,2.8124399417841115,3.127675390111309,3.49032497231545,3.149214805601953,3.4522671619424705,3.6834413518731464,2.790619426163954,3.023187839710015,2.8932700343816506,3.4190428363301923,3.1436906462853846,2.982911397131637,3.668019336690737,3.2947757411855862,3.4502277150282326,2.9811383539243588,4.4467467709593285,3.298052689301266,2.699414408597837,2.798096473536324,3.047635317014682,3.6108710728758435,3.1857988678950524,3.700174306878651,3.3017379773610487,3.050845613536294,2.938911982564447,3.3388984779804582,3.22300697310646,2.921700878011378,3.546138761954886,3.0777705884774638,3.470652834966067,2.6349573320127377,2.9059110352099413,2.9581864966130227,3.2195077048471448,3.058641234345991,3.182938613958249,2.8413237460556036,2.7797312178893105,3.267045480452617,2.952979014916378,3.186045824224805,3.179879508624994,3.682683619470757,3.045897220608383,3.612688181191867,3.4989672507485174,3.6337480170344834,3.7623657660502112,3.0871860401368303,3.056857349926847,2.7147862407950227,3.2288311988897673,3.443133073943746,3.252499354646449,2.854376896659458,4.095973692846958,3.4751723265508994,3.550594510006109,3.3176178538262158,2.8947417720431963,2.699752300115771,2.9288033964964013,3.295145829317493,2.57825392976432,3.7523190249129126,3.751815083233458,2.7315769647186476,3.698590334534498,3.14854577922492,3.393373192231297,2.6612697899134323,2.5117364774207966,3.358327639525457,2.54724631684651,2.8938754108276674,2.676129306948714,3.669870068648456,3.1994849392326494,3.572039765057325,3.2579224635473008,3.4721442490703804,3.444140526825498,3.724186577758812,2.4905085251374826,3.509561792227167,3.438229417581253,4.233422344021334,2.837641731928945,2.7124426066286484,2.8457978127782333,3.326214952349508,4.174835588901928,3.3371842009437365,2.8908372416887573,3.495192149050318,3.4334008228007704,3.1216661364639138,3.3844074379521345,3.6375077498419612,3.629745983955429,3.596622055481445,3.213501210062455,2.665084424956868,3.5053428488615075,3.625261837567971,2.7752542130878872,3.1628765138367254,3.6614835135150914,3.2838138345965553,2.8148588719841654,2.9347707955993614,2.7253228445808944,3.1710397512498267,2.6228805748759965,3.5195147466892958,3.675420978880002,3.346269175419726,2.7528815294227593,3.565365404731021,3.7279324846810993,3.6859630868067708,3.6836521508911817,3.603552265487688,3.176943904409061,3.353854125313977,3.1480042067659406,2.6949585033903847,3.5913487931775174,3.19673154040449,3.7177643413660912,3.0686411403546865,3.3634518677530316,2.560142506567994,2.9419139617620393,4.262788132965432,2.895937392265763,2.5384654737432184,3.9303187124288606,3.2554394238619286,2.882782440796907,3.83186370474894,3.3313685753031215,2.9839822821390185,3.327268073440445,3.1846415929798115,3.3457942254421567,3.735149609921106,3.804084195602076,2.71732206282483,2.7317881372781274,2.7182872739069635,3.4925354210645088,3.2779979029897226,3.2346934542720716,3.3349197689119583,3.068393010940473,3.190137095359965,3.451915173623117,3.576827239216602,3.7707433046109586,3.2996387306850132,2.9767122652627376,2.857550263956301,2.63156094791454,2.8596143445594406,3.207353297664746,4.020098860595739,3.0795214478554036,3.036818756288773,2.9790765897142846,3.1977858011489535,3.5162505546394973,3.2103211812799155,3.7058055982740292,2.5731414486725894,3.064086737702883,2.9043702762495336,2.7815360019634454,3.0527404873850448,3.187425988039152,3.3189583965164,2.9616054742264457,3.541403121391584,3.2740152361425947,3.3348238200796865,3.170341474899117,3.358348232965279,3.173945351112511,3.4795275992863735,2.8524521408430976,3.4568809783884666,3.169026084737671,2.928447522240772,2.8975843281326643,2.6919082061291117,3.427754796398746,3.0794486087379824,2.9489648577886154,2.9537836334482153,2.7408330887558416,3.5795623551645672,3.0133561241460187,3.635036979728948,3.7181473951206807,2.9416561557735257,2.9489101549465087,2.9978108674905073,3.001034768166507,3.5906157467526416,3.0819184959117587,3.1737263279911483,2.470459670290726,3.635604136288134,3.256019735707835,3.566738640019182,3.1288603189967326,4.530128547810655,2.9421934734152777,2.965994444892722,3.2832150481497386,3.386375195762554,4.0477286234759795,3.5379480873557076,3.3615891453470788,3.2304558218553594,3.1968145171614046,2.6723261139653176,3.2664866372117376,3.3154774889422973,3.533129806502218,3.1343778785723777,3.3784548795018154,3.6929365643236274,3.1886495144198164,3.697223061332967,2.9079770674835363,3.352185217859698,3.567203728720535,3.5676486999408623,3.685174946447241,3.4238440292340786,3.240241945541969,3.1703732781391807,3.354828280966488,3.931087908535527,2.9209258644532254,3.629036516817313,3.710573436882766,3.2539431319827075,3.2520618156374557,4.133221887478806,3.072651122682814,4.024605199120567,2.7070839884482165,3.954804017125572,2.720184570903862,3.430823390601503,2.9164219202876662,3.6235732243958374,3.639315225873039,2.8523860254142437,3.2415002001772923,3.6919224790988627,2.9685452209239602,3.3532776647340126,3.184576725664756,3.224877054735632,3.5897871621424158,2.8630431077727674,3.104844193786224,3.4446623292691974,3.2718087979873296,2.9870002015983723,3.3117585287211515,2.643131245175217,2.9452976096228807,3.5419527478784967,3.1662879834832482,3.200770859482129,3.3099326876778723,3.1213621724810108,3.488441127676564,3.3129272716491442,3.287956706487345,3.003513815980221,3.2613373228090086,3.00688345177982,2.9479878328756812,4.27549197733041,2.5878286133428317,2.9240230615148444,3.55837406942882,3.1086848032045458,3.306832475841489,3.081696262422709,3.0837014859691374,4.209477818516092,4.0430543235127026,3.1075409564585303,3.073759935816393,2.792496667124444,4.006622591403169,3.3178538531541517,3.3490401073448486,2.9705833525851095,3.4068038562426093,2.640542885558175,3.3717176260280337,3.1101585567047065,2.6824210672767026,3.45238712257203,3.790550496476191,2.7722437249587304,2.7691970938031853,3.1843610836601246,3.224679692742637,2.8015443881770112,3.283934717922002,2.8297246021342164,2.6646253455266744,3.4459768691656945,3.543286079011118,3.1897607744452525,2.813339698540487,3.108065709853326,3.4593828866941694,3.545157154428364,3.297295800708669,2.7976879818244753,2.6964288527827622,3.2870028951954064,3.4622828661372527,3.1291112100916703,2.8282499925254014,3.185410251110089,3.0232394559742657,3.1886533007102806,3.2139590205479864,2.6503725591334897,2.547493647202443,3.248061383729866,3.5965712243286543,2.860991025005066,3.585196332391449,2.584048788842269,3.107016632590511,3.4985107383290024,2.8498571762169704,3.526346980490596,3.594133137585495,2.9199136333437083,3.3482623125986506,3.505383037214142,3.350082950634174,3.3894180726721572,2.7458250617593647,2.707527160232111,3.2956898840810336,2.723485840802072,2.7545101324167223,2.772017819762052,3.3483762061763045,2.757533587808618,3.587506050806945,2.5862127318852335,3.2412430728546475,3.16798576343217,2.8079298063981,3.229195012650414,3.0402999642254223,2.9187446938399106,2.91989464549971,2.7004915065266277,2.881983176040976,2.9093554878946484,3.557052769082237,3.936356683272051,3.524218276861473,2.5741667315532957,2.612686893431042,3.038065621104857,3.2176440719371175,2.796418179835687,3.5205849656725894,3.17460441858539,3.031857876990813,3.1704724098280677,2.9641362140511034,2.618847161519109,3.0213203410360987,3.4048922621942124,3.114016280483954,2.6369916002805427,3.54033251665788,3.0416163477219853,3.6391974874390782,2.8497933817650765,2.8370025488315886,2.6520472587302595,2.9084694755553286,2.952097683716292,3.0730271962809756,3.3164758347627576,2.9338709231249953,3.1948263620452937,2.7829868283495713,3.0682679289551342,3.5593571496723304,2.924648200416098,3.272535766979099,3.346062412919258,3.45487985504186,2.7343297524430064,3.5680624828574237,3.2449024195546183,3.5091487908969383,2.833509628988821,3.411576734727088,3.1505271365251954,3.700207737757129,3.1984313401588422,3.1361627931592935,2.7168631249344917,2.4516076951021284,3.336396213565506,3.2897606018751078,3.564892138582254,2.718654949912519,4.350885279389961,3.3585760229832533,2.640115125014822,3.349813556811165,3.301828928770342,2.822515214305876,3.1337911381704946,3.4488703732674195,3.3217061427917085,3.129862737486783,3.844945459416112,3.3935065050058633,2.7185693228852608,3.3557125512763974,3.3071028478191664,3.1876858963519177,3.3190670500952066,3.240427993614281,3.1602716983433132,2.7550294831655857,3.3161512587390485,3.592363784572779,3.0684351316174725,3.2073744070819026,3.019573709182653,2.835105031134029,2.6404679468198426,3.420748434567301,2.8008925826625135,2.7105520895313107,3.2331073424295984,3.178886718137367,3.0318186066262394,3.066923273138466,3.048294989835331,2.9366316420045306,3.2485128552993987,3.475709308724641,2.9960044833072836,4.116147947928306,3.0862052856544397,4.251845815792968,2.671227538512404,3.098074889508169,2.960368522261429,3.6143738740867386,3.4917783695184226,2.493006157758036,2.295544399312647,2.5185856850774275,2.865401432017533,3.451170121696979,3.5391967303040266,3.517328686863127,3.2396473574097397,3.6367312361341013,3.3638827271305387,3.3994908722325086,3.2267911713087463,3.410726828359732,3.5432323729797237,3.341034048860773,2.781021309588833,2.77656368683152,3.263056541197256,3.1193185539247263,3.181268222975924,3.264899639952968,3.3174501923498405,2.6393167802624893,2.790454818565276,2.8302699254968924,3.2387805131926037,3.113593923356661,3.5267011401503483,3.482598432255626,3.3416020312429913,3.4043837462802955,3.1236765622991935,3.3090753111781086,2.859971399381554,3.4635309849391804,3.4754781270526713,3.4516700603049006,3.0170568046617623,2.8195504733142998,2.727868307246757,4.11963014363204,2.6215400200439403,2.818516621376662,3.5653508194457597,3.367888295797202,2.733192136570831,3.0434564114472957,2.9908199141108707,2.565463549518037,2.9633628001560206,2.7474465891725046,2.689159792340077,3.203450721294435,3.622084719772841,3.506127784959675,3.732759522995329,2.7034582507549234,3.5090050680094538,3.2497437850861206,3.248127889085973,2.669972073770267,2.9040929367465163,3.146635609757371,3.0649522069100255,3.0700141153584726,3.318957779839609,3.4314479620033618,3.3977911724952357,2.916144357250821,3.1819276889975106,3.218506179612408,3.221185060737033,2.977596652604334,3.5266710098082967,3.2584714947644238,2.7259815413932054,2.8677853969694933,2.9498949333980073,2.8744293597253643,3.3162828152882615,2.80393433060279,3.411122831597804,3.0741563529071096,3.4656140440192496,3.201778010313728,2.8196485720569155,2.7047138338741465,2.9555097109393467,2.8030284064793487,3.5707653955374936,2.688072883112295,3.165122600764663,3.321542215159324,3.4517531583167798,3.20512185033298,3.548555110529046,3.5657087373670233,2.696399134434341,3.3662294291972645,3.319146460829774,2.83317204449925,3.0423873279006135,3.132546117562528,2.5289753219840074,3.1789828952943533,2.6150728323515304,2.6217257691917055,3.0173663752380144,3.8463360030080924,3.809185685523551,2.703383214279613,3.1225842666317027,3.395766132286212,3.4545179316694807,3.4848821891073087,2.8743581209520332,3.4691073572913154,2.8007050424155184,2.4242285545725513,2.809211484917596,2.984512137610569,3.0240851221951996,3.8119965140194334,2.7601024569653174,3.0431915310459323,3.004445147538508,3.3971670834343097,3.167518091797579,3.5509042251879923,3.353918124270895,3.511241959854465,3.160256954263839,2.953168715727354,2.8865848673907193,3.33386559150047,2.848284033882527,2.6540805365319255,3.507967338008418,3.6732602310989058,2.8370912312788596,2.762270691185055,2.852492712395626,2.840792171905557,3.312979624557857,2.6467372601884964,2.7987737666704806,3.687416452015165,3.5201719925943276,3.0384753292501827,3.724983395663253,3.512369490607454,3.1509625476533274,2.734924216345258,3.7145448612869645,3.3701094851839826,3.316894506757588,2.8532189911641432,3.5188716001748315,2.5698785096548544,2.7284315519639137,3.298140152321107,3.0410189173538877,3.110482159024298,3.4256098780659094,2.746835772442414,3.4101884755481127,2.8042326166318685,2.9668418092859907,2.895859756475234,3.0249396672622684,3.407980712420088,3.3706921178205795,2.76490927142839,3.397314623767969,2.9793211220299107,2.9072141996290606,2.813568711324646,3.399792929889931,2.8052565241230965,3.0450966971300972,3.230579913406323,3.1143367781522895,2.6074384118259686,3.445002728178085,3.419800151936484,3.589591307219013,3.4801144775456136,2.8035606299353186,2.92350500365884,2.713098109092428,2.883196641936098,2.932689233241556,2.931848329799864,3.010597421792148,3.656223182424553,2.878874594565445,3.3138797777598663,2.7874839647981844,2.7791713090531607,3.787505856795434,3.0028102792674893,2.908802339288897,3.7980949067756344,3.790912153009847,3.14753631993985,3.5717882623802137,2.4882218867671013,3.7375809808594953,2.714881969502237,3.630088436683255,2.650240376029802,2.705635204523044,2.8916604692340124,3.1557211310637663,2.8437316410127447,3.5847555200644856,3.5338433002851795,3.224399282065285,3.9098734863919598,3.5416651445832605,3.075890167499329,3.1162931310642144,2.89718189423689,2.965964794977149,2.746655147208053,3.0577965543798316,3.3799487398465913,2.712182225649533,3.865727432275128,2.57985349725282,3.1972468257669058,2.3495712495870595,2.856591968017507,3.436668372155908,2.5286827851285385,3.2665598979626496,3.3396119018592403,2.5573922463129226,3.7911745413067233,2.5907054820526287,3.5151384617083874,2.963156130651622,3.709653603808951,3.708737866772195,3.4795620872579534,3.3430369111494533,3.884428719297431,3.107874591008063,4.01951210458697,2.786746548852423,3.815661210135625,3.023070324296043,2.7662858591481814,2.8899579629552865,2.465274764579506,3.510846490557263,3.358995351851993,2.9296793862952164,3.4500595606347413,3.5323221515189327,3.085079082837811,3.0965353305017937,2.8738129772660854,3.8923757291182373,3.0479232958339293,3.5742058333074502,3.224863688356217,3.4924606913252214,3.631475954753623,3.417750434646638,3.5145229235241895,3.474212095776463,3.6234134223704935,3.510991225512978,2.86150942163019,3.7595735890143334,3.844315213701236,3.6112626574985653,2.9259420050342646,2.7529763817248676,3.08994766642853,3.47183008207583,2.8029683205698652,2.8601599539115683,2.9091960664928127,3.189172139043705,4.001950565204737,3.163488485619962,2.9416415630272073,3.371569938119986,2.969510046475435,3.1562538665811712,2.7899513794106667,3.3592568844872535,2.9335353815200675,3.1768961268160356,2.712551614809423,3.2054689386361677,3.526507616469933,3.020196346081574,2.780181654845943,3.1874012965234595,3.728701102213749,3.1574412155657607,3.4618262146855634,2.910070265504368,3.2435378989605703,2.962428164643353,3.638750953743043,3.119058894842492,3.2218771032885116,3.431855108464013,2.628180988207663,3.4545218768512598,2.8185973135635485,3.010793336997375,3.9138245298852223,2.875143829706967,3.4567255052772374,3.045064123378288,2.9713681191070207,2.9630367905211528,3.5641513077746776,2.5557349756872547,3.513162851469017,3.254287269487891,3.263484149469743,3.3852556376321665,2.720943372792122,2.545907725691121,3.0143777851090325,2.9080821839208966,3.7639885853795585,3.707392110813835,2.9529775973051553,2.6314071697055006,3.7858172469225706,3.15116773105074,2.7051630816838332,3.393010656570364,3.2064763931671787,3.027682359751526,3.222897921748777,2.882457037150437,3.102284638361283,3.139824394299333,3.4739124546721842,2.8677216067655835,3.1164472247226906,2.846656941164595,3.3634671646703826,3.661929234796656,3.2225879299335474,3.350875512544312,2.958253624342275,3.144637629317076,3.6358767369509564,3.6076001162764277,2.8033298571232432,3.1892968853358705,3.369794162628818,3.1030798797436443,3.32983781989741,2.706036157962531,3.083745102702208,3.2459076029244796,3.471200476115692,2.8444498812004255,2.746325407450204,3.296452621746827,3.2127181686899218,3.1497029430713446,3.044086742127675,3.1306773184025025,2.950235402931249,3.186883388420165,3.643368184372261,3.277831203948109,3.6196612470981817,3.4575950904097192,2.9619595733181305,3.3162225451948513,3.3858190605400917,2.949589423046419,3.1825493041759656,2.381165573361414,3.034724608522037,2.878762388228166,3.2372774454248456,3.0028168428084197,2.695579268693547,2.961024635867408,3.0605889623616847,3.5104743577444655,2.9288003429962477,3.293035092935497,2.56994958103335,3.780546001044639,2.923602275727611,3.1057857204776305,3.592129491258362,3.2238257594225224,3.1790012372121117,2.7094922094584515,2.5991193695458596,3.596283187337679,3.161772667694687,2.6979222242674465,2.983995487692141,2.7918592575485897,3.4165351690189234,2.7761365782840968,2.84871357392499,2.872556303742863,3.1439762149024837,3.188701425773752,3.4201707846131115,2.7702973729105076,2.833868279890704,3.0144523938311942,2.908080763328256,2.7665505305705675,2.8504592430468145,3.175682138403415,3.1138247240892505,3.1672537044935076,3.0108562795117244,3.5419876975599967,3.263764744790583,3.272716963155992,3.089739806663095,2.5492587481654625,3.0229925574063405,3.021825179169499,3.543005215947809,3.353940495841769,2.924264434895053,2.3154473713583053,3.313810309709954,2.767854964443742,2.808191490618469,2.887966730853864,3.0246498105414594,2.7897887267415995,3.1137419022790107,3.112929809169411,3.4511967078767487,2.759579998866575,3.3175769090136167,3.3605239079403697,2.930793481974283,3.2962919127273227,3.4058994621591885,3.5755712074565675,3.3102593770076165,3.4744387032214585,3.396543512765669,3.165327156471414,3.227651732987446,3.3150040526612874,3.5518201148565787,3.5688752968307282,3.5262162449418084,2.969112344647199,2.8824816892318847,3.441940870213483,3.00891989040785,3.3693354264526842,3.755856356002515,3.1361809445231983,2.7041787735206624,3.191563937748226,3.4470114170959105,2.7799093640575165,2.824748892900005,2.9440121999608246,2.921613596523319,2.7269073300432622,3.597310712306613,3.5815279743541932,3.1699467971321496,3.1386521727781163,3.0121481167694735,3.038391780915206,3.340863091779152,2.8448800804485206,3.5024353410850213,3.5488827686620157,3.007543601104452,3.354980629459291,3.2307887204389827,3.538487666969971,2.8546571140141848,3.1668181917034826,3.093793157000451,3.079400705912464,3.257025093119632,3.082334146675797,3.3530012862594414,2.9631828094562453,3.613648639146356,2.855075679505964,3.2908463432907826,2.6451323229758734,3.424867059255898,3.5688214400997946,3.2202810075834907,3.1535937055054277,2.65332448085027,2.8353117984181897,3.031569985709538,3.372860166290739,2.6252051984417,2.7749983049111004,3.7895903754380726,2.78874488407516,3.284220674316631,3.116100853774603,2.4627196966129445,3.9153799186965466,2.9712179357683253,3.2235608124514625,3.1783186978003335,3.4911076864962314,3.096402289331428,3.4271819497366027,2.730979574081646,2.971792717243837,3.1382993005807283,3.27509392194837,3.1337403325802042,3.4432280789382412,3.146466406084562,3.30406569425356,2.661289212284021,2.58163628664145,3.0528637007091906,3.0601794004989427,3.545696140413579,2.818158747515255,3.485306548977325,3.2327105563515572,3.3691230142137867,3.4739258831817175,2.7406072102029815,3.237086112742635,3.3665495871785525,3.707637468536789,3.078955399650766,2.174049702590384,3.096901543269572,2.8018625523768694,2.9860618997311676,3.2087774585484703,2.633811036699347,3.8643116030225886,3.255659431058021,3.1707940751715507,3.3033966624545426,2.7851953307280355,3.482603252569291,3.2253348659931813,3.538710962152514,2.810896871911593,3.5609421180561296,3.5460216518527297,3.052666146450097,3.1415257413388264,2.8662055028460007,3.143733175040598,3.872190554846809,2.667399125354074,3.621075444105474,2.8356283877763357,3.3408707771628183,3.357402165727859,3.6043801539766065,3.6118559196867013,3.601928119307396,2.593268036892509,3.26911586521601,3.844821225619826,3.3182369441660096,2.653050456510444,2.873479252806903,3.1885080768957916,3.0582018889131226,2.8283480837575206,2.7743242608547374,2.9364911567591543,3.1727404600152496,4.160288393199301,2.975425188512725,3.1943362973275153,2.47098821355252,3.0778650624685926,3.140096930652737,3.470814556472877,3.3221200017586567,3.5316593596302686,3.2040316091165706,4.026929404302045,3.2439934123557057,3.5107034120964693,2.5977175216686326,3.7463627643902053,3.397308310668897,3.487417320738696,3.3650627090429754,3.4045001581240317,3.1717578427767013,3.6859341355063955,3.212592566521386,3.7417502286384745,2.6706916519109885,3.0396767089959607,3.454022427594267,3.4522744405074546,3.8396776522037213,3.013918382900472,3.149786857422102,3.3368094438868874,3.7155774493947336,3.5308608187610746,3.380487369122074,3.1990629611511525,3.6174592468989855,3.9246123000732043,3.9429431484875233,3.2458493788613327,3.1267912366638764,2.743032952697659,4.323785237406635,3.1881057805470765,3.24561755309974,2.9135224744898727,3.000478645022581,3.668779444535331,3.535277860260886,2.84031250721306,2.5823886514994365,3.4550279749148087,3.3820893216107244,3.1912489049151227,2.8150262890116604,3.5099703415084518,3.6049436355453586,3.3276378787297327,3.444178999422415,3.7537879974135766,3.403380812800392,3.390777668469064,3.517972800157048,3.351800929661247,2.6792857783614945,3.3093882664562817,3.4443571198926777,2.752593534327954,2.9870797007152405,3.6337799723146142,4.179995999781407,3.1424108418489616,3.2009468549579547,3.4158744673140284,3.2250167197215736,3.116724742290688,3.6734089617303862,3.330689328771646,3.0741553850194374,3.3885217770609666,4.555298276824927,3.335305829673223,3.3826471047965714,3.487474470667476,3.2496408310845326,3.839234555275311,3.1649466387552234,2.9528203333449317,3.263814216268752,2.9088382601474554,4.063406997136312,3.6163511925291676,3.8502689258612324,3.8406769017522793,2.8263023727549004,3.2425419826660327,3.7032234238716093,3.2113822502268086,3.6387889219467815,4.398435015039154,3.101156552174866,3.5301712468850845,2.70618605040445,3.1289169459233905,3.526064606184083,3.7253277636499362,3.26877034642535,4.296288719015614,3.252479338538381,3.6254534403677052,2.6804452450787664,3.295738573690881,2.5454457206138095,3.3686679159987865,4.01914602752008,3.383161574851509,2.8149189212650123,2.9460704959726685,3.4915884060359943,3.8167745793746617,3.4107643622401755,3.2300482087167963,3.766655766508607,3.5563453536428287,3.4379553258527267,3.5969669970528106,3.997791371172176,4.0905632192008605,3.6666273138939802,4.024005669447872],\"xaxis\":\"x\",\"y\":[0.06478751904304639,0.37033353715043515,0.36609295340704934,-0.9959418201959679,1.487641792374578,-0.8468104901814041,1.3061226313517527,-0.2601986809106218,-0.34577993346379643,-0.30265619387708353,0.8063928104549178,0.1414694464040053,-0.2068264526393908,-1.4680155298060298,1.5790715976513108,-0.2003810845860666,1.010743792048948,0.3040786322974326,-0.25374874333599323,-0.836993101374628,0.5079603526129014,-0.040126068455483214,-0.5868335193048831,-1.200224103363859,1.1384073075724175,0.3478233122833053,1.327554910390299,0.3391691231882768,-0.018681693406664313,-0.8776397364280872,0.18846467376286294,-0.8188758422799133,-0.32865525955347114,-0.4609428520066968,1.0964700525714979,-0.2663395618446677,0.46699530341684886,-0.8177361273518371,-0.059211330727542255,-1.2329122810701598,-0.3494948864727199,1.597194807916488,0.15604088266166086,0.34684275096372125,-0.26195309421509666,-1.2868936018595478,0.11152549072841908,0.06084027369998186,0.43947354183035703,0.36475703940677295,0.015506326535180831,0.3520145706318466,0.43197663982068657,0.05061938761036265,0.636347046733923,0.7363514335185599,0.18037521883704555,0.3424080486909693,1.4117493718570175,-1.2597720602862517,-1.4502021249180272,0.2689387549516952,-1.4819255515978895,-1.4060966754341293,1.8350753179739054,1.350051841907134,1.3222497150273154,0.959919111213976,1.19539902923738,-0.5819764612323597,0.44162431659696694,-0.40785638786756584,0.5087209446560298,-1.1084127841369062,-0.09974118672594451,0.14035997707617662,0.07860199840237492,0.35157928522874293,-0.07640535002686248,0.06928164818418057,-0.05661206293995126,0.023730058180962074,1.3275027879454837,-1.279585638532592,-0.31187673635476876,0.3792370189979288,0.43700499079289995,1.0788313529629012,1.3323088218348271,-1.5007290470220884,0.1453380951456234,-1.3769801525768013,-1.1902355828719908,0.6829252664647466,-0.07957923720336449,1.1817947631304055,0.1455777937655261,1.4253192193687518,-1.5651674464309997,1.128962499228194,1.4606655780547015,0.6466025903724312,-0.038963608815657934,-1.0281645859425212,1.5024704160053237,-0.9632153137856435,1.0692806188407944,-0.06882557587216194,0.21298832331996898,-0.0011995787763359363,1.0660966098311615,1.2017136540907676,0.091394365252732,-0.21701873987297496,0.14943665139544554,0.13194811292705994,-0.34696812407712846,-0.30783332614395154,-0.03873330376848911,-0.6853756121239025,-0.23252664171765067,1.002840816188082,-0.1072065564907413,-0.34200742086087754,1.5655217418165916,-1.0097565730324831,0.5927513567487299,0.04412884072178609,-0.8801988136328202,0.16235300340895117,0.26379915327389925,-0.18173525437176136,-0.6313747880666759,-1.2784626313953666,1.1085480679002246,-0.16725872438349793,0.9553864703634612,-0.005556259558423256,0.02677114283434894,-1.0676309986109915,0.35458229635112765,0.18766115356051755,-0.7217975244982511,-1.695712314275892,1.3587090654238145,-0.4090277244873481,1.1349416614566874,0.20525650220408945,0.2294351214539017,-1.0778760883461873,0.6064756833283491,-0.10934554332824845,-0.8327445566601668,-1.08519769074195,1.2002343254070815,0.38084716061266927,1.2200669543048954,0.16496415914308282,0.37344190083072776,-0.947818463897858,0.5204978287733113,-0.7632658233532444,-0.02610462713351187,0.22018273355230686,1.1785140744668086,0.06827477939864253,0.40441470254045847,-0.8355101094318569,0.17915522647003454,-0.9929603350692008,0.16145743391591205,1.5044026759315066,-0.12586916950300572,-0.04636023288220515,-0.20916061497224206,-1.383945655187602,-0.2525494184021066,-0.04888181705518951,0.32157746970986334,0.768422241396449,-0.6914433505830647,-0.7131357042051196,-0.05141583880187185,-0.3533867534050947,-0.06546559250545024,0.7892128782625215,0.11360472161805243,-0.2989948657652281,0.9971534927845799,-1.6054339425053497,-1.2143091618249924,0.4578616704770438,-1.3202768494632657,-1.4483322801803422,1.2262285644271804,1.4616076465064984,1.1745120777870477,1.2315421492908758,1.221708243360186,-0.5941120423351676,0.41753244349674606,-0.10214004939576618,0.5022045550836739,-0.8925444310406767,0.12332525775233488,-0.6249009939650337,-0.10934821964936593,-0.4357121330302596,1.0323200608207812,0.8231112517444735,0.09958346178327433,-0.04772347893106378,1.118859046926509,-1.3056783353800467,-0.4278954907662833,0.025418664504752417,0.2498350494453286,-1.1769168687858897,-0.05923496899310549,-1.280999222581435,-0.8356324944187938,0.4321442459509659,-0.1813173174762273,1.1724397915364675,0.10525190272131557,1.5895223474369666,-1.141768415746482,0.22287824480092994,1.5092597630767999,0.16976283610351509,-0.10668613980305056,-0.8591100969134207,1.1395992782309834,-0.8195247239777447,0.6962911059526592,0.5819792922487679,-0.10345484432056237,0.40922725056917636,1.2077291142124114,1.317812705240256,0.25247468038221355,0.024602899983333038,0.23180172139808702,-0.15648433011190194,-0.36606915573763005,0.18728416878870627,0.09764258025327571,1.064189491912655,0.02334762452621258,-0.09395186036081232,1.3762997983092933,-0.48257933830579575,0.625573379413964,-0.14538691676661106,-0.20712331356645053,0.2807309225774153,0.4783571165079522,0.5363798195228887,-0.7178797891052294,-1.2179477406668,1.3124168078188443,-0.6665463343714031,0.9610106623918352,-0.43194630243698295,-0.4235872739336869,-0.5171867461965758,0.3335722406814521,0.44305848346216176,-0.7473448392482411,-0.9961402396739567,1.6595816428047365,-0.49294139182456137,1.1841738332376015,0.01091033425686131,0.05609394463975491,-0.33015493458960404,0.16167483065144767,0.7360471250166909,-0.8973597890033388,-1.403065514516467,1.4765853423155115,-0.5428333024151711,0.9923300888001333,0.423394342667847,0.392691786709228,-1.4043996735565085,0.4833919473295358,-1.0178519934332795,-0.43529211556765124,-0.384646779310877,1.109787321782466,-0.47529000071361915,-0.06261584730413887,-0.8905057783422596,-0.19231937661263857,-0.9119492262813199,-0.08923645243148551,1.764638604900719,0.7375847165256155,-0.3396120254719555,0.04998368546329853,-1.2882420923493156,-0.4362447902696629,0.48569546394794155,0.34217880331684974,0.11440084805181035,-0.842764773218998,-0.6914592475469432,-0.38513329329760426,-0.49202928505050003,-0.9063380633807647,0.20401801458265573,0.29927324230887387,-0.8494946716576441,0.3866124260055168,-1.0778552944481261,-1.2945138233742228,0.06925765936621184,-1.5868316011398653,-1.2928069388237329,1.852701891926537,0.9313989511299029,0.9452457177103902,1.2075969282316448,1.663767835375911,-0.22831912994153106,0.5715044581053844,0.3411522788584928,0.23886315306644657,-0.47768386847368716,-0.3239487166560243,-1.0504206606116502,-0.2947458982209398,-1.0095602154544843,0.35952615705075863,0.13682818500665042,0.36970636872375573,0.1024073413053159,1.2620282610812048,-1.2894872741639913,-1.0627070047647498,0.30684619392582835,0.001934081829112878,1.6469229138277497,0.9239913684802037,-1.5827894720789049,0.5371524497886135,-1.049661350158297,-0.440250771257287,0.48359917321941126,-0.20879528471641032,1.0963108942976547,0.08424627662365984,1.9740581560059076,-0.6901484912516612,0.07233846141177132,1.2902697048069673,0.19786158339231913,-0.5684569168048217,-1.373322234643124,1.1221956295390545,-0.5355836751654225,0.9896980751766646,0.8586773673703176,0.19085595856185394,-0.5112836372767323,1.9058574227333323,1.7761980548260718,-0.05301471688549047,-0.905110494259845,-0.44819112841467557,-0.8047627683364877,-0.9277337837424944,-0.7897410662040641,0.29618562290900774,0.08405683510892631,-0.24696320007787168,1.842393093454908,-0.4140104079809002,-0.31182093997890903,1.6961078432081338,0.22565924827775308,0.2810589136540827,0.14376368082607832,-0.01839952485423177,-1.4876236429352763,-0.17478317691599438,-0.3398966371655055,-0.5770710569578077,-1.3089095247713338,1.0905761287562663,-0.651351793141654,1.3448050851006759,0.14142721151881735,0.0008415969030700337,-1.15498732606859,0.11743729104655963,0.09976209744686486,-0.48574063348764435,-1.0708584377518096,1.3337455599344938,-0.12735111595340892,0.9207321979976647,0.2125164942836647,-0.2805384330086786,-0.8018605459609507,0.42318912005198883,0.25954456495415845,-0.44816783250129955,-0.5038003722011819,1.3513326385192148,-0.05735068210260336,1.043723654171598,0.38950354001690307,0.3545298157378879,-0.8515744148074612,0.5885207149324831,-0.6070463606104023,-0.9528612649139536,-0.22205863133113554,0.6925558148975391,-0.7283638207099288,-0.013992892595864025,-0.7839199509024205,-0.30614150350883323,-1.2275487846413848,-0.3659224472528333,1.194414825463215,-0.08697354642628478,0.49184992737113986,-0.33338017709618734,-1.2727058932462094,-0.10751452431599164,0.04732574854592905,0.33726292268655395,0.464852953862804,-0.7191774707197286,-0.7983089774026009,0.15125346137467383,-0.41931382566527775,-0.8245426253210152,-0.16773815206685025,-0.07264198381169068,-0.760202698830813,0.7151854810349378,-0.8689589754448274,-0.6809820343158747,0.41618393376833834,-0.8293907093483901,-0.77522512349274,1.409264800455201,1.255175106938837,1.0748790429215171,1.1325580125249113,1.2297044775339168,-1.2489713115173842,-0.06404985522501372,-0.2552629900945249,0.2633619082516542,-0.7051167583507011,-0.35748043255797807,-0.4436056919173397,-0.44222674330868744,-0.646817084437724,0.10954153254238444,0.15748578882083827,0.32378408273476217,0.596334748114183,1.3231497856054806,-0.8284795296094799,-0.44037748840893765,0.7272997345158313,-0.3831690807013413,1.11235355149565,0.8690411822533882,-0.7872003374561782,-0.07226545715193884,-1.0072564058565596,-0.6924424162620834,0.03206430655868105,-0.07651956531097821,0.8610606362467494,-0.09807470616068567,1.3283115995509922,-0.9662125159631242,0.0438814218452207,1.274509575757971,0.31478735350050946,-0.4696882558671715,-0.7261327751966566,1.3295500620700276,-0.3644927573390253,1.3076427202965306,0.141010963801177,0.3009808051382888,-0.3435313205380481,0.9537757556622753,1.3370079012689788,0.19419809345187589,-0.478123305392656,-0.06689152829132673,-0.7747816265174641,0.12644698354574044,-0.015762280821028256,-0.1253429131899196,-0.6183558230178514,0.5214926540358537,1.2813945661995156,-0.18170519629481366,-0.018084636441225058,1.1210185409398583,-0.7290706746221759,0.18485464871469354,-0.33583308215503044,-0.8475691023702787,-0.5079898010669057,-0.07303846095537617,-0.13453793665791647,-0.22735572525457004,-0.8100648249525662,1.2192992068251225,-0.05959792380976908,0.8990068466891521,-0.4596327175768942,0.18700551319353514,-0.41888566881763706,0.14786145836924453,-0.08077063076027936,-0.3749676271524355,-1.173979883945065,0.7480851644197413,-0.5278940652091584,0.8370190106051546,-0.5391122051512784,0.1934407394886141,-0.4523837909961726,-0.2573839491790544,0.010231868384999156,-0.5341568050100047,-0.7558965765287744,1.4086314793944863,-0.785270312398379,0.8901611592391472,-0.1921701199571479,-0.2765664108586161,-0.7992712639014323,0.1651439086906177,-0.39651502468249283,-0.7099916893228541,-0.6150013319527132,0.9107205675807043,-0.6247217303348677,-0.23466980137582083,-1.1372854027827775,0.36297159420361713,-0.4792987242042812,-0.0390909717475825,1.2174815123907827,0.38908189249309477,0.19092596997776715,-0.33760813020622643,-1.0996359879709647,-0.7464120027307698,0.6720058778307817,-0.009892811252491498,-0.1148469137394458,-0.7033762975049499,-0.3614855039546633,-0.4164531623185601,0.18597908455870682,-0.8401301127252508,0.36973609076658015,0.5290541073767082,-0.4460934794769224,0.8446026558074169,-0.908837820858842,-1.1658701108525666,-0.1494123514301053,-0.6492722719045133,-0.7032029418490555,1.5703029056682591,0.8657844265676078,1.1927939704111425,0.8521825368634072,0.900744632077272,-0.7735440871764915,0.7215841491516595,-0.4837689554387893,0.21803070883321674,-1.134308110940067,-0.3897161084639109,-0.7039614609136561,0.03759192807577618,-0.8601160570882216,-0.40405447911687115,0.021355499288998766,0.4291529651669693,-0.42653162553495266,0.9496625772084321,-0.8669046219136055,-0.2594378567755213,0.23175656858137614,-0.2069247297468809,1.0419193045106534,1.1299900864158496,-0.5917611262106389,0.4894295845774028,-0.4967093846974846,-0.5471533735755981,-0.07176956000850916,0.09268531341264036,1.0704042306289245,0.08464339283373187,1.200161069339202,-1.2040084538522986,0.3927867354054034,1.2662902105458569,-0.3895573629947591,-0.6182654200417192,-1.0396779505713123,1.119531491911829,-0.5003000096737853,0.9750588045762558,-0.08365018958257628,-0.36602448601960763,-0.6148808458501552,1.017261309504709,1.556713748962454,-0.2740126769032365,-0.558286141988853,0.38444739847826764,-1.264824468928402,-0.5134980626222885,-0.059742657392295354,-0.4765683362029071,-1.2268619342632912,-0.6775211384407311,0.7838105865975744,0.12110726252667532,0.15444715208194154,0.962503402399859,-1.0428570810824371,-0.02081029371073892,0.09394360114576171,-0.7967664203066742,0.3088393047366016,0.34578071093929835,0.49174567844432865,-0.7798173634727311,-0.9920781432678892,1.4352928697663891,0.3155047781276354,1.0700274660121958,-0.1548602109070245,-0.3814690318229204,0.20095136708612582,0.04463419249889918,0.7336867488866199,-0.7123491027565052,-1.1138475927392437,1.6853752270878284,0.14854871371334963,1.2405236808229951,0.07450453789719906,-0.06903493670409477,0.5165605305644253,0.6117985180275146,1.0375338063402924,-0.9410217941743342,-0.9377492950617984,1.102560877078999,0.02554459095657925,1.1047201057079283,0.231167216089351,-0.2009808711871219,0.1714899155403974,0.42237569989620927,0.6988527833503427,1.1936199339066154,0.33648914718138667,1.3397364144535502,0.5032993009471117,0.15978965524685165,0.06348321421304544,-0.25990838428012575,0.5659767146500564,-0.23819627909061958,1.1400761076444812,0.5190432935096346,0.9120937034232871,0.4861705309777396,-0.6788310999135679,0.21882681907237544,0.5440193302814813,0.6218668716368262,0.0886753217275606,-0.9816361996060211,-0.7462444134902098,0.2191221271615975,-0.07597407499603248,-0.6783532549702208,0.9867104964091369,-0.09888827442648096,-0.6272838434973395,0.7908699858712,-1.4674792712154847,-1.3671647310723438,-0.00459038825619178,-1.4684854721026899,-1.4772889898964894,1.0156621399716672,1.0196279808308422,1.0899662664381922,1.0006431216560379,1.3950988416232686,0.3523973229698709,0.859798138754953,0.6573136756842436,0.6631267064332634,0.33472434514620936,0.7468170711320381,-0.9055807530641936,-0.22033124523999006,-0.4493663018161445,0.4741260273611788,0.37526390096790313,-0.08760328818387264,0.20500082640297307,1.1646859164555792,-1.2789019832219632,-0.6555739789064494,0.41099964732010963,0.6093287107904867,1.5809923458745712,1.236767914900069,-1.2950724229875785,0.5215549078728399,-0.3500767775984215,0.11589642185425154,0.7552618888229119,0.44994587261167523,1.0000991861845618,-0.04349021945030843,1.2387217056137996,-0.6184561253548426,0.8227539343356259,0.4600021819539568,0.3860035861046357,-0.21223867285985373,-1.1083437457207963,1.4548057008269344,0.6324953677330866,1.1297262040346372,0.5555662299805578,0.3411690706144086,-0.005718779167487105,0.9719561274761681,0.9777796014528837,0.8038526791778292,-0.9367037116296577,0.5706856933382026,-0.8949552230035835,-0.8520805856593845,0.4510384710832426,-0.2209569649658419,0.6063302614321187,0.23610864755440097,1.52791878226088,-0.15285377724762894,0.41334689850986106,0.8543140294300409,0.1642143805079097,0.33131489759789,-0.06450336255602693,0.4962021105541653,0.19604468390733543,-0.06955495115113822,-0.005621581263312962,-0.8207909166177327,-0.35068826953708415,1.7876298598158238,-0.36536624212930585,0.6740720778456516,-0.20730261005327713,0.22934544337501972,-1.1431326569368934,-0.06794376781775135,-0.27234038704102104,-0.9666967897669366,-1.3398450300719462,1.8674463527793013,-0.15633856622168038,0.6194737642298601,-0.27451926014700545,0.49709652184950937,-0.46323933000644524,0.376836849732219,0.1123206498098604,-0.7099428227754697,-1.387958506955379,1.6647546852882942,-0.1652351342863636,0.9475691406528272,-0.5237503247255912,0.5968582322106539,-0.6402994088328602,0.39988495521975914,-0.9371186475365642,-0.6073817736910742,0.44695200589730255,0.7661260334095988,-0.4046613085748509,0.3740760539937919,-0.6528850361188132,-0.3714291602697914,-1.009532202577617,-0.32523146722589713,1.851436880554616,0.7052916039160267,-0.5949075135939165,-0.2508200865843374,-1.2853998747674682,-0.17371814152221196,0.33849581887681046,0.22944324094563529,0.451422805728105,-0.8815466661355345,-0.05985404143823619,0.07709422539924829,0.09308840083578675,-0.6820706059951033,0.3658842589293132,-0.07190823395951129,-0.5672139069607072,1.2594316375413905,-0.9179495957155714,-0.8178480696961565,-0.5432620793663663,-1.1456663330915848,-1.0444001517067338,1.7298817263483983,1.255970717714437,0.9149426158525166,0.7957298444156095,1.82054890525472,-0.9382589790003,-0.06825342154087835,-0.2660514109890388,0.5520074209057417,-0.7101025273792455,-0.33759946375515176,-0.34335759630262486,-0.43038753929888823,-0.29019149335122035,0.8167856647163165,-0.17265241664395622,0.5605119471948916,-0.40780479233973893,1.2619931739022858,-1.337622716964486,-0.8014897586259736,0.4533095774088058,-0.0019009850823999315,1.6916828088934055,0.7529223808471769,-1.2266498350732564,0.48563532398268444,-1.3361712342099834,-0.7304681561436606,0.4142099111426766,-0.1812390025901896,0.886506005098694,0.07259010610022247,1.6283687869996097,-0.879785989966427,0.19741015384094873,1.6291002496797657,-0.03921161416862906,-0.35919985214024625,-1.1040909302349156,1.1594630897126441,-0.9799807114370979,1.148034766877669,0.2562074215102426,-0.08179649821821977,0.018022113064784972,1.7235667985662575,1.8142034763611035,-0.2259908470484301,-0.3601183439227126,-0.12980965064818803,-0.47218228422153297,-0.8902755940506508,-0.6672525165610087,-0.5768280728600454,-0.8327741440407203,-0.2252468771733008,1.8791246354112727,-0.12184111179738187,0.02113556406343777,1.720054558769551,-0.6166788357223542,0.5542840811804003,0.03657829990963615,-1.227321993512117,0.5842852435120421,0.09996974976433724,-0.8774538864089078,-1.1631049022002855,1.846382635281027,-0.5820561877658915,0.8657090938078208,0.3013439100481554,-0.5478115100986871,-1.1640450987634134,-0.08221729623302347,-0.2076271497701837,-0.5224527481067802,-1.0906815960003404,1.8800059098908672,-0.7625073776128443,1.057311392550334,-0.2617472482066137,-0.6194976128595258,-1.1789408623126238,-0.14082140112564245,0.42504844512601114,-1.0989754674647678,-1.2512718309352209,1.3634367841315482,-0.7680926997255471,0.7067241809683051,-0.019117299970894064,-0.45901685515071455,-1.314379842108135,0.17943316658415429,-1.4735752478043636,-0.8628771192225494,-0.7990331623263848,1.0226893722443056,-0.9355304469640447,-0.24588561960014427,-1.0216854918748992,-0.706922055187614,-1.2522382722677459,-0.4304641451526819,1.4766891167121077,-0.5211486686379335,0.161483172762388,0.13620597623189298,-0.8923101569835671,-0.865089681889437,-0.3557803580647674,-1.0003034959963493,0.09374682335408412,-0.7229686939512435,-0.8799836413902474,-0.1327626862358447,-0.062202988378015495,-0.7950221757536434,0.6814222917754709,-1.244868022829833,-1.1872119227303126,-0.01847297743997466,-0.8135881177436399,-1.019549845254674,1.1198473613607476,1.1372691531512302,0.9430367871500441,0.8794111882203527,1.2956053149677862,-1.083803233553979,-0.3730064389142975,-0.8425489725126241,-0.4827644109700532,-1.263685106488181,-0.8508391537976219,-1.0643740631913525,-0.5232542860740766,-0.8412587857241961,-0.29755124960803064,-0.30156130119428,-0.2140773435577058,-0.22522617101946063,0.7363639939406459,-0.4065443665334831,-0.8749800387501393,0.1604394167968082,1.4398345330318902,1.2349594532840027,-1.3120290407482185,-0.1962717543470062,-0.7327962178867988,-0.7892028293306506,-0.2024169238777868,0.276698514575646,1.084157833832838,-0.38397087819477693,0.9483832746038675,-1.0557922633684576,-0.2907884785244708,1.4174435694723697,-0.10541165875390819,-0.754375553392623,-1.038620091342214,1.03542864980641,-1.350988135475379,1.0581708130582874,-0.07628789853506492,0.1619846857183795,-0.781159153706532,1.752686886158785,1.3747364869771472,-0.14653251594168037,-0.8202419455215104,-0.4822259076004348,-0.7600024140196501,-0.9708210593378384,-0.6874544747081057,0.02547800632444852,-1.0119529637287032,-1.0154717920156444,0.876484225689451,1.556902429207824,-0.623558058929993,-0.6330931570699871,-0.5745038038045466,-1.2747744338388085,-0.7263710917978383,0.20725370623912218,0.3134198770212151,-0.7991049854080658,-1.4110353092140797,1.0898938945620278,0.07319945485676116,0.8448398160526941,-0.406200546547106,0.08019505903419075,-0.810608367792506,0.3895746330324376,0.4355003695664655,-0.6096349820312965,-1.4340821736727072,0.9632154120345614,-0.3365554254382436,0.7727724202346873,-0.06413888608615463,-0.7891324782062648,-0.6372749890548851,0.2453131156241873,0.38126332867053814,-0.9875703769881495,-1.5112718172036839,1.3725186997961947,-0.19966912412762108,1.1141589295166665,-0.1258853471724757,-0.5429095330107794,-0.7334841510961715,-0.04002705678915834,-0.48815087262790996,0.21565581200459905,0.04388004117591642,1.1614116948412325,0.5469184856693352,0.5817506252902833,-0.7956883760554273,-0.3143983854579397,-0.4960335635574583,-0.28919424340920885,1.1244461312458782,0.4426117062020398,-0.3777244991407759,-0.24350309547949867,-1.479666744323287,-0.4140453636983395,0.6363362392965692,0.4013484132810856,0.11509977072716607,-0.40699631072301984,-0.6899359715615258,-1.016608015493951,-0.15234093427787437,0.9980593770501349,-0.9393003218384512,1.0274351801215271,-1.8980618307914752,-1.738836374425103,-0.34011060495048484,-1.7701733198370593,-1.7749519458585572,1.1639574431545858,0.9699518333600535,1.0752821452033383,1.2398858200051102,0.2961663694761866,-0.5489363250347338,0.27398000477763257,0.27034487258862444,-0.06602368714706568,-0.7231576506549701,0.09656578532645725,-0.8516071560558002,-0.6680916103197478,-1.198634567479868,0.26559445706909746,0.14326376507464683,0.6839881557188174,-0.34620798196216124,1.4674273252047605,-1.5255019361935689,-1.1399631889040192,0.17334281338200533,0.07152522115549662,1.106330637652245,1.118901399077154,-1.7086239690348073,-0.052916320850484005,-0.25377026560764177,-0.4694763709087944,0.35166837631172954,0.032620570083828807,0.8709609136539004,-0.4399590945583958,1.2632484547413578,-1.64980578537041,0.782721385700032,1.512498171526107,0.099298847286165,0.06353718986905263,-1.7001943150054981,1.2003939268723876,-1.1707076242979553,0.9918139147539183,0.5756395508454355,-0.5561306358441259,0.29353351274120265,1.713294460532341,0.9443797664082704,-0.20276852277283172,-1.0398479802676794,-0.3793352728587869,-0.4615807620434166,-0.6060663943584924,0.09134649773739821,-0.5492208455871802,-1.0600825218354128,0.6236655415888136,1.5414378399061008,-0.4244915064249338,-0.5595343237178886,1.109450169110796,-0.13919129234370456,0.13530126289059327,-0.11850237161466046,-1.0865656880610468,-0.34540022225762945,0.16386734574103823,0.2940621623479349,-0.8585778244957324,-1.6129936148853687,1.7110988297856347,0.026784438873115227,0.4167662316266158,-0.5048517699673117,-0.763137590360613,-0.8113951418761948,0.28171533206882876,0.35850362011430603,-1.1216906539266647,-1.5627211834973123,1.7980577181413628,-0.29655802068862536,1.1714056264614543,-0.13734611701625637,-0.06574968726781812,-1.0034005867424103,0.2701518061896122,0.42136434278554885,-1.2193081180298602,-1.5457973396424554,1.3680370259191912,-0.3352976375462782,1.1349554961756505,-0.07741028037901582,-0.30732565197675477,-0.3300294273767708,0.027207467227478913,-1.036668158891977,-0.37032494581040953,-0.6493067794147193,1.1164706752753635,-0.49066596839108867,0.3512786287800649,-0.9365512591170624,-0.32339502295082634,-1.058210699682352,-0.24787366650005546,1.834641618720311,0.1940567487368104,-0.4264526060544777,-0.4594286437575312,-0.8514138768254806,0.568510594493556,0.22026857530784488,0.11357682532859883,0.13254006592385614,-1.255913203200347,-1.0436936402104835,-0.1951973022300475,-0.2133663583732416,-0.9180074768919111,0.15854271564031241,0.27396098301389843,-1.2636966709935449,0.8977700622843348,-1.5717136963573006,-1.5079620230544442,-0.333898961366691,-1.4575198651378438,-1.7303852112798674,1.7396205498235904,0.9872890245305589,1.1951401884734445,1.2184013383474184,1.7809676115828663,-1.0076772236186908,0.49475697379706424,0.47953906725609124,0.284630527481308,-0.830640432736964,-0.3549021970074332,-1.3334084388540135,-0.6456487731354777,-1.1284900365133783,-0.13528502971535128,-0.08866644460513842,0.18019080313459712,-0.5599506996032607,0.8743253855485841,-1.5346354971416787,-1.2950668896085877,-0.0986675006890486,-0.23864979166114475,1.845000016152916,0.9706413241815922,-1.426129009024982,0.5242604434379194,-1.3991716836402823,-1.13502150862846,0.6380187916851566,-0.2263299658922926,1.0760905614068492,-0.7369986434414393,1.8109583592816776,-1.4438869981969102,0.8288528596249827,1.9158713651268198,0.2699046787572279,-0.3120231559374855,-1.5295524086200767,0.9882374584718565,-1.3164375522539997,1.0530260804345992,0.7945774367766023,-0.6179150602083997,-0.0961273225037798,1.5540946976174868,1.9674112418661185,-0.1043731066638572,-0.6360087449934974,-0.15791966661331974,-1.0658526768682197,-1.4564972549896142,0.29309923342033783,-0.5417097960473872,-1.105991737455491,-0.3238329224594116,1.8463740135868558,-0.05240837647696944,-0.3477466987204114,1.0693745088852586,-1.3733733381654711,-0.07707229843257837,-0.4282346145184704,-0.6843231057028977,-0.3760770294664562,0.32043966391681555,-0.06551399763233998,-0.7151002337755441,-1.9065689143485427,1.5211280589020881,-0.5105521108754671,0.5496507360285716,-0.39161330567474506,0.09793044059645578,-1.209073953834891,0.6594548424748151,0.31901648852265546,-0.5489770016540001,-1.5566569353050028,1.3700502882820516,-0.7787945208536361,0.6374109068533412,-0.6022801275258849,0.006982985362805658,-1.2520542682655225,0.47713262587543964,-0.07177057087216107,-0.6566320456540917,-1.3138320289280014,1.1715176442694155,0.1487606199538554,0.6957923740179607,-0.8514765495202622,0.09779706913435965,-1.1668619061921357,0.007788898327241327,-1.118798638007295,-0.30189622313775244,0.0905302449736193,0.7523585094890828,-0.40943959170576666,0.6527684340246309,-0.814610470248605,-0.18153524324382814,-0.6593529972726088,0.08507060378396922,1.6142299837645884,0.4891490297307653,-0.5961033972756833,-0.8450061812234176,-1.6400716430219289,-0.23294539116658886,0.18819988645345026,0.5609315096367374,0.5605973322103861,-1.0981796963221964,-0.886960201717306,-0.6969172831500177,-0.1338623849567273,-0.7613961572720871,0.12663337067057365,0.1604471384960429,-0.9335703728508395,1.0705130996097603,-1.1494471741011767,-1.4661183797075874,-0.44311004971791457,-1.5346257564644352,-1.7025457646474387,1.5206575153853632,0.8314696176866146,0.8752203063882991,0.938953809440111,1.8911785758951407,-0.8560395580509809,0.10445470480237505,0.04446950790507844,0.4357992549933763,-1.1338240873099874,0.5754553450674428,-1.1658569048803988,0.12309870026686186,-0.7260990820509353,0.06107747770679563,0.07766843689421016,0.24749282948601345,-0.5953286625088277,0.8524862667484966,-1.564950217021591,-0.6896578306817519,-0.037796968387549534,-0.1949205423480689,1.620295658220594,1.022710088069231,-1.4038491761735827,0.013795959710252523,-1.4715877803671504,-1.1495603954965674,0.32198550426162664,-0.05328159377509211,0.701117130523339,-0.5160390696975361,1.3901293466155822,-1.3628311966813476,0.5240189991456764,1.8527005034050144,0.47394347263814385,0.6180041544466603,-1.6474635897550127,0.7226541507162485,-1.043725155460703,0.710191205480536,0.5695528902673682,-0.23619179857622827,-0.16926383878853754,1.6584607150889974,1.740111253842047,-0.0038158591898453604,-0.8212783739465407,-0.5682585873997151,-0.9110546072109093,-0.9381743751734597,0.0029926165781517695,-0.4792962121597611,-1.1132245621498167,-0.7180146844684007,1.6725488924963514,0.19366183448313934,0.15133113448090937,1.8654857970280636,-0.558826180850081,0.669341643286896,-0.28124215100785394,-0.322455755991582,-0.30039058725952006,-0.6895356468832455,-1.0921793744143786,1.1616827609074813,-0.7354843919202848,0.8048473388938564,0.33790487078976844,-0.7591346048786393,-1.266404248403249,-0.10924736531738437,-0.3002848708590136,-0.5015853764811853,-1.3107604460855757,1.6364887197412747,-0.7483259272399214,0.7022963320271184,0.09441342475498155,-0.505221824080828,-1.3582343570455413,0.024308457193616392,-0.17570649366016727,-0.9469198998662374,-1.1764624874448604,1.595103049606244,-0.46405331302100644,0.7910887185606763,0.11894745462955866,-0.5374097677822701,-1.3171433433961943,0.09572784406116903,-1.4593891763473903,-0.7956795482376408,-0.8170203769981995,0.8863007953981944,-0.43208680679906003,0.018498139886072566,-1.2093034837118015,-0.23509259912418085,-1.333016562262852,-0.4327702353617927,1.7279384529857635,-0.23195929319790298,-0.23278724835003034,0.321633187223393,-1.329491770187839,-0.9687591688283667,-0.33800699096792647,0.04061172096459566,-0.11618243883379323,-1.0742640183048053,-0.8905836175554216,0.37428409684037406,0.30016248024694114,-0.9556090076315035,-0.150565550761865,-0.40284630122582643,-0.8201546274409655,0.7815275110182487,-1.1697383009902045,-1.2356144030814453,-0.10821568131590634,-1.4430709829198736,-1.7116091932200312,1.496162446403992,1.0671664318722136,0.75606890901979,1.117253109139666,1.6484722531793778,-1.2876034988587748,-0.38049777258112777,-0.33161032683103875,-0.17723111723111756,-1.5070742440312326,-0.1762866303931454,-0.8380740560890357,-0.43549889842158973,-1.0117625688315395,-0.23413804961564513,0.07040888717857348,-0.3764846463371543,-0.3067439454655989,1.0048749838523963,-1.2785902281350487,-0.4950233284016335,-0.5137087201381677,-0.1408776781734289,1.7094357405315672,0.9515208893644405,-1.3742676404345202,-0.16615275003261654,-1.3078500246283333,-1.102417340629752,-0.40425727003823353,-0.16901686300877303,0.9774497423369968,-0.35431132763258566,1.601586670994492,-1.1728596192524994,-0.22261314635489687,1.5408992893782805,-0.015721080909582606,-0.8540949093143381,-1.3667159894985361,1.1264419541284982,-1.4658674323768228,1.1886486613558442,-0.42555417961742664,0.09096061978460891,-0.86767153608088,1.7153643478199316,1.175076816012808,-0.053017965872924205,-1.1688875317450236,-0.030330492730990977,-1.2172640151225804,-0.7973260294715675,-0.2682891044113673,0.12648250273925804,-1.3425786529242922,-0.5139968353205385,1.7134102277329555,0.0813702030005572,-0.25685364302052405,1.7204020398556237,-0.9875533835652639,-0.0696927668377211,0.1590130554721454,-1.1788391296130225,-0.033248058580102775,0.5650180526225653,0.4796349206038036,-0.37226561499689736,-1.0704170402962734,1.4046432035554264,0.1652248637430585,0.36452366227776545,-0.577870251087329,0.5825065712177824,0.08096576961828648,0.5417568877848918,0.45752620768750024,-0.23896575834793132,-1.1014833646960234,1.5143500230799105,0.7396558458617248,0.9419578605346269,-0.5191984412964419,0.5818941457514096,1.0018202807474754,-0.32622333017148125,-1.4827129203020606,1.3118261137604303,-0.05019539443392835,1.127492890694098,-0.6138329544215851,0.1445324671435804,-0.3135759071694609,1.267038599663186,-0.21193328410936957,-0.30569500518651077,-0.06354283613030157,1.0573508937105471,0.4404248839464784,0.38846005157122476,0.010364018628572442,0.9344173044843533,-0.5408972174349398,0.2326374276861595,1.735351471372307,0.23008048065498954,-0.05572146901710038,-0.28254892552266325,-1.1650895153860177,0.06936914549613665,0.4291858097427234,1.031694704700911,0.11313798798505875,-0.38291658047016147,-1.1444650557047107,0.3695894507001177,0.10556458791092863,-0.2773749754503612,0.7627710440883074,0.9041373462035535,-0.7196825319720583,0.9639566948666312,-0.8661507488427448,-0.985964975976334,-0.5360498063712315,-0.5671157667872223,-0.9706028060568147,1.0049602739315602,1.3210554636102958,1.333208866212186,1.0768248522741368,-0.5412619211159351,-0.03316468988458885,0.7442067788883602,0.02887661199470918,1.1647997285212404,-1.0609303411867126,0.4420343566075131,-0.5637217288694168,0.11912173785719787,0.3377699670771448,0.5021426525706308,-0.05698480244496796,0.9697377938499869,-1.4602973451330556,-0.6787481967353295,0.16068465870075996,0.01314273675313399,-0.1687899679228289,0.8700824174642047,-1.0555876690672183,0.3029937989708403,-0.8795362904608349,-0.023792655387204778,0.38749757842681115,-0.6715691341028526,1.1932378692615244,0.4848179429647979,1.8139977974687425,-1.314210737901619,0.23501743858881594,1.6466337514750267,0.8273827273740805,0.2091030992009483,-1.2283869686583067,1.064965349352722,-1.1065918496605942,1.2679530035710243,0.17521677711641365,0.4843158306821386,-0.13898727450907528,1.5061481506224947,1.0133691338032353,0.19309163476808106,-0.2633055881165984,-0.9272911960772903,0.5928673044474037,-0.22225543178694468,-0.7827079238681277,0.47457959855427634,-0.5566881311031251,1.704002469534073,-0.1966460155426028,0.2939750274112693,0.5043479355889016,-0.03914979466017902,0.552738681050326,-0.02057367708124053,0.5894278762997162,-0.8840453071769024,-0.4187829339725059,0.8801739560459398,-0.276781223283388,1.2927917118203338,-0.26954151530021675,-0.683310494956725,-1.3124869974247473,0.13560204362835349,0.9166470618548317,-0.15437882679833315,-0.6016660971439538,1.858872808676856,0.11405644001360804,1.0540289505579274,0.5399664360276336,-0.13440421637112707,-1.1341599802125868,0.27473631885108496,0.6292414086215379,-0.5745037345546605,-0.36705937652591714,1.7795764060741164,0.5720310623950873,1.3859014813433654,-0.08590044896620606,-0.3628021400950182,-0.9838509647554772,0.139746961782781,-0.9585455614440362,0.21048923481254972,0.08644661356029042,1.046336504986738,-0.17205498143067818,0.7750096130961375,-1.2926185512853874,0.021281403066745582,-1.349632964054638,-0.11280093242131019,1.7356583645219268,0.4644731810873502,0.24345258668936112,0.19663561410865948,-0.3375304143674282,0.17241958519215714,0.5341329274046485,0.19270317760174663,0.3612282452453038,-0.4032011686319043,-0.8333866654155134,0.22427769176265716,-0.48702761053318094,-0.53090850947336,0.6703514599452025,0.5252003373646722,-0.3493020212036232,1.267391910758292,-0.6178553427600528,-0.3865385856961993,0.1890177792053088,0.02384046357695556,-0.5772821925131271,1.8300289996439736,1.2970545022873745,1.12868615708701,0.9084955943886901,1.5887757971539527,-1.0497315148790065,0.5177783671118454,-0.160296891603802,0.23448683550914243,-1.19267096837156,0.5024561426446325,-0.7500236324182906,-0.03557936044241231,-0.9941896465421995,0.377909243734592,0.02424518068844477,0.7289775696839641,0.6421544507910526,1.4469071426799118,-1.039119072028194,-0.6595476572658008,0.01903282020870816,0.7252738698068855,1.55376563739052,1.4900063728242317,-1.2680046522109134,0.15103295106910464,-0.7049722839664132,-1.1149494452342719,0.9552548349817421,-0.1185360148712914,1.1347614344606398,-0.07237241066709171,1.874089905489434,-0.13414573349558007,0.7043065594049035,1.5212588011268824,0.6920484466240518,-0.44487568150295503,-1.1970775161452498,1.4827859287554959,-1.1566489716454056,1.0532434682759013,0.5642176414567217,-0.30342456069522283,-0.011572599639627685,1.3140467592586644,1.7112745708789994,0.14753888037349167,-0.7434167398163789,-0.022528697738211083,-0.5420219092048715,-0.5724391309543722,0.1697706003776271,0.1748712578191601,-0.9836035365899674,-0.17903575961002438,1.838200056724883,0.09827969380532704,-0.10507623721246223,2.0306372276934304,-0.8246549976488544,0.540111971977791,0.6048443634418423,-0.2327030906252926,-0.029401471711595115],\"yaxis\":\"y\",\"type\":\"scattergl\"}],                        {\"template\":{\"data\":{\"histogram2dcontour\":[{\"type\":\"histogram2dcontour\",\"colorbar\":{\"outlinewidth\":0,\"ticks\":\"\"},\"colorscale\":[[0.0,\"#0d0887\"],[0.1111111111111111,\"#46039f\"],[0.2222222222222222,\"#7201a8\"],[0.3333333333333333,\"#9c179e\"],[0.4444444444444444,\"#bd3786\"],[0.5555555555555556,\"#d8576b\"],[0.6666666666666666,\"#ed7953\"],[0.7777777777777778,\"#fb9f3a\"],[0.8888888888888888,\"#fdca26\"],[1.0,\"#f0f921\"]]}],\"choropleth\":[{\"type\":\"choropleth\",\"colorbar\":{\"outlinewidth\":0,\"ticks\":\"\"}}],\"histogram2d\":[{\"type\":\"histogram2d\",\"colorbar\":{\"outlinewidth\":0,\"ticks\":\"\"},\"colorscale\":[[0.0,\"#0d0887\"],[0.1111111111111111,\"#46039f\"],[0.2222222222222222,\"#7201a8\"],[0.3333333333333333,\"#9c179e\"],[0.4444444444444444,\"#bd3786\"],[0.5555555555555556,\"#d8576b\"],[0.6666666666666666,\"#ed7953\"],[0.7777777777777778,\"#fb9f3a\"],[0.8888888888888888,\"#fdca26\"],[1.0,\"#f0f921\"]]}],\"heatmap\":[{\"type\":\"heatmap\",\"colorbar\":{\"outlinewidth\":0,\"ticks\":\"\"},\"colorscale\":[[0.0,\"#0d0887\"],[0.1111111111111111,\"#46039f\"],[0.2222222222222222,\"#7201a8\"],[0.3333333333333333,\"#9c179e\"],[0.4444444444444444,\"#bd3786\"],[0.5555555555555556,\"#d8576b\"],[0.6666666666666666,\"#ed7953\"],[0.7777777777777778,\"#fb9f3a\"],[0.8888888888888888,\"#fdca26\"],[1.0,\"#f0f921\"]]}],\"heatmapgl\":[{\"type\":\"heatmapgl\",\"colorbar\":{\"outlinewidth\":0,\"ticks\":\"\"},\"colorscale\":[[0.0,\"#0d0887\"],[0.1111111111111111,\"#46039f\"],[0.2222222222222222,\"#7201a8\"],[0.3333333333333333,\"#9c179e\"],[0.4444444444444444,\"#bd3786\"],[0.5555555555555556,\"#d8576b\"],[0.6666666666666666,\"#ed7953\"],[0.7777777777777778,\"#fb9f3a\"],[0.8888888888888888,\"#fdca26\"],[1.0,\"#f0f921\"]]}],\"contourcarpet\":[{\"type\":\"contourcarpet\",\"colorbar\":{\"outlinewidth\":0,\"ticks\":\"\"}}],\"contour\":[{\"type\":\"contour\",\"colorbar\":{\"outlinewidth\":0,\"ticks\":\"\"},\"colorscale\":[[0.0,\"#0d0887\"],[0.1111111111111111,\"#46039f\"],[0.2222222222222222,\"#7201a8\"],[0.3333333333333333,\"#9c179e\"],[0.4444444444444444,\"#bd3786\"],[0.5555555555555556,\"#d8576b\"],[0.6666666666666666,\"#ed7953\"],[0.7777777777777778,\"#fb9f3a\"],[0.8888888888888888,\"#fdca26\"],[1.0,\"#f0f921\"]]}],\"surface\":[{\"type\":\"surface\",\"colorbar\":{\"outlinewidth\":0,\"ticks\":\"\"},\"colorscale\":[[0.0,\"#0d0887\"],[0.1111111111111111,\"#46039f\"],[0.2222222222222222,\"#7201a8\"],[0.3333333333333333,\"#9c179e\"],[0.4444444444444444,\"#bd3786\"],[0.5555555555555556,\"#d8576b\"],[0.6666666666666666,\"#ed7953\"],[0.7777777777777778,\"#fb9f3a\"],[0.8888888888888888,\"#fdca26\"],[1.0,\"#f0f921\"]]}],\"mesh3d\":[{\"type\":\"mesh3d\",\"colorbar\":{\"outlinewidth\":0,\"ticks\":\"\"}}],\"scatter\":[{\"fillpattern\":{\"fillmode\":\"overlay\",\"size\":10,\"solidity\":0.2},\"type\":\"scatter\"}],\"parcoords\":[{\"type\":\"parcoords\",\"line\":{\"colorbar\":{\"outlinewidth\":0,\"ticks\":\"\"}}}],\"scatterpolargl\":[{\"type\":\"scatterpolargl\",\"marker\":{\"colorbar\":{\"outlinewidth\":0,\"ticks\":\"\"}}}],\"bar\":[{\"error_x\":{\"color\":\"#2a3f5f\"},\"error_y\":{\"color\":\"#2a3f5f\"},\"marker\":{\"line\":{\"color\":\"#E5ECF6\",\"width\":0.5},\"pattern\":{\"fillmode\":\"overlay\",\"size\":10,\"solidity\":0.2}},\"type\":\"bar\"}],\"scattergeo\":[{\"type\":\"scattergeo\",\"marker\":{\"colorbar\":{\"outlinewidth\":0,\"ticks\":\"\"}}}],\"scatterpolar\":[{\"type\":\"scatterpolar\",\"marker\":{\"colorbar\":{\"outlinewidth\":0,\"ticks\":\"\"}}}],\"histogram\":[{\"marker\":{\"pattern\":{\"fillmode\":\"overlay\",\"size\":10,\"solidity\":0.2}},\"type\":\"histogram\"}],\"scattergl\":[{\"type\":\"scattergl\",\"marker\":{\"colorbar\":{\"outlinewidth\":0,\"ticks\":\"\"}}}],\"scatter3d\":[{\"type\":\"scatter3d\",\"line\":{\"colorbar\":{\"outlinewidth\":0,\"ticks\":\"\"}},\"marker\":{\"colorbar\":{\"outlinewidth\":0,\"ticks\":\"\"}}}],\"scattermapbox\":[{\"type\":\"scattermapbox\",\"marker\":{\"colorbar\":{\"outlinewidth\":0,\"ticks\":\"\"}}}],\"scatterternary\":[{\"type\":\"scatterternary\",\"marker\":{\"colorbar\":{\"outlinewidth\":0,\"ticks\":\"\"}}}],\"scattercarpet\":[{\"type\":\"scattercarpet\",\"marker\":{\"colorbar\":{\"outlinewidth\":0,\"ticks\":\"\"}}}],\"carpet\":[{\"aaxis\":{\"endlinecolor\":\"#2a3f5f\",\"gridcolor\":\"white\",\"linecolor\":\"white\",\"minorgridcolor\":\"white\",\"startlinecolor\":\"#2a3f5f\"},\"baxis\":{\"endlinecolor\":\"#2a3f5f\",\"gridcolor\":\"white\",\"linecolor\":\"white\",\"minorgridcolor\":\"white\",\"startlinecolor\":\"#2a3f5f\"},\"type\":\"carpet\"}],\"table\":[{\"cells\":{\"fill\":{\"color\":\"#EBF0F8\"},\"line\":{\"color\":\"white\"}},\"header\":{\"fill\":{\"color\":\"#C8D4E3\"},\"line\":{\"color\":\"white\"}},\"type\":\"table\"}],\"barpolar\":[{\"marker\":{\"line\":{\"color\":\"#E5ECF6\",\"width\":0.5},\"pattern\":{\"fillmode\":\"overlay\",\"size\":10,\"solidity\":0.2}},\"type\":\"barpolar\"}],\"pie\":[{\"automargin\":true,\"type\":\"pie\"}]},\"layout\":{\"autotypenumbers\":\"strict\",\"colorway\":[\"#636efa\",\"#EF553B\",\"#00cc96\",\"#ab63fa\",\"#FFA15A\",\"#19d3f3\",\"#FF6692\",\"#B6E880\",\"#FF97FF\",\"#FECB52\"],\"font\":{\"color\":\"#2a3f5f\"},\"hovermode\":\"closest\",\"hoverlabel\":{\"align\":\"left\"},\"paper_bgcolor\":\"white\",\"plot_bgcolor\":\"#E5ECF6\",\"polar\":{\"bgcolor\":\"#E5ECF6\",\"angularaxis\":{\"gridcolor\":\"white\",\"linecolor\":\"white\",\"ticks\":\"\"},\"radialaxis\":{\"gridcolor\":\"white\",\"linecolor\":\"white\",\"ticks\":\"\"}},\"ternary\":{\"bgcolor\":\"#E5ECF6\",\"aaxis\":{\"gridcolor\":\"white\",\"linecolor\":\"white\",\"ticks\":\"\"},\"baxis\":{\"gridcolor\":\"white\",\"linecolor\":\"white\",\"ticks\":\"\"},\"caxis\":{\"gridcolor\":\"white\",\"linecolor\":\"white\",\"ticks\":\"\"}},\"coloraxis\":{\"colorbar\":{\"outlinewidth\":0,\"ticks\":\"\"}},\"colorscale\":{\"sequential\":[[0.0,\"#0d0887\"],[0.1111111111111111,\"#46039f\"],[0.2222222222222222,\"#7201a8\"],[0.3333333333333333,\"#9c179e\"],[0.4444444444444444,\"#bd3786\"],[0.5555555555555556,\"#d8576b\"],[0.6666666666666666,\"#ed7953\"],[0.7777777777777778,\"#fb9f3a\"],[0.8888888888888888,\"#fdca26\"],[1.0,\"#f0f921\"]],\"sequentialminus\":[[0.0,\"#0d0887\"],[0.1111111111111111,\"#46039f\"],[0.2222222222222222,\"#7201a8\"],[0.3333333333333333,\"#9c179e\"],[0.4444444444444444,\"#bd3786\"],[0.5555555555555556,\"#d8576b\"],[0.6666666666666666,\"#ed7953\"],[0.7777777777777778,\"#fb9f3a\"],[0.8888888888888888,\"#fdca26\"],[1.0,\"#f0f921\"]],\"diverging\":[[0,\"#8e0152\"],[0.1,\"#c51b7d\"],[0.2,\"#de77ae\"],[0.3,\"#f1b6da\"],[0.4,\"#fde0ef\"],[0.5,\"#f7f7f7\"],[0.6,\"#e6f5d0\"],[0.7,\"#b8e186\"],[0.8,\"#7fbc41\"],[0.9,\"#4d9221\"],[1,\"#276419\"]]},\"xaxis\":{\"gridcolor\":\"white\",\"linecolor\":\"white\",\"ticks\":\"\",\"title\":{\"standoff\":15},\"zerolinecolor\":\"white\",\"automargin\":true,\"zerolinewidth\":2},\"yaxis\":{\"gridcolor\":\"white\",\"linecolor\":\"white\",\"ticks\":\"\",\"title\":{\"standoff\":15},\"zerolinecolor\":\"white\",\"automargin\":true,\"zerolinewidth\":2},\"scene\":{\"xaxis\":{\"backgroundcolor\":\"#E5ECF6\",\"gridcolor\":\"white\",\"linecolor\":\"white\",\"showbackground\":true,\"ticks\":\"\",\"zerolinecolor\":\"white\",\"gridwidth\":2},\"yaxis\":{\"backgroundcolor\":\"#E5ECF6\",\"gridcolor\":\"white\",\"linecolor\":\"white\",\"showbackground\":true,\"ticks\":\"\",\"zerolinecolor\":\"white\",\"gridwidth\":2},\"zaxis\":{\"backgroundcolor\":\"#E5ECF6\",\"gridcolor\":\"white\",\"linecolor\":\"white\",\"showbackground\":true,\"ticks\":\"\",\"zerolinecolor\":\"white\",\"gridwidth\":2}},\"shapedefaults\":{\"line\":{\"color\":\"#2a3f5f\"}},\"annotationdefaults\":{\"arrowcolor\":\"#2a3f5f\",\"arrowhead\":0,\"arrowwidth\":1},\"geo\":{\"bgcolor\":\"white\",\"landcolor\":\"#E5ECF6\",\"subunitcolor\":\"white\",\"showland\":true,\"showlakes\":true,\"lakecolor\":\"white\"},\"title\":{\"x\":0.05},\"mapbox\":{\"style\":\"light\"}}},\"xaxis\":{\"anchor\":\"y\",\"domain\":[0.0,1.0],\"title\":{\"text\":\"f1\"}},\"yaxis\":{\"anchor\":\"x\",\"domain\":[0.0,1.0],\"title\":{\"text\":\"f2\"}},\"coloraxis\":{\"colorbar\":{\"title\":{\"text\":\"y\"}},\"colorscale\":[[0.0,\"#0d0887\"],[0.1111111111111111,\"#46039f\"],[0.2222222222222222,\"#7201a8\"],[0.3333333333333333,\"#9c179e\"],[0.4444444444444444,\"#bd3786\"],[0.5555555555555556,\"#d8576b\"],[0.6666666666666666,\"#ed7953\"],[0.7777777777777778,\"#fb9f3a\"],[0.8888888888888888,\"#fdca26\"],[1.0,\"#f0f921\"]]},\"legend\":{\"tracegroupgap\":0},\"title\":{\"text\":\"String 'y(digits)' values mean discrete colors\"}},                        {\"responsive\": true}                    ).then(function(){\n",
              "                            \n",
              "var gd = document.getElementById('2f5a92c6-2a2d-4d1f-b070-c551df8b20b0');\n",
              "var x = new MutationObserver(function (mutations, observer) {{\n",
              "        var display = window.getComputedStyle(gd).display;\n",
              "        if (!display || display === 'none') {{\n",
              "            console.log([gd, 'removed!']);\n",
              "            Plotly.purge(gd);\n",
              "            observer.disconnect();\n",
              "        }}\n",
              "}});\n",
              "\n",
              "// Listen for the removal of the full notebook cells\n",
              "var notebookContainer = gd.closest('#notebook-container');\n",
              "if (notebookContainer) {{\n",
              "    x.observe(notebookContainer, {childList: true});\n",
              "}}\n",
              "\n",
              "// Listen for the clearing of the current output cell\n",
              "var outputEl = gd.closest('.output');\n",
              "if (outputEl) {{\n",
              "    x.observe(outputEl, {childList: true});\n",
              "}}\n",
              "\n",
              "                        })                };                            </script>        </div>\n",
              "</body>\n",
              "</html>"
            ]
          },
          "metadata": {}
        }
      ]
    }
  ]
}