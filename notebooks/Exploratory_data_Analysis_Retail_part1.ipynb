{
  "nbformat": 4,
  "nbformat_minor": 0,
  "metadata": {
    "colab": {
      "provenance": [],
      "include_colab_link": true
    },
    "kernelspec": {
      "name": "python3",
      "display_name": "Python 3"
    }
  },
  "cells": [
    {
      "cell_type": "markdown",
      "metadata": {
        "id": "view-in-github",
        "colab_type": "text"
      },
      "source": [
        "<a href=\"https://colab.research.google.com/github/mdkamrulhasan/data_mining_kdd/blob/main/notebooks/Exploratory_data_Analysis_Retail_part1.ipynb\" target=\"_parent\"><img src=\"https://colab.research.google.com/assets/colab-badge.svg\" alt=\"Open In Colab\"/></a>"
      ]
    },
    {
      "cell_type": "markdown",
      "source": [],
      "metadata": {
        "id": "gqSq_xbg7puK"
      }
    },
    {
      "cell_type": "markdown",
      "source": [
        "\n",
        "\n",
        "## 1. Indexing\n",
        "## 2. Datetime\n",
        "## 3. Data Processing: aggregation\n",
        "## 4. Data visualizations: plotly"
      ],
      "metadata": {
        "id": "VCiL5HJM55SM"
      }
    },
    {
      "cell_type": "markdown",
      "metadata": {
        "id": "FPSqz1wzTXvz"
      },
      "source": [
        "# Importing libraries"
      ]
    },
    {
      "cell_type": "code",
      "metadata": {
        "id": "GGyDovL2QDLa"
      },
      "source": [
        "# accessing google drive\n",
        "from google.colab import drive\n",
        "# data processing\n",
        "import pandas as pd\n",
        "import numpy as np\n",
        "# visualization\n",
        "import plotly.express as px\n",
        "import plotly.graph_objects as go"
      ],
      "execution_count": 1,
      "outputs": []
    },
    {
      "cell_type": "markdown",
      "metadata": {
        "id": "Ye6eXuohTd5Q"
      },
      "source": [
        "\n",
        "\n",
        "---\n",
        "\n"
      ]
    },
    {
      "cell_type": "markdown",
      "source": [
        "#Loading Data"
      ],
      "metadata": {
        "id": "roq_kfUY_q3-"
      }
    },
    {
      "cell_type": "markdown",
      "source": [
        "[Data (Retail) source](https://www.kaggle.com/datasets/manjeetsingh/retaildataset)\n",
        "\n",
        "Note: See, we have made some changes in the file names"
      ],
      "metadata": {
        "id": "YrkjtmCECyLS"
      }
    },
    {
      "cell_type": "code",
      "source": [
        "features = pd.read_csv(\"https://raw.githubusercontent.com/mdkamrulhasan/data_mining_kdd/main/data/retail/Features-data-set.csv\")\n",
        "sales = pd.read_csv(\"https://raw.githubusercontent.com/mdkamrulhasan/data_mining_kdd/main/data/retail/sales-data-set.csv\")\n",
        "stores = pd.read_csv(\"https://raw.githubusercontent.com/mdkamrulhasan/data_mining_kdd/main/data/retail/stores-data-set.csv\")"
      ],
      "metadata": {
        "id": "IVzj1lKR1Wsk"
      },
      "execution_count": 2,
      "outputs": []
    },
    {
      "cell_type": "markdown",
      "source": [
        "Lets have a first look of the data in each table?"
      ],
      "metadata": {
        "id": "8jiKcNI6C_c5"
      }
    },
    {
      "cell_type": "code",
      "source": [
        "features.head(3)"
      ],
      "metadata": {
        "colab": {
          "base_uri": "https://localhost:8080/",
          "height": 163
        },
        "id": "fdh-qoA4RXwv",
        "outputId": "2edf446b-bd93-42d1-aa50-4b0689a9c21a"
      },
      "execution_count": 3,
      "outputs": [
        {
          "output_type": "execute_result",
          "data": {
            "text/plain": [
              "   Store        Date  Temperature  Fuel_Price  MarkDown1  MarkDown2  \\\n",
              "0      1  05/02/2010        42.31       2.572        NaN        NaN   \n",
              "1      1  12/02/2010        38.51       2.548        NaN        NaN   \n",
              "2      1  19/02/2010        39.93       2.514        NaN        NaN   \n",
              "\n",
              "   MarkDown3  MarkDown4  MarkDown5         CPI  Unemployment  IsHoliday  \n",
              "0        NaN        NaN        NaN  211.096358         8.106      False  \n",
              "1        NaN        NaN        NaN  211.242170         8.106       True  \n",
              "2        NaN        NaN        NaN  211.289143         8.106      False  "
            ],
            "text/html": [
              "\n",
              "  <div id=\"df-2bad7f16-0268-42eb-b63a-5d88bdb3cb47\" class=\"colab-df-container\">\n",
              "    <div>\n",
              "<style scoped>\n",
              "    .dataframe tbody tr th:only-of-type {\n",
              "        vertical-align: middle;\n",
              "    }\n",
              "\n",
              "    .dataframe tbody tr th {\n",
              "        vertical-align: top;\n",
              "    }\n",
              "\n",
              "    .dataframe thead th {\n",
              "        text-align: right;\n",
              "    }\n",
              "</style>\n",
              "<table border=\"1\" class=\"dataframe\">\n",
              "  <thead>\n",
              "    <tr style=\"text-align: right;\">\n",
              "      <th></th>\n",
              "      <th>Store</th>\n",
              "      <th>Date</th>\n",
              "      <th>Temperature</th>\n",
              "      <th>Fuel_Price</th>\n",
              "      <th>MarkDown1</th>\n",
              "      <th>MarkDown2</th>\n",
              "      <th>MarkDown3</th>\n",
              "      <th>MarkDown4</th>\n",
              "      <th>MarkDown5</th>\n",
              "      <th>CPI</th>\n",
              "      <th>Unemployment</th>\n",
              "      <th>IsHoliday</th>\n",
              "    </tr>\n",
              "  </thead>\n",
              "  <tbody>\n",
              "    <tr>\n",
              "      <th>0</th>\n",
              "      <td>1</td>\n",
              "      <td>05/02/2010</td>\n",
              "      <td>42.31</td>\n",
              "      <td>2.572</td>\n",
              "      <td>NaN</td>\n",
              "      <td>NaN</td>\n",
              "      <td>NaN</td>\n",
              "      <td>NaN</td>\n",
              "      <td>NaN</td>\n",
              "      <td>211.096358</td>\n",
              "      <td>8.106</td>\n",
              "      <td>False</td>\n",
              "    </tr>\n",
              "    <tr>\n",
              "      <th>1</th>\n",
              "      <td>1</td>\n",
              "      <td>12/02/2010</td>\n",
              "      <td>38.51</td>\n",
              "      <td>2.548</td>\n",
              "      <td>NaN</td>\n",
              "      <td>NaN</td>\n",
              "      <td>NaN</td>\n",
              "      <td>NaN</td>\n",
              "      <td>NaN</td>\n",
              "      <td>211.242170</td>\n",
              "      <td>8.106</td>\n",
              "      <td>True</td>\n",
              "    </tr>\n",
              "    <tr>\n",
              "      <th>2</th>\n",
              "      <td>1</td>\n",
              "      <td>19/02/2010</td>\n",
              "      <td>39.93</td>\n",
              "      <td>2.514</td>\n",
              "      <td>NaN</td>\n",
              "      <td>NaN</td>\n",
              "      <td>NaN</td>\n",
              "      <td>NaN</td>\n",
              "      <td>NaN</td>\n",
              "      <td>211.289143</td>\n",
              "      <td>8.106</td>\n",
              "      <td>False</td>\n",
              "    </tr>\n",
              "  </tbody>\n",
              "</table>\n",
              "</div>\n",
              "    <div class=\"colab-df-buttons\">\n",
              "\n",
              "  <div class=\"colab-df-container\">\n",
              "    <button class=\"colab-df-convert\" onclick=\"convertToInteractive('df-2bad7f16-0268-42eb-b63a-5d88bdb3cb47')\"\n",
              "            title=\"Convert this dataframe to an interactive table.\"\n",
              "            style=\"display:none;\">\n",
              "\n",
              "  <svg xmlns=\"http://www.w3.org/2000/svg\" height=\"24px\" viewBox=\"0 -960 960 960\">\n",
              "    <path d=\"M120-120v-720h720v720H120Zm60-500h600v-160H180v160Zm220 220h160v-160H400v160Zm0 220h160v-160H400v160ZM180-400h160v-160H180v160Zm440 0h160v-160H620v160ZM180-180h160v-160H180v160Zm440 0h160v-160H620v160Z\"/>\n",
              "  </svg>\n",
              "    </button>\n",
              "\n",
              "  <style>\n",
              "    .colab-df-container {\n",
              "      display:flex;\n",
              "      gap: 12px;\n",
              "    }\n",
              "\n",
              "    .colab-df-convert {\n",
              "      background-color: #E8F0FE;\n",
              "      border: none;\n",
              "      border-radius: 50%;\n",
              "      cursor: pointer;\n",
              "      display: none;\n",
              "      fill: #1967D2;\n",
              "      height: 32px;\n",
              "      padding: 0 0 0 0;\n",
              "      width: 32px;\n",
              "    }\n",
              "\n",
              "    .colab-df-convert:hover {\n",
              "      background-color: #E2EBFA;\n",
              "      box-shadow: 0px 1px 2px rgba(60, 64, 67, 0.3), 0px 1px 3px 1px rgba(60, 64, 67, 0.15);\n",
              "      fill: #174EA6;\n",
              "    }\n",
              "\n",
              "    .colab-df-buttons div {\n",
              "      margin-bottom: 4px;\n",
              "    }\n",
              "\n",
              "    [theme=dark] .colab-df-convert {\n",
              "      background-color: #3B4455;\n",
              "      fill: #D2E3FC;\n",
              "    }\n",
              "\n",
              "    [theme=dark] .colab-df-convert:hover {\n",
              "      background-color: #434B5C;\n",
              "      box-shadow: 0px 1px 3px 1px rgba(0, 0, 0, 0.15);\n",
              "      filter: drop-shadow(0px 1px 2px rgba(0, 0, 0, 0.3));\n",
              "      fill: #FFFFFF;\n",
              "    }\n",
              "  </style>\n",
              "\n",
              "    <script>\n",
              "      const buttonEl =\n",
              "        document.querySelector('#df-2bad7f16-0268-42eb-b63a-5d88bdb3cb47 button.colab-df-convert');\n",
              "      buttonEl.style.display =\n",
              "        google.colab.kernel.accessAllowed ? 'block' : 'none';\n",
              "\n",
              "      async function convertToInteractive(key) {\n",
              "        const element = document.querySelector('#df-2bad7f16-0268-42eb-b63a-5d88bdb3cb47');\n",
              "        const dataTable =\n",
              "          await google.colab.kernel.invokeFunction('convertToInteractive',\n",
              "                                                    [key], {});\n",
              "        if (!dataTable) return;\n",
              "\n",
              "        const docLinkHtml = 'Like what you see? Visit the ' +\n",
              "          '<a target=\"_blank\" href=https://colab.research.google.com/notebooks/data_table.ipynb>data table notebook</a>'\n",
              "          + ' to learn more about interactive tables.';\n",
              "        element.innerHTML = '';\n",
              "        dataTable['output_type'] = 'display_data';\n",
              "        await google.colab.output.renderOutput(dataTable, element);\n",
              "        const docLink = document.createElement('div');\n",
              "        docLink.innerHTML = docLinkHtml;\n",
              "        element.appendChild(docLink);\n",
              "      }\n",
              "    </script>\n",
              "  </div>\n",
              "\n",
              "\n",
              "<div id=\"df-2638a9fe-b4d0-4295-a023-43856bf6d57b\">\n",
              "  <button class=\"colab-df-quickchart\" onclick=\"quickchart('df-2638a9fe-b4d0-4295-a023-43856bf6d57b')\"\n",
              "            title=\"Suggest charts\"\n",
              "            style=\"display:none;\">\n",
              "\n",
              "<svg xmlns=\"http://www.w3.org/2000/svg\" height=\"24px\"viewBox=\"0 0 24 24\"\n",
              "     width=\"24px\">\n",
              "    <g>\n",
              "        <path d=\"M19 3H5c-1.1 0-2 .9-2 2v14c0 1.1.9 2 2 2h14c1.1 0 2-.9 2-2V5c0-1.1-.9-2-2-2zM9 17H7v-7h2v7zm4 0h-2V7h2v10zm4 0h-2v-4h2v4z\"/>\n",
              "    </g>\n",
              "</svg>\n",
              "  </button>\n",
              "\n",
              "<style>\n",
              "  .colab-df-quickchart {\n",
              "      --bg-color: #E8F0FE;\n",
              "      --fill-color: #1967D2;\n",
              "      --hover-bg-color: #E2EBFA;\n",
              "      --hover-fill-color: #174EA6;\n",
              "      --disabled-fill-color: #AAA;\n",
              "      --disabled-bg-color: #DDD;\n",
              "  }\n",
              "\n",
              "  [theme=dark] .colab-df-quickchart {\n",
              "      --bg-color: #3B4455;\n",
              "      --fill-color: #D2E3FC;\n",
              "      --hover-bg-color: #434B5C;\n",
              "      --hover-fill-color: #FFFFFF;\n",
              "      --disabled-bg-color: #3B4455;\n",
              "      --disabled-fill-color: #666;\n",
              "  }\n",
              "\n",
              "  .colab-df-quickchart {\n",
              "    background-color: var(--bg-color);\n",
              "    border: none;\n",
              "    border-radius: 50%;\n",
              "    cursor: pointer;\n",
              "    display: none;\n",
              "    fill: var(--fill-color);\n",
              "    height: 32px;\n",
              "    padding: 0;\n",
              "    width: 32px;\n",
              "  }\n",
              "\n",
              "  .colab-df-quickchart:hover {\n",
              "    background-color: var(--hover-bg-color);\n",
              "    box-shadow: 0 1px 2px rgba(60, 64, 67, 0.3), 0 1px 3px 1px rgba(60, 64, 67, 0.15);\n",
              "    fill: var(--button-hover-fill-color);\n",
              "  }\n",
              "\n",
              "  .colab-df-quickchart-complete:disabled,\n",
              "  .colab-df-quickchart-complete:disabled:hover {\n",
              "    background-color: var(--disabled-bg-color);\n",
              "    fill: var(--disabled-fill-color);\n",
              "    box-shadow: none;\n",
              "  }\n",
              "\n",
              "  .colab-df-spinner {\n",
              "    border: 2px solid var(--fill-color);\n",
              "    border-color: transparent;\n",
              "    border-bottom-color: var(--fill-color);\n",
              "    animation:\n",
              "      spin 1s steps(1) infinite;\n",
              "  }\n",
              "\n",
              "  @keyframes spin {\n",
              "    0% {\n",
              "      border-color: transparent;\n",
              "      border-bottom-color: var(--fill-color);\n",
              "      border-left-color: var(--fill-color);\n",
              "    }\n",
              "    20% {\n",
              "      border-color: transparent;\n",
              "      border-left-color: var(--fill-color);\n",
              "      border-top-color: var(--fill-color);\n",
              "    }\n",
              "    30% {\n",
              "      border-color: transparent;\n",
              "      border-left-color: var(--fill-color);\n",
              "      border-top-color: var(--fill-color);\n",
              "      border-right-color: var(--fill-color);\n",
              "    }\n",
              "    40% {\n",
              "      border-color: transparent;\n",
              "      border-right-color: var(--fill-color);\n",
              "      border-top-color: var(--fill-color);\n",
              "    }\n",
              "    60% {\n",
              "      border-color: transparent;\n",
              "      border-right-color: var(--fill-color);\n",
              "    }\n",
              "    80% {\n",
              "      border-color: transparent;\n",
              "      border-right-color: var(--fill-color);\n",
              "      border-bottom-color: var(--fill-color);\n",
              "    }\n",
              "    90% {\n",
              "      border-color: transparent;\n",
              "      border-bottom-color: var(--fill-color);\n",
              "    }\n",
              "  }\n",
              "</style>\n",
              "\n",
              "  <script>\n",
              "    async function quickchart(key) {\n",
              "      const quickchartButtonEl =\n",
              "        document.querySelector('#' + key + ' button');\n",
              "      quickchartButtonEl.disabled = true;  // To prevent multiple clicks.\n",
              "      quickchartButtonEl.classList.add('colab-df-spinner');\n",
              "      try {\n",
              "        const charts = await google.colab.kernel.invokeFunction(\n",
              "            'suggestCharts', [key], {});\n",
              "      } catch (error) {\n",
              "        console.error('Error during call to suggestCharts:', error);\n",
              "      }\n",
              "      quickchartButtonEl.classList.remove('colab-df-spinner');\n",
              "      quickchartButtonEl.classList.add('colab-df-quickchart-complete');\n",
              "    }\n",
              "    (() => {\n",
              "      let quickchartButtonEl =\n",
              "        document.querySelector('#df-2638a9fe-b4d0-4295-a023-43856bf6d57b button');\n",
              "      quickchartButtonEl.style.display =\n",
              "        google.colab.kernel.accessAllowed ? 'block' : 'none';\n",
              "    })();\n",
              "  </script>\n",
              "</div>\n",
              "\n",
              "    </div>\n",
              "  </div>\n"
            ],
            "application/vnd.google.colaboratory.intrinsic+json": {
              "type": "dataframe",
              "variable_name": "features",
              "summary": "{\n  \"name\": \"features\",\n  \"rows\": 8190,\n  \"fields\": [\n    {\n      \"column\": \"Store\",\n      \"properties\": {\n        \"dtype\": \"number\",\n        \"std\": 12,\n        \"min\": 1,\n        \"max\": 45,\n        \"num_unique_values\": 45,\n        \"samples\": [\n          40,\n          26,\n          27\n        ],\n        \"semantic_type\": \"\",\n        \"description\": \"\"\n      }\n    },\n    {\n      \"column\": \"Date\",\n      \"properties\": {\n        \"dtype\": \"category\",\n        \"num_unique_values\": 182,\n        \"samples\": [\n          \"18/06/2010\",\n          \"26/11/2010\",\n          \"18/01/2013\"\n        ],\n        \"semantic_type\": \"\",\n        \"description\": \"\"\n      }\n    },\n    {\n      \"column\": \"Temperature\",\n      \"properties\": {\n        \"dtype\": \"number\",\n        \"std\": 18.67860684890715,\n        \"min\": -7.29,\n        \"max\": 101.95,\n        \"num_unique_values\": 4178,\n        \"samples\": [\n          83.8,\n          31.48,\n          79.14\n        ],\n        \"semantic_type\": \"\",\n        \"description\": \"\"\n      }\n    },\n    {\n      \"column\": \"Fuel_Price\",\n      \"properties\": {\n        \"dtype\": \"number\",\n        \"std\": 0.43133657110071344,\n        \"min\": 2.472,\n        \"max\": 4.468,\n        \"num_unique_values\": 1011,\n        \"samples\": [\n          2.782,\n          2.936,\n          3.282\n        ],\n        \"semantic_type\": \"\",\n        \"description\": \"\"\n      }\n    },\n    {\n      \"column\": \"MarkDown1\",\n      \"properties\": {\n        \"dtype\": \"number\",\n        \"std\": 9262.74744752368,\n        \"min\": -2781.45,\n        \"max\": 103184.98,\n        \"num_unique_values\": 4023,\n        \"samples\": [\n          9273.46,\n          7024.93,\n          8569.82\n        ],\n        \"semantic_type\": \"\",\n        \"description\": \"\"\n      }\n    },\n    {\n      \"column\": \"MarkDown2\",\n      \"properties\": {\n        \"dtype\": \"number\",\n        \"std\": 8793.58301550764,\n        \"min\": -265.76,\n        \"max\": 104519.54,\n        \"num_unique_values\": 2715,\n        \"samples\": [\n          252.8,\n          2675.46,\n          2347.13\n        ],\n        \"semantic_type\": \"\",\n        \"description\": \"\"\n      }\n    },\n    {\n      \"column\": \"MarkDown3\",\n      \"properties\": {\n        \"dtype\": \"number\",\n        \"std\": 11276.462208022936,\n        \"min\": -179.26,\n        \"max\": 149483.31,\n        \"num_unique_values\": 2885,\n        \"samples\": [\n          7.35,\n          182.74,\n          163.27\n        ],\n        \"semantic_type\": \"\",\n        \"description\": \"\"\n      }\n    },\n    {\n      \"column\": \"MarkDown4\",\n      \"properties\": {\n        \"dtype\": \"number\",\n        \"std\": 6792.329861347649,\n        \"min\": 0.22,\n        \"max\": 67474.85,\n        \"num_unique_values\": 3405,\n        \"samples\": [\n          113.37,\n          1270.8,\n          24079.57\n        ],\n        \"semantic_type\": \"\",\n        \"description\": \"\"\n      }\n    },\n    {\n      \"column\": \"MarkDown5\",\n      \"properties\": {\n        \"dtype\": \"number\",\n        \"std\": 13086.690278200194,\n        \"min\": -185.17,\n        \"max\": 771448.1,\n        \"num_unique_values\": 4045,\n        \"samples\": [\n          3666.08,\n          3479.8,\n          4958.33\n        ],\n        \"semantic_type\": \"\",\n        \"description\": \"\"\n      }\n    },\n    {\n      \"column\": \"CPI\",\n      \"properties\": {\n        \"dtype\": \"number\",\n        \"std\": 39.73834609860848,\n        \"min\": 126.064,\n        \"max\": 228.9764563,\n        \"num_unique_values\": 2505,\n        \"samples\": [\n          139.1226129,\n          216.0282356,\n          210.0451024\n        ],\n        \"semantic_type\": \"\",\n        \"description\": \"\"\n      }\n    },\n    {\n      \"column\": \"Unemployment\",\n      \"properties\": {\n        \"dtype\": \"number\",\n        \"std\": 1.8772585939174304,\n        \"min\": 3.684,\n        \"max\": 14.313,\n        \"num_unique_values\": 404,\n        \"samples\": [\n          7.259,\n          5.213,\n          6.901\n        ],\n        \"semantic_type\": \"\",\n        \"description\": \"\"\n      }\n    },\n    {\n      \"column\": \"IsHoliday\",\n      \"properties\": {\n        \"dtype\": \"boolean\",\n        \"num_unique_values\": 2,\n        \"samples\": [\n          true,\n          false\n        ],\n        \"semantic_type\": \"\",\n        \"description\": \"\"\n      }\n    }\n  ]\n}"
            }
          },
          "metadata": {},
          "execution_count": 3
        }
      ]
    },
    {
      "cell_type": "code",
      "source": [
        "sales.head(3)"
      ],
      "metadata": {
        "colab": {
          "base_uri": "https://localhost:8080/",
          "height": 143
        },
        "id": "2f_nq1HAPYle",
        "outputId": "c59d6505-b004-42d6-a796-bf246fba9af6"
      },
      "execution_count": 4,
      "outputs": [
        {
          "output_type": "execute_result",
          "data": {
            "text/plain": [
              "   Store  Dept        Date  Weekly_Sales  IsHoliday\n",
              "0      1     1  05/02/2010      24924.50      False\n",
              "1      1     1  12/02/2010      46039.49       True\n",
              "2      1     1  19/02/2010      41595.55      False"
            ],
            "text/html": [
              "\n",
              "  <div id=\"df-8683cfb0-98a2-4710-b8f8-d21443f3fb73\" class=\"colab-df-container\">\n",
              "    <div>\n",
              "<style scoped>\n",
              "    .dataframe tbody tr th:only-of-type {\n",
              "        vertical-align: middle;\n",
              "    }\n",
              "\n",
              "    .dataframe tbody tr th {\n",
              "        vertical-align: top;\n",
              "    }\n",
              "\n",
              "    .dataframe thead th {\n",
              "        text-align: right;\n",
              "    }\n",
              "</style>\n",
              "<table border=\"1\" class=\"dataframe\">\n",
              "  <thead>\n",
              "    <tr style=\"text-align: right;\">\n",
              "      <th></th>\n",
              "      <th>Store</th>\n",
              "      <th>Dept</th>\n",
              "      <th>Date</th>\n",
              "      <th>Weekly_Sales</th>\n",
              "      <th>IsHoliday</th>\n",
              "    </tr>\n",
              "  </thead>\n",
              "  <tbody>\n",
              "    <tr>\n",
              "      <th>0</th>\n",
              "      <td>1</td>\n",
              "      <td>1</td>\n",
              "      <td>05/02/2010</td>\n",
              "      <td>24924.50</td>\n",
              "      <td>False</td>\n",
              "    </tr>\n",
              "    <tr>\n",
              "      <th>1</th>\n",
              "      <td>1</td>\n",
              "      <td>1</td>\n",
              "      <td>12/02/2010</td>\n",
              "      <td>46039.49</td>\n",
              "      <td>True</td>\n",
              "    </tr>\n",
              "    <tr>\n",
              "      <th>2</th>\n",
              "      <td>1</td>\n",
              "      <td>1</td>\n",
              "      <td>19/02/2010</td>\n",
              "      <td>41595.55</td>\n",
              "      <td>False</td>\n",
              "    </tr>\n",
              "  </tbody>\n",
              "</table>\n",
              "</div>\n",
              "    <div class=\"colab-df-buttons\">\n",
              "\n",
              "  <div class=\"colab-df-container\">\n",
              "    <button class=\"colab-df-convert\" onclick=\"convertToInteractive('df-8683cfb0-98a2-4710-b8f8-d21443f3fb73')\"\n",
              "            title=\"Convert this dataframe to an interactive table.\"\n",
              "            style=\"display:none;\">\n",
              "\n",
              "  <svg xmlns=\"http://www.w3.org/2000/svg\" height=\"24px\" viewBox=\"0 -960 960 960\">\n",
              "    <path d=\"M120-120v-720h720v720H120Zm60-500h600v-160H180v160Zm220 220h160v-160H400v160Zm0 220h160v-160H400v160ZM180-400h160v-160H180v160Zm440 0h160v-160H620v160ZM180-180h160v-160H180v160Zm440 0h160v-160H620v160Z\"/>\n",
              "  </svg>\n",
              "    </button>\n",
              "\n",
              "  <style>\n",
              "    .colab-df-container {\n",
              "      display:flex;\n",
              "      gap: 12px;\n",
              "    }\n",
              "\n",
              "    .colab-df-convert {\n",
              "      background-color: #E8F0FE;\n",
              "      border: none;\n",
              "      border-radius: 50%;\n",
              "      cursor: pointer;\n",
              "      display: none;\n",
              "      fill: #1967D2;\n",
              "      height: 32px;\n",
              "      padding: 0 0 0 0;\n",
              "      width: 32px;\n",
              "    }\n",
              "\n",
              "    .colab-df-convert:hover {\n",
              "      background-color: #E2EBFA;\n",
              "      box-shadow: 0px 1px 2px rgba(60, 64, 67, 0.3), 0px 1px 3px 1px rgba(60, 64, 67, 0.15);\n",
              "      fill: #174EA6;\n",
              "    }\n",
              "\n",
              "    .colab-df-buttons div {\n",
              "      margin-bottom: 4px;\n",
              "    }\n",
              "\n",
              "    [theme=dark] .colab-df-convert {\n",
              "      background-color: #3B4455;\n",
              "      fill: #D2E3FC;\n",
              "    }\n",
              "\n",
              "    [theme=dark] .colab-df-convert:hover {\n",
              "      background-color: #434B5C;\n",
              "      box-shadow: 0px 1px 3px 1px rgba(0, 0, 0, 0.15);\n",
              "      filter: drop-shadow(0px 1px 2px rgba(0, 0, 0, 0.3));\n",
              "      fill: #FFFFFF;\n",
              "    }\n",
              "  </style>\n",
              "\n",
              "    <script>\n",
              "      const buttonEl =\n",
              "        document.querySelector('#df-8683cfb0-98a2-4710-b8f8-d21443f3fb73 button.colab-df-convert');\n",
              "      buttonEl.style.display =\n",
              "        google.colab.kernel.accessAllowed ? 'block' : 'none';\n",
              "\n",
              "      async function convertToInteractive(key) {\n",
              "        const element = document.querySelector('#df-8683cfb0-98a2-4710-b8f8-d21443f3fb73');\n",
              "        const dataTable =\n",
              "          await google.colab.kernel.invokeFunction('convertToInteractive',\n",
              "                                                    [key], {});\n",
              "        if (!dataTable) return;\n",
              "\n",
              "        const docLinkHtml = 'Like what you see? Visit the ' +\n",
              "          '<a target=\"_blank\" href=https://colab.research.google.com/notebooks/data_table.ipynb>data table notebook</a>'\n",
              "          + ' to learn more about interactive tables.';\n",
              "        element.innerHTML = '';\n",
              "        dataTable['output_type'] = 'display_data';\n",
              "        await google.colab.output.renderOutput(dataTable, element);\n",
              "        const docLink = document.createElement('div');\n",
              "        docLink.innerHTML = docLinkHtml;\n",
              "        element.appendChild(docLink);\n",
              "      }\n",
              "    </script>\n",
              "  </div>\n",
              "\n",
              "\n",
              "<div id=\"df-0d8e0259-0ab6-4636-80ab-70c507c411b1\">\n",
              "  <button class=\"colab-df-quickchart\" onclick=\"quickchart('df-0d8e0259-0ab6-4636-80ab-70c507c411b1')\"\n",
              "            title=\"Suggest charts\"\n",
              "            style=\"display:none;\">\n",
              "\n",
              "<svg xmlns=\"http://www.w3.org/2000/svg\" height=\"24px\"viewBox=\"0 0 24 24\"\n",
              "     width=\"24px\">\n",
              "    <g>\n",
              "        <path d=\"M19 3H5c-1.1 0-2 .9-2 2v14c0 1.1.9 2 2 2h14c1.1 0 2-.9 2-2V5c0-1.1-.9-2-2-2zM9 17H7v-7h2v7zm4 0h-2V7h2v10zm4 0h-2v-4h2v4z\"/>\n",
              "    </g>\n",
              "</svg>\n",
              "  </button>\n",
              "\n",
              "<style>\n",
              "  .colab-df-quickchart {\n",
              "      --bg-color: #E8F0FE;\n",
              "      --fill-color: #1967D2;\n",
              "      --hover-bg-color: #E2EBFA;\n",
              "      --hover-fill-color: #174EA6;\n",
              "      --disabled-fill-color: #AAA;\n",
              "      --disabled-bg-color: #DDD;\n",
              "  }\n",
              "\n",
              "  [theme=dark] .colab-df-quickchart {\n",
              "      --bg-color: #3B4455;\n",
              "      --fill-color: #D2E3FC;\n",
              "      --hover-bg-color: #434B5C;\n",
              "      --hover-fill-color: #FFFFFF;\n",
              "      --disabled-bg-color: #3B4455;\n",
              "      --disabled-fill-color: #666;\n",
              "  }\n",
              "\n",
              "  .colab-df-quickchart {\n",
              "    background-color: var(--bg-color);\n",
              "    border: none;\n",
              "    border-radius: 50%;\n",
              "    cursor: pointer;\n",
              "    display: none;\n",
              "    fill: var(--fill-color);\n",
              "    height: 32px;\n",
              "    padding: 0;\n",
              "    width: 32px;\n",
              "  }\n",
              "\n",
              "  .colab-df-quickchart:hover {\n",
              "    background-color: var(--hover-bg-color);\n",
              "    box-shadow: 0 1px 2px rgba(60, 64, 67, 0.3), 0 1px 3px 1px rgba(60, 64, 67, 0.15);\n",
              "    fill: var(--button-hover-fill-color);\n",
              "  }\n",
              "\n",
              "  .colab-df-quickchart-complete:disabled,\n",
              "  .colab-df-quickchart-complete:disabled:hover {\n",
              "    background-color: var(--disabled-bg-color);\n",
              "    fill: var(--disabled-fill-color);\n",
              "    box-shadow: none;\n",
              "  }\n",
              "\n",
              "  .colab-df-spinner {\n",
              "    border: 2px solid var(--fill-color);\n",
              "    border-color: transparent;\n",
              "    border-bottom-color: var(--fill-color);\n",
              "    animation:\n",
              "      spin 1s steps(1) infinite;\n",
              "  }\n",
              "\n",
              "  @keyframes spin {\n",
              "    0% {\n",
              "      border-color: transparent;\n",
              "      border-bottom-color: var(--fill-color);\n",
              "      border-left-color: var(--fill-color);\n",
              "    }\n",
              "    20% {\n",
              "      border-color: transparent;\n",
              "      border-left-color: var(--fill-color);\n",
              "      border-top-color: var(--fill-color);\n",
              "    }\n",
              "    30% {\n",
              "      border-color: transparent;\n",
              "      border-left-color: var(--fill-color);\n",
              "      border-top-color: var(--fill-color);\n",
              "      border-right-color: var(--fill-color);\n",
              "    }\n",
              "    40% {\n",
              "      border-color: transparent;\n",
              "      border-right-color: var(--fill-color);\n",
              "      border-top-color: var(--fill-color);\n",
              "    }\n",
              "    60% {\n",
              "      border-color: transparent;\n",
              "      border-right-color: var(--fill-color);\n",
              "    }\n",
              "    80% {\n",
              "      border-color: transparent;\n",
              "      border-right-color: var(--fill-color);\n",
              "      border-bottom-color: var(--fill-color);\n",
              "    }\n",
              "    90% {\n",
              "      border-color: transparent;\n",
              "      border-bottom-color: var(--fill-color);\n",
              "    }\n",
              "  }\n",
              "</style>\n",
              "\n",
              "  <script>\n",
              "    async function quickchart(key) {\n",
              "      const quickchartButtonEl =\n",
              "        document.querySelector('#' + key + ' button');\n",
              "      quickchartButtonEl.disabled = true;  // To prevent multiple clicks.\n",
              "      quickchartButtonEl.classList.add('colab-df-spinner');\n",
              "      try {\n",
              "        const charts = await google.colab.kernel.invokeFunction(\n",
              "            'suggestCharts', [key], {});\n",
              "      } catch (error) {\n",
              "        console.error('Error during call to suggestCharts:', error);\n",
              "      }\n",
              "      quickchartButtonEl.classList.remove('colab-df-spinner');\n",
              "      quickchartButtonEl.classList.add('colab-df-quickchart-complete');\n",
              "    }\n",
              "    (() => {\n",
              "      let quickchartButtonEl =\n",
              "        document.querySelector('#df-0d8e0259-0ab6-4636-80ab-70c507c411b1 button');\n",
              "      quickchartButtonEl.style.display =\n",
              "        google.colab.kernel.accessAllowed ? 'block' : 'none';\n",
              "    })();\n",
              "  </script>\n",
              "</div>\n",
              "\n",
              "    </div>\n",
              "  </div>\n"
            ],
            "application/vnd.google.colaboratory.intrinsic+json": {
              "type": "dataframe",
              "variable_name": "sales"
            }
          },
          "metadata": {},
          "execution_count": 4
        }
      ]
    },
    {
      "cell_type": "code",
      "source": [
        "stores.Type.unique()"
      ],
      "metadata": {
        "colab": {
          "base_uri": "https://localhost:8080/"
        },
        "id": "bA10Fj1vSd26",
        "outputId": "ce2ae753-8b27-4afb-8df3-98cec62d0388"
      },
      "execution_count": 5,
      "outputs": [
        {
          "output_type": "execute_result",
          "data": {
            "text/plain": [
              "array(['A', 'B', 'C'], dtype=object)"
            ]
          },
          "metadata": {},
          "execution_count": 5
        }
      ]
    },
    {
      "cell_type": "markdown",
      "source": [
        "**Mostly will be talking about the sales data today**"
      ],
      "metadata": {
        "id": "AZEDRzHXSp6c"
      }
    },
    {
      "cell_type": "code",
      "source": [
        "sales.index"
      ],
      "metadata": {
        "colab": {
          "base_uri": "https://localhost:8080/"
        },
        "id": "Hl1g4-iaXbhF",
        "outputId": "dffaf690-9a94-4a9e-b37d-a779e17dd6cc"
      },
      "execution_count": 6,
      "outputs": [
        {
          "output_type": "execute_result",
          "data": {
            "text/plain": [
              "RangeIndex(start=0, stop=421570, step=1)"
            ]
          },
          "metadata": {},
          "execution_count": 6
        }
      ]
    },
    {
      "cell_type": "code",
      "source": [
        "sales.index.values[:10]"
      ],
      "metadata": {
        "colab": {
          "base_uri": "https://localhost:8080/"
        },
        "id": "G5ubaxOUTJu5",
        "outputId": "5c13c32a-a336-4307-9a5a-3b1d2fb79c73"
      },
      "execution_count": 7,
      "outputs": [
        {
          "output_type": "execute_result",
          "data": {
            "text/plain": [
              "array([0, 1, 2, 3, 4, 5, 6, 7, 8, 9])"
            ]
          },
          "metadata": {},
          "execution_count": 7
        }
      ]
    },
    {
      "cell_type": "code",
      "source": [
        "sales.head(2)"
      ],
      "metadata": {
        "colab": {
          "base_uri": "https://localhost:8080/",
          "height": 112
        },
        "id": "K_JfAMoOTVc0",
        "outputId": "e8687455-95e1-4a86-e980-b5e9190454ae"
      },
      "execution_count": 8,
      "outputs": [
        {
          "output_type": "execute_result",
          "data": {
            "text/plain": [
              "   Store  Dept        Date  Weekly_Sales  IsHoliday\n",
              "0      1     1  05/02/2010      24924.50      False\n",
              "1      1     1  12/02/2010      46039.49       True"
            ],
            "text/html": [
              "\n",
              "  <div id=\"df-a6f7cae1-0422-4e9d-a461-7e474e5d2b55\" class=\"colab-df-container\">\n",
              "    <div>\n",
              "<style scoped>\n",
              "    .dataframe tbody tr th:only-of-type {\n",
              "        vertical-align: middle;\n",
              "    }\n",
              "\n",
              "    .dataframe tbody tr th {\n",
              "        vertical-align: top;\n",
              "    }\n",
              "\n",
              "    .dataframe thead th {\n",
              "        text-align: right;\n",
              "    }\n",
              "</style>\n",
              "<table border=\"1\" class=\"dataframe\">\n",
              "  <thead>\n",
              "    <tr style=\"text-align: right;\">\n",
              "      <th></th>\n",
              "      <th>Store</th>\n",
              "      <th>Dept</th>\n",
              "      <th>Date</th>\n",
              "      <th>Weekly_Sales</th>\n",
              "      <th>IsHoliday</th>\n",
              "    </tr>\n",
              "  </thead>\n",
              "  <tbody>\n",
              "    <tr>\n",
              "      <th>0</th>\n",
              "      <td>1</td>\n",
              "      <td>1</td>\n",
              "      <td>05/02/2010</td>\n",
              "      <td>24924.50</td>\n",
              "      <td>False</td>\n",
              "    </tr>\n",
              "    <tr>\n",
              "      <th>1</th>\n",
              "      <td>1</td>\n",
              "      <td>1</td>\n",
              "      <td>12/02/2010</td>\n",
              "      <td>46039.49</td>\n",
              "      <td>True</td>\n",
              "    </tr>\n",
              "  </tbody>\n",
              "</table>\n",
              "</div>\n",
              "    <div class=\"colab-df-buttons\">\n",
              "\n",
              "  <div class=\"colab-df-container\">\n",
              "    <button class=\"colab-df-convert\" onclick=\"convertToInteractive('df-a6f7cae1-0422-4e9d-a461-7e474e5d2b55')\"\n",
              "            title=\"Convert this dataframe to an interactive table.\"\n",
              "            style=\"display:none;\">\n",
              "\n",
              "  <svg xmlns=\"http://www.w3.org/2000/svg\" height=\"24px\" viewBox=\"0 -960 960 960\">\n",
              "    <path d=\"M120-120v-720h720v720H120Zm60-500h600v-160H180v160Zm220 220h160v-160H400v160Zm0 220h160v-160H400v160ZM180-400h160v-160H180v160Zm440 0h160v-160H620v160ZM180-180h160v-160H180v160Zm440 0h160v-160H620v160Z\"/>\n",
              "  </svg>\n",
              "    </button>\n",
              "\n",
              "  <style>\n",
              "    .colab-df-container {\n",
              "      display:flex;\n",
              "      gap: 12px;\n",
              "    }\n",
              "\n",
              "    .colab-df-convert {\n",
              "      background-color: #E8F0FE;\n",
              "      border: none;\n",
              "      border-radius: 50%;\n",
              "      cursor: pointer;\n",
              "      display: none;\n",
              "      fill: #1967D2;\n",
              "      height: 32px;\n",
              "      padding: 0 0 0 0;\n",
              "      width: 32px;\n",
              "    }\n",
              "\n",
              "    .colab-df-convert:hover {\n",
              "      background-color: #E2EBFA;\n",
              "      box-shadow: 0px 1px 2px rgba(60, 64, 67, 0.3), 0px 1px 3px 1px rgba(60, 64, 67, 0.15);\n",
              "      fill: #174EA6;\n",
              "    }\n",
              "\n",
              "    .colab-df-buttons div {\n",
              "      margin-bottom: 4px;\n",
              "    }\n",
              "\n",
              "    [theme=dark] .colab-df-convert {\n",
              "      background-color: #3B4455;\n",
              "      fill: #D2E3FC;\n",
              "    }\n",
              "\n",
              "    [theme=dark] .colab-df-convert:hover {\n",
              "      background-color: #434B5C;\n",
              "      box-shadow: 0px 1px 3px 1px rgba(0, 0, 0, 0.15);\n",
              "      filter: drop-shadow(0px 1px 2px rgba(0, 0, 0, 0.3));\n",
              "      fill: #FFFFFF;\n",
              "    }\n",
              "  </style>\n",
              "\n",
              "    <script>\n",
              "      const buttonEl =\n",
              "        document.querySelector('#df-a6f7cae1-0422-4e9d-a461-7e474e5d2b55 button.colab-df-convert');\n",
              "      buttonEl.style.display =\n",
              "        google.colab.kernel.accessAllowed ? 'block' : 'none';\n",
              "\n",
              "      async function convertToInteractive(key) {\n",
              "        const element = document.querySelector('#df-a6f7cae1-0422-4e9d-a461-7e474e5d2b55');\n",
              "        const dataTable =\n",
              "          await google.colab.kernel.invokeFunction('convertToInteractive',\n",
              "                                                    [key], {});\n",
              "        if (!dataTable) return;\n",
              "\n",
              "        const docLinkHtml = 'Like what you see? Visit the ' +\n",
              "          '<a target=\"_blank\" href=https://colab.research.google.com/notebooks/data_table.ipynb>data table notebook</a>'\n",
              "          + ' to learn more about interactive tables.';\n",
              "        element.innerHTML = '';\n",
              "        dataTable['output_type'] = 'display_data';\n",
              "        await google.colab.output.renderOutput(dataTable, element);\n",
              "        const docLink = document.createElement('div');\n",
              "        docLink.innerHTML = docLinkHtml;\n",
              "        element.appendChild(docLink);\n",
              "      }\n",
              "    </script>\n",
              "  </div>\n",
              "\n",
              "\n",
              "<div id=\"df-ceb42f60-c3a4-43e2-9f9e-04efe88fc936\">\n",
              "  <button class=\"colab-df-quickchart\" onclick=\"quickchart('df-ceb42f60-c3a4-43e2-9f9e-04efe88fc936')\"\n",
              "            title=\"Suggest charts\"\n",
              "            style=\"display:none;\">\n",
              "\n",
              "<svg xmlns=\"http://www.w3.org/2000/svg\" height=\"24px\"viewBox=\"0 0 24 24\"\n",
              "     width=\"24px\">\n",
              "    <g>\n",
              "        <path d=\"M19 3H5c-1.1 0-2 .9-2 2v14c0 1.1.9 2 2 2h14c1.1 0 2-.9 2-2V5c0-1.1-.9-2-2-2zM9 17H7v-7h2v7zm4 0h-2V7h2v10zm4 0h-2v-4h2v4z\"/>\n",
              "    </g>\n",
              "</svg>\n",
              "  </button>\n",
              "\n",
              "<style>\n",
              "  .colab-df-quickchart {\n",
              "      --bg-color: #E8F0FE;\n",
              "      --fill-color: #1967D2;\n",
              "      --hover-bg-color: #E2EBFA;\n",
              "      --hover-fill-color: #174EA6;\n",
              "      --disabled-fill-color: #AAA;\n",
              "      --disabled-bg-color: #DDD;\n",
              "  }\n",
              "\n",
              "  [theme=dark] .colab-df-quickchart {\n",
              "      --bg-color: #3B4455;\n",
              "      --fill-color: #D2E3FC;\n",
              "      --hover-bg-color: #434B5C;\n",
              "      --hover-fill-color: #FFFFFF;\n",
              "      --disabled-bg-color: #3B4455;\n",
              "      --disabled-fill-color: #666;\n",
              "  }\n",
              "\n",
              "  .colab-df-quickchart {\n",
              "    background-color: var(--bg-color);\n",
              "    border: none;\n",
              "    border-radius: 50%;\n",
              "    cursor: pointer;\n",
              "    display: none;\n",
              "    fill: var(--fill-color);\n",
              "    height: 32px;\n",
              "    padding: 0;\n",
              "    width: 32px;\n",
              "  }\n",
              "\n",
              "  .colab-df-quickchart:hover {\n",
              "    background-color: var(--hover-bg-color);\n",
              "    box-shadow: 0 1px 2px rgba(60, 64, 67, 0.3), 0 1px 3px 1px rgba(60, 64, 67, 0.15);\n",
              "    fill: var(--button-hover-fill-color);\n",
              "  }\n",
              "\n",
              "  .colab-df-quickchart-complete:disabled,\n",
              "  .colab-df-quickchart-complete:disabled:hover {\n",
              "    background-color: var(--disabled-bg-color);\n",
              "    fill: var(--disabled-fill-color);\n",
              "    box-shadow: none;\n",
              "  }\n",
              "\n",
              "  .colab-df-spinner {\n",
              "    border: 2px solid var(--fill-color);\n",
              "    border-color: transparent;\n",
              "    border-bottom-color: var(--fill-color);\n",
              "    animation:\n",
              "      spin 1s steps(1) infinite;\n",
              "  }\n",
              "\n",
              "  @keyframes spin {\n",
              "    0% {\n",
              "      border-color: transparent;\n",
              "      border-bottom-color: var(--fill-color);\n",
              "      border-left-color: var(--fill-color);\n",
              "    }\n",
              "    20% {\n",
              "      border-color: transparent;\n",
              "      border-left-color: var(--fill-color);\n",
              "      border-top-color: var(--fill-color);\n",
              "    }\n",
              "    30% {\n",
              "      border-color: transparent;\n",
              "      border-left-color: var(--fill-color);\n",
              "      border-top-color: var(--fill-color);\n",
              "      border-right-color: var(--fill-color);\n",
              "    }\n",
              "    40% {\n",
              "      border-color: transparent;\n",
              "      border-right-color: var(--fill-color);\n",
              "      border-top-color: var(--fill-color);\n",
              "    }\n",
              "    60% {\n",
              "      border-color: transparent;\n",
              "      border-right-color: var(--fill-color);\n",
              "    }\n",
              "    80% {\n",
              "      border-color: transparent;\n",
              "      border-right-color: var(--fill-color);\n",
              "      border-bottom-color: var(--fill-color);\n",
              "    }\n",
              "    90% {\n",
              "      border-color: transparent;\n",
              "      border-bottom-color: var(--fill-color);\n",
              "    }\n",
              "  }\n",
              "</style>\n",
              "\n",
              "  <script>\n",
              "    async function quickchart(key) {\n",
              "      const quickchartButtonEl =\n",
              "        document.querySelector('#' + key + ' button');\n",
              "      quickchartButtonEl.disabled = true;  // To prevent multiple clicks.\n",
              "      quickchartButtonEl.classList.add('colab-df-spinner');\n",
              "      try {\n",
              "        const charts = await google.colab.kernel.invokeFunction(\n",
              "            'suggestCharts', [key], {});\n",
              "      } catch (error) {\n",
              "        console.error('Error during call to suggestCharts:', error);\n",
              "      }\n",
              "      quickchartButtonEl.classList.remove('colab-df-spinner');\n",
              "      quickchartButtonEl.classList.add('colab-df-quickchart-complete');\n",
              "    }\n",
              "    (() => {\n",
              "      let quickchartButtonEl =\n",
              "        document.querySelector('#df-ceb42f60-c3a4-43e2-9f9e-04efe88fc936 button');\n",
              "      quickchartButtonEl.style.display =\n",
              "        google.colab.kernel.accessAllowed ? 'block' : 'none';\n",
              "    })();\n",
              "  </script>\n",
              "</div>\n",
              "\n",
              "    </div>\n",
              "  </div>\n"
            ],
            "application/vnd.google.colaboratory.intrinsic+json": {
              "type": "dataframe",
              "variable_name": "sales"
            }
          },
          "metadata": {},
          "execution_count": 8
        }
      ]
    },
    {
      "cell_type": "code",
      "source": [
        "sales.loc[1]"
      ],
      "metadata": {
        "colab": {
          "base_uri": "https://localhost:8080/",
          "height": 241
        },
        "id": "36grlYARXrVV",
        "outputId": "625ec2d0-6d85-4685-c000-11df8608c012"
      },
      "execution_count": 9,
      "outputs": [
        {
          "output_type": "execute_result",
          "data": {
            "text/plain": [
              "Store                    1\n",
              "Dept                     1\n",
              "Date            12/02/2010\n",
              "Weekly_Sales      46039.49\n",
              "IsHoliday             True\n",
              "Name: 1, dtype: object"
            ],
            "text/html": [
              "<div>\n",
              "<style scoped>\n",
              "    .dataframe tbody tr th:only-of-type {\n",
              "        vertical-align: middle;\n",
              "    }\n",
              "\n",
              "    .dataframe tbody tr th {\n",
              "        vertical-align: top;\n",
              "    }\n",
              "\n",
              "    .dataframe thead th {\n",
              "        text-align: right;\n",
              "    }\n",
              "</style>\n",
              "<table border=\"1\" class=\"dataframe\">\n",
              "  <thead>\n",
              "    <tr style=\"text-align: right;\">\n",
              "      <th></th>\n",
              "      <th>1</th>\n",
              "    </tr>\n",
              "  </thead>\n",
              "  <tbody>\n",
              "    <tr>\n",
              "      <th>Store</th>\n",
              "      <td>1</td>\n",
              "    </tr>\n",
              "    <tr>\n",
              "      <th>Dept</th>\n",
              "      <td>1</td>\n",
              "    </tr>\n",
              "    <tr>\n",
              "      <th>Date</th>\n",
              "      <td>12/02/2010</td>\n",
              "    </tr>\n",
              "    <tr>\n",
              "      <th>Weekly_Sales</th>\n",
              "      <td>46039.49</td>\n",
              "    </tr>\n",
              "    <tr>\n",
              "      <th>IsHoliday</th>\n",
              "      <td>True</td>\n",
              "    </tr>\n",
              "  </tbody>\n",
              "</table>\n",
              "</div><br><label><b>dtype:</b> object</label>"
            ]
          },
          "metadata": {},
          "execution_count": 9
        }
      ]
    },
    {
      "cell_type": "code",
      "source": [
        "sales.iloc[1]"
      ],
      "metadata": {
        "colab": {
          "base_uri": "https://localhost:8080/",
          "height": 241
        },
        "id": "VhwcgLXBXiLx",
        "outputId": "0c54c405-0061-439f-9422-aed6be6047ad"
      },
      "execution_count": 10,
      "outputs": [
        {
          "output_type": "execute_result",
          "data": {
            "text/plain": [
              "Store                    1\n",
              "Dept                     1\n",
              "Date            12/02/2010\n",
              "Weekly_Sales      46039.49\n",
              "IsHoliday             True\n",
              "Name: 1, dtype: object"
            ],
            "text/html": [
              "<div>\n",
              "<style scoped>\n",
              "    .dataframe tbody tr th:only-of-type {\n",
              "        vertical-align: middle;\n",
              "    }\n",
              "\n",
              "    .dataframe tbody tr th {\n",
              "        vertical-align: top;\n",
              "    }\n",
              "\n",
              "    .dataframe thead th {\n",
              "        text-align: right;\n",
              "    }\n",
              "</style>\n",
              "<table border=\"1\" class=\"dataframe\">\n",
              "  <thead>\n",
              "    <tr style=\"text-align: right;\">\n",
              "      <th></th>\n",
              "      <th>1</th>\n",
              "    </tr>\n",
              "  </thead>\n",
              "  <tbody>\n",
              "    <tr>\n",
              "      <th>Store</th>\n",
              "      <td>1</td>\n",
              "    </tr>\n",
              "    <tr>\n",
              "      <th>Dept</th>\n",
              "      <td>1</td>\n",
              "    </tr>\n",
              "    <tr>\n",
              "      <th>Date</th>\n",
              "      <td>12/02/2010</td>\n",
              "    </tr>\n",
              "    <tr>\n",
              "      <th>Weekly_Sales</th>\n",
              "      <td>46039.49</td>\n",
              "    </tr>\n",
              "    <tr>\n",
              "      <th>IsHoliday</th>\n",
              "      <td>True</td>\n",
              "    </tr>\n",
              "  </tbody>\n",
              "</table>\n",
              "</div><br><label><b>dtype:</b> object</label>"
            ]
          },
          "metadata": {},
          "execution_count": 10
        }
      ]
    },
    {
      "cell_type": "code",
      "source": [
        "sales.info()"
      ],
      "metadata": {
        "colab": {
          "base_uri": "https://localhost:8080/"
        },
        "id": "T75tlI48PYiT",
        "outputId": "7e68c9aa-8517-4f61-9cf1-1ac42d9d3eec"
      },
      "execution_count": 11,
      "outputs": [
        {
          "output_type": "stream",
          "name": "stdout",
          "text": [
            "<class 'pandas.core.frame.DataFrame'>\n",
            "RangeIndex: 421570 entries, 0 to 421569\n",
            "Data columns (total 5 columns):\n",
            " #   Column        Non-Null Count   Dtype  \n",
            "---  ------        --------------   -----  \n",
            " 0   Store         421570 non-null  int64  \n",
            " 1   Dept          421570 non-null  int64  \n",
            " 2   Date          421570 non-null  object \n",
            " 3   Weekly_Sales  421570 non-null  float64\n",
            " 4   IsHoliday     421570 non-null  bool   \n",
            "dtypes: bool(1), float64(1), int64(2), object(1)\n",
            "memory usage: 13.3+ MB\n"
          ]
        }
      ]
    },
    {
      "cell_type": "markdown",
      "source": [
        "We want to find the max and min date available"
      ],
      "metadata": {
        "id": "AI6jNbslT3qL"
      }
    },
    {
      "cell_type": "code",
      "source": [
        "sales.Weekly_Sales.min(), sales.Weekly_Sales.max()"
      ],
      "metadata": {
        "colab": {
          "base_uri": "https://localhost:8080/"
        },
        "id": "_pBOHpJvUIbm",
        "outputId": "efcdbe0e-421f-4457-ad3c-7169a8e6ee24"
      },
      "execution_count": 12,
      "outputs": [
        {
          "output_type": "execute_result",
          "data": {
            "text/plain": [
              "(-4988.94, 693099.36)"
            ]
          },
          "metadata": {},
          "execution_count": 12
        }
      ]
    },
    {
      "cell_type": "code",
      "source": [
        "sales.Date.min(), sales.Date.max()"
      ],
      "metadata": {
        "colab": {
          "base_uri": "https://localhost:8080/"
        },
        "id": "ov4fqIB9P74q",
        "outputId": "3977a14e-f323-4809-e94f-7751c1044eba"
      },
      "execution_count": 13,
      "outputs": [
        {
          "output_type": "execute_result",
          "data": {
            "text/plain": [
              "('01/04/2011', '31/12/2010')"
            ]
          },
          "metadata": {},
          "execution_count": 13
        }
      ]
    },
    {
      "cell_type": "code",
      "source": [
        "sales.dtypes"
      ],
      "metadata": {
        "colab": {
          "base_uri": "https://localhost:8080/",
          "height": 241
        },
        "id": "0HlRLNWoPYfb",
        "outputId": "34e1c072-44d2-4379-a22a-11cfeaca864b"
      },
      "execution_count": 14,
      "outputs": [
        {
          "output_type": "execute_result",
          "data": {
            "text/plain": [
              "Store             int64\n",
              "Dept              int64\n",
              "Date             object\n",
              "Weekly_Sales    float64\n",
              "IsHoliday          bool\n",
              "dtype: object"
            ],
            "text/html": [
              "<div>\n",
              "<style scoped>\n",
              "    .dataframe tbody tr th:only-of-type {\n",
              "        vertical-align: middle;\n",
              "    }\n",
              "\n",
              "    .dataframe tbody tr th {\n",
              "        vertical-align: top;\n",
              "    }\n",
              "\n",
              "    .dataframe thead th {\n",
              "        text-align: right;\n",
              "    }\n",
              "</style>\n",
              "<table border=\"1\" class=\"dataframe\">\n",
              "  <thead>\n",
              "    <tr style=\"text-align: right;\">\n",
              "      <th></th>\n",
              "      <th>0</th>\n",
              "    </tr>\n",
              "  </thead>\n",
              "  <tbody>\n",
              "    <tr>\n",
              "      <th>Store</th>\n",
              "      <td>int64</td>\n",
              "    </tr>\n",
              "    <tr>\n",
              "      <th>Dept</th>\n",
              "      <td>int64</td>\n",
              "    </tr>\n",
              "    <tr>\n",
              "      <th>Date</th>\n",
              "      <td>object</td>\n",
              "    </tr>\n",
              "    <tr>\n",
              "      <th>Weekly_Sales</th>\n",
              "      <td>float64</td>\n",
              "    </tr>\n",
              "    <tr>\n",
              "      <th>IsHoliday</th>\n",
              "      <td>bool</td>\n",
              "    </tr>\n",
              "  </tbody>\n",
              "</table>\n",
              "</div><br><label><b>dtype:</b> object</label>"
            ]
          },
          "metadata": {},
          "execution_count": 14
        }
      ]
    },
    {
      "cell_type": "markdown",
      "source": [
        "Converting to date time format"
      ],
      "metadata": {
        "id": "1f7FUlGEUk8H"
      }
    },
    {
      "cell_type": "code",
      "source": [
        "sales['Date'] = pd.to_datetime(sales.Date, format=\"%d/%m/%Y\")"
      ],
      "metadata": {
        "id": "nWTQqKQKPYc1"
      },
      "execution_count": 15,
      "outputs": []
    },
    {
      "cell_type": "code",
      "source": [
        "sales.Date.min(), sales.Date.max()"
      ],
      "metadata": {
        "colab": {
          "base_uri": "https://localhost:8080/"
        },
        "id": "_2HJmAMyCoeF",
        "outputId": "0f0ed8e8-2b84-45d9-9b48-707070eba419"
      },
      "execution_count": 16,
      "outputs": [
        {
          "output_type": "execute_result",
          "data": {
            "text/plain": [
              "(Timestamp('2010-02-05 00:00:00'), Timestamp('2012-10-26 00:00:00'))"
            ]
          },
          "metadata": {},
          "execution_count": 16
        }
      ]
    },
    {
      "cell_type": "code",
      "source": [
        "sales.dtypes"
      ],
      "metadata": {
        "colab": {
          "base_uri": "https://localhost:8080/",
          "height": 241
        },
        "id": "wIQpA8caCxzp",
        "outputId": "8cd516f1-8ac2-4cb2-9e40-a551a82a6ed3"
      },
      "execution_count": 17,
      "outputs": [
        {
          "output_type": "execute_result",
          "data": {
            "text/plain": [
              "Store                    int64\n",
              "Dept                     int64\n",
              "Date            datetime64[ns]\n",
              "Weekly_Sales           float64\n",
              "IsHoliday                 bool\n",
              "dtype: object"
            ],
            "text/html": [
              "<div>\n",
              "<style scoped>\n",
              "    .dataframe tbody tr th:only-of-type {\n",
              "        vertical-align: middle;\n",
              "    }\n",
              "\n",
              "    .dataframe tbody tr th {\n",
              "        vertical-align: top;\n",
              "    }\n",
              "\n",
              "    .dataframe thead th {\n",
              "        text-align: right;\n",
              "    }\n",
              "</style>\n",
              "<table border=\"1\" class=\"dataframe\">\n",
              "  <thead>\n",
              "    <tr style=\"text-align: right;\">\n",
              "      <th></th>\n",
              "      <th>0</th>\n",
              "    </tr>\n",
              "  </thead>\n",
              "  <tbody>\n",
              "    <tr>\n",
              "      <th>Store</th>\n",
              "      <td>int64</td>\n",
              "    </tr>\n",
              "    <tr>\n",
              "      <th>Dept</th>\n",
              "      <td>int64</td>\n",
              "    </tr>\n",
              "    <tr>\n",
              "      <th>Date</th>\n",
              "      <td>datetime64[ns]</td>\n",
              "    </tr>\n",
              "    <tr>\n",
              "      <th>Weekly_Sales</th>\n",
              "      <td>float64</td>\n",
              "    </tr>\n",
              "    <tr>\n",
              "      <th>IsHoliday</th>\n",
              "      <td>bool</td>\n",
              "    </tr>\n",
              "  </tbody>\n",
              "</table>\n",
              "</div><br><label><b>dtype:</b> object</label>"
            ]
          },
          "metadata": {},
          "execution_count": 17
        }
      ]
    },
    {
      "cell_type": "markdown",
      "source": [
        "### Lets create some additional time related columns"
      ],
      "metadata": {
        "id": "gE8tNt8aDYWl"
      }
    },
    {
      "cell_type": "code",
      "source": [
        "pd.__version__"
      ],
      "metadata": {
        "colab": {
          "base_uri": "https://localhost:8080/",
          "height": 35
        },
        "id": "GrPhJvsMw9Ke",
        "outputId": "bccd877c-132f-44a4-8afe-273b7d4bae4c"
      },
      "execution_count": 20,
      "outputs": [
        {
          "output_type": "execute_result",
          "data": {
            "text/plain": [
              "'2.1.4'"
            ],
            "application/vnd.google.colaboratory.intrinsic+json": {
              "type": "string"
            }
          },
          "metadata": {},
          "execution_count": 20
        }
      ]
    },
    {
      "cell_type": "code",
      "source": [
        "sales['Year'] = sales.Date.dt.year\n",
        "sales['Month'] = sales.Date.dt.month\n",
        "sales['Week'] = sales.Date.dt.isocalendar().week"
      ],
      "metadata": {
        "id": "TRPZU1mZUl8A"
      },
      "execution_count": 27,
      "outputs": []
    },
    {
      "cell_type": "markdown",
      "source": [
        "Number of unique stores"
      ],
      "metadata": {
        "id": "KkzG1v1oD2XA"
      }
    },
    {
      "cell_type": "code",
      "source": [
        "sales.Store.nunique()"
      ],
      "metadata": {
        "colab": {
          "base_uri": "https://localhost:8080/"
        },
        "id": "eepB3y2VSbd7",
        "outputId": "80319a7c-9338-48b0-c1a5-74013909ae06"
      },
      "execution_count": 28,
      "outputs": [
        {
          "output_type": "execute_result",
          "data": {
            "text/plain": [
              "45"
            ]
          },
          "metadata": {},
          "execution_count": 28
        }
      ]
    },
    {
      "cell_type": "code",
      "source": [
        "yearly_agg = sales.groupby(['Year']).agg({'Weekly_Sales': 'sum'})\n",
        "yearly_agg.head()"
      ],
      "metadata": {
        "id": "4dsBBMHEZHcE",
        "colab": {
          "base_uri": "https://localhost:8080/",
          "height": 174
        },
        "outputId": "7ea7d294-ae79-44be-92a0-703e5a3f0bdc"
      },
      "execution_count": 29,
      "outputs": [
        {
          "output_type": "execute_result",
          "data": {
            "text/plain": [
              "      Weekly_Sales\n",
              "Year              \n",
              "2010  2.288886e+09\n",
              "2011  2.448200e+09\n",
              "2012  2.000133e+09"
            ],
            "text/html": [
              "\n",
              "  <div id=\"df-0f463adc-fd30-4b68-9b8d-b7c716531dac\" class=\"colab-df-container\">\n",
              "    <div>\n",
              "<style scoped>\n",
              "    .dataframe tbody tr th:only-of-type {\n",
              "        vertical-align: middle;\n",
              "    }\n",
              "\n",
              "    .dataframe tbody tr th {\n",
              "        vertical-align: top;\n",
              "    }\n",
              "\n",
              "    .dataframe thead th {\n",
              "        text-align: right;\n",
              "    }\n",
              "</style>\n",
              "<table border=\"1\" class=\"dataframe\">\n",
              "  <thead>\n",
              "    <tr style=\"text-align: right;\">\n",
              "      <th></th>\n",
              "      <th>Weekly_Sales</th>\n",
              "    </tr>\n",
              "    <tr>\n",
              "      <th>Year</th>\n",
              "      <th></th>\n",
              "    </tr>\n",
              "  </thead>\n",
              "  <tbody>\n",
              "    <tr>\n",
              "      <th>2010</th>\n",
              "      <td>2.288886e+09</td>\n",
              "    </tr>\n",
              "    <tr>\n",
              "      <th>2011</th>\n",
              "      <td>2.448200e+09</td>\n",
              "    </tr>\n",
              "    <tr>\n",
              "      <th>2012</th>\n",
              "      <td>2.000133e+09</td>\n",
              "    </tr>\n",
              "  </tbody>\n",
              "</table>\n",
              "</div>\n",
              "    <div class=\"colab-df-buttons\">\n",
              "\n",
              "  <div class=\"colab-df-container\">\n",
              "    <button class=\"colab-df-convert\" onclick=\"convertToInteractive('df-0f463adc-fd30-4b68-9b8d-b7c716531dac')\"\n",
              "            title=\"Convert this dataframe to an interactive table.\"\n",
              "            style=\"display:none;\">\n",
              "\n",
              "  <svg xmlns=\"http://www.w3.org/2000/svg\" height=\"24px\" viewBox=\"0 -960 960 960\">\n",
              "    <path d=\"M120-120v-720h720v720H120Zm60-500h600v-160H180v160Zm220 220h160v-160H400v160Zm0 220h160v-160H400v160ZM180-400h160v-160H180v160Zm440 0h160v-160H620v160ZM180-180h160v-160H180v160Zm440 0h160v-160H620v160Z\"/>\n",
              "  </svg>\n",
              "    </button>\n",
              "\n",
              "  <style>\n",
              "    .colab-df-container {\n",
              "      display:flex;\n",
              "      gap: 12px;\n",
              "    }\n",
              "\n",
              "    .colab-df-convert {\n",
              "      background-color: #E8F0FE;\n",
              "      border: none;\n",
              "      border-radius: 50%;\n",
              "      cursor: pointer;\n",
              "      display: none;\n",
              "      fill: #1967D2;\n",
              "      height: 32px;\n",
              "      padding: 0 0 0 0;\n",
              "      width: 32px;\n",
              "    }\n",
              "\n",
              "    .colab-df-convert:hover {\n",
              "      background-color: #E2EBFA;\n",
              "      box-shadow: 0px 1px 2px rgba(60, 64, 67, 0.3), 0px 1px 3px 1px rgba(60, 64, 67, 0.15);\n",
              "      fill: #174EA6;\n",
              "    }\n",
              "\n",
              "    .colab-df-buttons div {\n",
              "      margin-bottom: 4px;\n",
              "    }\n",
              "\n",
              "    [theme=dark] .colab-df-convert {\n",
              "      background-color: #3B4455;\n",
              "      fill: #D2E3FC;\n",
              "    }\n",
              "\n",
              "    [theme=dark] .colab-df-convert:hover {\n",
              "      background-color: #434B5C;\n",
              "      box-shadow: 0px 1px 3px 1px rgba(0, 0, 0, 0.15);\n",
              "      filter: drop-shadow(0px 1px 2px rgba(0, 0, 0, 0.3));\n",
              "      fill: #FFFFFF;\n",
              "    }\n",
              "  </style>\n",
              "\n",
              "    <script>\n",
              "      const buttonEl =\n",
              "        document.querySelector('#df-0f463adc-fd30-4b68-9b8d-b7c716531dac button.colab-df-convert');\n",
              "      buttonEl.style.display =\n",
              "        google.colab.kernel.accessAllowed ? 'block' : 'none';\n",
              "\n",
              "      async function convertToInteractive(key) {\n",
              "        const element = document.querySelector('#df-0f463adc-fd30-4b68-9b8d-b7c716531dac');\n",
              "        const dataTable =\n",
              "          await google.colab.kernel.invokeFunction('convertToInteractive',\n",
              "                                                    [key], {});\n",
              "        if (!dataTable) return;\n",
              "\n",
              "        const docLinkHtml = 'Like what you see? Visit the ' +\n",
              "          '<a target=\"_blank\" href=https://colab.research.google.com/notebooks/data_table.ipynb>data table notebook</a>'\n",
              "          + ' to learn more about interactive tables.';\n",
              "        element.innerHTML = '';\n",
              "        dataTable['output_type'] = 'display_data';\n",
              "        await google.colab.output.renderOutput(dataTable, element);\n",
              "        const docLink = document.createElement('div');\n",
              "        docLink.innerHTML = docLinkHtml;\n",
              "        element.appendChild(docLink);\n",
              "      }\n",
              "    </script>\n",
              "  </div>\n",
              "\n",
              "\n",
              "<div id=\"df-c339ddea-b5c4-4eba-a3d4-1a30ca3deb00\">\n",
              "  <button class=\"colab-df-quickchart\" onclick=\"quickchart('df-c339ddea-b5c4-4eba-a3d4-1a30ca3deb00')\"\n",
              "            title=\"Suggest charts\"\n",
              "            style=\"display:none;\">\n",
              "\n",
              "<svg xmlns=\"http://www.w3.org/2000/svg\" height=\"24px\"viewBox=\"0 0 24 24\"\n",
              "     width=\"24px\">\n",
              "    <g>\n",
              "        <path d=\"M19 3H5c-1.1 0-2 .9-2 2v14c0 1.1.9 2 2 2h14c1.1 0 2-.9 2-2V5c0-1.1-.9-2-2-2zM9 17H7v-7h2v7zm4 0h-2V7h2v10zm4 0h-2v-4h2v4z\"/>\n",
              "    </g>\n",
              "</svg>\n",
              "  </button>\n",
              "\n",
              "<style>\n",
              "  .colab-df-quickchart {\n",
              "      --bg-color: #E8F0FE;\n",
              "      --fill-color: #1967D2;\n",
              "      --hover-bg-color: #E2EBFA;\n",
              "      --hover-fill-color: #174EA6;\n",
              "      --disabled-fill-color: #AAA;\n",
              "      --disabled-bg-color: #DDD;\n",
              "  }\n",
              "\n",
              "  [theme=dark] .colab-df-quickchart {\n",
              "      --bg-color: #3B4455;\n",
              "      --fill-color: #D2E3FC;\n",
              "      --hover-bg-color: #434B5C;\n",
              "      --hover-fill-color: #FFFFFF;\n",
              "      --disabled-bg-color: #3B4455;\n",
              "      --disabled-fill-color: #666;\n",
              "  }\n",
              "\n",
              "  .colab-df-quickchart {\n",
              "    background-color: var(--bg-color);\n",
              "    border: none;\n",
              "    border-radius: 50%;\n",
              "    cursor: pointer;\n",
              "    display: none;\n",
              "    fill: var(--fill-color);\n",
              "    height: 32px;\n",
              "    padding: 0;\n",
              "    width: 32px;\n",
              "  }\n",
              "\n",
              "  .colab-df-quickchart:hover {\n",
              "    background-color: var(--hover-bg-color);\n",
              "    box-shadow: 0 1px 2px rgba(60, 64, 67, 0.3), 0 1px 3px 1px rgba(60, 64, 67, 0.15);\n",
              "    fill: var(--button-hover-fill-color);\n",
              "  }\n",
              "\n",
              "  .colab-df-quickchart-complete:disabled,\n",
              "  .colab-df-quickchart-complete:disabled:hover {\n",
              "    background-color: var(--disabled-bg-color);\n",
              "    fill: var(--disabled-fill-color);\n",
              "    box-shadow: none;\n",
              "  }\n",
              "\n",
              "  .colab-df-spinner {\n",
              "    border: 2px solid var(--fill-color);\n",
              "    border-color: transparent;\n",
              "    border-bottom-color: var(--fill-color);\n",
              "    animation:\n",
              "      spin 1s steps(1) infinite;\n",
              "  }\n",
              "\n",
              "  @keyframes spin {\n",
              "    0% {\n",
              "      border-color: transparent;\n",
              "      border-bottom-color: var(--fill-color);\n",
              "      border-left-color: var(--fill-color);\n",
              "    }\n",
              "    20% {\n",
              "      border-color: transparent;\n",
              "      border-left-color: var(--fill-color);\n",
              "      border-top-color: var(--fill-color);\n",
              "    }\n",
              "    30% {\n",
              "      border-color: transparent;\n",
              "      border-left-color: var(--fill-color);\n",
              "      border-top-color: var(--fill-color);\n",
              "      border-right-color: var(--fill-color);\n",
              "    }\n",
              "    40% {\n",
              "      border-color: transparent;\n",
              "      border-right-color: var(--fill-color);\n",
              "      border-top-color: var(--fill-color);\n",
              "    }\n",
              "    60% {\n",
              "      border-color: transparent;\n",
              "      border-right-color: var(--fill-color);\n",
              "    }\n",
              "    80% {\n",
              "      border-color: transparent;\n",
              "      border-right-color: var(--fill-color);\n",
              "      border-bottom-color: var(--fill-color);\n",
              "    }\n",
              "    90% {\n",
              "      border-color: transparent;\n",
              "      border-bottom-color: var(--fill-color);\n",
              "    }\n",
              "  }\n",
              "</style>\n",
              "\n",
              "  <script>\n",
              "    async function quickchart(key) {\n",
              "      const quickchartButtonEl =\n",
              "        document.querySelector('#' + key + ' button');\n",
              "      quickchartButtonEl.disabled = true;  // To prevent multiple clicks.\n",
              "      quickchartButtonEl.classList.add('colab-df-spinner');\n",
              "      try {\n",
              "        const charts = await google.colab.kernel.invokeFunction(\n",
              "            'suggestCharts', [key], {});\n",
              "      } catch (error) {\n",
              "        console.error('Error during call to suggestCharts:', error);\n",
              "      }\n",
              "      quickchartButtonEl.classList.remove('colab-df-spinner');\n",
              "      quickchartButtonEl.classList.add('colab-df-quickchart-complete');\n",
              "    }\n",
              "    (() => {\n",
              "      let quickchartButtonEl =\n",
              "        document.querySelector('#df-c339ddea-b5c4-4eba-a3d4-1a30ca3deb00 button');\n",
              "      quickchartButtonEl.style.display =\n",
              "        google.colab.kernel.accessAllowed ? 'block' : 'none';\n",
              "    })();\n",
              "  </script>\n",
              "</div>\n",
              "\n",
              "    </div>\n",
              "  </div>\n"
            ],
            "application/vnd.google.colaboratory.intrinsic+json": {
              "type": "dataframe",
              "variable_name": "yearly_agg",
              "summary": "{\n  \"name\": \"yearly_agg\",\n  \"rows\": 3,\n  \"fields\": [\n    {\n      \"column\": \"Year\",\n      \"properties\": {\n        \"dtype\": \"int32\",\n        \"num_unique_values\": 3,\n        \"samples\": [\n          2010,\n          2011,\n          2012\n        ],\n        \"semantic_type\": \"\",\n        \"description\": \"\"\n      }\n    },\n    {\n      \"column\": \"Weekly_Sales\",\n      \"properties\": {\n        \"dtype\": \"number\",\n        \"std\": 227128278.5349759,\n        \"min\": 2000132859.35,\n        \"max\": 2448200007.35,\n        \"num_unique_values\": 3,\n        \"samples\": [\n          2288886120.41,\n          2448200007.35,\n          2000132859.35\n        ],\n        \"semantic_type\": \"\",\n        \"description\": \"\"\n      }\n    }\n  ]\n}"
            }
          },
          "metadata": {},
          "execution_count": 29
        }
      ]
    },
    {
      "cell_type": "markdown",
      "source": [
        "Lets comeback to the indexing idea we had at he beginning"
      ],
      "metadata": {
        "id": "lO__wluUD879"
      }
    },
    {
      "cell_type": "code",
      "source": [
        "sales.index.values[:10]"
      ],
      "metadata": {
        "colab": {
          "base_uri": "https://localhost:8080/"
        },
        "id": "xqbysQmPEAG6",
        "outputId": "44365850-8be8-4539-cd95-580d23ef0f7c"
      },
      "execution_count": 30,
      "outputs": [
        {
          "output_type": "execute_result",
          "data": {
            "text/plain": [
              "array([0, 1, 2, 3, 4, 5, 6, 7, 8, 9])"
            ]
          },
          "metadata": {},
          "execution_count": 30
        }
      ]
    },
    {
      "cell_type": "code",
      "source": [
        "sales.loc[0]"
      ],
      "metadata": {
        "colab": {
          "base_uri": "https://localhost:8080/",
          "height": 335
        },
        "id": "m1wWlOtHEIZN",
        "outputId": "fb190209-22dd-4dc2-ad4d-b35dd936a3ed"
      },
      "execution_count": 31,
      "outputs": [
        {
          "output_type": "execute_result",
          "data": {
            "text/plain": [
              "Store                             1\n",
              "Dept                              1\n",
              "Date            2010-02-05 00:00:00\n",
              "Weekly_Sales                24924.5\n",
              "IsHoliday                     False\n",
              "Year                           2010\n",
              "Month                             2\n",
              "Week                              5\n",
              "Name: 0, dtype: object"
            ],
            "text/html": [
              "<div>\n",
              "<style scoped>\n",
              "    .dataframe tbody tr th:only-of-type {\n",
              "        vertical-align: middle;\n",
              "    }\n",
              "\n",
              "    .dataframe tbody tr th {\n",
              "        vertical-align: top;\n",
              "    }\n",
              "\n",
              "    .dataframe thead th {\n",
              "        text-align: right;\n",
              "    }\n",
              "</style>\n",
              "<table border=\"1\" class=\"dataframe\">\n",
              "  <thead>\n",
              "    <tr style=\"text-align: right;\">\n",
              "      <th></th>\n",
              "      <th>0</th>\n",
              "    </tr>\n",
              "  </thead>\n",
              "  <tbody>\n",
              "    <tr>\n",
              "      <th>Store</th>\n",
              "      <td>1</td>\n",
              "    </tr>\n",
              "    <tr>\n",
              "      <th>Dept</th>\n",
              "      <td>1</td>\n",
              "    </tr>\n",
              "    <tr>\n",
              "      <th>Date</th>\n",
              "      <td>2010-02-05 00:00:00</td>\n",
              "    </tr>\n",
              "    <tr>\n",
              "      <th>Weekly_Sales</th>\n",
              "      <td>24924.5</td>\n",
              "    </tr>\n",
              "    <tr>\n",
              "      <th>IsHoliday</th>\n",
              "      <td>False</td>\n",
              "    </tr>\n",
              "    <tr>\n",
              "      <th>Year</th>\n",
              "      <td>2010</td>\n",
              "    </tr>\n",
              "    <tr>\n",
              "      <th>Month</th>\n",
              "      <td>2</td>\n",
              "    </tr>\n",
              "    <tr>\n",
              "      <th>Week</th>\n",
              "      <td>5</td>\n",
              "    </tr>\n",
              "  </tbody>\n",
              "</table>\n",
              "</div><br><label><b>dtype:</b> object</label>"
            ]
          },
          "metadata": {},
          "execution_count": 31
        }
      ]
    },
    {
      "cell_type": "code",
      "source": [
        "yearly_agg.index.values[:5]"
      ],
      "metadata": {
        "colab": {
          "base_uri": "https://localhost:8080/"
        },
        "id": "S1xeSPsOZ_uq",
        "outputId": "025bcab2-996e-4425-c694-edbf0529d417"
      },
      "execution_count": 32,
      "outputs": [
        {
          "output_type": "execute_result",
          "data": {
            "text/plain": [
              "array([2010, 2011, 2012], dtype=int32)"
            ]
          },
          "metadata": {},
          "execution_count": 32
        }
      ]
    },
    {
      "cell_type": "code",
      "source": [
        "# this is expected to fail as the indexing (value) for \"loc\" has changed\n",
        "yearly_agg.loc[2010]"
      ],
      "metadata": {
        "colab": {
          "base_uri": "https://localhost:8080/",
          "height": 115
        },
        "id": "zQfJmfmldX4O",
        "outputId": "2c985447-862e-40e5-f2df-b883725ff46a"
      },
      "execution_count": 33,
      "outputs": [
        {
          "output_type": "execute_result",
          "data": {
            "text/plain": [
              "Weekly_Sales    2.288886e+09\n",
              "Name: 2010, dtype: float64"
            ],
            "text/html": [
              "<div>\n",
              "<style scoped>\n",
              "    .dataframe tbody tr th:only-of-type {\n",
              "        vertical-align: middle;\n",
              "    }\n",
              "\n",
              "    .dataframe tbody tr th {\n",
              "        vertical-align: top;\n",
              "    }\n",
              "\n",
              "    .dataframe thead th {\n",
              "        text-align: right;\n",
              "    }\n",
              "</style>\n",
              "<table border=\"1\" class=\"dataframe\">\n",
              "  <thead>\n",
              "    <tr style=\"text-align: right;\">\n",
              "      <th></th>\n",
              "      <th>2010</th>\n",
              "    </tr>\n",
              "  </thead>\n",
              "  <tbody>\n",
              "    <tr>\n",
              "      <th>Weekly_Sales</th>\n",
              "      <td>2.288886e+09</td>\n",
              "    </tr>\n",
              "  </tbody>\n",
              "</table>\n",
              "</div><br><label><b>dtype:</b> float64</label>"
            ]
          },
          "metadata": {},
          "execution_count": 33
        }
      ]
    },
    {
      "cell_type": "code",
      "source": [
        "# iloc will work as it is referring to the index of an index\n",
        "yearly_agg.iloc[0]"
      ],
      "metadata": {
        "colab": {
          "base_uri": "https://localhost:8080/",
          "height": 115
        },
        "id": "nwN3gNQ_bBLs",
        "outputId": "fa60fd95-9eb6-4900-c8c8-248236ebccb4"
      },
      "execution_count": 34,
      "outputs": [
        {
          "output_type": "execute_result",
          "data": {
            "text/plain": [
              "Weekly_Sales    2.288886e+09\n",
              "Name: 2010, dtype: float64"
            ],
            "text/html": [
              "<div>\n",
              "<style scoped>\n",
              "    .dataframe tbody tr th:only-of-type {\n",
              "        vertical-align: middle;\n",
              "    }\n",
              "\n",
              "    .dataframe tbody tr th {\n",
              "        vertical-align: top;\n",
              "    }\n",
              "\n",
              "    .dataframe thead th {\n",
              "        text-align: right;\n",
              "    }\n",
              "</style>\n",
              "<table border=\"1\" class=\"dataframe\">\n",
              "  <thead>\n",
              "    <tr style=\"text-align: right;\">\n",
              "      <th></th>\n",
              "      <th>2010</th>\n",
              "    </tr>\n",
              "  </thead>\n",
              "  <tbody>\n",
              "    <tr>\n",
              "      <th>Weekly_Sales</th>\n",
              "      <td>2.288886e+09</td>\n",
              "    </tr>\n",
              "  </tbody>\n",
              "</table>\n",
              "</div><br><label><b>dtype:</b> float64</label>"
            ]
          },
          "metadata": {},
          "execution_count": 34
        }
      ]
    },
    {
      "cell_type": "markdown",
      "source": [
        "Lets look at the sales pattern of a specific store"
      ],
      "metadata": {
        "id": "UrsPEWtbE77H"
      }
    },
    {
      "cell_type": "code",
      "source": [
        "query_stroe_id = 1\n",
        "store_x = sales[sales.Store == query_stroe_id]"
      ],
      "metadata": {
        "id": "cOszE6wxSbYq"
      },
      "execution_count": 35,
      "outputs": []
    },
    {
      "cell_type": "code",
      "source": [
        "store_x.Dept.unique()"
      ],
      "metadata": {
        "colab": {
          "base_uri": "https://localhost:8080/"
        },
        "id": "NsSfptfVNfeT",
        "outputId": "042be7e3-d623-43bc-caa3-ac66dd3aac15"
      },
      "execution_count": 36,
      "outputs": [
        {
          "output_type": "execute_result",
          "data": {
            "text/plain": [
              "array([ 1,  2,  3,  4,  5,  6,  7,  8,  9, 10, 11, 12, 13, 14, 16, 17, 18,\n",
              "       19, 20, 21, 22, 23, 24, 25, 26, 27, 28, 29, 30, 31, 32, 33, 34, 35,\n",
              "       36, 37, 38, 40, 41, 42, 44, 45, 46, 47, 48, 49, 51, 52, 54, 55, 56,\n",
              "       58, 59, 60, 67, 71, 72, 74, 77, 78, 79, 80, 81, 82, 83, 85, 87, 90,\n",
              "       91, 92, 93, 94, 95, 96, 97, 98, 99])"
            ]
          },
          "metadata": {},
          "execution_count": 36
        }
      ]
    },
    {
      "cell_type": "code",
      "source": [
        "fig = px.bar(store_x, x='Date', y='Weekly_Sales')\n",
        "fig.show()\n",
        "# this will show sales for all departments for our selected store"
      ],
      "metadata": {
        "colab": {
          "base_uri": "https://localhost:8080/",
          "height": 597
        },
        "id": "WSV0uSstSbWC",
        "outputId": "ab44424f-4184-4381-c85c-87eb7ad2317f"
      },
      "execution_count": 37,
      "outputs": [
        {
          "output_type": "stream",
          "name": "stderr",
          "text": [
            "/usr/local/lib/python3.10/dist-packages/_plotly_utils/basevalidators.py:105: FutureWarning: The behavior of DatetimeProperties.to_pydatetime is deprecated, in a future version this will return a Series containing python datetime objects instead of an ndarray. To retain the old behavior, call `np.array` on the result\n",
            "  v = v.dt.to_pydatetime()\n"
          ]
        },
        {
          "output_type": "display_data",
          "data": {
            "text/html": [
              "<html>\n",
              "<head><meta charset=\"utf-8\" /></head>\n",
              "<body>\n",
              "    <div>            <script src=\"https://cdnjs.cloudflare.com/ajax/libs/mathjax/2.7.5/MathJax.js?config=TeX-AMS-MML_SVG\"></script><script type=\"text/javascript\">if (window.MathJax && window.MathJax.Hub && window.MathJax.Hub.Config) {window.MathJax.Hub.Config({SVG: {font: \"STIX-Web\"}});}</script>                <script type=\"text/javascript\">window.PlotlyConfig = {MathJaxConfig: 'local'};</script>\n",
              "        <script charset=\"utf-8\" src=\"https://cdn.plot.ly/plotly-2.24.1.min.js\"></script>                <div id=\"10e7bcd1-bf27-45ef-aaff-381629cceab4\" class=\"plotly-graph-div\" style=\"height:525px; width:100%;\"></div>            <script type=\"text/javascript\">                                    window.PLOTLYENV=window.PLOTLYENV || {};                                    if (document.getElementById(\"10e7bcd1-bf27-45ef-aaff-381629cceab4\")) {                    Plotly.newPlot(                        \"10e7bcd1-bf27-45ef-aaff-381629cceab4\",                        [{\"alignmentgroup\":\"True\",\"hovertemplate\":\"Date=%{x}\\u003cbr\\u003eWeekly_Sales=%{y}\\u003cextra\\u003e\\u003c\\u002fextra\\u003e\",\"legendgroup\":\"\",\"marker\":{\"color\":\"#636efa\",\"pattern\":{\"shape\":\"\"}},\"name\":\"\",\"offsetgroup\":\"\",\"orientation\":\"v\",\"showlegend\":false,\"textposition\":\"auto\",\"x\":[\"2010-02-05T00:00:00\",\"2010-02-12T00:00:00\",\"2010-02-19T00:00:00\",\"2010-02-26T00:00:00\",\"2010-03-05T00:00:00\",\"2010-03-12T00:00:00\",\"2010-03-19T00:00:00\",\"2010-03-26T00:00:00\",\"2010-04-02T00:00:00\",\"2010-04-09T00:00:00\",\"2010-04-16T00:00:00\",\"2010-04-23T00:00:00\",\"2010-04-30T00:00:00\",\"2010-05-07T00:00:00\",\"2010-05-14T00:00:00\",\"2010-05-21T00:00:00\",\"2010-05-28T00:00:00\",\"2010-06-04T00:00:00\",\"2010-06-11T00:00:00\",\"2010-06-18T00:00:00\",\"2010-06-25T00:00:00\",\"2010-07-02T00:00:00\",\"2010-07-09T00:00:00\",\"2010-07-16T00:00:00\",\"2010-07-23T00:00:00\",\"2010-07-30T00:00:00\",\"2010-08-06T00:00:00\",\"2010-08-13T00:00:00\",\"2010-08-20T00:00:00\",\"2010-08-27T00:00:00\",\"2010-09-03T00:00:00\",\"2010-09-10T00:00:00\",\"2010-09-17T00:00:00\",\"2010-09-24T00:00:00\",\"2010-10-01T00:00:00\",\"2010-10-08T00:00:00\",\"2010-10-15T00:00:00\",\"2010-10-22T00:00:00\",\"2010-10-29T00:00:00\",\"2010-11-05T00:00:00\",\"2010-11-12T00:00:00\",\"2010-11-19T00:00:00\",\"2010-11-26T00:00:00\",\"2010-12-03T00:00:00\",\"2010-12-10T00:00:00\",\"2010-12-17T00:00:00\",\"2010-12-24T00:00:00\",\"2010-12-31T00:00:00\",\"2011-01-07T00:00:00\",\"2011-01-14T00:00:00\",\"2011-01-21T00:00:00\",\"2011-01-28T00:00:00\",\"2011-02-04T00:00:00\",\"2011-02-11T00:00:00\",\"2011-02-18T00:00:00\",\"2011-02-25T00:00:00\",\"2011-03-04T00:00:00\",\"2011-03-11T00:00:00\",\"2011-03-18T00:00:00\",\"2011-03-25T00:00:00\",\"2011-04-01T00:00:00\",\"2011-04-08T00:00:00\",\"2011-04-15T00:00:00\",\"2011-04-22T00:00:00\",\"2011-04-29T00:00:00\",\"2011-05-06T00:00:00\",\"2011-05-13T00:00:00\",\"2011-05-20T00:00:00\",\"2011-05-27T00:00:00\",\"2011-06-03T00:00:00\",\"2011-06-10T00:00:00\",\"2011-06-17T00:00:00\",\"2011-06-24T00:00:00\",\"2011-07-01T00:00:00\",\"2011-07-08T00:00:00\",\"2011-07-15T00:00:00\",\"2011-07-22T00:00:00\",\"2011-07-29T00:00:00\",\"2011-08-05T00:00:00\",\"2011-08-12T00:00:00\",\"2011-08-19T00:00:00\",\"2011-08-26T00:00:00\",\"2011-09-02T00:00:00\",\"2011-09-09T00:00:00\",\"2011-09-16T00:00:00\",\"2011-09-23T00:00:00\",\"2011-09-30T00:00:00\",\"2011-10-07T00:00:00\",\"2011-10-14T00:00:00\",\"2011-10-21T00:00:00\",\"2011-10-28T00:00:00\",\"2011-11-04T00:00:00\",\"2011-11-11T00:00:00\",\"2011-11-18T00:00:00\",\"2011-11-25T00:00:00\",\"2011-12-02T00:00:00\",\"2011-12-09T00:00:00\",\"2011-12-16T00:00:00\",\"2011-12-23T00:00:00\",\"2011-12-30T00:00:00\",\"2012-01-06T00:00:00\",\"2012-01-13T00:00:00\",\"2012-01-20T00:00:00\",\"2012-01-27T00:00:00\",\"2012-02-03T00:00:00\",\"2012-02-10T00:00:00\",\"2012-02-17T00:00:00\",\"2012-02-24T00:00:00\",\"2012-03-02T00:00:00\",\"2012-03-09T00:00:00\",\"2012-03-16T00:00:00\",\"2012-03-23T00:00:00\",\"2012-03-30T00:00:00\",\"2012-04-06T00:00:00\",\"2012-04-13T00:00:00\",\"2012-04-20T00:00:00\",\"2012-04-27T00:00:00\",\"2012-05-04T00:00:00\",\"2012-05-11T00:00:00\",\"2012-05-18T00:00:00\",\"2012-05-25T00:00:00\",\"2012-06-01T00:00:00\",\"2012-06-08T00:00:00\",\"2012-06-15T00:00:00\",\"2012-06-22T00:00:00\",\"2012-06-29T00:00:00\",\"2012-07-06T00:00:00\",\"2012-07-13T00:00:00\",\"2012-07-20T00:00:00\",\"2012-07-27T00:00:00\",\"2012-08-03T00:00:00\",\"2012-08-10T00:00:00\",\"2012-08-17T00:00:00\",\"2012-08-24T00:00:00\",\"2012-08-31T00:00:00\",\"2012-09-07T00:00:00\",\"2012-09-14T00:00:00\",\"2012-09-21T00:00:00\",\"2012-09-28T00:00:00\",\"2012-10-05T00:00:00\",\"2012-10-12T00:00:00\",\"2012-10-19T00:00:00\",\"2012-10-26T00:00:00\",\"2010-02-05T00:00:00\",\"2010-02-12T00:00:00\",\"2010-02-19T00:00:00\",\"2010-02-26T00:00:00\",\"2010-03-05T00:00:00\",\"2010-03-12T00:00:00\",\"2010-03-19T00:00:00\",\"2010-03-26T00:00:00\",\"2010-04-02T00:00:00\",\"2010-04-09T00:00:00\",\"2010-04-16T00:00:00\",\"2010-04-23T00:00:00\",\"2010-04-30T00:00:00\",\"2010-05-07T00:00:00\",\"2010-05-14T00:00:00\",\"2010-05-21T00:00:00\",\"2010-05-28T00:00:00\",\"2010-06-04T00:00:00\",\"2010-06-11T00:00:00\",\"2010-06-18T00:00:00\",\"2010-06-25T00:00:00\",\"2010-07-02T00:00:00\",\"2010-07-09T00:00:00\",\"2010-07-16T00:00:00\",\"2010-07-23T00:00:00\",\"2010-07-30T00:00:00\",\"2010-08-06T00:00:00\",\"2010-08-13T00:00:00\",\"2010-08-20T00:00:00\",\"2010-08-27T00:00:00\",\"2010-09-03T00:00:00\",\"2010-09-10T00:00:00\",\"2010-09-17T00:00:00\",\"2010-09-24T00:00:00\",\"2010-10-01T00:00:00\",\"2010-10-08T00:00:00\",\"2010-10-15T00:00:00\",\"2010-10-22T00:00:00\",\"2010-10-29T00:00:00\",\"2010-11-05T00:00:00\",\"2010-11-12T00:00:00\",\"2010-11-19T00:00:00\",\"2010-11-26T00:00:00\",\"2010-12-03T00:00:00\",\"2010-12-10T00:00:00\",\"2010-12-17T00:00:00\",\"2010-12-24T00:00:00\",\"2010-12-31T00:00:00\",\"2011-01-07T00:00:00\",\"2011-01-14T00:00:00\",\"2011-01-21T00:00:00\",\"2011-01-28T00:00:00\",\"2011-02-04T00:00:00\",\"2011-02-11T00:00:00\",\"2011-02-18T00:00:00\",\"2011-02-25T00:00:00\",\"2011-03-04T00:00:00\",\"2011-03-11T00:00:00\",\"2011-03-18T00:00:00\",\"2011-03-25T00:00:00\",\"2011-04-01T00:00:00\",\"2011-04-08T00:00:00\",\"2011-04-15T00:00:00\",\"2011-04-22T00:00:00\",\"2011-04-29T00:00:00\",\"2011-05-06T00:00:00\",\"2011-05-13T00:00:00\",\"2011-05-20T00:00:00\",\"2011-05-27T00:00:00\",\"2011-06-03T00:00:00\",\"2011-06-10T00:00:00\",\"2011-06-17T00:00:00\",\"2011-06-24T00:00:00\",\"2011-07-01T00:00:00\",\"2011-07-08T00:00:00\",\"2011-07-15T00:00:00\",\"2011-07-22T00:00:00\",\"2011-07-29T00:00:00\",\"2011-08-05T00:00:00\",\"2011-08-12T00:00:00\",\"2011-08-19T00:00:00\",\"2011-08-26T00:00:00\",\"2011-09-02T00:00:00\",\"2011-09-09T00:00:00\",\"2011-09-16T00:00:00\",\"2011-09-23T00:00:00\",\"2011-09-30T00:00:00\",\"2011-10-07T00:00:00\",\"2011-10-14T00:00:00\",\"2011-10-21T00:00:00\",\"2011-10-28T00:00:00\",\"2011-11-04T00:00:00\",\"2011-11-11T00:00:00\",\"2011-11-18T00:00:00\",\"2011-11-25T00:00:00\",\"2011-12-02T00:00:00\",\"2011-12-09T00:00:00\",\"2011-12-16T00:00:00\",\"2011-12-23T00:00:00\",\"2011-12-30T00:00:00\",\"2012-01-06T00:00:00\",\"2012-01-13T00:00:00\",\"2012-01-20T00:00:00\",\"2012-01-27T00:00:00\",\"2012-02-03T00:00:00\",\"2012-02-10T00:00:00\",\"2012-02-17T00:00:00\",\"2012-02-24T00:00:00\",\"2012-03-02T00:00:00\",\"2012-03-09T00:00:00\",\"2012-03-16T00:00:00\",\"2012-03-23T00:00:00\",\"2012-03-30T00:00:00\",\"2012-04-06T00:00:00\",\"2012-04-13T00:00:00\",\"2012-04-20T00:00:00\",\"2012-04-27T00:00:00\",\"2012-05-04T00:00:00\",\"2012-05-11T00:00:00\",\"2012-05-18T00:00:00\",\"2012-05-25T00:00:00\",\"2012-06-01T00:00:00\",\"2012-06-08T00:00:00\",\"2012-06-15T00:00:00\",\"2012-06-22T00:00:00\",\"2012-06-29T00:00:00\",\"2012-07-06T00:00:00\",\"2012-07-13T00:00:00\",\"2012-07-20T00:00:00\",\"2012-07-27T00:00:00\",\"2012-08-03T00:00:00\",\"2012-08-10T00:00:00\",\"2012-08-17T00:00:00\",\"2012-08-24T00:00:00\",\"2012-08-31T00:00:00\",\"2012-09-07T00:00:00\",\"2012-09-14T00:00:00\",\"2012-09-21T00:00:00\",\"2012-09-28T00:00:00\",\"2012-10-05T00:00:00\",\"2012-10-12T00:00:00\",\"2012-10-19T00:00:00\",\"2012-10-26T00:00:00\",\"2010-02-05T00:00:00\",\"2010-02-12T00:00:00\",\"2010-02-19T00:00:00\",\"2010-02-26T00:00:00\",\"2010-03-05T00:00:00\",\"2010-03-12T00:00:00\",\"2010-03-19T00:00:00\",\"2010-03-26T00:00:00\",\"2010-04-02T00:00:00\",\"2010-04-09T00:00:00\",\"2010-04-16T00:00:00\",\"2010-04-23T00:00:00\",\"2010-04-30T00:00:00\",\"2010-05-07T00:00:00\",\"2010-05-14T00:00:00\",\"2010-05-21T00:00:00\",\"2010-05-28T00:00:00\",\"2010-06-04T00:00:00\",\"2010-06-11T00:00:00\",\"2010-06-18T00:00:00\",\"2010-06-25T00:00:00\",\"2010-07-02T00:00:00\",\"2010-07-09T00:00:00\",\"2010-07-16T00:00:00\",\"2010-07-23T00:00:00\",\"2010-07-30T00:00:00\",\"2010-08-06T00:00:00\",\"2010-08-13T00:00:00\",\"2010-08-20T00:00:00\",\"2010-08-27T00:00:00\",\"2010-09-03T00:00:00\",\"2010-09-10T00:00:00\",\"2010-09-17T00:00:00\",\"2010-09-24T00:00:00\",\"2010-10-01T00:00:00\",\"2010-10-08T00:00:00\",\"2010-10-15T00:00:00\",\"2010-10-22T00:00:00\",\"2010-10-29T00:00:00\",\"2010-11-05T00:00:00\",\"2010-11-12T00:00:00\",\"2010-11-19T00:00:00\",\"2010-11-26T00:00:00\",\"2010-12-03T00:00:00\",\"2010-12-10T00:00:00\",\"2010-12-17T00:00:00\",\"2010-12-24T00:00:00\",\"2010-12-31T00:00:00\",\"2011-01-07T00:00:00\",\"2011-01-14T00:00:00\",\"2011-01-21T00:00:00\",\"2011-01-28T00:00:00\",\"2011-02-04T00:00:00\",\"2011-02-11T00:00:00\",\"2011-02-18T00:00:00\",\"2011-02-25T00:00:00\",\"2011-03-04T00:00:00\",\"2011-03-11T00:00:00\",\"2011-03-18T00:00:00\",\"2011-03-25T00:00:00\",\"2011-04-01T00:00:00\",\"2011-04-08T00:00:00\",\"2011-04-15T00:00:00\",\"2011-04-22T00:00:00\",\"2011-04-29T00:00:00\",\"2011-05-06T00:00:00\",\"2011-05-13T00:00:00\",\"2011-05-20T00:00:00\",\"2011-05-27T00:00:00\",\"2011-06-03T00:00:00\",\"2011-06-10T00:00:00\",\"2011-06-17T00:00:00\",\"2011-06-24T00:00:00\",\"2011-07-01T00:00:00\",\"2011-07-08T00:00:00\",\"2011-07-15T00:00:00\",\"2011-07-22T00:00:00\",\"2011-07-29T00:00:00\",\"2011-08-05T00:00:00\",\"2011-08-12T00:00:00\",\"2011-08-19T00:00:00\",\"2011-08-26T00:00:00\",\"2011-09-02T00:00:00\",\"2011-09-09T00:00:00\",\"2011-09-16T00:00:00\",\"2011-09-23T00:00:00\",\"2011-09-30T00:00:00\",\"2011-10-07T00:00:00\",\"2011-10-14T00:00:00\",\"2011-10-21T00:00:00\",\"2011-10-28T00:00:00\",\"2011-11-04T00:00:00\",\"2011-11-11T00:00:00\",\"2011-11-18T00:00:00\",\"2011-11-25T00:00:00\",\"2011-12-02T00:00:00\",\"2011-12-09T00:00:00\",\"2011-12-16T00:00:00\",\"2011-12-23T00:00:00\",\"2011-12-30T00:00:00\",\"2012-01-06T00:00:00\",\"2012-01-13T00:00:00\",\"2012-01-20T00:00:00\",\"2012-01-27T00:00:00\",\"2012-02-03T00:00:00\",\"2012-02-10T00:00:00\",\"2012-02-17T00:00:00\",\"2012-02-24T00:00:00\",\"2012-03-02T00:00:00\",\"2012-03-09T00:00:00\",\"2012-03-16T00:00:00\",\"2012-03-23T00:00:00\",\"2012-03-30T00:00:00\",\"2012-04-06T00:00:00\",\"2012-04-13T00:00:00\",\"2012-04-20T00:00:00\",\"2012-04-27T00:00:00\",\"2012-05-04T00:00:00\",\"2012-05-11T00:00:00\",\"2012-05-18T00:00:00\",\"2012-05-25T00:00:00\",\"2012-06-01T00:00:00\",\"2012-06-08T00:00:00\",\"2012-06-15T00:00:00\",\"2012-06-22T00:00:00\",\"2012-06-29T00:00:00\",\"2012-07-06T00:00:00\",\"2012-07-13T00:00:00\",\"2012-07-20T00:00:00\",\"2012-07-27T00:00:00\",\"2012-08-03T00:00:00\",\"2012-08-10T00:00:00\",\"2012-08-17T00:00:00\",\"2012-08-24T00:00:00\",\"2012-08-31T00:00:00\",\"2012-09-07T00:00:00\",\"2012-09-14T00:00:00\",\"2012-09-21T00:00:00\",\"2012-09-28T00:00:00\",\"2012-10-05T00:00:00\",\"2012-10-12T00:00:00\",\"2012-10-19T00:00:00\",\"2012-10-26T00:00:00\",\"2010-02-05T00:00:00\",\"2010-02-12T00:00:00\",\"2010-02-19T00:00:00\",\"2010-02-26T00:00:00\",\"2010-03-05T00:00:00\",\"2010-03-12T00:00:00\",\"2010-03-19T00:00:00\",\"2010-03-26T00:00:00\",\"2010-04-02T00:00:00\",\"2010-04-09T00:00:00\",\"2010-04-16T00:00:00\",\"2010-04-23T00:00:00\",\"2010-04-30T00:00:00\",\"2010-05-07T00:00:00\",\"2010-05-14T00:00:00\",\"2010-05-21T00:00:00\",\"2010-05-28T00:00:00\",\"2010-06-04T00:00:00\",\"2010-06-11T00:00:00\",\"2010-06-18T00:00:00\",\"2010-06-25T00:00:00\",\"2010-07-02T00:00:00\",\"2010-07-09T00:00:00\",\"2010-07-16T00:00:00\",\"2010-07-23T00:00:00\",\"2010-07-30T00:00:00\",\"2010-08-06T00:00:00\",\"2010-08-13T00:00:00\",\"2010-08-20T00:00:00\",\"2010-08-27T00:00:00\",\"2010-09-03T00:00:00\",\"2010-09-10T00:00:00\",\"2010-09-17T00:00:00\",\"2010-09-24T00:00:00\",\"2010-10-01T00:00:00\",\"2010-10-08T00:00:00\",\"2010-10-15T00:00:00\",\"2010-10-22T00:00:00\",\"2010-10-29T00:00:00\",\"2010-11-05T00:00:00\",\"2010-11-12T00:00:00\",\"2010-11-19T00:00:00\",\"2010-11-26T00:00:00\",\"2010-12-03T00:00:00\",\"2010-12-10T00:00:00\",\"2010-12-17T00:00:00\",\"2010-12-24T00:00:00\",\"2010-12-31T00:00:00\",\"2011-01-07T00:00:00\",\"2011-01-14T00:00:00\",\"2011-01-21T00:00:00\",\"2011-01-28T00:00:00\",\"2011-02-04T00:00:00\",\"2011-02-11T00:00:00\",\"2011-02-18T00:00:00\",\"2011-02-25T00:00:00\",\"2011-03-04T00:00:00\",\"2011-03-11T00:00:00\",\"2011-03-18T00:00:00\",\"2011-03-25T00:00:00\",\"2011-04-01T00:00:00\",\"2011-04-08T00:00:00\",\"2011-04-15T00:00:00\",\"2011-04-22T00:00:00\",\"2011-04-29T00:00:00\",\"2011-05-06T00:00:00\",\"2011-05-13T00:00:00\",\"2011-05-20T00:00:00\",\"2011-05-27T00:00:00\",\"2011-06-03T00:00:00\",\"2011-06-10T00:00:00\",\"2011-06-17T00:00:00\",\"2011-06-24T00:00:00\",\"2011-07-01T00:00:00\",\"2011-07-08T00:00:00\",\"2011-07-15T00:00:00\",\"2011-07-22T00:00:00\",\"2011-07-29T00:00:00\",\"2011-08-05T00:00:00\",\"2011-08-12T00:00:00\",\"2011-08-19T00:00:00\",\"2011-08-26T00:00:00\",\"2011-09-02T00:00:00\",\"2011-09-09T00:00:00\",\"2011-09-16T00:00:00\",\"2011-09-23T00:00:00\",\"2011-09-30T00:00:00\",\"2011-10-07T00:00:00\",\"2011-10-14T00:00:00\",\"2011-10-21T00:00:00\",\"2011-10-28T00:00:00\",\"2011-11-04T00:00:00\",\"2011-11-11T00:00:00\",\"2011-11-18T00:00:00\",\"2011-11-25T00:00:00\",\"2011-12-02T00:00:00\",\"2011-12-09T00:00:00\",\"2011-12-16T00:00:00\",\"2011-12-23T00:00:00\",\"2011-12-30T00:00:00\",\"2012-01-06T00:00:00\",\"2012-01-13T00:00:00\",\"2012-01-20T00:00:00\",\"2012-01-27T00:00:00\",\"2012-02-03T00:00:00\",\"2012-02-10T00:00:00\",\"2012-02-17T00:00:00\",\"2012-02-24T00:00:00\",\"2012-03-02T00:00:00\",\"2012-03-09T00:00:00\",\"2012-03-16T00:00:00\",\"2012-03-23T00:00:00\",\"2012-03-30T00:00:00\",\"2012-04-06T00:00:00\",\"2012-04-13T00:00:00\",\"2012-04-20T00:00:00\",\"2012-04-27T00:00:00\",\"2012-05-04T00:00:00\",\"2012-05-11T00:00:00\",\"2012-05-18T00:00:00\",\"2012-05-25T00:00:00\",\"2012-06-01T00:00:00\",\"2012-06-08T00:00:00\",\"2012-06-15T00:00:00\",\"2012-06-22T00:00:00\",\"2012-06-29T00:00:00\",\"2012-07-06T00:00:00\",\"2012-07-13T00:00:00\",\"2012-07-20T00:00:00\",\"2012-07-27T00:00:00\",\"2012-08-03T00:00:00\",\"2012-08-10T00:00:00\",\"2012-08-17T00:00:00\",\"2012-08-24T00:00:00\",\"2012-08-31T00:00:00\",\"2012-09-07T00:00:00\",\"2012-09-14T00:00:00\",\"2012-09-21T00:00:00\",\"2012-09-28T00:00:00\",\"2012-10-05T00:00:00\",\"2012-10-12T00:00:00\",\"2012-10-19T00:00:00\",\"2012-10-26T00:00:00\",\"2010-02-05T00:00:00\",\"2010-02-12T00:00:00\",\"2010-02-19T00:00:00\",\"2010-02-26T00:00:00\",\"2010-03-05T00:00:00\",\"2010-03-12T00:00:00\",\"2010-03-19T00:00:00\",\"2010-03-26T00:00:00\",\"2010-04-02T00:00:00\",\"2010-04-09T00:00:00\",\"2010-04-16T00:00:00\",\"2010-04-23T00:00:00\",\"2010-04-30T00:00:00\",\"2010-05-07T00:00:00\",\"2010-05-14T00:00:00\",\"2010-05-21T00:00:00\",\"2010-05-28T00:00:00\",\"2010-06-04T00:00:00\",\"2010-06-11T00:00:00\",\"2010-06-18T00:00:00\",\"2010-06-25T00:00:00\",\"2010-07-02T00:00:00\",\"2010-07-09T00:00:00\",\"2010-07-16T00:00:00\",\"2010-07-23T00:00:00\",\"2010-07-30T00:00:00\",\"2010-08-06T00:00:00\",\"2010-08-13T00:00:00\",\"2010-08-20T00:00:00\",\"2010-08-27T00:00:00\",\"2010-09-03T00:00:00\",\"2010-09-10T00:00:00\",\"2010-09-17T00:00:00\",\"2010-09-24T00:00:00\",\"2010-10-01T00:00:00\",\"2010-10-08T00:00:00\",\"2010-10-15T00:00:00\",\"2010-10-22T00:00:00\",\"2010-10-29T00:00:00\",\"2010-11-05T00:00:00\",\"2010-11-12T00:00:00\",\"2010-11-19T00:00:00\",\"2010-11-26T00:00:00\",\"2010-12-03T00:00:00\",\"2010-12-10T00:00:00\",\"2010-12-17T00:00:00\",\"2010-12-24T00:00:00\",\"2010-12-31T00:00:00\",\"2011-01-07T00:00:00\",\"2011-01-14T00:00:00\",\"2011-01-21T00:00:00\",\"2011-01-28T00:00:00\",\"2011-02-04T00:00:00\",\"2011-02-11T00:00:00\",\"2011-02-18T00:00:00\",\"2011-02-25T00:00:00\",\"2011-03-04T00:00:00\",\"2011-03-11T00:00:00\",\"2011-03-18T00:00:00\",\"2011-03-25T00:00:00\",\"2011-04-01T00:00:00\",\"2011-04-08T00:00:00\",\"2011-04-15T00:00:00\",\"2011-04-22T00:00:00\",\"2011-04-29T00:00:00\",\"2011-05-06T00:00:00\",\"2011-05-13T00:00:00\",\"2011-05-20T00:00:00\",\"2011-05-27T00:00:00\",\"2011-06-03T00:00:00\",\"2011-06-10T00:00:00\",\"2011-06-17T00:00:00\",\"2011-06-24T00:00:00\",\"2011-07-01T00:00:00\",\"2011-07-08T00:00:00\",\"2011-07-15T00:00:00\",\"2011-07-22T00:00:00\",\"2011-07-29T00:00:00\",\"2011-08-05T00:00:00\",\"2011-08-12T00:00:00\",\"2011-08-19T00:00:00\",\"2011-08-26T00:00:00\",\"2011-09-02T00:00:00\",\"2011-09-09T00:00:00\",\"2011-09-16T00:00:00\",\"2011-09-23T00:00:00\",\"2011-09-30T00:00:00\",\"2011-10-07T00:00:00\",\"2011-10-14T00:00:00\",\"2011-10-21T00:00:00\",\"2011-10-28T00:00:00\",\"2011-11-04T00:00:00\",\"2011-11-11T00:00:00\",\"2011-11-18T00:00:00\",\"2011-11-25T00:00:00\",\"2011-12-02T00:00:00\",\"2011-12-09T00:00:00\",\"2011-12-16T00:00:00\",\"2011-12-23T00:00:00\",\"2011-12-30T00:00:00\",\"2012-01-06T00:00:00\",\"2012-01-13T00:00:00\",\"2012-01-20T00:00:00\",\"2012-01-27T00:00:00\",\"2012-02-03T00:00:00\",\"2012-02-10T00:00:00\",\"2012-02-17T00:00:00\",\"2012-02-24T00:00:00\",\"2012-03-02T00:00:00\",\"2012-03-09T00:00:00\",\"2012-03-16T00:00:00\",\"2012-03-23T00:00:00\",\"2012-03-30T00:00:00\",\"2012-04-06T00:00:00\",\"2012-04-13T00:00:00\",\"2012-04-20T00:00:00\",\"2012-04-27T00:00:00\",\"2012-05-04T00:00:00\",\"2012-05-11T00:00:00\",\"2012-05-18T00:00:00\",\"2012-05-25T00:00:00\",\"2012-06-01T00:00:00\",\"2012-06-08T00:00:00\",\"2012-06-15T00:00:00\",\"2012-06-22T00:00:00\",\"2012-06-29T00:00:00\",\"2012-07-06T00:00:00\",\"2012-07-13T00:00:00\",\"2012-07-20T00:00:00\",\"2012-07-27T00:00:00\",\"2012-08-03T00:00:00\",\"2012-08-10T00:00:00\",\"2012-08-17T00:00:00\",\"2012-08-24T00:00:00\",\"2012-08-31T00:00:00\",\"2012-09-07T00:00:00\",\"2012-09-14T00:00:00\",\"2012-09-21T00:00:00\",\"2012-09-28T00:00:00\",\"2012-10-05T00:00:00\",\"2012-10-12T00:00:00\",\"2012-10-19T00:00:00\",\"2012-10-26T00:00:00\",\"2010-02-05T00:00:00\",\"2010-02-12T00:00:00\",\"2010-02-19T00:00:00\",\"2010-02-26T00:00:00\",\"2010-03-05T00:00:00\",\"2010-03-12T00:00:00\",\"2010-03-19T00:00:00\",\"2010-03-26T00:00:00\",\"2010-04-02T00:00:00\",\"2010-04-09T00:00:00\",\"2010-04-16T00:00:00\",\"2010-04-23T00:00:00\",\"2010-04-30T00:00:00\",\"2010-05-07T00:00:00\",\"2010-05-14T00:00:00\",\"2010-05-21T00:00:00\",\"2010-05-28T00:00:00\",\"2010-06-04T00:00:00\",\"2010-06-11T00:00:00\",\"2010-06-18T00:00:00\",\"2010-06-25T00:00:00\",\"2010-07-02T00:00:00\",\"2010-07-09T00:00:00\",\"2010-07-16T00:00:00\",\"2010-07-23T00:00:00\",\"2010-07-30T00:00:00\",\"2010-08-06T00:00:00\",\"2010-08-13T00:00:00\",\"2010-08-20T00:00:00\",\"2010-08-27T00:00:00\",\"2010-09-03T00:00:00\",\"2010-09-10T00:00:00\",\"2010-09-17T00:00:00\",\"2010-09-24T00:00:00\",\"2010-10-01T00:00:00\",\"2010-10-08T00:00:00\",\"2010-10-15T00:00:00\",\"2010-10-22T00:00:00\",\"2010-10-29T00:00:00\",\"2010-11-05T00:00:00\",\"2010-11-12T00:00:00\",\"2010-11-19T00:00:00\",\"2010-11-26T00:00:00\",\"2010-12-03T00:00:00\",\"2010-12-10T00:00:00\",\"2010-12-17T00:00:00\",\"2010-12-24T00:00:00\",\"2010-12-31T00:00:00\",\"2011-01-07T00:00:00\",\"2011-01-14T00:00:00\",\"2011-01-21T00:00:00\",\"2011-01-28T00:00:00\",\"2011-02-04T00:00:00\",\"2011-02-11T00:00:00\",\"2011-02-18T00:00:00\",\"2011-02-25T00:00:00\",\"2011-03-04T00:00:00\",\"2011-03-11T00:00:00\",\"2011-03-18T00:00:00\",\"2011-03-25T00:00:00\",\"2011-04-01T00:00:00\",\"2011-04-08T00:00:00\",\"2011-04-15T00:00:00\",\"2011-04-22T00:00:00\",\"2011-04-29T00:00:00\",\"2011-05-06T00:00:00\",\"2011-05-13T00:00:00\",\"2011-05-20T00:00:00\",\"2011-05-27T00:00:00\",\"2011-06-03T00:00:00\",\"2011-06-10T00:00:00\",\"2011-06-17T00:00:00\",\"2011-06-24T00:00:00\",\"2011-07-01T00:00:00\",\"2011-07-08T00:00:00\",\"2011-07-15T00:00:00\",\"2011-07-22T00:00:00\",\"2011-07-29T00:00:00\",\"2011-08-05T00:00:00\",\"2011-08-12T00:00:00\",\"2011-08-19T00:00:00\",\"2011-08-26T00:00:00\",\"2011-09-02T00:00:00\",\"2011-09-09T00:00:00\",\"2011-09-16T00:00:00\",\"2011-09-23T00:00:00\",\"2011-09-30T00:00:00\",\"2011-10-07T00:00:00\",\"2011-10-14T00:00:00\",\"2011-10-21T00:00:00\",\"2011-10-28T00:00:00\",\"2011-11-04T00:00:00\",\"2011-11-11T00:00:00\",\"2011-11-18T00:00:00\",\"2011-11-25T00:00:00\",\"2011-12-02T00:00:00\",\"2011-12-09T00:00:00\",\"2011-12-16T00:00:00\",\"2011-12-23T00:00:00\",\"2011-12-30T00:00:00\",\"2012-01-06T00:00:00\",\"2012-01-13T00:00:00\",\"2012-01-20T00:00:00\",\"2012-01-27T00:00:00\",\"2012-02-03T00:00:00\",\"2012-02-10T00:00:00\",\"2012-02-17T00:00:00\",\"2012-02-24T00:00:00\",\"2012-03-02T00:00:00\",\"2012-03-09T00:00:00\",\"2012-03-16T00:00:00\",\"2012-03-23T00:00:00\",\"2012-03-30T00:00:00\",\"2012-04-06T00:00:00\",\"2012-04-13T00:00:00\",\"2012-04-20T00:00:00\",\"2012-04-27T00:00:00\",\"2012-05-04T00:00:00\",\"2012-05-11T00:00:00\",\"2012-05-18T00:00:00\",\"2012-05-25T00:00:00\",\"2012-06-01T00:00:00\",\"2012-06-08T00:00:00\",\"2012-06-15T00:00:00\",\"2012-06-22T00:00:00\",\"2012-06-29T00:00:00\",\"2012-07-06T00:00:00\",\"2012-07-13T00:00:00\",\"2012-07-20T00:00:00\",\"2012-07-27T00:00:00\",\"2012-08-03T00:00:00\",\"2012-08-10T00:00:00\",\"2012-08-17T00:00:00\",\"2012-08-24T00:00:00\",\"2012-08-31T00:00:00\",\"2012-09-07T00:00:00\",\"2012-09-14T00:00:00\",\"2012-09-21T00:00:00\",\"2012-09-28T00:00:00\",\"2012-10-05T00:00:00\",\"2012-10-12T00:00:00\",\"2012-10-19T00:00:00\",\"2012-10-26T00:00:00\",\"2010-02-05T00:00:00\",\"2010-02-12T00:00:00\",\"2010-02-19T00:00:00\",\"2010-02-26T00:00:00\",\"2010-03-05T00:00:00\",\"2010-03-12T00:00:00\",\"2010-03-19T00:00:00\",\"2010-03-26T00:00:00\",\"2010-04-02T00:00:00\",\"2010-04-09T00:00:00\",\"2010-04-16T00:00:00\",\"2010-04-23T00:00:00\",\"2010-04-30T00:00:00\",\"2010-05-07T00:00:00\",\"2010-05-14T00:00:00\",\"2010-05-21T00:00:00\",\"2010-05-28T00:00:00\",\"2010-06-04T00:00:00\",\"2010-06-11T00:00:00\",\"2010-06-18T00:00:00\",\"2010-06-25T00:00:00\",\"2010-07-02T00:00:00\",\"2010-07-09T00:00:00\",\"2010-07-16T00:00:00\",\"2010-07-23T00:00:00\",\"2010-07-30T00:00:00\",\"2010-08-06T00:00:00\",\"2010-08-13T00:00:00\",\"2010-08-20T00:00:00\",\"2010-08-27T00:00:00\",\"2010-09-03T00:00:00\",\"2010-09-10T00:00:00\",\"2010-09-17T00:00:00\",\"2010-09-24T00:00:00\",\"2010-10-01T00:00:00\",\"2010-10-08T00:00:00\",\"2010-10-15T00:00:00\",\"2010-10-22T00:00:00\",\"2010-10-29T00:00:00\",\"2010-11-05T00:00:00\",\"2010-11-12T00:00:00\",\"2010-11-19T00:00:00\",\"2010-11-26T00:00:00\",\"2010-12-03T00:00:00\",\"2010-12-10T00:00:00\",\"2010-12-17T00:00:00\",\"2010-12-24T00:00:00\",\"2010-12-31T00:00:00\",\"2011-01-07T00:00:00\",\"2011-01-14T00:00:00\",\"2011-01-21T00:00:00\",\"2011-01-28T00:00:00\",\"2011-02-04T00:00:00\",\"2011-02-11T00:00:00\",\"2011-02-18T00:00:00\",\"2011-02-25T00:00:00\",\"2011-03-04T00:00:00\",\"2011-03-11T00:00:00\",\"2011-03-18T00:00:00\",\"2011-03-25T00:00:00\",\"2011-04-01T00:00:00\",\"2011-04-08T00:00:00\",\"2011-04-15T00:00:00\",\"2011-04-22T00:00:00\",\"2011-04-29T00:00:00\",\"2011-05-06T00:00:00\",\"2011-05-13T00:00:00\",\"2011-05-20T00:00:00\",\"2011-05-27T00:00:00\",\"2011-06-03T00:00:00\",\"2011-06-10T00:00:00\",\"2011-06-17T00:00:00\",\"2011-06-24T00:00:00\",\"2011-07-01T00:00:00\",\"2011-07-08T00:00:00\",\"2011-07-15T00:00:00\",\"2011-07-22T00:00:00\",\"2011-07-29T00:00:00\",\"2011-08-05T00:00:00\",\"2011-08-12T00:00:00\",\"2011-08-19T00:00:00\",\"2011-08-26T00:00:00\",\"2011-09-02T00:00:00\",\"2011-09-09T00:00:00\",\"2011-09-16T00:00:00\",\"2011-09-23T00:00:00\",\"2011-09-30T00:00:00\",\"2011-10-07T00:00:00\",\"2011-10-14T00:00:00\",\"2011-10-21T00:00:00\",\"2011-10-28T00:00:00\",\"2011-11-04T00:00:00\",\"2011-11-11T00:00:00\",\"2011-11-18T00:00:00\",\"2011-11-25T00:00:00\",\"2011-12-02T00:00:00\",\"2011-12-09T00:00:00\",\"2011-12-16T00:00:00\",\"2011-12-23T00:00:00\",\"2011-12-30T00:00:00\",\"2012-01-06T00:00:00\",\"2012-01-13T00:00:00\",\"2012-01-20T00:00:00\",\"2012-01-27T00:00:00\",\"2012-02-03T00:00:00\",\"2012-02-10T00:00:00\",\"2012-02-17T00:00:00\",\"2012-02-24T00:00:00\",\"2012-03-02T00:00:00\",\"2012-03-09T00:00:00\",\"2012-03-16T00:00:00\",\"2012-03-23T00:00:00\",\"2012-03-30T00:00:00\",\"2012-04-06T00:00:00\",\"2012-04-13T00:00:00\",\"2012-04-20T00:00:00\",\"2012-04-27T00:00:00\",\"2012-05-04T00:00:00\",\"2012-05-11T00:00:00\",\"2012-05-18T00:00:00\",\"2012-05-25T00:00:00\",\"2012-06-01T00:00:00\",\"2012-06-08T00:00:00\",\"2012-06-15T00:00:00\",\"2012-06-22T00:00:00\",\"2012-06-29T00:00:00\",\"2012-07-06T00:00:00\",\"2012-07-13T00:00:00\",\"2012-07-20T00:00:00\",\"2012-07-27T00:00:00\",\"2012-08-03T00:00:00\",\"2012-08-10T00:00:00\",\"2012-08-17T00:00:00\",\"2012-08-24T00:00:00\",\"2012-08-31T00:00:00\",\"2012-09-07T00:00:00\",\"2012-09-14T00:00:00\",\"2012-09-21T00:00:00\",\"2012-09-28T00:00:00\",\"2012-10-05T00:00:00\",\"2012-10-12T00:00:00\",\"2012-10-19T00:00:00\",\"2012-10-26T00:00:00\",\"2010-02-05T00:00:00\",\"2010-02-12T00:00:00\",\"2010-02-19T00:00:00\",\"2010-02-26T00:00:00\",\"2010-03-05T00:00:00\",\"2010-03-12T00:00:00\",\"2010-03-19T00:00:00\",\"2010-03-26T00:00:00\",\"2010-04-02T00:00:00\",\"2010-04-09T00:00:00\",\"2010-04-16T00:00:00\",\"2010-04-23T00:00:00\",\"2010-04-30T00:00:00\",\"2010-05-07T00:00:00\",\"2010-05-14T00:00:00\",\"2010-05-21T00:00:00\",\"2010-05-28T00:00:00\",\"2010-06-04T00:00:00\",\"2010-06-11T00:00:00\",\"2010-06-18T00:00:00\",\"2010-06-25T00:00:00\",\"2010-07-02T00:00:00\",\"2010-07-09T00:00:00\",\"2010-07-16T00:00:00\",\"2010-07-23T00:00:00\",\"2010-07-30T00:00:00\",\"2010-08-06T00:00:00\",\"2010-08-13T00:00:00\",\"2010-08-20T00:00:00\",\"2010-08-27T00:00:00\",\"2010-09-03T00:00:00\",\"2010-09-10T00:00:00\",\"2010-09-17T00:00:00\",\"2010-09-24T00:00:00\",\"2010-10-01T00:00:00\",\"2010-10-08T00:00:00\",\"2010-10-15T00:00:00\",\"2010-10-22T00:00:00\",\"2010-10-29T00:00:00\",\"2010-11-05T00:00:00\",\"2010-11-12T00:00:00\",\"2010-11-19T00:00:00\",\"2010-11-26T00:00:00\",\"2010-12-03T00:00:00\",\"2010-12-10T00:00:00\",\"2010-12-17T00:00:00\",\"2010-12-24T00:00:00\",\"2010-12-31T00:00:00\",\"2011-01-07T00:00:00\",\"2011-01-14T00:00:00\",\"2011-01-21T00:00:00\",\"2011-01-28T00:00:00\",\"2011-02-04T00:00:00\",\"2011-02-11T00:00:00\",\"2011-02-18T00:00:00\",\"2011-02-25T00:00:00\",\"2011-03-04T00:00:00\",\"2011-03-11T00:00:00\",\"2011-03-18T00:00:00\",\"2011-03-25T00:00:00\",\"2011-04-01T00:00:00\",\"2011-04-08T00:00:00\",\"2011-04-15T00:00:00\",\"2011-04-22T00:00:00\",\"2011-04-29T00:00:00\",\"2011-05-06T00:00:00\",\"2011-05-13T00:00:00\",\"2011-05-20T00:00:00\",\"2011-05-27T00:00:00\",\"2011-06-03T00:00:00\",\"2011-06-10T00:00:00\",\"2011-06-17T00:00:00\",\"2011-06-24T00:00:00\",\"2011-07-01T00:00:00\",\"2011-07-08T00:00:00\",\"2011-07-15T00:00:00\",\"2011-07-22T00:00:00\",\"2011-07-29T00:00:00\",\"2011-08-05T00:00:00\",\"2011-08-12T00:00:00\",\"2011-08-19T00:00:00\",\"2011-08-26T00:00:00\",\"2011-09-02T00:00:00\",\"2011-09-09T00:00:00\",\"2011-09-16T00:00:00\",\"2011-09-23T00:00:00\",\"2011-09-30T00:00:00\",\"2011-10-07T00:00:00\",\"2011-10-14T00:00:00\",\"2011-10-21T00:00:00\",\"2011-10-28T00:00:00\",\"2011-11-04T00:00:00\",\"2011-11-11T00:00:00\",\"2011-11-18T00:00:00\",\"2011-11-25T00:00:00\",\"2011-12-02T00:00:00\",\"2011-12-09T00:00:00\",\"2011-12-16T00:00:00\",\"2011-12-23T00:00:00\",\"2011-12-30T00:00:00\",\"2012-01-06T00:00:00\",\"2012-01-13T00:00:00\",\"2012-01-20T00:00:00\",\"2012-01-27T00:00:00\",\"2012-02-03T00:00:00\",\"2012-02-10T00:00:00\",\"2012-02-17T00:00:00\",\"2012-02-24T00:00:00\",\"2012-03-02T00:00:00\",\"2012-03-09T00:00:00\",\"2012-03-16T00:00:00\",\"2012-03-23T00:00:00\",\"2012-03-30T00:00:00\",\"2012-04-06T00:00:00\",\"2012-04-13T00:00:00\",\"2012-04-20T00:00:00\",\"2012-04-27T00:00:00\",\"2012-05-04T00:00:00\",\"2012-05-11T00:00:00\",\"2012-05-18T00:00:00\",\"2012-05-25T00:00:00\",\"2012-06-01T00:00:00\",\"2012-06-08T00:00:00\",\"2012-06-15T00:00:00\",\"2012-06-22T00:00:00\",\"2012-06-29T00:00:00\",\"2012-07-06T00:00:00\",\"2012-07-13T00:00:00\",\"2012-07-20T00:00:00\",\"2012-07-27T00:00:00\",\"2012-08-03T00:00:00\",\"2012-08-10T00:00:00\",\"2012-08-17T00:00:00\",\"2012-08-24T00:00:00\",\"2012-08-31T00:00:00\",\"2012-09-07T00:00:00\",\"2012-09-14T00:00:00\",\"2012-09-21T00:00:00\",\"2012-09-28T00:00:00\",\"2012-10-05T00:00:00\",\"2012-10-12T00:00:00\",\"2012-10-19T00:00:00\",\"2012-10-26T00:00:00\",\"2010-02-05T00:00:00\",\"2010-02-12T00:00:00\",\"2010-02-19T00:00:00\",\"2010-02-26T00:00:00\",\"2010-03-05T00:00:00\",\"2010-03-12T00:00:00\",\"2010-03-19T00:00:00\",\"2010-03-26T00:00:00\",\"2010-04-02T00:00:00\",\"2010-04-09T00:00:00\",\"2010-04-16T00:00:00\",\"2010-04-23T00:00:00\",\"2010-04-30T00:00:00\",\"2010-05-07T00:00:00\",\"2010-05-14T00:00:00\",\"2010-05-21T00:00:00\",\"2010-05-28T00:00:00\",\"2010-06-04T00:00:00\",\"2010-06-11T00:00:00\",\"2010-06-18T00:00:00\",\"2010-06-25T00:00:00\",\"2010-07-02T00:00:00\",\"2010-07-09T00:00:00\",\"2010-07-16T00:00:00\",\"2010-07-23T00:00:00\",\"2010-07-30T00:00:00\",\"2010-08-06T00:00:00\",\"2010-08-13T00:00:00\",\"2010-08-20T00:00:00\",\"2010-08-27T00:00:00\",\"2010-09-03T00:00:00\",\"2010-09-10T00:00:00\",\"2010-09-17T00:00:00\",\"2010-09-24T00:00:00\",\"2010-10-01T00:00:00\",\"2010-10-08T00:00:00\",\"2010-10-15T00:00:00\",\"2010-10-22T00:00:00\",\"2010-10-29T00:00:00\",\"2010-11-05T00:00:00\",\"2010-11-12T00:00:00\",\"2010-11-19T00:00:00\",\"2010-11-26T00:00:00\",\"2010-12-03T00:00:00\",\"2010-12-10T00:00:00\",\"2010-12-17T00:00:00\",\"2010-12-24T00:00:00\",\"2010-12-31T00:00:00\",\"2011-01-07T00:00:00\",\"2011-01-14T00:00:00\",\"2011-01-21T00:00:00\",\"2011-01-28T00:00:00\",\"2011-02-04T00:00:00\",\"2011-02-11T00:00:00\",\"2011-02-18T00:00:00\",\"2011-02-25T00:00:00\",\"2011-03-04T00:00:00\",\"2011-03-11T00:00:00\",\"2011-03-18T00:00:00\",\"2011-03-25T00:00:00\",\"2011-04-01T00:00:00\",\"2011-04-08T00:00:00\",\"2011-04-15T00:00:00\",\"2011-04-22T00:00:00\",\"2011-04-29T00:00:00\",\"2011-05-06T00:00:00\",\"2011-05-13T00:00:00\",\"2011-05-20T00:00:00\",\"2011-05-27T00:00:00\",\"2011-06-03T00:00:00\",\"2011-06-10T00:00:00\",\"2011-06-17T00:00:00\",\"2011-06-24T00:00:00\",\"2011-07-01T00:00:00\",\"2011-07-08T00:00:00\",\"2011-07-15T00:00:00\",\"2011-07-22T00:00:00\",\"2011-07-29T00:00:00\",\"2011-08-05T00:00:00\",\"2011-08-12T00:00:00\",\"2011-08-19T00:00:00\",\"2011-08-26T00:00:00\",\"2011-09-02T00:00:00\",\"2011-09-09T00:00:00\",\"2011-09-16T00:00:00\",\"2011-09-23T00:00:00\",\"2011-09-30T00:00:00\",\"2011-10-07T00:00:00\",\"2011-10-14T00:00:00\",\"2011-10-21T00:00:00\",\"2011-10-28T00:00:00\",\"2011-11-04T00:00:00\",\"2011-11-11T00:00:00\",\"2011-11-18T00:00:00\",\"2011-11-25T00:00:00\",\"2011-12-02T00:00:00\",\"2011-12-09T00:00:00\",\"2011-12-16T00:00:00\",\"2011-12-23T00:00:00\",\"2011-12-30T00:00:00\",\"2012-01-06T00:00:00\",\"2012-01-13T00:00:00\",\"2012-01-20T00:00:00\",\"2012-01-27T00:00:00\",\"2012-02-03T00:00:00\",\"2012-02-10T00:00:00\",\"2012-02-17T00:00:00\",\"2012-02-24T00:00:00\",\"2012-03-02T00:00:00\",\"2012-03-09T00:00:00\",\"2012-03-16T00:00:00\",\"2012-03-23T00:00:00\",\"2012-03-30T00:00:00\",\"2012-04-06T00:00:00\",\"2012-04-13T00:00:00\",\"2012-04-20T00:00:00\",\"2012-04-27T00:00:00\",\"2012-05-04T00:00:00\",\"2012-05-11T00:00:00\",\"2012-05-18T00:00:00\",\"2012-05-25T00:00:00\",\"2012-06-01T00:00:00\",\"2012-06-08T00:00:00\",\"2012-06-15T00:00:00\",\"2012-06-22T00:00:00\",\"2012-06-29T00:00:00\",\"2012-07-06T00:00:00\",\"2012-07-13T00:00:00\",\"2012-07-20T00:00:00\",\"2012-07-27T00:00:00\",\"2012-08-03T00:00:00\",\"2012-08-10T00:00:00\",\"2012-08-17T00:00:00\",\"2012-08-24T00:00:00\",\"2012-08-31T00:00:00\",\"2012-09-07T00:00:00\",\"2012-09-14T00:00:00\",\"2012-09-21T00:00:00\",\"2012-09-28T00:00:00\",\"2012-10-05T00:00:00\",\"2012-10-12T00:00:00\",\"2012-10-19T00:00:00\",\"2012-10-26T00:00:00\",\"2010-02-05T00:00:00\",\"2010-02-12T00:00:00\",\"2010-02-19T00:00:00\",\"2010-02-26T00:00:00\",\"2010-03-05T00:00:00\",\"2010-03-12T00:00:00\",\"2010-03-19T00:00:00\",\"2010-03-26T00:00:00\",\"2010-04-02T00:00:00\",\"2010-04-09T00:00:00\",\"2010-04-16T00:00:00\",\"2010-04-23T00:00:00\",\"2010-04-30T00:00:00\",\"2010-05-07T00:00:00\",\"2010-05-14T00:00:00\",\"2010-05-21T00:00:00\",\"2010-05-28T00:00:00\",\"2010-06-04T00:00:00\",\"2010-06-11T00:00:00\",\"2010-06-18T00:00:00\",\"2010-06-25T00:00:00\",\"2010-07-02T00:00:00\",\"2010-07-09T00:00:00\",\"2010-07-16T00:00:00\",\"2010-07-23T00:00:00\",\"2010-07-30T00:00:00\",\"2010-08-06T00:00:00\",\"2010-08-13T00:00:00\",\"2010-08-20T00:00:00\",\"2010-08-27T00:00:00\",\"2010-09-03T00:00:00\",\"2010-09-10T00:00:00\",\"2010-09-17T00:00:00\",\"2010-09-24T00:00:00\",\"2010-10-01T00:00:00\",\"2010-10-08T00:00:00\",\"2010-10-15T00:00:00\",\"2010-10-22T00:00:00\",\"2010-10-29T00:00:00\",\"2010-11-05T00:00:00\",\"2010-11-12T00:00:00\",\"2010-11-19T00:00:00\",\"2010-11-26T00:00:00\",\"2010-12-03T00:00:00\",\"2010-12-10T00:00:00\",\"2010-12-17T00:00:00\",\"2010-12-24T00:00:00\",\"2010-12-31T00:00:00\",\"2011-01-07T00:00:00\",\"2011-01-14T00:00:00\",\"2011-01-21T00:00:00\",\"2011-01-28T00:00:00\",\"2011-02-04T00:00:00\",\"2011-02-11T00:00:00\",\"2011-02-18T00:00:00\",\"2011-02-25T00:00:00\",\"2011-03-04T00:00:00\",\"2011-03-11T00:00:00\",\"2011-03-18T00:00:00\",\"2011-03-25T00:00:00\",\"2011-04-01T00:00:00\",\"2011-04-08T00:00:00\",\"2011-04-15T00:00:00\",\"2011-04-22T00:00:00\",\"2011-04-29T00:00:00\",\"2011-05-06T00:00:00\",\"2011-05-13T00:00:00\",\"2011-05-20T00:00:00\",\"2011-05-27T00:00:00\",\"2011-06-03T00:00:00\",\"2011-06-10T00:00:00\",\"2011-06-17T00:00:00\",\"2011-06-24T00:00:00\",\"2011-07-01T00:00:00\",\"2011-07-08T00:00:00\",\"2011-07-15T00:00:00\",\"2011-07-22T00:00:00\",\"2011-07-29T00:00:00\",\"2011-08-05T00:00:00\",\"2011-08-12T00:00:00\",\"2011-08-19T00:00:00\",\"2011-08-26T00:00:00\",\"2011-09-02T00:00:00\",\"2011-09-09T00:00:00\",\"2011-09-16T00:00:00\",\"2011-09-23T00:00:00\",\"2011-09-30T00:00:00\",\"2011-10-07T00:00:00\",\"2011-10-14T00:00:00\",\"2011-10-21T00:00:00\",\"2011-10-28T00:00:00\",\"2011-11-04T00:00:00\",\"2011-11-11T00:00:00\",\"2011-11-18T00:00:00\",\"2011-11-25T00:00:00\",\"2011-12-02T00:00:00\",\"2011-12-09T00:00:00\",\"2011-12-16T00:00:00\",\"2011-12-23T00:00:00\",\"2011-12-30T00:00:00\",\"2012-01-06T00:00:00\",\"2012-01-13T00:00:00\",\"2012-01-20T00:00:00\",\"2012-01-27T00:00:00\",\"2012-02-03T00:00:00\",\"2012-02-10T00:00:00\",\"2012-02-17T00:00:00\",\"2012-02-24T00:00:00\",\"2012-03-02T00:00:00\",\"2012-03-09T00:00:00\",\"2012-03-16T00:00:00\",\"2012-03-23T00:00:00\",\"2012-03-30T00:00:00\",\"2012-04-06T00:00:00\",\"2012-04-13T00:00:00\",\"2012-04-20T00:00:00\",\"2012-04-27T00:00:00\",\"2012-05-04T00:00:00\",\"2012-05-11T00:00:00\",\"2012-05-18T00:00:00\",\"2012-05-25T00:00:00\",\"2012-06-01T00:00:00\",\"2012-06-08T00:00:00\",\"2012-06-15T00:00:00\",\"2012-06-22T00:00:00\",\"2012-06-29T00:00:00\",\"2012-07-06T00:00:00\",\"2012-07-13T00:00:00\",\"2012-07-20T00:00:00\",\"2012-07-27T00:00:00\",\"2012-08-03T00:00:00\",\"2012-08-10T00:00:00\",\"2012-08-17T00:00:00\",\"2012-08-24T00:00:00\",\"2012-08-31T00:00:00\",\"2012-09-07T00:00:00\",\"2012-09-14T00:00:00\",\"2012-09-21T00:00:00\",\"2012-09-28T00:00:00\",\"2012-10-05T00:00:00\",\"2012-10-12T00:00:00\",\"2012-10-19T00:00:00\",\"2012-10-26T00:00:00\",\"2010-02-05T00:00:00\",\"2010-02-12T00:00:00\",\"2010-02-19T00:00:00\",\"2010-02-26T00:00:00\",\"2010-03-05T00:00:00\",\"2010-03-12T00:00:00\",\"2010-03-19T00:00:00\",\"2010-03-26T00:00:00\",\"2010-04-02T00:00:00\",\"2010-04-09T00:00:00\",\"2010-04-16T00:00:00\",\"2010-04-23T00:00:00\",\"2010-04-30T00:00:00\",\"2010-05-07T00:00:00\",\"2010-05-14T00:00:00\",\"2010-05-21T00:00:00\",\"2010-05-28T00:00:00\",\"2010-06-04T00:00:00\",\"2010-06-11T00:00:00\",\"2010-06-18T00:00:00\",\"2010-06-25T00:00:00\",\"2010-07-02T00:00:00\",\"2010-07-09T00:00:00\",\"2010-07-16T00:00:00\",\"2010-07-23T00:00:00\",\"2010-07-30T00:00:00\",\"2010-08-06T00:00:00\",\"2010-08-13T00:00:00\",\"2010-08-20T00:00:00\",\"2010-08-27T00:00:00\",\"2010-09-03T00:00:00\",\"2010-09-10T00:00:00\",\"2010-09-17T00:00:00\",\"2010-09-24T00:00:00\",\"2010-10-01T00:00:00\",\"2010-10-08T00:00:00\",\"2010-10-15T00:00:00\",\"2010-10-22T00:00:00\",\"2010-10-29T00:00:00\",\"2010-11-05T00:00:00\",\"2010-11-12T00:00:00\",\"2010-11-19T00:00:00\",\"2010-11-26T00:00:00\",\"2010-12-03T00:00:00\",\"2010-12-10T00:00:00\",\"2010-12-17T00:00:00\",\"2010-12-24T00:00:00\",\"2010-12-31T00:00:00\",\"2011-01-07T00:00:00\",\"2011-01-14T00:00:00\",\"2011-01-21T00:00:00\",\"2011-01-28T00:00:00\",\"2011-02-04T00:00:00\",\"2011-02-11T00:00:00\",\"2011-02-18T00:00:00\",\"2011-02-25T00:00:00\",\"2011-03-04T00:00:00\",\"2011-03-11T00:00:00\",\"2011-03-18T00:00:00\",\"2011-03-25T00:00:00\",\"2011-04-01T00:00:00\",\"2011-04-08T00:00:00\",\"2011-04-15T00:00:00\",\"2011-04-22T00:00:00\",\"2011-04-29T00:00:00\",\"2011-05-06T00:00:00\",\"2011-05-13T00:00:00\",\"2011-05-20T00:00:00\",\"2011-05-27T00:00:00\",\"2011-06-03T00:00:00\",\"2011-06-10T00:00:00\",\"2011-06-17T00:00:00\",\"2011-06-24T00:00:00\",\"2011-07-01T00:00:00\",\"2011-07-08T00:00:00\",\"2011-07-15T00:00:00\",\"2011-07-22T00:00:00\",\"2011-07-29T00:00:00\",\"2011-08-05T00:00:00\",\"2011-08-12T00:00:00\",\"2011-08-19T00:00:00\",\"2011-08-26T00:00:00\",\"2011-09-02T00:00:00\",\"2011-09-09T00:00:00\",\"2011-09-16T00:00:00\",\"2011-09-23T00:00:00\",\"2011-09-30T00:00:00\",\"2011-10-07T00:00:00\",\"2011-10-14T00:00:00\",\"2011-10-21T00:00:00\",\"2011-10-28T00:00:00\",\"2011-11-04T00:00:00\",\"2011-11-11T00:00:00\",\"2011-11-18T00:00:00\",\"2011-11-25T00:00:00\",\"2011-12-02T00:00:00\",\"2011-12-09T00:00:00\",\"2011-12-16T00:00:00\",\"2011-12-23T00:00:00\",\"2011-12-30T00:00:00\",\"2012-01-06T00:00:00\",\"2012-01-13T00:00:00\",\"2012-01-20T00:00:00\",\"2012-01-27T00:00:00\",\"2012-02-03T00:00:00\",\"2012-02-10T00:00:00\",\"2012-02-17T00:00:00\",\"2012-02-24T00:00:00\",\"2012-03-02T00:00:00\",\"2012-03-09T00:00:00\",\"2012-03-16T00:00:00\",\"2012-03-23T00:00:00\",\"2012-03-30T00:00:00\",\"2012-04-06T00:00:00\",\"2012-04-13T00:00:00\",\"2012-04-20T00:00:00\",\"2012-04-27T00:00:00\",\"2012-05-04T00:00:00\",\"2012-05-11T00:00:00\",\"2012-05-18T00:00:00\",\"2012-05-25T00:00:00\",\"2012-06-01T00:00:00\",\"2012-06-08T00:00:00\",\"2012-06-15T00:00:00\",\"2012-06-22T00:00:00\",\"2012-06-29T00:00:00\",\"2012-07-06T00:00:00\",\"2012-07-13T00:00:00\",\"2012-07-20T00:00:00\",\"2012-07-27T00:00:00\",\"2012-08-03T00:00:00\",\"2012-08-10T00:00:00\",\"2012-08-17T00:00:00\",\"2012-08-24T00:00:00\",\"2012-08-31T00:00:00\",\"2012-09-07T00:00:00\",\"2012-09-14T00:00:00\",\"2012-09-21T00:00:00\",\"2012-09-28T00:00:00\",\"2012-10-05T00:00:00\",\"2012-10-12T00:00:00\",\"2012-10-19T00:00:00\",\"2012-10-26T00:00:00\",\"2010-02-05T00:00:00\",\"2010-02-12T00:00:00\",\"2010-02-19T00:00:00\",\"2010-02-26T00:00:00\",\"2010-03-05T00:00:00\",\"2010-03-12T00:00:00\",\"2010-03-19T00:00:00\",\"2010-03-26T00:00:00\",\"2010-04-02T00:00:00\",\"2010-04-09T00:00:00\",\"2010-04-16T00:00:00\",\"2010-04-23T00:00:00\",\"2010-04-30T00:00:00\",\"2010-05-07T00:00:00\",\"2010-05-14T00:00:00\",\"2010-05-21T00:00:00\",\"2010-05-28T00:00:00\",\"2010-06-04T00:00:00\",\"2010-06-11T00:00:00\",\"2010-06-18T00:00:00\",\"2010-06-25T00:00:00\",\"2010-07-02T00:00:00\",\"2010-07-09T00:00:00\",\"2010-07-16T00:00:00\",\"2010-07-23T00:00:00\",\"2010-07-30T00:00:00\",\"2010-08-06T00:00:00\",\"2010-08-13T00:00:00\",\"2010-08-20T00:00:00\",\"2010-08-27T00:00:00\",\"2010-09-03T00:00:00\",\"2010-09-10T00:00:00\",\"2010-09-17T00:00:00\",\"2010-09-24T00:00:00\",\"2010-10-01T00:00:00\",\"2010-10-08T00:00:00\",\"2010-10-15T00:00:00\",\"2010-10-22T00:00:00\",\"2010-10-29T00:00:00\",\"2010-11-05T00:00:00\",\"2010-11-12T00:00:00\",\"2010-11-19T00:00:00\",\"2010-11-26T00:00:00\",\"2010-12-03T00:00:00\",\"2010-12-10T00:00:00\",\"2010-12-17T00:00:00\",\"2010-12-24T00:00:00\",\"2010-12-31T00:00:00\",\"2011-01-07T00:00:00\",\"2011-01-14T00:00:00\",\"2011-01-21T00:00:00\",\"2011-01-28T00:00:00\",\"2011-02-04T00:00:00\",\"2011-02-11T00:00:00\",\"2011-02-18T00:00:00\",\"2011-02-25T00:00:00\",\"2011-03-04T00:00:00\",\"2011-03-11T00:00:00\",\"2011-03-18T00:00:00\",\"2011-03-25T00:00:00\",\"2011-04-01T00:00:00\",\"2011-04-08T00:00:00\",\"2011-04-15T00:00:00\",\"2011-04-22T00:00:00\",\"2011-04-29T00:00:00\",\"2011-05-06T00:00:00\",\"2011-05-13T00:00:00\",\"2011-05-20T00:00:00\",\"2011-05-27T00:00:00\",\"2011-06-03T00:00:00\",\"2011-06-10T00:00:00\",\"2011-06-17T00:00:00\",\"2011-06-24T00:00:00\",\"2011-07-01T00:00:00\",\"2011-07-08T00:00:00\",\"2011-07-15T00:00:00\",\"2011-07-22T00:00:00\",\"2011-07-29T00:00:00\",\"2011-08-05T00:00:00\",\"2011-08-12T00:00:00\",\"2011-08-19T00:00:00\",\"2011-08-26T00:00:00\",\"2011-09-02T00:00:00\",\"2011-09-09T00:00:00\",\"2011-09-16T00:00:00\",\"2011-09-23T00:00:00\",\"2011-09-30T00:00:00\",\"2011-10-07T00:00:00\",\"2011-10-14T00:00:00\",\"2011-10-21T00:00:00\",\"2011-10-28T00:00:00\",\"2011-11-04T00:00:00\",\"2011-11-11T00:00:00\",\"2011-11-18T00:00:00\",\"2011-11-25T00:00:00\",\"2011-12-02T00:00:00\",\"2011-12-09T00:00:00\",\"2011-12-16T00:00:00\",\"2011-12-23T00:00:00\",\"2011-12-30T00:00:00\",\"2012-01-06T00:00:00\",\"2012-01-13T00:00:00\",\"2012-01-20T00:00:00\",\"2012-01-27T00:00:00\",\"2012-02-03T00:00:00\",\"2012-02-10T00:00:00\",\"2012-02-17T00:00:00\",\"2012-02-24T00:00:00\",\"2012-03-02T00:00:00\",\"2012-03-09T00:00:00\",\"2012-03-16T00:00:00\",\"2012-03-23T00:00:00\",\"2012-03-30T00:00:00\",\"2012-04-06T00:00:00\",\"2012-04-13T00:00:00\",\"2012-04-20T00:00:00\",\"2012-04-27T00:00:00\",\"2012-05-04T00:00:00\",\"2012-05-11T00:00:00\",\"2012-05-18T00:00:00\",\"2012-05-25T00:00:00\",\"2012-06-01T00:00:00\",\"2012-06-08T00:00:00\",\"2012-06-15T00:00:00\",\"2012-06-22T00:00:00\",\"2012-06-29T00:00:00\",\"2012-07-06T00:00:00\",\"2012-07-13T00:00:00\",\"2012-07-20T00:00:00\",\"2012-07-27T00:00:00\",\"2012-08-03T00:00:00\",\"2012-08-10T00:00:00\",\"2012-08-17T00:00:00\",\"2012-08-24T00:00:00\",\"2012-08-31T00:00:00\",\"2012-09-07T00:00:00\",\"2012-09-14T00:00:00\",\"2012-09-21T00:00:00\",\"2012-09-28T00:00:00\",\"2012-10-05T00:00:00\",\"2012-10-12T00:00:00\",\"2012-10-19T00:00:00\",\"2012-10-26T00:00:00\",\"2010-02-05T00:00:00\",\"2010-02-12T00:00:00\",\"2010-02-19T00:00:00\",\"2010-02-26T00:00:00\",\"2010-03-05T00:00:00\",\"2010-03-12T00:00:00\",\"2010-03-19T00:00:00\",\"2010-03-26T00:00:00\",\"2010-04-02T00:00:00\",\"2010-04-09T00:00:00\",\"2010-04-16T00:00:00\",\"2010-04-23T00:00:00\",\"2010-04-30T00:00:00\",\"2010-05-07T00:00:00\",\"2010-05-14T00:00:00\",\"2010-05-21T00:00:00\",\"2010-05-28T00:00:00\",\"2010-06-04T00:00:00\",\"2010-06-11T00:00:00\",\"2010-06-18T00:00:00\",\"2010-06-25T00:00:00\",\"2010-07-02T00:00:00\",\"2010-07-09T00:00:00\",\"2010-07-16T00:00:00\",\"2010-07-23T00:00:00\",\"2010-07-30T00:00:00\",\"2010-08-06T00:00:00\",\"2010-08-13T00:00:00\",\"2010-08-20T00:00:00\",\"2010-08-27T00:00:00\",\"2010-09-03T00:00:00\",\"2010-09-10T00:00:00\",\"2010-09-17T00:00:00\",\"2010-09-24T00:00:00\",\"2010-10-01T00:00:00\",\"2010-10-08T00:00:00\",\"2010-10-15T00:00:00\",\"2010-10-22T00:00:00\",\"2010-10-29T00:00:00\",\"2010-11-05T00:00:00\",\"2010-11-12T00:00:00\",\"2010-11-19T00:00:00\",\"2010-11-26T00:00:00\",\"2010-12-03T00:00:00\",\"2010-12-10T00:00:00\",\"2010-12-17T00:00:00\",\"2010-12-24T00:00:00\",\"2010-12-31T00:00:00\",\"2011-01-07T00:00:00\",\"2011-01-14T00:00:00\",\"2011-01-21T00:00:00\",\"2011-01-28T00:00:00\",\"2011-02-04T00:00:00\",\"2011-02-11T00:00:00\",\"2011-02-18T00:00:00\",\"2011-02-25T00:00:00\",\"2011-03-04T00:00:00\",\"2011-03-11T00:00:00\",\"2011-03-18T00:00:00\",\"2011-03-25T00:00:00\",\"2011-04-01T00:00:00\",\"2011-04-08T00:00:00\",\"2011-04-15T00:00:00\",\"2011-04-22T00:00:00\",\"2011-04-29T00:00:00\",\"2011-05-06T00:00:00\",\"2011-05-13T00:00:00\",\"2011-05-20T00:00:00\",\"2011-05-27T00:00:00\",\"2011-06-03T00:00:00\",\"2011-06-10T00:00:00\",\"2011-06-17T00:00:00\",\"2011-06-24T00:00:00\",\"2011-07-01T00:00:00\",\"2011-07-08T00:00:00\",\"2011-07-15T00:00:00\",\"2011-07-22T00:00:00\",\"2011-07-29T00:00:00\",\"2011-08-05T00:00:00\",\"2011-08-12T00:00:00\",\"2011-08-19T00:00:00\",\"2011-08-26T00:00:00\",\"2011-09-02T00:00:00\",\"2011-09-09T00:00:00\",\"2011-09-16T00:00:00\",\"2011-09-23T00:00:00\",\"2011-09-30T00:00:00\",\"2011-10-07T00:00:00\",\"2011-10-14T00:00:00\",\"2011-10-21T00:00:00\",\"2011-10-28T00:00:00\",\"2011-11-04T00:00:00\",\"2011-11-11T00:00:00\",\"2011-11-18T00:00:00\",\"2011-11-25T00:00:00\",\"2011-12-02T00:00:00\",\"2011-12-09T00:00:00\",\"2011-12-16T00:00:00\",\"2011-12-23T00:00:00\",\"2011-12-30T00:00:00\",\"2012-01-06T00:00:00\",\"2012-01-13T00:00:00\",\"2012-01-20T00:00:00\",\"2012-01-27T00:00:00\",\"2012-02-03T00:00:00\",\"2012-02-10T00:00:00\",\"2012-02-17T00:00:00\",\"2012-02-24T00:00:00\",\"2012-03-02T00:00:00\",\"2012-03-09T00:00:00\",\"2012-03-16T00:00:00\",\"2012-03-23T00:00:00\",\"2012-03-30T00:00:00\",\"2012-04-06T00:00:00\",\"2012-04-13T00:00:00\",\"2012-04-20T00:00:00\",\"2012-04-27T00:00:00\",\"2012-05-04T00:00:00\",\"2012-05-11T00:00:00\",\"2012-05-18T00:00:00\",\"2012-05-25T00:00:00\",\"2012-06-01T00:00:00\",\"2012-06-08T00:00:00\",\"2012-06-15T00:00:00\",\"2012-06-22T00:00:00\",\"2012-06-29T00:00:00\",\"2012-07-06T00:00:00\",\"2012-07-13T00:00:00\",\"2012-07-20T00:00:00\",\"2012-07-27T00:00:00\",\"2012-08-03T00:00:00\",\"2012-08-10T00:00:00\",\"2012-08-17T00:00:00\",\"2012-08-24T00:00:00\",\"2012-08-31T00:00:00\",\"2012-09-07T00:00:00\",\"2012-09-14T00:00:00\",\"2012-09-21T00:00:00\",\"2012-09-28T00:00:00\",\"2012-10-05T00:00:00\",\"2012-10-12T00:00:00\",\"2012-10-19T00:00:00\",\"2012-10-26T00:00:00\",\"2010-02-05T00:00:00\",\"2010-02-12T00:00:00\",\"2010-02-19T00:00:00\",\"2010-02-26T00:00:00\",\"2010-03-05T00:00:00\",\"2010-03-12T00:00:00\",\"2010-03-19T00:00:00\",\"2010-03-26T00:00:00\",\"2010-04-02T00:00:00\",\"2010-04-09T00:00:00\",\"2010-04-16T00:00:00\",\"2010-04-23T00:00:00\",\"2010-04-30T00:00:00\",\"2010-05-07T00:00:00\",\"2010-05-14T00:00:00\",\"2010-05-21T00:00:00\",\"2010-05-28T00:00:00\",\"2010-06-04T00:00:00\",\"2010-06-11T00:00:00\",\"2010-06-18T00:00:00\",\"2010-06-25T00:00:00\",\"2010-07-02T00:00:00\",\"2010-07-09T00:00:00\",\"2010-07-16T00:00:00\",\"2010-07-23T00:00:00\",\"2010-07-30T00:00:00\",\"2010-08-06T00:00:00\",\"2010-08-13T00:00:00\",\"2010-08-20T00:00:00\",\"2010-08-27T00:00:00\",\"2010-09-03T00:00:00\",\"2010-09-10T00:00:00\",\"2010-09-17T00:00:00\",\"2010-09-24T00:00:00\",\"2010-10-01T00:00:00\",\"2010-10-08T00:00:00\",\"2010-10-15T00:00:00\",\"2010-10-22T00:00:00\",\"2010-10-29T00:00:00\",\"2010-11-05T00:00:00\",\"2010-11-12T00:00:00\",\"2010-11-19T00:00:00\",\"2010-11-26T00:00:00\",\"2010-12-03T00:00:00\",\"2010-12-10T00:00:00\",\"2010-12-17T00:00:00\",\"2010-12-24T00:00:00\",\"2010-12-31T00:00:00\",\"2011-01-07T00:00:00\",\"2011-01-14T00:00:00\",\"2011-01-21T00:00:00\",\"2011-01-28T00:00:00\",\"2011-02-04T00:00:00\",\"2011-02-11T00:00:00\",\"2011-02-18T00:00:00\",\"2011-02-25T00:00:00\",\"2011-03-04T00:00:00\",\"2011-03-11T00:00:00\",\"2011-03-18T00:00:00\",\"2011-03-25T00:00:00\",\"2011-04-01T00:00:00\",\"2011-04-08T00:00:00\",\"2011-04-15T00:00:00\",\"2011-04-22T00:00:00\",\"2011-04-29T00:00:00\",\"2011-05-06T00:00:00\",\"2011-05-13T00:00:00\",\"2011-05-20T00:00:00\",\"2011-05-27T00:00:00\",\"2011-06-03T00:00:00\",\"2011-06-10T00:00:00\",\"2011-06-17T00:00:00\",\"2011-06-24T00:00:00\",\"2011-07-01T00:00:00\",\"2011-07-08T00:00:00\",\"2011-07-15T00:00:00\",\"2011-07-22T00:00:00\",\"2011-07-29T00:00:00\",\"2011-08-05T00:00:00\",\"2011-08-12T00:00:00\",\"2011-08-19T00:00:00\",\"2011-08-26T00:00:00\",\"2011-09-02T00:00:00\",\"2011-09-09T00:00:00\",\"2011-09-16T00:00:00\",\"2011-09-23T00:00:00\",\"2011-09-30T00:00:00\",\"2011-10-07T00:00:00\",\"2011-10-14T00:00:00\",\"2011-10-21T00:00:00\",\"2011-10-28T00:00:00\",\"2011-11-04T00:00:00\",\"2011-11-11T00:00:00\",\"2011-11-18T00:00:00\",\"2011-11-25T00:00:00\",\"2011-12-02T00:00:00\",\"2011-12-09T00:00:00\",\"2011-12-16T00:00:00\",\"2011-12-23T00:00:00\",\"2011-12-30T00:00:00\",\"2012-01-06T00:00:00\",\"2012-01-13T00:00:00\",\"2012-01-20T00:00:00\",\"2012-01-27T00:00:00\",\"2012-02-03T00:00:00\",\"2012-02-10T00:00:00\",\"2012-02-17T00:00:00\",\"2012-02-24T00:00:00\",\"2012-03-02T00:00:00\",\"2012-03-09T00:00:00\",\"2012-03-16T00:00:00\",\"2012-03-23T00:00:00\",\"2012-03-30T00:00:00\",\"2012-04-06T00:00:00\",\"2012-04-13T00:00:00\",\"2012-04-20T00:00:00\",\"2012-04-27T00:00:00\",\"2012-05-04T00:00:00\",\"2012-05-11T00:00:00\",\"2012-05-18T00:00:00\",\"2012-05-25T00:00:00\",\"2012-06-01T00:00:00\",\"2012-06-08T00:00:00\",\"2012-06-15T00:00:00\",\"2012-06-22T00:00:00\",\"2012-06-29T00:00:00\",\"2012-07-06T00:00:00\",\"2012-07-13T00:00:00\",\"2012-07-20T00:00:00\",\"2012-07-27T00:00:00\",\"2012-08-03T00:00:00\",\"2012-08-10T00:00:00\",\"2012-08-17T00:00:00\",\"2012-08-24T00:00:00\",\"2012-08-31T00:00:00\",\"2012-09-07T00:00:00\",\"2012-09-14T00:00:00\",\"2012-09-21T00:00:00\",\"2012-09-28T00:00:00\",\"2012-10-05T00:00:00\",\"2012-10-12T00:00:00\",\"2012-10-19T00:00:00\",\"2012-10-26T00:00:00\",\"2010-02-05T00:00:00\",\"2010-02-12T00:00:00\",\"2010-02-19T00:00:00\",\"2010-02-26T00:00:00\",\"2010-03-05T00:00:00\",\"2010-03-12T00:00:00\",\"2010-03-19T00:00:00\",\"2010-03-26T00:00:00\",\"2010-04-02T00:00:00\",\"2010-04-09T00:00:00\",\"2010-04-16T00:00:00\",\"2010-04-23T00:00:00\",\"2010-04-30T00:00:00\",\"2010-05-07T00:00:00\",\"2010-05-14T00:00:00\",\"2010-05-21T00:00:00\",\"2010-05-28T00:00:00\",\"2010-06-04T00:00:00\",\"2010-06-11T00:00:00\",\"2010-06-18T00:00:00\",\"2010-06-25T00:00:00\",\"2010-07-02T00:00:00\",\"2010-07-09T00:00:00\",\"2010-07-16T00:00:00\",\"2010-07-23T00:00:00\",\"2010-07-30T00:00:00\",\"2010-08-06T00:00:00\",\"2010-08-13T00:00:00\",\"2010-08-20T00:00:00\",\"2010-08-27T00:00:00\",\"2010-09-03T00:00:00\",\"2010-09-10T00:00:00\",\"2010-09-17T00:00:00\",\"2010-09-24T00:00:00\",\"2010-10-01T00:00:00\",\"2010-10-08T00:00:00\",\"2010-10-15T00:00:00\",\"2010-10-22T00:00:00\",\"2010-10-29T00:00:00\",\"2010-11-05T00:00:00\",\"2010-11-12T00:00:00\",\"2010-11-19T00:00:00\",\"2010-11-26T00:00:00\",\"2010-12-03T00:00:00\",\"2010-12-10T00:00:00\",\"2010-12-17T00:00:00\",\"2010-12-24T00:00:00\",\"2010-12-31T00:00:00\",\"2011-01-07T00:00:00\",\"2011-01-14T00:00:00\",\"2011-01-21T00:00:00\",\"2011-01-28T00:00:00\",\"2011-02-04T00:00:00\",\"2011-02-11T00:00:00\",\"2011-02-18T00:00:00\",\"2011-02-25T00:00:00\",\"2011-03-04T00:00:00\",\"2011-03-11T00:00:00\",\"2011-03-18T00:00:00\",\"2011-03-25T00:00:00\",\"2011-04-01T00:00:00\",\"2011-04-08T00:00:00\",\"2011-04-15T00:00:00\",\"2011-04-22T00:00:00\",\"2011-04-29T00:00:00\",\"2011-05-06T00:00:00\",\"2011-05-13T00:00:00\",\"2011-05-20T00:00:00\",\"2011-05-27T00:00:00\",\"2011-06-03T00:00:00\",\"2011-06-10T00:00:00\",\"2011-06-17T00:00:00\",\"2011-06-24T00:00:00\",\"2011-07-01T00:00:00\",\"2011-07-08T00:00:00\",\"2011-07-15T00:00:00\",\"2011-07-22T00:00:00\",\"2011-07-29T00:00:00\",\"2011-08-05T00:00:00\",\"2011-08-12T00:00:00\",\"2011-08-19T00:00:00\",\"2011-08-26T00:00:00\",\"2011-09-02T00:00:00\",\"2011-09-09T00:00:00\",\"2011-09-16T00:00:00\",\"2011-09-23T00:00:00\",\"2011-09-30T00:00:00\",\"2011-10-07T00:00:00\",\"2011-10-14T00:00:00\",\"2011-10-21T00:00:00\",\"2011-10-28T00:00:00\",\"2011-11-04T00:00:00\",\"2011-11-11T00:00:00\",\"2011-11-18T00:00:00\",\"2011-11-25T00:00:00\",\"2011-12-02T00:00:00\",\"2011-12-09T00:00:00\",\"2011-12-16T00:00:00\",\"2011-12-23T00:00:00\",\"2011-12-30T00:00:00\",\"2012-01-06T00:00:00\",\"2012-01-13T00:00:00\",\"2012-01-20T00:00:00\",\"2012-01-27T00:00:00\",\"2012-02-03T00:00:00\",\"2012-02-10T00:00:00\",\"2012-02-17T00:00:00\",\"2012-02-24T00:00:00\",\"2012-03-02T00:00:00\",\"2012-03-09T00:00:00\",\"2012-03-16T00:00:00\",\"2012-03-23T00:00:00\",\"2012-03-30T00:00:00\",\"2012-04-06T00:00:00\",\"2012-04-13T00:00:00\",\"2012-04-20T00:00:00\",\"2012-04-27T00:00:00\",\"2012-05-04T00:00:00\",\"2012-05-11T00:00:00\",\"2012-05-18T00:00:00\",\"2012-05-25T00:00:00\",\"2012-06-01T00:00:00\",\"2012-06-08T00:00:00\",\"2012-06-15T00:00:00\",\"2012-06-22T00:00:00\",\"2012-06-29T00:00:00\",\"2012-07-06T00:00:00\",\"2012-07-13T00:00:00\",\"2012-07-20T00:00:00\",\"2012-07-27T00:00:00\",\"2012-08-03T00:00:00\",\"2012-08-10T00:00:00\",\"2012-08-17T00:00:00\",\"2012-08-24T00:00:00\",\"2012-08-31T00:00:00\",\"2012-09-07T00:00:00\",\"2012-09-14T00:00:00\",\"2012-09-21T00:00:00\",\"2012-09-28T00:00:00\",\"2012-10-05T00:00:00\",\"2012-10-12T00:00:00\",\"2012-10-19T00:00:00\",\"2012-10-26T00:00:00\",\"2010-02-05T00:00:00\",\"2010-02-12T00:00:00\",\"2010-02-19T00:00:00\",\"2010-02-26T00:00:00\",\"2010-03-05T00:00:00\",\"2010-03-12T00:00:00\",\"2010-03-19T00:00:00\",\"2010-03-26T00:00:00\",\"2010-04-02T00:00:00\",\"2010-04-09T00:00:00\",\"2010-04-16T00:00:00\",\"2010-04-23T00:00:00\",\"2010-04-30T00:00:00\",\"2010-05-07T00:00:00\",\"2010-05-14T00:00:00\",\"2010-05-21T00:00:00\",\"2010-05-28T00:00:00\",\"2010-06-04T00:00:00\",\"2010-06-11T00:00:00\",\"2010-06-18T00:00:00\",\"2010-06-25T00:00:00\",\"2010-07-02T00:00:00\",\"2010-07-09T00:00:00\",\"2010-07-16T00:00:00\",\"2010-07-23T00:00:00\",\"2010-07-30T00:00:00\",\"2010-08-06T00:00:00\",\"2010-08-13T00:00:00\",\"2010-08-20T00:00:00\",\"2010-08-27T00:00:00\",\"2010-09-03T00:00:00\",\"2010-09-10T00:00:00\",\"2010-09-17T00:00:00\",\"2010-09-24T00:00:00\",\"2010-10-01T00:00:00\",\"2010-10-08T00:00:00\",\"2010-10-15T00:00:00\",\"2010-10-22T00:00:00\",\"2010-10-29T00:00:00\",\"2010-11-05T00:00:00\",\"2010-11-12T00:00:00\",\"2010-11-19T00:00:00\",\"2010-11-26T00:00:00\",\"2010-12-03T00:00:00\",\"2010-12-10T00:00:00\",\"2010-12-17T00:00:00\",\"2010-12-24T00:00:00\",\"2010-12-31T00:00:00\",\"2011-01-07T00:00:00\",\"2011-01-14T00:00:00\",\"2011-01-21T00:00:00\",\"2011-01-28T00:00:00\",\"2011-02-04T00:00:00\",\"2011-02-11T00:00:00\",\"2011-02-18T00:00:00\",\"2011-02-25T00:00:00\",\"2011-03-04T00:00:00\",\"2011-03-11T00:00:00\",\"2011-03-18T00:00:00\",\"2011-03-25T00:00:00\",\"2011-04-01T00:00:00\",\"2011-04-08T00:00:00\",\"2011-04-15T00:00:00\",\"2011-04-22T00:00:00\",\"2011-04-29T00:00:00\",\"2011-05-06T00:00:00\",\"2011-05-13T00:00:00\",\"2011-05-20T00:00:00\",\"2011-05-27T00:00:00\",\"2011-06-03T00:00:00\",\"2011-06-10T00:00:00\",\"2011-06-17T00:00:00\",\"2011-06-24T00:00:00\",\"2011-07-01T00:00:00\",\"2011-07-08T00:00:00\",\"2011-07-15T00:00:00\",\"2011-07-22T00:00:00\",\"2011-07-29T00:00:00\",\"2011-08-05T00:00:00\",\"2011-08-12T00:00:00\",\"2011-08-19T00:00:00\",\"2011-08-26T00:00:00\",\"2011-09-02T00:00:00\",\"2011-09-09T00:00:00\",\"2011-09-16T00:00:00\",\"2011-09-23T00:00:00\",\"2011-09-30T00:00:00\",\"2011-10-07T00:00:00\",\"2011-10-14T00:00:00\",\"2011-10-21T00:00:00\",\"2011-10-28T00:00:00\",\"2011-11-04T00:00:00\",\"2011-11-11T00:00:00\",\"2011-11-18T00:00:00\",\"2011-11-25T00:00:00\",\"2011-12-02T00:00:00\",\"2011-12-09T00:00:00\",\"2011-12-16T00:00:00\",\"2011-12-23T00:00:00\",\"2011-12-30T00:00:00\",\"2012-01-06T00:00:00\",\"2012-01-13T00:00:00\",\"2012-01-20T00:00:00\",\"2012-01-27T00:00:00\",\"2012-02-03T00:00:00\",\"2012-02-10T00:00:00\",\"2012-02-17T00:00:00\",\"2012-02-24T00:00:00\",\"2012-03-02T00:00:00\",\"2012-03-09T00:00:00\",\"2012-03-16T00:00:00\",\"2012-03-23T00:00:00\",\"2012-03-30T00:00:00\",\"2012-04-06T00:00:00\",\"2012-04-13T00:00:00\",\"2012-04-20T00:00:00\",\"2012-04-27T00:00:00\",\"2012-05-04T00:00:00\",\"2012-05-11T00:00:00\",\"2012-05-18T00:00:00\",\"2012-05-25T00:00:00\",\"2012-06-01T00:00:00\",\"2012-06-08T00:00:00\",\"2012-06-15T00:00:00\",\"2012-06-22T00:00:00\",\"2012-06-29T00:00:00\",\"2012-07-06T00:00:00\",\"2012-07-13T00:00:00\",\"2012-07-20T00:00:00\",\"2012-07-27T00:00:00\",\"2012-08-03T00:00:00\",\"2012-08-10T00:00:00\",\"2012-08-17T00:00:00\",\"2012-08-24T00:00:00\",\"2012-08-31T00:00:00\",\"2012-09-07T00:00:00\",\"2012-09-14T00:00:00\",\"2012-09-21T00:00:00\",\"2012-09-28T00:00:00\",\"2012-10-05T00:00:00\",\"2012-10-12T00:00:00\",\"2012-10-19T00:00:00\",\"2012-10-26T00:00:00\",\"2010-02-05T00:00:00\",\"2010-02-12T00:00:00\",\"2010-02-19T00:00:00\",\"2010-02-26T00:00:00\",\"2010-03-05T00:00:00\",\"2010-03-12T00:00:00\",\"2010-03-19T00:00:00\",\"2010-03-26T00:00:00\",\"2010-04-02T00:00:00\",\"2010-04-09T00:00:00\",\"2010-04-16T00:00:00\",\"2010-04-23T00:00:00\",\"2010-05-14T00:00:00\",\"2010-06-04T00:00:00\",\"2010-06-11T00:00:00\",\"2010-08-20T00:00:00\",\"2010-08-27T00:00:00\",\"2010-09-03T00:00:00\",\"2010-09-10T00:00:00\",\"2010-09-17T00:00:00\",\"2010-09-24T00:00:00\",\"2010-10-01T00:00:00\",\"2010-10-08T00:00:00\",\"2010-10-15T00:00:00\",\"2010-10-22T00:00:00\",\"2010-10-29T00:00:00\",\"2010-11-05T00:00:00\",\"2010-11-12T00:00:00\",\"2010-11-19T00:00:00\",\"2010-11-26T00:00:00\",\"2010-12-03T00:00:00\",\"2010-12-10T00:00:00\",\"2010-12-17T00:00:00\",\"2010-12-24T00:00:00\",\"2010-12-31T00:00:00\",\"2011-01-07T00:00:00\",\"2011-01-14T00:00:00\",\"2011-01-21T00:00:00\",\"2011-01-28T00:00:00\",\"2011-02-04T00:00:00\",\"2011-02-11T00:00:00\",\"2011-02-18T00:00:00\",\"2011-02-25T00:00:00\",\"2011-03-04T00:00:00\",\"2011-03-11T00:00:00\",\"2011-03-18T00:00:00\",\"2011-03-25T00:00:00\",\"2011-04-01T00:00:00\",\"2011-04-08T00:00:00\",\"2011-04-15T00:00:00\",\"2011-04-22T00:00:00\",\"2011-04-29T00:00:00\",\"2011-05-06T00:00:00\",\"2011-05-13T00:00:00\",\"2011-05-20T00:00:00\",\"2011-05-27T00:00:00\",\"2011-06-10T00:00:00\",\"2011-06-17T00:00:00\",\"2011-07-01T00:00:00\",\"2011-07-15T00:00:00\",\"2011-08-26T00:00:00\",\"2011-09-02T00:00:00\",\"2011-09-09T00:00:00\",\"2011-09-16T00:00:00\",\"2011-09-23T00:00:00\",\"2011-09-30T00:00:00\",\"2011-10-07T00:00:00\",\"2011-10-14T00:00:00\",\"2011-10-21T00:00:00\",\"2011-10-28T00:00:00\",\"2011-11-04T00:00:00\",\"2011-11-11T00:00:00\",\"2011-11-18T00:00:00\",\"2011-11-25T00:00:00\",\"2011-12-02T00:00:00\",\"2011-12-09T00:00:00\",\"2011-12-16T00:00:00\",\"2011-12-23T00:00:00\",\"2011-12-30T00:00:00\",\"2012-01-06T00:00:00\",\"2012-01-13T00:00:00\",\"2012-01-20T00:00:00\",\"2012-01-27T00:00:00\",\"2012-02-03T00:00:00\",\"2012-02-10T00:00:00\",\"2012-02-17T00:00:00\",\"2012-02-24T00:00:00\",\"2012-03-02T00:00:00\",\"2012-03-09T00:00:00\",\"2012-03-16T00:00:00\",\"2012-03-23T00:00:00\",\"2012-03-30T00:00:00\",\"2012-04-06T00:00:00\",\"2012-04-13T00:00:00\",\"2012-04-20T00:00:00\",\"2012-04-27T00:00:00\",\"2012-05-04T00:00:00\",\"2012-05-11T00:00:00\",\"2012-05-25T00:00:00\",\"2012-06-01T00:00:00\",\"2012-06-08T00:00:00\",\"2012-07-20T00:00:00\",\"2012-08-17T00:00:00\",\"2012-08-24T00:00:00\",\"2012-08-31T00:00:00\",\"2012-09-07T00:00:00\",\"2012-09-14T00:00:00\",\"2012-09-21T00:00:00\",\"2012-09-28T00:00:00\",\"2012-10-05T00:00:00\",\"2012-10-12T00:00:00\",\"2012-10-19T00:00:00\",\"2012-10-26T00:00:00\",\"2010-02-05T00:00:00\",\"2010-02-12T00:00:00\",\"2010-02-19T00:00:00\",\"2010-02-26T00:00:00\",\"2010-03-05T00:00:00\",\"2010-03-12T00:00:00\",\"2010-03-19T00:00:00\",\"2010-03-26T00:00:00\",\"2010-04-02T00:00:00\",\"2010-04-09T00:00:00\",\"2010-04-16T00:00:00\",\"2010-04-23T00:00:00\",\"2010-04-30T00:00:00\",\"2010-05-07T00:00:00\",\"2010-05-14T00:00:00\",\"2010-05-21T00:00:00\",\"2010-05-28T00:00:00\",\"2010-06-04T00:00:00\",\"2010-06-11T00:00:00\",\"2010-06-18T00:00:00\",\"2010-06-25T00:00:00\",\"2010-07-02T00:00:00\",\"2010-07-09T00:00:00\",\"2010-07-16T00:00:00\",\"2010-07-23T00:00:00\",\"2010-07-30T00:00:00\",\"2010-08-06T00:00:00\",\"2010-08-13T00:00:00\",\"2010-08-20T00:00:00\",\"2010-08-27T00:00:00\",\"2010-09-03T00:00:00\",\"2010-09-10T00:00:00\",\"2010-09-17T00:00:00\",\"2010-09-24T00:00:00\",\"2010-10-01T00:00:00\",\"2010-10-08T00:00:00\",\"2010-10-15T00:00:00\",\"2010-10-22T00:00:00\",\"2010-10-29T00:00:00\",\"2010-11-05T00:00:00\",\"2010-11-12T00:00:00\",\"2010-11-19T00:00:00\",\"2010-11-26T00:00:00\",\"2010-12-03T00:00:00\",\"2010-12-10T00:00:00\",\"2010-12-17T00:00:00\",\"2010-12-24T00:00:00\",\"2010-12-31T00:00:00\",\"2011-01-07T00:00:00\",\"2011-01-14T00:00:00\",\"2011-01-21T00:00:00\",\"2011-01-28T00:00:00\",\"2011-02-04T00:00:00\",\"2011-02-11T00:00:00\",\"2011-02-18T00:00:00\",\"2011-02-25T00:00:00\",\"2011-03-04T00:00:00\",\"2011-03-11T00:00:00\",\"2011-03-18T00:00:00\",\"2011-03-25T00:00:00\",\"2011-04-01T00:00:00\",\"2011-04-08T00:00:00\",\"2011-04-15T00:00:00\",\"2011-04-22T00:00:00\",\"2011-04-29T00:00:00\",\"2011-05-06T00:00:00\",\"2011-05-13T00:00:00\",\"2011-05-20T00:00:00\",\"2011-05-27T00:00:00\",\"2011-06-03T00:00:00\",\"2011-06-10T00:00:00\",\"2011-06-17T00:00:00\",\"2011-06-24T00:00:00\",\"2011-07-01T00:00:00\",\"2011-07-08T00:00:00\",\"2011-07-15T00:00:00\",\"2011-07-22T00:00:00\",\"2011-07-29T00:00:00\",\"2011-08-05T00:00:00\",\"2011-08-12T00:00:00\",\"2011-08-19T00:00:00\",\"2011-08-26T00:00:00\",\"2011-09-02T00:00:00\",\"2011-09-09T00:00:00\",\"2011-09-16T00:00:00\",\"2011-09-23T00:00:00\",\"2011-09-30T00:00:00\",\"2011-10-07T00:00:00\",\"2011-10-14T00:00:00\",\"2011-10-21T00:00:00\",\"2011-10-28T00:00:00\",\"2011-11-04T00:00:00\",\"2011-11-11T00:00:00\",\"2011-11-18T00:00:00\",\"2011-11-25T00:00:00\",\"2011-12-02T00:00:00\",\"2011-12-09T00:00:00\",\"2011-12-16T00:00:00\",\"2011-12-23T00:00:00\",\"2011-12-30T00:00:00\",\"2012-01-06T00:00:00\",\"2012-01-13T00:00:00\",\"2012-01-20T00:00:00\",\"2012-01-27T00:00:00\",\"2012-02-03T00:00:00\",\"2012-02-10T00:00:00\",\"2012-02-17T00:00:00\",\"2012-02-24T00:00:00\",\"2012-03-02T00:00:00\",\"2012-03-09T00:00:00\",\"2012-03-16T00:00:00\",\"2012-03-23T00:00:00\",\"2012-03-30T00:00:00\",\"2012-04-06T00:00:00\",\"2012-04-13T00:00:00\",\"2012-04-20T00:00:00\",\"2012-04-27T00:00:00\",\"2012-05-04T00:00:00\",\"2012-05-11T00:00:00\",\"2012-05-18T00:00:00\",\"2012-05-25T00:00:00\",\"2012-06-01T00:00:00\",\"2012-06-08T00:00:00\",\"2012-06-15T00:00:00\",\"2012-06-22T00:00:00\",\"2012-06-29T00:00:00\",\"2012-07-06T00:00:00\",\"2012-07-13T00:00:00\",\"2012-07-20T00:00:00\",\"2012-07-27T00:00:00\",\"2012-08-03T00:00:00\",\"2012-08-10T00:00:00\",\"2012-08-17T00:00:00\",\"2012-08-24T00:00:00\",\"2012-08-31T00:00:00\",\"2012-09-07T00:00:00\",\"2012-09-14T00:00:00\",\"2012-09-21T00:00:00\",\"2012-09-28T00:00:00\",\"2012-10-05T00:00:00\",\"2012-10-12T00:00:00\",\"2012-10-19T00:00:00\",\"2012-10-26T00:00:00\",\"2010-02-05T00:00:00\",\"2010-02-12T00:00:00\",\"2010-02-19T00:00:00\",\"2010-02-26T00:00:00\",\"2010-03-05T00:00:00\",\"2010-03-12T00:00:00\",\"2010-03-19T00:00:00\",\"2010-03-26T00:00:00\",\"2010-04-02T00:00:00\",\"2010-04-09T00:00:00\",\"2010-04-16T00:00:00\",\"2010-04-23T00:00:00\",\"2010-04-30T00:00:00\",\"2010-05-07T00:00:00\",\"2010-05-14T00:00:00\",\"2010-05-21T00:00:00\",\"2010-05-28T00:00:00\",\"2010-06-04T00:00:00\",\"2010-06-11T00:00:00\",\"2010-06-18T00:00:00\",\"2010-06-25T00:00:00\",\"2010-07-02T00:00:00\",\"2010-07-09T00:00:00\",\"2010-07-16T00:00:00\",\"2010-07-23T00:00:00\",\"2010-07-30T00:00:00\",\"2010-08-06T00:00:00\",\"2010-08-13T00:00:00\",\"2010-08-20T00:00:00\",\"2010-08-27T00:00:00\",\"2010-09-03T00:00:00\",\"2010-09-10T00:00:00\",\"2010-09-17T00:00:00\",\"2010-09-24T00:00:00\",\"2010-10-01T00:00:00\",\"2010-10-08T00:00:00\",\"2010-10-15T00:00:00\",\"2010-10-22T00:00:00\",\"2010-10-29T00:00:00\",\"2010-11-05T00:00:00\",\"2010-11-12T00:00:00\",\"2010-11-19T00:00:00\",\"2010-11-26T00:00:00\",\"2010-12-03T00:00:00\",\"2010-12-10T00:00:00\",\"2010-12-17T00:00:00\",\"2010-12-24T00:00:00\",\"2010-12-31T00:00:00\",\"2011-01-07T00:00:00\",\"2011-01-14T00:00:00\",\"2011-01-21T00:00:00\",\"2011-01-28T00:00:00\",\"2011-02-04T00:00:00\",\"2011-02-11T00:00:00\",\"2011-02-18T00:00:00\",\"2011-02-25T00:00:00\",\"2011-03-04T00:00:00\",\"2011-03-11T00:00:00\",\"2011-03-18T00:00:00\",\"2011-03-25T00:00:00\",\"2011-04-01T00:00:00\",\"2011-04-08T00:00:00\",\"2011-04-15T00:00:00\",\"2011-04-22T00:00:00\",\"2011-04-29T00:00:00\",\"2011-05-06T00:00:00\",\"2011-05-13T00:00:00\",\"2011-05-20T00:00:00\",\"2011-05-27T00:00:00\",\"2011-06-03T00:00:00\",\"2011-06-10T00:00:00\",\"2011-06-17T00:00:00\",\"2011-06-24T00:00:00\",\"2011-07-01T00:00:00\",\"2011-07-08T00:00:00\",\"2011-07-15T00:00:00\",\"2011-07-22T00:00:00\",\"2011-07-29T00:00:00\",\"2011-08-05T00:00:00\",\"2011-08-12T00:00:00\",\"2011-08-19T00:00:00\",\"2011-08-26T00:00:00\",\"2011-09-02T00:00:00\",\"2011-09-09T00:00:00\",\"2011-09-16T00:00:00\",\"2011-09-23T00:00:00\",\"2011-09-30T00:00:00\",\"2011-10-07T00:00:00\",\"2011-10-14T00:00:00\",\"2011-10-21T00:00:00\",\"2011-10-28T00:00:00\",\"2011-11-04T00:00:00\",\"2011-11-11T00:00:00\",\"2011-11-18T00:00:00\",\"2011-11-25T00:00:00\",\"2011-12-02T00:00:00\",\"2011-12-09T00:00:00\",\"2011-12-16T00:00:00\",\"2011-12-23T00:00:00\",\"2011-12-30T00:00:00\",\"2012-01-06T00:00:00\",\"2012-01-13T00:00:00\",\"2012-01-20T00:00:00\",\"2012-01-27T00:00:00\",\"2012-02-03T00:00:00\",\"2012-02-10T00:00:00\",\"2012-02-17T00:00:00\",\"2012-02-24T00:00:00\",\"2012-03-02T00:00:00\",\"2012-03-09T00:00:00\",\"2012-03-16T00:00:00\",\"2012-03-23T00:00:00\",\"2012-03-30T00:00:00\",\"2012-04-06T00:00:00\",\"2012-04-13T00:00:00\",\"2012-04-20T00:00:00\",\"2012-04-27T00:00:00\",\"2012-05-04T00:00:00\",\"2012-05-11T00:00:00\",\"2012-05-18T00:00:00\",\"2012-05-25T00:00:00\",\"2012-06-01T00:00:00\",\"2012-06-08T00:00:00\",\"2012-06-15T00:00:00\",\"2012-06-22T00:00:00\",\"2012-06-29T00:00:00\",\"2012-07-06T00:00:00\",\"2012-07-13T00:00:00\",\"2012-07-20T00:00:00\",\"2012-07-27T00:00:00\",\"2012-08-03T00:00:00\",\"2012-08-10T00:00:00\",\"2012-08-17T00:00:00\",\"2012-08-24T00:00:00\",\"2012-08-31T00:00:00\",\"2012-09-07T00:00:00\",\"2012-09-14T00:00:00\",\"2012-09-21T00:00:00\",\"2012-09-28T00:00:00\",\"2012-10-05T00:00:00\",\"2012-10-12T00:00:00\",\"2012-10-19T00:00:00\",\"2012-10-26T00:00:00\",\"2010-02-05T00:00:00\",\"2010-02-12T00:00:00\",\"2010-02-19T00:00:00\",\"2010-02-26T00:00:00\",\"2010-03-05T00:00:00\",\"2010-03-12T00:00:00\",\"2010-03-19T00:00:00\",\"2010-03-26T00:00:00\",\"2010-04-02T00:00:00\",\"2010-04-09T00:00:00\",\"2010-04-16T00:00:00\",\"2010-04-23T00:00:00\",\"2010-04-30T00:00:00\",\"2010-05-07T00:00:00\",\"2010-05-14T00:00:00\",\"2010-05-21T00:00:00\",\"2010-05-28T00:00:00\",\"2010-06-04T00:00:00\",\"2010-06-11T00:00:00\",\"2010-06-18T00:00:00\",\"2010-06-25T00:00:00\",\"2010-07-02T00:00:00\",\"2010-07-09T00:00:00\",\"2010-07-16T00:00:00\",\"2010-07-23T00:00:00\",\"2010-07-30T00:00:00\",\"2010-08-06T00:00:00\",\"2010-08-13T00:00:00\",\"2010-08-20T00:00:00\",\"2010-08-27T00:00:00\",\"2010-09-03T00:00:00\",\"2010-09-10T00:00:00\",\"2010-09-17T00:00:00\",\"2010-09-24T00:00:00\",\"2010-10-01T00:00:00\",\"2010-10-08T00:00:00\",\"2010-10-15T00:00:00\",\"2010-10-22T00:00:00\",\"2010-10-29T00:00:00\",\"2010-11-05T00:00:00\",\"2010-11-12T00:00:00\",\"2010-11-19T00:00:00\",\"2010-11-26T00:00:00\",\"2010-12-03T00:00:00\",\"2010-12-10T00:00:00\",\"2010-12-17T00:00:00\",\"2010-12-24T00:00:00\",\"2010-12-31T00:00:00\",\"2011-01-07T00:00:00\",\"2011-01-14T00:00:00\",\"2011-01-21T00:00:00\",\"2011-01-28T00:00:00\",\"2011-02-04T00:00:00\",\"2011-02-11T00:00:00\",\"2011-02-18T00:00:00\",\"2011-02-25T00:00:00\",\"2011-03-04T00:00:00\",\"2011-03-11T00:00:00\",\"2011-03-18T00:00:00\",\"2011-03-25T00:00:00\",\"2011-04-01T00:00:00\",\"2011-04-08T00:00:00\",\"2011-04-15T00:00:00\",\"2011-04-22T00:00:00\",\"2011-04-29T00:00:00\",\"2011-05-06T00:00:00\",\"2011-05-13T00:00:00\",\"2011-05-20T00:00:00\",\"2011-05-27T00:00:00\",\"2011-06-03T00:00:00\",\"2011-06-10T00:00:00\",\"2011-06-17T00:00:00\",\"2011-06-24T00:00:00\",\"2011-07-01T00:00:00\",\"2011-07-08T00:00:00\",\"2011-07-15T00:00:00\",\"2011-07-22T00:00:00\",\"2011-07-29T00:00:00\",\"2011-08-05T00:00:00\",\"2011-08-12T00:00:00\",\"2011-08-19T00:00:00\",\"2011-08-26T00:00:00\",\"2011-09-02T00:00:00\",\"2011-09-09T00:00:00\",\"2011-09-16T00:00:00\",\"2011-09-23T00:00:00\",\"2011-09-30T00:00:00\",\"2011-10-07T00:00:00\",\"2011-10-14T00:00:00\",\"2011-10-21T00:00:00\",\"2011-10-28T00:00:00\",\"2011-11-04T00:00:00\",\"2011-11-11T00:00:00\",\"2011-11-18T00:00:00\",\"2011-11-25T00:00:00\",\"2011-12-02T00:00:00\",\"2011-12-09T00:00:00\",\"2011-12-16T00:00:00\",\"2011-12-23T00:00:00\",\"2011-12-30T00:00:00\",\"2012-01-06T00:00:00\",\"2012-01-13T00:00:00\",\"2012-01-20T00:00:00\",\"2012-01-27T00:00:00\",\"2012-02-03T00:00:00\",\"2012-02-10T00:00:00\",\"2012-02-17T00:00:00\",\"2012-02-24T00:00:00\",\"2012-03-02T00:00:00\",\"2012-03-09T00:00:00\",\"2012-03-16T00:00:00\",\"2012-03-23T00:00:00\",\"2012-03-30T00:00:00\",\"2012-04-06T00:00:00\",\"2012-04-13T00:00:00\",\"2012-04-20T00:00:00\",\"2012-04-27T00:00:00\",\"2012-05-04T00:00:00\",\"2012-05-11T00:00:00\",\"2012-05-18T00:00:00\",\"2012-05-25T00:00:00\",\"2012-06-01T00:00:00\",\"2012-06-08T00:00:00\",\"2012-06-15T00:00:00\",\"2012-06-22T00:00:00\",\"2012-06-29T00:00:00\",\"2012-07-06T00:00:00\",\"2012-07-13T00:00:00\",\"2012-07-20T00:00:00\",\"2012-07-27T00:00:00\",\"2012-08-03T00:00:00\",\"2012-08-10T00:00:00\",\"2012-08-17T00:00:00\",\"2012-08-24T00:00:00\",\"2012-08-31T00:00:00\",\"2012-09-07T00:00:00\",\"2012-09-14T00:00:00\",\"2012-09-21T00:00:00\",\"2012-09-28T00:00:00\",\"2012-10-05T00:00:00\",\"2012-10-12T00:00:00\",\"2012-10-19T00:00:00\",\"2012-10-26T00:00:00\",\"2010-02-05T00:00:00\",\"2010-02-12T00:00:00\",\"2010-02-19T00:00:00\",\"2010-02-26T00:00:00\",\"2010-03-05T00:00:00\",\"2010-03-12T00:00:00\",\"2010-03-19T00:00:00\",\"2010-03-26T00:00:00\",\"2010-04-02T00:00:00\",\"2010-04-09T00:00:00\",\"2010-04-16T00:00:00\",\"2010-04-23T00:00:00\",\"2010-04-30T00:00:00\",\"2010-05-07T00:00:00\",\"2010-05-14T00:00:00\",\"2010-05-21T00:00:00\",\"2010-05-28T00:00:00\",\"2010-06-04T00:00:00\",\"2010-06-11T00:00:00\",\"2010-06-18T00:00:00\",\"2010-06-25T00:00:00\",\"2010-07-02T00:00:00\",\"2010-07-09T00:00:00\",\"2010-07-16T00:00:00\",\"2010-07-23T00:00:00\",\"2010-07-30T00:00:00\",\"2010-08-06T00:00:00\",\"2010-08-13T00:00:00\",\"2010-08-20T00:00:00\",\"2010-08-27T00:00:00\",\"2010-09-03T00:00:00\",\"2010-09-10T00:00:00\",\"2010-09-17T00:00:00\",\"2010-09-24T00:00:00\",\"2010-10-01T00:00:00\",\"2010-10-08T00:00:00\",\"2010-10-15T00:00:00\",\"2010-10-22T00:00:00\",\"2010-10-29T00:00:00\",\"2010-11-05T00:00:00\",\"2010-11-12T00:00:00\",\"2010-11-19T00:00:00\",\"2010-11-26T00:00:00\",\"2010-12-03T00:00:00\",\"2010-12-10T00:00:00\",\"2010-12-17T00:00:00\",\"2010-12-24T00:00:00\",\"2010-12-31T00:00:00\",\"2011-01-07T00:00:00\",\"2011-01-14T00:00:00\",\"2011-01-21T00:00:00\",\"2011-01-28T00:00:00\",\"2011-02-04T00:00:00\",\"2011-02-11T00:00:00\",\"2011-02-18T00:00:00\",\"2011-02-25T00:00:00\",\"2011-03-04T00:00:00\",\"2011-03-11T00:00:00\",\"2011-03-18T00:00:00\",\"2011-03-25T00:00:00\",\"2011-04-01T00:00:00\",\"2011-04-08T00:00:00\",\"2011-04-15T00:00:00\",\"2011-04-22T00:00:00\",\"2011-04-29T00:00:00\",\"2011-05-06T00:00:00\",\"2011-05-13T00:00:00\",\"2011-05-20T00:00:00\",\"2011-05-27T00:00:00\",\"2011-06-03T00:00:00\",\"2011-06-10T00:00:00\",\"2011-06-17T00:00:00\",\"2011-06-24T00:00:00\",\"2011-07-01T00:00:00\",\"2011-07-08T00:00:00\",\"2011-07-15T00:00:00\",\"2011-07-22T00:00:00\",\"2011-07-29T00:00:00\",\"2011-08-05T00:00:00\",\"2011-08-12T00:00:00\",\"2011-08-19T00:00:00\",\"2011-08-26T00:00:00\",\"2011-09-02T00:00:00\",\"2011-09-09T00:00:00\",\"2011-09-16T00:00:00\",\"2011-09-23T00:00:00\",\"2011-09-30T00:00:00\",\"2011-10-07T00:00:00\",\"2011-10-14T00:00:00\",\"2011-10-21T00:00:00\",\"2011-10-28T00:00:00\",\"2011-11-04T00:00:00\",\"2011-11-11T00:00:00\",\"2011-11-18T00:00:00\",\"2011-11-25T00:00:00\",\"2011-12-02T00:00:00\",\"2011-12-09T00:00:00\",\"2011-12-16T00:00:00\",\"2011-12-23T00:00:00\",\"2011-12-30T00:00:00\",\"2012-01-06T00:00:00\",\"2012-01-13T00:00:00\",\"2012-01-20T00:00:00\",\"2012-01-27T00:00:00\",\"2012-02-03T00:00:00\",\"2012-02-10T00:00:00\",\"2012-02-17T00:00:00\",\"2012-02-24T00:00:00\",\"2012-03-02T00:00:00\",\"2012-03-09T00:00:00\",\"2012-03-16T00:00:00\",\"2012-03-23T00:00:00\",\"2012-03-30T00:00:00\",\"2012-04-06T00:00:00\",\"2012-04-13T00:00:00\",\"2012-04-20T00:00:00\",\"2012-04-27T00:00:00\",\"2012-05-04T00:00:00\",\"2012-05-11T00:00:00\",\"2012-05-18T00:00:00\",\"2012-05-25T00:00:00\",\"2012-06-01T00:00:00\",\"2012-06-08T00:00:00\",\"2012-06-15T00:00:00\",\"2012-06-22T00:00:00\",\"2012-06-29T00:00:00\",\"2012-07-06T00:00:00\",\"2012-07-13T00:00:00\",\"2012-07-20T00:00:00\",\"2012-07-27T00:00:00\",\"2012-08-03T00:00:00\",\"2012-08-10T00:00:00\",\"2012-08-17T00:00:00\",\"2012-08-24T00:00:00\",\"2012-08-31T00:00:00\",\"2012-09-07T00:00:00\",\"2012-09-14T00:00:00\",\"2012-09-21T00:00:00\",\"2012-09-28T00:00:00\",\"2012-10-05T00:00:00\",\"2012-10-12T00:00:00\",\"2012-10-19T00:00:00\",\"2012-10-26T00:00:00\",\"2010-02-05T00:00:00\",\"2010-02-12T00:00:00\",\"2010-02-19T00:00:00\",\"2010-02-26T00:00:00\",\"2010-03-05T00:00:00\",\"2010-03-12T00:00:00\",\"2010-03-19T00:00:00\",\"2010-03-26T00:00:00\",\"2010-04-02T00:00:00\",\"2010-04-09T00:00:00\",\"2010-04-16T00:00:00\",\"2010-04-23T00:00:00\",\"2010-04-30T00:00:00\",\"2010-05-07T00:00:00\",\"2010-05-14T00:00:00\",\"2010-05-21T00:00:00\",\"2010-05-28T00:00:00\",\"2010-06-04T00:00:00\",\"2010-06-11T00:00:00\",\"2010-06-18T00:00:00\",\"2010-06-25T00:00:00\",\"2010-07-02T00:00:00\",\"2010-07-09T00:00:00\",\"2010-07-16T00:00:00\",\"2010-07-23T00:00:00\",\"2010-07-30T00:00:00\",\"2010-08-06T00:00:00\",\"2010-08-13T00:00:00\",\"2010-08-20T00:00:00\",\"2010-08-27T00:00:00\",\"2010-09-03T00:00:00\",\"2010-09-10T00:00:00\",\"2010-09-17T00:00:00\",\"2010-09-24T00:00:00\",\"2010-10-01T00:00:00\",\"2010-10-08T00:00:00\",\"2010-10-15T00:00:00\",\"2010-10-22T00:00:00\",\"2010-10-29T00:00:00\",\"2010-11-05T00:00:00\",\"2010-11-12T00:00:00\",\"2010-11-19T00:00:00\",\"2010-11-26T00:00:00\",\"2010-12-03T00:00:00\",\"2010-12-10T00:00:00\",\"2010-12-17T00:00:00\",\"2010-12-24T00:00:00\",\"2010-12-31T00:00:00\",\"2011-01-07T00:00:00\",\"2011-01-14T00:00:00\",\"2011-01-21T00:00:00\",\"2011-01-28T00:00:00\",\"2011-02-04T00:00:00\",\"2011-02-11T00:00:00\",\"2011-02-18T00:00:00\",\"2011-02-25T00:00:00\",\"2011-03-04T00:00:00\",\"2011-03-11T00:00:00\",\"2011-03-18T00:00:00\",\"2011-03-25T00:00:00\",\"2011-04-01T00:00:00\",\"2011-04-08T00:00:00\",\"2011-04-15T00:00:00\",\"2011-04-22T00:00:00\",\"2011-04-29T00:00:00\",\"2011-05-06T00:00:00\",\"2011-05-13T00:00:00\",\"2011-05-20T00:00:00\",\"2011-05-27T00:00:00\",\"2011-06-03T00:00:00\",\"2011-06-10T00:00:00\",\"2011-06-17T00:00:00\",\"2011-06-24T00:00:00\",\"2011-07-01T00:00:00\",\"2011-07-08T00:00:00\",\"2011-07-15T00:00:00\",\"2011-07-22T00:00:00\",\"2011-07-29T00:00:00\",\"2011-08-05T00:00:00\",\"2011-08-12T00:00:00\",\"2011-08-19T00:00:00\",\"2011-08-26T00:00:00\",\"2011-09-02T00:00:00\",\"2011-09-09T00:00:00\",\"2011-09-16T00:00:00\",\"2011-09-23T00:00:00\",\"2011-09-30T00:00:00\",\"2011-10-07T00:00:00\",\"2011-10-14T00:00:00\",\"2011-10-21T00:00:00\",\"2011-10-28T00:00:00\",\"2011-11-04T00:00:00\",\"2011-11-11T00:00:00\",\"2011-11-18T00:00:00\",\"2011-11-25T00:00:00\",\"2011-12-02T00:00:00\",\"2011-12-09T00:00:00\",\"2011-12-16T00:00:00\",\"2011-12-23T00:00:00\",\"2011-12-30T00:00:00\",\"2012-01-06T00:00:00\",\"2012-01-13T00:00:00\",\"2012-01-20T00:00:00\",\"2012-01-27T00:00:00\",\"2012-02-03T00:00:00\",\"2012-02-10T00:00:00\",\"2012-02-17T00:00:00\",\"2012-02-24T00:00:00\",\"2012-03-02T00:00:00\",\"2012-03-09T00:00:00\",\"2012-03-16T00:00:00\",\"2012-03-23T00:00:00\",\"2012-03-30T00:00:00\",\"2012-04-06T00:00:00\",\"2012-04-13T00:00:00\",\"2012-04-20T00:00:00\",\"2012-04-27T00:00:00\",\"2012-05-04T00:00:00\",\"2012-05-11T00:00:00\",\"2012-05-18T00:00:00\",\"2012-05-25T00:00:00\",\"2012-06-01T00:00:00\",\"2012-06-08T00:00:00\",\"2012-06-15T00:00:00\",\"2012-06-22T00:00:00\",\"2012-06-29T00:00:00\",\"2012-07-06T00:00:00\",\"2012-07-13T00:00:00\",\"2012-07-20T00:00:00\",\"2012-07-27T00:00:00\",\"2012-08-03T00:00:00\",\"2012-08-10T00:00:00\",\"2012-08-17T00:00:00\",\"2012-08-24T00:00:00\",\"2012-08-31T00:00:00\",\"2012-09-07T00:00:00\",\"2012-09-14T00:00:00\",\"2012-09-21T00:00:00\",\"2012-09-28T00:00:00\",\"2012-10-05T00:00:00\",\"2012-10-12T00:00:00\",\"2012-10-19T00:00:00\",\"2012-10-26T00:00:00\",\"2010-02-05T00:00:00\",\"2010-02-12T00:00:00\",\"2010-02-19T00:00:00\",\"2010-02-26T00:00:00\",\"2010-03-05T00:00:00\",\"2010-03-12T00:00:00\",\"2010-03-19T00:00:00\",\"2010-03-26T00:00:00\",\"2010-04-02T00:00:00\",\"2010-04-09T00:00:00\",\"2010-04-16T00:00:00\",\"2010-04-23T00:00:00\",\"2010-04-30T00:00:00\",\"2010-05-07T00:00:00\",\"2010-05-14T00:00:00\",\"2010-05-21T00:00:00\",\"2010-05-28T00:00:00\",\"2010-06-04T00:00:00\",\"2010-06-11T00:00:00\",\"2010-06-18T00:00:00\",\"2010-06-25T00:00:00\",\"2010-07-02T00:00:00\",\"2010-07-09T00:00:00\",\"2010-07-16T00:00:00\",\"2010-07-23T00:00:00\",\"2010-07-30T00:00:00\",\"2010-08-06T00:00:00\",\"2010-08-13T00:00:00\",\"2010-08-20T00:00:00\",\"2010-08-27T00:00:00\",\"2010-09-03T00:00:00\",\"2010-09-10T00:00:00\",\"2010-09-17T00:00:00\",\"2010-09-24T00:00:00\",\"2010-10-01T00:00:00\",\"2010-10-08T00:00:00\",\"2010-10-15T00:00:00\",\"2010-10-22T00:00:00\",\"2010-10-29T00:00:00\",\"2010-11-05T00:00:00\",\"2010-11-12T00:00:00\",\"2010-11-19T00:00:00\",\"2010-11-26T00:00:00\",\"2010-12-03T00:00:00\",\"2010-12-10T00:00:00\",\"2010-12-17T00:00:00\",\"2010-12-24T00:00:00\",\"2010-12-31T00:00:00\",\"2011-01-07T00:00:00\",\"2011-01-14T00:00:00\",\"2011-01-21T00:00:00\",\"2011-01-28T00:00:00\",\"2011-02-04T00:00:00\",\"2011-02-11T00:00:00\",\"2011-02-18T00:00:00\",\"2011-02-25T00:00:00\",\"2011-03-04T00:00:00\",\"2011-03-11T00:00:00\",\"2011-03-18T00:00:00\",\"2011-03-25T00:00:00\",\"2011-04-01T00:00:00\",\"2011-04-08T00:00:00\",\"2011-04-15T00:00:00\",\"2011-04-22T00:00:00\",\"2011-04-29T00:00:00\",\"2011-05-06T00:00:00\",\"2011-05-13T00:00:00\",\"2011-05-20T00:00:00\",\"2011-05-27T00:00:00\",\"2011-06-03T00:00:00\",\"2011-06-10T00:00:00\",\"2011-06-17T00:00:00\",\"2011-06-24T00:00:00\",\"2011-07-01T00:00:00\",\"2011-07-08T00:00:00\",\"2011-07-15T00:00:00\",\"2011-07-22T00:00:00\",\"2011-07-29T00:00:00\",\"2011-08-05T00:00:00\",\"2011-08-12T00:00:00\",\"2011-08-19T00:00:00\",\"2011-08-26T00:00:00\",\"2011-09-02T00:00:00\",\"2011-09-09T00:00:00\",\"2011-09-16T00:00:00\",\"2011-09-23T00:00:00\",\"2011-09-30T00:00:00\",\"2011-10-07T00:00:00\",\"2011-10-14T00:00:00\",\"2011-10-21T00:00:00\",\"2011-10-28T00:00:00\",\"2011-11-04T00:00:00\",\"2011-11-11T00:00:00\",\"2011-11-18T00:00:00\",\"2011-11-25T00:00:00\",\"2011-12-02T00:00:00\",\"2011-12-09T00:00:00\",\"2011-12-16T00:00:00\",\"2011-12-23T00:00:00\",\"2011-12-30T00:00:00\",\"2012-01-06T00:00:00\",\"2012-01-13T00:00:00\",\"2012-01-20T00:00:00\",\"2012-01-27T00:00:00\",\"2012-02-03T00:00:00\",\"2012-02-10T00:00:00\",\"2012-02-17T00:00:00\",\"2012-02-24T00:00:00\",\"2012-03-02T00:00:00\",\"2012-03-09T00:00:00\",\"2012-03-16T00:00:00\",\"2012-03-23T00:00:00\",\"2012-03-30T00:00:00\",\"2012-04-06T00:00:00\",\"2012-04-13T00:00:00\",\"2012-04-20T00:00:00\",\"2012-04-27T00:00:00\",\"2012-05-04T00:00:00\",\"2012-05-11T00:00:00\",\"2012-05-18T00:00:00\",\"2012-05-25T00:00:00\",\"2012-06-01T00:00:00\",\"2012-06-08T00:00:00\",\"2012-06-15T00:00:00\",\"2012-06-22T00:00:00\",\"2012-06-29T00:00:00\",\"2012-07-06T00:00:00\",\"2012-07-13T00:00:00\",\"2012-07-20T00:00:00\",\"2012-07-27T00:00:00\",\"2012-08-03T00:00:00\",\"2012-08-10T00:00:00\",\"2012-08-17T00:00:00\",\"2012-08-24T00:00:00\",\"2012-08-31T00:00:00\",\"2012-09-07T00:00:00\",\"2012-09-14T00:00:00\",\"2012-09-21T00:00:00\",\"2012-09-28T00:00:00\",\"2012-10-05T00:00:00\",\"2012-10-12T00:00:00\",\"2012-10-19T00:00:00\",\"2012-10-26T00:00:00\",\"2010-02-05T00:00:00\",\"2010-02-12T00:00:00\",\"2010-02-19T00:00:00\",\"2010-02-26T00:00:00\",\"2010-03-05T00:00:00\",\"2010-03-12T00:00:00\",\"2010-03-19T00:00:00\",\"2010-03-26T00:00:00\",\"2010-04-02T00:00:00\",\"2010-04-09T00:00:00\",\"2010-04-16T00:00:00\",\"2010-04-23T00:00:00\",\"2010-04-30T00:00:00\",\"2010-05-07T00:00:00\",\"2010-05-14T00:00:00\",\"2010-05-21T00:00:00\",\"2010-05-28T00:00:00\",\"2010-06-04T00:00:00\",\"2010-06-11T00:00:00\",\"2010-06-18T00:00:00\",\"2010-06-25T00:00:00\",\"2010-07-02T00:00:00\",\"2010-07-09T00:00:00\",\"2010-07-16T00:00:00\",\"2010-07-23T00:00:00\",\"2010-07-30T00:00:00\",\"2010-08-06T00:00:00\",\"2010-08-13T00:00:00\",\"2010-08-20T00:00:00\",\"2010-08-27T00:00:00\",\"2010-09-03T00:00:00\",\"2010-09-10T00:00:00\",\"2010-09-17T00:00:00\",\"2010-09-24T00:00:00\",\"2010-10-01T00:00:00\",\"2010-10-08T00:00:00\",\"2010-10-15T00:00:00\",\"2010-10-22T00:00:00\",\"2010-10-29T00:00:00\",\"2010-11-05T00:00:00\",\"2010-11-12T00:00:00\",\"2010-11-19T00:00:00\",\"2010-11-26T00:00:00\",\"2010-12-03T00:00:00\",\"2010-12-10T00:00:00\",\"2010-12-17T00:00:00\",\"2010-12-24T00:00:00\",\"2010-12-31T00:00:00\",\"2011-01-07T00:00:00\",\"2011-01-14T00:00:00\",\"2011-01-21T00:00:00\",\"2011-01-28T00:00:00\",\"2011-02-04T00:00:00\",\"2011-02-11T00:00:00\",\"2011-02-18T00:00:00\",\"2011-02-25T00:00:00\",\"2011-03-04T00:00:00\",\"2011-03-11T00:00:00\",\"2011-03-18T00:00:00\",\"2011-03-25T00:00:00\",\"2011-04-01T00:00:00\",\"2011-04-08T00:00:00\",\"2011-04-15T00:00:00\",\"2011-04-22T00:00:00\",\"2011-04-29T00:00:00\",\"2011-05-06T00:00:00\",\"2011-05-13T00:00:00\",\"2011-05-20T00:00:00\",\"2011-05-27T00:00:00\",\"2011-06-03T00:00:00\",\"2011-06-10T00:00:00\",\"2011-06-17T00:00:00\",\"2011-06-24T00:00:00\",\"2011-07-01T00:00:00\",\"2011-07-08T00:00:00\",\"2011-07-15T00:00:00\",\"2011-07-22T00:00:00\",\"2011-07-29T00:00:00\",\"2011-08-05T00:00:00\",\"2011-08-12T00:00:00\",\"2011-08-19T00:00:00\",\"2011-08-26T00:00:00\",\"2011-09-02T00:00:00\",\"2011-09-09T00:00:00\",\"2011-09-16T00:00:00\",\"2011-09-23T00:00:00\",\"2011-09-30T00:00:00\",\"2011-10-07T00:00:00\",\"2011-10-14T00:00:00\",\"2011-10-21T00:00:00\",\"2011-10-28T00:00:00\",\"2011-11-04T00:00:00\",\"2011-11-11T00:00:00\",\"2011-11-18T00:00:00\",\"2011-11-25T00:00:00\",\"2011-12-02T00:00:00\",\"2011-12-09T00:00:00\",\"2011-12-16T00:00:00\",\"2011-12-23T00:00:00\",\"2011-12-30T00:00:00\",\"2012-01-06T00:00:00\",\"2012-01-13T00:00:00\",\"2012-01-20T00:00:00\",\"2012-01-27T00:00:00\",\"2012-02-03T00:00:00\",\"2012-02-10T00:00:00\",\"2012-02-17T00:00:00\",\"2012-02-24T00:00:00\",\"2012-03-02T00:00:00\",\"2012-03-09T00:00:00\",\"2012-03-16T00:00:00\",\"2012-03-23T00:00:00\",\"2012-03-30T00:00:00\",\"2012-04-06T00:00:00\",\"2012-04-13T00:00:00\",\"2012-04-20T00:00:00\",\"2012-04-27T00:00:00\",\"2012-05-04T00:00:00\",\"2012-05-11T00:00:00\",\"2012-05-18T00:00:00\",\"2012-05-25T00:00:00\",\"2012-06-01T00:00:00\",\"2012-06-08T00:00:00\",\"2012-06-15T00:00:00\",\"2012-06-22T00:00:00\",\"2012-06-29T00:00:00\",\"2012-07-06T00:00:00\",\"2012-07-13T00:00:00\",\"2012-07-20T00:00:00\",\"2012-07-27T00:00:00\",\"2012-08-03T00:00:00\",\"2012-08-10T00:00:00\",\"2012-08-17T00:00:00\",\"2012-08-24T00:00:00\",\"2012-08-31T00:00:00\",\"2012-09-07T00:00:00\",\"2012-09-14T00:00:00\",\"2012-09-21T00:00:00\",\"2012-09-28T00:00:00\",\"2012-10-05T00:00:00\",\"2012-10-12T00:00:00\",\"2012-10-19T00:00:00\",\"2012-10-26T00:00:00\",\"2010-02-05T00:00:00\",\"2010-02-12T00:00:00\",\"2010-02-19T00:00:00\",\"2010-02-26T00:00:00\",\"2010-03-05T00:00:00\",\"2010-03-12T00:00:00\",\"2010-03-19T00:00:00\",\"2010-03-26T00:00:00\",\"2010-04-02T00:00:00\",\"2010-04-09T00:00:00\",\"2010-04-16T00:00:00\",\"2010-04-23T00:00:00\",\"2010-04-30T00:00:00\",\"2010-05-07T00:00:00\",\"2010-05-14T00:00:00\",\"2010-05-21T00:00:00\",\"2010-05-28T00:00:00\",\"2010-06-04T00:00:00\",\"2010-06-11T00:00:00\",\"2010-06-18T00:00:00\",\"2010-06-25T00:00:00\",\"2010-07-02T00:00:00\",\"2010-07-09T00:00:00\",\"2010-07-16T00:00:00\",\"2010-07-23T00:00:00\",\"2010-07-30T00:00:00\",\"2010-08-06T00:00:00\",\"2010-08-13T00:00:00\",\"2010-08-20T00:00:00\",\"2010-08-27T00:00:00\",\"2010-09-03T00:00:00\",\"2010-09-10T00:00:00\",\"2010-09-17T00:00:00\",\"2010-09-24T00:00:00\",\"2010-10-01T00:00:00\",\"2010-10-08T00:00:00\",\"2010-10-15T00:00:00\",\"2010-10-22T00:00:00\",\"2010-10-29T00:00:00\",\"2010-11-05T00:00:00\",\"2010-11-12T00:00:00\",\"2010-11-19T00:00:00\",\"2010-11-26T00:00:00\",\"2010-12-03T00:00:00\",\"2010-12-10T00:00:00\",\"2010-12-17T00:00:00\",\"2010-12-24T00:00:00\",\"2010-12-31T00:00:00\",\"2011-01-07T00:00:00\",\"2011-01-14T00:00:00\",\"2011-01-21T00:00:00\",\"2011-01-28T00:00:00\",\"2011-02-04T00:00:00\",\"2011-02-11T00:00:00\",\"2011-02-18T00:00:00\",\"2011-02-25T00:00:00\",\"2011-03-04T00:00:00\",\"2011-03-11T00:00:00\",\"2011-03-18T00:00:00\",\"2011-03-25T00:00:00\",\"2011-04-01T00:00:00\",\"2011-04-08T00:00:00\",\"2011-04-15T00:00:00\",\"2011-04-22T00:00:00\",\"2011-04-29T00:00:00\",\"2011-05-06T00:00:00\",\"2011-05-13T00:00:00\",\"2011-05-20T00:00:00\",\"2011-05-27T00:00:00\",\"2011-06-03T00:00:00\",\"2011-06-10T00:00:00\",\"2011-06-17T00:00:00\",\"2011-06-24T00:00:00\",\"2011-07-01T00:00:00\",\"2011-07-08T00:00:00\",\"2011-07-15T00:00:00\",\"2011-07-22T00:00:00\",\"2011-07-29T00:00:00\",\"2011-08-05T00:00:00\",\"2011-08-12T00:00:00\",\"2011-08-19T00:00:00\",\"2011-08-26T00:00:00\",\"2011-09-02T00:00:00\",\"2011-09-09T00:00:00\",\"2011-09-16T00:00:00\",\"2011-09-23T00:00:00\",\"2011-09-30T00:00:00\",\"2011-10-07T00:00:00\",\"2011-10-14T00:00:00\",\"2011-10-21T00:00:00\",\"2011-10-28T00:00:00\",\"2011-11-04T00:00:00\",\"2011-11-11T00:00:00\",\"2011-11-18T00:00:00\",\"2011-11-25T00:00:00\",\"2011-12-02T00:00:00\",\"2011-12-09T00:00:00\",\"2011-12-16T00:00:00\",\"2011-12-23T00:00:00\",\"2011-12-30T00:00:00\",\"2012-01-06T00:00:00\",\"2012-01-13T00:00:00\",\"2012-01-20T00:00:00\",\"2012-01-27T00:00:00\",\"2012-02-03T00:00:00\",\"2012-02-10T00:00:00\",\"2012-02-17T00:00:00\",\"2012-02-24T00:00:00\",\"2012-03-02T00:00:00\",\"2012-03-09T00:00:00\",\"2012-03-16T00:00:00\",\"2012-03-23T00:00:00\",\"2012-03-30T00:00:00\",\"2012-04-06T00:00:00\",\"2012-04-13T00:00:00\",\"2012-04-20T00:00:00\",\"2012-04-27T00:00:00\",\"2012-05-04T00:00:00\",\"2012-05-11T00:00:00\",\"2012-05-18T00:00:00\",\"2012-05-25T00:00:00\",\"2012-06-01T00:00:00\",\"2012-06-08T00:00:00\",\"2012-06-15T00:00:00\",\"2012-06-22T00:00:00\",\"2012-06-29T00:00:00\",\"2012-07-06T00:00:00\",\"2012-07-13T00:00:00\",\"2012-07-20T00:00:00\",\"2012-07-27T00:00:00\",\"2012-08-03T00:00:00\",\"2012-08-10T00:00:00\",\"2012-08-17T00:00:00\",\"2012-08-24T00:00:00\",\"2012-08-31T00:00:00\",\"2012-09-07T00:00:00\",\"2012-09-14T00:00:00\",\"2012-09-21T00:00:00\",\"2012-09-28T00:00:00\",\"2012-10-05T00:00:00\",\"2012-10-12T00:00:00\",\"2012-10-19T00:00:00\",\"2012-10-26T00:00:00\",\"2010-02-05T00:00:00\",\"2010-02-12T00:00:00\",\"2010-02-19T00:00:00\",\"2010-02-26T00:00:00\",\"2010-03-05T00:00:00\",\"2010-03-12T00:00:00\",\"2010-03-19T00:00:00\",\"2010-03-26T00:00:00\",\"2010-04-02T00:00:00\",\"2010-04-09T00:00:00\",\"2010-04-16T00:00:00\",\"2010-04-23T00:00:00\",\"2010-04-30T00:00:00\",\"2010-05-07T00:00:00\",\"2010-05-14T00:00:00\",\"2010-05-21T00:00:00\",\"2010-05-28T00:00:00\",\"2010-06-04T00:00:00\",\"2010-06-11T00:00:00\",\"2010-06-18T00:00:00\",\"2010-06-25T00:00:00\",\"2010-07-02T00:00:00\",\"2010-07-09T00:00:00\",\"2010-07-16T00:00:00\",\"2010-07-23T00:00:00\",\"2010-07-30T00:00:00\",\"2010-08-06T00:00:00\",\"2010-08-13T00:00:00\",\"2010-08-20T00:00:00\",\"2010-08-27T00:00:00\",\"2010-09-03T00:00:00\",\"2010-09-10T00:00:00\",\"2010-09-17T00:00:00\",\"2010-09-24T00:00:00\",\"2010-10-01T00:00:00\",\"2010-10-08T00:00:00\",\"2010-10-15T00:00:00\",\"2010-10-22T00:00:00\",\"2010-10-29T00:00:00\",\"2010-11-05T00:00:00\",\"2010-11-12T00:00:00\",\"2010-11-19T00:00:00\",\"2010-11-26T00:00:00\",\"2010-12-03T00:00:00\",\"2010-12-10T00:00:00\",\"2010-12-17T00:00:00\",\"2010-12-24T00:00:00\",\"2010-12-31T00:00:00\",\"2011-01-07T00:00:00\",\"2011-01-14T00:00:00\",\"2011-01-21T00:00:00\",\"2011-01-28T00:00:00\",\"2011-02-04T00:00:00\",\"2011-02-11T00:00:00\",\"2011-02-18T00:00:00\",\"2011-02-25T00:00:00\",\"2011-03-04T00:00:00\",\"2011-03-11T00:00:00\",\"2011-03-18T00:00:00\",\"2011-03-25T00:00:00\",\"2011-04-01T00:00:00\",\"2011-04-08T00:00:00\",\"2011-04-15T00:00:00\",\"2011-04-22T00:00:00\",\"2011-04-29T00:00:00\",\"2011-05-06T00:00:00\",\"2011-05-13T00:00:00\",\"2011-05-20T00:00:00\",\"2011-05-27T00:00:00\",\"2011-06-03T00:00:00\",\"2011-06-10T00:00:00\",\"2011-06-17T00:00:00\",\"2011-06-24T00:00:00\",\"2011-07-01T00:00:00\",\"2011-07-08T00:00:00\",\"2011-07-15T00:00:00\",\"2011-07-22T00:00:00\",\"2011-07-29T00:00:00\",\"2011-08-05T00:00:00\",\"2011-08-12T00:00:00\",\"2011-08-19T00:00:00\",\"2011-08-26T00:00:00\",\"2011-09-02T00:00:00\",\"2011-09-09T00:00:00\",\"2011-09-16T00:00:00\",\"2011-09-23T00:00:00\",\"2011-09-30T00:00:00\",\"2011-10-07T00:00:00\",\"2011-10-14T00:00:00\",\"2011-10-21T00:00:00\",\"2011-10-28T00:00:00\",\"2011-11-04T00:00:00\",\"2011-11-11T00:00:00\",\"2011-11-18T00:00:00\",\"2011-11-25T00:00:00\",\"2011-12-02T00:00:00\",\"2011-12-09T00:00:00\",\"2011-12-16T00:00:00\",\"2011-12-23T00:00:00\",\"2011-12-30T00:00:00\",\"2012-01-06T00:00:00\",\"2012-01-13T00:00:00\",\"2012-01-20T00:00:00\",\"2012-01-27T00:00:00\",\"2012-02-03T00:00:00\",\"2012-02-10T00:00:00\",\"2012-02-17T00:00:00\",\"2012-02-24T00:00:00\",\"2012-03-02T00:00:00\",\"2012-03-09T00:00:00\",\"2012-03-16T00:00:00\",\"2012-03-23T00:00:00\",\"2012-03-30T00:00:00\",\"2012-04-06T00:00:00\",\"2012-04-13T00:00:00\",\"2012-04-20T00:00:00\",\"2012-04-27T00:00:00\",\"2012-05-04T00:00:00\",\"2012-05-11T00:00:00\",\"2012-05-18T00:00:00\",\"2012-05-25T00:00:00\",\"2012-06-01T00:00:00\",\"2012-06-08T00:00:00\",\"2012-06-15T00:00:00\",\"2012-06-22T00:00:00\",\"2012-06-29T00:00:00\",\"2012-07-06T00:00:00\",\"2012-07-13T00:00:00\",\"2012-07-20T00:00:00\",\"2012-07-27T00:00:00\",\"2012-08-03T00:00:00\",\"2012-08-10T00:00:00\",\"2012-08-17T00:00:00\",\"2012-08-24T00:00:00\",\"2012-08-31T00:00:00\",\"2012-09-07T00:00:00\",\"2012-09-14T00:00:00\",\"2012-09-21T00:00:00\",\"2012-09-28T00:00:00\",\"2012-10-05T00:00:00\",\"2012-10-12T00:00:00\",\"2012-10-19T00:00:00\",\"2012-10-26T00:00:00\",\"2010-02-05T00:00:00\",\"2010-02-12T00:00:00\",\"2010-02-19T00:00:00\",\"2010-02-26T00:00:00\",\"2010-03-05T00:00:00\",\"2010-03-12T00:00:00\",\"2010-03-19T00:00:00\",\"2010-03-26T00:00:00\",\"2010-04-02T00:00:00\",\"2010-04-09T00:00:00\",\"2010-04-16T00:00:00\",\"2010-04-23T00:00:00\",\"2010-04-30T00:00:00\",\"2010-05-07T00:00:00\",\"2010-05-14T00:00:00\",\"2010-05-21T00:00:00\",\"2010-05-28T00:00:00\",\"2010-06-04T00:00:00\",\"2010-06-11T00:00:00\",\"2010-06-18T00:00:00\",\"2010-06-25T00:00:00\",\"2010-07-02T00:00:00\",\"2010-07-09T00:00:00\",\"2010-07-16T00:00:00\",\"2010-07-23T00:00:00\",\"2010-07-30T00:00:00\",\"2010-08-06T00:00:00\",\"2010-08-13T00:00:00\",\"2010-08-20T00:00:00\",\"2010-08-27T00:00:00\",\"2010-09-03T00:00:00\",\"2010-09-10T00:00:00\",\"2010-09-17T00:00:00\",\"2010-09-24T00:00:00\",\"2010-10-01T00:00:00\",\"2010-10-08T00:00:00\",\"2010-10-15T00:00:00\",\"2010-10-22T00:00:00\",\"2010-10-29T00:00:00\",\"2010-11-05T00:00:00\",\"2010-11-12T00:00:00\",\"2010-11-19T00:00:00\",\"2010-11-26T00:00:00\",\"2010-12-03T00:00:00\",\"2010-12-10T00:00:00\",\"2010-12-17T00:00:00\",\"2010-12-24T00:00:00\",\"2010-12-31T00:00:00\",\"2011-01-07T00:00:00\",\"2011-01-14T00:00:00\",\"2011-01-21T00:00:00\",\"2011-01-28T00:00:00\",\"2011-02-04T00:00:00\",\"2011-02-11T00:00:00\",\"2011-02-18T00:00:00\",\"2011-02-25T00:00:00\",\"2011-03-04T00:00:00\",\"2011-03-11T00:00:00\",\"2011-03-18T00:00:00\",\"2011-03-25T00:00:00\",\"2011-04-01T00:00:00\",\"2011-04-08T00:00:00\",\"2011-04-15T00:00:00\",\"2011-04-22T00:00:00\",\"2011-04-29T00:00:00\",\"2011-05-06T00:00:00\",\"2011-05-13T00:00:00\",\"2011-05-20T00:00:00\",\"2011-05-27T00:00:00\",\"2011-06-03T00:00:00\",\"2011-06-10T00:00:00\",\"2011-06-17T00:00:00\",\"2011-06-24T00:00:00\",\"2011-07-01T00:00:00\",\"2011-07-08T00:00:00\",\"2011-07-15T00:00:00\",\"2011-07-22T00:00:00\",\"2011-07-29T00:00:00\",\"2011-08-05T00:00:00\",\"2011-08-12T00:00:00\",\"2011-08-19T00:00:00\",\"2011-08-26T00:00:00\",\"2011-09-02T00:00:00\",\"2011-09-09T00:00:00\",\"2011-09-16T00:00:00\",\"2011-09-23T00:00:00\",\"2011-09-30T00:00:00\",\"2011-10-07T00:00:00\",\"2011-10-14T00:00:00\",\"2011-10-21T00:00:00\",\"2011-10-28T00:00:00\",\"2011-11-04T00:00:00\",\"2011-11-11T00:00:00\",\"2011-11-18T00:00:00\",\"2011-11-25T00:00:00\",\"2011-12-02T00:00:00\",\"2011-12-09T00:00:00\",\"2011-12-16T00:00:00\",\"2011-12-23T00:00:00\",\"2011-12-30T00:00:00\",\"2012-01-06T00:00:00\",\"2012-01-13T00:00:00\",\"2012-01-20T00:00:00\",\"2012-01-27T00:00:00\",\"2012-02-03T00:00:00\",\"2012-02-10T00:00:00\",\"2012-02-17T00:00:00\",\"2012-02-24T00:00:00\",\"2012-03-02T00:00:00\",\"2012-03-09T00:00:00\",\"2012-03-16T00:00:00\",\"2012-03-23T00:00:00\",\"2012-03-30T00:00:00\",\"2012-04-06T00:00:00\",\"2012-04-13T00:00:00\",\"2012-04-20T00:00:00\",\"2012-04-27T00:00:00\",\"2012-05-04T00:00:00\",\"2012-05-11T00:00:00\",\"2012-05-18T00:00:00\",\"2012-05-25T00:00:00\",\"2012-06-01T00:00:00\",\"2012-06-08T00:00:00\",\"2012-06-15T00:00:00\",\"2012-06-22T00:00:00\",\"2012-06-29T00:00:00\",\"2012-07-06T00:00:00\",\"2012-07-13T00:00:00\",\"2012-07-20T00:00:00\",\"2012-07-27T00:00:00\",\"2012-08-03T00:00:00\",\"2012-08-10T00:00:00\",\"2012-08-17T00:00:00\",\"2012-08-24T00:00:00\",\"2012-08-31T00:00:00\",\"2012-09-07T00:00:00\",\"2012-09-14T00:00:00\",\"2012-09-21T00:00:00\",\"2012-09-28T00:00:00\",\"2012-10-05T00:00:00\",\"2012-10-12T00:00:00\",\"2012-10-19T00:00:00\",\"2012-10-26T00:00:00\",\"2010-02-05T00:00:00\",\"2010-02-12T00:00:00\",\"2010-02-19T00:00:00\",\"2010-02-26T00:00:00\",\"2010-03-05T00:00:00\",\"2010-03-12T00:00:00\",\"2010-03-19T00:00:00\",\"2010-03-26T00:00:00\",\"2010-04-02T00:00:00\",\"2010-04-09T00:00:00\",\"2010-04-16T00:00:00\",\"2010-04-23T00:00:00\",\"2010-04-30T00:00:00\",\"2010-05-07T00:00:00\",\"2010-05-14T00:00:00\",\"2010-05-21T00:00:00\",\"2010-05-28T00:00:00\",\"2010-06-04T00:00:00\",\"2010-06-11T00:00:00\",\"2010-06-18T00:00:00\",\"2010-06-25T00:00:00\",\"2010-07-02T00:00:00\",\"2010-07-09T00:00:00\",\"2010-07-16T00:00:00\",\"2010-07-23T00:00:00\",\"2010-07-30T00:00:00\",\"2010-08-06T00:00:00\",\"2010-08-13T00:00:00\",\"2010-08-20T00:00:00\",\"2010-08-27T00:00:00\",\"2010-09-03T00:00:00\",\"2010-09-10T00:00:00\",\"2010-09-17T00:00:00\",\"2010-09-24T00:00:00\",\"2010-10-01T00:00:00\",\"2010-10-08T00:00:00\",\"2010-10-15T00:00:00\",\"2010-10-22T00:00:00\",\"2010-10-29T00:00:00\",\"2010-11-05T00:00:00\",\"2010-11-12T00:00:00\",\"2010-11-19T00:00:00\",\"2010-11-26T00:00:00\",\"2010-12-03T00:00:00\",\"2010-12-10T00:00:00\",\"2010-12-17T00:00:00\",\"2010-12-24T00:00:00\",\"2010-12-31T00:00:00\",\"2011-01-07T00:00:00\",\"2011-01-14T00:00:00\",\"2011-01-21T00:00:00\",\"2011-01-28T00:00:00\",\"2011-02-04T00:00:00\",\"2011-02-11T00:00:00\",\"2011-02-18T00:00:00\",\"2011-02-25T00:00:00\",\"2011-03-04T00:00:00\",\"2011-03-11T00:00:00\",\"2011-03-18T00:00:00\",\"2011-03-25T00:00:00\",\"2011-04-01T00:00:00\",\"2011-04-08T00:00:00\",\"2011-04-15T00:00:00\",\"2011-04-22T00:00:00\",\"2011-04-29T00:00:00\",\"2011-05-06T00:00:00\",\"2011-05-13T00:00:00\",\"2011-05-20T00:00:00\",\"2011-05-27T00:00:00\",\"2011-06-03T00:00:00\",\"2011-06-10T00:00:00\",\"2011-06-17T00:00:00\",\"2011-06-24T00:00:00\",\"2011-07-01T00:00:00\",\"2011-07-08T00:00:00\",\"2011-07-15T00:00:00\",\"2011-07-22T00:00:00\",\"2011-07-29T00:00:00\",\"2011-08-05T00:00:00\",\"2011-08-12T00:00:00\",\"2011-08-19T00:00:00\",\"2011-08-26T00:00:00\",\"2011-09-02T00:00:00\",\"2011-09-09T00:00:00\",\"2011-09-16T00:00:00\",\"2011-09-23T00:00:00\",\"2011-09-30T00:00:00\",\"2011-10-07T00:00:00\",\"2011-10-14T00:00:00\",\"2011-10-21T00:00:00\",\"2011-10-28T00:00:00\",\"2011-11-04T00:00:00\",\"2011-11-11T00:00:00\",\"2011-11-18T00:00:00\",\"2011-11-25T00:00:00\",\"2011-12-02T00:00:00\",\"2011-12-09T00:00:00\",\"2011-12-16T00:00:00\",\"2011-12-23T00:00:00\",\"2011-12-30T00:00:00\",\"2012-01-06T00:00:00\",\"2012-01-13T00:00:00\",\"2012-01-20T00:00:00\",\"2012-01-27T00:00:00\",\"2012-02-03T00:00:00\",\"2012-02-10T00:00:00\",\"2012-02-17T00:00:00\",\"2012-02-24T00:00:00\",\"2012-03-02T00:00:00\",\"2012-03-09T00:00:00\",\"2012-03-16T00:00:00\",\"2012-03-23T00:00:00\",\"2012-03-30T00:00:00\",\"2012-04-06T00:00:00\",\"2012-04-13T00:00:00\",\"2012-04-20T00:00:00\",\"2012-04-27T00:00:00\",\"2012-05-04T00:00:00\",\"2012-05-11T00:00:00\",\"2012-05-18T00:00:00\",\"2012-05-25T00:00:00\",\"2012-06-01T00:00:00\",\"2012-06-08T00:00:00\",\"2012-06-15T00:00:00\",\"2012-06-22T00:00:00\",\"2012-06-29T00:00:00\",\"2012-07-06T00:00:00\",\"2012-07-13T00:00:00\",\"2012-07-20T00:00:00\",\"2012-07-27T00:00:00\",\"2012-08-03T00:00:00\",\"2012-08-10T00:00:00\",\"2012-08-17T00:00:00\",\"2012-08-24T00:00:00\",\"2012-08-31T00:00:00\",\"2012-09-07T00:00:00\",\"2012-09-14T00:00:00\",\"2012-09-21T00:00:00\",\"2012-09-28T00:00:00\",\"2012-10-05T00:00:00\",\"2012-10-12T00:00:00\",\"2012-10-19T00:00:00\",\"2012-10-26T00:00:00\",\"2010-02-05T00:00:00\",\"2010-02-12T00:00:00\",\"2010-02-19T00:00:00\",\"2010-02-26T00:00:00\",\"2010-03-05T00:00:00\",\"2010-03-12T00:00:00\",\"2010-03-19T00:00:00\",\"2010-03-26T00:00:00\",\"2010-04-02T00:00:00\",\"2010-04-09T00:00:00\",\"2010-04-16T00:00:00\",\"2010-04-23T00:00:00\",\"2010-04-30T00:00:00\",\"2010-05-07T00:00:00\",\"2010-05-14T00:00:00\",\"2010-05-21T00:00:00\",\"2010-05-28T00:00:00\",\"2010-06-04T00:00:00\",\"2010-06-11T00:00:00\",\"2010-06-18T00:00:00\",\"2010-06-25T00:00:00\",\"2010-07-02T00:00:00\",\"2010-07-09T00:00:00\",\"2010-07-16T00:00:00\",\"2010-07-23T00:00:00\",\"2010-07-30T00:00:00\",\"2010-08-06T00:00:00\",\"2010-08-13T00:00:00\",\"2010-08-20T00:00:00\",\"2010-08-27T00:00:00\",\"2010-09-03T00:00:00\",\"2010-09-10T00:00:00\",\"2010-09-17T00:00:00\",\"2010-09-24T00:00:00\",\"2010-10-01T00:00:00\",\"2010-10-08T00:00:00\",\"2010-10-15T00:00:00\",\"2010-10-22T00:00:00\",\"2010-10-29T00:00:00\",\"2010-11-05T00:00:00\",\"2010-11-12T00:00:00\",\"2010-11-19T00:00:00\",\"2010-11-26T00:00:00\",\"2010-12-03T00:00:00\",\"2010-12-10T00:00:00\",\"2010-12-17T00:00:00\",\"2010-12-24T00:00:00\",\"2010-12-31T00:00:00\",\"2011-01-07T00:00:00\",\"2011-01-14T00:00:00\",\"2011-01-21T00:00:00\",\"2011-01-28T00:00:00\",\"2011-02-04T00:00:00\",\"2011-02-11T00:00:00\",\"2011-02-18T00:00:00\",\"2011-02-25T00:00:00\",\"2011-03-04T00:00:00\",\"2011-03-11T00:00:00\",\"2011-03-18T00:00:00\",\"2011-03-25T00:00:00\",\"2011-04-01T00:00:00\",\"2011-04-08T00:00:00\",\"2011-04-15T00:00:00\",\"2011-04-22T00:00:00\",\"2011-04-29T00:00:00\",\"2011-05-06T00:00:00\",\"2011-05-13T00:00:00\",\"2011-05-20T00:00:00\",\"2011-05-27T00:00:00\",\"2011-06-03T00:00:00\",\"2011-06-10T00:00:00\",\"2011-06-17T00:00:00\",\"2011-06-24T00:00:00\",\"2011-07-01T00:00:00\",\"2011-07-08T00:00:00\",\"2011-07-15T00:00:00\",\"2011-07-22T00:00:00\",\"2011-07-29T00:00:00\",\"2011-08-05T00:00:00\",\"2011-08-12T00:00:00\",\"2011-08-19T00:00:00\",\"2011-08-26T00:00:00\",\"2011-09-02T00:00:00\",\"2011-09-09T00:00:00\",\"2011-09-16T00:00:00\",\"2011-09-23T00:00:00\",\"2011-09-30T00:00:00\",\"2011-10-07T00:00:00\",\"2011-10-14T00:00:00\",\"2011-10-21T00:00:00\",\"2011-10-28T00:00:00\",\"2011-11-04T00:00:00\",\"2011-11-11T00:00:00\",\"2011-11-18T00:00:00\",\"2011-11-25T00:00:00\",\"2011-12-02T00:00:00\",\"2011-12-09T00:00:00\",\"2011-12-16T00:00:00\",\"2011-12-23T00:00:00\",\"2011-12-30T00:00:00\",\"2012-01-06T00:00:00\",\"2012-01-13T00:00:00\",\"2012-01-20T00:00:00\",\"2012-01-27T00:00:00\",\"2012-02-03T00:00:00\",\"2012-02-10T00:00:00\",\"2012-02-17T00:00:00\",\"2012-02-24T00:00:00\",\"2012-03-02T00:00:00\",\"2012-03-09T00:00:00\",\"2012-03-16T00:00:00\",\"2012-03-23T00:00:00\",\"2012-03-30T00:00:00\",\"2012-04-06T00:00:00\",\"2012-04-13T00:00:00\",\"2012-04-20T00:00:00\",\"2012-04-27T00:00:00\",\"2012-05-04T00:00:00\",\"2012-05-11T00:00:00\",\"2012-05-18T00:00:00\",\"2012-05-25T00:00:00\",\"2012-06-01T00:00:00\",\"2012-06-08T00:00:00\",\"2012-06-15T00:00:00\",\"2012-06-22T00:00:00\",\"2012-06-29T00:00:00\",\"2012-07-06T00:00:00\",\"2012-07-13T00:00:00\",\"2012-07-20T00:00:00\",\"2012-07-27T00:00:00\",\"2012-08-03T00:00:00\",\"2012-08-10T00:00:00\",\"2012-08-17T00:00:00\",\"2012-08-24T00:00:00\",\"2012-08-31T00:00:00\",\"2012-09-07T00:00:00\",\"2012-09-14T00:00:00\",\"2012-09-21T00:00:00\",\"2012-09-28T00:00:00\",\"2012-10-05T00:00:00\",\"2012-10-12T00:00:00\",\"2012-10-19T00:00:00\",\"2012-10-26T00:00:00\",\"2010-02-05T00:00:00\",\"2010-02-12T00:00:00\",\"2010-02-19T00:00:00\",\"2010-02-26T00:00:00\",\"2010-03-05T00:00:00\",\"2010-03-12T00:00:00\",\"2010-03-19T00:00:00\",\"2010-03-26T00:00:00\",\"2010-04-02T00:00:00\",\"2010-04-09T00:00:00\",\"2010-04-16T00:00:00\",\"2010-04-23T00:00:00\",\"2010-04-30T00:00:00\",\"2010-05-07T00:00:00\",\"2010-05-14T00:00:00\",\"2010-05-21T00:00:00\",\"2010-05-28T00:00:00\",\"2010-06-04T00:00:00\",\"2010-06-11T00:00:00\",\"2010-06-18T00:00:00\",\"2010-06-25T00:00:00\",\"2010-07-02T00:00:00\",\"2010-07-09T00:00:00\",\"2010-07-16T00:00:00\",\"2010-07-23T00:00:00\",\"2010-07-30T00:00:00\",\"2010-08-06T00:00:00\",\"2010-08-13T00:00:00\",\"2010-08-20T00:00:00\",\"2010-08-27T00:00:00\",\"2010-09-03T00:00:00\",\"2010-09-10T00:00:00\",\"2010-09-17T00:00:00\",\"2010-09-24T00:00:00\",\"2010-10-01T00:00:00\",\"2010-10-08T00:00:00\",\"2010-10-15T00:00:00\",\"2010-10-22T00:00:00\",\"2010-10-29T00:00:00\",\"2010-11-05T00:00:00\",\"2010-11-12T00:00:00\",\"2010-11-19T00:00:00\",\"2010-11-26T00:00:00\",\"2010-12-03T00:00:00\",\"2010-12-10T00:00:00\",\"2010-12-17T00:00:00\",\"2010-12-24T00:00:00\",\"2010-12-31T00:00:00\",\"2011-01-07T00:00:00\",\"2011-01-14T00:00:00\",\"2011-01-21T00:00:00\",\"2011-01-28T00:00:00\",\"2011-02-04T00:00:00\",\"2011-02-11T00:00:00\",\"2011-02-18T00:00:00\",\"2011-02-25T00:00:00\",\"2011-03-04T00:00:00\",\"2011-03-11T00:00:00\",\"2011-03-18T00:00:00\",\"2011-03-25T00:00:00\",\"2011-04-01T00:00:00\",\"2011-04-08T00:00:00\",\"2011-04-15T00:00:00\",\"2011-04-22T00:00:00\",\"2011-04-29T00:00:00\",\"2011-05-06T00:00:00\",\"2011-05-13T00:00:00\",\"2011-05-20T00:00:00\",\"2011-05-27T00:00:00\",\"2011-06-03T00:00:00\",\"2011-06-10T00:00:00\",\"2011-06-17T00:00:00\",\"2011-06-24T00:00:00\",\"2011-07-01T00:00:00\",\"2011-07-08T00:00:00\",\"2011-07-15T00:00:00\",\"2011-07-22T00:00:00\",\"2011-07-29T00:00:00\",\"2011-08-05T00:00:00\",\"2011-08-12T00:00:00\",\"2011-08-19T00:00:00\",\"2011-08-26T00:00:00\",\"2011-09-02T00:00:00\",\"2011-09-09T00:00:00\",\"2011-09-16T00:00:00\",\"2011-09-23T00:00:00\",\"2011-09-30T00:00:00\",\"2011-10-07T00:00:00\",\"2011-10-14T00:00:00\",\"2011-10-21T00:00:00\",\"2011-10-28T00:00:00\",\"2011-11-04T00:00:00\",\"2011-11-11T00:00:00\",\"2011-11-18T00:00:00\",\"2011-11-25T00:00:00\",\"2011-12-02T00:00:00\",\"2011-12-09T00:00:00\",\"2011-12-16T00:00:00\",\"2011-12-23T00:00:00\",\"2011-12-30T00:00:00\",\"2012-01-06T00:00:00\",\"2012-01-13T00:00:00\",\"2012-01-20T00:00:00\",\"2012-01-27T00:00:00\",\"2012-02-03T00:00:00\",\"2012-02-10T00:00:00\",\"2012-02-17T00:00:00\",\"2012-02-24T00:00:00\",\"2012-03-02T00:00:00\",\"2012-03-09T00:00:00\",\"2012-03-16T00:00:00\",\"2012-03-23T00:00:00\",\"2012-03-30T00:00:00\",\"2012-04-06T00:00:00\",\"2012-04-13T00:00:00\",\"2012-04-20T00:00:00\",\"2012-04-27T00:00:00\",\"2012-05-04T00:00:00\",\"2012-05-11T00:00:00\",\"2012-05-18T00:00:00\",\"2012-05-25T00:00:00\",\"2012-06-01T00:00:00\",\"2012-06-08T00:00:00\",\"2012-06-15T00:00:00\",\"2012-06-22T00:00:00\",\"2012-06-29T00:00:00\",\"2012-07-06T00:00:00\",\"2012-07-13T00:00:00\",\"2012-07-20T00:00:00\",\"2012-07-27T00:00:00\",\"2012-08-03T00:00:00\",\"2012-08-10T00:00:00\",\"2012-08-17T00:00:00\",\"2012-08-24T00:00:00\",\"2012-08-31T00:00:00\",\"2012-09-07T00:00:00\",\"2012-09-14T00:00:00\",\"2012-09-21T00:00:00\",\"2012-09-28T00:00:00\",\"2012-10-05T00:00:00\",\"2012-10-12T00:00:00\",\"2012-10-19T00:00:00\",\"2012-10-26T00:00:00\",\"2010-02-05T00:00:00\",\"2010-02-12T00:00:00\",\"2010-02-19T00:00:00\",\"2010-02-26T00:00:00\",\"2010-03-05T00:00:00\",\"2010-03-12T00:00:00\",\"2010-03-19T00:00:00\",\"2010-03-26T00:00:00\",\"2010-04-02T00:00:00\",\"2010-04-09T00:00:00\",\"2010-04-16T00:00:00\",\"2010-04-23T00:00:00\",\"2010-04-30T00:00:00\",\"2010-05-07T00:00:00\",\"2010-05-14T00:00:00\",\"2010-05-21T00:00:00\",\"2010-05-28T00:00:00\",\"2010-06-04T00:00:00\",\"2010-06-11T00:00:00\",\"2010-06-18T00:00:00\",\"2010-06-25T00:00:00\",\"2010-07-02T00:00:00\",\"2010-07-09T00:00:00\",\"2010-07-16T00:00:00\",\"2010-07-23T00:00:00\",\"2010-07-30T00:00:00\",\"2010-08-06T00:00:00\",\"2010-08-13T00:00:00\",\"2010-08-20T00:00:00\",\"2010-08-27T00:00:00\",\"2010-09-03T00:00:00\",\"2010-09-10T00:00:00\",\"2010-09-17T00:00:00\",\"2010-09-24T00:00:00\",\"2010-10-01T00:00:00\",\"2010-10-08T00:00:00\",\"2010-10-15T00:00:00\",\"2010-10-22T00:00:00\",\"2010-10-29T00:00:00\",\"2010-11-05T00:00:00\",\"2010-11-12T00:00:00\",\"2010-11-19T00:00:00\",\"2010-11-26T00:00:00\",\"2010-12-03T00:00:00\",\"2010-12-10T00:00:00\",\"2010-12-17T00:00:00\",\"2010-12-24T00:00:00\",\"2010-12-31T00:00:00\",\"2011-01-07T00:00:00\",\"2011-01-14T00:00:00\",\"2011-01-21T00:00:00\",\"2011-01-28T00:00:00\",\"2011-02-04T00:00:00\",\"2011-02-11T00:00:00\",\"2011-02-18T00:00:00\",\"2011-02-25T00:00:00\",\"2011-03-04T00:00:00\",\"2011-03-11T00:00:00\",\"2011-03-18T00:00:00\",\"2011-03-25T00:00:00\",\"2011-04-01T00:00:00\",\"2011-04-08T00:00:00\",\"2011-04-15T00:00:00\",\"2011-04-22T00:00:00\",\"2011-04-29T00:00:00\",\"2011-05-06T00:00:00\",\"2011-05-13T00:00:00\",\"2011-05-20T00:00:00\",\"2011-05-27T00:00:00\",\"2011-06-03T00:00:00\",\"2011-06-10T00:00:00\",\"2011-06-17T00:00:00\",\"2011-06-24T00:00:00\",\"2011-07-01T00:00:00\",\"2011-07-08T00:00:00\",\"2011-07-15T00:00:00\",\"2011-07-22T00:00:00\",\"2011-07-29T00:00:00\",\"2011-08-05T00:00:00\",\"2011-08-12T00:00:00\",\"2011-08-19T00:00:00\",\"2011-08-26T00:00:00\",\"2011-09-02T00:00:00\",\"2011-09-09T00:00:00\",\"2011-09-16T00:00:00\",\"2011-09-23T00:00:00\",\"2011-09-30T00:00:00\",\"2011-10-07T00:00:00\",\"2011-10-14T00:00:00\",\"2011-10-21T00:00:00\",\"2011-10-28T00:00:00\",\"2011-11-04T00:00:00\",\"2011-11-11T00:00:00\",\"2011-11-18T00:00:00\",\"2011-11-25T00:00:00\",\"2011-12-02T00:00:00\",\"2011-12-09T00:00:00\",\"2011-12-16T00:00:00\",\"2011-12-23T00:00:00\",\"2011-12-30T00:00:00\",\"2012-01-06T00:00:00\",\"2012-01-13T00:00:00\",\"2012-01-20T00:00:00\",\"2012-01-27T00:00:00\",\"2012-02-03T00:00:00\",\"2012-02-10T00:00:00\",\"2012-02-17T00:00:00\",\"2012-02-24T00:00:00\",\"2012-03-02T00:00:00\",\"2012-03-09T00:00:00\",\"2012-03-16T00:00:00\",\"2012-03-23T00:00:00\",\"2012-03-30T00:00:00\",\"2012-04-06T00:00:00\",\"2012-04-13T00:00:00\",\"2012-04-20T00:00:00\",\"2012-04-27T00:00:00\",\"2012-05-04T00:00:00\",\"2012-05-11T00:00:00\",\"2012-05-18T00:00:00\",\"2012-05-25T00:00:00\",\"2012-06-01T00:00:00\",\"2012-06-08T00:00:00\",\"2012-06-15T00:00:00\",\"2012-06-22T00:00:00\",\"2012-06-29T00:00:00\",\"2012-07-06T00:00:00\",\"2012-07-13T00:00:00\",\"2012-07-20T00:00:00\",\"2012-07-27T00:00:00\",\"2012-08-03T00:00:00\",\"2012-08-10T00:00:00\",\"2012-08-17T00:00:00\",\"2012-08-24T00:00:00\",\"2012-08-31T00:00:00\",\"2012-09-07T00:00:00\",\"2012-09-14T00:00:00\",\"2012-09-21T00:00:00\",\"2012-09-28T00:00:00\",\"2012-10-05T00:00:00\",\"2012-10-12T00:00:00\",\"2012-10-19T00:00:00\",\"2012-10-26T00:00:00\",\"2010-02-05T00:00:00\",\"2010-02-12T00:00:00\",\"2010-02-19T00:00:00\",\"2010-02-26T00:00:00\",\"2010-03-05T00:00:00\",\"2010-03-12T00:00:00\",\"2010-03-19T00:00:00\",\"2010-03-26T00:00:00\",\"2010-04-02T00:00:00\",\"2010-04-09T00:00:00\",\"2010-04-16T00:00:00\",\"2010-04-23T00:00:00\",\"2010-04-30T00:00:00\",\"2010-05-07T00:00:00\",\"2010-05-14T00:00:00\",\"2010-05-21T00:00:00\",\"2010-05-28T00:00:00\",\"2010-06-04T00:00:00\",\"2010-06-11T00:00:00\",\"2010-06-18T00:00:00\",\"2010-06-25T00:00:00\",\"2010-07-02T00:00:00\",\"2010-07-09T00:00:00\",\"2010-07-16T00:00:00\",\"2010-07-23T00:00:00\",\"2010-07-30T00:00:00\",\"2010-08-06T00:00:00\",\"2010-08-13T00:00:00\",\"2010-08-20T00:00:00\",\"2010-08-27T00:00:00\",\"2010-09-03T00:00:00\",\"2010-09-10T00:00:00\",\"2010-09-17T00:00:00\",\"2010-09-24T00:00:00\",\"2010-10-01T00:00:00\",\"2010-10-08T00:00:00\",\"2010-10-15T00:00:00\",\"2010-10-22T00:00:00\",\"2010-10-29T00:00:00\",\"2010-11-05T00:00:00\",\"2010-11-12T00:00:00\",\"2010-11-19T00:00:00\",\"2010-11-26T00:00:00\",\"2010-12-03T00:00:00\",\"2010-12-10T00:00:00\",\"2010-12-17T00:00:00\",\"2010-12-24T00:00:00\",\"2010-12-31T00:00:00\",\"2011-01-07T00:00:00\",\"2011-01-14T00:00:00\",\"2011-01-21T00:00:00\",\"2011-01-28T00:00:00\",\"2011-02-04T00:00:00\",\"2011-02-11T00:00:00\",\"2011-02-18T00:00:00\",\"2011-02-25T00:00:00\",\"2011-03-04T00:00:00\",\"2011-03-11T00:00:00\",\"2011-03-18T00:00:00\",\"2011-03-25T00:00:00\",\"2011-04-01T00:00:00\",\"2011-04-08T00:00:00\",\"2011-04-15T00:00:00\",\"2011-04-22T00:00:00\",\"2011-04-29T00:00:00\",\"2011-05-06T00:00:00\",\"2011-05-13T00:00:00\",\"2011-05-20T00:00:00\",\"2011-05-27T00:00:00\",\"2011-06-03T00:00:00\",\"2011-06-10T00:00:00\",\"2011-06-17T00:00:00\",\"2011-06-24T00:00:00\",\"2011-07-01T00:00:00\",\"2011-07-08T00:00:00\",\"2011-07-15T00:00:00\",\"2011-07-22T00:00:00\",\"2011-07-29T00:00:00\",\"2011-08-05T00:00:00\",\"2011-08-12T00:00:00\",\"2011-08-19T00:00:00\",\"2011-08-26T00:00:00\",\"2011-09-02T00:00:00\",\"2011-09-09T00:00:00\",\"2011-09-16T00:00:00\",\"2011-09-23T00:00:00\",\"2011-09-30T00:00:00\",\"2011-10-07T00:00:00\",\"2011-10-14T00:00:00\",\"2011-10-21T00:00:00\",\"2011-10-28T00:00:00\",\"2011-11-04T00:00:00\",\"2011-11-11T00:00:00\",\"2011-11-18T00:00:00\",\"2011-11-25T00:00:00\",\"2011-12-02T00:00:00\",\"2011-12-09T00:00:00\",\"2011-12-16T00:00:00\",\"2011-12-23T00:00:00\",\"2011-12-30T00:00:00\",\"2012-01-06T00:00:00\",\"2012-01-13T00:00:00\",\"2012-01-20T00:00:00\",\"2012-01-27T00:00:00\",\"2012-02-03T00:00:00\",\"2012-02-10T00:00:00\",\"2012-02-17T00:00:00\",\"2012-02-24T00:00:00\",\"2012-03-02T00:00:00\",\"2012-03-09T00:00:00\",\"2012-03-16T00:00:00\",\"2012-03-23T00:00:00\",\"2012-03-30T00:00:00\",\"2012-04-06T00:00:00\",\"2012-04-13T00:00:00\",\"2012-04-20T00:00:00\",\"2012-04-27T00:00:00\",\"2012-05-04T00:00:00\",\"2012-05-11T00:00:00\",\"2012-05-18T00:00:00\",\"2012-05-25T00:00:00\",\"2012-06-01T00:00:00\",\"2012-06-08T00:00:00\",\"2012-06-15T00:00:00\",\"2012-06-22T00:00:00\",\"2012-06-29T00:00:00\",\"2012-07-06T00:00:00\",\"2012-07-13T00:00:00\",\"2012-07-20T00:00:00\",\"2012-07-27T00:00:00\",\"2012-08-03T00:00:00\",\"2012-08-10T00:00:00\",\"2012-08-17T00:00:00\",\"2012-08-24T00:00:00\",\"2012-08-31T00:00:00\",\"2012-09-07T00:00:00\",\"2012-09-14T00:00:00\",\"2012-09-21T00:00:00\",\"2012-09-28T00:00:00\",\"2012-10-05T00:00:00\",\"2012-10-12T00:00:00\",\"2012-10-19T00:00:00\",\"2012-10-26T00:00:00\",\"2010-02-05T00:00:00\",\"2010-02-12T00:00:00\",\"2010-02-19T00:00:00\",\"2010-02-26T00:00:00\",\"2010-03-05T00:00:00\",\"2010-03-12T00:00:00\",\"2010-03-19T00:00:00\",\"2010-03-26T00:00:00\",\"2010-04-02T00:00:00\",\"2010-04-09T00:00:00\",\"2010-04-16T00:00:00\",\"2010-04-23T00:00:00\",\"2010-04-30T00:00:00\",\"2010-05-07T00:00:00\",\"2010-05-14T00:00:00\",\"2010-05-21T00:00:00\",\"2010-05-28T00:00:00\",\"2010-06-04T00:00:00\",\"2010-06-11T00:00:00\",\"2010-06-18T00:00:00\",\"2010-06-25T00:00:00\",\"2010-07-02T00:00:00\",\"2010-07-09T00:00:00\",\"2010-07-16T00:00:00\",\"2010-07-23T00:00:00\",\"2010-07-30T00:00:00\",\"2010-08-06T00:00:00\",\"2010-08-13T00:00:00\",\"2010-08-20T00:00:00\",\"2010-08-27T00:00:00\",\"2010-09-03T00:00:00\",\"2010-09-10T00:00:00\",\"2010-09-17T00:00:00\",\"2010-09-24T00:00:00\",\"2010-10-01T00:00:00\",\"2010-10-08T00:00:00\",\"2010-10-15T00:00:00\",\"2010-10-22T00:00:00\",\"2010-10-29T00:00:00\",\"2010-11-05T00:00:00\",\"2010-11-12T00:00:00\",\"2010-11-19T00:00:00\",\"2010-11-26T00:00:00\",\"2010-12-03T00:00:00\",\"2010-12-10T00:00:00\",\"2010-12-17T00:00:00\",\"2010-12-24T00:00:00\",\"2010-12-31T00:00:00\",\"2011-01-07T00:00:00\",\"2011-01-14T00:00:00\",\"2011-01-21T00:00:00\",\"2011-01-28T00:00:00\",\"2011-02-04T00:00:00\",\"2011-02-11T00:00:00\",\"2011-02-18T00:00:00\",\"2011-02-25T00:00:00\",\"2011-03-04T00:00:00\",\"2011-03-11T00:00:00\",\"2011-03-18T00:00:00\",\"2011-03-25T00:00:00\",\"2011-04-01T00:00:00\",\"2011-04-08T00:00:00\",\"2011-04-15T00:00:00\",\"2011-04-22T00:00:00\",\"2011-04-29T00:00:00\",\"2011-05-06T00:00:00\",\"2011-05-13T00:00:00\",\"2011-05-20T00:00:00\",\"2011-05-27T00:00:00\",\"2011-06-03T00:00:00\",\"2011-06-10T00:00:00\",\"2011-06-17T00:00:00\",\"2011-06-24T00:00:00\",\"2011-07-01T00:00:00\",\"2011-07-08T00:00:00\",\"2011-07-15T00:00:00\",\"2011-07-22T00:00:00\",\"2011-07-29T00:00:00\",\"2011-08-05T00:00:00\",\"2011-08-12T00:00:00\",\"2011-08-19T00:00:00\",\"2011-08-26T00:00:00\",\"2011-09-02T00:00:00\",\"2011-09-09T00:00:00\",\"2011-09-16T00:00:00\",\"2011-09-23T00:00:00\",\"2011-09-30T00:00:00\",\"2011-10-07T00:00:00\",\"2011-10-14T00:00:00\",\"2011-10-21T00:00:00\",\"2011-10-28T00:00:00\",\"2011-11-04T00:00:00\",\"2011-11-11T00:00:00\",\"2011-11-18T00:00:00\",\"2011-11-25T00:00:00\",\"2011-12-02T00:00:00\",\"2011-12-09T00:00:00\",\"2011-12-16T00:00:00\",\"2011-12-23T00:00:00\",\"2011-12-30T00:00:00\",\"2012-01-06T00:00:00\",\"2012-01-13T00:00:00\",\"2012-01-20T00:00:00\",\"2012-01-27T00:00:00\",\"2012-02-03T00:00:00\",\"2012-02-10T00:00:00\",\"2012-02-17T00:00:00\",\"2012-02-24T00:00:00\",\"2012-03-02T00:00:00\",\"2012-03-09T00:00:00\",\"2012-03-16T00:00:00\",\"2012-03-23T00:00:00\",\"2012-03-30T00:00:00\",\"2012-04-06T00:00:00\",\"2012-04-13T00:00:00\",\"2012-04-20T00:00:00\",\"2012-04-27T00:00:00\",\"2012-05-04T00:00:00\",\"2012-05-11T00:00:00\",\"2012-05-18T00:00:00\",\"2012-05-25T00:00:00\",\"2012-06-01T00:00:00\",\"2012-06-08T00:00:00\",\"2012-06-15T00:00:00\",\"2012-06-22T00:00:00\",\"2012-06-29T00:00:00\",\"2012-07-06T00:00:00\",\"2012-07-13T00:00:00\",\"2012-07-20T00:00:00\",\"2012-07-27T00:00:00\",\"2012-08-03T00:00:00\",\"2012-08-10T00:00:00\",\"2012-08-17T00:00:00\",\"2012-08-24T00:00:00\",\"2012-08-31T00:00:00\",\"2012-09-07T00:00:00\",\"2012-09-14T00:00:00\",\"2012-09-21T00:00:00\",\"2012-09-28T00:00:00\",\"2012-10-05T00:00:00\",\"2012-10-12T00:00:00\",\"2012-10-19T00:00:00\",\"2012-10-26T00:00:00\",\"2010-02-05T00:00:00\",\"2010-02-12T00:00:00\",\"2010-02-19T00:00:00\",\"2010-02-26T00:00:00\",\"2010-03-05T00:00:00\",\"2010-03-12T00:00:00\",\"2010-03-19T00:00:00\",\"2010-03-26T00:00:00\",\"2010-04-02T00:00:00\",\"2010-04-09T00:00:00\",\"2010-04-16T00:00:00\",\"2010-04-23T00:00:00\",\"2010-04-30T00:00:00\",\"2010-05-07T00:00:00\",\"2010-05-14T00:00:00\",\"2010-05-21T00:00:00\",\"2010-05-28T00:00:00\",\"2010-06-04T00:00:00\",\"2010-06-11T00:00:00\",\"2010-06-18T00:00:00\",\"2010-06-25T00:00:00\",\"2010-07-02T00:00:00\",\"2010-07-09T00:00:00\",\"2010-07-16T00:00:00\",\"2010-07-23T00:00:00\",\"2010-07-30T00:00:00\",\"2010-08-06T00:00:00\",\"2010-08-13T00:00:00\",\"2010-08-20T00:00:00\",\"2010-08-27T00:00:00\",\"2010-09-03T00:00:00\",\"2010-09-10T00:00:00\",\"2010-09-17T00:00:00\",\"2010-09-24T00:00:00\",\"2010-10-01T00:00:00\",\"2010-10-08T00:00:00\",\"2010-10-15T00:00:00\",\"2010-10-22T00:00:00\",\"2010-10-29T00:00:00\",\"2010-11-05T00:00:00\",\"2010-11-12T00:00:00\",\"2010-11-19T00:00:00\",\"2010-11-26T00:00:00\",\"2010-12-03T00:00:00\",\"2010-12-10T00:00:00\",\"2010-12-17T00:00:00\",\"2010-12-24T00:00:00\",\"2010-12-31T00:00:00\",\"2011-01-07T00:00:00\",\"2011-01-14T00:00:00\",\"2011-01-21T00:00:00\",\"2011-01-28T00:00:00\",\"2011-02-04T00:00:00\",\"2011-02-11T00:00:00\",\"2011-02-18T00:00:00\",\"2011-02-25T00:00:00\",\"2011-03-04T00:00:00\",\"2011-03-11T00:00:00\",\"2011-03-18T00:00:00\",\"2011-03-25T00:00:00\",\"2011-04-01T00:00:00\",\"2011-04-08T00:00:00\",\"2011-04-15T00:00:00\",\"2011-04-22T00:00:00\",\"2011-04-29T00:00:00\",\"2011-05-06T00:00:00\",\"2011-05-13T00:00:00\",\"2011-05-20T00:00:00\",\"2011-05-27T00:00:00\",\"2011-06-03T00:00:00\",\"2011-06-10T00:00:00\",\"2011-06-17T00:00:00\",\"2011-06-24T00:00:00\",\"2011-07-01T00:00:00\",\"2011-07-08T00:00:00\",\"2011-07-15T00:00:00\",\"2011-07-22T00:00:00\",\"2011-07-29T00:00:00\",\"2011-08-05T00:00:00\",\"2011-08-12T00:00:00\",\"2011-08-19T00:00:00\",\"2011-08-26T00:00:00\",\"2011-09-02T00:00:00\",\"2011-09-09T00:00:00\",\"2011-09-16T00:00:00\",\"2011-09-23T00:00:00\",\"2011-09-30T00:00:00\",\"2011-10-07T00:00:00\",\"2011-10-14T00:00:00\",\"2011-10-21T00:00:00\",\"2011-10-28T00:00:00\",\"2011-11-04T00:00:00\",\"2011-11-11T00:00:00\",\"2011-11-18T00:00:00\",\"2011-11-25T00:00:00\",\"2011-12-02T00:00:00\",\"2011-12-09T00:00:00\",\"2011-12-16T00:00:00\",\"2011-12-23T00:00:00\",\"2011-12-30T00:00:00\",\"2012-01-06T00:00:00\",\"2012-01-13T00:00:00\",\"2012-01-20T00:00:00\",\"2012-01-27T00:00:00\",\"2012-02-03T00:00:00\",\"2012-02-10T00:00:00\",\"2012-02-17T00:00:00\",\"2012-02-24T00:00:00\",\"2012-03-02T00:00:00\",\"2012-03-09T00:00:00\",\"2012-03-16T00:00:00\",\"2012-03-23T00:00:00\",\"2012-03-30T00:00:00\",\"2012-04-06T00:00:00\",\"2012-04-13T00:00:00\",\"2012-04-20T00:00:00\",\"2012-04-27T00:00:00\",\"2012-05-04T00:00:00\",\"2012-05-11T00:00:00\",\"2012-05-18T00:00:00\",\"2012-05-25T00:00:00\",\"2012-06-01T00:00:00\",\"2012-06-08T00:00:00\",\"2012-06-15T00:00:00\",\"2012-06-22T00:00:00\",\"2012-06-29T00:00:00\",\"2012-07-06T00:00:00\",\"2012-07-13T00:00:00\",\"2012-07-20T00:00:00\",\"2012-07-27T00:00:00\",\"2012-08-03T00:00:00\",\"2012-08-10T00:00:00\",\"2012-08-17T00:00:00\",\"2012-08-24T00:00:00\",\"2012-08-31T00:00:00\",\"2012-09-07T00:00:00\",\"2012-09-14T00:00:00\",\"2012-09-21T00:00:00\",\"2012-09-28T00:00:00\",\"2012-10-05T00:00:00\",\"2012-10-12T00:00:00\",\"2012-10-19T00:00:00\",\"2012-10-26T00:00:00\",\"2010-02-05T00:00:00\",\"2010-02-12T00:00:00\",\"2010-02-19T00:00:00\",\"2010-02-26T00:00:00\",\"2010-03-05T00:00:00\",\"2010-03-12T00:00:00\",\"2010-03-19T00:00:00\",\"2010-03-26T00:00:00\",\"2010-04-02T00:00:00\",\"2010-04-09T00:00:00\",\"2010-04-16T00:00:00\",\"2010-04-23T00:00:00\",\"2010-04-30T00:00:00\",\"2010-05-07T00:00:00\",\"2010-05-14T00:00:00\",\"2010-05-21T00:00:00\",\"2010-05-28T00:00:00\",\"2010-06-04T00:00:00\",\"2010-06-11T00:00:00\",\"2010-06-18T00:00:00\",\"2010-06-25T00:00:00\",\"2010-07-02T00:00:00\",\"2010-07-09T00:00:00\",\"2010-07-16T00:00:00\",\"2010-07-23T00:00:00\",\"2010-07-30T00:00:00\",\"2010-08-06T00:00:00\",\"2010-08-13T00:00:00\",\"2010-08-20T00:00:00\",\"2010-08-27T00:00:00\",\"2010-09-03T00:00:00\",\"2010-09-10T00:00:00\",\"2010-09-17T00:00:00\",\"2010-09-24T00:00:00\",\"2010-10-01T00:00:00\",\"2010-10-08T00:00:00\",\"2010-10-15T00:00:00\",\"2010-10-22T00:00:00\",\"2010-10-29T00:00:00\",\"2010-11-05T00:00:00\",\"2010-11-12T00:00:00\",\"2010-11-19T00:00:00\",\"2010-11-26T00:00:00\",\"2010-12-03T00:00:00\",\"2010-12-10T00:00:00\",\"2010-12-17T00:00:00\",\"2010-12-24T00:00:00\",\"2010-12-31T00:00:00\",\"2011-01-07T00:00:00\",\"2011-01-14T00:00:00\",\"2011-01-21T00:00:00\",\"2011-01-28T00:00:00\",\"2011-02-04T00:00:00\",\"2011-02-11T00:00:00\",\"2011-02-18T00:00:00\",\"2011-02-25T00:00:00\",\"2011-03-04T00:00:00\",\"2011-03-11T00:00:00\",\"2011-03-18T00:00:00\",\"2011-03-25T00:00:00\",\"2011-04-01T00:00:00\",\"2011-04-08T00:00:00\",\"2011-04-15T00:00:00\",\"2011-04-22T00:00:00\",\"2011-04-29T00:00:00\",\"2011-05-06T00:00:00\",\"2011-05-13T00:00:00\",\"2011-05-20T00:00:00\",\"2011-05-27T00:00:00\",\"2011-06-03T00:00:00\",\"2011-06-10T00:00:00\",\"2011-06-17T00:00:00\",\"2011-06-24T00:00:00\",\"2011-07-01T00:00:00\",\"2011-07-08T00:00:00\",\"2011-07-15T00:00:00\",\"2011-07-22T00:00:00\",\"2011-07-29T00:00:00\",\"2011-08-05T00:00:00\",\"2011-08-12T00:00:00\",\"2011-08-19T00:00:00\",\"2011-08-26T00:00:00\",\"2011-09-02T00:00:00\",\"2011-09-09T00:00:00\",\"2011-09-16T00:00:00\",\"2011-09-23T00:00:00\",\"2011-09-30T00:00:00\",\"2011-10-07T00:00:00\",\"2011-10-14T00:00:00\",\"2011-10-21T00:00:00\",\"2011-10-28T00:00:00\",\"2011-11-04T00:00:00\",\"2011-11-11T00:00:00\",\"2011-11-18T00:00:00\",\"2011-11-25T00:00:00\",\"2011-12-02T00:00:00\",\"2011-12-09T00:00:00\",\"2011-12-16T00:00:00\",\"2011-12-23T00:00:00\",\"2011-12-30T00:00:00\",\"2012-01-06T00:00:00\",\"2012-01-13T00:00:00\",\"2012-01-20T00:00:00\",\"2012-01-27T00:00:00\",\"2012-02-03T00:00:00\",\"2012-02-10T00:00:00\",\"2012-02-17T00:00:00\",\"2012-02-24T00:00:00\",\"2012-03-02T00:00:00\",\"2012-03-09T00:00:00\",\"2012-03-16T00:00:00\",\"2012-03-23T00:00:00\",\"2012-03-30T00:00:00\",\"2012-04-06T00:00:00\",\"2012-04-13T00:00:00\",\"2012-04-20T00:00:00\",\"2012-04-27T00:00:00\",\"2012-05-04T00:00:00\",\"2012-05-11T00:00:00\",\"2012-05-18T00:00:00\",\"2012-05-25T00:00:00\",\"2012-06-01T00:00:00\",\"2012-06-08T00:00:00\",\"2012-06-15T00:00:00\",\"2012-06-22T00:00:00\",\"2012-06-29T00:00:00\",\"2012-07-06T00:00:00\",\"2012-07-13T00:00:00\",\"2012-07-20T00:00:00\",\"2012-07-27T00:00:00\",\"2012-08-03T00:00:00\",\"2012-08-10T00:00:00\",\"2012-08-17T00:00:00\",\"2012-08-24T00:00:00\",\"2012-08-31T00:00:00\",\"2012-09-07T00:00:00\",\"2012-09-14T00:00:00\",\"2012-09-21T00:00:00\",\"2012-09-28T00:00:00\",\"2012-10-05T00:00:00\",\"2012-10-12T00:00:00\",\"2012-10-19T00:00:00\",\"2012-10-26T00:00:00\",\"2010-02-05T00:00:00\",\"2010-02-12T00:00:00\",\"2010-02-19T00:00:00\",\"2010-02-26T00:00:00\",\"2010-03-05T00:00:00\",\"2010-03-12T00:00:00\",\"2010-03-19T00:00:00\",\"2010-03-26T00:00:00\",\"2010-04-02T00:00:00\",\"2010-04-09T00:00:00\",\"2010-04-16T00:00:00\",\"2010-04-23T00:00:00\",\"2010-04-30T00:00:00\",\"2010-05-07T00:00:00\",\"2010-05-14T00:00:00\",\"2010-05-21T00:00:00\",\"2010-05-28T00:00:00\",\"2010-06-04T00:00:00\",\"2010-06-11T00:00:00\",\"2010-06-18T00:00:00\",\"2010-06-25T00:00:00\",\"2010-07-02T00:00:00\",\"2010-07-09T00:00:00\",\"2010-07-16T00:00:00\",\"2010-07-23T00:00:00\",\"2010-07-30T00:00:00\",\"2010-08-06T00:00:00\",\"2010-08-13T00:00:00\",\"2010-08-20T00:00:00\",\"2010-08-27T00:00:00\",\"2010-09-03T00:00:00\",\"2010-09-10T00:00:00\",\"2010-09-17T00:00:00\",\"2010-09-24T00:00:00\",\"2010-10-01T00:00:00\",\"2010-10-08T00:00:00\",\"2010-10-15T00:00:00\",\"2010-10-22T00:00:00\",\"2010-10-29T00:00:00\",\"2010-11-05T00:00:00\",\"2010-11-12T00:00:00\",\"2010-11-19T00:00:00\",\"2010-11-26T00:00:00\",\"2010-12-03T00:00:00\",\"2010-12-10T00:00:00\",\"2010-12-17T00:00:00\",\"2010-12-24T00:00:00\",\"2010-12-31T00:00:00\",\"2011-01-07T00:00:00\",\"2011-01-14T00:00:00\",\"2011-01-21T00:00:00\",\"2011-01-28T00:00:00\",\"2011-02-04T00:00:00\",\"2011-02-11T00:00:00\",\"2011-02-18T00:00:00\",\"2011-02-25T00:00:00\",\"2011-03-04T00:00:00\",\"2011-03-11T00:00:00\",\"2011-03-18T00:00:00\",\"2011-03-25T00:00:00\",\"2011-04-01T00:00:00\",\"2011-04-08T00:00:00\",\"2011-04-15T00:00:00\",\"2011-04-22T00:00:00\",\"2011-04-29T00:00:00\",\"2011-05-06T00:00:00\",\"2011-05-13T00:00:00\",\"2011-05-20T00:00:00\",\"2011-05-27T00:00:00\",\"2011-06-03T00:00:00\",\"2011-06-10T00:00:00\",\"2011-06-17T00:00:00\",\"2011-06-24T00:00:00\",\"2011-07-01T00:00:00\",\"2011-07-08T00:00:00\",\"2011-07-15T00:00:00\",\"2011-07-22T00:00:00\",\"2011-07-29T00:00:00\",\"2011-08-05T00:00:00\",\"2011-08-12T00:00:00\",\"2011-08-19T00:00:00\",\"2011-08-26T00:00:00\",\"2011-09-02T00:00:00\",\"2011-09-09T00:00:00\",\"2011-09-16T00:00:00\",\"2011-09-23T00:00:00\",\"2011-09-30T00:00:00\",\"2011-10-07T00:00:00\",\"2011-10-14T00:00:00\",\"2011-10-21T00:00:00\",\"2011-10-28T00:00:00\",\"2011-11-04T00:00:00\",\"2011-11-11T00:00:00\",\"2011-11-18T00:00:00\",\"2011-11-25T00:00:00\",\"2011-12-02T00:00:00\",\"2011-12-09T00:00:00\",\"2011-12-16T00:00:00\",\"2011-12-23T00:00:00\",\"2011-12-30T00:00:00\",\"2012-01-06T00:00:00\",\"2012-01-13T00:00:00\",\"2012-01-20T00:00:00\",\"2012-01-27T00:00:00\",\"2012-02-03T00:00:00\",\"2012-02-10T00:00:00\",\"2012-02-17T00:00:00\",\"2012-02-24T00:00:00\",\"2012-03-02T00:00:00\",\"2012-03-09T00:00:00\",\"2012-03-16T00:00:00\",\"2012-03-23T00:00:00\",\"2012-03-30T00:00:00\",\"2012-04-06T00:00:00\",\"2012-04-13T00:00:00\",\"2012-04-20T00:00:00\",\"2012-04-27T00:00:00\",\"2012-05-04T00:00:00\",\"2012-05-11T00:00:00\",\"2012-05-18T00:00:00\",\"2012-05-25T00:00:00\",\"2012-06-01T00:00:00\",\"2012-06-08T00:00:00\",\"2012-06-15T00:00:00\",\"2012-06-22T00:00:00\",\"2012-06-29T00:00:00\",\"2012-07-06T00:00:00\",\"2012-07-13T00:00:00\",\"2012-07-20T00:00:00\",\"2012-07-27T00:00:00\",\"2012-08-03T00:00:00\",\"2012-08-10T00:00:00\",\"2012-08-17T00:00:00\",\"2012-08-24T00:00:00\",\"2012-08-31T00:00:00\",\"2012-09-07T00:00:00\",\"2012-09-14T00:00:00\",\"2012-09-21T00:00:00\",\"2012-09-28T00:00:00\",\"2012-10-05T00:00:00\",\"2012-10-12T00:00:00\",\"2012-10-19T00:00:00\",\"2012-10-26T00:00:00\",\"2010-02-05T00:00:00\",\"2010-02-12T00:00:00\",\"2010-02-19T00:00:00\",\"2010-02-26T00:00:00\",\"2010-03-05T00:00:00\",\"2010-03-12T00:00:00\",\"2010-03-19T00:00:00\",\"2010-03-26T00:00:00\",\"2010-04-02T00:00:00\",\"2010-04-09T00:00:00\",\"2010-04-16T00:00:00\",\"2010-04-23T00:00:00\",\"2010-04-30T00:00:00\",\"2010-05-07T00:00:00\",\"2010-05-14T00:00:00\",\"2010-05-21T00:00:00\",\"2010-05-28T00:00:00\",\"2010-06-04T00:00:00\",\"2010-06-11T00:00:00\",\"2010-06-18T00:00:00\",\"2010-06-25T00:00:00\",\"2010-07-02T00:00:00\",\"2010-07-09T00:00:00\",\"2010-07-16T00:00:00\",\"2010-07-23T00:00:00\",\"2010-07-30T00:00:00\",\"2010-08-06T00:00:00\",\"2010-08-13T00:00:00\",\"2010-08-20T00:00:00\",\"2010-08-27T00:00:00\",\"2010-09-03T00:00:00\",\"2010-09-10T00:00:00\",\"2010-09-17T00:00:00\",\"2010-09-24T00:00:00\",\"2010-10-01T00:00:00\",\"2010-10-08T00:00:00\",\"2010-10-15T00:00:00\",\"2010-10-22T00:00:00\",\"2010-10-29T00:00:00\",\"2010-11-05T00:00:00\",\"2010-11-12T00:00:00\",\"2010-11-19T00:00:00\",\"2010-11-26T00:00:00\",\"2010-12-03T00:00:00\",\"2010-12-10T00:00:00\",\"2010-12-17T00:00:00\",\"2010-12-24T00:00:00\",\"2010-12-31T00:00:00\",\"2011-01-07T00:00:00\",\"2011-01-14T00:00:00\",\"2011-01-21T00:00:00\",\"2011-01-28T00:00:00\",\"2011-02-04T00:00:00\",\"2011-02-11T00:00:00\",\"2011-02-18T00:00:00\",\"2011-02-25T00:00:00\",\"2011-03-04T00:00:00\",\"2011-03-11T00:00:00\",\"2011-03-18T00:00:00\",\"2011-03-25T00:00:00\",\"2011-04-01T00:00:00\",\"2011-04-08T00:00:00\",\"2011-04-15T00:00:00\",\"2011-04-22T00:00:00\",\"2011-04-29T00:00:00\",\"2011-05-06T00:00:00\",\"2011-05-13T00:00:00\",\"2011-05-20T00:00:00\",\"2011-05-27T00:00:00\",\"2011-06-03T00:00:00\",\"2011-06-10T00:00:00\",\"2011-06-17T00:00:00\",\"2011-06-24T00:00:00\",\"2011-07-01T00:00:00\",\"2011-07-08T00:00:00\",\"2011-07-15T00:00:00\",\"2011-07-22T00:00:00\",\"2011-07-29T00:00:00\",\"2011-08-05T00:00:00\",\"2011-08-12T00:00:00\",\"2011-08-19T00:00:00\",\"2011-08-26T00:00:00\",\"2011-09-02T00:00:00\",\"2011-09-09T00:00:00\",\"2011-09-16T00:00:00\",\"2011-09-23T00:00:00\",\"2011-09-30T00:00:00\",\"2011-10-07T00:00:00\",\"2011-10-14T00:00:00\",\"2011-10-21T00:00:00\",\"2011-10-28T00:00:00\",\"2011-11-04T00:00:00\",\"2011-11-11T00:00:00\",\"2011-11-18T00:00:00\",\"2011-11-25T00:00:00\",\"2011-12-02T00:00:00\",\"2011-12-09T00:00:00\",\"2011-12-16T00:00:00\",\"2011-12-23T00:00:00\",\"2011-12-30T00:00:00\",\"2012-01-06T00:00:00\",\"2012-01-13T00:00:00\",\"2012-01-20T00:00:00\",\"2012-01-27T00:00:00\",\"2012-02-03T00:00:00\",\"2012-02-10T00:00:00\",\"2012-02-17T00:00:00\",\"2012-02-24T00:00:00\",\"2012-03-02T00:00:00\",\"2012-03-09T00:00:00\",\"2012-03-16T00:00:00\",\"2012-03-23T00:00:00\",\"2012-03-30T00:00:00\",\"2012-04-06T00:00:00\",\"2012-04-13T00:00:00\",\"2012-04-20T00:00:00\",\"2012-04-27T00:00:00\",\"2012-05-04T00:00:00\",\"2012-05-11T00:00:00\",\"2012-05-18T00:00:00\",\"2012-05-25T00:00:00\",\"2012-06-01T00:00:00\",\"2012-06-08T00:00:00\",\"2012-06-15T00:00:00\",\"2012-06-22T00:00:00\",\"2012-06-29T00:00:00\",\"2012-07-06T00:00:00\",\"2012-07-13T00:00:00\",\"2012-07-20T00:00:00\",\"2012-07-27T00:00:00\",\"2012-08-03T00:00:00\",\"2012-08-10T00:00:00\",\"2012-08-17T00:00:00\",\"2012-08-24T00:00:00\",\"2012-08-31T00:00:00\",\"2012-09-07T00:00:00\",\"2012-09-14T00:00:00\",\"2012-09-21T00:00:00\",\"2012-09-28T00:00:00\",\"2012-10-05T00:00:00\",\"2012-10-12T00:00:00\",\"2012-10-19T00:00:00\",\"2012-10-26T00:00:00\",\"2010-02-05T00:00:00\",\"2010-02-12T00:00:00\",\"2010-02-19T00:00:00\",\"2010-02-26T00:00:00\",\"2010-03-05T00:00:00\",\"2010-03-12T00:00:00\",\"2010-03-19T00:00:00\",\"2010-03-26T00:00:00\",\"2010-04-02T00:00:00\",\"2010-04-09T00:00:00\",\"2010-04-16T00:00:00\",\"2010-04-23T00:00:00\",\"2010-04-30T00:00:00\",\"2010-05-07T00:00:00\",\"2010-05-14T00:00:00\",\"2010-05-21T00:00:00\",\"2010-05-28T00:00:00\",\"2010-06-04T00:00:00\",\"2010-06-11T00:00:00\",\"2010-06-18T00:00:00\",\"2010-06-25T00:00:00\",\"2010-07-02T00:00:00\",\"2010-07-09T00:00:00\",\"2010-07-16T00:00:00\",\"2010-07-23T00:00:00\",\"2010-07-30T00:00:00\",\"2010-08-06T00:00:00\",\"2010-08-13T00:00:00\",\"2010-08-20T00:00:00\",\"2010-08-27T00:00:00\",\"2010-09-03T00:00:00\",\"2010-09-10T00:00:00\",\"2010-09-17T00:00:00\",\"2010-09-24T00:00:00\",\"2010-10-01T00:00:00\",\"2010-10-08T00:00:00\",\"2010-10-15T00:00:00\",\"2010-10-22T00:00:00\",\"2010-10-29T00:00:00\",\"2010-11-05T00:00:00\",\"2010-11-12T00:00:00\",\"2010-11-19T00:00:00\",\"2010-11-26T00:00:00\",\"2010-12-03T00:00:00\",\"2010-12-10T00:00:00\",\"2010-12-17T00:00:00\",\"2010-12-24T00:00:00\",\"2010-12-31T00:00:00\",\"2011-01-07T00:00:00\",\"2011-01-14T00:00:00\",\"2011-01-21T00:00:00\",\"2011-01-28T00:00:00\",\"2011-02-04T00:00:00\",\"2011-02-11T00:00:00\",\"2011-02-18T00:00:00\",\"2011-02-25T00:00:00\",\"2011-03-04T00:00:00\",\"2011-03-11T00:00:00\",\"2011-03-18T00:00:00\",\"2011-03-25T00:00:00\",\"2011-04-01T00:00:00\",\"2011-04-08T00:00:00\",\"2011-04-15T00:00:00\",\"2011-04-22T00:00:00\",\"2011-04-29T00:00:00\",\"2011-05-06T00:00:00\",\"2011-05-13T00:00:00\",\"2011-05-20T00:00:00\",\"2011-05-27T00:00:00\",\"2011-06-03T00:00:00\",\"2011-06-10T00:00:00\",\"2011-06-17T00:00:00\",\"2011-06-24T00:00:00\",\"2011-07-01T00:00:00\",\"2011-07-08T00:00:00\",\"2011-07-15T00:00:00\",\"2011-07-22T00:00:00\",\"2011-07-29T00:00:00\",\"2011-08-05T00:00:00\",\"2011-08-12T00:00:00\",\"2011-08-19T00:00:00\",\"2011-08-26T00:00:00\",\"2011-09-02T00:00:00\",\"2011-09-09T00:00:00\",\"2011-09-16T00:00:00\",\"2011-09-23T00:00:00\",\"2011-09-30T00:00:00\",\"2011-10-07T00:00:00\",\"2011-10-14T00:00:00\",\"2011-10-21T00:00:00\",\"2011-10-28T00:00:00\",\"2011-11-04T00:00:00\",\"2011-11-11T00:00:00\",\"2011-11-18T00:00:00\",\"2011-11-25T00:00:00\",\"2011-12-02T00:00:00\",\"2011-12-09T00:00:00\",\"2011-12-16T00:00:00\",\"2011-12-23T00:00:00\",\"2011-12-30T00:00:00\",\"2012-01-06T00:00:00\",\"2012-01-13T00:00:00\",\"2012-01-20T00:00:00\",\"2012-01-27T00:00:00\",\"2012-02-03T00:00:00\",\"2012-02-10T00:00:00\",\"2012-02-17T00:00:00\",\"2012-02-24T00:00:00\",\"2012-03-02T00:00:00\",\"2012-03-09T00:00:00\",\"2012-03-16T00:00:00\",\"2012-03-23T00:00:00\",\"2012-03-30T00:00:00\",\"2012-04-06T00:00:00\",\"2012-04-13T00:00:00\",\"2012-04-20T00:00:00\",\"2012-04-27T00:00:00\",\"2012-05-04T00:00:00\",\"2012-05-11T00:00:00\",\"2012-05-18T00:00:00\",\"2012-05-25T00:00:00\",\"2012-06-01T00:00:00\",\"2012-06-08T00:00:00\",\"2012-06-15T00:00:00\",\"2012-06-22T00:00:00\",\"2012-06-29T00:00:00\",\"2012-07-06T00:00:00\",\"2012-07-13T00:00:00\",\"2012-07-20T00:00:00\",\"2012-07-27T00:00:00\",\"2012-08-03T00:00:00\",\"2012-08-10T00:00:00\",\"2012-08-17T00:00:00\",\"2012-08-24T00:00:00\",\"2012-08-31T00:00:00\",\"2012-09-07T00:00:00\",\"2012-09-14T00:00:00\",\"2012-09-21T00:00:00\",\"2012-09-28T00:00:00\",\"2012-10-05T00:00:00\",\"2012-10-12T00:00:00\",\"2012-10-19T00:00:00\",\"2012-10-26T00:00:00\",\"2010-02-05T00:00:00\",\"2010-02-12T00:00:00\",\"2010-02-19T00:00:00\",\"2010-02-26T00:00:00\",\"2010-03-05T00:00:00\",\"2010-03-12T00:00:00\",\"2010-03-19T00:00:00\",\"2010-03-26T00:00:00\",\"2010-04-02T00:00:00\",\"2010-04-09T00:00:00\",\"2010-04-16T00:00:00\",\"2010-04-23T00:00:00\",\"2010-04-30T00:00:00\",\"2010-05-07T00:00:00\",\"2010-05-14T00:00:00\",\"2010-05-21T00:00:00\",\"2010-05-28T00:00:00\",\"2010-06-04T00:00:00\",\"2010-06-11T00:00:00\",\"2010-06-18T00:00:00\",\"2010-06-25T00:00:00\",\"2010-07-02T00:00:00\",\"2010-07-09T00:00:00\",\"2010-07-16T00:00:00\",\"2010-07-23T00:00:00\",\"2010-07-30T00:00:00\",\"2010-08-06T00:00:00\",\"2010-08-13T00:00:00\",\"2010-08-20T00:00:00\",\"2010-08-27T00:00:00\",\"2010-09-03T00:00:00\",\"2010-09-10T00:00:00\",\"2010-09-17T00:00:00\",\"2010-09-24T00:00:00\",\"2010-10-01T00:00:00\",\"2010-10-08T00:00:00\",\"2010-10-15T00:00:00\",\"2010-10-22T00:00:00\",\"2010-10-29T00:00:00\",\"2010-11-05T00:00:00\",\"2010-11-12T00:00:00\",\"2010-11-19T00:00:00\",\"2010-11-26T00:00:00\",\"2010-12-03T00:00:00\",\"2010-12-10T00:00:00\",\"2010-12-17T00:00:00\",\"2010-12-24T00:00:00\",\"2010-12-31T00:00:00\",\"2011-01-07T00:00:00\",\"2011-01-14T00:00:00\",\"2011-01-21T00:00:00\",\"2011-01-28T00:00:00\",\"2011-02-04T00:00:00\",\"2011-02-11T00:00:00\",\"2011-02-18T00:00:00\",\"2011-02-25T00:00:00\",\"2011-03-04T00:00:00\",\"2011-03-11T00:00:00\",\"2011-03-18T00:00:00\",\"2011-03-25T00:00:00\",\"2011-04-01T00:00:00\",\"2011-04-08T00:00:00\",\"2011-04-15T00:00:00\",\"2011-04-22T00:00:00\",\"2011-04-29T00:00:00\",\"2011-05-06T00:00:00\",\"2011-05-13T00:00:00\",\"2011-05-20T00:00:00\",\"2011-05-27T00:00:00\",\"2011-06-03T00:00:00\",\"2011-06-10T00:00:00\",\"2011-06-17T00:00:00\",\"2011-06-24T00:00:00\",\"2011-07-01T00:00:00\",\"2011-07-08T00:00:00\",\"2011-07-15T00:00:00\",\"2011-07-22T00:00:00\",\"2011-07-29T00:00:00\",\"2011-08-05T00:00:00\",\"2011-08-12T00:00:00\",\"2011-08-19T00:00:00\",\"2011-08-26T00:00:00\",\"2011-09-02T00:00:00\",\"2011-09-09T00:00:00\",\"2011-09-16T00:00:00\",\"2011-09-23T00:00:00\",\"2011-09-30T00:00:00\",\"2011-10-07T00:00:00\",\"2011-10-14T00:00:00\",\"2011-10-21T00:00:00\",\"2011-10-28T00:00:00\",\"2011-11-04T00:00:00\",\"2011-11-11T00:00:00\",\"2011-11-18T00:00:00\",\"2011-11-25T00:00:00\",\"2011-12-02T00:00:00\",\"2011-12-09T00:00:00\",\"2011-12-16T00:00:00\",\"2011-12-23T00:00:00\",\"2011-12-30T00:00:00\",\"2012-01-06T00:00:00\",\"2012-01-13T00:00:00\",\"2012-01-20T00:00:00\",\"2012-01-27T00:00:00\",\"2012-02-03T00:00:00\",\"2012-02-10T00:00:00\",\"2012-02-17T00:00:00\",\"2012-02-24T00:00:00\",\"2012-03-02T00:00:00\",\"2012-03-09T00:00:00\",\"2012-03-16T00:00:00\",\"2012-03-23T00:00:00\",\"2012-03-30T00:00:00\",\"2012-04-06T00:00:00\",\"2012-04-13T00:00:00\",\"2012-04-20T00:00:00\",\"2012-04-27T00:00:00\",\"2012-05-04T00:00:00\",\"2012-05-11T00:00:00\",\"2012-05-18T00:00:00\",\"2012-05-25T00:00:00\",\"2012-06-01T00:00:00\",\"2012-06-08T00:00:00\",\"2012-06-15T00:00:00\",\"2012-06-22T00:00:00\",\"2012-06-29T00:00:00\",\"2012-07-06T00:00:00\",\"2012-07-13T00:00:00\",\"2012-07-20T00:00:00\",\"2012-07-27T00:00:00\",\"2012-08-03T00:00:00\",\"2012-08-10T00:00:00\",\"2012-08-17T00:00:00\",\"2012-08-24T00:00:00\",\"2012-08-31T00:00:00\",\"2012-09-07T00:00:00\",\"2012-09-14T00:00:00\",\"2012-09-21T00:00:00\",\"2012-09-28T00:00:00\",\"2012-10-05T00:00:00\",\"2012-10-12T00:00:00\",\"2012-10-19T00:00:00\",\"2012-10-26T00:00:00\",\"2010-02-05T00:00:00\",\"2010-02-12T00:00:00\",\"2010-02-19T00:00:00\",\"2010-02-26T00:00:00\",\"2010-03-05T00:00:00\",\"2010-03-12T00:00:00\",\"2010-03-19T00:00:00\",\"2010-03-26T00:00:00\",\"2010-04-02T00:00:00\",\"2010-04-09T00:00:00\",\"2010-04-16T00:00:00\",\"2010-04-23T00:00:00\",\"2010-04-30T00:00:00\",\"2010-05-07T00:00:00\",\"2010-05-14T00:00:00\",\"2010-05-21T00:00:00\",\"2010-05-28T00:00:00\",\"2010-06-04T00:00:00\",\"2010-06-11T00:00:00\",\"2010-06-18T00:00:00\",\"2010-06-25T00:00:00\",\"2010-07-02T00:00:00\",\"2010-07-09T00:00:00\",\"2010-07-16T00:00:00\",\"2010-07-23T00:00:00\",\"2010-07-30T00:00:00\",\"2010-08-06T00:00:00\",\"2010-08-13T00:00:00\",\"2010-08-20T00:00:00\",\"2010-08-27T00:00:00\",\"2010-09-03T00:00:00\",\"2010-09-10T00:00:00\",\"2010-09-17T00:00:00\",\"2010-09-24T00:00:00\",\"2010-10-01T00:00:00\",\"2010-10-08T00:00:00\",\"2010-10-15T00:00:00\",\"2010-10-22T00:00:00\",\"2010-10-29T00:00:00\",\"2010-11-05T00:00:00\",\"2010-11-12T00:00:00\",\"2010-11-19T00:00:00\",\"2010-11-26T00:00:00\",\"2010-12-03T00:00:00\",\"2010-12-10T00:00:00\",\"2010-12-17T00:00:00\",\"2010-12-24T00:00:00\",\"2010-12-31T00:00:00\",\"2011-01-07T00:00:00\",\"2011-01-14T00:00:00\",\"2011-01-21T00:00:00\",\"2011-01-28T00:00:00\",\"2011-02-04T00:00:00\",\"2011-02-11T00:00:00\",\"2011-02-18T00:00:00\",\"2011-02-25T00:00:00\",\"2011-03-04T00:00:00\",\"2011-03-11T00:00:00\",\"2011-03-18T00:00:00\",\"2011-03-25T00:00:00\",\"2011-04-01T00:00:00\",\"2011-04-08T00:00:00\",\"2011-04-15T00:00:00\",\"2011-04-22T00:00:00\",\"2011-04-29T00:00:00\",\"2011-05-06T00:00:00\",\"2011-05-13T00:00:00\",\"2011-05-20T00:00:00\",\"2011-05-27T00:00:00\",\"2011-06-03T00:00:00\",\"2011-06-10T00:00:00\",\"2011-06-17T00:00:00\",\"2011-06-24T00:00:00\",\"2011-07-01T00:00:00\",\"2011-07-08T00:00:00\",\"2011-07-15T00:00:00\",\"2011-07-22T00:00:00\",\"2011-07-29T00:00:00\",\"2011-08-05T00:00:00\",\"2011-08-12T00:00:00\",\"2011-08-19T00:00:00\",\"2011-08-26T00:00:00\",\"2011-09-02T00:00:00\",\"2011-09-09T00:00:00\",\"2011-09-16T00:00:00\",\"2011-09-23T00:00:00\",\"2011-09-30T00:00:00\",\"2011-10-07T00:00:00\",\"2011-10-14T00:00:00\",\"2011-10-21T00:00:00\",\"2011-10-28T00:00:00\",\"2011-11-04T00:00:00\",\"2011-11-11T00:00:00\",\"2011-11-18T00:00:00\",\"2011-11-25T00:00:00\",\"2011-12-02T00:00:00\",\"2011-12-09T00:00:00\",\"2011-12-16T00:00:00\",\"2011-12-23T00:00:00\",\"2011-12-30T00:00:00\",\"2012-01-06T00:00:00\",\"2012-01-13T00:00:00\",\"2012-01-20T00:00:00\",\"2012-01-27T00:00:00\",\"2012-02-03T00:00:00\",\"2012-02-10T00:00:00\",\"2012-02-17T00:00:00\",\"2012-02-24T00:00:00\",\"2012-03-02T00:00:00\",\"2012-03-09T00:00:00\",\"2012-03-16T00:00:00\",\"2012-03-23T00:00:00\",\"2012-03-30T00:00:00\",\"2012-04-06T00:00:00\",\"2012-04-13T00:00:00\",\"2012-04-20T00:00:00\",\"2012-04-27T00:00:00\",\"2012-05-04T00:00:00\",\"2012-05-11T00:00:00\",\"2012-05-18T00:00:00\",\"2012-05-25T00:00:00\",\"2012-06-01T00:00:00\",\"2012-06-08T00:00:00\",\"2012-06-15T00:00:00\",\"2012-06-22T00:00:00\",\"2012-06-29T00:00:00\",\"2012-07-06T00:00:00\",\"2012-07-13T00:00:00\",\"2012-07-20T00:00:00\",\"2012-07-27T00:00:00\",\"2012-08-03T00:00:00\",\"2012-08-10T00:00:00\",\"2012-08-17T00:00:00\",\"2012-08-24T00:00:00\",\"2012-08-31T00:00:00\",\"2012-09-07T00:00:00\",\"2012-09-14T00:00:00\",\"2012-09-21T00:00:00\",\"2012-09-28T00:00:00\",\"2012-10-05T00:00:00\",\"2012-10-12T00:00:00\",\"2012-10-19T00:00:00\",\"2012-10-26T00:00:00\",\"2010-02-05T00:00:00\",\"2010-02-12T00:00:00\",\"2010-02-19T00:00:00\",\"2010-02-26T00:00:00\",\"2010-03-05T00:00:00\",\"2010-03-12T00:00:00\",\"2010-03-19T00:00:00\",\"2010-03-26T00:00:00\",\"2010-04-02T00:00:00\",\"2010-04-09T00:00:00\",\"2010-04-16T00:00:00\",\"2010-04-23T00:00:00\",\"2010-04-30T00:00:00\",\"2010-05-07T00:00:00\",\"2010-05-14T00:00:00\",\"2010-05-21T00:00:00\",\"2010-05-28T00:00:00\",\"2010-06-04T00:00:00\",\"2010-06-11T00:00:00\",\"2010-06-18T00:00:00\",\"2010-06-25T00:00:00\",\"2010-07-02T00:00:00\",\"2010-07-09T00:00:00\",\"2010-07-16T00:00:00\",\"2010-07-23T00:00:00\",\"2010-07-30T00:00:00\",\"2010-08-06T00:00:00\",\"2010-08-13T00:00:00\",\"2010-08-20T00:00:00\",\"2010-08-27T00:00:00\",\"2010-09-03T00:00:00\",\"2010-09-10T00:00:00\",\"2010-09-17T00:00:00\",\"2010-09-24T00:00:00\",\"2010-10-01T00:00:00\",\"2010-10-08T00:00:00\",\"2010-10-15T00:00:00\",\"2010-10-22T00:00:00\",\"2010-10-29T00:00:00\",\"2010-11-05T00:00:00\",\"2010-11-12T00:00:00\",\"2010-11-19T00:00:00\",\"2010-11-26T00:00:00\",\"2010-12-03T00:00:00\",\"2010-12-10T00:00:00\",\"2010-12-17T00:00:00\",\"2010-12-24T00:00:00\",\"2010-12-31T00:00:00\",\"2011-01-07T00:00:00\",\"2011-01-14T00:00:00\",\"2011-01-21T00:00:00\",\"2011-01-28T00:00:00\",\"2011-02-04T00:00:00\",\"2011-02-11T00:00:00\",\"2011-02-18T00:00:00\",\"2011-02-25T00:00:00\",\"2011-03-04T00:00:00\",\"2011-03-11T00:00:00\",\"2011-03-18T00:00:00\",\"2011-03-25T00:00:00\",\"2011-04-01T00:00:00\",\"2011-04-08T00:00:00\",\"2011-04-15T00:00:00\",\"2011-04-22T00:00:00\",\"2011-04-29T00:00:00\",\"2011-05-06T00:00:00\",\"2011-05-13T00:00:00\",\"2011-05-20T00:00:00\",\"2011-05-27T00:00:00\",\"2011-06-03T00:00:00\",\"2011-06-10T00:00:00\",\"2011-06-17T00:00:00\",\"2011-06-24T00:00:00\",\"2011-07-01T00:00:00\",\"2011-07-08T00:00:00\",\"2011-07-15T00:00:00\",\"2011-07-22T00:00:00\",\"2011-07-29T00:00:00\",\"2011-08-05T00:00:00\",\"2011-08-12T00:00:00\",\"2011-08-19T00:00:00\",\"2011-08-26T00:00:00\",\"2011-09-02T00:00:00\",\"2011-09-09T00:00:00\",\"2011-09-16T00:00:00\",\"2011-09-23T00:00:00\",\"2011-09-30T00:00:00\",\"2011-10-07T00:00:00\",\"2011-10-14T00:00:00\",\"2011-10-21T00:00:00\",\"2011-10-28T00:00:00\",\"2011-11-04T00:00:00\",\"2011-11-11T00:00:00\",\"2011-11-18T00:00:00\",\"2011-11-25T00:00:00\",\"2011-12-02T00:00:00\",\"2011-12-09T00:00:00\",\"2011-12-16T00:00:00\",\"2011-12-23T00:00:00\",\"2011-12-30T00:00:00\",\"2012-01-06T00:00:00\",\"2012-01-13T00:00:00\",\"2012-01-20T00:00:00\",\"2012-01-27T00:00:00\",\"2012-02-03T00:00:00\",\"2012-02-10T00:00:00\",\"2012-02-17T00:00:00\",\"2012-02-24T00:00:00\",\"2012-03-02T00:00:00\",\"2012-03-09T00:00:00\",\"2012-03-16T00:00:00\",\"2012-03-23T00:00:00\",\"2012-03-30T00:00:00\",\"2012-04-06T00:00:00\",\"2012-04-13T00:00:00\",\"2012-04-20T00:00:00\",\"2012-04-27T00:00:00\",\"2012-05-04T00:00:00\",\"2012-05-11T00:00:00\",\"2012-05-18T00:00:00\",\"2012-05-25T00:00:00\",\"2012-06-01T00:00:00\",\"2012-06-08T00:00:00\",\"2012-06-15T00:00:00\",\"2012-06-22T00:00:00\",\"2012-06-29T00:00:00\",\"2012-07-06T00:00:00\",\"2012-07-13T00:00:00\",\"2012-07-20T00:00:00\",\"2012-07-27T00:00:00\",\"2012-08-03T00:00:00\",\"2012-08-10T00:00:00\",\"2012-08-17T00:00:00\",\"2012-08-24T00:00:00\",\"2012-08-31T00:00:00\",\"2012-09-07T00:00:00\",\"2012-09-14T00:00:00\",\"2012-09-21T00:00:00\",\"2012-09-28T00:00:00\",\"2012-10-05T00:00:00\",\"2012-10-12T00:00:00\",\"2012-10-19T00:00:00\",\"2012-10-26T00:00:00\",\"2010-02-05T00:00:00\",\"2010-02-12T00:00:00\",\"2010-02-19T00:00:00\",\"2010-02-26T00:00:00\",\"2010-03-05T00:00:00\",\"2010-03-12T00:00:00\",\"2010-03-19T00:00:00\",\"2010-03-26T00:00:00\",\"2010-04-02T00:00:00\",\"2010-04-09T00:00:00\",\"2010-04-16T00:00:00\",\"2010-04-23T00:00:00\",\"2010-04-30T00:00:00\",\"2010-05-07T00:00:00\",\"2010-05-14T00:00:00\",\"2010-05-21T00:00:00\",\"2010-05-28T00:00:00\",\"2010-06-04T00:00:00\",\"2010-07-02T00:00:00\",\"2010-07-23T00:00:00\",\"2010-07-30T00:00:00\",\"2010-09-10T00:00:00\",\"2010-10-01T00:00:00\",\"2010-10-08T00:00:00\",\"2010-10-15T00:00:00\",\"2010-10-22T00:00:00\",\"2010-10-29T00:00:00\",\"2010-11-05T00:00:00\",\"2010-11-12T00:00:00\",\"2010-11-19T00:00:00\",\"2010-11-26T00:00:00\",\"2010-12-17T00:00:00\",\"2011-01-07T00:00:00\",\"2011-01-14T00:00:00\",\"2011-01-21T00:00:00\",\"2011-02-11T00:00:00\",\"2011-02-18T00:00:00\",\"2011-02-25T00:00:00\",\"2011-03-04T00:00:00\",\"2011-03-11T00:00:00\",\"2011-03-18T00:00:00\",\"2011-04-22T00:00:00\",\"2011-05-13T00:00:00\",\"2011-05-20T00:00:00\",\"2011-05-27T00:00:00\",\"2011-06-10T00:00:00\",\"2011-06-24T00:00:00\",\"2011-08-26T00:00:00\",\"2011-09-02T00:00:00\",\"2011-09-09T00:00:00\",\"2011-09-23T00:00:00\",\"2011-09-30T00:00:00\",\"2011-10-07T00:00:00\",\"2011-10-21T00:00:00\",\"2011-10-28T00:00:00\",\"2011-11-04T00:00:00\",\"2011-11-11T00:00:00\",\"2011-11-18T00:00:00\",\"2011-12-02T00:00:00\",\"2011-12-09T00:00:00\",\"2011-12-23T00:00:00\",\"2011-12-30T00:00:00\",\"2012-01-06T00:00:00\",\"2012-01-13T00:00:00\",\"2012-01-20T00:00:00\",\"2012-02-10T00:00:00\",\"2012-09-07T00:00:00\",\"2012-09-21T00:00:00\",\"2012-09-28T00:00:00\",\"2012-10-12T00:00:00\",\"2012-10-26T00:00:00\",\"2010-02-05T00:00:00\",\"2010-02-12T00:00:00\",\"2010-02-19T00:00:00\",\"2010-02-26T00:00:00\",\"2010-03-05T00:00:00\",\"2010-03-12T00:00:00\",\"2010-03-19T00:00:00\",\"2010-03-26T00:00:00\",\"2010-04-02T00:00:00\",\"2010-04-09T00:00:00\",\"2010-04-16T00:00:00\",\"2010-04-23T00:00:00\",\"2010-04-30T00:00:00\",\"2010-05-07T00:00:00\",\"2010-05-14T00:00:00\",\"2010-05-21T00:00:00\",\"2010-05-28T00:00:00\",\"2010-06-04T00:00:00\",\"2010-06-11T00:00:00\",\"2010-06-18T00:00:00\",\"2010-06-25T00:00:00\",\"2010-07-02T00:00:00\",\"2010-07-09T00:00:00\",\"2010-07-16T00:00:00\",\"2010-07-23T00:00:00\",\"2010-07-30T00:00:00\",\"2010-08-06T00:00:00\",\"2010-08-13T00:00:00\",\"2010-08-20T00:00:00\",\"2010-08-27T00:00:00\",\"2010-09-03T00:00:00\",\"2010-09-10T00:00:00\",\"2010-09-17T00:00:00\",\"2010-09-24T00:00:00\",\"2010-10-01T00:00:00\",\"2010-10-08T00:00:00\",\"2010-10-15T00:00:00\",\"2010-10-22T00:00:00\",\"2010-10-29T00:00:00\",\"2010-11-05T00:00:00\",\"2010-11-12T00:00:00\",\"2010-11-19T00:00:00\",\"2010-11-26T00:00:00\",\"2010-12-03T00:00:00\",\"2010-12-10T00:00:00\",\"2010-12-17T00:00:00\",\"2010-12-24T00:00:00\",\"2010-12-31T00:00:00\",\"2011-01-07T00:00:00\",\"2011-01-14T00:00:00\",\"2011-01-21T00:00:00\",\"2011-01-28T00:00:00\",\"2011-02-04T00:00:00\",\"2011-02-11T00:00:00\",\"2011-02-18T00:00:00\",\"2011-02-25T00:00:00\",\"2011-03-04T00:00:00\",\"2011-03-11T00:00:00\",\"2011-03-18T00:00:00\",\"2011-03-25T00:00:00\",\"2011-04-01T00:00:00\",\"2011-04-08T00:00:00\",\"2011-04-15T00:00:00\",\"2011-04-22T00:00:00\",\"2011-04-29T00:00:00\",\"2011-05-06T00:00:00\",\"2011-05-13T00:00:00\",\"2011-05-20T00:00:00\",\"2011-05-27T00:00:00\",\"2011-06-03T00:00:00\",\"2011-06-10T00:00:00\",\"2011-06-17T00:00:00\",\"2011-06-24T00:00:00\",\"2011-07-01T00:00:00\",\"2011-07-08T00:00:00\",\"2011-07-15T00:00:00\",\"2011-07-22T00:00:00\",\"2011-07-29T00:00:00\",\"2011-08-05T00:00:00\",\"2011-08-12T00:00:00\",\"2011-08-19T00:00:00\",\"2011-08-26T00:00:00\",\"2011-09-02T00:00:00\",\"2011-09-09T00:00:00\",\"2011-09-16T00:00:00\",\"2011-09-23T00:00:00\",\"2011-09-30T00:00:00\",\"2011-10-07T00:00:00\",\"2011-10-14T00:00:00\",\"2011-10-21T00:00:00\",\"2011-10-28T00:00:00\",\"2011-11-04T00:00:00\",\"2011-11-11T00:00:00\",\"2011-11-18T00:00:00\",\"2011-11-25T00:00:00\",\"2011-12-02T00:00:00\",\"2011-12-09T00:00:00\",\"2011-12-16T00:00:00\",\"2011-12-23T00:00:00\",\"2011-12-30T00:00:00\",\"2012-01-06T00:00:00\",\"2012-01-13T00:00:00\",\"2012-01-20T00:00:00\",\"2012-01-27T00:00:00\",\"2012-02-03T00:00:00\",\"2012-02-10T00:00:00\",\"2012-02-17T00:00:00\",\"2012-02-24T00:00:00\",\"2012-03-02T00:00:00\",\"2012-03-09T00:00:00\",\"2012-03-16T00:00:00\",\"2012-03-23T00:00:00\",\"2012-03-30T00:00:00\",\"2012-04-06T00:00:00\",\"2012-04-13T00:00:00\",\"2012-04-20T00:00:00\",\"2012-04-27T00:00:00\",\"2012-05-04T00:00:00\",\"2012-05-11T00:00:00\",\"2012-05-18T00:00:00\",\"2012-05-25T00:00:00\",\"2012-06-01T00:00:00\",\"2012-06-08T00:00:00\",\"2012-06-15T00:00:00\",\"2012-06-22T00:00:00\",\"2012-06-29T00:00:00\",\"2012-07-06T00:00:00\",\"2012-07-13T00:00:00\",\"2012-07-20T00:00:00\",\"2012-07-27T00:00:00\",\"2012-08-03T00:00:00\",\"2012-08-10T00:00:00\",\"2012-08-17T00:00:00\",\"2012-08-24T00:00:00\",\"2012-08-31T00:00:00\",\"2012-09-07T00:00:00\",\"2012-09-14T00:00:00\",\"2012-09-21T00:00:00\",\"2012-09-28T00:00:00\",\"2012-10-05T00:00:00\",\"2012-10-12T00:00:00\",\"2012-10-19T00:00:00\",\"2012-10-26T00:00:00\",\"2010-02-05T00:00:00\",\"2010-02-19T00:00:00\",\"2010-03-12T00:00:00\",\"2010-04-09T00:00:00\",\"2010-10-08T00:00:00\",\"2010-10-22T00:00:00\",\"2010-11-12T00:00:00\",\"2010-12-24T00:00:00\",\"2011-03-11T00:00:00\",\"2011-04-08T00:00:00\",\"2011-07-08T00:00:00\",\"2011-08-05T00:00:00\",\"2011-08-12T00:00:00\",\"2011-08-19T00:00:00\",\"2011-10-14T00:00:00\",\"2011-12-23T00:00:00\",\"2012-02-17T00:00:00\",\"2012-03-16T00:00:00\",\"2012-06-08T00:00:00\",\"2012-07-27T00:00:00\",\"2012-08-10T00:00:00\",\"2012-09-28T00:00:00\",\"2010-02-05T00:00:00\",\"2010-02-12T00:00:00\",\"2010-02-19T00:00:00\",\"2010-02-26T00:00:00\",\"2010-03-05T00:00:00\",\"2010-03-12T00:00:00\",\"2010-03-19T00:00:00\",\"2010-03-26T00:00:00\",\"2010-04-02T00:00:00\",\"2010-04-09T00:00:00\",\"2010-04-16T00:00:00\",\"2010-04-23T00:00:00\",\"2010-04-30T00:00:00\",\"2010-05-07T00:00:00\",\"2010-05-14T00:00:00\",\"2010-06-11T00:00:00\",\"2010-07-02T00:00:00\",\"2010-07-09T00:00:00\",\"2010-07-23T00:00:00\",\"2010-07-30T00:00:00\",\"2010-08-13T00:00:00\",\"2010-08-20T00:00:00\",\"2010-09-03T00:00:00\",\"2010-09-10T00:00:00\",\"2010-09-17T00:00:00\",\"2010-09-24T00:00:00\",\"2010-10-01T00:00:00\",\"2010-10-08T00:00:00\",\"2010-10-15T00:00:00\",\"2010-10-22T00:00:00\",\"2010-10-29T00:00:00\",\"2010-11-05T00:00:00\",\"2010-11-12T00:00:00\",\"2010-11-19T00:00:00\",\"2010-11-26T00:00:00\",\"2010-12-03T00:00:00\",\"2010-12-10T00:00:00\",\"2010-12-17T00:00:00\",\"2010-12-24T00:00:00\",\"2010-12-31T00:00:00\",\"2011-01-07T00:00:00\",\"2011-01-14T00:00:00\",\"2011-01-21T00:00:00\",\"2011-01-28T00:00:00\",\"2011-02-04T00:00:00\",\"2011-02-11T00:00:00\",\"2011-02-18T00:00:00\",\"2011-02-25T00:00:00\",\"2011-03-04T00:00:00\",\"2011-03-11T00:00:00\",\"2011-03-18T00:00:00\",\"2011-03-25T00:00:00\",\"2011-04-01T00:00:00\",\"2011-04-08T00:00:00\",\"2011-04-15T00:00:00\",\"2011-04-22T00:00:00\",\"2011-05-06T00:00:00\",\"2011-05-13T00:00:00\",\"2011-05-20T00:00:00\",\"2011-05-27T00:00:00\",\"2011-06-03T00:00:00\",\"2011-06-17T00:00:00\",\"2011-08-05T00:00:00\",\"2011-08-12T00:00:00\",\"2011-08-19T00:00:00\",\"2011-08-26T00:00:00\",\"2011-09-02T00:00:00\",\"2011-09-09T00:00:00\",\"2011-09-16T00:00:00\",\"2011-09-23T00:00:00\",\"2011-09-30T00:00:00\",\"2011-10-07T00:00:00\",\"2011-10-14T00:00:00\",\"2011-10-21T00:00:00\",\"2011-10-28T00:00:00\",\"2011-11-04T00:00:00\",\"2011-11-11T00:00:00\",\"2011-11-18T00:00:00\",\"2011-11-25T00:00:00\",\"2011-12-02T00:00:00\",\"2011-12-09T00:00:00\",\"2011-12-16T00:00:00\",\"2011-12-23T00:00:00\",\"2011-12-30T00:00:00\",\"2012-01-06T00:00:00\",\"2012-01-20T00:00:00\",\"2012-01-27T00:00:00\",\"2012-02-03T00:00:00\",\"2012-02-10T00:00:00\",\"2012-02-17T00:00:00\",\"2012-02-24T00:00:00\",\"2012-03-02T00:00:00\",\"2012-03-09T00:00:00\",\"2012-03-16T00:00:00\",\"2012-03-23T00:00:00\",\"2012-03-30T00:00:00\",\"2012-04-06T00:00:00\",\"2012-04-13T00:00:00\",\"2012-04-20T00:00:00\",\"2012-04-27T00:00:00\",\"2012-05-04T00:00:00\",\"2012-05-11T00:00:00\",\"2012-05-18T00:00:00\",\"2012-05-25T00:00:00\",\"2012-06-01T00:00:00\",\"2012-06-08T00:00:00\",\"2012-06-15T00:00:00\",\"2012-06-22T00:00:00\",\"2012-06-29T00:00:00\",\"2012-07-06T00:00:00\",\"2012-07-13T00:00:00\",\"2012-07-20T00:00:00\",\"2012-07-27T00:00:00\",\"2012-08-03T00:00:00\",\"2012-08-10T00:00:00\",\"2012-08-17T00:00:00\",\"2012-08-31T00:00:00\",\"2012-09-07T00:00:00\",\"2012-09-14T00:00:00\",\"2012-09-21T00:00:00\",\"2012-09-28T00:00:00\",\"2012-10-05T00:00:00\",\"2012-10-12T00:00:00\",\"2012-10-19T00:00:00\",\"2012-10-26T00:00:00\",\"2010-02-05T00:00:00\",\"2010-02-12T00:00:00\",\"2010-02-19T00:00:00\",\"2010-02-26T00:00:00\",\"2010-03-05T00:00:00\",\"2010-03-12T00:00:00\",\"2010-03-19T00:00:00\",\"2010-03-26T00:00:00\",\"2010-04-02T00:00:00\",\"2010-04-09T00:00:00\",\"2010-04-16T00:00:00\",\"2010-04-23T00:00:00\",\"2010-04-30T00:00:00\",\"2010-05-07T00:00:00\",\"2010-05-14T00:00:00\",\"2010-05-21T00:00:00\",\"2010-05-28T00:00:00\",\"2010-06-04T00:00:00\",\"2010-06-11T00:00:00\",\"2010-06-18T00:00:00\",\"2010-06-25T00:00:00\",\"2010-07-02T00:00:00\",\"2010-07-09T00:00:00\",\"2010-07-16T00:00:00\",\"2010-07-23T00:00:00\",\"2010-07-30T00:00:00\",\"2010-08-06T00:00:00\",\"2010-08-13T00:00:00\",\"2010-08-20T00:00:00\",\"2010-08-27T00:00:00\",\"2010-09-03T00:00:00\",\"2010-09-10T00:00:00\",\"2010-09-17T00:00:00\",\"2010-09-24T00:00:00\",\"2010-10-01T00:00:00\",\"2010-10-08T00:00:00\",\"2010-10-15T00:00:00\",\"2010-10-22T00:00:00\",\"2010-10-29T00:00:00\",\"2010-11-05T00:00:00\",\"2010-11-12T00:00:00\",\"2010-11-19T00:00:00\",\"2010-11-26T00:00:00\",\"2010-12-03T00:00:00\",\"2010-12-10T00:00:00\",\"2010-12-17T00:00:00\",\"2010-12-24T00:00:00\",\"2010-12-31T00:00:00\",\"2011-01-07T00:00:00\",\"2011-01-14T00:00:00\",\"2011-01-21T00:00:00\",\"2011-01-28T00:00:00\",\"2011-02-04T00:00:00\",\"2011-02-11T00:00:00\",\"2011-02-18T00:00:00\",\"2011-02-25T00:00:00\",\"2011-03-04T00:00:00\",\"2011-03-11T00:00:00\",\"2011-03-18T00:00:00\",\"2011-03-25T00:00:00\",\"2011-04-01T00:00:00\",\"2011-04-08T00:00:00\",\"2011-04-15T00:00:00\",\"2011-04-22T00:00:00\",\"2011-04-29T00:00:00\",\"2011-05-06T00:00:00\",\"2011-05-13T00:00:00\",\"2011-05-20T00:00:00\",\"2011-05-27T00:00:00\",\"2011-06-03T00:00:00\",\"2011-06-10T00:00:00\",\"2011-06-17T00:00:00\",\"2011-06-24T00:00:00\",\"2011-07-01T00:00:00\",\"2011-07-08T00:00:00\",\"2011-07-15T00:00:00\",\"2011-07-22T00:00:00\",\"2011-07-29T00:00:00\",\"2011-08-05T00:00:00\",\"2011-08-12T00:00:00\",\"2011-08-19T00:00:00\",\"2011-08-26T00:00:00\",\"2011-09-02T00:00:00\",\"2011-09-09T00:00:00\",\"2011-09-16T00:00:00\",\"2011-09-23T00:00:00\",\"2011-09-30T00:00:00\",\"2011-10-07T00:00:00\",\"2011-10-14T00:00:00\",\"2011-10-21T00:00:00\",\"2011-10-28T00:00:00\",\"2011-11-04T00:00:00\",\"2011-11-11T00:00:00\",\"2011-11-18T00:00:00\",\"2011-11-25T00:00:00\",\"2011-12-02T00:00:00\",\"2011-12-09T00:00:00\",\"2011-12-16T00:00:00\",\"2011-12-23T00:00:00\",\"2011-12-30T00:00:00\",\"2012-01-06T00:00:00\",\"2012-01-13T00:00:00\",\"2012-01-20T00:00:00\",\"2012-01-27T00:00:00\",\"2012-02-03T00:00:00\",\"2012-02-10T00:00:00\",\"2012-02-17T00:00:00\",\"2012-02-24T00:00:00\",\"2012-03-02T00:00:00\",\"2012-03-09T00:00:00\",\"2012-03-16T00:00:00\",\"2012-03-23T00:00:00\",\"2012-03-30T00:00:00\",\"2012-04-06T00:00:00\",\"2012-04-13T00:00:00\",\"2012-04-20T00:00:00\",\"2012-04-27T00:00:00\",\"2012-05-04T00:00:00\",\"2012-05-11T00:00:00\",\"2012-05-18T00:00:00\",\"2012-05-25T00:00:00\",\"2012-06-01T00:00:00\",\"2012-06-08T00:00:00\",\"2012-06-15T00:00:00\",\"2012-06-22T00:00:00\",\"2012-06-29T00:00:00\",\"2012-07-06T00:00:00\",\"2012-07-13T00:00:00\",\"2012-07-20T00:00:00\",\"2012-07-27T00:00:00\",\"2012-08-03T00:00:00\",\"2012-08-10T00:00:00\",\"2012-08-17T00:00:00\",\"2012-08-24T00:00:00\",\"2012-08-31T00:00:00\",\"2012-09-07T00:00:00\",\"2012-09-14T00:00:00\",\"2012-09-21T00:00:00\",\"2012-09-28T00:00:00\",\"2012-10-05T00:00:00\",\"2012-10-12T00:00:00\",\"2012-10-19T00:00:00\",\"2012-10-26T00:00:00\",\"2010-02-05T00:00:00\",\"2010-02-12T00:00:00\",\"2010-02-19T00:00:00\",\"2010-02-26T00:00:00\",\"2010-03-05T00:00:00\",\"2010-03-12T00:00:00\",\"2010-03-19T00:00:00\",\"2010-03-26T00:00:00\",\"2010-04-02T00:00:00\",\"2010-04-09T00:00:00\",\"2010-04-16T00:00:00\",\"2010-04-23T00:00:00\",\"2010-04-30T00:00:00\",\"2010-05-07T00:00:00\",\"2010-05-14T00:00:00\",\"2010-05-21T00:00:00\",\"2010-05-28T00:00:00\",\"2010-06-04T00:00:00\",\"2010-06-11T00:00:00\",\"2010-06-18T00:00:00\",\"2010-06-25T00:00:00\",\"2010-07-02T00:00:00\",\"2010-07-09T00:00:00\",\"2010-07-16T00:00:00\",\"2010-07-23T00:00:00\",\"2010-07-30T00:00:00\",\"2010-08-06T00:00:00\",\"2010-08-13T00:00:00\",\"2010-08-20T00:00:00\",\"2010-09-03T00:00:00\",\"2010-09-17T00:00:00\",\"2010-10-01T00:00:00\",\"2010-10-15T00:00:00\",\"2010-02-05T00:00:00\",\"2010-02-12T00:00:00\",\"2010-02-19T00:00:00\",\"2010-02-26T00:00:00\",\"2010-03-05T00:00:00\",\"2010-03-12T00:00:00\",\"2010-03-19T00:00:00\",\"2010-03-26T00:00:00\",\"2010-04-02T00:00:00\",\"2010-04-09T00:00:00\",\"2010-04-16T00:00:00\",\"2010-04-23T00:00:00\",\"2010-04-30T00:00:00\",\"2010-05-07T00:00:00\",\"2010-05-14T00:00:00\",\"2010-05-21T00:00:00\",\"2010-05-28T00:00:00\",\"2010-06-04T00:00:00\",\"2010-06-11T00:00:00\",\"2010-06-18T00:00:00\",\"2010-06-25T00:00:00\",\"2010-07-02T00:00:00\",\"2010-07-09T00:00:00\",\"2010-07-16T00:00:00\",\"2010-07-23T00:00:00\",\"2010-07-30T00:00:00\",\"2010-08-06T00:00:00\",\"2010-08-13T00:00:00\",\"2010-08-20T00:00:00\",\"2010-08-27T00:00:00\",\"2010-09-03T00:00:00\",\"2010-09-10T00:00:00\",\"2010-09-17T00:00:00\",\"2010-09-24T00:00:00\",\"2010-10-01T00:00:00\",\"2010-10-08T00:00:00\",\"2010-10-15T00:00:00\",\"2010-10-22T00:00:00\",\"2010-10-29T00:00:00\",\"2010-11-05T00:00:00\",\"2010-11-12T00:00:00\",\"2010-11-19T00:00:00\",\"2010-11-26T00:00:00\",\"2010-12-03T00:00:00\",\"2010-12-10T00:00:00\",\"2010-12-17T00:00:00\",\"2010-12-24T00:00:00\",\"2010-12-31T00:00:00\",\"2011-01-07T00:00:00\",\"2011-01-14T00:00:00\",\"2011-01-21T00:00:00\",\"2011-01-28T00:00:00\",\"2011-02-04T00:00:00\",\"2011-02-11T00:00:00\",\"2011-02-18T00:00:00\",\"2011-02-25T00:00:00\",\"2011-03-04T00:00:00\",\"2011-03-11T00:00:00\",\"2011-03-18T00:00:00\",\"2011-03-25T00:00:00\",\"2011-04-01T00:00:00\",\"2011-04-08T00:00:00\",\"2011-04-15T00:00:00\",\"2011-04-22T00:00:00\",\"2011-04-29T00:00:00\",\"2011-05-06T00:00:00\",\"2011-05-13T00:00:00\",\"2011-05-20T00:00:00\",\"2011-05-27T00:00:00\",\"2011-06-03T00:00:00\",\"2011-06-10T00:00:00\",\"2011-06-17T00:00:00\",\"2011-06-24T00:00:00\",\"2011-07-01T00:00:00\",\"2011-07-08T00:00:00\",\"2011-07-15T00:00:00\",\"2011-07-22T00:00:00\",\"2011-07-29T00:00:00\",\"2011-08-05T00:00:00\",\"2011-08-12T00:00:00\",\"2011-08-19T00:00:00\",\"2011-08-26T00:00:00\",\"2011-09-02T00:00:00\",\"2011-09-09T00:00:00\",\"2011-09-16T00:00:00\",\"2011-09-23T00:00:00\",\"2011-09-30T00:00:00\",\"2011-10-07T00:00:00\",\"2011-10-14T00:00:00\",\"2011-10-21T00:00:00\",\"2011-10-28T00:00:00\",\"2011-11-04T00:00:00\",\"2011-11-11T00:00:00\",\"2011-11-18T00:00:00\",\"2011-11-25T00:00:00\",\"2011-12-02T00:00:00\",\"2011-12-09T00:00:00\",\"2011-12-16T00:00:00\",\"2011-12-23T00:00:00\",\"2011-12-30T00:00:00\",\"2012-01-06T00:00:00\",\"2012-01-13T00:00:00\",\"2012-01-20T00:00:00\",\"2012-01-27T00:00:00\",\"2012-02-03T00:00:00\",\"2012-02-10T00:00:00\",\"2012-02-17T00:00:00\",\"2012-02-24T00:00:00\",\"2012-03-02T00:00:00\",\"2012-03-09T00:00:00\",\"2012-03-16T00:00:00\",\"2012-03-23T00:00:00\",\"2012-03-30T00:00:00\",\"2012-04-06T00:00:00\",\"2012-04-13T00:00:00\",\"2012-04-20T00:00:00\",\"2012-04-27T00:00:00\",\"2012-05-04T00:00:00\",\"2012-05-11T00:00:00\",\"2012-05-18T00:00:00\",\"2012-05-25T00:00:00\",\"2012-06-01T00:00:00\",\"2012-06-08T00:00:00\",\"2012-06-15T00:00:00\",\"2012-06-22T00:00:00\",\"2012-06-29T00:00:00\",\"2012-07-06T00:00:00\",\"2012-07-13T00:00:00\",\"2012-07-20T00:00:00\",\"2012-07-27T00:00:00\",\"2012-08-03T00:00:00\",\"2012-08-10T00:00:00\",\"2012-08-17T00:00:00\",\"2012-08-24T00:00:00\",\"2012-08-31T00:00:00\",\"2012-09-07T00:00:00\",\"2012-09-14T00:00:00\",\"2012-09-21T00:00:00\",\"2012-09-28T00:00:00\",\"2012-10-05T00:00:00\",\"2012-10-12T00:00:00\",\"2012-10-19T00:00:00\",\"2012-10-26T00:00:00\",\"2010-02-05T00:00:00\",\"2010-02-12T00:00:00\",\"2010-02-19T00:00:00\",\"2010-02-26T00:00:00\",\"2010-03-05T00:00:00\",\"2010-03-12T00:00:00\",\"2010-03-19T00:00:00\",\"2010-03-26T00:00:00\",\"2010-04-02T00:00:00\",\"2010-04-09T00:00:00\",\"2010-04-16T00:00:00\",\"2010-04-23T00:00:00\",\"2010-04-30T00:00:00\",\"2010-05-07T00:00:00\",\"2010-05-14T00:00:00\",\"2010-05-21T00:00:00\",\"2010-05-28T00:00:00\",\"2010-06-04T00:00:00\",\"2010-06-11T00:00:00\",\"2010-06-18T00:00:00\",\"2010-06-25T00:00:00\",\"2010-07-02T00:00:00\",\"2010-07-09T00:00:00\",\"2010-07-16T00:00:00\",\"2010-07-23T00:00:00\",\"2010-07-30T00:00:00\",\"2010-08-06T00:00:00\",\"2010-08-13T00:00:00\",\"2010-08-20T00:00:00\",\"2010-08-27T00:00:00\",\"2010-09-03T00:00:00\",\"2010-09-10T00:00:00\",\"2010-09-17T00:00:00\",\"2010-09-24T00:00:00\",\"2010-10-01T00:00:00\",\"2010-10-08T00:00:00\",\"2010-10-15T00:00:00\",\"2010-10-22T00:00:00\",\"2010-10-29T00:00:00\",\"2010-11-05T00:00:00\",\"2010-11-12T00:00:00\",\"2010-11-19T00:00:00\",\"2010-11-26T00:00:00\",\"2010-12-03T00:00:00\",\"2010-12-10T00:00:00\",\"2010-12-17T00:00:00\",\"2010-12-24T00:00:00\",\"2010-12-31T00:00:00\",\"2011-01-07T00:00:00\",\"2011-01-21T00:00:00\",\"2011-01-28T00:00:00\",\"2011-02-04T00:00:00\",\"2011-02-11T00:00:00\",\"2011-02-18T00:00:00\",\"2011-02-25T00:00:00\",\"2011-03-04T00:00:00\",\"2011-03-11T00:00:00\",\"2011-03-18T00:00:00\",\"2011-03-25T00:00:00\",\"2011-04-01T00:00:00\",\"2011-04-15T00:00:00\",\"2011-04-22T00:00:00\",\"2011-04-29T00:00:00\",\"2011-05-06T00:00:00\",\"2011-05-13T00:00:00\",\"2011-05-20T00:00:00\",\"2011-06-03T00:00:00\",\"2011-06-10T00:00:00\",\"2011-06-17T00:00:00\",\"2011-06-24T00:00:00\",\"2011-07-08T00:00:00\",\"2011-07-15T00:00:00\",\"2011-07-22T00:00:00\",\"2011-07-29T00:00:00\",\"2011-08-05T00:00:00\",\"2011-08-12T00:00:00\",\"2011-08-19T00:00:00\",\"2011-08-26T00:00:00\",\"2011-09-02T00:00:00\",\"2011-09-16T00:00:00\",\"2011-09-23T00:00:00\",\"2011-09-30T00:00:00\",\"2011-10-07T00:00:00\",\"2011-10-14T00:00:00\",\"2011-10-21T00:00:00\",\"2011-10-28T00:00:00\",\"2011-11-04T00:00:00\",\"2011-11-11T00:00:00\",\"2011-11-18T00:00:00\",\"2011-11-25T00:00:00\",\"2011-12-02T00:00:00\",\"2011-12-09T00:00:00\",\"2011-12-16T00:00:00\",\"2011-12-23T00:00:00\",\"2011-12-30T00:00:00\",\"2012-01-06T00:00:00\",\"2012-01-13T00:00:00\",\"2012-01-20T00:00:00\",\"2012-02-03T00:00:00\",\"2012-02-10T00:00:00\",\"2012-02-17T00:00:00\",\"2012-02-24T00:00:00\",\"2012-03-02T00:00:00\",\"2012-03-09T00:00:00\",\"2012-03-16T00:00:00\",\"2012-03-23T00:00:00\",\"2012-03-30T00:00:00\",\"2012-04-06T00:00:00\",\"2012-04-20T00:00:00\",\"2012-04-27T00:00:00\",\"2012-05-11T00:00:00\",\"2012-05-18T00:00:00\",\"2012-05-25T00:00:00\",\"2012-06-01T00:00:00\",\"2012-06-08T00:00:00\",\"2012-06-15T00:00:00\",\"2012-06-22T00:00:00\",\"2012-07-06T00:00:00\",\"2012-07-13T00:00:00\",\"2012-07-20T00:00:00\",\"2012-07-27T00:00:00\",\"2012-08-03T00:00:00\",\"2012-08-10T00:00:00\",\"2012-08-17T00:00:00\",\"2012-08-24T00:00:00\",\"2012-08-31T00:00:00\",\"2012-09-07T00:00:00\",\"2012-09-14T00:00:00\",\"2012-09-28T00:00:00\",\"2012-10-05T00:00:00\",\"2012-10-12T00:00:00\",\"2012-10-19T00:00:00\",\"2012-10-26T00:00:00\",\"2010-02-05T00:00:00\",\"2010-02-12T00:00:00\",\"2010-02-19T00:00:00\",\"2010-02-26T00:00:00\",\"2010-03-05T00:00:00\",\"2010-03-12T00:00:00\",\"2010-03-19T00:00:00\",\"2010-03-26T00:00:00\",\"2010-04-02T00:00:00\",\"2010-04-09T00:00:00\",\"2010-04-16T00:00:00\",\"2010-04-23T00:00:00\",\"2010-04-30T00:00:00\",\"2010-05-07T00:00:00\",\"2010-05-14T00:00:00\",\"2010-05-21T00:00:00\",\"2010-05-28T00:00:00\",\"2010-06-04T00:00:00\",\"2010-06-11T00:00:00\",\"2010-06-18T00:00:00\",\"2010-06-25T00:00:00\",\"2010-07-02T00:00:00\",\"2010-07-09T00:00:00\",\"2010-07-16T00:00:00\",\"2010-07-23T00:00:00\",\"2010-07-30T00:00:00\",\"2010-08-06T00:00:00\",\"2010-08-13T00:00:00\",\"2010-08-20T00:00:00\",\"2010-08-27T00:00:00\",\"2010-09-03T00:00:00\",\"2010-09-10T00:00:00\",\"2010-09-17T00:00:00\",\"2010-09-24T00:00:00\",\"2010-10-01T00:00:00\",\"2010-10-08T00:00:00\",\"2010-10-15T00:00:00\",\"2010-10-22T00:00:00\",\"2010-10-29T00:00:00\",\"2010-11-05T00:00:00\",\"2010-11-12T00:00:00\",\"2010-11-19T00:00:00\",\"2010-11-26T00:00:00\",\"2010-12-03T00:00:00\",\"2010-12-10T00:00:00\",\"2010-12-17T00:00:00\",\"2010-12-24T00:00:00\",\"2010-12-31T00:00:00\",\"2011-01-07T00:00:00\",\"2011-01-14T00:00:00\",\"2011-01-21T00:00:00\",\"2011-01-28T00:00:00\",\"2011-02-04T00:00:00\",\"2011-02-11T00:00:00\",\"2011-02-18T00:00:00\",\"2011-02-25T00:00:00\",\"2011-03-04T00:00:00\",\"2011-03-11T00:00:00\",\"2011-03-18T00:00:00\",\"2011-03-25T00:00:00\",\"2011-04-01T00:00:00\",\"2011-04-08T00:00:00\",\"2011-04-15T00:00:00\",\"2011-04-22T00:00:00\",\"2011-04-29T00:00:00\",\"2011-05-06T00:00:00\",\"2011-05-13T00:00:00\",\"2011-05-20T00:00:00\",\"2011-05-27T00:00:00\",\"2011-06-03T00:00:00\",\"2011-06-10T00:00:00\",\"2011-06-17T00:00:00\",\"2011-06-24T00:00:00\",\"2011-07-01T00:00:00\",\"2011-07-08T00:00:00\",\"2011-07-15T00:00:00\",\"2011-07-22T00:00:00\",\"2011-07-29T00:00:00\",\"2011-08-05T00:00:00\",\"2011-08-12T00:00:00\",\"2011-08-19T00:00:00\",\"2011-08-26T00:00:00\",\"2011-09-02T00:00:00\",\"2011-09-09T00:00:00\",\"2011-09-16T00:00:00\",\"2011-09-23T00:00:00\",\"2011-09-30T00:00:00\",\"2011-10-07T00:00:00\",\"2011-10-14T00:00:00\",\"2011-10-21T00:00:00\",\"2011-10-28T00:00:00\",\"2011-11-04T00:00:00\",\"2011-11-11T00:00:00\",\"2011-11-18T00:00:00\",\"2011-11-25T00:00:00\",\"2011-12-02T00:00:00\",\"2011-12-09T00:00:00\",\"2011-12-16T00:00:00\",\"2011-12-23T00:00:00\",\"2011-12-30T00:00:00\",\"2012-01-06T00:00:00\",\"2012-01-13T00:00:00\",\"2012-01-20T00:00:00\",\"2012-01-27T00:00:00\",\"2012-02-03T00:00:00\",\"2012-02-10T00:00:00\",\"2012-02-17T00:00:00\",\"2012-02-24T00:00:00\",\"2012-03-02T00:00:00\",\"2012-03-09T00:00:00\",\"2012-03-16T00:00:00\",\"2012-03-23T00:00:00\",\"2012-03-30T00:00:00\",\"2012-04-06T00:00:00\",\"2012-04-13T00:00:00\",\"2012-04-20T00:00:00\",\"2012-04-27T00:00:00\",\"2012-05-04T00:00:00\",\"2012-05-11T00:00:00\",\"2012-05-18T00:00:00\",\"2012-05-25T00:00:00\",\"2012-06-01T00:00:00\",\"2012-06-08T00:00:00\",\"2012-06-15T00:00:00\",\"2012-06-22T00:00:00\",\"2012-06-29T00:00:00\",\"2012-07-06T00:00:00\",\"2012-07-13T00:00:00\",\"2012-07-20T00:00:00\",\"2012-07-27T00:00:00\",\"2012-08-03T00:00:00\",\"2012-08-10T00:00:00\",\"2012-08-17T00:00:00\",\"2012-08-24T00:00:00\",\"2012-08-31T00:00:00\",\"2012-09-07T00:00:00\",\"2012-09-14T00:00:00\",\"2012-09-21T00:00:00\",\"2012-09-28T00:00:00\",\"2012-10-05T00:00:00\",\"2012-10-12T00:00:00\",\"2012-10-19T00:00:00\",\"2012-10-26T00:00:00\",\"2010-02-05T00:00:00\",\"2010-02-12T00:00:00\",\"2010-02-19T00:00:00\",\"2010-02-26T00:00:00\",\"2010-03-05T00:00:00\",\"2010-03-12T00:00:00\",\"2010-03-19T00:00:00\",\"2010-03-26T00:00:00\",\"2010-04-02T00:00:00\",\"2010-04-09T00:00:00\",\"2010-04-16T00:00:00\",\"2010-04-23T00:00:00\",\"2010-04-30T00:00:00\",\"2010-05-07T00:00:00\",\"2010-05-14T00:00:00\",\"2010-05-21T00:00:00\",\"2010-05-28T00:00:00\",\"2010-06-04T00:00:00\",\"2010-06-11T00:00:00\",\"2010-06-18T00:00:00\",\"2010-06-25T00:00:00\",\"2010-07-02T00:00:00\",\"2010-07-09T00:00:00\",\"2010-07-16T00:00:00\",\"2010-07-23T00:00:00\",\"2010-07-30T00:00:00\",\"2010-08-06T00:00:00\",\"2010-08-13T00:00:00\",\"2010-08-20T00:00:00\",\"2010-08-27T00:00:00\",\"2010-09-03T00:00:00\",\"2010-09-10T00:00:00\",\"2010-09-17T00:00:00\",\"2010-09-24T00:00:00\",\"2010-10-01T00:00:00\",\"2010-10-08T00:00:00\",\"2010-10-15T00:00:00\",\"2010-10-22T00:00:00\",\"2010-10-29T00:00:00\",\"2010-11-05T00:00:00\",\"2010-11-12T00:00:00\",\"2010-11-19T00:00:00\",\"2010-11-26T00:00:00\",\"2010-12-03T00:00:00\",\"2010-12-10T00:00:00\",\"2010-12-17T00:00:00\",\"2010-12-24T00:00:00\",\"2010-12-31T00:00:00\",\"2011-01-07T00:00:00\",\"2011-01-14T00:00:00\",\"2011-01-21T00:00:00\",\"2011-01-28T00:00:00\",\"2011-02-04T00:00:00\",\"2011-02-11T00:00:00\",\"2011-02-18T00:00:00\",\"2011-02-25T00:00:00\",\"2011-03-04T00:00:00\",\"2011-03-11T00:00:00\",\"2011-03-18T00:00:00\",\"2011-03-25T00:00:00\",\"2011-04-01T00:00:00\",\"2011-04-08T00:00:00\",\"2011-04-15T00:00:00\",\"2011-04-22T00:00:00\",\"2011-04-29T00:00:00\",\"2011-05-06T00:00:00\",\"2011-05-13T00:00:00\",\"2011-05-20T00:00:00\",\"2011-05-27T00:00:00\",\"2011-06-03T00:00:00\",\"2011-06-10T00:00:00\",\"2011-06-17T00:00:00\",\"2011-06-24T00:00:00\",\"2011-07-01T00:00:00\",\"2011-07-08T00:00:00\",\"2011-07-15T00:00:00\",\"2011-07-22T00:00:00\",\"2011-07-29T00:00:00\",\"2011-08-05T00:00:00\",\"2011-08-12T00:00:00\",\"2011-08-19T00:00:00\",\"2011-08-26T00:00:00\",\"2011-09-02T00:00:00\",\"2011-09-09T00:00:00\",\"2011-09-16T00:00:00\",\"2011-09-23T00:00:00\",\"2011-09-30T00:00:00\",\"2011-10-07T00:00:00\",\"2011-10-14T00:00:00\",\"2011-10-21T00:00:00\",\"2011-10-28T00:00:00\",\"2011-11-04T00:00:00\",\"2011-11-11T00:00:00\",\"2011-11-18T00:00:00\",\"2011-11-25T00:00:00\",\"2011-12-02T00:00:00\",\"2011-12-09T00:00:00\",\"2011-12-16T00:00:00\",\"2011-12-23T00:00:00\",\"2011-12-30T00:00:00\",\"2012-01-06T00:00:00\",\"2012-01-13T00:00:00\",\"2012-01-20T00:00:00\",\"2012-01-27T00:00:00\",\"2012-02-03T00:00:00\",\"2012-02-10T00:00:00\",\"2012-02-17T00:00:00\",\"2012-02-24T00:00:00\",\"2012-03-02T00:00:00\",\"2012-03-09T00:00:00\",\"2012-03-16T00:00:00\",\"2012-03-23T00:00:00\",\"2012-03-30T00:00:00\",\"2012-04-06T00:00:00\",\"2012-04-13T00:00:00\",\"2012-04-20T00:00:00\",\"2012-04-27T00:00:00\",\"2012-05-04T00:00:00\",\"2012-05-11T00:00:00\",\"2012-05-18T00:00:00\",\"2012-05-25T00:00:00\",\"2012-06-01T00:00:00\",\"2012-06-08T00:00:00\",\"2012-06-15T00:00:00\",\"2012-06-22T00:00:00\",\"2012-06-29T00:00:00\",\"2012-07-06T00:00:00\",\"2012-07-13T00:00:00\",\"2012-07-20T00:00:00\",\"2012-07-27T00:00:00\",\"2012-08-03T00:00:00\",\"2012-08-10T00:00:00\",\"2012-08-17T00:00:00\",\"2012-08-24T00:00:00\",\"2012-08-31T00:00:00\",\"2012-09-07T00:00:00\",\"2012-09-14T00:00:00\",\"2012-09-21T00:00:00\",\"2012-09-28T00:00:00\",\"2012-10-05T00:00:00\",\"2012-10-12T00:00:00\",\"2012-10-19T00:00:00\",\"2012-10-26T00:00:00\",\"2010-02-05T00:00:00\",\"2010-02-12T00:00:00\",\"2010-02-19T00:00:00\",\"2010-02-26T00:00:00\",\"2010-03-05T00:00:00\",\"2010-03-12T00:00:00\",\"2010-03-19T00:00:00\",\"2010-03-26T00:00:00\",\"2010-04-02T00:00:00\",\"2010-04-09T00:00:00\",\"2010-04-16T00:00:00\",\"2010-04-23T00:00:00\",\"2010-04-30T00:00:00\",\"2010-05-07T00:00:00\",\"2010-05-14T00:00:00\",\"2010-05-21T00:00:00\",\"2010-05-28T00:00:00\",\"2010-06-04T00:00:00\",\"2010-06-11T00:00:00\",\"2010-06-18T00:00:00\",\"2010-06-25T00:00:00\",\"2010-07-02T00:00:00\",\"2010-07-09T00:00:00\",\"2010-07-16T00:00:00\",\"2010-07-23T00:00:00\",\"2010-07-30T00:00:00\",\"2010-08-06T00:00:00\",\"2010-08-13T00:00:00\",\"2010-08-20T00:00:00\",\"2010-08-27T00:00:00\",\"2010-09-03T00:00:00\",\"2010-09-10T00:00:00\",\"2010-09-17T00:00:00\",\"2010-09-24T00:00:00\",\"2010-10-01T00:00:00\",\"2010-10-08T00:00:00\",\"2010-10-15T00:00:00\",\"2010-10-22T00:00:00\",\"2010-10-29T00:00:00\",\"2010-11-05T00:00:00\",\"2010-11-12T00:00:00\",\"2010-11-19T00:00:00\",\"2010-11-26T00:00:00\",\"2010-12-03T00:00:00\",\"2010-12-10T00:00:00\",\"2010-12-17T00:00:00\",\"2010-12-24T00:00:00\",\"2010-12-31T00:00:00\",\"2011-01-07T00:00:00\",\"2011-01-14T00:00:00\",\"2011-01-21T00:00:00\",\"2011-01-28T00:00:00\",\"2011-02-04T00:00:00\",\"2011-02-11T00:00:00\",\"2011-02-18T00:00:00\",\"2011-02-25T00:00:00\",\"2011-03-04T00:00:00\",\"2011-03-11T00:00:00\",\"2011-03-18T00:00:00\",\"2011-03-25T00:00:00\",\"2011-04-01T00:00:00\",\"2011-04-08T00:00:00\",\"2011-04-15T00:00:00\",\"2011-04-22T00:00:00\",\"2011-04-29T00:00:00\",\"2011-05-06T00:00:00\",\"2011-05-13T00:00:00\",\"2011-05-20T00:00:00\",\"2011-05-27T00:00:00\",\"2011-06-03T00:00:00\",\"2011-06-10T00:00:00\",\"2011-06-17T00:00:00\",\"2011-06-24T00:00:00\",\"2011-07-01T00:00:00\",\"2011-07-08T00:00:00\",\"2011-07-15T00:00:00\",\"2011-07-22T00:00:00\",\"2011-07-29T00:00:00\",\"2011-08-05T00:00:00\",\"2011-08-12T00:00:00\",\"2011-08-19T00:00:00\",\"2011-08-26T00:00:00\",\"2011-09-02T00:00:00\",\"2011-09-09T00:00:00\",\"2011-09-16T00:00:00\",\"2011-09-23T00:00:00\",\"2011-09-30T00:00:00\",\"2011-10-07T00:00:00\",\"2011-10-14T00:00:00\",\"2011-10-21T00:00:00\",\"2011-10-28T00:00:00\",\"2011-11-04T00:00:00\",\"2011-11-11T00:00:00\",\"2011-11-18T00:00:00\",\"2011-11-25T00:00:00\",\"2011-12-02T00:00:00\",\"2011-12-09T00:00:00\",\"2011-12-16T00:00:00\",\"2011-12-23T00:00:00\",\"2011-12-30T00:00:00\",\"2012-01-06T00:00:00\",\"2012-01-13T00:00:00\",\"2012-01-20T00:00:00\",\"2012-01-27T00:00:00\",\"2012-02-03T00:00:00\",\"2012-02-10T00:00:00\",\"2012-02-17T00:00:00\",\"2012-02-24T00:00:00\",\"2012-03-02T00:00:00\",\"2012-03-09T00:00:00\",\"2012-03-16T00:00:00\",\"2012-03-23T00:00:00\",\"2012-03-30T00:00:00\",\"2012-04-06T00:00:00\",\"2012-04-13T00:00:00\",\"2012-04-20T00:00:00\",\"2012-04-27T00:00:00\",\"2012-05-04T00:00:00\",\"2012-05-11T00:00:00\",\"2012-05-18T00:00:00\",\"2012-05-25T00:00:00\",\"2012-06-01T00:00:00\",\"2012-06-08T00:00:00\",\"2012-06-15T00:00:00\",\"2012-06-22T00:00:00\",\"2012-06-29T00:00:00\",\"2012-07-06T00:00:00\",\"2012-07-13T00:00:00\",\"2012-07-20T00:00:00\",\"2012-07-27T00:00:00\",\"2012-08-03T00:00:00\",\"2012-08-10T00:00:00\",\"2012-08-17T00:00:00\",\"2012-08-24T00:00:00\",\"2012-08-31T00:00:00\",\"2012-09-07T00:00:00\",\"2012-09-14T00:00:00\",\"2012-09-21T00:00:00\",\"2012-09-28T00:00:00\",\"2012-10-05T00:00:00\",\"2012-10-12T00:00:00\",\"2012-10-19T00:00:00\",\"2012-10-26T00:00:00\",\"2010-02-05T00:00:00\",\"2010-02-12T00:00:00\",\"2010-02-19T00:00:00\",\"2010-02-26T00:00:00\",\"2010-03-05T00:00:00\",\"2010-03-12T00:00:00\",\"2010-03-19T00:00:00\",\"2010-03-26T00:00:00\",\"2010-04-02T00:00:00\",\"2010-04-09T00:00:00\",\"2010-04-16T00:00:00\",\"2010-04-23T00:00:00\",\"2010-04-30T00:00:00\",\"2010-05-07T00:00:00\",\"2010-05-14T00:00:00\",\"2010-05-21T00:00:00\",\"2010-05-28T00:00:00\",\"2010-06-04T00:00:00\",\"2010-06-11T00:00:00\",\"2010-06-18T00:00:00\",\"2010-06-25T00:00:00\",\"2010-07-02T00:00:00\",\"2010-07-09T00:00:00\",\"2010-07-16T00:00:00\",\"2010-07-23T00:00:00\",\"2010-07-30T00:00:00\",\"2010-08-06T00:00:00\",\"2010-08-13T00:00:00\",\"2010-08-20T00:00:00\",\"2010-08-27T00:00:00\",\"2010-09-03T00:00:00\",\"2010-09-10T00:00:00\",\"2010-09-17T00:00:00\",\"2010-09-24T00:00:00\",\"2010-10-01T00:00:00\",\"2010-10-08T00:00:00\",\"2010-10-15T00:00:00\",\"2010-10-22T00:00:00\",\"2010-10-29T00:00:00\",\"2010-11-05T00:00:00\",\"2010-11-12T00:00:00\",\"2010-11-19T00:00:00\",\"2010-11-26T00:00:00\",\"2010-12-03T00:00:00\",\"2010-12-10T00:00:00\",\"2010-12-17T00:00:00\",\"2010-12-24T00:00:00\",\"2010-12-31T00:00:00\",\"2011-01-07T00:00:00\",\"2011-01-14T00:00:00\",\"2011-01-21T00:00:00\",\"2011-01-28T00:00:00\",\"2011-02-04T00:00:00\",\"2011-02-11T00:00:00\",\"2011-02-18T00:00:00\",\"2011-02-25T00:00:00\",\"2011-03-04T00:00:00\",\"2011-03-11T00:00:00\",\"2011-03-18T00:00:00\",\"2011-03-25T00:00:00\",\"2011-04-01T00:00:00\",\"2011-04-08T00:00:00\",\"2011-04-15T00:00:00\",\"2011-04-22T00:00:00\",\"2011-04-29T00:00:00\",\"2011-05-06T00:00:00\",\"2011-05-13T00:00:00\",\"2011-05-20T00:00:00\",\"2011-05-27T00:00:00\",\"2011-06-03T00:00:00\",\"2011-06-10T00:00:00\",\"2011-06-17T00:00:00\",\"2011-06-24T00:00:00\",\"2011-07-01T00:00:00\",\"2011-07-08T00:00:00\",\"2011-07-15T00:00:00\",\"2011-07-22T00:00:00\",\"2011-07-29T00:00:00\",\"2011-08-05T00:00:00\",\"2011-08-12T00:00:00\",\"2011-08-19T00:00:00\",\"2011-08-26T00:00:00\",\"2011-09-02T00:00:00\",\"2011-09-09T00:00:00\",\"2011-09-16T00:00:00\",\"2011-09-23T00:00:00\",\"2011-09-30T00:00:00\",\"2011-10-07T00:00:00\",\"2011-10-14T00:00:00\",\"2011-10-21T00:00:00\",\"2011-10-28T00:00:00\",\"2011-11-04T00:00:00\",\"2011-11-11T00:00:00\",\"2011-11-18T00:00:00\",\"2011-11-25T00:00:00\",\"2011-12-02T00:00:00\",\"2011-12-09T00:00:00\",\"2011-12-16T00:00:00\",\"2011-12-23T00:00:00\",\"2011-12-30T00:00:00\",\"2012-01-06T00:00:00\",\"2012-01-13T00:00:00\",\"2012-01-20T00:00:00\",\"2012-01-27T00:00:00\",\"2012-02-03T00:00:00\",\"2012-02-10T00:00:00\",\"2012-02-17T00:00:00\",\"2012-02-24T00:00:00\",\"2012-03-02T00:00:00\",\"2012-03-09T00:00:00\",\"2012-03-16T00:00:00\",\"2012-03-23T00:00:00\",\"2012-03-30T00:00:00\",\"2012-04-06T00:00:00\",\"2012-04-13T00:00:00\",\"2012-04-20T00:00:00\",\"2012-04-27T00:00:00\",\"2012-05-04T00:00:00\",\"2012-05-11T00:00:00\",\"2012-05-18T00:00:00\",\"2012-05-25T00:00:00\",\"2012-06-01T00:00:00\",\"2012-06-08T00:00:00\",\"2012-06-15T00:00:00\",\"2012-06-22T00:00:00\",\"2012-06-29T00:00:00\",\"2012-07-06T00:00:00\",\"2012-07-13T00:00:00\",\"2012-07-20T00:00:00\",\"2012-07-27T00:00:00\",\"2012-08-03T00:00:00\",\"2012-08-10T00:00:00\",\"2012-08-17T00:00:00\",\"2012-08-24T00:00:00\",\"2012-08-31T00:00:00\",\"2012-09-07T00:00:00\",\"2012-09-14T00:00:00\",\"2012-09-21T00:00:00\",\"2012-09-28T00:00:00\",\"2012-10-05T00:00:00\",\"2012-10-12T00:00:00\",\"2012-10-19T00:00:00\",\"2012-10-26T00:00:00\",\"2010-02-05T00:00:00\",\"2010-02-12T00:00:00\",\"2010-02-19T00:00:00\",\"2010-02-26T00:00:00\",\"2010-03-05T00:00:00\",\"2010-03-12T00:00:00\",\"2010-03-19T00:00:00\",\"2010-03-26T00:00:00\",\"2010-04-02T00:00:00\",\"2010-04-09T00:00:00\",\"2010-04-16T00:00:00\",\"2010-04-23T00:00:00\",\"2010-04-30T00:00:00\",\"2010-05-07T00:00:00\",\"2010-05-14T00:00:00\",\"2010-05-21T00:00:00\",\"2010-05-28T00:00:00\",\"2010-06-04T00:00:00\",\"2010-06-11T00:00:00\",\"2010-06-18T00:00:00\",\"2010-06-25T00:00:00\",\"2010-07-02T00:00:00\",\"2010-07-09T00:00:00\",\"2010-07-16T00:00:00\",\"2010-07-23T00:00:00\",\"2010-07-30T00:00:00\",\"2010-08-06T00:00:00\",\"2010-08-13T00:00:00\",\"2010-08-20T00:00:00\",\"2010-08-27T00:00:00\",\"2010-09-03T00:00:00\",\"2010-09-10T00:00:00\",\"2010-09-17T00:00:00\",\"2010-09-24T00:00:00\",\"2010-10-01T00:00:00\",\"2010-10-08T00:00:00\",\"2010-10-15T00:00:00\",\"2010-10-22T00:00:00\",\"2010-10-29T00:00:00\",\"2010-11-05T00:00:00\",\"2010-11-12T00:00:00\",\"2010-11-19T00:00:00\",\"2010-11-26T00:00:00\",\"2010-12-03T00:00:00\",\"2010-12-10T00:00:00\",\"2010-12-17T00:00:00\",\"2010-12-24T00:00:00\",\"2010-12-31T00:00:00\",\"2011-01-07T00:00:00\",\"2011-01-14T00:00:00\",\"2011-01-21T00:00:00\",\"2011-01-28T00:00:00\",\"2011-02-04T00:00:00\",\"2011-02-11T00:00:00\",\"2011-02-18T00:00:00\",\"2011-02-25T00:00:00\",\"2011-03-04T00:00:00\",\"2011-03-11T00:00:00\",\"2011-03-18T00:00:00\",\"2011-03-25T00:00:00\",\"2011-04-01T00:00:00\",\"2011-04-08T00:00:00\",\"2011-04-15T00:00:00\",\"2011-04-22T00:00:00\",\"2011-04-29T00:00:00\",\"2011-05-06T00:00:00\",\"2011-05-13T00:00:00\",\"2011-05-20T00:00:00\",\"2011-05-27T00:00:00\",\"2011-06-03T00:00:00\",\"2011-06-10T00:00:00\",\"2011-06-17T00:00:00\",\"2011-06-24T00:00:00\",\"2011-07-01T00:00:00\",\"2011-07-08T00:00:00\",\"2011-07-15T00:00:00\",\"2011-07-22T00:00:00\",\"2011-07-29T00:00:00\",\"2011-08-05T00:00:00\",\"2011-08-12T00:00:00\",\"2011-08-19T00:00:00\",\"2011-08-26T00:00:00\",\"2011-09-02T00:00:00\",\"2011-09-09T00:00:00\",\"2011-09-16T00:00:00\",\"2011-09-23T00:00:00\",\"2011-09-30T00:00:00\",\"2011-10-07T00:00:00\",\"2011-10-14T00:00:00\",\"2011-10-21T00:00:00\",\"2011-10-28T00:00:00\",\"2011-11-04T00:00:00\",\"2011-11-11T00:00:00\",\"2011-11-18T00:00:00\",\"2011-11-25T00:00:00\",\"2011-12-02T00:00:00\",\"2011-12-09T00:00:00\",\"2011-12-16T00:00:00\",\"2011-12-23T00:00:00\",\"2011-12-30T00:00:00\",\"2012-01-06T00:00:00\",\"2012-01-13T00:00:00\",\"2012-01-20T00:00:00\",\"2012-01-27T00:00:00\",\"2012-02-03T00:00:00\",\"2012-02-10T00:00:00\",\"2012-02-17T00:00:00\",\"2012-02-24T00:00:00\",\"2012-03-02T00:00:00\",\"2012-03-09T00:00:00\",\"2012-03-16T00:00:00\",\"2012-03-23T00:00:00\",\"2012-03-30T00:00:00\",\"2012-04-06T00:00:00\",\"2012-04-13T00:00:00\",\"2012-04-20T00:00:00\",\"2012-04-27T00:00:00\",\"2012-05-04T00:00:00\",\"2012-05-11T00:00:00\",\"2012-05-18T00:00:00\",\"2012-05-25T00:00:00\",\"2012-06-01T00:00:00\",\"2012-06-08T00:00:00\",\"2012-06-15T00:00:00\",\"2012-06-22T00:00:00\",\"2012-06-29T00:00:00\",\"2012-07-06T00:00:00\",\"2012-07-13T00:00:00\",\"2012-07-20T00:00:00\",\"2012-07-27T00:00:00\",\"2012-08-03T00:00:00\",\"2012-08-10T00:00:00\",\"2012-08-17T00:00:00\",\"2012-08-24T00:00:00\",\"2012-08-31T00:00:00\",\"2012-09-07T00:00:00\",\"2012-09-14T00:00:00\",\"2012-09-21T00:00:00\",\"2012-09-28T00:00:00\",\"2012-10-05T00:00:00\",\"2012-10-12T00:00:00\",\"2012-10-19T00:00:00\",\"2012-10-26T00:00:00\",\"2010-02-05T00:00:00\",\"2010-02-12T00:00:00\",\"2010-02-19T00:00:00\",\"2010-02-26T00:00:00\",\"2010-03-05T00:00:00\",\"2010-03-12T00:00:00\",\"2010-03-19T00:00:00\",\"2010-03-26T00:00:00\",\"2010-04-02T00:00:00\",\"2010-04-09T00:00:00\",\"2010-04-16T00:00:00\",\"2010-04-23T00:00:00\",\"2010-04-30T00:00:00\",\"2010-05-07T00:00:00\",\"2010-05-14T00:00:00\",\"2010-05-21T00:00:00\",\"2010-05-28T00:00:00\",\"2010-06-04T00:00:00\",\"2010-06-11T00:00:00\",\"2010-06-18T00:00:00\",\"2010-06-25T00:00:00\",\"2010-07-02T00:00:00\",\"2010-07-09T00:00:00\",\"2010-07-16T00:00:00\",\"2010-07-23T00:00:00\",\"2010-07-30T00:00:00\",\"2010-08-06T00:00:00\",\"2010-08-13T00:00:00\",\"2010-08-20T00:00:00\",\"2010-08-27T00:00:00\",\"2010-09-03T00:00:00\",\"2010-09-10T00:00:00\",\"2010-09-17T00:00:00\",\"2010-09-24T00:00:00\",\"2010-10-01T00:00:00\",\"2010-10-08T00:00:00\",\"2010-10-15T00:00:00\",\"2010-10-22T00:00:00\",\"2010-10-29T00:00:00\",\"2010-11-05T00:00:00\",\"2010-11-12T00:00:00\",\"2010-11-19T00:00:00\",\"2010-11-26T00:00:00\",\"2010-12-03T00:00:00\",\"2010-12-10T00:00:00\",\"2010-12-17T00:00:00\",\"2010-12-24T00:00:00\",\"2010-12-31T00:00:00\",\"2011-01-07T00:00:00\",\"2011-01-14T00:00:00\",\"2011-01-21T00:00:00\",\"2011-01-28T00:00:00\",\"2011-02-04T00:00:00\",\"2011-02-11T00:00:00\",\"2011-02-18T00:00:00\",\"2011-02-25T00:00:00\",\"2011-03-04T00:00:00\",\"2011-03-11T00:00:00\",\"2011-03-18T00:00:00\",\"2011-03-25T00:00:00\",\"2011-04-01T00:00:00\",\"2011-04-08T00:00:00\",\"2011-04-15T00:00:00\",\"2011-04-22T00:00:00\",\"2011-04-29T00:00:00\",\"2011-05-06T00:00:00\",\"2011-05-13T00:00:00\",\"2011-05-20T00:00:00\",\"2011-05-27T00:00:00\",\"2011-06-03T00:00:00\",\"2011-06-10T00:00:00\",\"2011-06-17T00:00:00\",\"2011-06-24T00:00:00\",\"2011-07-01T00:00:00\",\"2011-07-08T00:00:00\",\"2011-07-15T00:00:00\",\"2011-07-22T00:00:00\",\"2011-07-29T00:00:00\",\"2011-08-05T00:00:00\",\"2011-08-12T00:00:00\",\"2011-08-19T00:00:00\",\"2011-08-26T00:00:00\",\"2011-09-02T00:00:00\",\"2011-09-09T00:00:00\",\"2011-09-16T00:00:00\",\"2011-09-23T00:00:00\",\"2011-09-30T00:00:00\",\"2011-10-07T00:00:00\",\"2011-10-14T00:00:00\",\"2011-10-21T00:00:00\",\"2011-10-28T00:00:00\",\"2011-11-04T00:00:00\",\"2011-11-11T00:00:00\",\"2011-11-18T00:00:00\",\"2011-11-25T00:00:00\",\"2011-12-02T00:00:00\",\"2011-12-09T00:00:00\",\"2011-12-16T00:00:00\",\"2011-12-23T00:00:00\",\"2011-12-30T00:00:00\",\"2012-01-06T00:00:00\",\"2012-01-13T00:00:00\",\"2012-01-20T00:00:00\",\"2012-01-27T00:00:00\",\"2012-02-03T00:00:00\",\"2012-02-10T00:00:00\",\"2012-02-17T00:00:00\",\"2012-02-24T00:00:00\",\"2012-03-02T00:00:00\",\"2012-03-09T00:00:00\",\"2012-03-16T00:00:00\",\"2012-03-23T00:00:00\",\"2012-03-30T00:00:00\",\"2012-04-06T00:00:00\",\"2012-04-13T00:00:00\",\"2012-04-20T00:00:00\",\"2012-04-27T00:00:00\",\"2012-05-04T00:00:00\",\"2012-05-11T00:00:00\",\"2012-05-18T00:00:00\",\"2012-05-25T00:00:00\",\"2012-06-01T00:00:00\",\"2012-06-08T00:00:00\",\"2012-06-15T00:00:00\",\"2012-06-22T00:00:00\",\"2012-06-29T00:00:00\",\"2012-07-06T00:00:00\",\"2012-07-13T00:00:00\",\"2012-07-20T00:00:00\",\"2012-07-27T00:00:00\",\"2012-08-03T00:00:00\",\"2012-08-10T00:00:00\",\"2012-08-17T00:00:00\",\"2012-08-24T00:00:00\",\"2012-08-31T00:00:00\",\"2012-09-07T00:00:00\",\"2012-09-14T00:00:00\",\"2012-09-21T00:00:00\",\"2012-09-28T00:00:00\",\"2012-10-05T00:00:00\",\"2012-10-12T00:00:00\",\"2012-10-19T00:00:00\",\"2012-10-26T00:00:00\",\"2010-02-05T00:00:00\",\"2010-02-12T00:00:00\",\"2010-02-19T00:00:00\",\"2010-02-26T00:00:00\",\"2010-03-05T00:00:00\",\"2010-03-12T00:00:00\",\"2010-03-19T00:00:00\",\"2010-03-26T00:00:00\",\"2010-04-02T00:00:00\",\"2010-04-09T00:00:00\",\"2010-04-16T00:00:00\",\"2010-04-23T00:00:00\",\"2010-04-30T00:00:00\",\"2010-05-07T00:00:00\",\"2010-05-14T00:00:00\",\"2010-05-21T00:00:00\",\"2010-05-28T00:00:00\",\"2010-06-04T00:00:00\",\"2010-06-11T00:00:00\",\"2010-06-18T00:00:00\",\"2010-06-25T00:00:00\",\"2010-07-02T00:00:00\",\"2010-07-09T00:00:00\",\"2010-07-16T00:00:00\",\"2010-07-23T00:00:00\",\"2010-07-30T00:00:00\",\"2010-08-06T00:00:00\",\"2010-08-13T00:00:00\",\"2010-08-20T00:00:00\",\"2010-08-27T00:00:00\",\"2010-09-03T00:00:00\",\"2010-09-10T00:00:00\",\"2010-09-17T00:00:00\",\"2010-09-24T00:00:00\",\"2010-10-01T00:00:00\",\"2010-10-08T00:00:00\",\"2010-10-15T00:00:00\",\"2010-10-22T00:00:00\",\"2010-10-29T00:00:00\",\"2010-11-05T00:00:00\",\"2010-11-12T00:00:00\",\"2010-11-19T00:00:00\",\"2010-11-26T00:00:00\",\"2010-12-03T00:00:00\",\"2010-12-10T00:00:00\",\"2010-12-17T00:00:00\",\"2010-12-24T00:00:00\",\"2010-12-31T00:00:00\",\"2011-01-07T00:00:00\",\"2011-01-14T00:00:00\",\"2011-01-21T00:00:00\",\"2011-01-28T00:00:00\",\"2011-02-04T00:00:00\",\"2011-02-11T00:00:00\",\"2011-02-18T00:00:00\",\"2011-02-25T00:00:00\",\"2011-03-04T00:00:00\",\"2011-03-11T00:00:00\",\"2011-03-18T00:00:00\",\"2011-03-25T00:00:00\",\"2011-04-01T00:00:00\",\"2011-04-08T00:00:00\",\"2011-04-15T00:00:00\",\"2011-04-22T00:00:00\",\"2011-04-29T00:00:00\",\"2011-05-06T00:00:00\",\"2011-05-13T00:00:00\",\"2011-05-20T00:00:00\",\"2011-05-27T00:00:00\",\"2011-06-03T00:00:00\",\"2011-06-10T00:00:00\",\"2011-06-17T00:00:00\",\"2011-06-24T00:00:00\",\"2011-07-01T00:00:00\",\"2011-07-08T00:00:00\",\"2011-07-15T00:00:00\",\"2011-07-22T00:00:00\",\"2011-07-29T00:00:00\",\"2011-08-05T00:00:00\",\"2011-08-12T00:00:00\",\"2011-08-19T00:00:00\",\"2011-08-26T00:00:00\",\"2011-09-02T00:00:00\",\"2011-09-09T00:00:00\",\"2011-09-16T00:00:00\",\"2011-09-23T00:00:00\",\"2011-09-30T00:00:00\",\"2011-10-07T00:00:00\",\"2011-10-14T00:00:00\",\"2011-10-21T00:00:00\",\"2011-10-28T00:00:00\",\"2011-11-04T00:00:00\",\"2011-11-11T00:00:00\",\"2011-11-18T00:00:00\",\"2011-11-25T00:00:00\",\"2011-12-02T00:00:00\",\"2011-12-09T00:00:00\",\"2011-12-16T00:00:00\",\"2011-12-23T00:00:00\",\"2011-12-30T00:00:00\",\"2012-01-06T00:00:00\",\"2012-01-13T00:00:00\",\"2012-01-20T00:00:00\",\"2012-01-27T00:00:00\",\"2012-02-03T00:00:00\",\"2012-02-10T00:00:00\",\"2012-02-17T00:00:00\",\"2012-02-24T00:00:00\",\"2012-03-02T00:00:00\",\"2012-03-09T00:00:00\",\"2012-03-16T00:00:00\",\"2012-03-23T00:00:00\",\"2012-03-30T00:00:00\",\"2012-04-06T00:00:00\",\"2012-04-13T00:00:00\",\"2012-04-20T00:00:00\",\"2012-04-27T00:00:00\",\"2012-05-04T00:00:00\",\"2012-05-11T00:00:00\",\"2012-05-18T00:00:00\",\"2012-05-25T00:00:00\",\"2012-06-01T00:00:00\",\"2012-06-08T00:00:00\",\"2012-06-15T00:00:00\",\"2012-06-22T00:00:00\",\"2012-06-29T00:00:00\",\"2012-07-06T00:00:00\",\"2012-07-13T00:00:00\",\"2012-07-20T00:00:00\",\"2012-07-27T00:00:00\",\"2012-08-03T00:00:00\",\"2012-08-10T00:00:00\",\"2012-08-17T00:00:00\",\"2012-08-24T00:00:00\",\"2012-08-31T00:00:00\",\"2012-09-07T00:00:00\",\"2012-09-14T00:00:00\",\"2012-09-21T00:00:00\",\"2012-09-28T00:00:00\",\"2012-10-05T00:00:00\",\"2012-10-12T00:00:00\",\"2012-10-19T00:00:00\",\"2012-10-26T00:00:00\",\"2010-02-05T00:00:00\",\"2010-02-12T00:00:00\",\"2010-02-19T00:00:00\",\"2010-02-26T00:00:00\",\"2010-03-05T00:00:00\",\"2010-03-12T00:00:00\",\"2010-03-19T00:00:00\",\"2010-03-26T00:00:00\",\"2010-04-02T00:00:00\",\"2010-04-09T00:00:00\",\"2010-04-16T00:00:00\",\"2010-04-23T00:00:00\",\"2010-04-30T00:00:00\",\"2010-05-07T00:00:00\",\"2010-05-14T00:00:00\",\"2010-05-21T00:00:00\",\"2010-05-28T00:00:00\",\"2010-06-04T00:00:00\",\"2010-06-11T00:00:00\",\"2010-06-18T00:00:00\",\"2010-06-25T00:00:00\",\"2010-07-02T00:00:00\",\"2010-07-09T00:00:00\",\"2010-07-16T00:00:00\",\"2010-07-23T00:00:00\",\"2010-07-30T00:00:00\",\"2010-08-06T00:00:00\",\"2010-08-13T00:00:00\",\"2010-08-20T00:00:00\",\"2010-08-27T00:00:00\",\"2010-09-03T00:00:00\",\"2010-09-10T00:00:00\",\"2010-09-17T00:00:00\",\"2010-09-24T00:00:00\",\"2010-10-01T00:00:00\",\"2010-10-08T00:00:00\",\"2010-10-15T00:00:00\",\"2010-10-22T00:00:00\",\"2010-10-29T00:00:00\",\"2010-11-05T00:00:00\",\"2010-11-12T00:00:00\",\"2010-11-19T00:00:00\",\"2010-11-26T00:00:00\",\"2010-12-03T00:00:00\",\"2010-12-10T00:00:00\",\"2010-12-17T00:00:00\",\"2010-12-24T00:00:00\",\"2010-12-31T00:00:00\",\"2011-01-07T00:00:00\",\"2011-01-14T00:00:00\",\"2011-01-21T00:00:00\",\"2011-01-28T00:00:00\",\"2011-02-04T00:00:00\",\"2011-02-11T00:00:00\",\"2011-02-18T00:00:00\",\"2011-02-25T00:00:00\",\"2011-03-04T00:00:00\",\"2011-03-11T00:00:00\",\"2011-03-18T00:00:00\",\"2011-03-25T00:00:00\",\"2011-04-01T00:00:00\",\"2011-04-08T00:00:00\",\"2011-04-15T00:00:00\",\"2011-04-22T00:00:00\",\"2011-04-29T00:00:00\",\"2011-05-06T00:00:00\",\"2011-05-13T00:00:00\",\"2011-05-20T00:00:00\",\"2011-05-27T00:00:00\",\"2011-06-03T00:00:00\",\"2011-06-10T00:00:00\",\"2011-06-17T00:00:00\",\"2011-06-24T00:00:00\",\"2011-07-01T00:00:00\",\"2011-07-08T00:00:00\",\"2011-07-15T00:00:00\",\"2011-07-22T00:00:00\",\"2011-07-29T00:00:00\",\"2011-08-05T00:00:00\",\"2011-08-12T00:00:00\",\"2011-08-19T00:00:00\",\"2011-08-26T00:00:00\",\"2011-09-02T00:00:00\",\"2011-09-09T00:00:00\",\"2011-09-16T00:00:00\",\"2011-09-23T00:00:00\",\"2011-09-30T00:00:00\",\"2011-10-07T00:00:00\",\"2011-10-14T00:00:00\",\"2011-10-21T00:00:00\",\"2011-10-28T00:00:00\",\"2011-11-04T00:00:00\",\"2011-11-11T00:00:00\",\"2011-11-18T00:00:00\",\"2011-11-25T00:00:00\",\"2011-12-02T00:00:00\",\"2011-12-09T00:00:00\",\"2011-12-16T00:00:00\",\"2011-12-23T00:00:00\",\"2011-12-30T00:00:00\",\"2012-01-06T00:00:00\",\"2012-01-13T00:00:00\",\"2012-01-20T00:00:00\",\"2012-01-27T00:00:00\",\"2012-02-03T00:00:00\",\"2012-02-10T00:00:00\",\"2012-02-17T00:00:00\",\"2012-02-24T00:00:00\",\"2012-03-02T00:00:00\",\"2012-03-09T00:00:00\",\"2012-03-16T00:00:00\",\"2012-03-23T00:00:00\",\"2012-03-30T00:00:00\",\"2012-04-06T00:00:00\",\"2012-04-13T00:00:00\",\"2012-04-20T00:00:00\",\"2012-04-27T00:00:00\",\"2012-05-04T00:00:00\",\"2012-05-11T00:00:00\",\"2012-05-18T00:00:00\",\"2012-05-25T00:00:00\",\"2012-06-01T00:00:00\",\"2012-06-08T00:00:00\",\"2012-06-15T00:00:00\",\"2012-06-22T00:00:00\",\"2012-06-29T00:00:00\",\"2012-07-06T00:00:00\",\"2012-07-13T00:00:00\",\"2012-07-20T00:00:00\",\"2012-07-27T00:00:00\",\"2012-08-03T00:00:00\",\"2012-08-10T00:00:00\",\"2012-08-17T00:00:00\",\"2012-08-24T00:00:00\",\"2012-08-31T00:00:00\",\"2012-09-07T00:00:00\",\"2012-09-14T00:00:00\",\"2012-09-21T00:00:00\",\"2012-09-28T00:00:00\",\"2012-10-05T00:00:00\",\"2012-10-12T00:00:00\",\"2012-10-19T00:00:00\",\"2012-10-26T00:00:00\",\"2010-02-05T00:00:00\",\"2010-02-12T00:00:00\",\"2010-02-19T00:00:00\",\"2010-02-26T00:00:00\",\"2010-03-05T00:00:00\",\"2010-03-12T00:00:00\",\"2010-03-19T00:00:00\",\"2010-03-26T00:00:00\",\"2010-04-02T00:00:00\",\"2010-04-09T00:00:00\",\"2010-04-16T00:00:00\",\"2010-04-23T00:00:00\",\"2010-04-30T00:00:00\",\"2010-05-07T00:00:00\",\"2010-05-14T00:00:00\",\"2010-05-21T00:00:00\",\"2010-05-28T00:00:00\",\"2010-06-04T00:00:00\",\"2010-06-11T00:00:00\",\"2010-06-18T00:00:00\",\"2010-06-25T00:00:00\",\"2010-07-02T00:00:00\",\"2010-07-09T00:00:00\",\"2010-07-16T00:00:00\",\"2010-07-23T00:00:00\",\"2010-07-30T00:00:00\",\"2010-08-06T00:00:00\",\"2010-08-13T00:00:00\",\"2010-08-20T00:00:00\",\"2010-08-27T00:00:00\",\"2010-09-03T00:00:00\",\"2010-09-10T00:00:00\",\"2010-09-17T00:00:00\",\"2010-09-24T00:00:00\",\"2010-10-01T00:00:00\",\"2010-10-08T00:00:00\",\"2010-10-15T00:00:00\",\"2010-10-22T00:00:00\",\"2010-10-29T00:00:00\",\"2010-11-05T00:00:00\",\"2010-11-12T00:00:00\",\"2010-11-19T00:00:00\",\"2010-11-26T00:00:00\",\"2010-12-03T00:00:00\",\"2010-12-10T00:00:00\",\"2010-12-17T00:00:00\",\"2010-12-24T00:00:00\",\"2010-12-31T00:00:00\",\"2011-01-07T00:00:00\",\"2011-01-14T00:00:00\",\"2011-01-21T00:00:00\",\"2011-01-28T00:00:00\",\"2011-02-04T00:00:00\",\"2011-02-11T00:00:00\",\"2011-02-18T00:00:00\",\"2011-02-25T00:00:00\",\"2011-03-04T00:00:00\",\"2011-03-11T00:00:00\",\"2011-03-18T00:00:00\",\"2011-03-25T00:00:00\",\"2011-04-01T00:00:00\",\"2011-04-08T00:00:00\",\"2011-04-15T00:00:00\",\"2011-04-22T00:00:00\",\"2011-04-29T00:00:00\",\"2011-05-06T00:00:00\",\"2011-05-13T00:00:00\",\"2011-05-20T00:00:00\",\"2011-05-27T00:00:00\",\"2011-06-03T00:00:00\",\"2011-06-10T00:00:00\",\"2011-06-17T00:00:00\",\"2011-06-24T00:00:00\",\"2011-07-01T00:00:00\",\"2011-07-08T00:00:00\",\"2011-07-15T00:00:00\",\"2011-07-22T00:00:00\",\"2011-07-29T00:00:00\",\"2011-08-05T00:00:00\",\"2011-08-12T00:00:00\",\"2011-08-19T00:00:00\",\"2011-08-26T00:00:00\",\"2011-09-02T00:00:00\",\"2011-09-09T00:00:00\",\"2011-09-16T00:00:00\",\"2011-09-23T00:00:00\",\"2011-09-30T00:00:00\",\"2011-10-07T00:00:00\",\"2011-10-14T00:00:00\",\"2011-10-21T00:00:00\",\"2011-10-28T00:00:00\",\"2011-11-04T00:00:00\",\"2011-11-11T00:00:00\",\"2011-11-18T00:00:00\",\"2011-11-25T00:00:00\",\"2011-12-02T00:00:00\",\"2011-12-09T00:00:00\",\"2011-12-16T00:00:00\",\"2011-12-23T00:00:00\",\"2011-12-30T00:00:00\",\"2012-01-06T00:00:00\",\"2012-01-13T00:00:00\",\"2012-01-20T00:00:00\",\"2012-01-27T00:00:00\",\"2012-02-03T00:00:00\",\"2012-02-10T00:00:00\",\"2012-02-17T00:00:00\",\"2012-02-24T00:00:00\",\"2012-03-02T00:00:00\",\"2012-03-09T00:00:00\",\"2012-03-16T00:00:00\",\"2012-03-23T00:00:00\",\"2012-03-30T00:00:00\",\"2012-04-06T00:00:00\",\"2012-04-13T00:00:00\",\"2012-04-20T00:00:00\",\"2012-04-27T00:00:00\",\"2012-05-04T00:00:00\",\"2012-05-11T00:00:00\",\"2012-05-18T00:00:00\",\"2012-05-25T00:00:00\",\"2012-06-01T00:00:00\",\"2012-06-08T00:00:00\",\"2012-06-15T00:00:00\",\"2012-06-22T00:00:00\",\"2012-06-29T00:00:00\",\"2012-07-06T00:00:00\",\"2012-07-13T00:00:00\",\"2012-07-20T00:00:00\",\"2012-07-27T00:00:00\",\"2012-08-03T00:00:00\",\"2012-08-10T00:00:00\",\"2012-08-17T00:00:00\",\"2012-08-24T00:00:00\",\"2012-08-31T00:00:00\",\"2012-09-07T00:00:00\",\"2012-09-14T00:00:00\",\"2012-09-21T00:00:00\",\"2012-09-28T00:00:00\",\"2012-10-05T00:00:00\",\"2012-10-12T00:00:00\",\"2012-10-19T00:00:00\",\"2012-10-26T00:00:00\",\"2011-11-25T00:00:00\",\"2011-12-02T00:00:00\",\"2012-01-20T00:00:00\",\"2010-03-05T00:00:00\",\"2010-04-16T00:00:00\",\"2010-05-07T00:00:00\",\"2011-08-26T00:00:00\",\"2010-02-05T00:00:00\",\"2010-02-12T00:00:00\",\"2010-02-19T00:00:00\",\"2010-02-26T00:00:00\",\"2010-03-05T00:00:00\",\"2010-03-12T00:00:00\",\"2010-03-19T00:00:00\",\"2010-03-26T00:00:00\",\"2010-04-02T00:00:00\",\"2010-04-09T00:00:00\",\"2010-04-16T00:00:00\",\"2010-04-23T00:00:00\",\"2010-04-30T00:00:00\",\"2010-05-07T00:00:00\",\"2010-05-14T00:00:00\",\"2010-05-21T00:00:00\",\"2010-05-28T00:00:00\",\"2010-06-04T00:00:00\",\"2010-06-11T00:00:00\",\"2010-06-18T00:00:00\",\"2010-06-25T00:00:00\",\"2010-07-02T00:00:00\",\"2010-07-09T00:00:00\",\"2010-07-16T00:00:00\",\"2010-07-23T00:00:00\",\"2010-07-30T00:00:00\",\"2010-08-06T00:00:00\",\"2010-08-13T00:00:00\",\"2010-08-20T00:00:00\",\"2010-08-27T00:00:00\",\"2010-09-03T00:00:00\",\"2010-09-10T00:00:00\",\"2010-09-17T00:00:00\",\"2010-09-24T00:00:00\",\"2010-10-01T00:00:00\",\"2010-10-08T00:00:00\",\"2010-10-15T00:00:00\",\"2010-10-22T00:00:00\",\"2010-10-29T00:00:00\",\"2010-11-05T00:00:00\",\"2010-11-12T00:00:00\",\"2010-11-19T00:00:00\",\"2010-11-26T00:00:00\",\"2010-12-03T00:00:00\",\"2010-12-10T00:00:00\",\"2010-12-17T00:00:00\",\"2010-12-24T00:00:00\",\"2010-12-31T00:00:00\",\"2011-01-07T00:00:00\",\"2011-01-14T00:00:00\",\"2011-01-21T00:00:00\",\"2011-01-28T00:00:00\",\"2011-02-04T00:00:00\",\"2011-02-11T00:00:00\",\"2011-02-18T00:00:00\",\"2011-02-25T00:00:00\",\"2011-03-04T00:00:00\",\"2011-03-11T00:00:00\",\"2011-03-18T00:00:00\",\"2011-03-25T00:00:00\",\"2011-04-01T00:00:00\",\"2011-04-08T00:00:00\",\"2011-04-15T00:00:00\",\"2011-04-22T00:00:00\",\"2011-04-29T00:00:00\",\"2011-05-06T00:00:00\",\"2011-05-13T00:00:00\",\"2011-05-20T00:00:00\",\"2011-05-27T00:00:00\",\"2011-06-03T00:00:00\",\"2011-06-10T00:00:00\",\"2011-06-17T00:00:00\",\"2011-06-24T00:00:00\",\"2011-07-01T00:00:00\",\"2011-07-08T00:00:00\",\"2011-07-15T00:00:00\",\"2011-07-22T00:00:00\",\"2011-07-29T00:00:00\",\"2011-08-05T00:00:00\",\"2011-08-12T00:00:00\",\"2011-08-19T00:00:00\",\"2011-08-26T00:00:00\",\"2011-09-02T00:00:00\",\"2011-09-09T00:00:00\",\"2011-09-16T00:00:00\",\"2011-09-23T00:00:00\",\"2011-09-30T00:00:00\",\"2011-10-07T00:00:00\",\"2011-10-14T00:00:00\",\"2011-10-21T00:00:00\",\"2011-10-28T00:00:00\",\"2011-11-04T00:00:00\",\"2011-11-11T00:00:00\",\"2011-11-18T00:00:00\",\"2011-11-25T00:00:00\",\"2011-12-02T00:00:00\",\"2011-12-09T00:00:00\",\"2011-12-16T00:00:00\",\"2011-12-23T00:00:00\",\"2011-12-30T00:00:00\",\"2012-01-06T00:00:00\",\"2012-01-13T00:00:00\",\"2012-01-20T00:00:00\",\"2012-01-27T00:00:00\",\"2012-02-03T00:00:00\",\"2012-02-10T00:00:00\",\"2012-02-17T00:00:00\",\"2012-02-24T00:00:00\",\"2012-03-02T00:00:00\",\"2012-03-09T00:00:00\",\"2012-03-16T00:00:00\",\"2012-03-23T00:00:00\",\"2012-03-30T00:00:00\",\"2012-04-06T00:00:00\",\"2012-04-13T00:00:00\",\"2012-04-20T00:00:00\",\"2012-04-27T00:00:00\",\"2012-05-04T00:00:00\",\"2012-05-11T00:00:00\",\"2012-05-18T00:00:00\",\"2012-05-25T00:00:00\",\"2012-06-01T00:00:00\",\"2012-06-08T00:00:00\",\"2012-06-15T00:00:00\",\"2012-06-22T00:00:00\",\"2012-06-29T00:00:00\",\"2012-07-06T00:00:00\",\"2012-07-13T00:00:00\",\"2012-07-20T00:00:00\",\"2012-07-27T00:00:00\",\"2012-08-03T00:00:00\",\"2012-08-10T00:00:00\",\"2012-08-17T00:00:00\",\"2012-08-24T00:00:00\",\"2012-08-31T00:00:00\",\"2012-09-07T00:00:00\",\"2012-09-14T00:00:00\",\"2012-09-21T00:00:00\",\"2012-09-28T00:00:00\",\"2012-10-05T00:00:00\",\"2012-10-12T00:00:00\",\"2012-10-19T00:00:00\",\"2012-10-26T00:00:00\",\"2010-02-05T00:00:00\",\"2010-02-12T00:00:00\",\"2010-02-19T00:00:00\",\"2010-02-26T00:00:00\",\"2010-03-05T00:00:00\",\"2010-03-12T00:00:00\",\"2010-03-19T00:00:00\",\"2010-03-26T00:00:00\",\"2010-04-02T00:00:00\",\"2010-04-09T00:00:00\",\"2010-04-16T00:00:00\",\"2010-04-23T00:00:00\",\"2010-04-30T00:00:00\",\"2010-05-07T00:00:00\",\"2010-05-14T00:00:00\",\"2010-05-21T00:00:00\",\"2010-05-28T00:00:00\",\"2010-06-04T00:00:00\",\"2010-06-11T00:00:00\",\"2010-06-18T00:00:00\",\"2010-06-25T00:00:00\",\"2010-07-02T00:00:00\",\"2010-07-09T00:00:00\",\"2010-07-16T00:00:00\",\"2010-07-23T00:00:00\",\"2010-07-30T00:00:00\",\"2010-08-06T00:00:00\",\"2010-08-13T00:00:00\",\"2010-08-20T00:00:00\",\"2010-08-27T00:00:00\",\"2010-09-03T00:00:00\",\"2010-09-10T00:00:00\",\"2010-09-17T00:00:00\",\"2010-09-24T00:00:00\",\"2010-10-01T00:00:00\",\"2010-10-08T00:00:00\",\"2010-10-15T00:00:00\",\"2010-10-22T00:00:00\",\"2010-10-29T00:00:00\",\"2010-11-05T00:00:00\",\"2010-11-12T00:00:00\",\"2010-11-19T00:00:00\",\"2010-11-26T00:00:00\",\"2010-12-03T00:00:00\",\"2010-12-10T00:00:00\",\"2010-12-17T00:00:00\",\"2010-12-24T00:00:00\",\"2010-12-31T00:00:00\",\"2011-01-07T00:00:00\",\"2011-01-14T00:00:00\",\"2011-01-21T00:00:00\",\"2011-01-28T00:00:00\",\"2011-02-04T00:00:00\",\"2011-02-11T00:00:00\",\"2011-02-18T00:00:00\",\"2011-02-25T00:00:00\",\"2011-03-04T00:00:00\",\"2011-03-11T00:00:00\",\"2011-03-18T00:00:00\",\"2011-03-25T00:00:00\",\"2011-04-01T00:00:00\",\"2011-04-08T00:00:00\",\"2011-04-15T00:00:00\",\"2011-04-22T00:00:00\",\"2011-04-29T00:00:00\",\"2011-05-06T00:00:00\",\"2011-05-13T00:00:00\",\"2011-05-20T00:00:00\",\"2011-05-27T00:00:00\",\"2011-06-03T00:00:00\",\"2011-06-10T00:00:00\",\"2011-06-17T00:00:00\",\"2011-06-24T00:00:00\",\"2011-07-01T00:00:00\",\"2011-07-08T00:00:00\",\"2011-07-15T00:00:00\",\"2011-07-22T00:00:00\",\"2011-07-29T00:00:00\",\"2011-08-05T00:00:00\",\"2011-08-12T00:00:00\",\"2011-08-19T00:00:00\",\"2011-08-26T00:00:00\",\"2011-09-02T00:00:00\",\"2011-09-09T00:00:00\",\"2011-09-16T00:00:00\",\"2011-09-23T00:00:00\",\"2011-09-30T00:00:00\",\"2011-10-07T00:00:00\",\"2011-10-14T00:00:00\",\"2011-10-21T00:00:00\",\"2011-10-28T00:00:00\",\"2011-11-04T00:00:00\",\"2011-11-11T00:00:00\",\"2011-11-18T00:00:00\",\"2011-11-25T00:00:00\",\"2011-12-02T00:00:00\",\"2011-12-09T00:00:00\",\"2011-12-16T00:00:00\",\"2011-12-23T00:00:00\",\"2011-12-30T00:00:00\",\"2012-01-06T00:00:00\",\"2012-01-13T00:00:00\",\"2012-01-20T00:00:00\",\"2012-01-27T00:00:00\",\"2012-02-03T00:00:00\",\"2012-02-10T00:00:00\",\"2012-02-17T00:00:00\",\"2012-02-24T00:00:00\",\"2012-03-02T00:00:00\",\"2012-03-09T00:00:00\",\"2012-03-16T00:00:00\",\"2012-03-23T00:00:00\",\"2012-03-30T00:00:00\",\"2012-04-06T00:00:00\",\"2012-04-13T00:00:00\",\"2012-04-20T00:00:00\",\"2012-04-27T00:00:00\",\"2012-05-04T00:00:00\",\"2012-05-11T00:00:00\",\"2012-05-18T00:00:00\",\"2012-05-25T00:00:00\",\"2012-06-01T00:00:00\",\"2012-06-08T00:00:00\",\"2012-06-15T00:00:00\",\"2012-06-22T00:00:00\",\"2012-06-29T00:00:00\",\"2012-07-06T00:00:00\",\"2012-07-13T00:00:00\",\"2012-07-20T00:00:00\",\"2012-07-27T00:00:00\",\"2012-08-03T00:00:00\",\"2012-08-10T00:00:00\",\"2012-08-17T00:00:00\",\"2012-08-24T00:00:00\",\"2012-08-31T00:00:00\",\"2012-09-07T00:00:00\",\"2012-09-14T00:00:00\",\"2012-09-21T00:00:00\",\"2012-09-28T00:00:00\",\"2012-10-05T00:00:00\",\"2012-10-12T00:00:00\",\"2012-10-19T00:00:00\",\"2012-10-26T00:00:00\",\"2010-02-05T00:00:00\",\"2010-02-12T00:00:00\",\"2010-02-19T00:00:00\",\"2010-02-26T00:00:00\",\"2010-03-05T00:00:00\",\"2010-03-12T00:00:00\",\"2010-03-19T00:00:00\",\"2010-03-26T00:00:00\",\"2010-04-02T00:00:00\",\"2010-04-09T00:00:00\",\"2010-04-16T00:00:00\",\"2010-04-23T00:00:00\",\"2010-04-30T00:00:00\",\"2010-05-07T00:00:00\",\"2010-05-14T00:00:00\",\"2010-05-21T00:00:00\",\"2010-05-28T00:00:00\",\"2010-06-04T00:00:00\",\"2010-06-11T00:00:00\",\"2010-06-18T00:00:00\",\"2010-06-25T00:00:00\",\"2010-07-02T00:00:00\",\"2010-07-09T00:00:00\",\"2010-07-16T00:00:00\",\"2010-07-23T00:00:00\",\"2010-07-30T00:00:00\",\"2010-08-06T00:00:00\",\"2010-08-13T00:00:00\",\"2010-08-20T00:00:00\",\"2010-08-27T00:00:00\",\"2010-09-03T00:00:00\",\"2010-09-10T00:00:00\",\"2010-09-17T00:00:00\",\"2010-09-24T00:00:00\",\"2010-10-01T00:00:00\",\"2010-10-08T00:00:00\",\"2010-10-15T00:00:00\",\"2010-10-22T00:00:00\",\"2010-10-29T00:00:00\",\"2010-11-05T00:00:00\",\"2010-11-12T00:00:00\",\"2010-11-19T00:00:00\",\"2010-11-26T00:00:00\",\"2010-12-03T00:00:00\",\"2010-12-10T00:00:00\",\"2010-12-17T00:00:00\",\"2010-12-24T00:00:00\",\"2010-12-31T00:00:00\",\"2011-01-07T00:00:00\",\"2011-01-14T00:00:00\",\"2011-01-21T00:00:00\",\"2011-01-28T00:00:00\",\"2011-02-04T00:00:00\",\"2011-02-11T00:00:00\",\"2011-02-18T00:00:00\",\"2011-02-25T00:00:00\",\"2011-03-04T00:00:00\",\"2011-03-11T00:00:00\",\"2011-03-18T00:00:00\",\"2011-03-25T00:00:00\",\"2011-04-01T00:00:00\",\"2011-04-08T00:00:00\",\"2011-04-15T00:00:00\",\"2011-04-22T00:00:00\",\"2011-04-29T00:00:00\",\"2011-05-06T00:00:00\",\"2011-05-13T00:00:00\",\"2011-05-20T00:00:00\",\"2011-05-27T00:00:00\",\"2011-06-03T00:00:00\",\"2011-06-10T00:00:00\",\"2011-06-17T00:00:00\",\"2011-06-24T00:00:00\",\"2011-07-01T00:00:00\",\"2011-07-08T00:00:00\",\"2011-07-15T00:00:00\",\"2011-07-22T00:00:00\",\"2011-07-29T00:00:00\",\"2011-08-05T00:00:00\",\"2011-08-12T00:00:00\",\"2011-08-19T00:00:00\",\"2011-08-26T00:00:00\",\"2011-09-02T00:00:00\",\"2011-09-09T00:00:00\",\"2011-09-16T00:00:00\",\"2011-09-23T00:00:00\",\"2011-09-30T00:00:00\",\"2011-10-07T00:00:00\",\"2011-10-14T00:00:00\",\"2011-10-21T00:00:00\",\"2011-10-28T00:00:00\",\"2011-11-04T00:00:00\",\"2011-11-11T00:00:00\",\"2011-11-18T00:00:00\",\"2011-11-25T00:00:00\",\"2011-12-02T00:00:00\",\"2011-12-09T00:00:00\",\"2011-12-16T00:00:00\",\"2011-12-23T00:00:00\",\"2011-12-30T00:00:00\",\"2012-01-06T00:00:00\",\"2012-01-13T00:00:00\",\"2012-01-20T00:00:00\",\"2012-01-27T00:00:00\",\"2012-02-03T00:00:00\",\"2012-02-10T00:00:00\",\"2012-02-17T00:00:00\",\"2012-02-24T00:00:00\",\"2012-03-02T00:00:00\",\"2012-03-09T00:00:00\",\"2012-03-16T00:00:00\",\"2012-03-23T00:00:00\",\"2012-03-30T00:00:00\",\"2012-04-06T00:00:00\",\"2012-04-13T00:00:00\",\"2012-04-20T00:00:00\",\"2012-04-27T00:00:00\",\"2012-05-04T00:00:00\",\"2012-05-11T00:00:00\",\"2012-05-18T00:00:00\",\"2012-05-25T00:00:00\",\"2012-06-01T00:00:00\",\"2012-06-08T00:00:00\",\"2012-06-15T00:00:00\",\"2012-06-22T00:00:00\",\"2012-06-29T00:00:00\",\"2012-07-06T00:00:00\",\"2012-07-13T00:00:00\",\"2012-07-20T00:00:00\",\"2012-07-27T00:00:00\",\"2012-08-03T00:00:00\",\"2012-08-10T00:00:00\",\"2012-08-17T00:00:00\",\"2012-08-24T00:00:00\",\"2012-08-31T00:00:00\",\"2012-09-07T00:00:00\",\"2012-09-14T00:00:00\",\"2012-09-21T00:00:00\",\"2012-09-28T00:00:00\",\"2012-10-05T00:00:00\",\"2012-10-12T00:00:00\",\"2012-10-19T00:00:00\",\"2012-10-26T00:00:00\",\"2010-02-05T00:00:00\",\"2010-02-12T00:00:00\",\"2010-02-19T00:00:00\",\"2010-02-26T00:00:00\",\"2010-03-05T00:00:00\",\"2010-03-12T00:00:00\",\"2010-03-19T00:00:00\",\"2010-03-26T00:00:00\",\"2010-04-02T00:00:00\",\"2010-04-09T00:00:00\",\"2010-04-16T00:00:00\",\"2010-04-23T00:00:00\",\"2010-04-30T00:00:00\",\"2010-05-07T00:00:00\",\"2010-05-14T00:00:00\",\"2010-05-21T00:00:00\",\"2010-05-28T00:00:00\",\"2010-06-04T00:00:00\",\"2010-06-11T00:00:00\",\"2010-06-18T00:00:00\",\"2010-06-25T00:00:00\",\"2010-07-02T00:00:00\",\"2010-07-09T00:00:00\",\"2010-07-16T00:00:00\",\"2010-07-23T00:00:00\",\"2010-07-30T00:00:00\",\"2010-08-06T00:00:00\",\"2010-08-13T00:00:00\",\"2010-08-20T00:00:00\",\"2010-08-27T00:00:00\",\"2010-09-03T00:00:00\",\"2010-09-10T00:00:00\",\"2010-09-17T00:00:00\",\"2010-09-24T00:00:00\",\"2010-10-01T00:00:00\",\"2010-10-08T00:00:00\",\"2010-10-15T00:00:00\",\"2010-10-22T00:00:00\",\"2010-10-29T00:00:00\",\"2010-11-05T00:00:00\",\"2010-11-12T00:00:00\",\"2010-11-19T00:00:00\",\"2010-11-26T00:00:00\",\"2010-12-03T00:00:00\",\"2010-12-10T00:00:00\",\"2010-12-17T00:00:00\",\"2010-12-24T00:00:00\",\"2010-12-31T00:00:00\",\"2011-01-07T00:00:00\",\"2011-01-14T00:00:00\",\"2011-01-21T00:00:00\",\"2011-01-28T00:00:00\",\"2011-02-04T00:00:00\",\"2011-02-11T00:00:00\",\"2011-02-18T00:00:00\",\"2011-02-25T00:00:00\",\"2011-03-04T00:00:00\",\"2011-03-11T00:00:00\",\"2011-03-18T00:00:00\",\"2011-03-25T00:00:00\",\"2011-04-01T00:00:00\",\"2011-04-08T00:00:00\",\"2011-04-15T00:00:00\",\"2011-04-22T00:00:00\",\"2011-04-29T00:00:00\",\"2011-05-06T00:00:00\",\"2011-05-13T00:00:00\",\"2011-05-20T00:00:00\",\"2011-05-27T00:00:00\",\"2011-06-03T00:00:00\",\"2011-06-10T00:00:00\",\"2011-06-17T00:00:00\",\"2011-06-24T00:00:00\",\"2011-07-01T00:00:00\",\"2011-07-08T00:00:00\",\"2011-07-15T00:00:00\",\"2011-07-22T00:00:00\",\"2011-07-29T00:00:00\",\"2011-08-05T00:00:00\",\"2011-08-12T00:00:00\",\"2011-08-19T00:00:00\",\"2011-08-26T00:00:00\",\"2011-09-02T00:00:00\",\"2011-09-09T00:00:00\",\"2011-09-16T00:00:00\",\"2011-09-23T00:00:00\",\"2011-09-30T00:00:00\",\"2011-10-07T00:00:00\",\"2011-10-14T00:00:00\",\"2011-10-21T00:00:00\",\"2011-10-28T00:00:00\",\"2011-11-04T00:00:00\",\"2011-11-11T00:00:00\",\"2011-11-18T00:00:00\",\"2011-11-25T00:00:00\",\"2011-12-02T00:00:00\",\"2011-12-09T00:00:00\",\"2011-12-16T00:00:00\",\"2011-12-23T00:00:00\",\"2011-12-30T00:00:00\",\"2012-01-06T00:00:00\",\"2012-01-13T00:00:00\",\"2012-01-20T00:00:00\",\"2012-01-27T00:00:00\",\"2012-02-03T00:00:00\",\"2012-02-10T00:00:00\",\"2012-02-17T00:00:00\",\"2012-02-24T00:00:00\",\"2012-03-02T00:00:00\",\"2012-03-09T00:00:00\",\"2012-03-16T00:00:00\",\"2012-03-23T00:00:00\",\"2012-03-30T00:00:00\",\"2012-04-06T00:00:00\",\"2012-04-13T00:00:00\",\"2012-04-20T00:00:00\",\"2012-04-27T00:00:00\",\"2012-05-04T00:00:00\",\"2012-05-11T00:00:00\",\"2012-05-18T00:00:00\",\"2012-05-25T00:00:00\",\"2012-06-01T00:00:00\",\"2012-06-08T00:00:00\",\"2012-06-15T00:00:00\",\"2012-06-22T00:00:00\",\"2012-06-29T00:00:00\",\"2012-07-06T00:00:00\",\"2012-07-13T00:00:00\",\"2012-07-20T00:00:00\",\"2012-07-27T00:00:00\",\"2012-08-03T00:00:00\",\"2012-08-10T00:00:00\",\"2012-08-17T00:00:00\",\"2012-08-24T00:00:00\",\"2012-08-31T00:00:00\",\"2012-09-07T00:00:00\",\"2012-09-14T00:00:00\",\"2012-09-21T00:00:00\",\"2012-09-28T00:00:00\",\"2012-10-05T00:00:00\",\"2012-10-12T00:00:00\",\"2012-10-19T00:00:00\",\"2012-10-26T00:00:00\",\"2010-02-05T00:00:00\",\"2010-02-12T00:00:00\",\"2010-02-19T00:00:00\",\"2010-02-26T00:00:00\",\"2010-03-05T00:00:00\",\"2010-03-12T00:00:00\",\"2010-03-19T00:00:00\",\"2010-03-26T00:00:00\",\"2010-04-02T00:00:00\",\"2010-04-09T00:00:00\",\"2010-04-16T00:00:00\",\"2010-04-23T00:00:00\",\"2010-04-30T00:00:00\",\"2010-05-07T00:00:00\",\"2010-05-14T00:00:00\",\"2010-05-21T00:00:00\",\"2010-05-28T00:00:00\",\"2010-06-04T00:00:00\",\"2010-06-11T00:00:00\",\"2010-06-18T00:00:00\",\"2010-06-25T00:00:00\",\"2010-07-02T00:00:00\",\"2010-07-09T00:00:00\",\"2010-07-16T00:00:00\",\"2010-07-23T00:00:00\",\"2010-07-30T00:00:00\",\"2010-08-06T00:00:00\",\"2010-08-13T00:00:00\",\"2010-08-20T00:00:00\",\"2010-08-27T00:00:00\",\"2010-09-03T00:00:00\",\"2010-09-10T00:00:00\",\"2010-09-17T00:00:00\",\"2010-09-24T00:00:00\",\"2010-10-01T00:00:00\",\"2010-10-08T00:00:00\",\"2010-10-15T00:00:00\",\"2010-10-22T00:00:00\",\"2010-10-29T00:00:00\",\"2010-11-05T00:00:00\",\"2010-11-12T00:00:00\",\"2010-11-19T00:00:00\",\"2010-11-26T00:00:00\",\"2010-12-03T00:00:00\",\"2010-12-10T00:00:00\",\"2010-12-17T00:00:00\",\"2010-12-24T00:00:00\",\"2010-12-31T00:00:00\",\"2011-01-07T00:00:00\",\"2011-01-14T00:00:00\",\"2011-01-21T00:00:00\",\"2011-01-28T00:00:00\",\"2011-02-04T00:00:00\",\"2011-02-11T00:00:00\",\"2011-02-18T00:00:00\",\"2011-02-25T00:00:00\",\"2011-03-04T00:00:00\",\"2011-03-11T00:00:00\",\"2011-03-18T00:00:00\",\"2011-03-25T00:00:00\",\"2011-04-01T00:00:00\",\"2011-04-08T00:00:00\",\"2011-04-15T00:00:00\",\"2011-04-22T00:00:00\",\"2011-04-29T00:00:00\",\"2011-05-06T00:00:00\",\"2011-05-13T00:00:00\",\"2011-05-20T00:00:00\",\"2011-05-27T00:00:00\",\"2011-06-03T00:00:00\",\"2011-06-10T00:00:00\",\"2011-06-17T00:00:00\",\"2011-06-24T00:00:00\",\"2011-07-01T00:00:00\",\"2011-07-08T00:00:00\",\"2011-07-15T00:00:00\",\"2011-07-22T00:00:00\",\"2011-07-29T00:00:00\",\"2011-08-05T00:00:00\",\"2011-08-12T00:00:00\",\"2011-08-19T00:00:00\",\"2011-08-26T00:00:00\",\"2011-09-02T00:00:00\",\"2011-09-09T00:00:00\",\"2011-09-16T00:00:00\",\"2011-09-23T00:00:00\",\"2011-09-30T00:00:00\",\"2011-10-07T00:00:00\",\"2011-10-14T00:00:00\",\"2011-10-21T00:00:00\",\"2011-10-28T00:00:00\",\"2011-11-04T00:00:00\",\"2011-11-11T00:00:00\",\"2011-11-18T00:00:00\",\"2011-11-25T00:00:00\",\"2011-12-02T00:00:00\",\"2011-12-09T00:00:00\",\"2011-12-16T00:00:00\",\"2011-12-23T00:00:00\",\"2011-12-30T00:00:00\",\"2012-01-06T00:00:00\",\"2012-01-13T00:00:00\",\"2012-01-20T00:00:00\",\"2012-01-27T00:00:00\",\"2012-02-03T00:00:00\",\"2012-02-10T00:00:00\",\"2012-02-17T00:00:00\",\"2012-02-24T00:00:00\",\"2012-03-02T00:00:00\",\"2012-03-09T00:00:00\",\"2012-03-16T00:00:00\",\"2012-03-23T00:00:00\",\"2012-03-30T00:00:00\",\"2012-04-06T00:00:00\",\"2012-04-13T00:00:00\",\"2012-04-20T00:00:00\",\"2012-04-27T00:00:00\",\"2012-05-04T00:00:00\",\"2012-05-11T00:00:00\",\"2012-05-18T00:00:00\",\"2012-05-25T00:00:00\",\"2012-06-01T00:00:00\",\"2012-06-08T00:00:00\",\"2012-06-15T00:00:00\",\"2012-06-22T00:00:00\",\"2012-06-29T00:00:00\",\"2012-07-06T00:00:00\",\"2012-07-13T00:00:00\",\"2012-07-20T00:00:00\",\"2012-07-27T00:00:00\",\"2012-08-03T00:00:00\",\"2012-08-10T00:00:00\",\"2012-08-17T00:00:00\",\"2012-08-24T00:00:00\",\"2012-08-31T00:00:00\",\"2012-09-07T00:00:00\",\"2012-09-14T00:00:00\",\"2012-09-21T00:00:00\",\"2012-09-28T00:00:00\",\"2012-10-05T00:00:00\",\"2012-10-12T00:00:00\",\"2012-10-19T00:00:00\",\"2012-10-26T00:00:00\",\"2010-02-05T00:00:00\",\"2010-02-12T00:00:00\",\"2010-02-19T00:00:00\",\"2010-02-26T00:00:00\",\"2010-03-05T00:00:00\",\"2010-03-12T00:00:00\",\"2010-03-19T00:00:00\",\"2010-03-26T00:00:00\",\"2010-04-02T00:00:00\",\"2010-04-09T00:00:00\",\"2010-04-16T00:00:00\",\"2010-04-23T00:00:00\",\"2010-04-30T00:00:00\",\"2010-05-07T00:00:00\",\"2010-05-14T00:00:00\",\"2010-05-21T00:00:00\",\"2010-05-28T00:00:00\",\"2010-06-04T00:00:00\",\"2010-06-11T00:00:00\",\"2010-06-18T00:00:00\",\"2010-06-25T00:00:00\",\"2010-07-02T00:00:00\",\"2010-07-09T00:00:00\",\"2010-07-16T00:00:00\",\"2010-07-23T00:00:00\",\"2010-07-30T00:00:00\",\"2010-08-06T00:00:00\",\"2010-08-13T00:00:00\",\"2010-08-20T00:00:00\",\"2010-08-27T00:00:00\",\"2010-09-03T00:00:00\",\"2010-09-10T00:00:00\",\"2010-09-17T00:00:00\",\"2010-09-24T00:00:00\",\"2010-10-01T00:00:00\",\"2010-10-08T00:00:00\",\"2010-10-15T00:00:00\",\"2010-10-22T00:00:00\",\"2010-10-29T00:00:00\",\"2010-11-05T00:00:00\",\"2010-11-12T00:00:00\",\"2010-11-19T00:00:00\",\"2010-11-26T00:00:00\",\"2010-12-03T00:00:00\",\"2010-12-10T00:00:00\",\"2010-12-17T00:00:00\",\"2010-12-24T00:00:00\",\"2010-12-31T00:00:00\",\"2011-01-07T00:00:00\",\"2011-01-14T00:00:00\",\"2011-01-21T00:00:00\",\"2011-01-28T00:00:00\",\"2011-02-04T00:00:00\",\"2011-02-11T00:00:00\",\"2011-02-18T00:00:00\",\"2011-02-25T00:00:00\",\"2011-03-04T00:00:00\",\"2011-03-11T00:00:00\",\"2011-03-18T00:00:00\",\"2011-03-25T00:00:00\",\"2011-04-01T00:00:00\",\"2011-04-08T00:00:00\",\"2011-04-15T00:00:00\",\"2011-04-22T00:00:00\",\"2011-04-29T00:00:00\",\"2011-05-06T00:00:00\",\"2011-05-13T00:00:00\",\"2011-05-20T00:00:00\",\"2011-05-27T00:00:00\",\"2011-06-03T00:00:00\",\"2011-06-10T00:00:00\",\"2011-06-17T00:00:00\",\"2011-06-24T00:00:00\",\"2011-07-01T00:00:00\",\"2011-07-08T00:00:00\",\"2011-07-15T00:00:00\",\"2011-07-22T00:00:00\",\"2011-07-29T00:00:00\",\"2011-08-05T00:00:00\",\"2011-08-12T00:00:00\",\"2011-08-19T00:00:00\",\"2011-08-26T00:00:00\",\"2011-09-02T00:00:00\",\"2011-09-09T00:00:00\",\"2011-09-16T00:00:00\",\"2011-09-23T00:00:00\",\"2011-09-30T00:00:00\",\"2011-10-07T00:00:00\",\"2011-10-14T00:00:00\",\"2011-10-21T00:00:00\",\"2011-10-28T00:00:00\",\"2011-11-04T00:00:00\",\"2011-11-11T00:00:00\",\"2011-11-18T00:00:00\",\"2011-11-25T00:00:00\",\"2011-12-02T00:00:00\",\"2011-12-09T00:00:00\",\"2011-12-16T00:00:00\",\"2011-12-23T00:00:00\",\"2011-12-30T00:00:00\",\"2012-01-06T00:00:00\",\"2012-01-13T00:00:00\",\"2012-01-20T00:00:00\",\"2012-01-27T00:00:00\",\"2012-02-03T00:00:00\",\"2012-02-10T00:00:00\",\"2012-02-17T00:00:00\",\"2012-02-24T00:00:00\",\"2012-03-02T00:00:00\",\"2012-03-09T00:00:00\",\"2012-03-16T00:00:00\",\"2012-03-23T00:00:00\",\"2012-03-30T00:00:00\",\"2012-04-06T00:00:00\",\"2012-04-13T00:00:00\",\"2012-04-20T00:00:00\",\"2012-04-27T00:00:00\",\"2012-05-04T00:00:00\",\"2012-05-11T00:00:00\",\"2012-05-18T00:00:00\",\"2012-05-25T00:00:00\",\"2012-06-01T00:00:00\",\"2012-06-08T00:00:00\",\"2012-06-15T00:00:00\",\"2012-06-22T00:00:00\",\"2012-06-29T00:00:00\",\"2012-07-06T00:00:00\",\"2012-07-13T00:00:00\",\"2012-07-20T00:00:00\",\"2012-07-27T00:00:00\",\"2012-08-03T00:00:00\",\"2012-08-10T00:00:00\",\"2012-08-17T00:00:00\",\"2012-08-24T00:00:00\",\"2012-08-31T00:00:00\",\"2012-09-07T00:00:00\",\"2012-09-14T00:00:00\",\"2012-09-21T00:00:00\",\"2012-09-28T00:00:00\",\"2012-10-05T00:00:00\",\"2012-10-12T00:00:00\",\"2012-10-19T00:00:00\",\"2012-10-26T00:00:00\",\"2010-02-05T00:00:00\",\"2010-02-12T00:00:00\",\"2010-02-19T00:00:00\",\"2010-02-26T00:00:00\",\"2010-03-05T00:00:00\",\"2010-03-12T00:00:00\",\"2010-03-19T00:00:00\",\"2010-03-26T00:00:00\",\"2010-04-02T00:00:00\",\"2010-04-09T00:00:00\",\"2010-04-16T00:00:00\",\"2010-04-23T00:00:00\",\"2010-04-30T00:00:00\",\"2010-05-07T00:00:00\",\"2010-05-14T00:00:00\",\"2010-05-21T00:00:00\",\"2010-05-28T00:00:00\",\"2010-06-04T00:00:00\",\"2010-06-11T00:00:00\",\"2010-06-18T00:00:00\",\"2010-06-25T00:00:00\",\"2010-07-02T00:00:00\",\"2010-07-09T00:00:00\",\"2010-07-16T00:00:00\",\"2010-07-23T00:00:00\",\"2010-07-30T00:00:00\",\"2010-08-06T00:00:00\",\"2010-08-13T00:00:00\",\"2010-08-20T00:00:00\",\"2010-08-27T00:00:00\",\"2010-09-03T00:00:00\",\"2010-09-10T00:00:00\",\"2010-09-17T00:00:00\",\"2010-09-24T00:00:00\",\"2010-10-01T00:00:00\",\"2010-10-08T00:00:00\",\"2010-10-15T00:00:00\",\"2010-10-22T00:00:00\",\"2010-10-29T00:00:00\",\"2010-11-05T00:00:00\",\"2010-11-12T00:00:00\",\"2010-11-19T00:00:00\",\"2010-11-26T00:00:00\",\"2010-12-03T00:00:00\",\"2010-12-10T00:00:00\",\"2010-12-17T00:00:00\",\"2010-12-24T00:00:00\",\"2010-12-31T00:00:00\",\"2011-01-07T00:00:00\",\"2011-01-14T00:00:00\",\"2011-01-21T00:00:00\",\"2011-01-28T00:00:00\",\"2011-02-04T00:00:00\",\"2011-02-11T00:00:00\",\"2011-02-18T00:00:00\",\"2011-02-25T00:00:00\",\"2011-03-04T00:00:00\",\"2011-03-11T00:00:00\",\"2011-03-18T00:00:00\",\"2011-03-25T00:00:00\",\"2011-04-01T00:00:00\",\"2011-04-08T00:00:00\",\"2011-04-15T00:00:00\",\"2011-04-22T00:00:00\",\"2011-04-29T00:00:00\",\"2011-05-06T00:00:00\",\"2011-05-13T00:00:00\",\"2011-05-20T00:00:00\",\"2011-05-27T00:00:00\",\"2011-06-03T00:00:00\",\"2011-06-10T00:00:00\",\"2011-06-17T00:00:00\",\"2011-06-24T00:00:00\",\"2011-07-01T00:00:00\",\"2011-07-08T00:00:00\",\"2011-07-15T00:00:00\",\"2011-07-22T00:00:00\",\"2011-07-29T00:00:00\",\"2011-08-05T00:00:00\",\"2011-08-12T00:00:00\",\"2011-08-19T00:00:00\",\"2011-08-26T00:00:00\",\"2011-09-02T00:00:00\",\"2011-09-09T00:00:00\",\"2011-09-16T00:00:00\",\"2011-09-23T00:00:00\",\"2011-09-30T00:00:00\",\"2011-10-07T00:00:00\",\"2011-10-14T00:00:00\",\"2011-10-21T00:00:00\",\"2011-10-28T00:00:00\",\"2011-11-04T00:00:00\",\"2011-11-11T00:00:00\",\"2011-11-18T00:00:00\",\"2011-11-25T00:00:00\",\"2011-12-02T00:00:00\",\"2011-12-09T00:00:00\",\"2011-12-16T00:00:00\",\"2011-12-23T00:00:00\",\"2011-12-30T00:00:00\",\"2012-01-06T00:00:00\",\"2012-01-13T00:00:00\",\"2012-01-20T00:00:00\",\"2012-01-27T00:00:00\",\"2012-02-03T00:00:00\",\"2012-02-10T00:00:00\",\"2012-02-17T00:00:00\",\"2012-02-24T00:00:00\",\"2012-03-02T00:00:00\",\"2012-03-09T00:00:00\",\"2012-03-16T00:00:00\",\"2012-03-23T00:00:00\",\"2012-03-30T00:00:00\",\"2012-04-06T00:00:00\",\"2012-04-13T00:00:00\",\"2012-04-20T00:00:00\",\"2012-04-27T00:00:00\",\"2012-05-04T00:00:00\",\"2012-05-11T00:00:00\",\"2012-05-18T00:00:00\",\"2012-05-25T00:00:00\",\"2012-06-01T00:00:00\",\"2012-06-08T00:00:00\",\"2012-06-15T00:00:00\",\"2012-06-22T00:00:00\",\"2012-06-29T00:00:00\",\"2012-07-06T00:00:00\",\"2012-07-13T00:00:00\",\"2012-07-20T00:00:00\",\"2012-07-27T00:00:00\",\"2012-08-03T00:00:00\",\"2012-08-10T00:00:00\",\"2012-08-17T00:00:00\",\"2012-08-24T00:00:00\",\"2012-08-31T00:00:00\",\"2012-09-07T00:00:00\",\"2012-09-14T00:00:00\",\"2012-09-21T00:00:00\",\"2012-09-28T00:00:00\",\"2012-10-05T00:00:00\",\"2012-10-12T00:00:00\",\"2012-10-19T00:00:00\",\"2012-10-26T00:00:00\",\"2010-02-05T00:00:00\",\"2010-02-12T00:00:00\",\"2010-02-19T00:00:00\",\"2010-02-26T00:00:00\",\"2010-03-05T00:00:00\",\"2010-03-12T00:00:00\",\"2010-03-19T00:00:00\",\"2010-03-26T00:00:00\",\"2010-04-02T00:00:00\",\"2010-04-09T00:00:00\",\"2010-04-16T00:00:00\",\"2010-04-23T00:00:00\",\"2010-04-30T00:00:00\",\"2010-05-07T00:00:00\",\"2010-05-14T00:00:00\",\"2010-05-21T00:00:00\",\"2010-05-28T00:00:00\",\"2010-06-04T00:00:00\",\"2010-06-11T00:00:00\",\"2010-06-18T00:00:00\",\"2010-06-25T00:00:00\",\"2010-07-02T00:00:00\",\"2010-07-09T00:00:00\",\"2010-07-16T00:00:00\",\"2010-07-23T00:00:00\",\"2010-07-30T00:00:00\",\"2010-08-06T00:00:00\",\"2010-08-13T00:00:00\",\"2010-08-20T00:00:00\",\"2010-08-27T00:00:00\",\"2010-09-03T00:00:00\",\"2010-09-10T00:00:00\",\"2010-09-17T00:00:00\",\"2010-09-24T00:00:00\",\"2010-10-01T00:00:00\",\"2010-10-08T00:00:00\",\"2010-10-15T00:00:00\",\"2010-10-22T00:00:00\",\"2010-10-29T00:00:00\",\"2010-11-05T00:00:00\",\"2010-11-12T00:00:00\",\"2010-11-19T00:00:00\",\"2010-11-26T00:00:00\",\"2010-12-03T00:00:00\",\"2010-12-10T00:00:00\",\"2010-12-17T00:00:00\",\"2010-12-24T00:00:00\",\"2010-12-31T00:00:00\",\"2011-01-07T00:00:00\",\"2011-01-14T00:00:00\",\"2011-01-21T00:00:00\",\"2011-01-28T00:00:00\",\"2011-02-04T00:00:00\",\"2011-02-11T00:00:00\",\"2011-02-18T00:00:00\",\"2011-02-25T00:00:00\",\"2011-03-04T00:00:00\",\"2011-03-11T00:00:00\",\"2011-03-18T00:00:00\",\"2011-03-25T00:00:00\",\"2011-04-01T00:00:00\",\"2011-04-08T00:00:00\",\"2011-04-15T00:00:00\",\"2011-04-22T00:00:00\",\"2011-04-29T00:00:00\",\"2011-05-06T00:00:00\",\"2011-05-13T00:00:00\",\"2011-05-20T00:00:00\",\"2011-05-27T00:00:00\",\"2011-06-03T00:00:00\",\"2011-06-10T00:00:00\",\"2011-06-17T00:00:00\",\"2011-06-24T00:00:00\",\"2011-07-01T00:00:00\",\"2011-07-08T00:00:00\",\"2011-07-15T00:00:00\",\"2011-07-22T00:00:00\",\"2011-07-29T00:00:00\",\"2011-08-05T00:00:00\",\"2011-08-12T00:00:00\",\"2011-08-19T00:00:00\",\"2011-08-26T00:00:00\",\"2011-09-02T00:00:00\",\"2011-09-09T00:00:00\",\"2011-09-16T00:00:00\",\"2011-09-23T00:00:00\",\"2011-09-30T00:00:00\",\"2011-10-07T00:00:00\",\"2011-10-14T00:00:00\",\"2011-10-21T00:00:00\",\"2011-10-28T00:00:00\",\"2011-11-04T00:00:00\",\"2011-11-11T00:00:00\",\"2011-11-18T00:00:00\",\"2011-11-25T00:00:00\",\"2011-12-02T00:00:00\",\"2011-12-09T00:00:00\",\"2011-12-16T00:00:00\",\"2011-12-23T00:00:00\",\"2011-12-30T00:00:00\",\"2012-01-06T00:00:00\",\"2012-01-13T00:00:00\",\"2012-01-20T00:00:00\",\"2012-01-27T00:00:00\",\"2012-02-03T00:00:00\",\"2012-02-10T00:00:00\",\"2012-02-17T00:00:00\",\"2012-02-24T00:00:00\",\"2012-03-02T00:00:00\",\"2012-03-09T00:00:00\",\"2012-03-16T00:00:00\",\"2012-03-23T00:00:00\",\"2012-03-30T00:00:00\",\"2012-04-06T00:00:00\",\"2012-04-13T00:00:00\",\"2012-04-20T00:00:00\",\"2012-04-27T00:00:00\",\"2012-05-04T00:00:00\",\"2012-05-11T00:00:00\",\"2012-05-18T00:00:00\",\"2012-05-25T00:00:00\",\"2012-06-01T00:00:00\",\"2012-06-08T00:00:00\",\"2012-06-15T00:00:00\",\"2012-06-22T00:00:00\",\"2012-06-29T00:00:00\",\"2012-07-06T00:00:00\",\"2012-07-13T00:00:00\",\"2012-07-20T00:00:00\",\"2012-07-27T00:00:00\",\"2012-08-03T00:00:00\",\"2012-08-10T00:00:00\",\"2012-08-17T00:00:00\",\"2012-08-24T00:00:00\",\"2012-08-31T00:00:00\",\"2012-09-07T00:00:00\",\"2012-09-14T00:00:00\",\"2012-09-21T00:00:00\",\"2012-09-28T00:00:00\",\"2012-10-05T00:00:00\",\"2012-10-12T00:00:00\",\"2012-10-19T00:00:00\",\"2012-10-26T00:00:00\",\"2010-02-05T00:00:00\",\"2010-02-12T00:00:00\",\"2010-02-19T00:00:00\",\"2010-02-26T00:00:00\",\"2010-03-05T00:00:00\",\"2010-03-12T00:00:00\",\"2010-03-19T00:00:00\",\"2010-03-26T00:00:00\",\"2010-04-02T00:00:00\",\"2010-04-09T00:00:00\",\"2010-04-16T00:00:00\",\"2010-04-23T00:00:00\",\"2010-04-30T00:00:00\",\"2010-05-07T00:00:00\",\"2010-05-14T00:00:00\",\"2010-05-21T00:00:00\",\"2010-05-28T00:00:00\",\"2010-06-04T00:00:00\",\"2010-06-11T00:00:00\",\"2010-06-18T00:00:00\",\"2010-06-25T00:00:00\",\"2010-07-02T00:00:00\",\"2010-07-09T00:00:00\",\"2010-07-16T00:00:00\",\"2010-07-23T00:00:00\",\"2010-07-30T00:00:00\",\"2010-08-06T00:00:00\",\"2010-08-13T00:00:00\",\"2010-08-20T00:00:00\",\"2010-08-27T00:00:00\",\"2010-09-03T00:00:00\",\"2010-09-10T00:00:00\",\"2010-09-17T00:00:00\",\"2010-09-24T00:00:00\",\"2010-10-01T00:00:00\",\"2010-10-08T00:00:00\",\"2010-10-15T00:00:00\",\"2010-10-22T00:00:00\",\"2010-10-29T00:00:00\",\"2010-11-05T00:00:00\",\"2010-11-12T00:00:00\",\"2010-11-19T00:00:00\",\"2010-11-26T00:00:00\",\"2010-12-03T00:00:00\",\"2010-12-10T00:00:00\",\"2010-12-17T00:00:00\",\"2010-12-24T00:00:00\",\"2010-12-31T00:00:00\",\"2011-01-07T00:00:00\",\"2011-01-14T00:00:00\",\"2011-01-21T00:00:00\",\"2011-01-28T00:00:00\",\"2011-02-04T00:00:00\",\"2011-02-11T00:00:00\",\"2011-02-18T00:00:00\",\"2011-02-25T00:00:00\",\"2011-03-04T00:00:00\",\"2011-03-11T00:00:00\",\"2011-03-18T00:00:00\",\"2011-03-25T00:00:00\",\"2011-04-01T00:00:00\",\"2011-04-08T00:00:00\",\"2011-04-15T00:00:00\",\"2011-04-22T00:00:00\",\"2011-04-29T00:00:00\",\"2011-05-06T00:00:00\",\"2011-05-13T00:00:00\",\"2011-05-20T00:00:00\",\"2011-05-27T00:00:00\",\"2011-06-03T00:00:00\",\"2011-06-10T00:00:00\",\"2011-06-17T00:00:00\",\"2011-06-24T00:00:00\",\"2011-07-01T00:00:00\",\"2011-07-08T00:00:00\",\"2011-07-15T00:00:00\",\"2011-07-22T00:00:00\",\"2011-07-29T00:00:00\",\"2011-08-05T00:00:00\",\"2011-08-12T00:00:00\",\"2011-08-19T00:00:00\",\"2011-08-26T00:00:00\",\"2011-09-02T00:00:00\",\"2011-09-09T00:00:00\",\"2011-09-16T00:00:00\",\"2011-09-23T00:00:00\",\"2011-09-30T00:00:00\",\"2011-10-07T00:00:00\",\"2011-10-14T00:00:00\",\"2011-10-21T00:00:00\",\"2011-10-28T00:00:00\",\"2011-11-04T00:00:00\",\"2011-11-11T00:00:00\",\"2011-11-18T00:00:00\",\"2011-11-25T00:00:00\",\"2011-12-02T00:00:00\",\"2011-12-09T00:00:00\",\"2011-12-16T00:00:00\",\"2011-12-23T00:00:00\",\"2011-12-30T00:00:00\",\"2012-01-06T00:00:00\",\"2012-01-13T00:00:00\",\"2012-01-20T00:00:00\",\"2012-01-27T00:00:00\",\"2012-02-03T00:00:00\",\"2012-02-10T00:00:00\",\"2012-02-17T00:00:00\",\"2012-02-24T00:00:00\",\"2012-03-02T00:00:00\",\"2012-03-09T00:00:00\",\"2012-03-16T00:00:00\",\"2012-03-23T00:00:00\",\"2012-03-30T00:00:00\",\"2012-04-06T00:00:00\",\"2012-04-13T00:00:00\",\"2012-04-20T00:00:00\",\"2012-04-27T00:00:00\",\"2012-05-04T00:00:00\",\"2012-05-11T00:00:00\",\"2012-05-18T00:00:00\",\"2012-05-25T00:00:00\",\"2012-06-01T00:00:00\",\"2012-06-08T00:00:00\",\"2012-06-15T00:00:00\",\"2012-06-22T00:00:00\",\"2012-06-29T00:00:00\",\"2012-07-06T00:00:00\",\"2012-07-13T00:00:00\",\"2012-07-20T00:00:00\",\"2012-07-27T00:00:00\",\"2012-08-03T00:00:00\",\"2012-08-10T00:00:00\",\"2012-08-17T00:00:00\",\"2012-08-24T00:00:00\",\"2012-08-31T00:00:00\",\"2012-09-07T00:00:00\",\"2012-09-14T00:00:00\",\"2012-09-21T00:00:00\",\"2012-09-28T00:00:00\",\"2012-10-05T00:00:00\",\"2012-10-12T00:00:00\",\"2012-10-19T00:00:00\",\"2012-10-26T00:00:00\",\"2010-02-05T00:00:00\",\"2010-02-12T00:00:00\",\"2010-02-19T00:00:00\",\"2010-02-26T00:00:00\",\"2010-03-05T00:00:00\",\"2010-03-12T00:00:00\",\"2010-03-19T00:00:00\",\"2010-03-26T00:00:00\",\"2010-04-02T00:00:00\",\"2010-04-09T00:00:00\",\"2010-04-16T00:00:00\",\"2010-04-23T00:00:00\",\"2010-04-30T00:00:00\",\"2010-05-07T00:00:00\",\"2010-05-14T00:00:00\",\"2010-05-21T00:00:00\",\"2010-05-28T00:00:00\",\"2010-06-04T00:00:00\",\"2010-06-11T00:00:00\",\"2010-06-18T00:00:00\",\"2010-06-25T00:00:00\",\"2010-07-02T00:00:00\",\"2010-07-09T00:00:00\",\"2010-07-16T00:00:00\",\"2010-07-23T00:00:00\",\"2010-07-30T00:00:00\",\"2010-08-06T00:00:00\",\"2010-08-13T00:00:00\",\"2010-08-20T00:00:00\",\"2010-08-27T00:00:00\",\"2010-09-03T00:00:00\",\"2010-09-10T00:00:00\",\"2010-09-17T00:00:00\",\"2010-09-24T00:00:00\",\"2010-10-01T00:00:00\",\"2010-10-08T00:00:00\",\"2010-10-15T00:00:00\",\"2010-10-22T00:00:00\",\"2010-10-29T00:00:00\",\"2010-11-05T00:00:00\",\"2010-11-12T00:00:00\",\"2010-11-19T00:00:00\",\"2010-11-26T00:00:00\",\"2010-12-03T00:00:00\",\"2010-12-10T00:00:00\",\"2010-12-17T00:00:00\",\"2010-12-24T00:00:00\",\"2010-12-31T00:00:00\",\"2011-01-07T00:00:00\",\"2011-01-14T00:00:00\",\"2011-01-21T00:00:00\",\"2011-01-28T00:00:00\",\"2011-02-04T00:00:00\",\"2011-02-11T00:00:00\",\"2011-02-18T00:00:00\",\"2011-02-25T00:00:00\",\"2011-03-04T00:00:00\",\"2011-03-11T00:00:00\",\"2011-03-18T00:00:00\",\"2011-03-25T00:00:00\",\"2011-04-01T00:00:00\",\"2011-04-08T00:00:00\",\"2011-04-15T00:00:00\",\"2011-04-22T00:00:00\",\"2011-04-29T00:00:00\",\"2011-05-06T00:00:00\",\"2011-05-13T00:00:00\",\"2011-05-20T00:00:00\",\"2011-05-27T00:00:00\",\"2011-06-03T00:00:00\",\"2011-06-10T00:00:00\",\"2011-06-17T00:00:00\",\"2011-06-24T00:00:00\",\"2011-07-01T00:00:00\",\"2011-07-08T00:00:00\",\"2011-07-15T00:00:00\",\"2011-07-22T00:00:00\",\"2011-07-29T00:00:00\",\"2011-08-05T00:00:00\",\"2011-08-12T00:00:00\",\"2011-08-19T00:00:00\",\"2011-08-26T00:00:00\",\"2011-09-02T00:00:00\",\"2011-09-09T00:00:00\",\"2011-09-16T00:00:00\",\"2011-09-23T00:00:00\",\"2011-09-30T00:00:00\",\"2011-10-07T00:00:00\",\"2011-10-14T00:00:00\",\"2011-10-21T00:00:00\",\"2011-10-28T00:00:00\",\"2011-11-04T00:00:00\",\"2011-11-11T00:00:00\",\"2011-11-18T00:00:00\",\"2011-11-25T00:00:00\",\"2011-12-02T00:00:00\",\"2011-12-09T00:00:00\",\"2011-12-16T00:00:00\",\"2011-12-23T00:00:00\",\"2011-12-30T00:00:00\",\"2012-01-06T00:00:00\",\"2012-01-13T00:00:00\",\"2012-01-20T00:00:00\",\"2012-01-27T00:00:00\",\"2012-02-03T00:00:00\",\"2012-02-10T00:00:00\",\"2012-02-17T00:00:00\",\"2012-02-24T00:00:00\",\"2012-03-02T00:00:00\",\"2012-03-09T00:00:00\",\"2012-03-16T00:00:00\",\"2012-03-23T00:00:00\",\"2012-03-30T00:00:00\",\"2012-04-06T00:00:00\",\"2012-04-13T00:00:00\",\"2012-04-20T00:00:00\",\"2012-04-27T00:00:00\",\"2012-05-04T00:00:00\",\"2012-05-11T00:00:00\",\"2012-05-18T00:00:00\",\"2012-05-25T00:00:00\",\"2012-06-01T00:00:00\",\"2012-06-08T00:00:00\",\"2012-06-15T00:00:00\",\"2012-06-22T00:00:00\",\"2012-06-29T00:00:00\",\"2012-07-06T00:00:00\",\"2012-07-13T00:00:00\",\"2012-07-20T00:00:00\",\"2012-07-27T00:00:00\",\"2012-08-03T00:00:00\",\"2012-08-10T00:00:00\",\"2012-08-17T00:00:00\",\"2012-08-24T00:00:00\",\"2012-08-31T00:00:00\",\"2012-09-07T00:00:00\",\"2012-09-14T00:00:00\",\"2012-09-21T00:00:00\",\"2012-09-28T00:00:00\",\"2012-10-05T00:00:00\",\"2012-10-12T00:00:00\",\"2012-10-19T00:00:00\",\"2012-10-26T00:00:00\",\"2010-02-05T00:00:00\",\"2010-02-12T00:00:00\",\"2010-02-19T00:00:00\",\"2010-02-26T00:00:00\",\"2010-03-05T00:00:00\",\"2010-03-12T00:00:00\",\"2010-03-19T00:00:00\",\"2010-03-26T00:00:00\",\"2010-04-02T00:00:00\",\"2010-04-09T00:00:00\",\"2010-04-16T00:00:00\",\"2010-04-23T00:00:00\",\"2010-04-30T00:00:00\",\"2010-05-07T00:00:00\",\"2010-05-14T00:00:00\",\"2010-05-21T00:00:00\",\"2010-05-28T00:00:00\",\"2010-06-04T00:00:00\",\"2010-06-11T00:00:00\",\"2010-06-18T00:00:00\",\"2010-06-25T00:00:00\",\"2010-07-02T00:00:00\",\"2010-07-09T00:00:00\",\"2010-07-16T00:00:00\",\"2010-07-23T00:00:00\",\"2010-07-30T00:00:00\",\"2010-08-06T00:00:00\",\"2010-08-13T00:00:00\",\"2010-08-20T00:00:00\",\"2010-08-27T00:00:00\",\"2010-09-03T00:00:00\",\"2010-09-10T00:00:00\",\"2010-09-17T00:00:00\",\"2010-09-24T00:00:00\",\"2010-10-01T00:00:00\",\"2010-10-08T00:00:00\",\"2010-10-15T00:00:00\",\"2010-10-22T00:00:00\",\"2010-10-29T00:00:00\",\"2010-11-05T00:00:00\",\"2010-11-12T00:00:00\",\"2010-11-19T00:00:00\",\"2010-11-26T00:00:00\",\"2010-12-03T00:00:00\",\"2010-12-10T00:00:00\",\"2010-12-17T00:00:00\",\"2010-12-24T00:00:00\",\"2010-12-31T00:00:00\",\"2011-01-07T00:00:00\",\"2011-01-14T00:00:00\",\"2011-01-21T00:00:00\",\"2011-01-28T00:00:00\",\"2011-02-04T00:00:00\",\"2011-02-11T00:00:00\",\"2011-02-18T00:00:00\",\"2011-02-25T00:00:00\",\"2011-03-04T00:00:00\",\"2011-03-11T00:00:00\",\"2011-03-18T00:00:00\",\"2011-03-25T00:00:00\",\"2011-04-01T00:00:00\",\"2011-04-08T00:00:00\",\"2011-04-15T00:00:00\",\"2011-04-22T00:00:00\",\"2011-04-29T00:00:00\",\"2011-05-06T00:00:00\",\"2011-05-13T00:00:00\",\"2011-05-20T00:00:00\",\"2011-05-27T00:00:00\",\"2011-06-03T00:00:00\",\"2011-06-10T00:00:00\",\"2011-06-17T00:00:00\",\"2011-06-24T00:00:00\",\"2011-07-01T00:00:00\",\"2011-07-08T00:00:00\",\"2011-07-15T00:00:00\",\"2011-07-22T00:00:00\",\"2011-07-29T00:00:00\",\"2011-08-05T00:00:00\",\"2011-08-12T00:00:00\",\"2011-08-19T00:00:00\",\"2011-08-26T00:00:00\",\"2011-09-02T00:00:00\",\"2011-09-09T00:00:00\",\"2011-09-16T00:00:00\",\"2011-09-23T00:00:00\",\"2011-09-30T00:00:00\",\"2011-10-07T00:00:00\",\"2011-10-14T00:00:00\",\"2011-10-21T00:00:00\",\"2011-10-28T00:00:00\",\"2011-11-04T00:00:00\",\"2011-11-11T00:00:00\",\"2011-11-18T00:00:00\",\"2011-11-25T00:00:00\",\"2011-12-02T00:00:00\",\"2011-12-09T00:00:00\",\"2011-12-16T00:00:00\",\"2011-12-23T00:00:00\",\"2011-12-30T00:00:00\",\"2012-01-06T00:00:00\",\"2012-01-13T00:00:00\",\"2012-01-20T00:00:00\",\"2012-01-27T00:00:00\",\"2012-02-03T00:00:00\",\"2012-02-10T00:00:00\",\"2012-02-17T00:00:00\",\"2012-02-24T00:00:00\",\"2012-03-02T00:00:00\",\"2012-03-09T00:00:00\",\"2012-03-16T00:00:00\",\"2012-03-23T00:00:00\",\"2012-03-30T00:00:00\",\"2012-04-06T00:00:00\",\"2012-04-13T00:00:00\",\"2012-04-20T00:00:00\",\"2012-04-27T00:00:00\",\"2012-05-04T00:00:00\",\"2012-05-11T00:00:00\",\"2012-05-18T00:00:00\",\"2012-05-25T00:00:00\",\"2012-06-01T00:00:00\",\"2012-06-08T00:00:00\",\"2012-06-15T00:00:00\",\"2012-06-22T00:00:00\",\"2012-06-29T00:00:00\",\"2012-07-06T00:00:00\",\"2012-07-13T00:00:00\",\"2012-07-20T00:00:00\",\"2012-07-27T00:00:00\",\"2012-08-03T00:00:00\",\"2012-08-10T00:00:00\",\"2012-08-17T00:00:00\",\"2012-08-24T00:00:00\",\"2012-08-31T00:00:00\",\"2012-09-07T00:00:00\",\"2012-09-14T00:00:00\",\"2012-09-21T00:00:00\",\"2012-09-28T00:00:00\",\"2012-10-05T00:00:00\",\"2012-10-12T00:00:00\",\"2012-10-19T00:00:00\",\"2012-10-26T00:00:00\",\"2010-02-05T00:00:00\",\"2010-02-12T00:00:00\",\"2010-02-19T00:00:00\",\"2010-02-26T00:00:00\",\"2010-03-05T00:00:00\",\"2010-03-12T00:00:00\",\"2010-03-19T00:00:00\",\"2010-03-26T00:00:00\",\"2010-04-02T00:00:00\",\"2010-04-09T00:00:00\",\"2010-04-16T00:00:00\",\"2010-04-23T00:00:00\",\"2010-04-30T00:00:00\",\"2010-05-07T00:00:00\",\"2010-05-14T00:00:00\",\"2010-05-21T00:00:00\",\"2010-05-28T00:00:00\",\"2010-06-04T00:00:00\",\"2010-06-11T00:00:00\",\"2010-06-18T00:00:00\",\"2010-06-25T00:00:00\",\"2010-07-02T00:00:00\",\"2010-07-09T00:00:00\",\"2010-07-16T00:00:00\",\"2010-07-23T00:00:00\",\"2010-07-30T00:00:00\",\"2010-08-06T00:00:00\",\"2010-08-13T00:00:00\",\"2010-08-20T00:00:00\",\"2010-08-27T00:00:00\",\"2010-09-03T00:00:00\",\"2010-09-10T00:00:00\",\"2010-09-17T00:00:00\",\"2010-09-24T00:00:00\",\"2010-10-01T00:00:00\",\"2010-10-08T00:00:00\",\"2010-10-15T00:00:00\",\"2010-10-22T00:00:00\",\"2010-10-29T00:00:00\",\"2010-11-05T00:00:00\",\"2010-11-12T00:00:00\",\"2010-11-19T00:00:00\",\"2010-11-26T00:00:00\",\"2010-12-03T00:00:00\",\"2010-12-10T00:00:00\",\"2010-12-17T00:00:00\",\"2010-12-24T00:00:00\",\"2010-12-31T00:00:00\",\"2011-01-07T00:00:00\",\"2011-01-14T00:00:00\",\"2011-01-21T00:00:00\",\"2011-01-28T00:00:00\",\"2011-02-04T00:00:00\",\"2011-02-11T00:00:00\",\"2011-02-18T00:00:00\",\"2011-02-25T00:00:00\",\"2011-03-04T00:00:00\",\"2011-03-11T00:00:00\",\"2011-03-18T00:00:00\",\"2011-03-25T00:00:00\",\"2011-04-01T00:00:00\",\"2011-04-08T00:00:00\",\"2011-04-15T00:00:00\",\"2011-04-22T00:00:00\",\"2011-04-29T00:00:00\",\"2011-05-06T00:00:00\",\"2011-05-13T00:00:00\",\"2011-05-20T00:00:00\",\"2011-05-27T00:00:00\",\"2011-06-03T00:00:00\",\"2011-06-10T00:00:00\",\"2011-06-17T00:00:00\",\"2011-06-24T00:00:00\",\"2011-07-01T00:00:00\",\"2011-07-08T00:00:00\",\"2011-07-15T00:00:00\",\"2011-07-22T00:00:00\",\"2011-07-29T00:00:00\",\"2011-08-05T00:00:00\",\"2011-08-12T00:00:00\",\"2011-08-19T00:00:00\",\"2011-08-26T00:00:00\",\"2011-09-02T00:00:00\",\"2011-09-09T00:00:00\",\"2011-09-16T00:00:00\",\"2011-09-23T00:00:00\",\"2011-09-30T00:00:00\",\"2011-10-07T00:00:00\",\"2011-10-14T00:00:00\",\"2011-10-21T00:00:00\",\"2011-10-28T00:00:00\",\"2011-11-04T00:00:00\",\"2011-11-11T00:00:00\",\"2011-11-18T00:00:00\",\"2011-11-25T00:00:00\",\"2011-12-02T00:00:00\",\"2011-12-09T00:00:00\",\"2011-12-16T00:00:00\",\"2011-12-23T00:00:00\",\"2011-12-30T00:00:00\",\"2012-01-06T00:00:00\",\"2012-01-13T00:00:00\",\"2012-01-20T00:00:00\",\"2012-01-27T00:00:00\",\"2012-02-03T00:00:00\",\"2012-02-10T00:00:00\",\"2012-02-17T00:00:00\",\"2012-02-24T00:00:00\",\"2012-03-02T00:00:00\",\"2012-03-09T00:00:00\",\"2012-03-16T00:00:00\",\"2012-03-23T00:00:00\",\"2012-03-30T00:00:00\",\"2012-04-06T00:00:00\",\"2012-04-13T00:00:00\",\"2012-04-20T00:00:00\",\"2012-04-27T00:00:00\",\"2012-05-04T00:00:00\",\"2012-05-11T00:00:00\",\"2012-05-18T00:00:00\",\"2012-05-25T00:00:00\",\"2012-06-01T00:00:00\",\"2012-06-08T00:00:00\",\"2012-06-15T00:00:00\",\"2012-06-22T00:00:00\",\"2012-06-29T00:00:00\",\"2012-07-06T00:00:00\",\"2012-07-13T00:00:00\",\"2012-07-20T00:00:00\",\"2012-07-27T00:00:00\",\"2012-08-03T00:00:00\",\"2012-08-10T00:00:00\",\"2012-08-17T00:00:00\",\"2012-08-24T00:00:00\",\"2012-08-31T00:00:00\",\"2012-09-07T00:00:00\",\"2012-09-14T00:00:00\",\"2012-09-21T00:00:00\",\"2012-09-28T00:00:00\",\"2012-10-05T00:00:00\",\"2012-10-12T00:00:00\",\"2012-10-19T00:00:00\",\"2012-10-26T00:00:00\",\"2010-02-05T00:00:00\",\"2010-02-12T00:00:00\",\"2010-02-19T00:00:00\",\"2010-02-26T00:00:00\",\"2010-03-05T00:00:00\",\"2010-03-12T00:00:00\",\"2010-03-19T00:00:00\",\"2010-03-26T00:00:00\",\"2010-04-02T00:00:00\",\"2010-04-09T00:00:00\",\"2010-04-16T00:00:00\",\"2010-04-23T00:00:00\",\"2010-04-30T00:00:00\",\"2010-05-07T00:00:00\",\"2010-05-14T00:00:00\",\"2010-05-21T00:00:00\",\"2010-05-28T00:00:00\",\"2010-06-04T00:00:00\",\"2010-06-11T00:00:00\",\"2010-06-18T00:00:00\",\"2010-06-25T00:00:00\",\"2010-07-02T00:00:00\",\"2010-07-09T00:00:00\",\"2010-07-16T00:00:00\",\"2010-07-23T00:00:00\",\"2010-07-30T00:00:00\",\"2010-08-06T00:00:00\",\"2010-08-13T00:00:00\",\"2010-08-20T00:00:00\",\"2010-08-27T00:00:00\",\"2010-09-03T00:00:00\",\"2010-09-10T00:00:00\",\"2010-09-17T00:00:00\",\"2010-09-24T00:00:00\",\"2010-10-01T00:00:00\",\"2010-10-08T00:00:00\",\"2010-10-15T00:00:00\",\"2010-10-22T00:00:00\",\"2010-10-29T00:00:00\",\"2010-11-05T00:00:00\",\"2010-11-12T00:00:00\",\"2010-11-19T00:00:00\",\"2010-11-26T00:00:00\",\"2010-12-03T00:00:00\",\"2010-12-10T00:00:00\",\"2010-12-17T00:00:00\",\"2010-12-24T00:00:00\",\"2010-12-31T00:00:00\",\"2011-01-07T00:00:00\",\"2011-01-14T00:00:00\",\"2011-01-21T00:00:00\",\"2011-01-28T00:00:00\",\"2011-02-04T00:00:00\",\"2011-02-11T00:00:00\",\"2011-02-18T00:00:00\",\"2011-02-25T00:00:00\",\"2011-03-04T00:00:00\",\"2011-03-11T00:00:00\",\"2011-03-18T00:00:00\",\"2011-03-25T00:00:00\",\"2011-04-01T00:00:00\",\"2011-04-08T00:00:00\",\"2011-04-15T00:00:00\",\"2011-04-22T00:00:00\",\"2011-04-29T00:00:00\",\"2011-05-06T00:00:00\",\"2011-05-13T00:00:00\",\"2011-05-20T00:00:00\",\"2011-05-27T00:00:00\",\"2011-06-03T00:00:00\",\"2011-06-10T00:00:00\",\"2011-06-17T00:00:00\",\"2011-06-24T00:00:00\",\"2011-07-01T00:00:00\",\"2011-07-08T00:00:00\",\"2011-07-15T00:00:00\",\"2011-07-22T00:00:00\",\"2011-07-29T00:00:00\",\"2011-08-05T00:00:00\",\"2011-08-12T00:00:00\",\"2011-08-19T00:00:00\",\"2011-08-26T00:00:00\",\"2011-09-02T00:00:00\",\"2011-09-09T00:00:00\",\"2011-09-16T00:00:00\",\"2011-09-23T00:00:00\",\"2011-09-30T00:00:00\",\"2011-10-07T00:00:00\",\"2011-10-14T00:00:00\",\"2011-10-21T00:00:00\",\"2011-10-28T00:00:00\",\"2011-11-04T00:00:00\",\"2011-11-11T00:00:00\",\"2011-11-18T00:00:00\",\"2011-11-25T00:00:00\",\"2011-12-02T00:00:00\",\"2011-12-09T00:00:00\",\"2011-12-16T00:00:00\",\"2011-12-23T00:00:00\",\"2011-12-30T00:00:00\",\"2012-01-06T00:00:00\",\"2012-01-13T00:00:00\",\"2012-01-20T00:00:00\",\"2012-01-27T00:00:00\",\"2012-02-03T00:00:00\",\"2012-02-10T00:00:00\",\"2012-02-17T00:00:00\",\"2012-02-24T00:00:00\",\"2012-03-02T00:00:00\",\"2012-03-09T00:00:00\",\"2012-03-16T00:00:00\",\"2012-03-23T00:00:00\",\"2012-03-30T00:00:00\",\"2012-04-06T00:00:00\",\"2012-04-13T00:00:00\",\"2012-04-20T00:00:00\",\"2012-04-27T00:00:00\",\"2012-05-04T00:00:00\",\"2012-05-11T00:00:00\",\"2012-05-18T00:00:00\",\"2012-05-25T00:00:00\",\"2012-06-01T00:00:00\",\"2012-06-08T00:00:00\",\"2012-06-15T00:00:00\",\"2012-06-22T00:00:00\",\"2012-06-29T00:00:00\",\"2012-07-06T00:00:00\",\"2012-07-13T00:00:00\",\"2012-07-20T00:00:00\",\"2012-07-27T00:00:00\",\"2012-08-03T00:00:00\",\"2012-08-10T00:00:00\",\"2012-08-17T00:00:00\",\"2012-08-24T00:00:00\",\"2012-08-31T00:00:00\",\"2012-09-07T00:00:00\",\"2012-09-14T00:00:00\",\"2012-09-21T00:00:00\",\"2012-09-28T00:00:00\",\"2012-10-05T00:00:00\",\"2012-10-12T00:00:00\",\"2012-10-19T00:00:00\",\"2012-10-26T00:00:00\",\"2010-07-02T00:00:00\",\"2010-07-09T00:00:00\",\"2010-07-16T00:00:00\",\"2010-07-23T00:00:00\",\"2010-07-30T00:00:00\",\"2010-08-06T00:00:00\",\"2010-08-13T00:00:00\",\"2010-08-20T00:00:00\",\"2010-08-27T00:00:00\",\"2010-09-03T00:00:00\",\"2010-09-10T00:00:00\",\"2010-09-17T00:00:00\",\"2010-09-24T00:00:00\",\"2010-10-01T00:00:00\",\"2010-10-08T00:00:00\",\"2010-10-15T00:00:00\",\"2010-10-22T00:00:00\",\"2010-10-29T00:00:00\",\"2010-11-05T00:00:00\",\"2010-11-12T00:00:00\",\"2010-11-19T00:00:00\",\"2010-11-26T00:00:00\",\"2010-12-03T00:00:00\",\"2010-12-10T00:00:00\",\"2010-12-17T00:00:00\",\"2010-12-24T00:00:00\",\"2010-12-31T00:00:00\",\"2011-01-07T00:00:00\",\"2011-01-14T00:00:00\",\"2011-01-21T00:00:00\",\"2011-01-28T00:00:00\",\"2011-02-04T00:00:00\",\"2011-02-11T00:00:00\",\"2011-02-18T00:00:00\",\"2011-02-25T00:00:00\",\"2011-03-04T00:00:00\",\"2011-03-11T00:00:00\",\"2011-03-18T00:00:00\",\"2011-03-25T00:00:00\",\"2011-04-01T00:00:00\",\"2011-04-08T00:00:00\",\"2011-04-15T00:00:00\",\"2011-04-22T00:00:00\",\"2011-04-29T00:00:00\",\"2011-05-06T00:00:00\",\"2011-05-13T00:00:00\",\"2011-05-20T00:00:00\",\"2011-05-27T00:00:00\",\"2011-06-03T00:00:00\",\"2011-06-10T00:00:00\",\"2011-06-17T00:00:00\",\"2011-06-24T00:00:00\",\"2011-07-01T00:00:00\",\"2011-07-08T00:00:00\",\"2011-07-15T00:00:00\",\"2011-07-22T00:00:00\",\"2011-07-29T00:00:00\",\"2011-08-05T00:00:00\",\"2011-08-12T00:00:00\",\"2011-08-19T00:00:00\",\"2011-08-26T00:00:00\",\"2011-09-02T00:00:00\",\"2011-09-09T00:00:00\",\"2011-09-16T00:00:00\",\"2011-09-23T00:00:00\",\"2011-09-30T00:00:00\",\"2011-10-07T00:00:00\",\"2011-10-14T00:00:00\",\"2011-10-21T00:00:00\",\"2011-10-28T00:00:00\",\"2011-11-04T00:00:00\",\"2011-11-11T00:00:00\",\"2011-11-18T00:00:00\",\"2011-11-25T00:00:00\",\"2011-12-02T00:00:00\",\"2011-12-09T00:00:00\",\"2011-12-16T00:00:00\",\"2011-12-23T00:00:00\",\"2011-12-30T00:00:00\",\"2012-01-06T00:00:00\",\"2012-01-13T00:00:00\",\"2012-01-20T00:00:00\",\"2012-01-27T00:00:00\",\"2012-02-03T00:00:00\",\"2012-02-10T00:00:00\",\"2012-02-17T00:00:00\",\"2012-02-24T00:00:00\",\"2012-03-02T00:00:00\",\"2012-03-09T00:00:00\",\"2012-03-16T00:00:00\",\"2012-03-23T00:00:00\",\"2012-03-30T00:00:00\",\"2012-04-06T00:00:00\",\"2012-04-13T00:00:00\",\"2012-04-20T00:00:00\",\"2012-04-27T00:00:00\",\"2012-05-04T00:00:00\",\"2012-05-11T00:00:00\",\"2012-05-18T00:00:00\",\"2012-05-25T00:00:00\",\"2012-06-01T00:00:00\",\"2012-06-08T00:00:00\",\"2012-06-15T00:00:00\",\"2012-06-22T00:00:00\",\"2012-06-29T00:00:00\",\"2012-07-06T00:00:00\",\"2012-07-13T00:00:00\",\"2012-07-20T00:00:00\",\"2012-07-27T00:00:00\",\"2012-08-03T00:00:00\",\"2012-08-10T00:00:00\",\"2012-08-17T00:00:00\",\"2012-08-24T00:00:00\",\"2012-08-31T00:00:00\",\"2012-09-07T00:00:00\",\"2012-09-14T00:00:00\",\"2012-09-21T00:00:00\",\"2012-09-28T00:00:00\",\"2012-10-05T00:00:00\",\"2012-10-12T00:00:00\",\"2012-10-19T00:00:00\",\"2012-10-26T00:00:00\",\"2010-02-05T00:00:00\",\"2010-02-12T00:00:00\",\"2010-02-19T00:00:00\",\"2010-02-26T00:00:00\",\"2010-03-05T00:00:00\",\"2010-03-12T00:00:00\",\"2010-03-19T00:00:00\",\"2010-03-26T00:00:00\",\"2010-04-02T00:00:00\",\"2010-04-09T00:00:00\",\"2010-04-16T00:00:00\",\"2010-04-23T00:00:00\",\"2010-04-30T00:00:00\",\"2010-05-07T00:00:00\",\"2010-05-14T00:00:00\",\"2010-05-21T00:00:00\",\"2010-05-28T00:00:00\",\"2010-06-04T00:00:00\",\"2010-06-11T00:00:00\",\"2010-06-18T00:00:00\",\"2010-06-25T00:00:00\",\"2010-07-02T00:00:00\",\"2010-07-09T00:00:00\",\"2010-07-16T00:00:00\",\"2010-07-23T00:00:00\",\"2010-07-30T00:00:00\",\"2010-08-06T00:00:00\",\"2010-08-13T00:00:00\",\"2010-08-20T00:00:00\",\"2010-08-27T00:00:00\",\"2010-09-03T00:00:00\",\"2010-09-10T00:00:00\",\"2010-09-17T00:00:00\",\"2010-09-24T00:00:00\",\"2010-10-01T00:00:00\",\"2010-10-08T00:00:00\",\"2010-10-15T00:00:00\",\"2010-10-22T00:00:00\",\"2010-10-29T00:00:00\",\"2010-11-05T00:00:00\",\"2010-11-12T00:00:00\",\"2010-11-19T00:00:00\",\"2010-11-26T00:00:00\",\"2010-12-03T00:00:00\",\"2010-12-10T00:00:00\",\"2010-12-17T00:00:00\",\"2010-12-24T00:00:00\",\"2010-12-31T00:00:00\",\"2011-01-07T00:00:00\",\"2011-01-14T00:00:00\",\"2011-01-21T00:00:00\",\"2011-01-28T00:00:00\",\"2011-02-04T00:00:00\",\"2011-02-11T00:00:00\",\"2011-02-18T00:00:00\",\"2011-02-25T00:00:00\",\"2011-03-04T00:00:00\",\"2011-03-11T00:00:00\",\"2011-03-18T00:00:00\",\"2011-03-25T00:00:00\",\"2011-04-01T00:00:00\",\"2011-04-08T00:00:00\",\"2011-04-15T00:00:00\",\"2011-04-22T00:00:00\",\"2011-04-29T00:00:00\",\"2011-05-06T00:00:00\",\"2011-05-13T00:00:00\",\"2011-05-20T00:00:00\",\"2011-05-27T00:00:00\",\"2011-06-03T00:00:00\",\"2011-06-10T00:00:00\",\"2011-06-17T00:00:00\",\"2011-06-24T00:00:00\",\"2011-07-01T00:00:00\",\"2011-07-08T00:00:00\",\"2011-07-15T00:00:00\",\"2011-07-22T00:00:00\",\"2011-07-29T00:00:00\",\"2011-08-05T00:00:00\",\"2011-08-12T00:00:00\",\"2011-08-19T00:00:00\",\"2011-08-26T00:00:00\",\"2011-09-02T00:00:00\",\"2011-09-09T00:00:00\",\"2011-09-16T00:00:00\",\"2011-09-23T00:00:00\",\"2011-09-30T00:00:00\",\"2011-10-07T00:00:00\",\"2011-10-14T00:00:00\",\"2011-10-21T00:00:00\",\"2011-10-28T00:00:00\",\"2011-11-04T00:00:00\",\"2011-11-11T00:00:00\",\"2011-11-18T00:00:00\",\"2011-11-25T00:00:00\",\"2011-12-02T00:00:00\",\"2011-12-09T00:00:00\",\"2011-12-16T00:00:00\",\"2011-12-23T00:00:00\",\"2011-12-30T00:00:00\",\"2012-01-06T00:00:00\",\"2012-01-13T00:00:00\",\"2012-01-20T00:00:00\",\"2012-01-27T00:00:00\",\"2012-02-03T00:00:00\",\"2012-02-10T00:00:00\",\"2012-02-17T00:00:00\",\"2012-02-24T00:00:00\",\"2012-03-02T00:00:00\",\"2012-03-09T00:00:00\",\"2012-03-16T00:00:00\",\"2012-03-23T00:00:00\",\"2012-03-30T00:00:00\",\"2012-04-06T00:00:00\",\"2012-04-13T00:00:00\",\"2012-04-20T00:00:00\",\"2012-04-27T00:00:00\",\"2012-05-04T00:00:00\",\"2012-05-11T00:00:00\",\"2012-05-18T00:00:00\",\"2012-05-25T00:00:00\",\"2012-06-01T00:00:00\",\"2012-06-08T00:00:00\",\"2012-06-15T00:00:00\",\"2012-06-22T00:00:00\",\"2012-06-29T00:00:00\",\"2012-07-06T00:00:00\",\"2012-07-13T00:00:00\",\"2012-07-20T00:00:00\",\"2012-07-27T00:00:00\",\"2012-08-03T00:00:00\",\"2012-08-10T00:00:00\",\"2012-08-17T00:00:00\",\"2012-08-24T00:00:00\",\"2012-08-31T00:00:00\",\"2012-09-07T00:00:00\",\"2012-09-14T00:00:00\",\"2012-09-21T00:00:00\",\"2012-09-28T00:00:00\",\"2012-10-05T00:00:00\",\"2012-10-12T00:00:00\",\"2012-10-19T00:00:00\",\"2012-10-26T00:00:00\",\"2010-02-05T00:00:00\",\"2010-02-12T00:00:00\",\"2010-02-19T00:00:00\",\"2010-02-26T00:00:00\",\"2010-03-05T00:00:00\",\"2010-03-12T00:00:00\",\"2010-03-19T00:00:00\",\"2010-03-26T00:00:00\",\"2010-04-02T00:00:00\",\"2010-04-09T00:00:00\",\"2010-04-16T00:00:00\",\"2010-04-23T00:00:00\",\"2010-04-30T00:00:00\",\"2010-05-07T00:00:00\",\"2010-05-14T00:00:00\",\"2010-05-21T00:00:00\",\"2010-05-28T00:00:00\",\"2010-06-04T00:00:00\",\"2010-06-11T00:00:00\",\"2010-06-18T00:00:00\",\"2010-06-25T00:00:00\",\"2010-07-02T00:00:00\",\"2010-07-09T00:00:00\",\"2010-07-16T00:00:00\",\"2010-07-23T00:00:00\",\"2010-07-30T00:00:00\",\"2010-08-06T00:00:00\",\"2010-08-13T00:00:00\",\"2010-08-20T00:00:00\",\"2010-08-27T00:00:00\",\"2010-09-03T00:00:00\",\"2010-09-10T00:00:00\",\"2010-09-17T00:00:00\",\"2010-09-24T00:00:00\",\"2010-10-01T00:00:00\",\"2010-10-08T00:00:00\",\"2010-10-15T00:00:00\",\"2010-10-22T00:00:00\",\"2010-10-29T00:00:00\",\"2010-11-05T00:00:00\",\"2010-11-12T00:00:00\",\"2010-11-19T00:00:00\",\"2010-11-26T00:00:00\",\"2010-12-03T00:00:00\",\"2010-12-10T00:00:00\",\"2010-12-17T00:00:00\",\"2010-12-24T00:00:00\",\"2010-12-31T00:00:00\",\"2011-01-07T00:00:00\",\"2011-01-14T00:00:00\",\"2011-01-21T00:00:00\",\"2011-01-28T00:00:00\",\"2011-02-04T00:00:00\",\"2011-02-11T00:00:00\",\"2011-02-18T00:00:00\",\"2011-02-25T00:00:00\",\"2011-03-04T00:00:00\",\"2011-03-11T00:00:00\",\"2011-03-18T00:00:00\",\"2011-03-25T00:00:00\",\"2011-04-01T00:00:00\",\"2011-04-08T00:00:00\",\"2011-04-15T00:00:00\",\"2011-04-22T00:00:00\",\"2011-04-29T00:00:00\",\"2011-05-06T00:00:00\",\"2011-05-13T00:00:00\",\"2011-05-20T00:00:00\",\"2011-05-27T00:00:00\",\"2011-06-03T00:00:00\",\"2011-06-10T00:00:00\",\"2011-06-17T00:00:00\",\"2011-06-24T00:00:00\",\"2011-07-01T00:00:00\",\"2011-07-08T00:00:00\",\"2011-07-15T00:00:00\",\"2011-07-22T00:00:00\",\"2011-07-29T00:00:00\",\"2011-08-05T00:00:00\",\"2011-08-12T00:00:00\",\"2011-08-19T00:00:00\",\"2011-08-26T00:00:00\",\"2011-09-02T00:00:00\",\"2011-09-09T00:00:00\",\"2011-09-16T00:00:00\",\"2011-09-23T00:00:00\",\"2011-09-30T00:00:00\",\"2011-10-07T00:00:00\",\"2011-10-14T00:00:00\",\"2011-10-21T00:00:00\",\"2011-10-28T00:00:00\",\"2011-11-04T00:00:00\",\"2011-11-11T00:00:00\",\"2011-11-18T00:00:00\",\"2011-11-25T00:00:00\",\"2011-12-02T00:00:00\",\"2011-12-09T00:00:00\",\"2011-12-16T00:00:00\",\"2011-12-23T00:00:00\",\"2011-12-30T00:00:00\",\"2012-01-06T00:00:00\",\"2012-01-13T00:00:00\",\"2012-01-20T00:00:00\",\"2012-01-27T00:00:00\",\"2012-02-03T00:00:00\",\"2012-02-10T00:00:00\",\"2012-02-17T00:00:00\",\"2012-02-24T00:00:00\",\"2012-03-02T00:00:00\",\"2012-03-09T00:00:00\",\"2012-03-16T00:00:00\",\"2012-03-23T00:00:00\",\"2012-03-30T00:00:00\",\"2012-04-06T00:00:00\",\"2012-04-13T00:00:00\",\"2012-04-20T00:00:00\",\"2012-04-27T00:00:00\",\"2012-05-04T00:00:00\",\"2012-05-11T00:00:00\",\"2012-05-18T00:00:00\",\"2012-05-25T00:00:00\",\"2012-06-01T00:00:00\",\"2012-06-08T00:00:00\",\"2012-06-15T00:00:00\",\"2012-06-22T00:00:00\",\"2012-06-29T00:00:00\",\"2012-07-06T00:00:00\",\"2012-07-13T00:00:00\",\"2012-07-20T00:00:00\",\"2012-07-27T00:00:00\",\"2012-08-03T00:00:00\",\"2012-08-10T00:00:00\",\"2012-08-17T00:00:00\",\"2012-08-24T00:00:00\",\"2012-08-31T00:00:00\",\"2012-09-07T00:00:00\",\"2012-09-14T00:00:00\",\"2012-09-21T00:00:00\",\"2012-09-28T00:00:00\",\"2012-10-05T00:00:00\",\"2012-10-12T00:00:00\",\"2012-10-19T00:00:00\",\"2012-10-26T00:00:00\",\"2010-07-02T00:00:00\",\"2011-03-04T00:00:00\",\"2011-03-11T00:00:00\",\"2011-05-13T00:00:00\",\"2011-06-17T00:00:00\",\"2011-06-24T00:00:00\",\"2011-08-19T00:00:00\",\"2011-08-26T00:00:00\",\"2011-09-02T00:00:00\",\"2011-09-09T00:00:00\",\"2011-11-25T00:00:00\",\"2011-12-09T00:00:00\",\"2011-12-16T00:00:00\",\"2011-12-23T00:00:00\",\"2011-12-30T00:00:00\",\"2012-02-03T00:00:00\",\"2012-02-10T00:00:00\",\"2012-02-17T00:00:00\",\"2012-02-24T00:00:00\",\"2012-03-02T00:00:00\",\"2012-04-06T00:00:00\",\"2012-04-13T00:00:00\",\"2012-05-04T00:00:00\",\"2012-06-15T00:00:00\",\"2012-06-22T00:00:00\",\"2012-07-13T00:00:00\",\"2012-07-20T00:00:00\",\"2012-07-27T00:00:00\",\"2012-08-03T00:00:00\",\"2012-08-10T00:00:00\",\"2012-08-17T00:00:00\",\"2012-08-24T00:00:00\",\"2012-08-31T00:00:00\",\"2012-09-07T00:00:00\",\"2012-09-14T00:00:00\",\"2012-10-05T00:00:00\",\"2012-10-12T00:00:00\"],\"xaxis\":\"x\",\"y\":[24924.5,46039.49,41595.55,19403.54,21827.9,21043.39,22136.64,26229.21,57258.43,42960.91,17596.96,16145.35,16555.11,17413.94,18926.74,14773.04,15580.43,17558.09,16637.62,16216.27,16328.72,16333.14,17688.76,17150.84,15360.45,15381.82,17508.41,15536.4,15740.13,15793.87,16241.78,18194.74,19354.23,18122.52,20094.19,23388.03,26978.34,25543.04,38640.93,34238.88,19549.39,19552.84,18820.29,22517.56,31497.65,44912.86,55931.23,19124.58,15984.24,17359.7,17341.47,18461.18,21665.76,37887.17,46845.87,19363.83,20327.61,21280.4,20334.23,20881.1,20398.09,23873.79,28762.37,50510.31,41512.39,20138.19,17235.15,15136.78,15741.6,16434.15,15883.52,14978.09,15682.81,15363.5,16148.87,15654.85,15766.6,15922.41,15295.55,14539.79,14689.24,14537.37,15277.27,17746.68,18535.48,17859.3,18337.68,20797.58,23077.55,23351.8,31579.9,39886.06,18689.54,19050.66,20911.25,25293.49,33305.92,45773.03,46788.75,23350.88,16567.69,16894.4,18365.1,18378.16,23510.49,36988.49,54060.1,20124.22,20113.03,21140.07,22366.88,22107.7,28952.86,57592.12,34684.21,16976.19,16347.6,17147.44,18164.2,18517.79,16963.55,16065.49,17666.0,17558.82,16633.41,15722.82,17823.37,16566.18,16348.06,15731.18,16628.31,16119.92,17330.7,16286.4,16680.24,18322.37,19616.22,19251.5,18947.81,21904.47,22764.01,24185.27,27390.81,50605.27,44682.74,47928.89,44292.87,48397.98,43751.94,43615.49,41892.55,47450.5,46549.73,45025.02,44418.11,45971.3,47903.01,43675.61,44319.15,44619.52,48754.47,47089.54,44428.71,45299.92,47077.72,46752.12,44339.2,44763.33,45833.77,50031.73,45475.69,49754.17,49623.53,49015.05,45182.5,44681.64,42477.49,45829.02,46387.54,43110.79,42371.48,44081.33,46381.43,43194.49,41443.25,45681.98,44405.02,46955.82,49303.28,59889.32,35819.83,43202.29,39857.4,41596.99,41651.01,46829.12,47595.35,49202.06,46165.25,53035.54,48465.72,45222.3,44293.54,46991.58,48501.79,44464.74,46544.56,43682.41,50139.92,44274.15,44302.11,45072.11,47844.27,46363.93,42939.63,42415.81,45247.74,44623.23,43260.96,45113.56,43191.02,49359.75,45341.92,46391.12,47659.93,49419.75,43315.85,42963.96,43390.94,46045.09,49880.69,43306.38,42487.67,41682.4,47313.62,44936.47,43997.78,44259.59,45928.14,49357.43,51137.42,65615.36,43539.94,44481.38,43353.09,43753.43,41556.23,54322.24,50581.06,46085.47,47080.12,52608.51,48563.69,47346.32,44796.03,46529.68,51805.88,43991.18,45561.85,45456.23,50501.3,46717.76,44411.23,45817.07,47425.29,49439.58,46637.48,46075.0,47629.14,49771.92,44411.95,45108.22,45008.22,49424.06,46729.91,46350.97,44972.52,50995.5,47344.5,44493.61,43541.07,45784.76,48577.08,42112.67,42354.72,43134.88,13740.12,10887.84,11523.47,11135.17,12275.58,10123.45,9001.37,10366.85,11157.08,10179.29,9226.8,8868.93,9337.44,9372.8,7919.86,7813.91,8412.69,8001.41,7742.75,8201.06,6591.22,7857.88,8112.67,13751.3,16930.62,20915.95,26719.02,30640.54,41101.93,51159.17,19081.8,12134.69,10722.46,8097.92,9775.17,10081.8,9735.73,8614.41,9283.09,9825.22,9146.77,9202.11,10706.81,10856.85,11219.78,11986.84,12080.36,8266.14,15808.15,13275.87,12532.94,11983.34,11012.52,11428.25,11724.98,10473.78,11039.12,10689.97,8148.69,9049.02,8734.19,10417.33,8212.97,8468.72,8653.62,10420.92,8732.46,7939.01,8120.7,8853.89,7508.71,7658.75,6165.73,8070.64,7366.5,11578.11,16069.5,21331.51,31248.98,32148.93,41603.11,49775.52,19604.47,12778.28,10412.88,9755.56,10434.83,9977.96,9870.22,10136.78,9421.2,9189.2,9959.64,10104.36,9317.56,10146.54,12955.55,13180.05,13667.88,8848.44,13926.04,13822.49,11702.08,10613.17,12485.78,12388.85,10237.78,10502.4,11387.31,11925.71,8845.73,7910.22,9129.23,9335.24,7927.73,8647.36,8635.62,10655.35,10342.72,8609.82,8345.33,7175.77,8614.64,8016.26,7301.41,7577.59,8473.71,13126.15,20126.95,22716.7,30331.69,28257.3,31905.97,43712.78,50701.3,18368.51,14288.22,13403.63,13085.95,11676.98,10487.17,8548.87,9350.9,39954.04,35351.21,36826.95,34660.16,38086.19,32668.67,34118.11,33872.07,37809.49,36174.43,34740.19,33806.71,33437.8,37168.34,33657.7,35571.47,36380.36,40548.19,36579.96,35059.52,34454.69,39773.71,39781.45,35234.66,36624.71,36419.68,40973.88,36461.66,39706.1,36404.6,38321.88,36603.78,33999.01,32497.43,34912.45,35772.82,34693.27,32902.26,35202.44,37980.55,35008.03,37078.61,46201.27,37110.55,36364.31,39154.41,47893.23,36913.8,37947.8,34393.95,33735.58,32905.88,35870.49,37373.33,36479.25,33677.18,37943.96,35229.12,34863.03,34813.12,34451.9,36514.43,33466.89,35132.7,34528.56,37827.69,33471.81,34137.41,36790.72,42508.02,35376.06,35523.17,35062.02,36451.71,39149.99,33930.8,34630.02,35555.5,39339.09,37449.94,39148.87,37495.2,36589.07,35105.96,34108.12,32655.07,32830.81,37397.63,35000.3,33954.55,34247.26,39354.84,36826.52,37656.58,46564.14,38489.63,38729.31,38266.47,47785.93,37371.22,40925.76,36582.36,33780.2,33613.91,40274.83,39305.13,36550.46,34953.85,38459.98,38934.77,38125.32,36586.52,37718.51,42060.21,37449.26,36350.03,36894.54,41897.55,35840.06,34536.29,38270.34,41566.55,41124.27,39019.74,37400.31,39758.77,44936.96,38073.91,38080.05,35197.59,41305.39,40343.83,38105.9,36674.67,37802.97,39549.27,35044.06,34507.34,34647.33,39311.93,35446.18,35549.19,36292.6,32229.38,29620.81,26468.27,24101.89,23082.14,21498.92,22632.57,38971.89,29967.92,18516.45,11570.27,24763.98,22006.41,19260.44,16891.66,16157.17,15784.6,22932.26,21817.36,19778.44,19054.58,18887.71,20249.54,17918.22,17313.46,16472.48,16926.17,15544.62,15412.44,13570.32,15390.52,17776.56,15862.61,17039.38,23381.38,19853.57,20443.05,19525.85,16377.46,23903.81,23698.89,24716.49,70158.86,36472.02,49517.17,59589.48,85676.09,32280.82,22699.69,17445.37,18438.07,22118.7,31280.62,36667.65,31092.62,23870.31,28902.37,23704.37,22685.69,18719.22,23598.55,22393.09,22719.82,21786.16,17503.28,16195.54,15587.78,15575.25,16613.98,16848.76,18648.73,17861.56,21695.24,19239.86,17989.45,18444.8,19331.53,17406.68,21183.42,21320.93,18643.51,15478.26,20432.91,19075.78,19386.23,20562.37,16385.37,30352.06,22917.89,32700.34,26391.79,31956.07,31002.65,27339.37,79340.15,32572.27,41782.13,43479.7,61483.82,34981.76,23105.81,19281.61,19298.42,21376.42,28307.43,38096.04,46219.96,30797.88,30642.53,25492.21,29345.72,25442.13,22392.09,28386.81,18458.33,16645.01,17170.39,18953.07,17277.63,17955.73,18625.67,17233.25,24752.99,21376.63,24337.24,20233.9,19684.48,18089.61,17896.46,14105.4,17615.28,18232.46,15440.65,22446.23,18615.76,18236.15,19369.52,25798.78,22560.39,25508.81,20920.03,20413.83,25846.94,5749.03,9135.0,6060.26,5244.56,4221.25,5619.0,4906.05,7468.33,4132.61,4428.8,5020.78,3945.19,4736.15,7477.7,6982.17,3395.75,6165.59,5484.9,4082.04,3902.26,4239.1,4541.91,4986.25,4772.7,5758.04,3932.95,4700.38,3885.01,4067.35,3389.29,3553.75,4432.69,4492.88,4601.39,2876.19,4168.36,5024.04,4291.27,5424.27,5036.99,4248.34,3507.65,20163.69,6356.96,6440.06,12078.11,28497.52,5878.25,1376.15,2355.86,2163.84,3200.68,3324.96,4542.8,4033.43,4203.87,3882.86,3928.8,2889.22,4508.3,3249.27,3340.31,3798.07,2995.07,4298.02,7213.53,4162.52,4640.76,5572.35,4021.54,3079.94,3004.81,3020.07,4047.92,3412.08,3154.33,3665.52,2839.92,2864.27,3124.83,3717.28,3296.22,3461.79,6147.43,3806.5,4718.28,3489.24,4733.74,4248.69,5111.85,6227.43,6223.03,3527.62,2640.98,18629.83,5240.63,6714.41,10022.4,18931.11,6629.6,3665.25,2460.92,2427.46,1649.4,3981.09,7338.85,4223.42,3784.06,6464.52,4183.3,3905.72,2856.83,4540.27,4764.43,4500.12,2988.96,3319.32,4658.18,3574.83,6030.81,5131.26,3249.75,4888.46,4087.58,4870.31,4774.5,2828.03,2776.97,3496.53,2545.65,3412.58,-139.65,2725.3,2626.5,2987.07,2576.64,3073.31,4159.51,3168.68,3843.29,3788.59,3496.69,4032.5,21084.08,18310.31,19985.2,17224.22,19659.7,21529.14,22711.59,16254.21,22427.62,20516.64,19330.26,18534.4,22723.48,20457.62,18771.35,28726.86,36911.59,44563.68,26910.46,26984.25,28912.18,22589.0,22767.34,22666.55,20029.1,17709.46,21842.57,19178.36,17821.71,16309.44,18005.65,20824.49,17397.01,18227.39,16481.79,16350.96,16296.65,15395.27,17598.98,19136.58,21019.7,24313.72,72635.06,47406.83,63896.89,96198.12,166697.72,27433.06,17516.16,10774.06,12657.33,13957.4,17239.86,21169.06,24549.68,23811.23,19607.4,20304.74,22751.59,19958.0,20144.71,21617.85,19955.07,24606.39,22934.42,19394.0,21344.39,18787.41,26736.85,38450.3,38569.49,31439.02,23791.78,23747.1,20691.6,14805.42,16002.3,16061.11,17388.43,14088.28,13413.8,12116.03,14564.8,13370.82,14948.27,14836.91,13908.4,12758.28,13900.54,24664.06,26827.51,24182.96,25942.35,21953.16,71151.34,33118.33,47751.41,69511.06,119302.15,38216.01,12377.76,9194.61,10189.61,11228.15,16556.71,21619.05,16849.62,15956.87,16473.91,17500.24,20690.01,15628.59,18684.0,27171.41,21302.3,19056.92,18704.53,22956.83,23036.8,19180.11,28671.98,31568.92,30052.56,26249.22,24777.12,24077.39,27364.96,18427.17,16528.1,17171.35,16916.29,16552.49,16256.91,15159.94,15802.09,16941.42,15525.82,22542.44,22343.24,22071.39,20212.71,21937.45,21449.85,40129.01,37334.83,38717.6,35318.2,38776.09,34342.64,34188.52,33581.72,38151.58,34145.96,32890.54,32946.13,34168.23,35393.78,33131.69,34442.73,35046.1,35181.47,34036.53,33387.48,33731.24,35580.01,34721.25,33171.72,34350.12,33568.19,34833.35,32326.19,32249.35,31272.68,35562.68,32737.89,33762.32,31381.97,34658.25,35966.67,33747.68,32659.74,34917.77,36182.58,35527.64,35759.26,34099.53,36222.74,35188.54,36961.11,41864.0,32751.73,36599.46,34228.3,34547.4,35110.75,39903.33,36011.09,35386.72,34195.37,36369.58,34415.39,33301.63,32558.92,35319.05,34442.29,32224.01,32832.06,32827.42,37360.03,34727.2,35631.59,35972.12,36767.22,36099.62,34338.33,34014.16,34063.23,35582.39,33336.29,34006.29,31981.72,35484.32,31061.21,32707.8,32668.5,34963.68,34246.67,35018.8,33157.11,34173.84,36759.96,34131.81,32631.25,34429.75,36959.48,34003.52,33169.55,33243.85,35886.92,38226.32,37149.3,41062.58,32419.78,36797.0,34033.89,35356.12,34644.25,40069.47,38317.89,37244.73,37204.72,40307.19,36553.82,36141.27,33758.45,37745.71,41917.56,37295.29,36930.94,38531.76,41589.1,37702.53,37817.25,39067.0,41039.74,40236.23,38163.76,37693.88,37647.44,41524.67,36130.01,37797.31,36981.9,40098.84,37269.92,36294.18,33855.28,37666.92,38666.21,37346.83,36404.63,37254.84,42663.75,37248.47,38668.75,39255.35,16930.99,16562.49,15880.85,15175.52,24064.7,25605.58,33367.99,27897.97,25435.02,26113.67,28782.86,24664.06,24035.42,27588.34,25385.09,27798.19,29811.88,36317.39,26789.3,24934.43,24514.39,21032.55,27298.6,19092.63,19079.5,18959.82,19224.82,18684.26,21062.68,19860.51,39639.39,40143.87,28481.77,27585.27,44977.91,35836.59,32288.91,30302.47,31330.47,48794.36,37167.49,27561.57,44504.17,21979.41,26639.65,28716.62,47275.64,22884.84,16131.88,13215.27,11355.87,13213.73,18799.82,16065.13,21941.18,24517.18,27078.81,27860.95,33823.26,37050.06,28388.25,27560.77,28475.86,28657.31,23567.09,23957.45,23424.18,23918.77,26204.22,30796.28,27241.97,23176.62,24385.11,23809.04,24644.78,17344.99,16973.16,18244.55,21425.32,18708.23,18244.5,21140.44,38656.8,35450.71,27333.83,30988.32,44042.93,41729.36,32636.66,31062.86,34679.39,50675.72,37670.13,28932.57,42228.79,23042.52,27724.56,31948.63,45445.25,27192.39,20705.21,15416.12,13332.75,14728.57,19427.31,20985.41,23867.82,25957.89,30503.3,28291.68,37941.84,33541.36,50382.47,41235.34,33136.94,28111.87,30359.94,31552.3,28043.48,26160.37,29338.57,35001.66,30307.11,30249.01,28249.43,25081.23,32851.76,21464.73,22594.18,22921.21,23780.97,20400.88,23503.86,26262.95,41634.69,42920.95,31882.98,33889.72,40712.85,40439.53,37126.23,36690.81,41040.84,30721.5,31494.77,29634.13,27921.96,33299.27,28208.0,33731.81,31406.96,31794.04,32486.28,32134.61,29091.15,30666.59,32902.69,26568.32,26197.6,30894.79,34227.73,28149.18,32177.66,31667.6,29779.96,33138.28,31341.38,30078.61,29613.51,35078.09,31271.9,34848.72,31692.56,33457.07,32256.12,29212.99,29097.1,29764.24,30734.05,30847.4,26805.78,25464.1,31543.83,26288.47,26066.48,31090.69,26558.42,28569.66,28609.0,31325.61,25764.32,24500.27,23058.41,23852.51,26223.02,33036.92,35673.56,34655.18,33148.39,36246.52,31563.06,33739.79,42875.11,30863.93,32563.54,32040.83,34446.35,28188.01,28902.6,28848.69,28586.42,30235.6,35960.03,31578.41,31612.86,29831.79,29583.91,31714.81,28299.95,29459.23,30521.96,32548.48,31383.62,28909.06,30630.65,30606.87,31416.52,32147.59,27300.29,31036.88,31083.31,30888.69,28827.99,28349.42,31588.66,32346.54,28013.63,30877.51,32006.18,31747.07,30816.81,30434.19,26147.46,29927.33,23995.69,25331.83,23650.22,33524.28,37764.38,40409.5,37507.44,39036.14,34858.03,33405.1,33327.09,43718.05,36666.29,29709.53,30838.26,29433.27,35800.66,32271.72,30339.17,34203.35,37294.14,36155.27,32578.62,32851.06,33135.34,39189.33,31430.55,29187.22,30594.53,32794.21,33834.22,29723.55,27884.19,28490.93,30851.75,31705.09,29203.63,27205.4,27822.4,27803.78,29442.38,26285.27,24213.18,21760.75,18706.21,17306.61,19082.9,17864.32,19738.42,17592.13,21762.46,22186.81,19991.95,17349.9,20001.75,28928.31,23301.17,27266.41,28393.85,36263.69,26806.72,34807.01,39460.59,26880.74,27604.86,27781.28,28115.79,26789.66,37289.02,30250.16,31789.86,21282.09,17303.3,16107.93,16553.48,16215.81,16227.08,19605.53,17361.19,16165.56,18038.28,25063.26,21880.47,23243.67,30865.64,29564.78,27581.07,28597.5,32696.55,22443.1,22496.85,33958.52,20886.48,20041.24,24741.6,17711.78,18671.75,19421.42,20777.31,18717.53,21683.76,26730.15,22642.55,24591.84,25526.24,25703.25,24975.38,23607.73,25332.93,19511.5,27201.64,38594.85,41413.29,35902.81,35028.61,33808.27,31642.79,37603.73,33734.44,31884.24,33020.31,23696.66,18661.68,19767.53,20626.08,20208.4,19000.25,17228.02,18094.24,21646.32,19513.63,22029.81,20051.11,27469.93,23541.72,21412.74,28315.7,33129.25,38807.31,27918.08,31435.36,24030.39,25666.34,24493.4,20707.62,17860.35,22429.17,25933.04,26269.87,21750.64,23286.46,23169.16,24841.76,24350.67,25231.25,28971.93,21874.45,21787.83,20710.01,31670.38,28842.32,23346.03,26925.54,32406.68,35861.22,27802.84,26407.67,44553.45,36266.25,25922.59,26026.46,33443.23,27759.99,24145.93,20281.68,20462.68,21103.42,23338.99,17027.47,18161.43,17242.78,22374.18,21857.09,18259.82,22399.83,8449.54,8654.07,9165.98,9015.37,10239.06,12386.15,12917.55,11865.53,12033.5,10109.0,11187.99,11556.42,10651.84,12761.39,9540.54,12235.62,11876.34,13358.92,10889.4,11629.41,10562.29,10720.79,11287.52,10239.51,11743.8,11634.37,12887.52,13294.0,10119.6,9844.07,11239.43,10724.56,9974.03,9705.47,9759.85,11883.66,11031.93,11604.42,9128.2,9345.99,11313.89,7984.58,9619.81,7943.22,7204.15,7231.92,7324.7,6912.95,8022.82,6639.08,6605.12,7786.87,8254.27,7642.11,11484.78,10804.61,12618.52,11762.08,15560.17,12222.77,11871.94,12543.92,12822.2,13447.09,9874.94,11747.79,12272.92,14387.22,11961.81,13346.63,12643.1,10327.88,10438.17,11414.72,12384.1,10046.0,11455.24,11641.86,10145.97,11581.03,10094.04,8594.52,10325.4,10927.54,10392.19,9501.54,7457.24,11240.29,12223.55,11380.28,10418.23,9964.78,10216.64,9872.05,7816.44,7587.6,8014.5,7784.82,8311.17,7699.0,7634.97,8111.01,9296.13,8229.77,9612.87,9587.35,9262.33,11284.27,11994.48,11947.03,12178.8,11448.84,12109.21,10747.37,10565.39,11730.26,11746.83,12338.08,11420.63,10199.01,12748.13,11542.81,10742.68,11177.52,9606.33,11816.35,13887.61,9318.1,12565.06,11109.25,11298.13,10605.66,11447.03,10723.59,10591.46,12566.45,10484.08,9448.14,11013.77,10037.09,8983.82,10830.48,8658.41,41969.29,36476.4,37857.68,37467.32,40423.95,35833.07,36807.21,35431.73,38104.53,37638.44,36663.26,36058.1,36717.2,40113.4,36499.93,38569.83,38347.52,41388.81,39657.1,39165.29,38697.24,41214.94,41056.4,40150.0,40552.37,38018.99,42038.03,37869.12,41509.62,41175.86,44863.15,39525.93,38416.22,37293.43,40474.22,42139.25,38749.62,34712.4,37762.12,41085.66,36817.35,38446.26,38371.99,36170.88,34749.11,35237.93,37099.47,34081.52,39764.56,33668.55,35961.99,36321.69,38065.42,36883.13,37604.79,37838.4,42277.37,37577.97,36930.48,36745.46,37630.13,38076.86,35263.45,35464.71,34311.69,40581.52,35378.71,35816.48,36203.13,39884.82,38080.39,39020.06,37316.12,37414.14,38193.09,36966.32,37990.15,34910.1,42542.66,37593.97,38533.7,38727.3,42713.81,38045.63,38382.65,37645.66,37928.28,41151.28,37531.43,38272.21,37117.02,41907.62,37255.89,37077.82,38625.48,37507.93,36404.7,32782.17,36950.91,32871.95,41411.4,38000.25,37433.66,34312.26,43478.58,43041.97,38622.92,40079.43,44565.32,40001.72,38322.83,37801.64,38696.88,44270.3,39099.61,39499.85,39077.84,43561.17,38895.18,37857.88,38541.76,41462.8,42304.47,39024.74,38945.0,40099.49,43326.92,39276.05,39396.59,37423.21,44708.45,42241.23,41658.4,39231.62,40940.78,44373.19,38759.47,39746.87,39793.41,43746.89,38015.36,38341.15,38512.48,19466.91,18129.02,17491.36,16118.26,18268.78,15331.75,12738.78,12832.47,14333.75,12874.07,12309.14,12749.37,12172.32,14460.84,14678.22,11480.15,12218.11,14491.35,13516.74,12693.5,12979.99,13494.79,15032.03,13550.19,11945.81,12421.92,14404.15,13579.21,13260.23,13387.21,13995.39,12884.22,13783.27,11847.72,12943.86,12108.86,13215.64,11895.44,11955.77,14092.03,13837.16,19788.98,38256.98,17685.93,19587.66,28642.28,47983.72,21835.25,17744.78,13608.44,12889.88,11687.25,14051.43,15647.59,17304.81,15411.12,17281.12,14490.48,14287.28,14006.9,13136.1,14454.19,12151.4,12478.19,13429.28,15820.88,15385.02,13166.43,12746.66,13056.1,11795.34,12884.03,13580.61,13459.55,11578.97,11404.37,11681.04,9918.05,13330.04,12652.58,11724.24,14364.42,12708.18,13550.53,13166.76,11558.22,14027.83,12766.52,13440.89,12476.8,13031.03,13634.48,14903.78,17803.49,39773.89,18110.97,23852.42,28845.68,46096.24,25846.86,14585.64,14311.83,12695.7,12684.05,15583.82,18292.4,21324.12,18574.25,19412.26,16528.29,12757.86,12771.12,14690.27,15652.72,14933.13,13575.69,14904.8,16193.63,15537.79,16326.55,14186.59,14903.87,12858.85,14117.36,13158.38,16958.84,19019.04,14332.72,12083.33,12706.52,13423.3,12434.69,12419.06,11041.63,12912.96,13711.08,11596.1,12193.8,12037.66,14381.21,11450.64,12035.51,11150.0,10217.55,11873.89,13855.54,12881.02,17129.81,23766.82,41742.21,26679.52,46060.69,52976.67,59543.22,51604.72,48858.08,52933.2,44148.02,38638.64,45861.03,47485.63,31807.72,34603.43,34121.08,32420.4,35796.64,29763.52,24642.3,22017.61,24218.72,23288.59,22837.21,19682.2,22888.26,22643.73,17672.01,14857.74,16248.15,11501.93,11526.6,8194.25,7683.76,6063.75,7370.53,5276.21,9225.41,4716.26,4919.99,5513.25,8612.24,4987.81,5324.47,5725.63,4594.95,6365.91,7875.98,9715.66,14819.04,23253.54,28635.06,27388.55,42549.38,48217.85,42679.11,49433.2,48643.77,48934.3,40280.3,37972.19,40944.33,35861.13,38914.76,44919.99,38098.97,38282.75,31362.66,33435.46,32379.77,25134.4,20795.03,19681.62,21143.58,17998.16,15998.18,11671.46,15288.9,17838.29,13499.43,10893.91,11831.25,14309.01,10030.59,10366.98,7616.55,6560.94,5913.03,4643.82,8400.69,5715.31,5024.36,4613.92,6233.78,5052.77,6258.08,5894.86,6400.8,6108.82,9873.73,13389.35,12648.11,19874.3,30451.14,32633.81,44960.02,45184.22,55275.59,59512.97,55347.73,42816.54,41926.36,43970.7,38885.33,37505.0,42922.55,45508.72,34785.29,32898.46,36362.45,37677.82,42679.2,22880.3,24017.03,23838.33,25418.49,21677.85,20035.26,18393.12,16797.62,20473.94,14646.37,13415.51,14734.64,11320.41,10525.66,9518.43,9934.63,13223.76,13403.66,13485.61,10667.06,12657.65,12793.17,11097.8,8900.01,9572.23,8159.34,7790.67,8036.98,8769.42,9970.0,10266.86,9254.13,8644.05,9212.09,8846.82,8932.62,9407.16,9242.3,8324.41,7492.79,8914.49,9384.75,9851.77,9661.1,10751.74,10036.31,10118.25,9408.87,8794.19,9687.73,8648.02,10195.94,8821.23,7898.35,8198.62,9250.94,8603.57,10086.41,13337.59,11045.34,11917.53,13487.5,19842.0,10429.16,8582.2,8503.39,7658.87,7724.52,9741.2,11068.7,12612.94,11949.83,12994.45,9728.55,10143.22,9004.62,9742.29,8618.59,7921.95,9084.67,7795.43,10121.32,9975.24,7894.76,6937.06,5913.51,9670.75,10592.73,6301.63,7424.91,8444.58,7205.38,7826.08,7500.48,8100.38,8893.77,7974.09,9138.11,7577.4,8209.44,7208.1,7063.24,7348.08,8149.44,8241.42,7547.77,7407.41,7760.73,7316.53,9558.5,12329.5,9490.05,10484.57,11642.24,18463.27,10619.45,8086.43,9454.17,7968.85,7237.41,8128.57,10461.07,11684.73,9309.63,11187.42,11553.98,8523.56,7456.66,8433.01,8662.4,6936.35,8559.84,7868.25,9064.6,7964.29,9308.53,7323.66,7197.38,8589.19,6676.87,7468.47,8240.63,8053.74,7386.64,7195.7,8435.09,7809.58,8441.34,8710.04,9523.9,8158.73,8712.44,7075.73,7143.59,7155.75,9040.52,7908.36,7640.43,7640.92,4729.5,19006.5,17623.72,545.02,634.61,1275.08,2303.36,4037.16,17916.41,8668.06,584.56,65.24,0.5,4.1,0.15,1.0,23.0,132.0,246.0,1583.71,3130.76,3389.42,4532.56,6195.26,9648.61,22455.8,12033.61,8943.59,15020.49,33967.24,53845.12,47266.75,35120.62,22403.61,20783.04,5180.76,875.4,1579.21,1964.42,3809.75,14587.89,22185.08,957.7,2.75,3.1,296.03,701.98,1550.18,2133.87,4304.0,13367.64,7988.42,682.48,227.24,1.8,0.35,1.0,2.0,0.5,0.3,4.97,83.64,149.24,868.86,2540.81,3279.04,4959.46,5758.87,7304.78,16545.45,14133.85,10170.41,14159.67,30543.19,47731.67,41114.36,33932.27,22602.34,21444.65,7018.32,1700.85,1468.65,1842.47,3558.71,12687.47,26992.11,1973.92,1316.04,1126.04,1630.41,2280.34,3667.66,14283.73,5136.25,61.56,4.68,-1.27,4.58,1.97,0.2,4.97,2.91,9.97,4.97,4.97,4.97,649.09,3361.0,4867.7,7291.46,8171.79,10569.09,17934.28,1947.05,1490.79,1722.17,1655.32,1556.65,1742.14,1881.91,2153.61,1514.32,1880.64,1483.5,1577.25,1384.69,1616.77,1274.19,1448.08,1183.27,1106.84,1377.39,1452.82,1402.04,1537.76,1297.98,1382.72,1563.01,1224.69,2169.9,1814.38,1797.85,1008.45,1460.74,1772.53,1933.16,1644.9,1583.2,1926.42,1905.88,1838.86,2600.99,1344.66,1769.86,1736.17,1114.47,1616.77,1576.73,1724.66,1342.63,1234.64,955.71,922.31,696.22,866.7,1273.02,1344.92,1475.75,1977.45,1499.48,1572.3,1493.99,1233.35,1105.65,1875.03,953.55,1362.85,1179.32,1217.44,1018.54,1345.43,1229.72,869.89,918.08,489.9,624.38,750.76,624.94,1039.1,689.39,1327.67,898.44,876.41,849.58,698.48,880.55,990.6,1071.02,992.99,1003.0,984.0,1286.47,911.38,1061.44,821.45,932.24,793.08,831.4,1414.06,1749.04,1381.01,1904.53,878.8,607.22,758.08,714.21,720.98,1175.9,973.9,762.59,988.95,761.16,1514.62,1273.4,1057.43,973.05,875.56,753.73,1162.5,524.17,1155.4,1848.79,1441.88,1036.21,1406.0,1242.44,951.49,1174.7,1040.98,1195.29,1003.66,955.74,1016.28,901.62,875.1,1192.39,1328.49,900.06,1225.7,733.78,1015.46,1385.85,1192.58,1415.68,1247.56,1640.81,5034.1,3697.7,4719.89,4007.94,4215.67,6476.41,4458.06,4195.7,3468.69,3010.11,3284.41,3008.93,3957.01,4249.64,4530.95,4020.38,5115.39,7150.79,5151.98,5596.07,5084.26,5958.02,5352.73,5025.69,4328.35,4266.71,4764.92,4133.81,4297.24,3607.91,3985.35,2715.5,3146.58,3314.39,3859.87,3947.33,3300.77,3130.7,3114.61,2961.74,2717.45,3276.59,5994.53,2656.78,2863.79,3289.02,3724.99,3361.51,3218.91,3082.87,2464.49,3071.34,3408.23,3232.53,4092.92,4184.4,4237.4,4287.05,4034.08,3804.36,3649.35,3195.42,2767.75,3570.88,2804.09,3777.83,3811.95,3919.78,5110.62,5376.07,4933.74,4492.41,3696.8,5342.26,4786.95,3834.98,4339.86,3953.8,4499.02,4242.47,4403.03,4612.13,4333.53,3991.02,3427.12,3571.86,3560.89,3135.0,3516.39,2638.07,3180.74,3180.12,3114.01,2690.25,5425.0,3117.17,2944.45,3619.16,5524.27,4009.01,3246.33,4485.95,3937.59,3364.8,4206.91,6051.57,5569.54,4455.36,5446.7,7272.2,5040.41,3909.02,5264.6,3868.02,3449.45,4246.85,4844.73,4647.31,4418.12,5296.28,4614.33,4353.92,4943.11,3948.1,5218.84,4847.43,5485.86,3737.06,4831.71,3810.16,4708.44,4534.37,3980.4,3452.67,4602.26,4342.34,3548.56,3532.28,3200.54,4184.73,3126.49,3640.07,2680.53,8907.63,8735.83,8949.67,8592.42,8275.44,7785.3,7829.35,7121.77,8432.73,8152.57,6907.06,7127.27,7665.23,8356.06,7905.15,7369.84,8570.69,8326.97,7516.34,8742.63,8143.9,8662.48,8739.92,8403.67,7070.09,7305.13,7573.36,7662.31,6712.09,7281.05,8664.27,7966.59,7477.6,6974.13,7880.07,7632.01,7578.99,7225.88,7266.9,7608.28,7969.61,7394.27,9093.19,8844.39,9160.14,10135.43,12446.93,6349.45,7716.16,6359.4,6480.25,7217.54,7331.93,8058.65,8478.51,7274.81,8488.15,7731.5,7263.97,6303.72,7161.88,7486.59,7167.39,7503.26,7443.54,8099.62,7135.34,5898.29,6857.5,7490.16,7100.54,6261.02,7662.72,6546.71,6943.22,7118.71,7550.92,7825.99,8404.28,7662.32,7619.8,7739.79,8384.67,8021.04,8792.26,7764.04,8104.0,9020.44,7774.11,8113.95,8346.1,8784.77,8742.41,7820.46,10158.02,7854.17,9686.83,10855.44,13551.98,7329.41,7154.5,7090.86,7062.96,6843.13,8168.45,8467.27,9065.08,8042.3,9722.09,7309.95,8184.24,7602.33,8410.81,10083.36,7223.96,6508.01,7561.57,7873.18,7120.67,7124.99,6872.63,7206.04,7373.09,7345.49,7768.11,6490.2,7500.71,6717.31,6321.9,6371.95,6393.77,6752.85,6182.36,6965.28,7031.77,8258.47,8013.36,7085.79,7737.13,7790.01,7020.8,7614.71,8194.63,13623.98,14807.95,12290.16,9295.78,8219.49,10372.48,9338.09,7464.39,7589.35,7407.71,6788.1,5816.92,5271.14,7175.17,6772.41,5133.32,5729.72,7708.71,5877.06,6213.93,6058.56,6785.55,6256.11,7016.9,5560.44,7201.71,7703.29,6373.79,8988.52,7620.68,7244.16,8800.21,7434.0,8387.18,8353.58,8086.24,7348.71,7117.18,5414.52,8085.19,7336.21,7723.69,15769.67,9384.42,12258.11,13589.23,19256.51,11551.12,7742.97,8329.06,6025.52,7536.69,12670.48,10871.95,13106.62,9172.57,11331.35,9212.41,8456.15,8375.58,7319.02,6478.82,7416.29,6458.74,5759.63,7019.7,5839.53,5595.39,6510.11,6345.16,5776.12,7918.89,5829.38,6407.25,6244.32,5623.44,6115.76,7517.85,7073.87,8233.21,6672.27,8073.21,7166.39,9716.37,7526.42,7295.83,5153.35,7980.63,7688.46,7727.26,6866.34,8835.52,6596.53,7206.64,20555.07,7882.59,10035.25,9596.7,16590.12,10671.89,8998.71,8429.49,6176.87,5593.64,9723.63,11817.34,10815.19,8625.07,11402.9,11076.38,7827.86,6592.15,8538.98,7462.34,5901.71,7171.34,6068.54,7884.36,6363.42,6752.83,6878.26,6332.62,6816.23,5764.52,7233.96,6008.22,6382.12,5881.8,6767.52,7170.57,7160.87,7229.94,7788.49,6364.81,5742.4,7669.83,5462.99,5663.49,6892.92,7821.14,8966.16,8236.39,8236.88,24146.49,22812.41,21381.85,17798.37,18993.69,17426.63,20132.03,19105.92,18666.57,21678.02,19811.02,19377.76,18274.46,22172.27,19986.37,20697.6,23409.56,28857.18,24072.22,27795.85,27161.66,23137.32,22121.47,19234.02,20200.65,20456.24,22200.83,20503.99,26519.58,28311.76,19045.76,16086.08,15589.89,15671.19,18377.92,22280.97,17717.02,17609.38,19134.38,26416.48,21370.42,23106.93,33328.17,24834.59,31241.47,40193.56,62381.0,18054.72,16955.3,20525.34,17596.0,13915.16,24429.4,22686.25,23901.98,19336.18,21611.57,21167.35,19134.28,22776.24,20704.87,19942.92,20292.45,19716.05,19226.08,19922.66,21917.77,17367.03,21275.42,22916.25,21231.14,21482.19,25480.66,19484.78,19567.15,18171.24,17140.02,17790.7,20923.11,21142.51,23568.53,24851.96,18827.59,16403.15,13053.74,15044.0,16135.85,18327.16,17951.52,20272.49,19970.49,23869.96,21318.68,19124.1,31848.99,24682.22,33303.15,32907.32,51911.82,23757.52,17203.25,15395.96,13738.46,13690.78,18537.41,25581.44,25295.03,20374.68,22257.51,21179.12,19391.07,19261.99,23356.66,24604.49,20132.49,20768.42,17587.72,21973.08,21536.76,18435.16,20778.32,23504.62,23792.73,24836.02,26200.55,23036.0,22965.73,18326.49,18400.73,18105.68,22566.41,21599.34,21808.81,25618.62,23361.12,17406.85,14172.52,15702.02,14731.92,19478.62,21024.28,17191.96,21460.58,8272.9,8050.24,7366.7,5630.82,6885.9,5396.96,4519.82,4618.27,7219.38,6358.78,5536.07,5160.08,4628.59,5675.4,5180.35,5099.86,5085.04,6024.48,4863.25,4771.79,4590.68,4608.04,4632.65,4688.09,4894.69,7541.56,10293.02,10872.75,17223.95,16489.07,4759.52,4214.57,3343.8,3526.46,5430.09,7042.44,4385.01,5223.73,5989.09,7834.13,5644.17,6948.82,11915.5,8971.35,10646.0,13318.9,15366.58,4562.4,4858.97,4859.54,4221.76,4187.94,9819.74,7695.45,7250.89,5887.9,5691.44,5391.08,4117.8,5520.2,5356.2,5130.31,4581.3,5903.09,4639.8,3929.07,4007.6,3615.99,3529.22,3864.18,3930.71,3181.97,3249.59,4108.54,3217.71,2646.13,3557.17,4437.73,8729.88,7863.47,14288.65,13670.95,4629.39,4212.08,3840.96,2854.73,2957.53,4446.16,3461.67,7007.77,7173.54,6207.98,6053.49,4818.2,10847.14,6760.41,9842.25,11274.48,12694.74,4818.81,4539.89,3087.45,3119.12,3534.93,5455.8,7473.32,6598.42,5345.89,6269.69,5554.83,4842.19,5184.95,5401.75,7077.44,4986.97,5047.11,3328.23,5753.71,4449.04,4439.01,4830.18,3853.81,3810.35,3670.73,4129.07,3729.35,4671.82,4537.83,5164.1,5974.25,8003.97,8870.23,12967.94,16785.62,13181.63,5138.69,4980.64,4979.52,4364.69,7322.07,7733.2,5355.52,7106.74,11609.5,13268.75,10271.25,10218.67,10345.5,10705.75,12213.5,13876.5,14964.5,12906.0,12360.85,11295.45,11435.6,11446.25,11247.0,11805.5,11229.88,13504.5,11220.75,10119.0,10956.25,10504.25,9082.5,9096.1,8238.77,8319.6,8737.4,8857.17,10173.93,11156.75,9170.32,8239.24,7817.07,7886.08,8643.04,10343.22,9056.33,9422.39,10949.11,10713.05,9402.53,9919.34,11504.57,10536.65,11086.99,12313.4,17880.04,7182.16,6747.11,6816.68,6624.78,6431.82,10044.53,8484.31,9605.64,9337.71,12060.08,10509.59,11290.68,13071.74,10570.5,10712.47,10168.91,10590.44,10050.82,10466.42,10360.45,9257.67,9204.18,10967.44,9735.2,11024.11,11050.45,10158.06,10506.09,7500.17,7703.58,7299.9,10582.42,8731.19,8972.53,10073.34,8186.36,9241.48,7613.85,7538.64,8010.24,8907.86,9111.45,9014.23,10461.93,11718.41,10417.72,8130.08,11997.22,10721.09,11802.37,11820.17,15195.72,9327.8,7359.16,6384.22,5272.76,6350.26,8798.84,10179.01,10930.07,10225.67,11620.37,13087.32,13002.03,11387.52,15027.13,14732.09,12736.32,10115.85,10563.87,13530.43,10206.26,10029.04,10702.21,11528.12,10527.53,10329.88,9848.45,9566.04,11324.5,8281.23,9237.46,8528.82,10019.2,8614.67,9780.51,10625.07,10284.77,7461.45,7541.58,7804.28,7685.71,11140.24,10485.04,8702.47,11066.13,11737.12,10050.92,10547.6,8541.14,8772.65,7877.4,7923.66,5870.09,9137.94,9152.08,8671.28,7827.17,7971.44,7994.2,7378.58,7721.92,5720.08,7184.92,5737.18,6336.16,5754.0,5552.42,6279.07,5830.68,5530.75,5607.96,6151.1,5975.36,6037.64,6148.47,6357.16,6160.0,5000.9,5282.7,8255.99,10543.31,7421.11,6316.22,6105.17,9601.7,7582.52,8583.68,11918.3,8572.96,8726.6,10671.46,14479.39,5003.84,4010.16,5355.58,4651.93,5285.36,7142.9,7738.63,8608.27,7227.41,7576.44,7016.59,6892.71,5852.84,5946.53,5841.8,6997.03,6496.3,5813.66,5867.67,5372.91,5500.06,6253.05,6270.58,5711.42,5508.5,5543.24,5701.4,5172.07,4887.42,4356.37,4289.04,4825.24,4529.47,6590.93,5089.68,4014.69,4217.53,5003.37,4583.66,5081.35,7492.61,6560.2,8928.79,9038.21,9017.92,7693.46,5878.78,8690.17,7107.23,8443.46,9502.94,12517.98,5036.62,4220.51,4369.57,4492.42,4667.16,6969.74,9120.37,7499.33,7457.98,8247.41,7890.21,7462.19,7313.8,7592.79,8152.94,6095.14,6869.49,6317.77,6788.13,5958.51,5783.96,5069.36,5319.66,5082.27,5688.08,5852.37,5615.89,5851.77,4375.44,5279.41,4350.86,5764.11,5498.9,4924.3,5369.29,5602.58,5011.22,6001.13,6550.81,5035.97,8784.99,12773.34,7004.13,7412.16,2293.0,2339.5,2494.5,1666.75,1467.5,1130.0,1214.0,1211.0,934.5,1111.25,1021.5,1028.0,1061.29,966.75,1139.35,957.93,864.92,827.52,965.3,875.85,935.32,849.69,837.51,897.88,819.8,882.13,1317.52,967.53,1737.89,1898.48,867.29,832.26,728.02,791.7,1042.3,1427.0,1208.8,1186.4,1371.4,1654.8,1474.2,1884.6,2099.1,2385.59,3035.7,3190.2,4168.6,1624.8,1562.57,1606.24,1312.55,1320.18,2096.94,1643.21,1797.04,1333.69,1273.55,1420.55,1340.76,1232.91,1167.0,1054.96,1072.68,1061.68,1020.54,1016.2,835.91,914.25,984.31,895.74,1027.89,674.36,642.82,623.57,677.97,698.42,727.57,720.26,997.04,815.45,1360.46,1698.89,826.83,786.47,806.31,834.84,939.73,1295.94,1228.98,1785.51,1422.84,2002.85,1882.59,1707.85,1992.88,1752.13,2606.7,4225.6,5131.93,2882.08,1788.6,1623.81,1451.96,966.46,1915.13,2367.25,2538.15,1784.56,1550.19,1418.25,1461.99,1269.16,1409.77,1429.08,983.69,970.43,1019.53,1033.05,887.99,921.0,775.09,1030.9,1033.86,822.19,1030.06,1010.07,993.52,1018.36,1241.1,938.36,1145.67,1122.14,1476.09,1643.59,1580.28,1060.29,857.88,1047.27,948.57,1492.09,1536.58,1841.73,1712.02,1085.29,1008.36,1012.09,986.07,1002.2,838.67,806.03,726.11,995.36,1151.63,582.63,627.02,691.4,773.22,653.81,491.69,416.53,483.93,487.7,456.77,513.53,446.76,423.22,453.36,534.78,383.56,532.59,495.27,436.4,521.37,406.39,478.76,604.44,560.07,741.36,950.27,831.09,628.66,862.24,857.28,1027.18,936.9,932.76,731.31,1050.63,1071.86,994.88,516.85,656.29,781.19,795.05,796.71,671.34,780.76,905.99,662.16,674.35,660.45,627.89,578.59,602.63,623.65,421.77,729.26,646.18,571.94,551.12,482.1,363.45,411.94,495.52,376.32,304.32,436.66,423.27,350.95,372.51,301.2,449.39,302.76,259.67,334.16,342.96,483.05,427.2,418.48,537.0,548.26,430.34,616.4,670.38,966.26,788.61,648.03,526.29,685.52,820.59,853.19,903.97,714.86,557.94,539.86,634.48,641.94,571.7,745.15,845.62,734.59,633.51,657.41,513.24,457.22,502.86,655.22,434.56,527.48,354.59,564.69,420.08,427.37,300.15,352.99,389.31,419.35,371.9,439.75,416.06,331.24,310.65,258.1,303.36,307.87,312.75,307.34,283.4,374.15,403.87,490.61,402.73,641.7,596.37,656.45,742.48,7024.95,7696.61,7966.55,4972.65,5306.7,3841.96,5406.4,3520.75,4143.54,4317.52,3963.5,4187.11,3793.75,5277.46,5651.19,4333.28,3532.78,4062.22,4121.2,4022.0,4486.72,5222.08,5469.9,4571.66,3814.24,4519.33,5511.97,5075.2,5348.58,5115.42,4892.98,3701.66,3959.42,3775.77,3425.58,4706.6,4085.14,3853.68,4498.64,5087.02,4990.65,5275.25,6603.2,5539.2,7917.07,9210.45,14065.97,5104.15,4993.4,4923.2,3778.3,3749.14,5656.37,6388.13,7917.33,4607.7,5396.35,4876.69,4086.48,3932.66,3885.21,4548.03,4176.76,3866.11,4108.54,5672.1,4724.29,3623.54,3537.56,4158.77,3643.74,3735.04,3608.28,3750.0,4581.24,3243.28,3439.7,2978.08,4564.77,3339.78,4158.06,3735.18,3652.7,3210.79,2986.42,3343.26,3209.28,4011.5,3619.49,4093.77,3968.2,5024.72,4530.75,4334.62,5641.46,5466.91,6750.53,8445.01,12848.12,6951.19,4174.68,4008.75,3689.44,3510.94,5646.11,7755.83,7122.71,5337.27,5082.59,4735.19,4735.58,3903.39,4392.74,3976.42,3294.36,3733.04,3698.19,4880.96,4632.27,3864.86,3118.55,3788.69,4042.24,3575.94,3229.2,3898.01,3925.61,3716.03,3707.9,3356.82,4145.19,4162.46,4208.19,3966.86,4183.85,3268.08,3418.62,3683.28,3515.91,4288.34,3465.18,3739.1,4077.2,5491.0,5328.5,5735.0,3614.48,4360.5,3021.5,3822.5,3324.0,4278.26,4406.48,4380.38,4283.99,3728.17,5308.69,3885.42,4342.18,3887.9,4230.56,4225.12,3731.51,3603.83,4124.82,4365.06,3840.68,3561.26,3087.8,4505.88,3936.8,4803.42,4613.42,3485.88,3342.76,3045.1,3586.76,3257.42,3881.3,3283.88,2681.46,2732.22,2915.0,2856.38,2781.26,2844.88,2830.96,2697.0,3260.88,3883.38,2454.3,2785.92,2456.5,2625.72,2970.36,3521.78,4234.14,4921.42,4042.31,4850.96,4561.26,4581.04,4346.38,3897.48,4732.04,4158.26,4077.88,3630.66,3759.18,3621.1,3204.98,3555.48,3536.7,4216.64,3183.18,3485.28,4202.83,4308.14,3724.75,3599.5,2874.22,3172.58,3114.22,3465.77,3336.7,2837.66,2755.4,2580.54,2585.95,2529.32,3051.62,2921.56,2566.7,2688.58,2670.86,2573.12,2041.76,3152.56,2334.96,2343.4,2395.98,2829.74,2155.22,2425.04,2014.96,2695.82,2507.48,3107.1,4257.72,3725.26,2927.0,4393.08,4133.36,3505.18,3421.12,3536.71,3544.7,3711.72,3151.6,2822.92,4751.06,2564.12,3064.12,3055.24,3931.58,3629.94,2752.74,2784.5,3402.4,3054.34,2723.02,2821.6,2959.0,3202.68,3355.34,3300.68,3686.74,3058.82,2669.67,2115.88,1986.16,2047.42,2520.85,2258.74,2559.08,2830.48,3455.92,3228.96,2652.0,2665.75,2595.8,2103.34,2254.44,1945.42,1601.0,1438.34,1514.42,1486.42,1421.25,2117.3,1853.79,1602.42,1480.88,1864.96,1976.84,1387.34,1390.5,1581.34,2000.68,1959.38,2209.8,2865.63,3989.01,4900.77,8459.66,10581.34,2805.56,2639.96,1827.21,1917.67,1915.08,1967.5,1708.12,1963.53,2077.67,2618.32,2087.72,1932.64,2760.12,3199.9,3731.0,4382.0,5771.36,2286.59,2149.06,4002.0,2492.5,1762.22,3520.42,2486.2,2609.75,2314.0,2557.55,2164.85,1680.84,2446.9,1857.8,1803.75,1979.94,1584.32,1781.02,1651.68,1994.8,1548.74,1653.96,1506.78,1393.56,1015.8,1032.1,1391.6,2217.51,2939.24,2750.37,3348.93,4894.64,4521.44,7873.37,10089.76,2012.19,1458.46,1438.69,1270.53,1368.39,1178.65,1648.71,1404.65,1582.06,1675.41,1683.65,1486.76,1542.03,1921.19,3432.08,3245.04,4743.7,2247.9,2039.49,1988.97,1622.61,1571.13,1622.63,2007.88,2064.35,1852.43,2628.13,2070.4,1682.53,1691.74,1515.28,1517.77,1170.59,1291.39,1023.38,1399.76,1566.24,1189.88,901.11,1249.54,1493.84,1226.71,1471.82,1137.78,1166.8,2848.5,2605.28,3477.27,4272.27,4464.25,4851.27,6812.13,6691.49,1499.7,1365.52,1490.66,1060.74,2063.02,1276.81,1529.52,1413.51,11875.84,14700.59,20275.45,8146.57,9907.51,6938.45,6175.31,6698.76,7648.28,8763.71,6829.55,5933.18,9109.86,9616.73,16167.09,6472.63,7381.56,8841.86,7060.14,7393.92,6510.87,6939.97,7180.81,5251.9,6247.05,6080.16,5571.23,6023.16,6068.12,5769.42,6516.53,6320.36,6858.67,7029.95,6695.46,7151.13,7129.53,5861.12,5464.93,5804.88,7931.19,6967.7,10593.12,9755.72,12927.02,20124.62,43995.62,9024.94,5276.25,3519.44,4671.03,8351.09,7118.97,12996.54,21488.44,7819.18,7986.75,6974.93,6549.7,7484.83,6786.52,6871.65,6227.92,5990.75,6960.72,9579.7,15230.65,5960.59,7107.44,5809.14,7260.41,6113.68,8453.01,6678.89,7014.83,6235.95,7208.69,5003.96,6170.36,5605.12,5079.24,3152.72,7591.17,7126.55,6644.95,8218.16,7406.96,7219.14,6151.7,6481.34,5137.16,7761.5,7124.84,4502.04,8978.16,7939.32,13979.39,17251.57,35301.3,14581.39,5821.95,5567.49,4809.14,5637.52,8955.94,13300.13,23676.04,8802.92,7476.75,7889.12,7162.45,6435.66,7566.56,8085.39,6572.66,5816.96,6048.64,7587.45,10476.98,11330.87,8602.53,6183.49,7430.02,5169.85,7402.76,5446.58,7565.11,6001.11,4066.82,6288.58,6862.94,5796.95,6459.89,5772.47,6649.79,6857.35,5000.5,5375.99,3909.44,5852.15,5238.49,6241.78,5918.47,8589.77,8483.54,7611.35,4814.66,6214.6,5666.25,6811.15,4708.77,7681.63,6205.64,4749.75,5083.75,4844.0,5779.0,5012.78,5905.71,6159.95,7048.49,5230.87,4725.57,4449.22,4791.4,4236.14,4225.77,5710.56,6491.62,9313.16,9732.49,14881.25,13828.44,4049.83,3928.25,3918.06,3591.66,5114.13,6429.14,3906.98,4127.92,5920.9,7503.79,6534.24,6722.67,10290.44,8736.0,9441.03,11557.72,13832.52,3664.62,3835.59,4076.5,3469.33,4000.47,7065.8,6957.64,7010.2,5293.75,4605.93,4883.73,5173.48,5463.18,4990.01,4511.2,4382.55,5396.21,4196.15,4601.56,3814.98,3921.9,4431.08,4686.39,3731.58,3863.13,3148.15,4205.16,3534.69,3156.82,4461.29,4994.13,7901.07,7364.64,11860.56,11409.33,4336.73,4168.88,4119.66,3166.72,3363.59,4427.83,3631.68,5882.98,6318.38,6252.82,5622.58,4303.63,10793.97,7049.78,9505.36,10083.01,13657.4,4914.09,3959.05,2930.02,2511.83,2350.29,4894.83,6395.77,6300.81,5426.03,5909.09,5546.97,5669.24,4397.45,4801.62,6401.92,5070.49,4748.34,3710.58,4742.62,4959.16,4219.69,5733.73,4652.2,4990.8,4422.38,4045.11,4558.63,5286.22,4715.67,6264.38,7108.36,8406.93,9030.25,10682.47,13019.11,11799.65,5001.36,4449.08,4705.71,4390.19,6775.72,7617.49,5170.49,6313.48,14350.83,12852.83,13006.5,12005.0,12571.5,11709.0,13394.0,9637.83,10282.66,13863.66,13632.64,12504.5,10679.49,15135.17,13934.33,14001.84,13976.83,16317.32,14514.85,12869.0,13005.0,11627.5,11345.7,10174.33,8730.5,8386.5,9872.5,9529.5,10421.34,10532.33,8629.5,9250.0,9008.5,8404.83,8534.5,10845.93,8481.5,7574.0,9075.47,12338.25,11137.4,10469.5,17295.5,11624.3,12446.8,13940.0,17933.0,8890.3,8186.25,8056.5,7074.5,9065.41,11782.92,12543.6,13938.62,11607.13,11694.68,11072.38,11896.39,13373.58,9949.54,10312.07,10244.73,10357.32,9734.13,10790.42,13181.27,10320.09,10175.87,12748.99,12979.5,10034.64,9302.69,11695.86,13311.92,10335.62,8661.59,9384.05,13498.51,11185.39,11307.0,10365.03,8981.78,8581.38,7987.56,7504.05,7970.3,8010.18,8964.67,10716.87,10570.19,12121.54,11197.3,9773.47,14744.09,10172.39,15044.32,14714.73,16180.84,10554.13,9246.0,8198.59,8022.64,7885.38,10085.87,14950.38,13164.86,13189.95,15464.72,12781.11,14027.29,12282.21,15035.51,17006.02,16848.85,13070.17,14492.12,16632.06,14922.78,15712.57,14765.02,15369.77,15948.94,12181.66,12356.92,12800.16,14618.59,11081.34,11094.22,9971.74,11648.89,10609.61,10272.79,10288.31,10066.04,9601.08,8723.62,9670.5,8972.86,10523.41,11105.36,9544.78,9972.0,2770.0,2420.0,2176.0,2029.9,2752.0,2926.0,2861.0,1939.0,2275.0,3942.0,3204.0,3047.0,2454.0,3639.0,4173.0,2713.0,2932.0,3409.0,2798.5,2324.0,2873.0,2799.04,2788.5,2134.0,2742.0,1999.0,2639.0,2079.0,2449.0,2135.0,2273.0,1751.0,1842.0,2375.0,1816.0,3287.0,1874.0,2312.0,2483.0,3199.0,2229.0,2605.0,2870.0,3023.0,2735.0,3670.0,4279.0,1957.5,2029.75,1865.0,1828.57,1937.0,3111.97,3080.82,2901.88,2338.82,2709.82,2724.85,2936.44,3231.41,2610.0,2631.94,2859.0,3208.5,3631.0,3533.94,4090.0,2928.85,2780.0,2335.97,2970.4,2035.54,2143.0,2535.58,2552.52,2332.95,2523.99,1879.13,2590.31,1806.76,2666.68,2285.84,2081.31,2216.89,1771.64,2165.59,2210.41,1928.39,1953.39,2882.4,2179.03,2848.99,2576.34,2635.81,3126.99,2450.12,3023.41,3045.08,3532.72,2631.24,2013.82,2018.5,1852.48,1410.49,2571.73,3367.66,2394.51,2557.91,2801.79,2268.29,2934.74,2513.16,3174.24,3737.76,3320.38,2311.41,2578.97,2763.83,2768.22,2818.63,2473.47,3356.38,2727.51,2686.18,2293.32,2773.38,2531.92,1874.74,2044.01,2118.15,2138.88,2018.51,1842.08,1894.91,1623.92,1578.57,1547.07,1341.83,1773.32,1658.09,2228.94,1555.93,1459.47,120.0,432.0,595.0,506.0,648.0,891.0,937.0,703.0,886.5,807.0,1144.12,433.5,1107.0,1455.5,2272.5,2989.5,3995.0,5850.0,3033.5,2730.5,3015.5,2807.0,2487.5,1810.5,1585.0,1266.5,1596.0,1144.0,638.5,606.5,591.0,357.0,204.0,252.0,142.0,153.0,297.0,301.0,501.0,1375.0,1222.0,1712.0,2295.0,2188.0,2278.0,2802.0,3789.0,1026.0,786.0,1271.0,943.0,440.0,1860.5,503.5,64.5,80.5,412.0,695.0,1014.0,1444.0,891.0,797.0,1410.0,1146.0,976.0,1374.0,1699.0,1394.0,2964.0,5631.0,3411.0,3557.0,3426.0,3066.0,2611.0,964.0,1070.0,718.0,797.0,423.0,457.76,394.58,411.61,804.22,493.43,511.28,558.4,878.86,765.13,1010.86,1300.91,1840.28,1485.91,1078.92,1526.35,1710.05,3169.24,2523.53,4298.54,2656.78,949.95,792.1,586.49,507.34,1271.66,3024.82,2101.84,909.96,796.97,1106.03,1391.0,1369.0,2155.0,1769.0,1618.0,1123.0,1454.0,1946.0,1832.0,2390.24,4032.0,4401.0,2417.0,2697.0,2512.0,2978.0,4022.0,1129.0,1617.03,1210.0,1361.0,881.0,444.0,384.92,431.96,476.74,310.55,408.03,277.37,1040.66,1584.1,536.75,1156.34,3438.16,3450.68,3203.31,2474.99,3647.82,3053.13,2915.9,2440.16,2973.38,2573.42,2800.67,2783.93,3083.11,3529.85,2630.47,2362.36,2625.06,3145.77,2997.24,2996.71,3228.87,2939.0,3338.15,3032.21,2764.12,2819.48,2846.27,2750.34,3231.25,2805.49,3198.28,2939.98,2549.96,2828.76,3030.43,3204.58,3217.8,2696.82,2388.91,2871.57,2488.36,2543.8,2827.25,2475.6,2334.49,2430.16,2481.19,2681.71,2279.17,1981.42,2346.57,2528.97,3784.39,3672.78,3816.82,2885.47,3395.85,3551.22,2868.66,2983.5,3223.55,3028.07,2489.79,3280.15,2160.41,2704.03,2833.49,2240.75,2641.72,2629.65,2503.32,2873.58,2622.22,2528.27,2633.47,2329.61,2782.32,2856.77,2672.04,2620.3,2622.13,2592.32,2992.63,3015.32,3149.23,2631.41,2662.92,2935.5,2522.86,2735.71,2668.4,2751.27,3157.52,2600.89,2786.48,2496.33,2695.24,2401.0,2348.56,2203.49,2963.19,2572.41,2278.6,1943.14,3009.44,3522.35,3542.89,2952.33,2957.55,3202.72,2299.48,2498.19,2912.11,2572.86,2361.49,2468.8,2354.89,2703.35,2615.06,2562.37,2381.48,3252.9,3071.48,3145.74,3103.98,2815.37,3302.98,3129.13,2596.68,2893.65,3312.16,2821.2,2772.76,2257.56,2401.44,2992.74,2854.51,2776.22,2507.6,2466.9,2482.7,2483.49,2566.42,115564.35,94136.35,98672.59,92755.59,108282.86,98175.35,71165.72,95855.41,101566.87,98689.46,77602.0,87205.88,127811.89,107634.21,91179.51,80273.34,87937.0,96137.67,105539.53,86860.94,79026.15,100958.25,87346.14,80431.55,66892.44,76542.81,93809.75,78915.6,70299.21,77852.74,90990.93,78481.32,76162.38,87720.98,112126.81,73963.61,73027.2,71814.32,70733.35,77547.67,82395.79,73121.25,55973.77,87338.34,69386.52,81069.74,57718.48,67182.76,85242.8,80921.16,79827.55,71672.01,86132.01,70151.05,75224.27,66624.1,89649.84,65990.45,69452.49,69677.06,74614.02,84294.6,76028.75,66718.84,82034.82,87761.73,100494.82,84842.8,70061.97,89269.8,73273.96,72699.23,69283.24,68879.85,70660.17,81709.41,65138.27,68425.21,96719.55,69572.84,71090.57,60459.08,86374.76,77634.79,73226.9,71469.16,72839.02,83059.47,67590.65,76702.9,67148.18,115249.43,86946.05,70210.07,57562.29,98037.09,83237.41,77567.96,65636.08,63659.49,90770.82,73539.46,78264.14,67827.4,89029.26,78072.5,91386.12,72314.41,93103.43,88138.04,68900.29,76834.09,83931.07,98092.62,74197.08,74827.84,66399.89,90029.42,70261.48,81332.67,76300.01,74849.19,80344.44,69071.96,73529.71,67658.22,80117.78,66232.11,68235.73,70457.7,85329.19,74483.32,85392.47,71295.77,80706.16,70644.8,82186.59,74195.35,75484.17,74894.95,82276.59,68794.43,66526.76,66780.63,60828.25,68569.53,64328.29,67000.83,59799.42,57384.35,57837.28,62278.04,59141.39,58400.17,58623.36,57805.71,61099.85,54394.6,53707.85,56109.3,58507.93,54805.3,53618.54,51298.1,56751.6,54315.84,54176.59,52239.9,52943.16,57414.42,52672.69,53735.68,53819.66,60555.12,59179.16,56516.67,55407.67,58625.28,59429.87,55682.39,54444.19,55868.01,62762.19,59117.63,58214.46,56333.22,63116.31,60654.17,62733.74,67450.08,58568.16,63517.55,59221.57,61387.36,60671.09,63996.04,67392.25,65145.21,63509.85,68427.08,62499.24,59935.75,61393.06,62296.54,61678.44,59002.81,56157.54,55277.98,59451.44,54974.92,54356.13,54003.35,57452.29,56035.29,53286.19,49621.61,54963.04,54701.65,50544.99,49585.06,48943.99,56976.03,51106.65,53241.38,54901.78,57323.34,56234.81,58226.24,55280.21,56542.57,62225.38,54758.87,54344.36,54994.01,60596.74,58511.53,56500.66,53816.93,63497.31,61261.65,59020.69,63663.51,55520.06,65669.34,61166.26,57819.87,55272.9,67574.43,66858.78,63913.1,63852.3,66944.08,65110.73,61283.62,59756.62,61229.13,64686.95,59646.09,60905.45,60164.22,64719.29,57434.64,57097.72,57995.27,58094.41,58426.12,55600.99,54157.81,57655.87,59627.75,53981.14,54840.74,53286.98,59729.29,57803.56,54852.61,55113.94,59897.79,61156.64,60364.66,57957.57,56346.83,63639.01,56659.18,56386.37,59287.86,1011.83,924.53,1206.88,885.27,1405.96,1072.8,1005.76,1578.63,1450.76,1346.0,1057.0,879.0,723.0,964.0,809.0,440.12,514.0,736.88,851.0,824.0,700.0,556.0,717.0,912.0,1072.0,879.0,1044.0,1482.0,1971.0,2576.0,3767.0,2997.87,2109.0,1930.0,1521.0,1385.0,1509.0,1695.0,2193.0,2228.87,1071.0,1023.0,2066.4,1238.0,1540.25,2278.75,3773.25,812.25,565.75,571.75,599.0,619.5,1405.0,1449.0,1291.87,772.0,663.0,940.0,814.0,820.0,793.5,542.0,630.0,840.5,724.5,902.0,1242.5,1485.0,406.0,328.0,364.0,813.5,896.5,246.87,651.5,364.88,693.0,855.0,1026.5,969.5,676.0,575.0,1345.5,971.0,956.5,1532.5,1222.0,1572.5,1262.47,1354.5,2927.5,1260.0,792.5,1005.0,3254.07,1852.54,1423.91,2237.47,4164.38,1573.0,187.03,297.5,327.0,163.37,359.5,761.0,661.0,415.37,587.5,846.87,500.0,560.5,375.0,538.0,333.0,490.5,346.0,474.6,652.0,549.5,528.71,298.65,343.79,292.52,408.46,237.24,478.22,492.3,416.79,497.61,432.61,565.3,569.89,1046.13,1308.72,1846.97,1382.99,1320.89,1163.75,1207.99,1031.98,1201.83,1784.96,8366.71,7284.34,8423.87,7039.85,9701.14,8336.82,9019.85,8308.66,9263.75,8830.76,8910.56,7670.8,9368.81,9415.84,8018.61,8604.28,7895.11,8686.52,7249.62,8308.79,8169.12,8204.64,8941.96,7799.82,7893.65,7254.58,8670.44,7721.77,7907.41,6639.33,9462.86,7408.52,6925.84,7714.03,7578.6,8161.18,8548.24,8046.85,7801.28,8004.7,7793.62,7887.03,6981.92,7032.59,7139.91,5756.34,7004.17,6147.79,7935.25,6434.92,6429.96,7694.75,7225.64,8010.52,9154.95,8896.4,9642.28,8293.47,9272.97,8842.06,7949.13,8542.04,7884.79,8760.29,7587.59,8086.99,7870.25,7194.27,8256.97,7946.69,9133.95,7175.37,7871.31,7638.89,6616.75,7068.99,8204.91,6992.37,7858.21,7308.1,7730.8,6976.5,7687.29,8899.8,8950.75,8263.51,7710.94,8506.57,6680.42,7234.05,7181.21,9079.08,7252.84,7989.25,7324.21,6181.99,6824.05,7123.1,7486.65,6924.5,8150.14,7073.77,8882.33,6961.76,8813.08,8250.23,8863.71,8542.28,9878.1,8130.77,8730.84,6474.28,8058.56,8972.49,8512.01,7332.1,8264.77,8593.85,6871.92,7239.61,8637.88,7977.62,9733.53,8345.37,8500.51,8611.38,10220.35,7034.91,8177.91,8525.93,7839.2,8744.49,7736.78,7541.59,7997.03,8003.46,7563.72,7062.59,6568.89,7163.58,7418.72,7586.22,6786.97,4674.75,4463.33,4401.78,3864.43,4465.33,4914.41,3680.66,4014.61,4216.19,3689.94,4159.49,4486.95,4414.76,5201.2,4559.25,4564.94,3995.99,4407.29,4740.63,4158.61,4452.56,4137.45,3893.2,3454.13,3980.92,3839.45,5151.43,4062.09,3980.15,4260.92,5213.53,5082.72,5128.87,6279.62,4484.02,5755.38,5322.96,5830.18,6183.91,4669.76,4641.38,4338.65,8324.33,5773.13,6310.08,7296.46,7081.19,2940.67,3825.19,3206.15,3891.96,4587.65,4552.77,4128.84,4505.01,3964.39,4539.32,3902.25,3327.64,3688.78,3978.69,4593.66,4044.26,4602.13,4256.67,5698.17,4877.4,4432.13,4210.25,3398.8,3994.08,3599.74,3952.92,4061.53,3590.9,3632.48,3385.24,3939.12,4242.68,4532.06,4211.91,4785.79,5085.98,5234.34,4747.74,5426.25,5740.86,6259.82,6644.37,5357.89,7105.29,5626.16,5859.12,5545.99,7463.46,6846.36,9623.65,9212.12,8587.31,3802.42,3865.21,4302.1,4115.74,4480.61,5616.96,5810.57,5310.32,4539.36,4963.89,4589.36,4682.64,4356.74,4201.9,4848.96,3960.81,3906.32,4231.57,5380.5,6136.73,5251.97,5248.37,3926.24,4411.14,4718.16,3897.52,4340.94,4117.76,4472.66,5053.41,4533.94,4762.95,4705.45,4576.91,5778.82,5676.46,5269.35,5406.78,5682.47,7919.71,5546.58,5997.47,6357.29,6593.58,37.44,34.47,22.94,45.41,74.35,29.97,8.5,10.0,13.5,35.97,9.5,23.97,50.41,2.5,22.5,10.47,12.5,5.0,5.0,53.88,65.84,11.47,22.94,34.41,34.41,43.88,22.94,10.47,68.82,80.29,11.47,22.94,22.94,34.41,11.47,11.47,11.47,11.47,22.94,34.41,11.47,11.47,11.47,10.47,11.47,22.94,11.47,35.91,11.97,11.97,35.91,21.94,11.97,11.97,23.94,57.85,9.97,11.97,11.97,33.91,11.97,11.97,11.97,11.97,11.97,47.88,10.47,52.35,20.94,10.47,20.94,20837.77,18826.47,22414.94,18099.75,20565.45,18114.67,18317.46,16803.77,19053.49,17682.48,17394.72,17825.26,18120.31,19219.2,18294.5,18845.98,19693.66,22445.36,20377.63,18936.81,20309.52,19082.57,19259.43,16545.46,17424.93,18044.49,19380.82,16742.12,18042.55,18845.23,18797.69,18400.52,16773.5,15994.65,17058.26,18378.25,16713.94,16832.19,16666.41,18063.45,17690.36,16465.14,18640.46,18473.14,22154.5,31913.56,54830.17,24323.2,17391.06,15209.45,15422.84,16089.4,18525.11,20609.53,23922.06,18879.72,21571.68,20840.88,20539.39,20224.11,19189.17,19162.86,19154.69,19453.55,19268.86,21598.1,20003.0,20625.85,19408.71,21789.56,21209.8,20273.99,20247.88,20260.49,20819.37,18825.83,18212.87,17801.56,19741.45,17231.34,17501.25,17963.72,18204.34,16566.4,17763.55,15863.61,17225.81,19711.09,17898.93,16600.43,16886.0,19041.07,17593.42,17753.95,19731.84,20061.91,24204.73,33643.26,43637.95,26431.67,16758.49,16990.96,16304.6,16964.23,21408.85,22301.66,23240.95,21075.68,21324.05,20170.38,19983.27,17613.46,19312.81,21282.81,19517.58,19395.79,19540.47,21045.33,19212.14,19612.54,21830.63,22689.14,23980.23,20497.56,20200.75,20492.7,22048.67,17813.17,18376.23,17318.91,20254.83,17599.96,18300.93,17691.64,18039.38,19145.58,17207.35,17162.62,16773.28,18795.49,16291.79,16784.5,17950.88,70.0,-863.0,-698.0,14.0,-58.0,60.0,20.0,89.0,0.0,-298.0,-198.0,198.0,0.0,0.0,-498.0,-498.0,-198.0,-199.0,178.0,25.0,68.0,224.0,814.0,247.0,354.0,357.0,771.0,608.0,467.0,374.0,247.0,761.0,514.0,671.0,227.0,274.0,424.0,641.0,157.0,594.0,117.0,287.0,187.0,283.0,227.0,434.0,127.0,267.0,666.0,561.0,760.0,564.0,594.0,861.0,566.0,2083.0,1137.0,675.0,2020.0,2098.0,2883.0,434.0,117.0,396.0,217.0,267.0,217.0,471.0,1996.0,1131.0,159.0,696.0,780.0,334.0,454.0,117.0,627.0,730.0,701.0,351.0,865.0,491.0,566.0,267.0,524.0,519.0,490.0,913.0,117.0,786.0,988.0,762.0,256.0,832.0,771.0,494.0,1559.0,1188.0,2443.0,953.0,3033.0,3306.0,1951.0,2672.0,6445.0,1744.0,1291.0,456.0,1008.0,137.0,881.0,1047.0,2305.0,2166.0,1573.0,1674.0,-223.0,1651.0,1593.0,249.0,505.0,404.0,1193.0,761.0,1301.0,1501.0,297.0,1141.0,587.0,653.0,499.0,359.99,247.0,504.0,367.0,568.0,796.0,466.0,1531.0,1558.0,724.0,1101.0,2672.0,1361.0,2657.0,784.0,3341.0,11501.46,16139.05,16736.17,16245.13,16445.28,13267.5,11201.0,11310.4,12755.33,9267.4,9964.15,12738.26,9093.27,14878.8,12803.67,10502.54,11711.59,7291.66,11594.04,10764.54,10498.22,11393.34,10287.0,11928.01,12416.75,12104.31,11454.96,10074.71,11546.03,11259.78,13015.08,10138.47,13938.16,13060.87,8377.12,10103.94,11173.48,10345.97,9369.8,13601.15,10234.34,10675.61,8981.48,10253.73,11294.51,10481.37,9354.89,8386.33,12627.13,11691.35,10377.62,14081.79,8956.49,12977.3,16600.26,15992.5,15083.95,12279.03,13603.82,12846.99,13167.85,12761.42,10451.08,9266.13,9203.58,13008.14,11749.4,12269.91,12403.64,10410.0,11447.02,8879.86,10370.58,12148.34,8995.6,11921.08,10128.42,11816.35,13557.11,14666.76,13037.99,13517.07,11004.04,11075.68,15443.88,11592.49,11336.54,11999.77,11314.52,12499.83,7365.08,9810.97,10003.1,11526.57,7722.64,9186.33,10631.16,9266.02,9082.15,12877.44,11945.79,10809.86,12530.65,10203.51,11516.77,17190.6,12154.59,14533.65,10141.3,13304.61,14200.59,10766.86,11176.06,12892.99,12122.71,11005.11,12973.13,11313.7,8709.99,8477.87,10486.94,10810.62,9398.12,9529.5,10268.71,9842.06,9142.48,8269.47,11500.49,9556.8,11140.28,13369.91,11468.38,11500.31,12065.15,12632.79,9414.79,9011.1,9590.05,11093.34,9710.08,11082.52,8775.52,1.16,28.11,52.88,4.16,27.92,14.79,12.94,19.54,0.75,27.24,18.18,48.92,50.79,185.8,13.12,44.48,77.84,40.92,66.72,22.99,16.68,50.04,88.96,17.43,11.12,55.2,11.12,5.56,22.24,22.24,5.56,11.12,3.0,3508.04,2728.58,3356.66,2287.01,3212.82,2492.52,2947.03,3336.81,3168.93,2978.6,2426.68,2742.02,2625.26,3792.44,4205.67,1839.6,2085.73,2174.68,2411.48,2205.04,2401.83,1708.17,2462.84,1992.12,1781.19,1683.66,2339.98,1862.27,2343.86,2257.13,2750.3,3551.68,3103.95,2943.19,3300.65,2996.45,3405.64,2645.18,3181.33,2995.15,3055.28,2131.18,3385.22,3781.13,3524.51,2935.1,4192.75,1403.25,1862.15,1528.22,2141.04,1636.11,2321.56,2124.49,2805.07,3861.34,2712.83,2291.45,3008.45,2299.07,2502.37,2497.18,2231.45,3059.55,3181.08,3146.72,3455.96,2276.95,1974.3,1956.52,2180.91,1218.46,1766.62,2260.23,1435.73,1867.49,1431.0,1248.21,1253.03,2572.2,1645.92,1712.89,2063.86,2333.17,2653.58,2149.38,2430.13,2461.69,2422.74,1976.63,2030.63,2317.71,2157.44,1703.73,3139.23,3409.71,3175.44,2654.13,4013.93,1879.45,1466.0,1407.8,1519.18,1888.9,2632.9,2542.17,1786.85,1771.37,1786.71,2056.32,2007.46,1272.96,1391.26,1904.58,1789.55,1797.24,2099.8,2172.26,3267.49,3216.98,1800.89,2205.26,2115.35,1756.97,2025.22,1514.02,2377.08,1449.59,2028.71,1922.93,1638.4,1342.35,1923.3,1690.81,1950.34,1902.03,1830.37,1759.82,2169.68,2373.49,2028.6,1634.61,2530.51,439.0,383.0,616.0,209.0,198.97,239.0,83.0,180.0,220.0,175.0,211.97,88.0,277.0,233.0,100.0,96.0,309.0,266.0,202.0,221.0,300.0,196.0,204.0,196.0,385.0,177.0,140.0,123.0,80.0,126.0,46.0,177.0,2.0,55.0,116.0,79.92,29.08,46.84,77.92,63.84,50.0,52.92,120.68,110.84,51.84,237.84,279.92,30.92,51.84,-50.0,67.92,51.84,4.88,5.88,60.92,166.56,53.8,50.92,15.92,57.72,35.92,20.92,51.84,25.8,64.92,-15.0,17.88,25.0,82.96,99.84,48.16,25.0,60.12,10.0,68.92,53.16,5.88,32.84,29.24,52.84,94.92,46.38,14.24,33.88,14.24,23.92,44.8,81.16,43.0,24.24,59.8,74.88,48.42,197.44,120.18,20.12,15.0,13.28,36.64,89.72,50.92,40.92,40.92,-21.0,58.72,15.88,40.92,120.72,24.04,61.84,119.92,60.0,74.92,23.92,34.8,40.0,24.88,20.76,28.92,73.92,30.92,8.0,49.8,4.88,8.0,28.92,13.38,46.92,36.0,72.92,89.84,28.92,4.88,21249.31,18892.81,17404.53,16708.1,16120.04,14410.07,14590.87,11836.92,13435.38,11185.09,9537.96,11082.83,11439.61,11062.66,9471.58,12395.06,10256.27,12515.03,14347.95,9844.85,12528.26,11466.06,11898.06,12663.38,9468.88,9914.6,11091.06,12236.16,10592.72,8780.64,9059.84,9199.14,12760.14,9499.36,10911.03,10294.64,10663.59,10390.81,13129.49,12562.6,16218.9,15807.45,32756.5,18661.25,20224.52,29029.83,48876.91,22366.22,13296.99,10374.82,12265.69,11293.56,16056.11,15747.17,19414.61,14125.3,16789.56,15350.18,14963.42,12382.76,12428.0,11546.48,8886.81,11210.12,9512.75,10456.91,10183.87,9191.43,9569.7,10291.31,9891.77,8667.61,10132.88,9175.14,9191.89,10956.97,9450.01,9872.47,9800.78,9227.49,7651.17,6962.22,11307.8,9968.71,9132.15,10095.51,8371.29,9866.2,8613.78,12946.24,11531.5,12682.1,23728.53,16338.81,30868.94,15958.05,17699.32,25261.76,45369.2,29051.72,13677.11,10418.11,9248.23,8142.7,13026.55,17331.87,18555.99,13506.9,13570.7,13415.73,12821.02,10829.7,10850.61,11456.71,9956.75,9182.6,9311.12,9687.39,7393.75,8229.82,8265.88,9876.01,9950.02,9353.12,10200.28,9377.05,10013.75,9348.48,9626.94,8744.35,9556.52,7861.01,7462.78,7482.47,10045.55,8140.64,7408.83,10502.56,9595.03,12244.21,11695.12,9438.28,10200.84,2567.36,2849.12,3246.57,2598.65,5298.62,8773.81,11836.32,5974.74,13928.36,13987.13,16347.63,13262.63,10546.89,11085.84,8684.96,5157.63,4992.33,3672.22,3271.16,3568.13,2397.46,2759.98,1774.87,2133.65,1457.56,1047.98,1942.33,1458.31,1286.55,1123.42,1632.06,1658.16,1894.81,2716.66,2054.05,2207.89,1555.96,1452.08,1395.02,1089.72,956.7,911.41,1457.38,1849.72,1910.24,1746.36,1009.09,480.47,946.45,291.72,611.9,1015.62,1526.95,1569.29,4978.59,5793.4,7625.1,9131.4,12804.39,14313.44,13231.66,13853.2,11112.6,10337.63,7348.17,8817.17,10048.15,6312.98,5173.99,3658.74,3053.21,2066.0,1919.82,1996.97,1145.04,747.29,563.45,1127.04,788.02,683.97,492.22,551.54,1001.74,1342.15,1417.28,1427.48,1864.31,2288.14,2772.54,1577.8,1221.89,801.07,792.42,1241.47,2003.93,1157.9,1708.9,1227.56,405.84,283.82,568.29,783.25,1347.74,1438.75,2418.0,4131.49,3673.37,4836.58,5688.7,8541.45,11246.66,12132.99,13271.3,13506.8,10051.32,7896.05,8498.87,8585.95,9363.16,8454.35,5611.84,5118.98,3707.69,2938.71,2826.83,2159.46,1980.42,1821.15,1799.52,1725.59,1508.82,925.83,1005.12,1240.35,1111.5,1166.8,1742.34,1942.71,2167.36,1893.24,1844.94,1328.43,882.69,7659.97,4505.0,3131.0,4356.0,5796.0,3485.0,3380.0,3437.0,4587.0,4262.0,2288.0,6634.0,2893.0,4608.0,3073.0,3917.0,5055.0,4970.0,7688.0,5192.0,3048.0,4539.0,2849.0,5059.0,3860.0,4320.0,5329.0,2480.0,5456.0,4074.0,3090.0,3894.0,3572.0,2746.0,743.0,4849.0,4988.0,570.0,2615.0,2228.0,4145.0,3917.0,2560.0,2969.0,2013.0,3116.0,3296.0,2498.0,2331.0,570.0,2375.0,1840.0,845.0,3250.0,3659.0,1188.0,4055.0,1883.0,2466.0,928.0,4048.0,2125.0,3455.0,3315.0,1395.0,4078.97,3720.0,1575.0,2170.0,1455.0,2400.0,4700.0,4330.0,2650.0,4875.0,4365.0,5035.0,4745.0,3315.0,1365.0,4645.0,6070.0,2720.0,2735.0,5238.97,1520.0,1735.0,4128.97,3195.0,2515.0,800.0,1110.0,4770.0,2900.0,1780.0,3732.0,5815.0,3735.0,6950.0,3420.0,3400.0,2210.0,1700.0,2315.0,2500.0,1995.0,2730.0,3680.0,4395.0,5745.0,4544.0,800.0,2950.0,3195.0,1685.0,850.0,2640.0,2030.0,1590.0,2100.0,2170.0,1790.0,4590.0,2280.0,4233.97,2900.0,2030.0,3715.0,4359.0,4450.0,4355.0,1420.0,2845.0,1425.0,2225.0,4830.0,4650.0,7790.0,1355.0,3380.0,4560.0,6800.0,5295.0,1409.34,1447.42,1530.41,1126.68,1275.29,1069.23,1133.2,1274.11,1320.11,1048.65,1047.97,897.87,797.05,998.14,992.91,865.97,803.36,1067.51,923.84,939.85,805.22,968.32,936.54,644.96,353.33,638.09,778.33,556.54,652.04,754.31,651.3,535.1,545.79,560.15,574.77,488.02,447.68,603.86,694.27,650.35,1369.26,1209.17,1687.77,2457.54,4729.1,9201.96,18016.74,6119.02,1163.59,451.83,481.23,359.46,370.98,598.89,461.3,360.91,546.4,418.85,267.5,258.5,316.86,365.51,377.94,352.72,313.74,358.69,264.07,200.88,354.0,155.44,218.54,149.75,209.1,202.78,233.81,175.62,126.46,194.29,380.22,160.07,261.35,205.78,180.85,243.87,194.89,147.58,226.12,239.99,428.76,231.84,289.83,571.34,785.41,797.35,972.87,1450.52,2044.76,4400.06,6483.26,3903.44,293.24,165.03,244.14,225.3,223.46,148.99,325.65,277.03,132.13,191.13,223.09,194.98,217.33,273.02,133.83,214.51,157.52,107.13,270.4,183.04,182.07,133.51,116.89,160.2,121.25,205.87,181.58,185.21,164.58,129.74,240.43,152.07,144.51,185.84,201.68,127.35,208.58,171.44,215.41,219.64,112.67,183.24,208.89,1416.8,1003.2,1020.8,959.2,1371.0,906.4,677.6,844.8,1179.2,1029.6,888.8,704.0,932.8,1372.8,1056.0,888.8,1221.4,1144.0,1108.8,941.6,730.4,1293.6,1265.4,804.8,897.6,1276.0,1100.0,844.8,1064.8,871.2,1161.6,976.8,1152.8,853.6,1029.6,1144.0,976.8,792.0,1038.4,1284.8,994.4,844.8,895.8,1540.0,1486.2,2226.4,1029.6,836.0,1091.2,994.4,1047.2,1029.6,1188.0,1416.8,1092.2,950.4,1276.0,1064.8,827.2,677.6,1126.4,1091.2,968.0,906.4,924.0,1513.6,1355.2,809.6,932.8,1161.6,1126.4,915.2,624.8,1126.4,818.4,862.4,800.8,686.4,1232.0,800.8,765.6,906.4,1161.6,1100.0,853.6,756.8,888.8,1276.0,1223.2,941.6,880.0,1416.8,1038.4,739.2,985.6,1584.0,1372.8,1443.2,1293.6,589.6,1284.8,950.4,941.6,827.2,1022.0,1413.6,949.8,797.8,1231.0,1161.0,711.0,738.0,792.0,1062.0,828.0,810.0,954.0,1098.0,1368.0,936.0,774.0,1161.0,1179.0,846.0,655.8,900.0,1116.0,918.0,675.0,828.0,1161.0,1008.0,846.0,702.0,774.0,1116.0,891.0,702.0,864.0,1332.0,1026.0,999.0,918.0,8414.14,17614.47,16411.69,5905.14,6519.39,6759.29,6514.45,6170.29,7963.67,6371.03,5562.19,6384.8,8683.44,17902.17,18715.88,7473.54,8772.7,9802.74,7166.66,12443.97,12132.76,5770.92,5736.98,6328.88,6060.37,5687.85,6045.09,5853.96,6105.29,5094.17,6531.18,6400.56,6395.78,5693.67,5652.94,6480.41,6514.02,6157.37,6369.38,5919.76,5951.17,6156.76,6004.34,5900.71,8274.85,11790.19,15014.06,4774.05,4441.06,4423.23,4902.92,5637.89,5920.77,13759.36,17757.59,5521.0,5994.43,5449.91,5018.79,5169.78,5055.9,5870.48,5716.03,7618.86,7246.97,17084.25,17687.93,6316.6,8388.42,6998.69,6250.45,10310.58,10100.59,4219.62,3796.96,4153.54,5169.35,4852.67,5529.58,5265.8,4929.5,4865.55,5632.09,5666.3,5674.81,5891.33,5747.96,6433.21,5981.5,5738.67,5526.26,5780.29,6268.3,5669.41,6577.25,5920.02,8250.17,11859.38,13785.93,6644.45,4138.5,4992.77,5048.42,5107.73,7360.8,13046.77,21228.22,5729.76,5725.44,5488.12,5745.45,5124.13,5671.91,6636.14,5627.16,6535.63,6280.02,8462.57,18094.4,17853.23,9601.64,7245.74,7127.43,11505.87,10831.78,5420.16,5734.94,5336.62,5808.73,5381.8,5882.48,5441.98,5640.72,5533.03,5043.4,5341.21,6359.63,6504.48,6425.63,6472.62,6242.93,6429.74,7319.25,5421.14,4752.0,3357.0,3944.5,3010.0,2566.58,2445.91,2422.24,2372.0,2547.04,1901.5,1995.5,1500.88,1692.54,3136.54,1724.38,2578.53,2362.54,3187.58,2863.0,2331.04,1861.0,2836.58,2848.24,2788.0,2522.04,3475.0,2992.02,2569.0,2814.62,2064.54,3543.26,2770.02,1585.86,2644.46,2577.78,1843.94,2197.26,1713.18,2527.76,2173.76,2363.04,4327.7,1958.0,2004.66,2923.84,4726.8,2759.7,1485.18,1762.92,2655.18,1309.12,2869.24,3871.94,5166.96,4657.62,4514.96,3896.78,2167.14,1648.6,1251.66,1607.32,2221.54,1027.53,2821.24,2907.36,2178.5,2054.08,1542.14,1353.22,2221.16,2478.94,2338.69,2172.68,2096.32,2039.99,3370.9,2557.67,3005.37,3557.88,4094.73,3212.68,3393.53,3114.58,2662.33,2099.69,2196.62,2561.59,2671.19,2718.44,2287.09,2696.35,2310.34,1709.51,5751.48,2711.84,3096.8,2892.04,5137.59,4031.65,2951.08,2160.24,2145.42,2121.3,3986.97,7561.4,4172.08,3950.1,6200.44,4071.75,2824.16,1686.52,2912.13,2639.81,2379.06,1651.41,1601.83,2800.65,2934.96,2310.96,2886.26,2286.73,2756.33,3126.91,1975.56,2497.33,2957.14,2588.5,2955.92,3045.61,2864.56,3240.72,2351.07,3296.91,2598.82,2097.5,1934.39,1433.83,1464.06,2418.32,1585.93,2263.79,1370.83,98499.12,79636.32,72377.79,55590.73,65525.74,45046.81,41069.55,40796.33,50079.67,43346.92,38711.22,42222.53,38131.53,39104.1,35355.34,30922.75,31378.88,38638.6,41297.84,43244.02,42363.96,36242.12,34523.84,32796.05,33638.52,36106.41,39070.7,42051.15,44878.45,36690.76,43630.1,44555.16,43582.89,39528.86,39017.88,30051.47,32775.14,34301.02,34596.86,38960.78,44777.94,32072.93,196810.42,54268.03,44605.69,67832.13,121470.12,47448.91,42581.15,35873.69,41051.86,39918.87,62891.35,71013.56,67900.9,50577.46,54450.94,43535.72,43128.73,42627.73,36258.07,36512.94,39638.92,41104.42,33941.57,43167.81,41898.67,32615.01,34073.97,34638.69,30561.01,36041.85,36991.99,37493.58,32577.03,37570.26,35464.49,36132.57,41315.33,39234.13,42481.55,49944.34,47054.71,38861.38,44656.76,33809.02,39319.17,38528.36,44370.76,56909.42,47743.78,63620.54,42060.48,43050.78,203670.47,55188.08,60494.84,62424.9,94243.47,59732.61,39235.39,37248.54,37526.8,43660.6,62524.58,98104.8,81287.05,57718.19,57117.62,48275.27,57135.91,44132.05,45350.26,40174.72,40241.21,43176.95,33229.49,36683.63,39483.03,35718.85,39801.69,39791.94,42900.32,44313.56,43726.7,37125.37,38528.4,44166.9,32363.17,34394.82,40143.72,40663.95,40176.27,39729.78,39515.27,40231.04,40346.48,61883.75,50209.37,54480.13,42221.07,36267.08,35282.73,12251.94,11857.96,13917.2,13330.89,13824.33,12253.4,11792.55,10604.88,10625.15,10895.18,9855.89,9499.39,10712.5,11805.33,10565.14,10848.88,11445.67,12881.32,13923.38,12132.61,11758.06,14864.7,15358.43,13884.6,14280.47,13693.26,14102.24,11884.61,16678.75,15089.91,11691.33,11146.79,10739.64,10450.29,10672.47,9033.61,9861.25,9707.06,9498.02,10107.0,10447.25,9446.08,19282.0,9942.74,9862.93,10331.13,16702.92,15132.59,14345.74,10218.41,10213.69,10479.64,10837.23,12258.35,14377.53,12719.21,13398.75,12333.35,11361.36,11597.81,9924.4,11019.94,9602.66,9345.49,8706.71,10756.85,11468.59,9903.62,11548.4,12250.97,11416.57,11751.46,10821.75,10969.87,9759.79,9455.39,9441.22,9729.75,10460.68,12363.2,12020.11,13971.69,12486.32,11107.38,9105.06,9779.79,8771.97,9266.41,10472.33,9906.67,9592.35,8436.48,10017.61,9918.65,20182.75,10148.65,9569.52,10228.59,13264.44,13382.99,13944.25,12461.85,10315.1,8548.08,12320.57,14659.73,12154.26,15856.66,14578.2,13075.77,12940.92,9527.92,10369.02,10301.15,9786.34,9754.54,9902.47,11735.18,10872.63,12678.33,12407.15,13099.41,15486.03,14358.3,13716.9,14110.57,14838.28,13633.58,12584.61,12291.51,12338.15,11995.61,12242.86,12090.3,10969.83,11364.73,9402.97,10745.38,9908.28,10574.5,7583.13,9700.45,7986.96,1431.0,204.0,396.0,12.0,12.0,12.0,10.0,46729.77,36080.86,34141.62,33309.85,42931.77,31669.24,32604.49,29223.39,40910.94,37815.5,32135.69,28230.72,30450.45,44039.92,30719.18,30190.72,28195.06,42732.59,34564.68,29943.17,29521.94,37745.99,35320.41,30200.62,29353.14,29275.56,43224.38,30376.79,28801.37,28990.87,39538.08,34512.69,31291.01,27292.08,31074.81,37770.25,29799.61,28439.7,25548.97,39589.08,29531.38,28073.27,29147.2,32861.33,33269.22,31340.51,33497.1,24738.86,39984.6,30646.95,28181.68,27962.54,42065.78,36163.65,32462.04,30624.72,45717.53,35519.37,32251.01,28503.22,35814.98,38752.0,31150.62,30833.66,28255.73,44271.49,33007.29,29087.29,28296.72,42896.37,35023.2,29656.36,29394.35,35335.8,36448.88,29505.12,28530.68,28715.75,45837.83,29878.13,32156.49,29392.95,40331.25,34786.75,32427.96,29161.56,28876.96,45059.56,30011.57,30190.3,28364.34,42665.35,31898.63,30928.23,33533.15,38806.56,37340.34,33041.49,34196.74,27676.43,42842.53,31338.33,31186.0,28937.93,47522.61,39360.34,36855.68,31907.99,47896.34,39196.18,32723.28,30097.93,30834.51,45342.21,30752.29,32581.33,30866.19,47342.76,34432.74,33905.44,29874.35,37942.13,41003.18,34184.66,30684.35,30442.57,47794.94,32163.5,30048.55,29295.12,45517.07,35436.11,32431.81,29424.5,30371.45,46501.08,33317.12,29389.5,28492.34,48373.55,34139.98,27982.85,29294.29,15694.17,16720.84,15918.98,15673.94,15680.71,14708.62,15871.19,14385.66,14810.01,16418.64,15583.62,14283.64,13879.7,15356.54,14806.08,14381.02,14905.3,16789.53,15921.66,15898.96,13454.31,14823.95,15996.89,15660.62,15771.6,15166.99,17325.53,16193.2,15204.72,14737.16,16173.15,16198.34,14457.98,15325.49,15460.88,16474.09,17350.62,14968.65,15570.63,15412.29,15510.94,16193.03,16373.34,13560.2,17072.7,17049.07,19131.59,14170.58,14670.69,15334.15,15318.89,14709.23,15251.2,16445.48,16085.05,15171.01,15767.86,17136.59,17498.01,16470.38,15131.87,16632.37,16565.09,16110.57,15630.25,17454.19,16862.36,16973.96,16729.47,18044.78,16982.86,17338.92,16536.03,16980.03,16737.68,8990.81,7320.66,7728.65,18308.8,20124.61,19146.71,17705.84,18477.42,19080.96,18221.94,17403.83,17443.45,19283.73,18893.16,18211.25,16612.64,17737.56,18932.74,19646.97,17754.36,16633.66,19046.33,20943.81,22350.09,15722.33,18903.84,17716.26,16501.99,16269.33,16911.18,20426.69,19404.9,18321.35,18733.18,19494.95,20586.63,18570.59,18378.63,21547.43,20158.89,19254.51,17687.19,19124.22,20460.41,18939.91,19421.03,19270.99,20833.84,21658.4,19063.5,19180.42,22615.85,19943.94,19375.38,18050.22,19943.02,19874.45,20021.35,18713.54,19276.87,21718.71,19345.96,18448.27,17848.52,21007.2,20014.24,19217.27,17918.31,30052.75,30694.25,28784.91,28213.79,29957.47,29272.13,30287.91,29871.06,29649.34,30023.4,28518.47,27455.91,28836.25,31614.83,29631.17,28081.1,28638.96,30186.24,30813.12,30070.24,27966.9,30551.07,32226.46,29250.38,28636.43,27202.87,31201.67,29938.23,29172.25,27605.17,30199.35,30035.78,28747.53,26864.57,28460.62,29979.34,30490.19,27483.45,27408.24,28962.33,29813.66,29383.02,30448.4,26820.53,28246.47,28357.4,31165.18,24041.67,27932.0,30035.22,27904.03,27398.7,31040.12,29878.54,27590.4,27205.38,29470.75,30186.27,31048.92,29498.03,28545.23,31849.29,30757.86,29368.7,28068.91,31773.1,31004.25,29396.41,28360.73,31054.35,30405.2,30363.62,27718.78,29039.19,30907.17,27839.64,27636.86,26624.75,30825.65,30549.41,30031.85,27927.33,29191.31,30764.85,29282.71,26749.2,26579.49,30444.53,29527.29,27412.7,26292.64,28384.78,29705.92,30031.81,31047.79,26715.24,29622.19,30033.48,31972.69,24167.38,29522.11,31560.5,29454.09,28130.16,31164.04,31595.22,31533.84,28579.0,30351.71,31651.93,32742.74,30173.66,32059.57,34435.66,31857.92,30648.9,30244.48,32261.06,31571.96,32122.26,30941.49,32117.05,33639.63,34681.25,31402.79,31098.43,36081.52,32427.67,30588.78,28986.06,30862.25,31933.13,31938.39,29432.75,30944.5,32542.87,30417.19,29554.46,27934.47,31376.98,30502.04,29992.45,29107.55,19484.03,20949.36,20195.2,19023.33,19974.91,18201.88,18348.98,16479.16,17695.89,17678.66,16566.09,16204.99,17115.38,17893.1,17814.39,17328.64,17229.66,20519.54,18551.52,17940.03,17824.37,18581.75,19092.69,18118.18,16361.87,15881.65,18429.47,16914.11,16702.11,16038.14,19146.83,17349.06,17499.58,17168.59,20110.05,22254.42,21079.88,20808.34,20957.34,21850.85,21473.78,20964.18,24770.41,25685.14,29846.11,41964.81,63787.12,23820.76,20707.94,19252.31,18115.39,18374.35,22815.39,25005.25,24062.14,20803.27,22958.34,21432.21,21612.22,21433.52,20437.22,19725.93,18839.28,19960.32,20028.3,21181.28,20663.71,17960.55,19854.55,20885.95,20543.68,19190.57,23442.18,20927.08,21765.06,18346.17,17312.56,16405.74,20902.12,18091.77,17513.33,17447.29,18775.72,18293.46,19609.72,17923.58,18244.98,19497.99,18170.02,19610.25,19018.37,19833.86,19452.05,19776.44,21972.8,21205.01,28826.71,36636.58,58789.91,30132.4,20019.69,17532.05,16655.06,16034.0,20420.49,21248.19,22346.26,18049.72,20526.27,19766.69,25743.29,19431.9,19953.17,22840.12,19415.38,18275.61,18406.59,21563.76,20076.15,21132.05,20094.03,20883.43,20121.63,20006.9,20450.16,20698.18,20764.05,19445.79,20460.8,20126.49,20729.31,18532.35,18563.27,19415.99,20745.26,20542.29,19937.48,19511.41,18084.61,20292.96,21963.11,20132.76,19702.26,5711.19,7521.08,9080.26,6627.3,8840.0,6483.01,6226.01,5693.05,7829.88,6861.06,5829.18,4638.15,4085.57,6034.61,5395.06,5038.0,4215.35,5160.57,5227.94,5523.24,5285.01,5829.64,5608.7,5137.82,4209.23,3728.1,6456.95,5948.86,5271.97,4525.3,5320.7,5434.06,5944.46,3945.95,4471.0,5277.79,5333.94,4717.79,4407.62,4703.97,4239.32,4255.18,2847.62,4037.17,5768.47,6125.66,6572.7,4869.83,6219.34,6607.14,6310.73,6329.59,6001.08,6978.84,7759.71,5464.0,6241.59,8443.62,9660.09,7324.65,6675.28,7006.94,5968.75,6759.4,4235.68,5449.13,5419.5,5133.59,4358.21,4695.93,4637.45,5042.6,4387.29,4673.3,5932.71,5984.9,4921.38,4456.21,4966.77,6466.53,5551.16,4055.53,6040.99,6832.9,5784.37,4879.35,4304.35,5918.22,4919.46,4775.94,4306.4,4357.48,5143.03,4355.72,3920.55,4241.39,4927.3,4859.65,5941.8,4504.03,6213.61,6581.56,5352.55,4912.58,4983.9,5715.09,6511.65,7386.27,7454.5,8761.59,8450.89,6640.62,5100.1,7324.53,5938.04,5721.64,5747.55,5247.16,5852.7,6311.38,5099.95,5372.91,6223.27,6851.53,5368.51,4906.92,7042.1,7320.48,6158.12,4910.05,5683.26,7547.51,7039.84,5241.37,5372.73,7176.66,6204.97,5179.11,5135.11,5937.81,6505.55,5854.41,4912.05,3825.78,4994.64,6517.55,5622.63,4027.52,4098.27,4072.67,3631.93,3585.97,2569.62,4827.2,4157.0,4449.36,5023.93,5574.51,5384.95,4876.1,4682.03,4038.21,3607.73,3828.98,3708.1,4705.22,3492.99,4248.71,3514.93,4408.58,3962.29,4307.6,3357.95,4019.68,4081.38,4007.6,4174.67,3422.19,3387.87,3745.4,4562.02,4166.3,3790.85,3913.25,3886.23,3791.55,4648.21,5625.77,8058.77,8561.68,4205.47,4121.22,3272.23,3276.81,2579.79,2649.24,3370.53,3216.47,2966.47,3082.87,3103.3,3416.78,3286.51,3208.74,3526.97,3697.49,4183.89,3988.69,4461.57,4237.11,3975.64,4521.77,2845.38,2650.03,2693.77,2461.89,2791.58,2898.9,2775.16,2812.23,3772.51,3023.47,3173.58,3363.95,2591.24,3063.01,2681.87,3172.89,2994.29,2963.74,2981.74,2910.79,3105.31,3045.94,3151.68,2963.69,3099.16,3313.06,3702.52,6436.15,6994.4,9020.76,3545.8,3437.73,3081.86,2915.01,2461.93,2548.97,3618.6,3043.25,2745.92,2652.15,2929.95,2360.35,2622.39,2382.74,3482.79,3422.49,3318.25,3088.01,3643.4,4840.11,5430.64,4451.85,3539.81,3476.91,2787.23,3115.32,3063.52,2760.09,3064.26,3022.95,3434.69,3700.53,2868.98,2530.74,2945.51,3115.98,3131.56,2608.0,2799.37,2721.66,2361.62,2493.35,2945.08,3818.23,35972.49,39254.57,33593.8,32299.49,30800.98,18911.79,28002.01,23926.34,32893.64,29922.64,31171.25,30756.13,31240.73,41094.12,34298.89,32975.76,32034.24,38128.15,34934.23,35133.09,34040.35,42866.79,33515.6,35072.17,32544.27,39298.49,47141.7,32838.77,35527.92,34298.59,48940.83,39921.6,37790.47,36673.43,46866.41,42895.54,35440.08,37976.64,40137.15,53902.35,39369.0,34043.14,40817.18,52678.88,45843.52,41179.88,49414.27,42034.83,49541.9,37376.73,39297.8,48412.8,66331.45,58043.31,59613.51,53575.77,61018.21,52972.21,48055.54,44675.37,54016.41,49435.74,45186.22,44597.39,47627.03,56650.93,48182.98,41391.82,45105.26,54807.83,48268.61,45207.02,45183.0,55289.47,49784.22,44682.84,46947.71,43333.7,58724.31,40366.17,46018.41,45772.44,56613.78,50145.72,46154.22,43187.07,49105.85,60958.58,42396.06,45578.05,42200.12,61144.52,45489.31,43185.42,48722.58,54537.22,49818.68,46663.62,49707.56,48035.97,56985.41,40005.91,42276.55,45365.88,65266.57,62168.8,52872.73,52151.9,63903.03,59487.05,48196.31,46071.75,46465.64,62587.67,47792.13,46467.94,43602.83,58802.89,47648.4,48475.66,47573.08,56771.77,57121.3,51601.93,47171.71,54951.6,61791.29,48022.42,49906.28,49828.59,61634.08,51962.16,47405.37,48193.9,56446.86,56533.45,45670.34,50794.86,47292.44,68503.09,44267.78,48093.57,51212.09,76419.47,79455.64,76091.36,71718.48,78081.85,73943.62,76760.92,71666.24,77280.42,75592.52,73155.28,68521.99,67584.03,76733.25,73925.66,71026.5,70245.24,76433.03,78256.58,77651.52,73325.44,78602.71,77414.63,71934.19,71207.64,69626.13,78840.85,76608.54,72447.85,69272.76,79049.67,78235.77,74851.3,69826.6,73315.81,78810.39,78665.06,69060.72,70851.19,77903.38,79428.8,81642.89,91012.78,73277.05,79620.55,84609.75,103958.12,68273.31,78502.53,82043.47,76077.62,72861.66,86958.66,80990.37,75949.49,72506.47,79030.64,79913.3,80618.9,74628.5,74995.0,83707.82,81817.98,80709.38,75655.35,85337.89,81465.8,74840.01,76414.57,83651.06,85613.47,84721.24,78145.72,81547.54,81734.19,80607.94,77007.16,73528.32,85719.19,88561.84,88820.61,78805.43,89094.73,90974.88,91983.47,82602.09,80994.66,96124.95,90202.21,85521.68,82323.37,91762.29,92964.97,95540.57,107508.68,83052.32,94666.69,97444.15,116538.94,77988.13,91629.16,92509.87,86442.53,81580.99,88941.55,91393.85,91093.52,82674.87,87195.4,90385.98,93174.12,82667.57,83098.16,99607.16,86785.35,82412.3,80027.26,87274.54,88151.32,85373.52,81580.58,86982.24,91559.12,92172.43,81860.08,84392.18,95576.45,87988.59,85585.76,81315.0,89013.89,89889.86,91386.97,82471.61,85644.62,96280.55,89709.09,86242.68,80701.63,95882.36,92950.15,88474.51,84064.59,62424.14,66937.0,63011.44,57335.17,62755.71,63668.62,63250.87,55614.69,57845.36,60177.2,63631.89,56051.87,55068.72,66019.35,64325.26,59289.04,53686.79,59985.57,70982.33,66093.15,56665.73,59462.22,68003.36,66316.42,59855.9,56893.45,68302.1,69486.59,62615.88,56957.43,64708.91,68960.79,66229.7,57245.19,57022.45,68156.49,67012.06,55953.41,54154.79,60344.73,65468.22,62166.33,57154.78,51969.94,63496.85,62562.19,63569.52,49945.36,66465.54,68143.34,60879.18,55962.78,70369.87,73085.36,65075.71,59436.45,66158.1,70447.08,69243.49,59363.21,59382.04,69459.11,70117.63,61390.07,54050.06,67932.66,69132.31,60481.74,55936.84,64308.54,72773.22,66982.05,58934.29,61103.02,69752.06,72630.05,63838.02,55048.43,68086.06,71768.89,67995.61,59197.5,63542.29,70857.27,71049.64,59924.91,57721.07,71865.59,68548.77,61839.05,56084.02,62223.17,67041.24,66433.08,59802.65,55855.06,69381.12,65913.64,67740.71,48263.59,68373.27,72876.82,65605.04,59013.67,67139.26,74070.25,72596.77,61455.44,66364.92,71905.65,73204.67,61697.89,63770.92,76147.22,70877.39,67331.15,60412.71,69524.98,71520.23,67842.03,61147.15,62018.23,75021.92,76138.44,61720.14,59527.86,76603.53,74382.83,67204.17,57662.6,68443.22,73659.91,71394.59,60429.67,62130.73,74590.68,70429.68,61875.25,55839.93,69193.16,67677.85,64022.49,55472.46,139884.94,143081.42,135066.75,125048.08,132945.44,124418.65,127434.37,116688.75,126907.41,129466.97,128626.08,111703.46,109579.6,132217.62,126004.12,117117.65,111704.67,126058.88,134711.49,126911.43,110276.03,122267.65,133820.17,126469.77,115276.81,109943.02,136852.18,132948.33,120613.35,114325.82,130199.04,134373.61,129176.82,110184.21,118966.9,138866.0,133453.67,115463.1,116370.47,140504.41,144909.63,157621.22,170904.79,119421.7,145313.14,156941.48,181376.38,106205.58,137438.84,145156.23,130891.97,118957.83,145494.29,149699.72,129581.85,112865.16,130158.38,137191.52,134321.31,114963.63,118903.28,140374.76,132197.01,124161.59,112882.46,140304.75,131147.68,123050.97,115361.04,129624.28,137181.13,131903.99,112913.22,120155.9,134861.72,131780.79,118968.09,111929.27,137310.46,139822.31,132026.43,117474.47,131142.28,144592.43,143870.73,122462.32,120506.66,155370.71,145457.88,134783.19,125065.14,152401.64,165723.32,170303.38,186516.35,128135.6,165633.02,173805.71,194839.6,120037.4,148782.83,158154.78,140411.05,128946.7,147179.82,158241.98,155731.37,129648.25,138638.98,151585.49,152800.74,127013.26,127691.17,165039.54,147310.74,135336.32,125370.93,140937.93,143194.31,139743.46,124556.59,134206.28,153676.53,153216.18,126763.7,125650.26,156581.44,148531.93,134590.45,123464.47,141450.76,150012.51,149962.1,127017.65,132574.48,160693.21,148861.17,139354.6,122434.07,159459.88,156944.65,146387.59,132155.74,64494.87,70202.02,62581.64,57630.02,63550.08,63593.12,62781.44,55082.4,63245.0,66795.56,67716.6,55781.92,55901.42,70383.0,68273.13,60163.57,60155.18,71718.04,74300.41,69326.03,57418.46,69962.56,78068.53,65960.35,59219.34,55362.08,69274.95,73460.08,61192.75,55448.05,68070.49,74834.54,68491.35,57661.06,58034.24,73532.13,72397.15,58959.85,56830.05,69542.18,77214.95,79474.21,81660.77,56070.53,72089.33,75554.92,85323.12,56721.18,72231.45,74864.89,62937.08,57342.51,77342.47,74956.08,72548.7,59336.68,68960.09,73648.53,74159.07,64882.37,61488.24,76943.85,76596.92,71114.52,63144.61,79231.58,80678.85,67912.16,66607.96,74984.12,81251.13,78948.63,64541.85,68650.5,80746.97,75611.67,67458.01,58927.26,74028.8,77994.13,75368.89,61528.93,73692.87,83809.26,81435.22,67516.27,61812.32,83366.17,76235.47,67370.04,61848.68,77943.57,84183.85,87401.82,87760.1,62296.23,83931.76,85789.38,90573.65,59286.64,78517.16,84485.05,73504.68,63776.99,76847.82,78427.95,80472.09,67829.2,73085.02,79749.8,81227.75,66710.4,67092.89,91384.05,82109.08,70763.97,66850.39,74929.53,81146.85,79074.91,69792.6,76925.54,84258.97,85257.31,70235.34,66443.41,97979.96,86203.09,75292.57,63025.1,73486.9,84119.12,84700.68,65398.77,71195.75,90651.47,81007.78,72668.61,63262.59,81868.04,84659.27,75214.29,66622.89,56655.39,62329.48,72212.32,55501.07,59201.37,61326.35,64718.53,59159.95,66172.11,69441.1,67420.53,60764.62,60744.62,67595.65,78903.78,57772.04,58985.55,64495.92,64201.0,66420.45,61964.14,62795.87,64929.24,60224.73,58125.31,57827.97,65856.36,66025.47,62691.49,60797.36,64285.98,64872.11,60505.14,54232.52,56157.83,60790.29,59131.49,53704.97,54463.34,53352.96,52564.16,55213.82,61809.29,45989.26,50531.16,54141.38,68231.85,47135.72,54928.05,57078.51,54523.83,55124.2,60453.29,61350.19,76866.41,58180.35,65683.02,67507.29,69906.91,67004.6,66295.21,72950.86,73864.24,73194.65,68973.95,73210.1,86052.03,65244.11,68368.2,69573.58,68642.16,64493.89,60233.74,64090.76,68829.04,66176.37,64679.25,60914.58,71058.02,71110.75,67602.79,66796.49,69864.82,67510.59,69043.67,61440.47,58101.89,66759.5,62602.91,60047.94,58438.32,59511.97,59519.38,58927.88,66409.13,48815.7,52715.57,57060.85,70155.23,48990.5,62835.69,62645.2,61140.38,58956.82,63151.36,64979.66,85110.74,58256.37,60983.85,62615.0,64586.65,61317.04,62567.09,73687.58,68132.38,63164.15,62287.53,65730.41,73401.98,82834.82,63667.37,63037.75,62553.95,63073.2,58804.32,60793.02,65667.98,61039.78,61193.95,59097.29,65566.19,65343.75,69099.59,60145.51,62779.63,70775.53,64491.29,61873.33,58663.94,63583.95,62887.85,62767.87,60278.73,106690.06,111390.36,107952.07,103652.58,112807.75,112048.41,117716.13,113117.35,111466.37,116770.82,126341.84,110204.77,107648.14,125592.28,120247.9,120036.99,121902.19,133056.97,131995.0,134118.05,120172.47,124821.44,126241.2,121386.73,116256.35,108781.57,131128.96,131288.83,124601.48,117929.58,124220.1,125027.49,124372.9,114702.69,113009.41,120764.22,123510.99,110052.15,105793.4,110332.92,110209.31,107544.02,106015.41,100834.31,111384.36,116521.67,121695.13,93676.95,107317.32,109955.9,103724.16,99043.34,114270.08,117548.75,112165.8,107742.95,116225.68,120621.32,123405.41,122280.13,112905.09,126746.25,126834.3,118632.26,111764.31,120882.84,124953.94,112581.2,119815.67,135260.49,136364.46,135197.63,121814.84,128054.88,133213.04,127906.5,121483.11,117284.94,138538.47,138567.1,133260.84,122721.92,130446.34,133762.77,133939.4,116165.28,115663.78,132805.42,125954.3,116931.34,108018.21,114793.92,115047.16,113966.34,112688.97,102798.99,119053.8,120721.07,125041.39,93358.91,116427.93,118685.12,113021.23,102202.04,115507.25,125038.09,119807.63,110870.94,118406.27,125840.82,132318.5,117030.73,127706.0,137958.76,129438.22,123172.79,118589.44,130920.36,131341.85,129031.19,127603.0,130573.37,139857.1,140806.36,124594.4,131935.56,148798.05,129724.74,126861.49,121030.79,134832.22,137408.2,136264.68,118845.34,124741.33,140657.4,128542.73,119121.35,115326.47,127009.22,124559.93,123346.24,117375.38,5265.09,33614.93,31829.94,32929.9,31662.07,31233.67,29307.77,28518.24,26519.68,28420.73,32404.72,25585.71,29862.55,27930.71,25795.25,31226.99,31057.77,27262.22,27824.48,28019.2,24137.46,34927.63,23153.17,26809.63,25673.43,34848.46,32416.67,19419.74,19811.34,23337.09,26943.78,28899.26,29590.34,27800.63,29752.67,30353.42,27590.19,32431.44,45763.88,31925.72,36501.78,31924.56,34057.63,31573.91,35061.31,31276.01,32644.21,43160.13,45278.54,39189.57,38266.17,36449.4,38496.08,42248.59,32265.16,33359.3,33784.54,32757.9,32767.41,29969.5,29743.7,32784.16,32182.39,31689.22,30908.47,32099.6,31031.43,31545.8,31193.33,32168.33,33307.4,31945.48,32427.3,45408.45,30734.52,30613.91,35724.82,40787.89,35210.98,34580.77,26772.06,31327.75,31542.9,35689.32,31967.59,30707.07,30990.47,33512.06,31233.17,35774.76,33813.81,52101.28,46039.31,37289.57,35389.42,37249.71,40750.4,38016.64,37807.63,43038.71,43156.77,39009.96,38609.18,39088.11,41522.35,46819.51,33955.25,37535.69,33794.79,38451.35,34261.42,38565.16,33705.41,37045.91,39935.58,32864.96,33452.24,34921.11,33154.23,32918.5,37113.21,36851.92,32153.04,33874.47,31585.78,28457.31,31576.47,31197.12,31733.15,30294.48,30149.2,32544.27,33866.82,29464.0,29095.46,34449.36,33943.35,31165.21,30171.25,35109.14,37297.1,36307.14,31260.27,33726.13,38404.83,35429.54,31706.54,29315.71,37436.74,37470.84,33496.7,31655.17,36014.75,38996.39,35442.67,31177.11,32954.82,37839.71,38436.02,32393.82,32281.74,35669.19,36255.13,34756.36,28754.58,30659.4,36498.68,35614.14,40058.17,28591.28,35362.9,36612.04,31942.34,29371.79,37785.87,36562.46,32770.02,29680.01,35305.67,36603.97,38218.31,34150.08,32320.8,38632.57,39347.42,34137.86,31939.43,38463.79,39672.38,35237.13,34836.36,39013.79,40101.21,40178.65,33724.87,36457.02,39544.16,38860.63,35158.35,32060.9,37986.05,37747.44,38711.47,33691.44,36907.61,39703.09,38823.04,33436.59,32167.23,40724.52,37394.9,34172.38,31358.04,36482.93,37047.49,35561.29,30320.41,30023.13,36644.98,37639.31,40044.91,29166.73,37707.5,37686.0,34151.42,29976.37,35049.26,36981.11,36733.72,32002.54,33473.25,38745.38,38407.78,32622.65,35314.89,40962.41,36554.07,34402.49,32306.41,37558.68,37634.44,35798.96,34412.58,36918.07,40069.6,40683.18,33754.43,33889.59,43995.15,38504.79,34958.1,31575.8,36222.9,40136.61,38837.77,32858.35,36432.05,43039.76,39216.22,36362.41,32971.82,40500.26,39844.82,36028.46,32830.52,10891.37,16309.73,12087.95,10871.74,10903.65,10819.46,11323.78,10063.69,14740.14,12217.58,10791.63,10156.01,9845.35,10972.91,12519.08,10477.58,10033.06,10994.44,10784.84,9805.78,11254.16,10139.42,10987.53,10391.77,9980.29,9643.04,10210.44,11488.27,10160.03,9216.01,10282.67,11125.38,10745.44,10779.14,10344.16,11414.81,11695.24,11710.03,12769.66,11084.68,11433.3,14059.26,17693.74,10262.38,14341.46,18101.81,16795.07,8705.87,9419.13,10914.54,10329.78,9101.75,11197.76,16060.11,13337.39,11445.78,11387.59,12355.33,12520.13,11336.94,11309.14,11474.46,12431.67,14009.56,11362.0,10564.03,13523.34,10650.51,12147.76,10403.06,9471.15,9135.7,9909.7,8283.28,10753.17,9565.83,9682.59,9680.43,10252.87,11003.31,11210.22,9876.7,10663.12,11580.27,11911.48,11316.28,10068.83,12081.32,12238.54,12644.64,12359.3,13026.08,12744.28,13327.82,19452.26,11509.66,14921.54,20732.04,18987.35,10806.26,11552.43,11706.34,11112.01,10648.56,13364.03,16837.3,14590.46,11967.5,11906.88,13120.2,11424.42,12195.3,11870.69,16382.88,13146.9,11834.87,11683.76,11625.96,12940.0,13567.25,12080.85,11368.62,11737.35,12047.16,11613.22,9799.44,13148.0,11517.66,11847.91,10173.51,10781.49,11493.61,12271.6,10722.99,10194.55,11544.63,11646.84,11034.2,10857.27,13434.95,12861.92,13110.24,12702.86,0.01,380.0,50.0,230.0,50.0,50.0,510.0,120.0,20.0,40.0,2400.0,435.0,1310.0,1860.0,400.0,330.0,1070.0,600.0,100.0,130.0,140.0,20.0,50.0,240.0,35.0,0.02,0.01,0.04,20.0,0.02,0.06,0.07,20.06,0.05,0.03,635.0,80.0],\"yaxis\":\"y\",\"type\":\"bar\"}],                        {\"template\":{\"data\":{\"histogram2dcontour\":[{\"type\":\"histogram2dcontour\",\"colorbar\":{\"outlinewidth\":0,\"ticks\":\"\"},\"colorscale\":[[0.0,\"#0d0887\"],[0.1111111111111111,\"#46039f\"],[0.2222222222222222,\"#7201a8\"],[0.3333333333333333,\"#9c179e\"],[0.4444444444444444,\"#bd3786\"],[0.5555555555555556,\"#d8576b\"],[0.6666666666666666,\"#ed7953\"],[0.7777777777777778,\"#fb9f3a\"],[0.8888888888888888,\"#fdca26\"],[1.0,\"#f0f921\"]]}],\"choropleth\":[{\"type\":\"choropleth\",\"colorbar\":{\"outlinewidth\":0,\"ticks\":\"\"}}],\"histogram2d\":[{\"type\":\"histogram2d\",\"colorbar\":{\"outlinewidth\":0,\"ticks\":\"\"},\"colorscale\":[[0.0,\"#0d0887\"],[0.1111111111111111,\"#46039f\"],[0.2222222222222222,\"#7201a8\"],[0.3333333333333333,\"#9c179e\"],[0.4444444444444444,\"#bd3786\"],[0.5555555555555556,\"#d8576b\"],[0.6666666666666666,\"#ed7953\"],[0.7777777777777778,\"#fb9f3a\"],[0.8888888888888888,\"#fdca26\"],[1.0,\"#f0f921\"]]}],\"heatmap\":[{\"type\":\"heatmap\",\"colorbar\":{\"outlinewidth\":0,\"ticks\":\"\"},\"colorscale\":[[0.0,\"#0d0887\"],[0.1111111111111111,\"#46039f\"],[0.2222222222222222,\"#7201a8\"],[0.3333333333333333,\"#9c179e\"],[0.4444444444444444,\"#bd3786\"],[0.5555555555555556,\"#d8576b\"],[0.6666666666666666,\"#ed7953\"],[0.7777777777777778,\"#fb9f3a\"],[0.8888888888888888,\"#fdca26\"],[1.0,\"#f0f921\"]]}],\"heatmapgl\":[{\"type\":\"heatmapgl\",\"colorbar\":{\"outlinewidth\":0,\"ticks\":\"\"},\"colorscale\":[[0.0,\"#0d0887\"],[0.1111111111111111,\"#46039f\"],[0.2222222222222222,\"#7201a8\"],[0.3333333333333333,\"#9c179e\"],[0.4444444444444444,\"#bd3786\"],[0.5555555555555556,\"#d8576b\"],[0.6666666666666666,\"#ed7953\"],[0.7777777777777778,\"#fb9f3a\"],[0.8888888888888888,\"#fdca26\"],[1.0,\"#f0f921\"]]}],\"contourcarpet\":[{\"type\":\"contourcarpet\",\"colorbar\":{\"outlinewidth\":0,\"ticks\":\"\"}}],\"contour\":[{\"type\":\"contour\",\"colorbar\":{\"outlinewidth\":0,\"ticks\":\"\"},\"colorscale\":[[0.0,\"#0d0887\"],[0.1111111111111111,\"#46039f\"],[0.2222222222222222,\"#7201a8\"],[0.3333333333333333,\"#9c179e\"],[0.4444444444444444,\"#bd3786\"],[0.5555555555555556,\"#d8576b\"],[0.6666666666666666,\"#ed7953\"],[0.7777777777777778,\"#fb9f3a\"],[0.8888888888888888,\"#fdca26\"],[1.0,\"#f0f921\"]]}],\"surface\":[{\"type\":\"surface\",\"colorbar\":{\"outlinewidth\":0,\"ticks\":\"\"},\"colorscale\":[[0.0,\"#0d0887\"],[0.1111111111111111,\"#46039f\"],[0.2222222222222222,\"#7201a8\"],[0.3333333333333333,\"#9c179e\"],[0.4444444444444444,\"#bd3786\"],[0.5555555555555556,\"#d8576b\"],[0.6666666666666666,\"#ed7953\"],[0.7777777777777778,\"#fb9f3a\"],[0.8888888888888888,\"#fdca26\"],[1.0,\"#f0f921\"]]}],\"mesh3d\":[{\"type\":\"mesh3d\",\"colorbar\":{\"outlinewidth\":0,\"ticks\":\"\"}}],\"scatter\":[{\"fillpattern\":{\"fillmode\":\"overlay\",\"size\":10,\"solidity\":0.2},\"type\":\"scatter\"}],\"parcoords\":[{\"type\":\"parcoords\",\"line\":{\"colorbar\":{\"outlinewidth\":0,\"ticks\":\"\"}}}],\"scatterpolargl\":[{\"type\":\"scatterpolargl\",\"marker\":{\"colorbar\":{\"outlinewidth\":0,\"ticks\":\"\"}}}],\"bar\":[{\"error_x\":{\"color\":\"#2a3f5f\"},\"error_y\":{\"color\":\"#2a3f5f\"},\"marker\":{\"line\":{\"color\":\"#E5ECF6\",\"width\":0.5},\"pattern\":{\"fillmode\":\"overlay\",\"size\":10,\"solidity\":0.2}},\"type\":\"bar\"}],\"scattergeo\":[{\"type\":\"scattergeo\",\"marker\":{\"colorbar\":{\"outlinewidth\":0,\"ticks\":\"\"}}}],\"scatterpolar\":[{\"type\":\"scatterpolar\",\"marker\":{\"colorbar\":{\"outlinewidth\":0,\"ticks\":\"\"}}}],\"histogram\":[{\"marker\":{\"pattern\":{\"fillmode\":\"overlay\",\"size\":10,\"solidity\":0.2}},\"type\":\"histogram\"}],\"scattergl\":[{\"type\":\"scattergl\",\"marker\":{\"colorbar\":{\"outlinewidth\":0,\"ticks\":\"\"}}}],\"scatter3d\":[{\"type\":\"scatter3d\",\"line\":{\"colorbar\":{\"outlinewidth\":0,\"ticks\":\"\"}},\"marker\":{\"colorbar\":{\"outlinewidth\":0,\"ticks\":\"\"}}}],\"scattermapbox\":[{\"type\":\"scattermapbox\",\"marker\":{\"colorbar\":{\"outlinewidth\":0,\"ticks\":\"\"}}}],\"scatterternary\":[{\"type\":\"scatterternary\",\"marker\":{\"colorbar\":{\"outlinewidth\":0,\"ticks\":\"\"}}}],\"scattercarpet\":[{\"type\":\"scattercarpet\",\"marker\":{\"colorbar\":{\"outlinewidth\":0,\"ticks\":\"\"}}}],\"carpet\":[{\"aaxis\":{\"endlinecolor\":\"#2a3f5f\",\"gridcolor\":\"white\",\"linecolor\":\"white\",\"minorgridcolor\":\"white\",\"startlinecolor\":\"#2a3f5f\"},\"baxis\":{\"endlinecolor\":\"#2a3f5f\",\"gridcolor\":\"white\",\"linecolor\":\"white\",\"minorgridcolor\":\"white\",\"startlinecolor\":\"#2a3f5f\"},\"type\":\"carpet\"}],\"table\":[{\"cells\":{\"fill\":{\"color\":\"#EBF0F8\"},\"line\":{\"color\":\"white\"}},\"header\":{\"fill\":{\"color\":\"#C8D4E3\"},\"line\":{\"color\":\"white\"}},\"type\":\"table\"}],\"barpolar\":[{\"marker\":{\"line\":{\"color\":\"#E5ECF6\",\"width\":0.5},\"pattern\":{\"fillmode\":\"overlay\",\"size\":10,\"solidity\":0.2}},\"type\":\"barpolar\"}],\"pie\":[{\"automargin\":true,\"type\":\"pie\"}]},\"layout\":{\"autotypenumbers\":\"strict\",\"colorway\":[\"#636efa\",\"#EF553B\",\"#00cc96\",\"#ab63fa\",\"#FFA15A\",\"#19d3f3\",\"#FF6692\",\"#B6E880\",\"#FF97FF\",\"#FECB52\"],\"font\":{\"color\":\"#2a3f5f\"},\"hovermode\":\"closest\",\"hoverlabel\":{\"align\":\"left\"},\"paper_bgcolor\":\"white\",\"plot_bgcolor\":\"#E5ECF6\",\"polar\":{\"bgcolor\":\"#E5ECF6\",\"angularaxis\":{\"gridcolor\":\"white\",\"linecolor\":\"white\",\"ticks\":\"\"},\"radialaxis\":{\"gridcolor\":\"white\",\"linecolor\":\"white\",\"ticks\":\"\"}},\"ternary\":{\"bgcolor\":\"#E5ECF6\",\"aaxis\":{\"gridcolor\":\"white\",\"linecolor\":\"white\",\"ticks\":\"\"},\"baxis\":{\"gridcolor\":\"white\",\"linecolor\":\"white\",\"ticks\":\"\"},\"caxis\":{\"gridcolor\":\"white\",\"linecolor\":\"white\",\"ticks\":\"\"}},\"coloraxis\":{\"colorbar\":{\"outlinewidth\":0,\"ticks\":\"\"}},\"colorscale\":{\"sequential\":[[0.0,\"#0d0887\"],[0.1111111111111111,\"#46039f\"],[0.2222222222222222,\"#7201a8\"],[0.3333333333333333,\"#9c179e\"],[0.4444444444444444,\"#bd3786\"],[0.5555555555555556,\"#d8576b\"],[0.6666666666666666,\"#ed7953\"],[0.7777777777777778,\"#fb9f3a\"],[0.8888888888888888,\"#fdca26\"],[1.0,\"#f0f921\"]],\"sequentialminus\":[[0.0,\"#0d0887\"],[0.1111111111111111,\"#46039f\"],[0.2222222222222222,\"#7201a8\"],[0.3333333333333333,\"#9c179e\"],[0.4444444444444444,\"#bd3786\"],[0.5555555555555556,\"#d8576b\"],[0.6666666666666666,\"#ed7953\"],[0.7777777777777778,\"#fb9f3a\"],[0.8888888888888888,\"#fdca26\"],[1.0,\"#f0f921\"]],\"diverging\":[[0,\"#8e0152\"],[0.1,\"#c51b7d\"],[0.2,\"#de77ae\"],[0.3,\"#f1b6da\"],[0.4,\"#fde0ef\"],[0.5,\"#f7f7f7\"],[0.6,\"#e6f5d0\"],[0.7,\"#b8e186\"],[0.8,\"#7fbc41\"],[0.9,\"#4d9221\"],[1,\"#276419\"]]},\"xaxis\":{\"gridcolor\":\"white\",\"linecolor\":\"white\",\"ticks\":\"\",\"title\":{\"standoff\":15},\"zerolinecolor\":\"white\",\"automargin\":true,\"zerolinewidth\":2},\"yaxis\":{\"gridcolor\":\"white\",\"linecolor\":\"white\",\"ticks\":\"\",\"title\":{\"standoff\":15},\"zerolinecolor\":\"white\",\"automargin\":true,\"zerolinewidth\":2},\"scene\":{\"xaxis\":{\"backgroundcolor\":\"#E5ECF6\",\"gridcolor\":\"white\",\"linecolor\":\"white\",\"showbackground\":true,\"ticks\":\"\",\"zerolinecolor\":\"white\",\"gridwidth\":2},\"yaxis\":{\"backgroundcolor\":\"#E5ECF6\",\"gridcolor\":\"white\",\"linecolor\":\"white\",\"showbackground\":true,\"ticks\":\"\",\"zerolinecolor\":\"white\",\"gridwidth\":2},\"zaxis\":{\"backgroundcolor\":\"#E5ECF6\",\"gridcolor\":\"white\",\"linecolor\":\"white\",\"showbackground\":true,\"ticks\":\"\",\"zerolinecolor\":\"white\",\"gridwidth\":2}},\"shapedefaults\":{\"line\":{\"color\":\"#2a3f5f\"}},\"annotationdefaults\":{\"arrowcolor\":\"#2a3f5f\",\"arrowhead\":0,\"arrowwidth\":1},\"geo\":{\"bgcolor\":\"white\",\"landcolor\":\"#E5ECF6\",\"subunitcolor\":\"white\",\"showland\":true,\"showlakes\":true,\"lakecolor\":\"white\"},\"title\":{\"x\":0.05},\"mapbox\":{\"style\":\"light\"}}},\"xaxis\":{\"anchor\":\"y\",\"domain\":[0.0,1.0],\"title\":{\"text\":\"Date\"}},\"yaxis\":{\"anchor\":\"x\",\"domain\":[0.0,1.0],\"title\":{\"text\":\"Weekly_Sales\"}},\"legend\":{\"tracegroupgap\":0},\"margin\":{\"t\":60},\"barmode\":\"relative\"},                        {\"responsive\": true}                    ).then(function(){\n",
              "                            \n",
              "var gd = document.getElementById('10e7bcd1-bf27-45ef-aaff-381629cceab4');\n",
              "var x = new MutationObserver(function (mutations, observer) {{\n",
              "        var display = window.getComputedStyle(gd).display;\n",
              "        if (!display || display === 'none') {{\n",
              "            console.log([gd, 'removed!']);\n",
              "            Plotly.purge(gd);\n",
              "            observer.disconnect();\n",
              "        }}\n",
              "}});\n",
              "\n",
              "// Listen for the removal of the full notebook cells\n",
              "var notebookContainer = gd.closest('#notebook-container');\n",
              "if (notebookContainer) {{\n",
              "    x.observe(notebookContainer, {childList: true});\n",
              "}}\n",
              "\n",
              "// Listen for the clearing of the current output cell\n",
              "var outputEl = gd.closest('.output');\n",
              "if (outputEl) {{\n",
              "    x.observe(outputEl, {childList: true});\n",
              "}}\n",
              "\n",
              "                        })                };                            </script>        </div>\n",
              "</body>\n",
              "</html>"
            ]
          },
          "metadata": {}
        }
      ]
    },
    {
      "cell_type": "markdown",
      "source": [
        "Lets see how it looks like for a specific department"
      ],
      "metadata": {
        "id": "NFxwn1QGFGji"
      }
    },
    {
      "cell_type": "code",
      "source": [
        "query_dept_id = 1\n",
        "store_dept_x = store_x[store_x.Dept == query_dept_id]"
      ],
      "metadata": {
        "id": "WY6m_z1NSbQa"
      },
      "execution_count": 38,
      "outputs": []
    },
    {
      "cell_type": "code",
      "source": [
        "fig = px.bar(store_dept_x, x='Date', y='Weekly_Sales')\n",
        "fig.show()"
      ],
      "metadata": {
        "colab": {
          "base_uri": "https://localhost:8080/",
          "height": 631
        },
        "id": "2vg3X-jbT4BE",
        "outputId": "f378d288-0460-411a-e5f0-bdb21c87f5b2"
      },
      "execution_count": 39,
      "outputs": [
        {
          "output_type": "stream",
          "name": "stderr",
          "text": [
            "/usr/local/lib/python3.10/dist-packages/_plotly_utils/basevalidators.py:105: FutureWarning:\n",
            "\n",
            "The behavior of DatetimeProperties.to_pydatetime is deprecated, in a future version this will return a Series containing python datetime objects instead of an ndarray. To retain the old behavior, call `np.array` on the result\n",
            "\n"
          ]
        },
        {
          "output_type": "display_data",
          "data": {
            "text/html": [
              "<html>\n",
              "<head><meta charset=\"utf-8\" /></head>\n",
              "<body>\n",
              "    <div>            <script src=\"https://cdnjs.cloudflare.com/ajax/libs/mathjax/2.7.5/MathJax.js?config=TeX-AMS-MML_SVG\"></script><script type=\"text/javascript\">if (window.MathJax && window.MathJax.Hub && window.MathJax.Hub.Config) {window.MathJax.Hub.Config({SVG: {font: \"STIX-Web\"}});}</script>                <script type=\"text/javascript\">window.PlotlyConfig = {MathJaxConfig: 'local'};</script>\n",
              "        <script charset=\"utf-8\" src=\"https://cdn.plot.ly/plotly-2.24.1.min.js\"></script>                <div id=\"5198927e-9811-4d20-b5af-407f1b02be5f\" class=\"plotly-graph-div\" style=\"height:525px; width:100%;\"></div>            <script type=\"text/javascript\">                                    window.PLOTLYENV=window.PLOTLYENV || {};                                    if (document.getElementById(\"5198927e-9811-4d20-b5af-407f1b02be5f\")) {                    Plotly.newPlot(                        \"5198927e-9811-4d20-b5af-407f1b02be5f\",                        [{\"alignmentgroup\":\"True\",\"hovertemplate\":\"Date=%{x}\\u003cbr\\u003eWeekly_Sales=%{y}\\u003cextra\\u003e\\u003c\\u002fextra\\u003e\",\"legendgroup\":\"\",\"marker\":{\"color\":\"#636efa\",\"pattern\":{\"shape\":\"\"}},\"name\":\"\",\"offsetgroup\":\"\",\"orientation\":\"v\",\"showlegend\":false,\"textposition\":\"auto\",\"x\":[\"2010-02-05T00:00:00\",\"2010-02-12T00:00:00\",\"2010-02-19T00:00:00\",\"2010-02-26T00:00:00\",\"2010-03-05T00:00:00\",\"2010-03-12T00:00:00\",\"2010-03-19T00:00:00\",\"2010-03-26T00:00:00\",\"2010-04-02T00:00:00\",\"2010-04-09T00:00:00\",\"2010-04-16T00:00:00\",\"2010-04-23T00:00:00\",\"2010-04-30T00:00:00\",\"2010-05-07T00:00:00\",\"2010-05-14T00:00:00\",\"2010-05-21T00:00:00\",\"2010-05-28T00:00:00\",\"2010-06-04T00:00:00\",\"2010-06-11T00:00:00\",\"2010-06-18T00:00:00\",\"2010-06-25T00:00:00\",\"2010-07-02T00:00:00\",\"2010-07-09T00:00:00\",\"2010-07-16T00:00:00\",\"2010-07-23T00:00:00\",\"2010-07-30T00:00:00\",\"2010-08-06T00:00:00\",\"2010-08-13T00:00:00\",\"2010-08-20T00:00:00\",\"2010-08-27T00:00:00\",\"2010-09-03T00:00:00\",\"2010-09-10T00:00:00\",\"2010-09-17T00:00:00\",\"2010-09-24T00:00:00\",\"2010-10-01T00:00:00\",\"2010-10-08T00:00:00\",\"2010-10-15T00:00:00\",\"2010-10-22T00:00:00\",\"2010-10-29T00:00:00\",\"2010-11-05T00:00:00\",\"2010-11-12T00:00:00\",\"2010-11-19T00:00:00\",\"2010-11-26T00:00:00\",\"2010-12-03T00:00:00\",\"2010-12-10T00:00:00\",\"2010-12-17T00:00:00\",\"2010-12-24T00:00:00\",\"2010-12-31T00:00:00\",\"2011-01-07T00:00:00\",\"2011-01-14T00:00:00\",\"2011-01-21T00:00:00\",\"2011-01-28T00:00:00\",\"2011-02-04T00:00:00\",\"2011-02-11T00:00:00\",\"2011-02-18T00:00:00\",\"2011-02-25T00:00:00\",\"2011-03-04T00:00:00\",\"2011-03-11T00:00:00\",\"2011-03-18T00:00:00\",\"2011-03-25T00:00:00\",\"2011-04-01T00:00:00\",\"2011-04-08T00:00:00\",\"2011-04-15T00:00:00\",\"2011-04-22T00:00:00\",\"2011-04-29T00:00:00\",\"2011-05-06T00:00:00\",\"2011-05-13T00:00:00\",\"2011-05-20T00:00:00\",\"2011-05-27T00:00:00\",\"2011-06-03T00:00:00\",\"2011-06-10T00:00:00\",\"2011-06-17T00:00:00\",\"2011-06-24T00:00:00\",\"2011-07-01T00:00:00\",\"2011-07-08T00:00:00\",\"2011-07-15T00:00:00\",\"2011-07-22T00:00:00\",\"2011-07-29T00:00:00\",\"2011-08-05T00:00:00\",\"2011-08-12T00:00:00\",\"2011-08-19T00:00:00\",\"2011-08-26T00:00:00\",\"2011-09-02T00:00:00\",\"2011-09-09T00:00:00\",\"2011-09-16T00:00:00\",\"2011-09-23T00:00:00\",\"2011-09-30T00:00:00\",\"2011-10-07T00:00:00\",\"2011-10-14T00:00:00\",\"2011-10-21T00:00:00\",\"2011-10-28T00:00:00\",\"2011-11-04T00:00:00\",\"2011-11-11T00:00:00\",\"2011-11-18T00:00:00\",\"2011-11-25T00:00:00\",\"2011-12-02T00:00:00\",\"2011-12-09T00:00:00\",\"2011-12-16T00:00:00\",\"2011-12-23T00:00:00\",\"2011-12-30T00:00:00\",\"2012-01-06T00:00:00\",\"2012-01-13T00:00:00\",\"2012-01-20T00:00:00\",\"2012-01-27T00:00:00\",\"2012-02-03T00:00:00\",\"2012-02-10T00:00:00\",\"2012-02-17T00:00:00\",\"2012-02-24T00:00:00\",\"2012-03-02T00:00:00\",\"2012-03-09T00:00:00\",\"2012-03-16T00:00:00\",\"2012-03-23T00:00:00\",\"2012-03-30T00:00:00\",\"2012-04-06T00:00:00\",\"2012-04-13T00:00:00\",\"2012-04-20T00:00:00\",\"2012-04-27T00:00:00\",\"2012-05-04T00:00:00\",\"2012-05-11T00:00:00\",\"2012-05-18T00:00:00\",\"2012-05-25T00:00:00\",\"2012-06-01T00:00:00\",\"2012-06-08T00:00:00\",\"2012-06-15T00:00:00\",\"2012-06-22T00:00:00\",\"2012-06-29T00:00:00\",\"2012-07-06T00:00:00\",\"2012-07-13T00:00:00\",\"2012-07-20T00:00:00\",\"2012-07-27T00:00:00\",\"2012-08-03T00:00:00\",\"2012-08-10T00:00:00\",\"2012-08-17T00:00:00\",\"2012-08-24T00:00:00\",\"2012-08-31T00:00:00\",\"2012-09-07T00:00:00\",\"2012-09-14T00:00:00\",\"2012-09-21T00:00:00\",\"2012-09-28T00:00:00\",\"2012-10-05T00:00:00\",\"2012-10-12T00:00:00\",\"2012-10-19T00:00:00\",\"2012-10-26T00:00:00\"],\"xaxis\":\"x\",\"y\":[24924.5,46039.49,41595.55,19403.54,21827.9,21043.39,22136.64,26229.21,57258.43,42960.91,17596.96,16145.35,16555.11,17413.94,18926.74,14773.04,15580.43,17558.09,16637.62,16216.27,16328.72,16333.14,17688.76,17150.84,15360.45,15381.82,17508.41,15536.4,15740.13,15793.87,16241.78,18194.74,19354.23,18122.52,20094.19,23388.03,26978.34,25543.04,38640.93,34238.88,19549.39,19552.84,18820.29,22517.56,31497.65,44912.86,55931.23,19124.58,15984.24,17359.7,17341.47,18461.18,21665.76,37887.17,46845.87,19363.83,20327.61,21280.4,20334.23,20881.1,20398.09,23873.79,28762.37,50510.31,41512.39,20138.19,17235.15,15136.78,15741.6,16434.15,15883.52,14978.09,15682.81,15363.5,16148.87,15654.85,15766.6,15922.41,15295.55,14539.79,14689.24,14537.37,15277.27,17746.68,18535.48,17859.3,18337.68,20797.58,23077.55,23351.8,31579.9,39886.06,18689.54,19050.66,20911.25,25293.49,33305.92,45773.03,46788.75,23350.88,16567.69,16894.4,18365.1,18378.16,23510.49,36988.49,54060.1,20124.22,20113.03,21140.07,22366.88,22107.7,28952.86,57592.12,34684.21,16976.19,16347.6,17147.44,18164.2,18517.79,16963.55,16065.49,17666.0,17558.82,16633.41,15722.82,17823.37,16566.18,16348.06,15731.18,16628.31,16119.92,17330.7,16286.4,16680.24,18322.37,19616.22,19251.5,18947.81,21904.47,22764.01,24185.27,27390.81],\"yaxis\":\"y\",\"type\":\"bar\"}],                        {\"template\":{\"data\":{\"histogram2dcontour\":[{\"type\":\"histogram2dcontour\",\"colorbar\":{\"outlinewidth\":0,\"ticks\":\"\"},\"colorscale\":[[0.0,\"#0d0887\"],[0.1111111111111111,\"#46039f\"],[0.2222222222222222,\"#7201a8\"],[0.3333333333333333,\"#9c179e\"],[0.4444444444444444,\"#bd3786\"],[0.5555555555555556,\"#d8576b\"],[0.6666666666666666,\"#ed7953\"],[0.7777777777777778,\"#fb9f3a\"],[0.8888888888888888,\"#fdca26\"],[1.0,\"#f0f921\"]]}],\"choropleth\":[{\"type\":\"choropleth\",\"colorbar\":{\"outlinewidth\":0,\"ticks\":\"\"}}],\"histogram2d\":[{\"type\":\"histogram2d\",\"colorbar\":{\"outlinewidth\":0,\"ticks\":\"\"},\"colorscale\":[[0.0,\"#0d0887\"],[0.1111111111111111,\"#46039f\"],[0.2222222222222222,\"#7201a8\"],[0.3333333333333333,\"#9c179e\"],[0.4444444444444444,\"#bd3786\"],[0.5555555555555556,\"#d8576b\"],[0.6666666666666666,\"#ed7953\"],[0.7777777777777778,\"#fb9f3a\"],[0.8888888888888888,\"#fdca26\"],[1.0,\"#f0f921\"]]}],\"heatmap\":[{\"type\":\"heatmap\",\"colorbar\":{\"outlinewidth\":0,\"ticks\":\"\"},\"colorscale\":[[0.0,\"#0d0887\"],[0.1111111111111111,\"#46039f\"],[0.2222222222222222,\"#7201a8\"],[0.3333333333333333,\"#9c179e\"],[0.4444444444444444,\"#bd3786\"],[0.5555555555555556,\"#d8576b\"],[0.6666666666666666,\"#ed7953\"],[0.7777777777777778,\"#fb9f3a\"],[0.8888888888888888,\"#fdca26\"],[1.0,\"#f0f921\"]]}],\"heatmapgl\":[{\"type\":\"heatmapgl\",\"colorbar\":{\"outlinewidth\":0,\"ticks\":\"\"},\"colorscale\":[[0.0,\"#0d0887\"],[0.1111111111111111,\"#46039f\"],[0.2222222222222222,\"#7201a8\"],[0.3333333333333333,\"#9c179e\"],[0.4444444444444444,\"#bd3786\"],[0.5555555555555556,\"#d8576b\"],[0.6666666666666666,\"#ed7953\"],[0.7777777777777778,\"#fb9f3a\"],[0.8888888888888888,\"#fdca26\"],[1.0,\"#f0f921\"]]}],\"contourcarpet\":[{\"type\":\"contourcarpet\",\"colorbar\":{\"outlinewidth\":0,\"ticks\":\"\"}}],\"contour\":[{\"type\":\"contour\",\"colorbar\":{\"outlinewidth\":0,\"ticks\":\"\"},\"colorscale\":[[0.0,\"#0d0887\"],[0.1111111111111111,\"#46039f\"],[0.2222222222222222,\"#7201a8\"],[0.3333333333333333,\"#9c179e\"],[0.4444444444444444,\"#bd3786\"],[0.5555555555555556,\"#d8576b\"],[0.6666666666666666,\"#ed7953\"],[0.7777777777777778,\"#fb9f3a\"],[0.8888888888888888,\"#fdca26\"],[1.0,\"#f0f921\"]]}],\"surface\":[{\"type\":\"surface\",\"colorbar\":{\"outlinewidth\":0,\"ticks\":\"\"},\"colorscale\":[[0.0,\"#0d0887\"],[0.1111111111111111,\"#46039f\"],[0.2222222222222222,\"#7201a8\"],[0.3333333333333333,\"#9c179e\"],[0.4444444444444444,\"#bd3786\"],[0.5555555555555556,\"#d8576b\"],[0.6666666666666666,\"#ed7953\"],[0.7777777777777778,\"#fb9f3a\"],[0.8888888888888888,\"#fdca26\"],[1.0,\"#f0f921\"]]}],\"mesh3d\":[{\"type\":\"mesh3d\",\"colorbar\":{\"outlinewidth\":0,\"ticks\":\"\"}}],\"scatter\":[{\"fillpattern\":{\"fillmode\":\"overlay\",\"size\":10,\"solidity\":0.2},\"type\":\"scatter\"}],\"parcoords\":[{\"type\":\"parcoords\",\"line\":{\"colorbar\":{\"outlinewidth\":0,\"ticks\":\"\"}}}],\"scatterpolargl\":[{\"type\":\"scatterpolargl\",\"marker\":{\"colorbar\":{\"outlinewidth\":0,\"ticks\":\"\"}}}],\"bar\":[{\"error_x\":{\"color\":\"#2a3f5f\"},\"error_y\":{\"color\":\"#2a3f5f\"},\"marker\":{\"line\":{\"color\":\"#E5ECF6\",\"width\":0.5},\"pattern\":{\"fillmode\":\"overlay\",\"size\":10,\"solidity\":0.2}},\"type\":\"bar\"}],\"scattergeo\":[{\"type\":\"scattergeo\",\"marker\":{\"colorbar\":{\"outlinewidth\":0,\"ticks\":\"\"}}}],\"scatterpolar\":[{\"type\":\"scatterpolar\",\"marker\":{\"colorbar\":{\"outlinewidth\":0,\"ticks\":\"\"}}}],\"histogram\":[{\"marker\":{\"pattern\":{\"fillmode\":\"overlay\",\"size\":10,\"solidity\":0.2}},\"type\":\"histogram\"}],\"scattergl\":[{\"type\":\"scattergl\",\"marker\":{\"colorbar\":{\"outlinewidth\":0,\"ticks\":\"\"}}}],\"scatter3d\":[{\"type\":\"scatter3d\",\"line\":{\"colorbar\":{\"outlinewidth\":0,\"ticks\":\"\"}},\"marker\":{\"colorbar\":{\"outlinewidth\":0,\"ticks\":\"\"}}}],\"scattermapbox\":[{\"type\":\"scattermapbox\",\"marker\":{\"colorbar\":{\"outlinewidth\":0,\"ticks\":\"\"}}}],\"scatterternary\":[{\"type\":\"scatterternary\",\"marker\":{\"colorbar\":{\"outlinewidth\":0,\"ticks\":\"\"}}}],\"scattercarpet\":[{\"type\":\"scattercarpet\",\"marker\":{\"colorbar\":{\"outlinewidth\":0,\"ticks\":\"\"}}}],\"carpet\":[{\"aaxis\":{\"endlinecolor\":\"#2a3f5f\",\"gridcolor\":\"white\",\"linecolor\":\"white\",\"minorgridcolor\":\"white\",\"startlinecolor\":\"#2a3f5f\"},\"baxis\":{\"endlinecolor\":\"#2a3f5f\",\"gridcolor\":\"white\",\"linecolor\":\"white\",\"minorgridcolor\":\"white\",\"startlinecolor\":\"#2a3f5f\"},\"type\":\"carpet\"}],\"table\":[{\"cells\":{\"fill\":{\"color\":\"#EBF0F8\"},\"line\":{\"color\":\"white\"}},\"header\":{\"fill\":{\"color\":\"#C8D4E3\"},\"line\":{\"color\":\"white\"}},\"type\":\"table\"}],\"barpolar\":[{\"marker\":{\"line\":{\"color\":\"#E5ECF6\",\"width\":0.5},\"pattern\":{\"fillmode\":\"overlay\",\"size\":10,\"solidity\":0.2}},\"type\":\"barpolar\"}],\"pie\":[{\"automargin\":true,\"type\":\"pie\"}]},\"layout\":{\"autotypenumbers\":\"strict\",\"colorway\":[\"#636efa\",\"#EF553B\",\"#00cc96\",\"#ab63fa\",\"#FFA15A\",\"#19d3f3\",\"#FF6692\",\"#B6E880\",\"#FF97FF\",\"#FECB52\"],\"font\":{\"color\":\"#2a3f5f\"},\"hovermode\":\"closest\",\"hoverlabel\":{\"align\":\"left\"},\"paper_bgcolor\":\"white\",\"plot_bgcolor\":\"#E5ECF6\",\"polar\":{\"bgcolor\":\"#E5ECF6\",\"angularaxis\":{\"gridcolor\":\"white\",\"linecolor\":\"white\",\"ticks\":\"\"},\"radialaxis\":{\"gridcolor\":\"white\",\"linecolor\":\"white\",\"ticks\":\"\"}},\"ternary\":{\"bgcolor\":\"#E5ECF6\",\"aaxis\":{\"gridcolor\":\"white\",\"linecolor\":\"white\",\"ticks\":\"\"},\"baxis\":{\"gridcolor\":\"white\",\"linecolor\":\"white\",\"ticks\":\"\"},\"caxis\":{\"gridcolor\":\"white\",\"linecolor\":\"white\",\"ticks\":\"\"}},\"coloraxis\":{\"colorbar\":{\"outlinewidth\":0,\"ticks\":\"\"}},\"colorscale\":{\"sequential\":[[0.0,\"#0d0887\"],[0.1111111111111111,\"#46039f\"],[0.2222222222222222,\"#7201a8\"],[0.3333333333333333,\"#9c179e\"],[0.4444444444444444,\"#bd3786\"],[0.5555555555555556,\"#d8576b\"],[0.6666666666666666,\"#ed7953\"],[0.7777777777777778,\"#fb9f3a\"],[0.8888888888888888,\"#fdca26\"],[1.0,\"#f0f921\"]],\"sequentialminus\":[[0.0,\"#0d0887\"],[0.1111111111111111,\"#46039f\"],[0.2222222222222222,\"#7201a8\"],[0.3333333333333333,\"#9c179e\"],[0.4444444444444444,\"#bd3786\"],[0.5555555555555556,\"#d8576b\"],[0.6666666666666666,\"#ed7953\"],[0.7777777777777778,\"#fb9f3a\"],[0.8888888888888888,\"#fdca26\"],[1.0,\"#f0f921\"]],\"diverging\":[[0,\"#8e0152\"],[0.1,\"#c51b7d\"],[0.2,\"#de77ae\"],[0.3,\"#f1b6da\"],[0.4,\"#fde0ef\"],[0.5,\"#f7f7f7\"],[0.6,\"#e6f5d0\"],[0.7,\"#b8e186\"],[0.8,\"#7fbc41\"],[0.9,\"#4d9221\"],[1,\"#276419\"]]},\"xaxis\":{\"gridcolor\":\"white\",\"linecolor\":\"white\",\"ticks\":\"\",\"title\":{\"standoff\":15},\"zerolinecolor\":\"white\",\"automargin\":true,\"zerolinewidth\":2},\"yaxis\":{\"gridcolor\":\"white\",\"linecolor\":\"white\",\"ticks\":\"\",\"title\":{\"standoff\":15},\"zerolinecolor\":\"white\",\"automargin\":true,\"zerolinewidth\":2},\"scene\":{\"xaxis\":{\"backgroundcolor\":\"#E5ECF6\",\"gridcolor\":\"white\",\"linecolor\":\"white\",\"showbackground\":true,\"ticks\":\"\",\"zerolinecolor\":\"white\",\"gridwidth\":2},\"yaxis\":{\"backgroundcolor\":\"#E5ECF6\",\"gridcolor\":\"white\",\"linecolor\":\"white\",\"showbackground\":true,\"ticks\":\"\",\"zerolinecolor\":\"white\",\"gridwidth\":2},\"zaxis\":{\"backgroundcolor\":\"#E5ECF6\",\"gridcolor\":\"white\",\"linecolor\":\"white\",\"showbackground\":true,\"ticks\":\"\",\"zerolinecolor\":\"white\",\"gridwidth\":2}},\"shapedefaults\":{\"line\":{\"color\":\"#2a3f5f\"}},\"annotationdefaults\":{\"arrowcolor\":\"#2a3f5f\",\"arrowhead\":0,\"arrowwidth\":1},\"geo\":{\"bgcolor\":\"white\",\"landcolor\":\"#E5ECF6\",\"subunitcolor\":\"white\",\"showland\":true,\"showlakes\":true,\"lakecolor\":\"white\"},\"title\":{\"x\":0.05},\"mapbox\":{\"style\":\"light\"}}},\"xaxis\":{\"anchor\":\"y\",\"domain\":[0.0,1.0],\"title\":{\"text\":\"Date\"}},\"yaxis\":{\"anchor\":\"x\",\"domain\":[0.0,1.0],\"title\":{\"text\":\"Weekly_Sales\"}},\"legend\":{\"tracegroupgap\":0},\"margin\":{\"t\":60},\"barmode\":\"relative\"},                        {\"responsive\": true}                    ).then(function(){\n",
              "                            \n",
              "var gd = document.getElementById('5198927e-9811-4d20-b5af-407f1b02be5f');\n",
              "var x = new MutationObserver(function (mutations, observer) {{\n",
              "        var display = window.getComputedStyle(gd).display;\n",
              "        if (!display || display === 'none') {{\n",
              "            console.log([gd, 'removed!']);\n",
              "            Plotly.purge(gd);\n",
              "            observer.disconnect();\n",
              "        }}\n",
              "}});\n",
              "\n",
              "// Listen for the removal of the full notebook cells\n",
              "var notebookContainer = gd.closest('#notebook-container');\n",
              "if (notebookContainer) {{\n",
              "    x.observe(notebookContainer, {childList: true});\n",
              "}}\n",
              "\n",
              "// Listen for the clearing of the current output cell\n",
              "var outputEl = gd.closest('.output');\n",
              "if (outputEl) {{\n",
              "    x.observe(outputEl, {childList: true});\n",
              "}}\n",
              "\n",
              "                        })                };                            </script>        </div>\n",
              "</body>\n",
              "</html>"
            ]
          },
          "metadata": {}
        }
      ]
    },
    {
      "cell_type": "markdown",
      "source": [
        "Whats the yearly sales of the selected (store, department)?"
      ],
      "metadata": {
        "id": "9fpAxb5_KB0d"
      }
    },
    {
      "cell_type": "code",
      "source": [
        "yearly_agg = store_dept_x.groupby(['Year']).agg({'Weekly_Sales': 'sum'})\n",
        "yearly_agg.head()"
      ],
      "metadata": {
        "colab": {
          "base_uri": "https://localhost:8080/",
          "height": 174
        },
        "id": "LqYZFlXeUQnb",
        "outputId": "7b5a5d08-cfcc-48f0-8d60-b65c838bf342"
      },
      "execution_count": 40,
      "outputs": [
        {
          "output_type": "execute_result",
          "data": {
            "text/plain": [
              "      Weekly_Sales\n",
              "Year              \n",
              "2010    1126348.73\n",
              "2011    1171550.80\n",
              "2012     921505.65"
            ],
            "text/html": [
              "\n",
              "  <div id=\"df-4a824b0d-5ac2-4fb2-a74f-6733b1eefa4c\" class=\"colab-df-container\">\n",
              "    <div>\n",
              "<style scoped>\n",
              "    .dataframe tbody tr th:only-of-type {\n",
              "        vertical-align: middle;\n",
              "    }\n",
              "\n",
              "    .dataframe tbody tr th {\n",
              "        vertical-align: top;\n",
              "    }\n",
              "\n",
              "    .dataframe thead th {\n",
              "        text-align: right;\n",
              "    }\n",
              "</style>\n",
              "<table border=\"1\" class=\"dataframe\">\n",
              "  <thead>\n",
              "    <tr style=\"text-align: right;\">\n",
              "      <th></th>\n",
              "      <th>Weekly_Sales</th>\n",
              "    </tr>\n",
              "    <tr>\n",
              "      <th>Year</th>\n",
              "      <th></th>\n",
              "    </tr>\n",
              "  </thead>\n",
              "  <tbody>\n",
              "    <tr>\n",
              "      <th>2010</th>\n",
              "      <td>1126348.73</td>\n",
              "    </tr>\n",
              "    <tr>\n",
              "      <th>2011</th>\n",
              "      <td>1171550.80</td>\n",
              "    </tr>\n",
              "    <tr>\n",
              "      <th>2012</th>\n",
              "      <td>921505.65</td>\n",
              "    </tr>\n",
              "  </tbody>\n",
              "</table>\n",
              "</div>\n",
              "    <div class=\"colab-df-buttons\">\n",
              "\n",
              "  <div class=\"colab-df-container\">\n",
              "    <button class=\"colab-df-convert\" onclick=\"convertToInteractive('df-4a824b0d-5ac2-4fb2-a74f-6733b1eefa4c')\"\n",
              "            title=\"Convert this dataframe to an interactive table.\"\n",
              "            style=\"display:none;\">\n",
              "\n",
              "  <svg xmlns=\"http://www.w3.org/2000/svg\" height=\"24px\" viewBox=\"0 -960 960 960\">\n",
              "    <path d=\"M120-120v-720h720v720H120Zm60-500h600v-160H180v160Zm220 220h160v-160H400v160Zm0 220h160v-160H400v160ZM180-400h160v-160H180v160Zm440 0h160v-160H620v160ZM180-180h160v-160H180v160Zm440 0h160v-160H620v160Z\"/>\n",
              "  </svg>\n",
              "    </button>\n",
              "\n",
              "  <style>\n",
              "    .colab-df-container {\n",
              "      display:flex;\n",
              "      gap: 12px;\n",
              "    }\n",
              "\n",
              "    .colab-df-convert {\n",
              "      background-color: #E8F0FE;\n",
              "      border: none;\n",
              "      border-radius: 50%;\n",
              "      cursor: pointer;\n",
              "      display: none;\n",
              "      fill: #1967D2;\n",
              "      height: 32px;\n",
              "      padding: 0 0 0 0;\n",
              "      width: 32px;\n",
              "    }\n",
              "\n",
              "    .colab-df-convert:hover {\n",
              "      background-color: #E2EBFA;\n",
              "      box-shadow: 0px 1px 2px rgba(60, 64, 67, 0.3), 0px 1px 3px 1px rgba(60, 64, 67, 0.15);\n",
              "      fill: #174EA6;\n",
              "    }\n",
              "\n",
              "    .colab-df-buttons div {\n",
              "      margin-bottom: 4px;\n",
              "    }\n",
              "\n",
              "    [theme=dark] .colab-df-convert {\n",
              "      background-color: #3B4455;\n",
              "      fill: #D2E3FC;\n",
              "    }\n",
              "\n",
              "    [theme=dark] .colab-df-convert:hover {\n",
              "      background-color: #434B5C;\n",
              "      box-shadow: 0px 1px 3px 1px rgba(0, 0, 0, 0.15);\n",
              "      filter: drop-shadow(0px 1px 2px rgba(0, 0, 0, 0.3));\n",
              "      fill: #FFFFFF;\n",
              "    }\n",
              "  </style>\n",
              "\n",
              "    <script>\n",
              "      const buttonEl =\n",
              "        document.querySelector('#df-4a824b0d-5ac2-4fb2-a74f-6733b1eefa4c button.colab-df-convert');\n",
              "      buttonEl.style.display =\n",
              "        google.colab.kernel.accessAllowed ? 'block' : 'none';\n",
              "\n",
              "      async function convertToInteractive(key) {\n",
              "        const element = document.querySelector('#df-4a824b0d-5ac2-4fb2-a74f-6733b1eefa4c');\n",
              "        const dataTable =\n",
              "          await google.colab.kernel.invokeFunction('convertToInteractive',\n",
              "                                                    [key], {});\n",
              "        if (!dataTable) return;\n",
              "\n",
              "        const docLinkHtml = 'Like what you see? Visit the ' +\n",
              "          '<a target=\"_blank\" href=https://colab.research.google.com/notebooks/data_table.ipynb>data table notebook</a>'\n",
              "          + ' to learn more about interactive tables.';\n",
              "        element.innerHTML = '';\n",
              "        dataTable['output_type'] = 'display_data';\n",
              "        await google.colab.output.renderOutput(dataTable, element);\n",
              "        const docLink = document.createElement('div');\n",
              "        docLink.innerHTML = docLinkHtml;\n",
              "        element.appendChild(docLink);\n",
              "      }\n",
              "    </script>\n",
              "  </div>\n",
              "\n",
              "\n",
              "<div id=\"df-4c26ae4f-91c5-4617-bca6-c6f72d98053f\">\n",
              "  <button class=\"colab-df-quickchart\" onclick=\"quickchart('df-4c26ae4f-91c5-4617-bca6-c6f72d98053f')\"\n",
              "            title=\"Suggest charts\"\n",
              "            style=\"display:none;\">\n",
              "\n",
              "<svg xmlns=\"http://www.w3.org/2000/svg\" height=\"24px\"viewBox=\"0 0 24 24\"\n",
              "     width=\"24px\">\n",
              "    <g>\n",
              "        <path d=\"M19 3H5c-1.1 0-2 .9-2 2v14c0 1.1.9 2 2 2h14c1.1 0 2-.9 2-2V5c0-1.1-.9-2-2-2zM9 17H7v-7h2v7zm4 0h-2V7h2v10zm4 0h-2v-4h2v4z\"/>\n",
              "    </g>\n",
              "</svg>\n",
              "  </button>\n",
              "\n",
              "<style>\n",
              "  .colab-df-quickchart {\n",
              "      --bg-color: #E8F0FE;\n",
              "      --fill-color: #1967D2;\n",
              "      --hover-bg-color: #E2EBFA;\n",
              "      --hover-fill-color: #174EA6;\n",
              "      --disabled-fill-color: #AAA;\n",
              "      --disabled-bg-color: #DDD;\n",
              "  }\n",
              "\n",
              "  [theme=dark] .colab-df-quickchart {\n",
              "      --bg-color: #3B4455;\n",
              "      --fill-color: #D2E3FC;\n",
              "      --hover-bg-color: #434B5C;\n",
              "      --hover-fill-color: #FFFFFF;\n",
              "      --disabled-bg-color: #3B4455;\n",
              "      --disabled-fill-color: #666;\n",
              "  }\n",
              "\n",
              "  .colab-df-quickchart {\n",
              "    background-color: var(--bg-color);\n",
              "    border: none;\n",
              "    border-radius: 50%;\n",
              "    cursor: pointer;\n",
              "    display: none;\n",
              "    fill: var(--fill-color);\n",
              "    height: 32px;\n",
              "    padding: 0;\n",
              "    width: 32px;\n",
              "  }\n",
              "\n",
              "  .colab-df-quickchart:hover {\n",
              "    background-color: var(--hover-bg-color);\n",
              "    box-shadow: 0 1px 2px rgba(60, 64, 67, 0.3), 0 1px 3px 1px rgba(60, 64, 67, 0.15);\n",
              "    fill: var(--button-hover-fill-color);\n",
              "  }\n",
              "\n",
              "  .colab-df-quickchart-complete:disabled,\n",
              "  .colab-df-quickchart-complete:disabled:hover {\n",
              "    background-color: var(--disabled-bg-color);\n",
              "    fill: var(--disabled-fill-color);\n",
              "    box-shadow: none;\n",
              "  }\n",
              "\n",
              "  .colab-df-spinner {\n",
              "    border: 2px solid var(--fill-color);\n",
              "    border-color: transparent;\n",
              "    border-bottom-color: var(--fill-color);\n",
              "    animation:\n",
              "      spin 1s steps(1) infinite;\n",
              "  }\n",
              "\n",
              "  @keyframes spin {\n",
              "    0% {\n",
              "      border-color: transparent;\n",
              "      border-bottom-color: var(--fill-color);\n",
              "      border-left-color: var(--fill-color);\n",
              "    }\n",
              "    20% {\n",
              "      border-color: transparent;\n",
              "      border-left-color: var(--fill-color);\n",
              "      border-top-color: var(--fill-color);\n",
              "    }\n",
              "    30% {\n",
              "      border-color: transparent;\n",
              "      border-left-color: var(--fill-color);\n",
              "      border-top-color: var(--fill-color);\n",
              "      border-right-color: var(--fill-color);\n",
              "    }\n",
              "    40% {\n",
              "      border-color: transparent;\n",
              "      border-right-color: var(--fill-color);\n",
              "      border-top-color: var(--fill-color);\n",
              "    }\n",
              "    60% {\n",
              "      border-color: transparent;\n",
              "      border-right-color: var(--fill-color);\n",
              "    }\n",
              "    80% {\n",
              "      border-color: transparent;\n",
              "      border-right-color: var(--fill-color);\n",
              "      border-bottom-color: var(--fill-color);\n",
              "    }\n",
              "    90% {\n",
              "      border-color: transparent;\n",
              "      border-bottom-color: var(--fill-color);\n",
              "    }\n",
              "  }\n",
              "</style>\n",
              "\n",
              "  <script>\n",
              "    async function quickchart(key) {\n",
              "      const quickchartButtonEl =\n",
              "        document.querySelector('#' + key + ' button');\n",
              "      quickchartButtonEl.disabled = true;  // To prevent multiple clicks.\n",
              "      quickchartButtonEl.classList.add('colab-df-spinner');\n",
              "      try {\n",
              "        const charts = await google.colab.kernel.invokeFunction(\n",
              "            'suggestCharts', [key], {});\n",
              "      } catch (error) {\n",
              "        console.error('Error during call to suggestCharts:', error);\n",
              "      }\n",
              "      quickchartButtonEl.classList.remove('colab-df-spinner');\n",
              "      quickchartButtonEl.classList.add('colab-df-quickchart-complete');\n",
              "    }\n",
              "    (() => {\n",
              "      let quickchartButtonEl =\n",
              "        document.querySelector('#df-4c26ae4f-91c5-4617-bca6-c6f72d98053f button');\n",
              "      quickchartButtonEl.style.display =\n",
              "        google.colab.kernel.accessAllowed ? 'block' : 'none';\n",
              "    })();\n",
              "  </script>\n",
              "</div>\n",
              "\n",
              "    </div>\n",
              "  </div>\n"
            ],
            "application/vnd.google.colaboratory.intrinsic+json": {
              "type": "dataframe",
              "variable_name": "yearly_agg",
              "summary": "{\n  \"name\": \"yearly_agg\",\n  \"rows\": 3,\n  \"fields\": [\n    {\n      \"column\": \"Year\",\n      \"properties\": {\n        \"dtype\": \"int32\",\n        \"num_unique_values\": 3,\n        \"samples\": [\n          2010,\n          2011,\n          2012\n        ],\n        \"semantic_type\": \"\",\n        \"description\": \"\"\n      }\n    },\n    {\n      \"column\": \"Weekly_Sales\",\n      \"properties\": {\n        \"dtype\": \"number\",\n        \"std\": 133245.69511163316,\n        \"min\": 921505.65,\n        \"max\": 1171550.8,\n        \"num_unique_values\": 3,\n        \"samples\": [\n          1126348.73,\n          1171550.8,\n          921505.65\n        ],\n        \"semantic_type\": \"\",\n        \"description\": \"\"\n      }\n    }\n  ]\n}"
            }
          },
          "metadata": {},
          "execution_count": 40
        }
      ]
    },
    {
      "cell_type": "code",
      "source": [
        "fig = px.bar(yearly_agg, x=yearly_agg.index.values, y='Weekly_Sales')\n",
        "fig.show()"
      ],
      "metadata": {
        "colab": {
          "base_uri": "https://localhost:8080/",
          "height": 542
        },
        "id": "0Mp1HpU_Keoz",
        "outputId": "e0d06c04-0dfd-43f9-fded-c62e297eda41"
      },
      "execution_count": 41,
      "outputs": [
        {
          "output_type": "display_data",
          "data": {
            "text/html": [
              "<html>\n",
              "<head><meta charset=\"utf-8\" /></head>\n",
              "<body>\n",
              "    <div>            <script src=\"https://cdnjs.cloudflare.com/ajax/libs/mathjax/2.7.5/MathJax.js?config=TeX-AMS-MML_SVG\"></script><script type=\"text/javascript\">if (window.MathJax && window.MathJax.Hub && window.MathJax.Hub.Config) {window.MathJax.Hub.Config({SVG: {font: \"STIX-Web\"}});}</script>                <script type=\"text/javascript\">window.PlotlyConfig = {MathJaxConfig: 'local'};</script>\n",
              "        <script charset=\"utf-8\" src=\"https://cdn.plot.ly/plotly-2.24.1.min.js\"></script>                <div id=\"c164a1f9-fe41-48e9-8957-96c5373403e4\" class=\"plotly-graph-div\" style=\"height:525px; width:100%;\"></div>            <script type=\"text/javascript\">                                    window.PLOTLYENV=window.PLOTLYENV || {};                                    if (document.getElementById(\"c164a1f9-fe41-48e9-8957-96c5373403e4\")) {                    Plotly.newPlot(                        \"c164a1f9-fe41-48e9-8957-96c5373403e4\",                        [{\"alignmentgroup\":\"True\",\"hovertemplate\":\"x=%{x}\\u003cbr\\u003eWeekly_Sales=%{y}\\u003cextra\\u003e\\u003c\\u002fextra\\u003e\",\"legendgroup\":\"\",\"marker\":{\"color\":\"#636efa\",\"pattern\":{\"shape\":\"\"}},\"name\":\"\",\"offsetgroup\":\"\",\"orientation\":\"v\",\"showlegend\":false,\"textposition\":\"auto\",\"x\":[2010,2011,2012],\"xaxis\":\"x\",\"y\":[1126348.73,1171550.8,921505.65],\"yaxis\":\"y\",\"type\":\"bar\"}],                        {\"template\":{\"data\":{\"histogram2dcontour\":[{\"type\":\"histogram2dcontour\",\"colorbar\":{\"outlinewidth\":0,\"ticks\":\"\"},\"colorscale\":[[0.0,\"#0d0887\"],[0.1111111111111111,\"#46039f\"],[0.2222222222222222,\"#7201a8\"],[0.3333333333333333,\"#9c179e\"],[0.4444444444444444,\"#bd3786\"],[0.5555555555555556,\"#d8576b\"],[0.6666666666666666,\"#ed7953\"],[0.7777777777777778,\"#fb9f3a\"],[0.8888888888888888,\"#fdca26\"],[1.0,\"#f0f921\"]]}],\"choropleth\":[{\"type\":\"choropleth\",\"colorbar\":{\"outlinewidth\":0,\"ticks\":\"\"}}],\"histogram2d\":[{\"type\":\"histogram2d\",\"colorbar\":{\"outlinewidth\":0,\"ticks\":\"\"},\"colorscale\":[[0.0,\"#0d0887\"],[0.1111111111111111,\"#46039f\"],[0.2222222222222222,\"#7201a8\"],[0.3333333333333333,\"#9c179e\"],[0.4444444444444444,\"#bd3786\"],[0.5555555555555556,\"#d8576b\"],[0.6666666666666666,\"#ed7953\"],[0.7777777777777778,\"#fb9f3a\"],[0.8888888888888888,\"#fdca26\"],[1.0,\"#f0f921\"]]}],\"heatmap\":[{\"type\":\"heatmap\",\"colorbar\":{\"outlinewidth\":0,\"ticks\":\"\"},\"colorscale\":[[0.0,\"#0d0887\"],[0.1111111111111111,\"#46039f\"],[0.2222222222222222,\"#7201a8\"],[0.3333333333333333,\"#9c179e\"],[0.4444444444444444,\"#bd3786\"],[0.5555555555555556,\"#d8576b\"],[0.6666666666666666,\"#ed7953\"],[0.7777777777777778,\"#fb9f3a\"],[0.8888888888888888,\"#fdca26\"],[1.0,\"#f0f921\"]]}],\"heatmapgl\":[{\"type\":\"heatmapgl\",\"colorbar\":{\"outlinewidth\":0,\"ticks\":\"\"},\"colorscale\":[[0.0,\"#0d0887\"],[0.1111111111111111,\"#46039f\"],[0.2222222222222222,\"#7201a8\"],[0.3333333333333333,\"#9c179e\"],[0.4444444444444444,\"#bd3786\"],[0.5555555555555556,\"#d8576b\"],[0.6666666666666666,\"#ed7953\"],[0.7777777777777778,\"#fb9f3a\"],[0.8888888888888888,\"#fdca26\"],[1.0,\"#f0f921\"]]}],\"contourcarpet\":[{\"type\":\"contourcarpet\",\"colorbar\":{\"outlinewidth\":0,\"ticks\":\"\"}}],\"contour\":[{\"type\":\"contour\",\"colorbar\":{\"outlinewidth\":0,\"ticks\":\"\"},\"colorscale\":[[0.0,\"#0d0887\"],[0.1111111111111111,\"#46039f\"],[0.2222222222222222,\"#7201a8\"],[0.3333333333333333,\"#9c179e\"],[0.4444444444444444,\"#bd3786\"],[0.5555555555555556,\"#d8576b\"],[0.6666666666666666,\"#ed7953\"],[0.7777777777777778,\"#fb9f3a\"],[0.8888888888888888,\"#fdca26\"],[1.0,\"#f0f921\"]]}],\"surface\":[{\"type\":\"surface\",\"colorbar\":{\"outlinewidth\":0,\"ticks\":\"\"},\"colorscale\":[[0.0,\"#0d0887\"],[0.1111111111111111,\"#46039f\"],[0.2222222222222222,\"#7201a8\"],[0.3333333333333333,\"#9c179e\"],[0.4444444444444444,\"#bd3786\"],[0.5555555555555556,\"#d8576b\"],[0.6666666666666666,\"#ed7953\"],[0.7777777777777778,\"#fb9f3a\"],[0.8888888888888888,\"#fdca26\"],[1.0,\"#f0f921\"]]}],\"mesh3d\":[{\"type\":\"mesh3d\",\"colorbar\":{\"outlinewidth\":0,\"ticks\":\"\"}}],\"scatter\":[{\"fillpattern\":{\"fillmode\":\"overlay\",\"size\":10,\"solidity\":0.2},\"type\":\"scatter\"}],\"parcoords\":[{\"type\":\"parcoords\",\"line\":{\"colorbar\":{\"outlinewidth\":0,\"ticks\":\"\"}}}],\"scatterpolargl\":[{\"type\":\"scatterpolargl\",\"marker\":{\"colorbar\":{\"outlinewidth\":0,\"ticks\":\"\"}}}],\"bar\":[{\"error_x\":{\"color\":\"#2a3f5f\"},\"error_y\":{\"color\":\"#2a3f5f\"},\"marker\":{\"line\":{\"color\":\"#E5ECF6\",\"width\":0.5},\"pattern\":{\"fillmode\":\"overlay\",\"size\":10,\"solidity\":0.2}},\"type\":\"bar\"}],\"scattergeo\":[{\"type\":\"scattergeo\",\"marker\":{\"colorbar\":{\"outlinewidth\":0,\"ticks\":\"\"}}}],\"scatterpolar\":[{\"type\":\"scatterpolar\",\"marker\":{\"colorbar\":{\"outlinewidth\":0,\"ticks\":\"\"}}}],\"histogram\":[{\"marker\":{\"pattern\":{\"fillmode\":\"overlay\",\"size\":10,\"solidity\":0.2}},\"type\":\"histogram\"}],\"scattergl\":[{\"type\":\"scattergl\",\"marker\":{\"colorbar\":{\"outlinewidth\":0,\"ticks\":\"\"}}}],\"scatter3d\":[{\"type\":\"scatter3d\",\"line\":{\"colorbar\":{\"outlinewidth\":0,\"ticks\":\"\"}},\"marker\":{\"colorbar\":{\"outlinewidth\":0,\"ticks\":\"\"}}}],\"scattermapbox\":[{\"type\":\"scattermapbox\",\"marker\":{\"colorbar\":{\"outlinewidth\":0,\"ticks\":\"\"}}}],\"scatterternary\":[{\"type\":\"scatterternary\",\"marker\":{\"colorbar\":{\"outlinewidth\":0,\"ticks\":\"\"}}}],\"scattercarpet\":[{\"type\":\"scattercarpet\",\"marker\":{\"colorbar\":{\"outlinewidth\":0,\"ticks\":\"\"}}}],\"carpet\":[{\"aaxis\":{\"endlinecolor\":\"#2a3f5f\",\"gridcolor\":\"white\",\"linecolor\":\"white\",\"minorgridcolor\":\"white\",\"startlinecolor\":\"#2a3f5f\"},\"baxis\":{\"endlinecolor\":\"#2a3f5f\",\"gridcolor\":\"white\",\"linecolor\":\"white\",\"minorgridcolor\":\"white\",\"startlinecolor\":\"#2a3f5f\"},\"type\":\"carpet\"}],\"table\":[{\"cells\":{\"fill\":{\"color\":\"#EBF0F8\"},\"line\":{\"color\":\"white\"}},\"header\":{\"fill\":{\"color\":\"#C8D4E3\"},\"line\":{\"color\":\"white\"}},\"type\":\"table\"}],\"barpolar\":[{\"marker\":{\"line\":{\"color\":\"#E5ECF6\",\"width\":0.5},\"pattern\":{\"fillmode\":\"overlay\",\"size\":10,\"solidity\":0.2}},\"type\":\"barpolar\"}],\"pie\":[{\"automargin\":true,\"type\":\"pie\"}]},\"layout\":{\"autotypenumbers\":\"strict\",\"colorway\":[\"#636efa\",\"#EF553B\",\"#00cc96\",\"#ab63fa\",\"#FFA15A\",\"#19d3f3\",\"#FF6692\",\"#B6E880\",\"#FF97FF\",\"#FECB52\"],\"font\":{\"color\":\"#2a3f5f\"},\"hovermode\":\"closest\",\"hoverlabel\":{\"align\":\"left\"},\"paper_bgcolor\":\"white\",\"plot_bgcolor\":\"#E5ECF6\",\"polar\":{\"bgcolor\":\"#E5ECF6\",\"angularaxis\":{\"gridcolor\":\"white\",\"linecolor\":\"white\",\"ticks\":\"\"},\"radialaxis\":{\"gridcolor\":\"white\",\"linecolor\":\"white\",\"ticks\":\"\"}},\"ternary\":{\"bgcolor\":\"#E5ECF6\",\"aaxis\":{\"gridcolor\":\"white\",\"linecolor\":\"white\",\"ticks\":\"\"},\"baxis\":{\"gridcolor\":\"white\",\"linecolor\":\"white\",\"ticks\":\"\"},\"caxis\":{\"gridcolor\":\"white\",\"linecolor\":\"white\",\"ticks\":\"\"}},\"coloraxis\":{\"colorbar\":{\"outlinewidth\":0,\"ticks\":\"\"}},\"colorscale\":{\"sequential\":[[0.0,\"#0d0887\"],[0.1111111111111111,\"#46039f\"],[0.2222222222222222,\"#7201a8\"],[0.3333333333333333,\"#9c179e\"],[0.4444444444444444,\"#bd3786\"],[0.5555555555555556,\"#d8576b\"],[0.6666666666666666,\"#ed7953\"],[0.7777777777777778,\"#fb9f3a\"],[0.8888888888888888,\"#fdca26\"],[1.0,\"#f0f921\"]],\"sequentialminus\":[[0.0,\"#0d0887\"],[0.1111111111111111,\"#46039f\"],[0.2222222222222222,\"#7201a8\"],[0.3333333333333333,\"#9c179e\"],[0.4444444444444444,\"#bd3786\"],[0.5555555555555556,\"#d8576b\"],[0.6666666666666666,\"#ed7953\"],[0.7777777777777778,\"#fb9f3a\"],[0.8888888888888888,\"#fdca26\"],[1.0,\"#f0f921\"]],\"diverging\":[[0,\"#8e0152\"],[0.1,\"#c51b7d\"],[0.2,\"#de77ae\"],[0.3,\"#f1b6da\"],[0.4,\"#fde0ef\"],[0.5,\"#f7f7f7\"],[0.6,\"#e6f5d0\"],[0.7,\"#b8e186\"],[0.8,\"#7fbc41\"],[0.9,\"#4d9221\"],[1,\"#276419\"]]},\"xaxis\":{\"gridcolor\":\"white\",\"linecolor\":\"white\",\"ticks\":\"\",\"title\":{\"standoff\":15},\"zerolinecolor\":\"white\",\"automargin\":true,\"zerolinewidth\":2},\"yaxis\":{\"gridcolor\":\"white\",\"linecolor\":\"white\",\"ticks\":\"\",\"title\":{\"standoff\":15},\"zerolinecolor\":\"white\",\"automargin\":true,\"zerolinewidth\":2},\"scene\":{\"xaxis\":{\"backgroundcolor\":\"#E5ECF6\",\"gridcolor\":\"white\",\"linecolor\":\"white\",\"showbackground\":true,\"ticks\":\"\",\"zerolinecolor\":\"white\",\"gridwidth\":2},\"yaxis\":{\"backgroundcolor\":\"#E5ECF6\",\"gridcolor\":\"white\",\"linecolor\":\"white\",\"showbackground\":true,\"ticks\":\"\",\"zerolinecolor\":\"white\",\"gridwidth\":2},\"zaxis\":{\"backgroundcolor\":\"#E5ECF6\",\"gridcolor\":\"white\",\"linecolor\":\"white\",\"showbackground\":true,\"ticks\":\"\",\"zerolinecolor\":\"white\",\"gridwidth\":2}},\"shapedefaults\":{\"line\":{\"color\":\"#2a3f5f\"}},\"annotationdefaults\":{\"arrowcolor\":\"#2a3f5f\",\"arrowhead\":0,\"arrowwidth\":1},\"geo\":{\"bgcolor\":\"white\",\"landcolor\":\"#E5ECF6\",\"subunitcolor\":\"white\",\"showland\":true,\"showlakes\":true,\"lakecolor\":\"white\"},\"title\":{\"x\":0.05},\"mapbox\":{\"style\":\"light\"}}},\"xaxis\":{\"anchor\":\"y\",\"domain\":[0.0,1.0],\"title\":{\"text\":\"x\"}},\"yaxis\":{\"anchor\":\"x\",\"domain\":[0.0,1.0],\"title\":{\"text\":\"Weekly_Sales\"}},\"legend\":{\"tracegroupgap\":0},\"margin\":{\"t\":60},\"barmode\":\"relative\"},                        {\"responsive\": true}                    ).then(function(){\n",
              "                            \n",
              "var gd = document.getElementById('c164a1f9-fe41-48e9-8957-96c5373403e4');\n",
              "var x = new MutationObserver(function (mutations, observer) {{\n",
              "        var display = window.getComputedStyle(gd).display;\n",
              "        if (!display || display === 'none') {{\n",
              "            console.log([gd, 'removed!']);\n",
              "            Plotly.purge(gd);\n",
              "            observer.disconnect();\n",
              "        }}\n",
              "}});\n",
              "\n",
              "// Listen for the removal of the full notebook cells\n",
              "var notebookContainer = gd.closest('#notebook-container');\n",
              "if (notebookContainer) {{\n",
              "    x.observe(notebookContainer, {childList: true});\n",
              "}}\n",
              "\n",
              "// Listen for the clearing of the current output cell\n",
              "var outputEl = gd.closest('.output');\n",
              "if (outputEl) {{\n",
              "    x.observe(outputEl, {childList: true});\n",
              "}}\n",
              "\n",
              "                        })                };                            </script>        </div>\n",
              "</body>\n",
              "</html>"
            ]
          },
          "metadata": {}
        }
      ]
    },
    {
      "cell_type": "markdown",
      "source": [
        "Do we have partial data for any year?"
      ],
      "metadata": {
        "id": "O4hvZzJ6Krdp"
      }
    },
    {
      "cell_type": "code",
      "source": [
        "store_dept_x.Date.min(), store_dept_x.Date.max()"
      ],
      "metadata": {
        "colab": {
          "base_uri": "https://localhost:8080/"
        },
        "id": "1HYiMV5cXv0D",
        "outputId": "e7e8c9cd-3269-4775-a545-ba1a63c16612"
      },
      "execution_count": 42,
      "outputs": [
        {
          "output_type": "execute_result",
          "data": {
            "text/plain": [
              "(Timestamp('2010-02-05 00:00:00'), Timestamp('2012-10-26 00:00:00'))"
            ]
          },
          "metadata": {},
          "execution_count": 42
        }
      ]
    },
    {
      "cell_type": "markdown",
      "source": [
        "Yes, we see year 2010, and 2012 are partial; lets plot the average sales."
      ],
      "metadata": {
        "id": "YKhOuUiZK2Jk"
      }
    },
    {
      "cell_type": "code",
      "source": [
        "monthly_agg = store_dept_x.groupby(['Month']).agg({'Weekly_Sales': 'mean'})\n",
        "monthly_agg.head(3)"
      ],
      "metadata": {
        "colab": {
          "base_uri": "https://localhost:8080/",
          "height": 174
        },
        "id": "V2KZug3EWhOx",
        "outputId": "2405a979-fc02-4363-d75a-af3f51fc03ea"
      },
      "execution_count": 43,
      "outputs": [
        {
          "output_type": "execute_result",
          "data": {
            "text/plain": [
              "       Weekly_Sales\n",
              "Month              \n",
              "1      17418.992500\n",
              "2      32700.750833\n",
              "3      22210.847692"
            ],
            "text/html": [
              "\n",
              "  <div id=\"df-578e3278-3bb3-4778-975a-4f5fe71678fd\" class=\"colab-df-container\">\n",
              "    <div>\n",
              "<style scoped>\n",
              "    .dataframe tbody tr th:only-of-type {\n",
              "        vertical-align: middle;\n",
              "    }\n",
              "\n",
              "    .dataframe tbody tr th {\n",
              "        vertical-align: top;\n",
              "    }\n",
              "\n",
              "    .dataframe thead th {\n",
              "        text-align: right;\n",
              "    }\n",
              "</style>\n",
              "<table border=\"1\" class=\"dataframe\">\n",
              "  <thead>\n",
              "    <tr style=\"text-align: right;\">\n",
              "      <th></th>\n",
              "      <th>Weekly_Sales</th>\n",
              "    </tr>\n",
              "    <tr>\n",
              "      <th>Month</th>\n",
              "      <th></th>\n",
              "    </tr>\n",
              "  </thead>\n",
              "  <tbody>\n",
              "    <tr>\n",
              "      <th>1</th>\n",
              "      <td>17418.992500</td>\n",
              "    </tr>\n",
              "    <tr>\n",
              "      <th>2</th>\n",
              "      <td>32700.750833</td>\n",
              "    </tr>\n",
              "    <tr>\n",
              "      <th>3</th>\n",
              "      <td>22210.847692</td>\n",
              "    </tr>\n",
              "  </tbody>\n",
              "</table>\n",
              "</div>\n",
              "    <div class=\"colab-df-buttons\">\n",
              "\n",
              "  <div class=\"colab-df-container\">\n",
              "    <button class=\"colab-df-convert\" onclick=\"convertToInteractive('df-578e3278-3bb3-4778-975a-4f5fe71678fd')\"\n",
              "            title=\"Convert this dataframe to an interactive table.\"\n",
              "            style=\"display:none;\">\n",
              "\n",
              "  <svg xmlns=\"http://www.w3.org/2000/svg\" height=\"24px\" viewBox=\"0 -960 960 960\">\n",
              "    <path d=\"M120-120v-720h720v720H120Zm60-500h600v-160H180v160Zm220 220h160v-160H400v160Zm0 220h160v-160H400v160ZM180-400h160v-160H180v160Zm440 0h160v-160H620v160ZM180-180h160v-160H180v160Zm440 0h160v-160H620v160Z\"/>\n",
              "  </svg>\n",
              "    </button>\n",
              "\n",
              "  <style>\n",
              "    .colab-df-container {\n",
              "      display:flex;\n",
              "      gap: 12px;\n",
              "    }\n",
              "\n",
              "    .colab-df-convert {\n",
              "      background-color: #E8F0FE;\n",
              "      border: none;\n",
              "      border-radius: 50%;\n",
              "      cursor: pointer;\n",
              "      display: none;\n",
              "      fill: #1967D2;\n",
              "      height: 32px;\n",
              "      padding: 0 0 0 0;\n",
              "      width: 32px;\n",
              "    }\n",
              "\n",
              "    .colab-df-convert:hover {\n",
              "      background-color: #E2EBFA;\n",
              "      box-shadow: 0px 1px 2px rgba(60, 64, 67, 0.3), 0px 1px 3px 1px rgba(60, 64, 67, 0.15);\n",
              "      fill: #174EA6;\n",
              "    }\n",
              "\n",
              "    .colab-df-buttons div {\n",
              "      margin-bottom: 4px;\n",
              "    }\n",
              "\n",
              "    [theme=dark] .colab-df-convert {\n",
              "      background-color: #3B4455;\n",
              "      fill: #D2E3FC;\n",
              "    }\n",
              "\n",
              "    [theme=dark] .colab-df-convert:hover {\n",
              "      background-color: #434B5C;\n",
              "      box-shadow: 0px 1px 3px 1px rgba(0, 0, 0, 0.15);\n",
              "      filter: drop-shadow(0px 1px 2px rgba(0, 0, 0, 0.3));\n",
              "      fill: #FFFFFF;\n",
              "    }\n",
              "  </style>\n",
              "\n",
              "    <script>\n",
              "      const buttonEl =\n",
              "        document.querySelector('#df-578e3278-3bb3-4778-975a-4f5fe71678fd button.colab-df-convert');\n",
              "      buttonEl.style.display =\n",
              "        google.colab.kernel.accessAllowed ? 'block' : 'none';\n",
              "\n",
              "      async function convertToInteractive(key) {\n",
              "        const element = document.querySelector('#df-578e3278-3bb3-4778-975a-4f5fe71678fd');\n",
              "        const dataTable =\n",
              "          await google.colab.kernel.invokeFunction('convertToInteractive',\n",
              "                                                    [key], {});\n",
              "        if (!dataTable) return;\n",
              "\n",
              "        const docLinkHtml = 'Like what you see? Visit the ' +\n",
              "          '<a target=\"_blank\" href=https://colab.research.google.com/notebooks/data_table.ipynb>data table notebook</a>'\n",
              "          + ' to learn more about interactive tables.';\n",
              "        element.innerHTML = '';\n",
              "        dataTable['output_type'] = 'display_data';\n",
              "        await google.colab.output.renderOutput(dataTable, element);\n",
              "        const docLink = document.createElement('div');\n",
              "        docLink.innerHTML = docLinkHtml;\n",
              "        element.appendChild(docLink);\n",
              "      }\n",
              "    </script>\n",
              "  </div>\n",
              "\n",
              "\n",
              "<div id=\"df-25924f6b-99e6-4663-97b4-607b5bc57773\">\n",
              "  <button class=\"colab-df-quickchart\" onclick=\"quickchart('df-25924f6b-99e6-4663-97b4-607b5bc57773')\"\n",
              "            title=\"Suggest charts\"\n",
              "            style=\"display:none;\">\n",
              "\n",
              "<svg xmlns=\"http://www.w3.org/2000/svg\" height=\"24px\"viewBox=\"0 0 24 24\"\n",
              "     width=\"24px\">\n",
              "    <g>\n",
              "        <path d=\"M19 3H5c-1.1 0-2 .9-2 2v14c0 1.1.9 2 2 2h14c1.1 0 2-.9 2-2V5c0-1.1-.9-2-2-2zM9 17H7v-7h2v7zm4 0h-2V7h2v10zm4 0h-2v-4h2v4z\"/>\n",
              "    </g>\n",
              "</svg>\n",
              "  </button>\n",
              "\n",
              "<style>\n",
              "  .colab-df-quickchart {\n",
              "      --bg-color: #E8F0FE;\n",
              "      --fill-color: #1967D2;\n",
              "      --hover-bg-color: #E2EBFA;\n",
              "      --hover-fill-color: #174EA6;\n",
              "      --disabled-fill-color: #AAA;\n",
              "      --disabled-bg-color: #DDD;\n",
              "  }\n",
              "\n",
              "  [theme=dark] .colab-df-quickchart {\n",
              "      --bg-color: #3B4455;\n",
              "      --fill-color: #D2E3FC;\n",
              "      --hover-bg-color: #434B5C;\n",
              "      --hover-fill-color: #FFFFFF;\n",
              "      --disabled-bg-color: #3B4455;\n",
              "      --disabled-fill-color: #666;\n",
              "  }\n",
              "\n",
              "  .colab-df-quickchart {\n",
              "    background-color: var(--bg-color);\n",
              "    border: none;\n",
              "    border-radius: 50%;\n",
              "    cursor: pointer;\n",
              "    display: none;\n",
              "    fill: var(--fill-color);\n",
              "    height: 32px;\n",
              "    padding: 0;\n",
              "    width: 32px;\n",
              "  }\n",
              "\n",
              "  .colab-df-quickchart:hover {\n",
              "    background-color: var(--hover-bg-color);\n",
              "    box-shadow: 0 1px 2px rgba(60, 64, 67, 0.3), 0 1px 3px 1px rgba(60, 64, 67, 0.15);\n",
              "    fill: var(--button-hover-fill-color);\n",
              "  }\n",
              "\n",
              "  .colab-df-quickchart-complete:disabled,\n",
              "  .colab-df-quickchart-complete:disabled:hover {\n",
              "    background-color: var(--disabled-bg-color);\n",
              "    fill: var(--disabled-fill-color);\n",
              "    box-shadow: none;\n",
              "  }\n",
              "\n",
              "  .colab-df-spinner {\n",
              "    border: 2px solid var(--fill-color);\n",
              "    border-color: transparent;\n",
              "    border-bottom-color: var(--fill-color);\n",
              "    animation:\n",
              "      spin 1s steps(1) infinite;\n",
              "  }\n",
              "\n",
              "  @keyframes spin {\n",
              "    0% {\n",
              "      border-color: transparent;\n",
              "      border-bottom-color: var(--fill-color);\n",
              "      border-left-color: var(--fill-color);\n",
              "    }\n",
              "    20% {\n",
              "      border-color: transparent;\n",
              "      border-left-color: var(--fill-color);\n",
              "      border-top-color: var(--fill-color);\n",
              "    }\n",
              "    30% {\n",
              "      border-color: transparent;\n",
              "      border-left-color: var(--fill-color);\n",
              "      border-top-color: var(--fill-color);\n",
              "      border-right-color: var(--fill-color);\n",
              "    }\n",
              "    40% {\n",
              "      border-color: transparent;\n",
              "      border-right-color: var(--fill-color);\n",
              "      border-top-color: var(--fill-color);\n",
              "    }\n",
              "    60% {\n",
              "      border-color: transparent;\n",
              "      border-right-color: var(--fill-color);\n",
              "    }\n",
              "    80% {\n",
              "      border-color: transparent;\n",
              "      border-right-color: var(--fill-color);\n",
              "      border-bottom-color: var(--fill-color);\n",
              "    }\n",
              "    90% {\n",
              "      border-color: transparent;\n",
              "      border-bottom-color: var(--fill-color);\n",
              "    }\n",
              "  }\n",
              "</style>\n",
              "\n",
              "  <script>\n",
              "    async function quickchart(key) {\n",
              "      const quickchartButtonEl =\n",
              "        document.querySelector('#' + key + ' button');\n",
              "      quickchartButtonEl.disabled = true;  // To prevent multiple clicks.\n",
              "      quickchartButtonEl.classList.add('colab-df-spinner');\n",
              "      try {\n",
              "        const charts = await google.colab.kernel.invokeFunction(\n",
              "            'suggestCharts', [key], {});\n",
              "      } catch (error) {\n",
              "        console.error('Error during call to suggestCharts:', error);\n",
              "      }\n",
              "      quickchartButtonEl.classList.remove('colab-df-spinner');\n",
              "      quickchartButtonEl.classList.add('colab-df-quickchart-complete');\n",
              "    }\n",
              "    (() => {\n",
              "      let quickchartButtonEl =\n",
              "        document.querySelector('#df-25924f6b-99e6-4663-97b4-607b5bc57773 button');\n",
              "      quickchartButtonEl.style.display =\n",
              "        google.colab.kernel.accessAllowed ? 'block' : 'none';\n",
              "    })();\n",
              "  </script>\n",
              "</div>\n",
              "\n",
              "    </div>\n",
              "  </div>\n"
            ],
            "application/vnd.google.colaboratory.intrinsic+json": {
              "type": "dataframe",
              "variable_name": "monthly_agg",
              "summary": "{\n  \"name\": \"monthly_agg\",\n  \"rows\": 12,\n  \"fields\": [\n    {\n      \"column\": \"Month\",\n      \"properties\": {\n        \"dtype\": \"int32\",\n        \"num_unique_values\": 12,\n        \"samples\": [\n          11,\n          10,\n          1\n        ],\n        \"semantic_type\": \"\",\n        \"description\": \"\"\n      }\n    },\n    {\n      \"column\": \"Weekly_Sales\",\n      \"properties\": {\n        \"dtype\": \"number\",\n        \"std\": 7013.229069453113,\n        \"min\": 15898.948461538463,\n        \"max\": 34849.595,\n        \"num_unique_values\": 12,\n        \"samples\": [\n          23837.36375,\n          25361.224615384614,\n          17418.9925\n        ],\n        \"semantic_type\": \"\",\n        \"description\": \"\"\n      }\n    }\n  ]\n}"
            }
          },
          "metadata": {},
          "execution_count": 43
        }
      ]
    },
    {
      "cell_type": "code",
      "source": [
        "fig = px.bar(monthly_agg, x=monthly_agg.index.values, y='Weekly_Sales')\n",
        "fig.show()"
      ],
      "metadata": {
        "colab": {
          "base_uri": "https://localhost:8080/",
          "height": 542
        },
        "id": "gb_-PHbsWhLI",
        "outputId": "ff3fab20-1d49-434c-ce49-0b6164ccbb84"
      },
      "execution_count": 44,
      "outputs": [
        {
          "output_type": "display_data",
          "data": {
            "text/html": [
              "<html>\n",
              "<head><meta charset=\"utf-8\" /></head>\n",
              "<body>\n",
              "    <div>            <script src=\"https://cdnjs.cloudflare.com/ajax/libs/mathjax/2.7.5/MathJax.js?config=TeX-AMS-MML_SVG\"></script><script type=\"text/javascript\">if (window.MathJax && window.MathJax.Hub && window.MathJax.Hub.Config) {window.MathJax.Hub.Config({SVG: {font: \"STIX-Web\"}});}</script>                <script type=\"text/javascript\">window.PlotlyConfig = {MathJaxConfig: 'local'};</script>\n",
              "        <script charset=\"utf-8\" src=\"https://cdn.plot.ly/plotly-2.24.1.min.js\"></script>                <div id=\"71f7595a-915a-43ef-b313-7a940d0c1acd\" class=\"plotly-graph-div\" style=\"height:525px; width:100%;\"></div>            <script type=\"text/javascript\">                                    window.PLOTLYENV=window.PLOTLYENV || {};                                    if (document.getElementById(\"71f7595a-915a-43ef-b313-7a940d0c1acd\")) {                    Plotly.newPlot(                        \"71f7595a-915a-43ef-b313-7a940d0c1acd\",                        [{\"alignmentgroup\":\"True\",\"hovertemplate\":\"x=%{x}\\u003cbr\\u003eWeekly_Sales=%{y}\\u003cextra\\u003e\\u003c\\u002fextra\\u003e\",\"legendgroup\":\"\",\"marker\":{\"color\":\"#636efa\",\"pattern\":{\"shape\":\"\"}},\"name\":\"\",\"offsetgroup\":\"\",\"orientation\":\"v\",\"showlegend\":false,\"textposition\":\"auto\",\"x\":[1,2,3,4,5,6,7,8,9,10,11,12],\"xaxis\":\"x\",\"y\":[17418.9925,32700.750833333335,22210.847692307692,31512.41642857143,17144.904166666667,16412.754615384616,16231.430714285714,15898.948461538463,18139.044615384617,25361.224615384614,23837.36375,34849.595],\"yaxis\":\"y\",\"type\":\"bar\"}],                        {\"template\":{\"data\":{\"histogram2dcontour\":[{\"type\":\"histogram2dcontour\",\"colorbar\":{\"outlinewidth\":0,\"ticks\":\"\"},\"colorscale\":[[0.0,\"#0d0887\"],[0.1111111111111111,\"#46039f\"],[0.2222222222222222,\"#7201a8\"],[0.3333333333333333,\"#9c179e\"],[0.4444444444444444,\"#bd3786\"],[0.5555555555555556,\"#d8576b\"],[0.6666666666666666,\"#ed7953\"],[0.7777777777777778,\"#fb9f3a\"],[0.8888888888888888,\"#fdca26\"],[1.0,\"#f0f921\"]]}],\"choropleth\":[{\"type\":\"choropleth\",\"colorbar\":{\"outlinewidth\":0,\"ticks\":\"\"}}],\"histogram2d\":[{\"type\":\"histogram2d\",\"colorbar\":{\"outlinewidth\":0,\"ticks\":\"\"},\"colorscale\":[[0.0,\"#0d0887\"],[0.1111111111111111,\"#46039f\"],[0.2222222222222222,\"#7201a8\"],[0.3333333333333333,\"#9c179e\"],[0.4444444444444444,\"#bd3786\"],[0.5555555555555556,\"#d8576b\"],[0.6666666666666666,\"#ed7953\"],[0.7777777777777778,\"#fb9f3a\"],[0.8888888888888888,\"#fdca26\"],[1.0,\"#f0f921\"]]}],\"heatmap\":[{\"type\":\"heatmap\",\"colorbar\":{\"outlinewidth\":0,\"ticks\":\"\"},\"colorscale\":[[0.0,\"#0d0887\"],[0.1111111111111111,\"#46039f\"],[0.2222222222222222,\"#7201a8\"],[0.3333333333333333,\"#9c179e\"],[0.4444444444444444,\"#bd3786\"],[0.5555555555555556,\"#d8576b\"],[0.6666666666666666,\"#ed7953\"],[0.7777777777777778,\"#fb9f3a\"],[0.8888888888888888,\"#fdca26\"],[1.0,\"#f0f921\"]]}],\"heatmapgl\":[{\"type\":\"heatmapgl\",\"colorbar\":{\"outlinewidth\":0,\"ticks\":\"\"},\"colorscale\":[[0.0,\"#0d0887\"],[0.1111111111111111,\"#46039f\"],[0.2222222222222222,\"#7201a8\"],[0.3333333333333333,\"#9c179e\"],[0.4444444444444444,\"#bd3786\"],[0.5555555555555556,\"#d8576b\"],[0.6666666666666666,\"#ed7953\"],[0.7777777777777778,\"#fb9f3a\"],[0.8888888888888888,\"#fdca26\"],[1.0,\"#f0f921\"]]}],\"contourcarpet\":[{\"type\":\"contourcarpet\",\"colorbar\":{\"outlinewidth\":0,\"ticks\":\"\"}}],\"contour\":[{\"type\":\"contour\",\"colorbar\":{\"outlinewidth\":0,\"ticks\":\"\"},\"colorscale\":[[0.0,\"#0d0887\"],[0.1111111111111111,\"#46039f\"],[0.2222222222222222,\"#7201a8\"],[0.3333333333333333,\"#9c179e\"],[0.4444444444444444,\"#bd3786\"],[0.5555555555555556,\"#d8576b\"],[0.6666666666666666,\"#ed7953\"],[0.7777777777777778,\"#fb9f3a\"],[0.8888888888888888,\"#fdca26\"],[1.0,\"#f0f921\"]]}],\"surface\":[{\"type\":\"surface\",\"colorbar\":{\"outlinewidth\":0,\"ticks\":\"\"},\"colorscale\":[[0.0,\"#0d0887\"],[0.1111111111111111,\"#46039f\"],[0.2222222222222222,\"#7201a8\"],[0.3333333333333333,\"#9c179e\"],[0.4444444444444444,\"#bd3786\"],[0.5555555555555556,\"#d8576b\"],[0.6666666666666666,\"#ed7953\"],[0.7777777777777778,\"#fb9f3a\"],[0.8888888888888888,\"#fdca26\"],[1.0,\"#f0f921\"]]}],\"mesh3d\":[{\"type\":\"mesh3d\",\"colorbar\":{\"outlinewidth\":0,\"ticks\":\"\"}}],\"scatter\":[{\"fillpattern\":{\"fillmode\":\"overlay\",\"size\":10,\"solidity\":0.2},\"type\":\"scatter\"}],\"parcoords\":[{\"type\":\"parcoords\",\"line\":{\"colorbar\":{\"outlinewidth\":0,\"ticks\":\"\"}}}],\"scatterpolargl\":[{\"type\":\"scatterpolargl\",\"marker\":{\"colorbar\":{\"outlinewidth\":0,\"ticks\":\"\"}}}],\"bar\":[{\"error_x\":{\"color\":\"#2a3f5f\"},\"error_y\":{\"color\":\"#2a3f5f\"},\"marker\":{\"line\":{\"color\":\"#E5ECF6\",\"width\":0.5},\"pattern\":{\"fillmode\":\"overlay\",\"size\":10,\"solidity\":0.2}},\"type\":\"bar\"}],\"scattergeo\":[{\"type\":\"scattergeo\",\"marker\":{\"colorbar\":{\"outlinewidth\":0,\"ticks\":\"\"}}}],\"scatterpolar\":[{\"type\":\"scatterpolar\",\"marker\":{\"colorbar\":{\"outlinewidth\":0,\"ticks\":\"\"}}}],\"histogram\":[{\"marker\":{\"pattern\":{\"fillmode\":\"overlay\",\"size\":10,\"solidity\":0.2}},\"type\":\"histogram\"}],\"scattergl\":[{\"type\":\"scattergl\",\"marker\":{\"colorbar\":{\"outlinewidth\":0,\"ticks\":\"\"}}}],\"scatter3d\":[{\"type\":\"scatter3d\",\"line\":{\"colorbar\":{\"outlinewidth\":0,\"ticks\":\"\"}},\"marker\":{\"colorbar\":{\"outlinewidth\":0,\"ticks\":\"\"}}}],\"scattermapbox\":[{\"type\":\"scattermapbox\",\"marker\":{\"colorbar\":{\"outlinewidth\":0,\"ticks\":\"\"}}}],\"scatterternary\":[{\"type\":\"scatterternary\",\"marker\":{\"colorbar\":{\"outlinewidth\":0,\"ticks\":\"\"}}}],\"scattercarpet\":[{\"type\":\"scattercarpet\",\"marker\":{\"colorbar\":{\"outlinewidth\":0,\"ticks\":\"\"}}}],\"carpet\":[{\"aaxis\":{\"endlinecolor\":\"#2a3f5f\",\"gridcolor\":\"white\",\"linecolor\":\"white\",\"minorgridcolor\":\"white\",\"startlinecolor\":\"#2a3f5f\"},\"baxis\":{\"endlinecolor\":\"#2a3f5f\",\"gridcolor\":\"white\",\"linecolor\":\"white\",\"minorgridcolor\":\"white\",\"startlinecolor\":\"#2a3f5f\"},\"type\":\"carpet\"}],\"table\":[{\"cells\":{\"fill\":{\"color\":\"#EBF0F8\"},\"line\":{\"color\":\"white\"}},\"header\":{\"fill\":{\"color\":\"#C8D4E3\"},\"line\":{\"color\":\"white\"}},\"type\":\"table\"}],\"barpolar\":[{\"marker\":{\"line\":{\"color\":\"#E5ECF6\",\"width\":0.5},\"pattern\":{\"fillmode\":\"overlay\",\"size\":10,\"solidity\":0.2}},\"type\":\"barpolar\"}],\"pie\":[{\"automargin\":true,\"type\":\"pie\"}]},\"layout\":{\"autotypenumbers\":\"strict\",\"colorway\":[\"#636efa\",\"#EF553B\",\"#00cc96\",\"#ab63fa\",\"#FFA15A\",\"#19d3f3\",\"#FF6692\",\"#B6E880\",\"#FF97FF\",\"#FECB52\"],\"font\":{\"color\":\"#2a3f5f\"},\"hovermode\":\"closest\",\"hoverlabel\":{\"align\":\"left\"},\"paper_bgcolor\":\"white\",\"plot_bgcolor\":\"#E5ECF6\",\"polar\":{\"bgcolor\":\"#E5ECF6\",\"angularaxis\":{\"gridcolor\":\"white\",\"linecolor\":\"white\",\"ticks\":\"\"},\"radialaxis\":{\"gridcolor\":\"white\",\"linecolor\":\"white\",\"ticks\":\"\"}},\"ternary\":{\"bgcolor\":\"#E5ECF6\",\"aaxis\":{\"gridcolor\":\"white\",\"linecolor\":\"white\",\"ticks\":\"\"},\"baxis\":{\"gridcolor\":\"white\",\"linecolor\":\"white\",\"ticks\":\"\"},\"caxis\":{\"gridcolor\":\"white\",\"linecolor\":\"white\",\"ticks\":\"\"}},\"coloraxis\":{\"colorbar\":{\"outlinewidth\":0,\"ticks\":\"\"}},\"colorscale\":{\"sequential\":[[0.0,\"#0d0887\"],[0.1111111111111111,\"#46039f\"],[0.2222222222222222,\"#7201a8\"],[0.3333333333333333,\"#9c179e\"],[0.4444444444444444,\"#bd3786\"],[0.5555555555555556,\"#d8576b\"],[0.6666666666666666,\"#ed7953\"],[0.7777777777777778,\"#fb9f3a\"],[0.8888888888888888,\"#fdca26\"],[1.0,\"#f0f921\"]],\"sequentialminus\":[[0.0,\"#0d0887\"],[0.1111111111111111,\"#46039f\"],[0.2222222222222222,\"#7201a8\"],[0.3333333333333333,\"#9c179e\"],[0.4444444444444444,\"#bd3786\"],[0.5555555555555556,\"#d8576b\"],[0.6666666666666666,\"#ed7953\"],[0.7777777777777778,\"#fb9f3a\"],[0.8888888888888888,\"#fdca26\"],[1.0,\"#f0f921\"]],\"diverging\":[[0,\"#8e0152\"],[0.1,\"#c51b7d\"],[0.2,\"#de77ae\"],[0.3,\"#f1b6da\"],[0.4,\"#fde0ef\"],[0.5,\"#f7f7f7\"],[0.6,\"#e6f5d0\"],[0.7,\"#b8e186\"],[0.8,\"#7fbc41\"],[0.9,\"#4d9221\"],[1,\"#276419\"]]},\"xaxis\":{\"gridcolor\":\"white\",\"linecolor\":\"white\",\"ticks\":\"\",\"title\":{\"standoff\":15},\"zerolinecolor\":\"white\",\"automargin\":true,\"zerolinewidth\":2},\"yaxis\":{\"gridcolor\":\"white\",\"linecolor\":\"white\",\"ticks\":\"\",\"title\":{\"standoff\":15},\"zerolinecolor\":\"white\",\"automargin\":true,\"zerolinewidth\":2},\"scene\":{\"xaxis\":{\"backgroundcolor\":\"#E5ECF6\",\"gridcolor\":\"white\",\"linecolor\":\"white\",\"showbackground\":true,\"ticks\":\"\",\"zerolinecolor\":\"white\",\"gridwidth\":2},\"yaxis\":{\"backgroundcolor\":\"#E5ECF6\",\"gridcolor\":\"white\",\"linecolor\":\"white\",\"showbackground\":true,\"ticks\":\"\",\"zerolinecolor\":\"white\",\"gridwidth\":2},\"zaxis\":{\"backgroundcolor\":\"#E5ECF6\",\"gridcolor\":\"white\",\"linecolor\":\"white\",\"showbackground\":true,\"ticks\":\"\",\"zerolinecolor\":\"white\",\"gridwidth\":2}},\"shapedefaults\":{\"line\":{\"color\":\"#2a3f5f\"}},\"annotationdefaults\":{\"arrowcolor\":\"#2a3f5f\",\"arrowhead\":0,\"arrowwidth\":1},\"geo\":{\"bgcolor\":\"white\",\"landcolor\":\"#E5ECF6\",\"subunitcolor\":\"white\",\"showland\":true,\"showlakes\":true,\"lakecolor\":\"white\"},\"title\":{\"x\":0.05},\"mapbox\":{\"style\":\"light\"}}},\"xaxis\":{\"anchor\":\"y\",\"domain\":[0.0,1.0],\"title\":{\"text\":\"x\"}},\"yaxis\":{\"anchor\":\"x\",\"domain\":[0.0,1.0],\"title\":{\"text\":\"Weekly_Sales\"}},\"legend\":{\"tracegroupgap\":0},\"margin\":{\"t\":60},\"barmode\":\"relative\"},                        {\"responsive\": true}                    ).then(function(){\n",
              "                            \n",
              "var gd = document.getElementById('71f7595a-915a-43ef-b313-7a940d0c1acd');\n",
              "var x = new MutationObserver(function (mutations, observer) {{\n",
              "        var display = window.getComputedStyle(gd).display;\n",
              "        if (!display || display === 'none') {{\n",
              "            console.log([gd, 'removed!']);\n",
              "            Plotly.purge(gd);\n",
              "            observer.disconnect();\n",
              "        }}\n",
              "}});\n",
              "\n",
              "// Listen for the removal of the full notebook cells\n",
              "var notebookContainer = gd.closest('#notebook-container');\n",
              "if (notebookContainer) {{\n",
              "    x.observe(notebookContainer, {childList: true});\n",
              "}}\n",
              "\n",
              "// Listen for the clearing of the current output cell\n",
              "var outputEl = gd.closest('.output');\n",
              "if (outputEl) {{\n",
              "    x.observe(outputEl, {childList: true});\n",
              "}}\n",
              "\n",
              "                        })                };                            </script>        </div>\n",
              "</body>\n",
              "</html>"
            ]
          },
          "metadata": {}
        }
      ]
    },
    {
      "cell_type": "markdown",
      "source": [
        "Lets see the aggregated values at the weekly level"
      ],
      "metadata": {
        "id": "5wgns4bKLUUM"
      }
    },
    {
      "cell_type": "code",
      "source": [
        "weekly_agg = store_dept_x.groupby(['Week']).agg({'Weekly_Sales': 'mean'})\n",
        "weekly_agg.head(3)"
      ],
      "metadata": {
        "colab": {
          "base_uri": "https://localhost:8080/",
          "height": 174
        },
        "id": "zFV8vG4JcrPo",
        "outputId": "40529d7f-bd3f-45ad-c92e-e1193096d00a"
      },
      "execution_count": 45,
      "outputs": [
        {
          "output_type": "execute_result",
          "data": {
            "text/plain": [
              "      Weekly_Sales\n",
              "Week              \n",
              "1        16275.965\n",
              "2        17127.050\n",
              "3        17853.285"
            ],
            "text/html": [
              "\n",
              "  <div id=\"df-af1efb31-3942-4d70-a142-23919303bd3f\" class=\"colab-df-container\">\n",
              "    <div>\n",
              "<style scoped>\n",
              "    .dataframe tbody tr th:only-of-type {\n",
              "        vertical-align: middle;\n",
              "    }\n",
              "\n",
              "    .dataframe tbody tr th {\n",
              "        vertical-align: top;\n",
              "    }\n",
              "\n",
              "    .dataframe thead th {\n",
              "        text-align: right;\n",
              "    }\n",
              "</style>\n",
              "<table border=\"1\" class=\"dataframe\">\n",
              "  <thead>\n",
              "    <tr style=\"text-align: right;\">\n",
              "      <th></th>\n",
              "      <th>Weekly_Sales</th>\n",
              "    </tr>\n",
              "    <tr>\n",
              "      <th>Week</th>\n",
              "      <th></th>\n",
              "    </tr>\n",
              "  </thead>\n",
              "  <tbody>\n",
              "    <tr>\n",
              "      <th>1</th>\n",
              "      <td>16275.965</td>\n",
              "    </tr>\n",
              "    <tr>\n",
              "      <th>2</th>\n",
              "      <td>17127.050</td>\n",
              "    </tr>\n",
              "    <tr>\n",
              "      <th>3</th>\n",
              "      <td>17853.285</td>\n",
              "    </tr>\n",
              "  </tbody>\n",
              "</table>\n",
              "</div>\n",
              "    <div class=\"colab-df-buttons\">\n",
              "\n",
              "  <div class=\"colab-df-container\">\n",
              "    <button class=\"colab-df-convert\" onclick=\"convertToInteractive('df-af1efb31-3942-4d70-a142-23919303bd3f')\"\n",
              "            title=\"Convert this dataframe to an interactive table.\"\n",
              "            style=\"display:none;\">\n",
              "\n",
              "  <svg xmlns=\"http://www.w3.org/2000/svg\" height=\"24px\" viewBox=\"0 -960 960 960\">\n",
              "    <path d=\"M120-120v-720h720v720H120Zm60-500h600v-160H180v160Zm220 220h160v-160H400v160Zm0 220h160v-160H400v160ZM180-400h160v-160H180v160Zm440 0h160v-160H620v160ZM180-180h160v-160H180v160Zm440 0h160v-160H620v160Z\"/>\n",
              "  </svg>\n",
              "    </button>\n",
              "\n",
              "  <style>\n",
              "    .colab-df-container {\n",
              "      display:flex;\n",
              "      gap: 12px;\n",
              "    }\n",
              "\n",
              "    .colab-df-convert {\n",
              "      background-color: #E8F0FE;\n",
              "      border: none;\n",
              "      border-radius: 50%;\n",
              "      cursor: pointer;\n",
              "      display: none;\n",
              "      fill: #1967D2;\n",
              "      height: 32px;\n",
              "      padding: 0 0 0 0;\n",
              "      width: 32px;\n",
              "    }\n",
              "\n",
              "    .colab-df-convert:hover {\n",
              "      background-color: #E2EBFA;\n",
              "      box-shadow: 0px 1px 2px rgba(60, 64, 67, 0.3), 0px 1px 3px 1px rgba(60, 64, 67, 0.15);\n",
              "      fill: #174EA6;\n",
              "    }\n",
              "\n",
              "    .colab-df-buttons div {\n",
              "      margin-bottom: 4px;\n",
              "    }\n",
              "\n",
              "    [theme=dark] .colab-df-convert {\n",
              "      background-color: #3B4455;\n",
              "      fill: #D2E3FC;\n",
              "    }\n",
              "\n",
              "    [theme=dark] .colab-df-convert:hover {\n",
              "      background-color: #434B5C;\n",
              "      box-shadow: 0px 1px 3px 1px rgba(0, 0, 0, 0.15);\n",
              "      filter: drop-shadow(0px 1px 2px rgba(0, 0, 0, 0.3));\n",
              "      fill: #FFFFFF;\n",
              "    }\n",
              "  </style>\n",
              "\n",
              "    <script>\n",
              "      const buttonEl =\n",
              "        document.querySelector('#df-af1efb31-3942-4d70-a142-23919303bd3f button.colab-df-convert');\n",
              "      buttonEl.style.display =\n",
              "        google.colab.kernel.accessAllowed ? 'block' : 'none';\n",
              "\n",
              "      async function convertToInteractive(key) {\n",
              "        const element = document.querySelector('#df-af1efb31-3942-4d70-a142-23919303bd3f');\n",
              "        const dataTable =\n",
              "          await google.colab.kernel.invokeFunction('convertToInteractive',\n",
              "                                                    [key], {});\n",
              "        if (!dataTable) return;\n",
              "\n",
              "        const docLinkHtml = 'Like what you see? Visit the ' +\n",
              "          '<a target=\"_blank\" href=https://colab.research.google.com/notebooks/data_table.ipynb>data table notebook</a>'\n",
              "          + ' to learn more about interactive tables.';\n",
              "        element.innerHTML = '';\n",
              "        dataTable['output_type'] = 'display_data';\n",
              "        await google.colab.output.renderOutput(dataTable, element);\n",
              "        const docLink = document.createElement('div');\n",
              "        docLink.innerHTML = docLinkHtml;\n",
              "        element.appendChild(docLink);\n",
              "      }\n",
              "    </script>\n",
              "  </div>\n",
              "\n",
              "\n",
              "<div id=\"df-58ad7b02-3bc3-46b4-bc3c-138a9817dafb\">\n",
              "  <button class=\"colab-df-quickchart\" onclick=\"quickchart('df-58ad7b02-3bc3-46b4-bc3c-138a9817dafb')\"\n",
              "            title=\"Suggest charts\"\n",
              "            style=\"display:none;\">\n",
              "\n",
              "<svg xmlns=\"http://www.w3.org/2000/svg\" height=\"24px\"viewBox=\"0 0 24 24\"\n",
              "     width=\"24px\">\n",
              "    <g>\n",
              "        <path d=\"M19 3H5c-1.1 0-2 .9-2 2v14c0 1.1.9 2 2 2h14c1.1 0 2-.9 2-2V5c0-1.1-.9-2-2-2zM9 17H7v-7h2v7zm4 0h-2V7h2v10zm4 0h-2v-4h2v4z\"/>\n",
              "    </g>\n",
              "</svg>\n",
              "  </button>\n",
              "\n",
              "<style>\n",
              "  .colab-df-quickchart {\n",
              "      --bg-color: #E8F0FE;\n",
              "      --fill-color: #1967D2;\n",
              "      --hover-bg-color: #E2EBFA;\n",
              "      --hover-fill-color: #174EA6;\n",
              "      --disabled-fill-color: #AAA;\n",
              "      --disabled-bg-color: #DDD;\n",
              "  }\n",
              "\n",
              "  [theme=dark] .colab-df-quickchart {\n",
              "      --bg-color: #3B4455;\n",
              "      --fill-color: #D2E3FC;\n",
              "      --hover-bg-color: #434B5C;\n",
              "      --hover-fill-color: #FFFFFF;\n",
              "      --disabled-bg-color: #3B4455;\n",
              "      --disabled-fill-color: #666;\n",
              "  }\n",
              "\n",
              "  .colab-df-quickchart {\n",
              "    background-color: var(--bg-color);\n",
              "    border: none;\n",
              "    border-radius: 50%;\n",
              "    cursor: pointer;\n",
              "    display: none;\n",
              "    fill: var(--fill-color);\n",
              "    height: 32px;\n",
              "    padding: 0;\n",
              "    width: 32px;\n",
              "  }\n",
              "\n",
              "  .colab-df-quickchart:hover {\n",
              "    background-color: var(--hover-bg-color);\n",
              "    box-shadow: 0 1px 2px rgba(60, 64, 67, 0.3), 0 1px 3px 1px rgba(60, 64, 67, 0.15);\n",
              "    fill: var(--button-hover-fill-color);\n",
              "  }\n",
              "\n",
              "  .colab-df-quickchart-complete:disabled,\n",
              "  .colab-df-quickchart-complete:disabled:hover {\n",
              "    background-color: var(--disabled-bg-color);\n",
              "    fill: var(--disabled-fill-color);\n",
              "    box-shadow: none;\n",
              "  }\n",
              "\n",
              "  .colab-df-spinner {\n",
              "    border: 2px solid var(--fill-color);\n",
              "    border-color: transparent;\n",
              "    border-bottom-color: var(--fill-color);\n",
              "    animation:\n",
              "      spin 1s steps(1) infinite;\n",
              "  }\n",
              "\n",
              "  @keyframes spin {\n",
              "    0% {\n",
              "      border-color: transparent;\n",
              "      border-bottom-color: var(--fill-color);\n",
              "      border-left-color: var(--fill-color);\n",
              "    }\n",
              "    20% {\n",
              "      border-color: transparent;\n",
              "      border-left-color: var(--fill-color);\n",
              "      border-top-color: var(--fill-color);\n",
              "    }\n",
              "    30% {\n",
              "      border-color: transparent;\n",
              "      border-left-color: var(--fill-color);\n",
              "      border-top-color: var(--fill-color);\n",
              "      border-right-color: var(--fill-color);\n",
              "    }\n",
              "    40% {\n",
              "      border-color: transparent;\n",
              "      border-right-color: var(--fill-color);\n",
              "      border-top-color: var(--fill-color);\n",
              "    }\n",
              "    60% {\n",
              "      border-color: transparent;\n",
              "      border-right-color: var(--fill-color);\n",
              "    }\n",
              "    80% {\n",
              "      border-color: transparent;\n",
              "      border-right-color: var(--fill-color);\n",
              "      border-bottom-color: var(--fill-color);\n",
              "    }\n",
              "    90% {\n",
              "      border-color: transparent;\n",
              "      border-bottom-color: var(--fill-color);\n",
              "    }\n",
              "  }\n",
              "</style>\n",
              "\n",
              "  <script>\n",
              "    async function quickchart(key) {\n",
              "      const quickchartButtonEl =\n",
              "        document.querySelector('#' + key + ' button');\n",
              "      quickchartButtonEl.disabled = true;  // To prevent multiple clicks.\n",
              "      quickchartButtonEl.classList.add('colab-df-spinner');\n",
              "      try {\n",
              "        const charts = await google.colab.kernel.invokeFunction(\n",
              "            'suggestCharts', [key], {});\n",
              "      } catch (error) {\n",
              "        console.error('Error during call to suggestCharts:', error);\n",
              "      }\n",
              "      quickchartButtonEl.classList.remove('colab-df-spinner');\n",
              "      quickchartButtonEl.classList.add('colab-df-quickchart-complete');\n",
              "    }\n",
              "    (() => {\n",
              "      let quickchartButtonEl =\n",
              "        document.querySelector('#df-58ad7b02-3bc3-46b4-bc3c-138a9817dafb button');\n",
              "      quickchartButtonEl.style.display =\n",
              "        google.colab.kernel.accessAllowed ? 'block' : 'none';\n",
              "    })();\n",
              "  </script>\n",
              "</div>\n",
              "\n",
              "    </div>\n",
              "  </div>\n"
            ],
            "application/vnd.google.colaboratory.intrinsic+json": {
              "type": "dataframe",
              "variable_name": "weekly_agg",
              "summary": "{\n  \"name\": \"weekly_agg\",\n  \"rows\": 52,\n  \"fields\": [\n    {\n      \"column\": \"Week\",\n      \"properties\": {\n        \"dtype\": \"UInt32\",\n        \"num_unique_values\": 52,\n        \"samples\": [\n          20,\n          42,\n          48\n        ],\n        \"semantic_type\": \"\",\n        \"description\": \"\"\n      }\n    },\n    {\n      \"column\": \"Weekly_Sales\",\n      \"properties\": {\n        \"dtype\": \"number\",\n        \"std\": 9064.398867274664,\n        \"min\": 15398.703333333333,\n        \"max\": 51359.990000000005,\n        \"num_unique_values\": 52,\n        \"samples\": [\n          16142.536666666667,\n          24360.036666666667,\n          23905.525\n        ],\n        \"semantic_type\": \"\",\n        \"description\": \"\"\n      }\n    }\n  ]\n}"
            }
          },
          "metadata": {},
          "execution_count": 45
        }
      ]
    },
    {
      "cell_type": "code",
      "source": [
        "fig = px.bar(weekly_agg, x=weekly_agg.index.values, y='Weekly_Sales')\n",
        "fig.show()"
      ],
      "metadata": {
        "colab": {
          "base_uri": "https://localhost:8080/",
          "height": 542
        },
        "id": "1E-sDKA8d7R5",
        "outputId": "26024e53-c1bc-4f04-b4e4-21df4b1f0780"
      },
      "execution_count": 46,
      "outputs": [
        {
          "output_type": "display_data",
          "data": {
            "text/html": [
              "<html>\n",
              "<head><meta charset=\"utf-8\" /></head>\n",
              "<body>\n",
              "    <div>            <script src=\"https://cdnjs.cloudflare.com/ajax/libs/mathjax/2.7.5/MathJax.js?config=TeX-AMS-MML_SVG\"></script><script type=\"text/javascript\">if (window.MathJax && window.MathJax.Hub && window.MathJax.Hub.Config) {window.MathJax.Hub.Config({SVG: {font: \"STIX-Web\"}});}</script>                <script type=\"text/javascript\">window.PlotlyConfig = {MathJaxConfig: 'local'};</script>\n",
              "        <script charset=\"utf-8\" src=\"https://cdn.plot.ly/plotly-2.24.1.min.js\"></script>                <div id=\"86922a34-4e88-437e-a82d-0cdff8dc557c\" class=\"plotly-graph-div\" style=\"height:525px; width:100%;\"></div>            <script type=\"text/javascript\">                                    window.PLOTLYENV=window.PLOTLYENV || {};                                    if (document.getElementById(\"86922a34-4e88-437e-a82d-0cdff8dc557c\")) {                    Plotly.newPlot(                        \"86922a34-4e88-437e-a82d-0cdff8dc557c\",                        [{\"alignmentgroup\":\"True\",\"hovertemplate\":\"x=%{x}\\u003cbr\\u003eWeekly_Sales=%{y}\\u003cextra\\u003e\\u003c\\u002fextra\\u003e\",\"legendgroup\":\"\",\"marker\":{\"color\":\"#636efa\",\"pattern\":{\"shape\":\"\"}},\"name\":\"\",\"offsetgroup\":\"\",\"orientation\":\"v\",\"showlegend\":false,\"textposition\":\"auto\",\"x\":[1,2,3,4,5,6,7,8,9,10,11,12,13,14,15,16,17,18,19,20,21,22,23,24,25,26,27,28,29,30,31,32,33,34,35,36,37,38,39,40,41,42,43,44,45,46,47,48,49,50,51,52],\"xaxis\":\"x\",\"y\":[16275.965,17127.050000000003,17853.285,18419.67,23366.916666666668,40305.049999999996,47500.506666666675,19630.530000000002,20756.18,21154.62,21612.583333333332,23072.67,35536.46,41475.60666666667,27014.513333333332,27877.28333333333,24805.033333333336,18233.19,18108.696666666667,16142.536666666667,16095.193333333335,16685.91,16729.046666666665,16251.06,16214.980000000001,15806.486666666666,17220.333333333332,16457.29,15825.036666666667,15678.470000000001,16477.423333333336,15398.703333333333,15920.023333333333,15539.213333333333,16066.43,18087.93,19168.643333333333,18411.106666666667,19126.56,22030.02666666667,24273.3,24360.036666666667,32537.213333333333,37062.47,19119.465,19301.75,19865.77,23905.525,32401.785,45342.945,51359.990000000005,21237.730000000003],\"yaxis\":\"y\",\"type\":\"bar\"}],                        {\"template\":{\"data\":{\"histogram2dcontour\":[{\"type\":\"histogram2dcontour\",\"colorbar\":{\"outlinewidth\":0,\"ticks\":\"\"},\"colorscale\":[[0.0,\"#0d0887\"],[0.1111111111111111,\"#46039f\"],[0.2222222222222222,\"#7201a8\"],[0.3333333333333333,\"#9c179e\"],[0.4444444444444444,\"#bd3786\"],[0.5555555555555556,\"#d8576b\"],[0.6666666666666666,\"#ed7953\"],[0.7777777777777778,\"#fb9f3a\"],[0.8888888888888888,\"#fdca26\"],[1.0,\"#f0f921\"]]}],\"choropleth\":[{\"type\":\"choropleth\",\"colorbar\":{\"outlinewidth\":0,\"ticks\":\"\"}}],\"histogram2d\":[{\"type\":\"histogram2d\",\"colorbar\":{\"outlinewidth\":0,\"ticks\":\"\"},\"colorscale\":[[0.0,\"#0d0887\"],[0.1111111111111111,\"#46039f\"],[0.2222222222222222,\"#7201a8\"],[0.3333333333333333,\"#9c179e\"],[0.4444444444444444,\"#bd3786\"],[0.5555555555555556,\"#d8576b\"],[0.6666666666666666,\"#ed7953\"],[0.7777777777777778,\"#fb9f3a\"],[0.8888888888888888,\"#fdca26\"],[1.0,\"#f0f921\"]]}],\"heatmap\":[{\"type\":\"heatmap\",\"colorbar\":{\"outlinewidth\":0,\"ticks\":\"\"},\"colorscale\":[[0.0,\"#0d0887\"],[0.1111111111111111,\"#46039f\"],[0.2222222222222222,\"#7201a8\"],[0.3333333333333333,\"#9c179e\"],[0.4444444444444444,\"#bd3786\"],[0.5555555555555556,\"#d8576b\"],[0.6666666666666666,\"#ed7953\"],[0.7777777777777778,\"#fb9f3a\"],[0.8888888888888888,\"#fdca26\"],[1.0,\"#f0f921\"]]}],\"heatmapgl\":[{\"type\":\"heatmapgl\",\"colorbar\":{\"outlinewidth\":0,\"ticks\":\"\"},\"colorscale\":[[0.0,\"#0d0887\"],[0.1111111111111111,\"#46039f\"],[0.2222222222222222,\"#7201a8\"],[0.3333333333333333,\"#9c179e\"],[0.4444444444444444,\"#bd3786\"],[0.5555555555555556,\"#d8576b\"],[0.6666666666666666,\"#ed7953\"],[0.7777777777777778,\"#fb9f3a\"],[0.8888888888888888,\"#fdca26\"],[1.0,\"#f0f921\"]]}],\"contourcarpet\":[{\"type\":\"contourcarpet\",\"colorbar\":{\"outlinewidth\":0,\"ticks\":\"\"}}],\"contour\":[{\"type\":\"contour\",\"colorbar\":{\"outlinewidth\":0,\"ticks\":\"\"},\"colorscale\":[[0.0,\"#0d0887\"],[0.1111111111111111,\"#46039f\"],[0.2222222222222222,\"#7201a8\"],[0.3333333333333333,\"#9c179e\"],[0.4444444444444444,\"#bd3786\"],[0.5555555555555556,\"#d8576b\"],[0.6666666666666666,\"#ed7953\"],[0.7777777777777778,\"#fb9f3a\"],[0.8888888888888888,\"#fdca26\"],[1.0,\"#f0f921\"]]}],\"surface\":[{\"type\":\"surface\",\"colorbar\":{\"outlinewidth\":0,\"ticks\":\"\"},\"colorscale\":[[0.0,\"#0d0887\"],[0.1111111111111111,\"#46039f\"],[0.2222222222222222,\"#7201a8\"],[0.3333333333333333,\"#9c179e\"],[0.4444444444444444,\"#bd3786\"],[0.5555555555555556,\"#d8576b\"],[0.6666666666666666,\"#ed7953\"],[0.7777777777777778,\"#fb9f3a\"],[0.8888888888888888,\"#fdca26\"],[1.0,\"#f0f921\"]]}],\"mesh3d\":[{\"type\":\"mesh3d\",\"colorbar\":{\"outlinewidth\":0,\"ticks\":\"\"}}],\"scatter\":[{\"fillpattern\":{\"fillmode\":\"overlay\",\"size\":10,\"solidity\":0.2},\"type\":\"scatter\"}],\"parcoords\":[{\"type\":\"parcoords\",\"line\":{\"colorbar\":{\"outlinewidth\":0,\"ticks\":\"\"}}}],\"scatterpolargl\":[{\"type\":\"scatterpolargl\",\"marker\":{\"colorbar\":{\"outlinewidth\":0,\"ticks\":\"\"}}}],\"bar\":[{\"error_x\":{\"color\":\"#2a3f5f\"},\"error_y\":{\"color\":\"#2a3f5f\"},\"marker\":{\"line\":{\"color\":\"#E5ECF6\",\"width\":0.5},\"pattern\":{\"fillmode\":\"overlay\",\"size\":10,\"solidity\":0.2}},\"type\":\"bar\"}],\"scattergeo\":[{\"type\":\"scattergeo\",\"marker\":{\"colorbar\":{\"outlinewidth\":0,\"ticks\":\"\"}}}],\"scatterpolar\":[{\"type\":\"scatterpolar\",\"marker\":{\"colorbar\":{\"outlinewidth\":0,\"ticks\":\"\"}}}],\"histogram\":[{\"marker\":{\"pattern\":{\"fillmode\":\"overlay\",\"size\":10,\"solidity\":0.2}},\"type\":\"histogram\"}],\"scattergl\":[{\"type\":\"scattergl\",\"marker\":{\"colorbar\":{\"outlinewidth\":0,\"ticks\":\"\"}}}],\"scatter3d\":[{\"type\":\"scatter3d\",\"line\":{\"colorbar\":{\"outlinewidth\":0,\"ticks\":\"\"}},\"marker\":{\"colorbar\":{\"outlinewidth\":0,\"ticks\":\"\"}}}],\"scattermapbox\":[{\"type\":\"scattermapbox\",\"marker\":{\"colorbar\":{\"outlinewidth\":0,\"ticks\":\"\"}}}],\"scatterternary\":[{\"type\":\"scatterternary\",\"marker\":{\"colorbar\":{\"outlinewidth\":0,\"ticks\":\"\"}}}],\"scattercarpet\":[{\"type\":\"scattercarpet\",\"marker\":{\"colorbar\":{\"outlinewidth\":0,\"ticks\":\"\"}}}],\"carpet\":[{\"aaxis\":{\"endlinecolor\":\"#2a3f5f\",\"gridcolor\":\"white\",\"linecolor\":\"white\",\"minorgridcolor\":\"white\",\"startlinecolor\":\"#2a3f5f\"},\"baxis\":{\"endlinecolor\":\"#2a3f5f\",\"gridcolor\":\"white\",\"linecolor\":\"white\",\"minorgridcolor\":\"white\",\"startlinecolor\":\"#2a3f5f\"},\"type\":\"carpet\"}],\"table\":[{\"cells\":{\"fill\":{\"color\":\"#EBF0F8\"},\"line\":{\"color\":\"white\"}},\"header\":{\"fill\":{\"color\":\"#C8D4E3\"},\"line\":{\"color\":\"white\"}},\"type\":\"table\"}],\"barpolar\":[{\"marker\":{\"line\":{\"color\":\"#E5ECF6\",\"width\":0.5},\"pattern\":{\"fillmode\":\"overlay\",\"size\":10,\"solidity\":0.2}},\"type\":\"barpolar\"}],\"pie\":[{\"automargin\":true,\"type\":\"pie\"}]},\"layout\":{\"autotypenumbers\":\"strict\",\"colorway\":[\"#636efa\",\"#EF553B\",\"#00cc96\",\"#ab63fa\",\"#FFA15A\",\"#19d3f3\",\"#FF6692\",\"#B6E880\",\"#FF97FF\",\"#FECB52\"],\"font\":{\"color\":\"#2a3f5f\"},\"hovermode\":\"closest\",\"hoverlabel\":{\"align\":\"left\"},\"paper_bgcolor\":\"white\",\"plot_bgcolor\":\"#E5ECF6\",\"polar\":{\"bgcolor\":\"#E5ECF6\",\"angularaxis\":{\"gridcolor\":\"white\",\"linecolor\":\"white\",\"ticks\":\"\"},\"radialaxis\":{\"gridcolor\":\"white\",\"linecolor\":\"white\",\"ticks\":\"\"}},\"ternary\":{\"bgcolor\":\"#E5ECF6\",\"aaxis\":{\"gridcolor\":\"white\",\"linecolor\":\"white\",\"ticks\":\"\"},\"baxis\":{\"gridcolor\":\"white\",\"linecolor\":\"white\",\"ticks\":\"\"},\"caxis\":{\"gridcolor\":\"white\",\"linecolor\":\"white\",\"ticks\":\"\"}},\"coloraxis\":{\"colorbar\":{\"outlinewidth\":0,\"ticks\":\"\"}},\"colorscale\":{\"sequential\":[[0.0,\"#0d0887\"],[0.1111111111111111,\"#46039f\"],[0.2222222222222222,\"#7201a8\"],[0.3333333333333333,\"#9c179e\"],[0.4444444444444444,\"#bd3786\"],[0.5555555555555556,\"#d8576b\"],[0.6666666666666666,\"#ed7953\"],[0.7777777777777778,\"#fb9f3a\"],[0.8888888888888888,\"#fdca26\"],[1.0,\"#f0f921\"]],\"sequentialminus\":[[0.0,\"#0d0887\"],[0.1111111111111111,\"#46039f\"],[0.2222222222222222,\"#7201a8\"],[0.3333333333333333,\"#9c179e\"],[0.4444444444444444,\"#bd3786\"],[0.5555555555555556,\"#d8576b\"],[0.6666666666666666,\"#ed7953\"],[0.7777777777777778,\"#fb9f3a\"],[0.8888888888888888,\"#fdca26\"],[1.0,\"#f0f921\"]],\"diverging\":[[0,\"#8e0152\"],[0.1,\"#c51b7d\"],[0.2,\"#de77ae\"],[0.3,\"#f1b6da\"],[0.4,\"#fde0ef\"],[0.5,\"#f7f7f7\"],[0.6,\"#e6f5d0\"],[0.7,\"#b8e186\"],[0.8,\"#7fbc41\"],[0.9,\"#4d9221\"],[1,\"#276419\"]]},\"xaxis\":{\"gridcolor\":\"white\",\"linecolor\":\"white\",\"ticks\":\"\",\"title\":{\"standoff\":15},\"zerolinecolor\":\"white\",\"automargin\":true,\"zerolinewidth\":2},\"yaxis\":{\"gridcolor\":\"white\",\"linecolor\":\"white\",\"ticks\":\"\",\"title\":{\"standoff\":15},\"zerolinecolor\":\"white\",\"automargin\":true,\"zerolinewidth\":2},\"scene\":{\"xaxis\":{\"backgroundcolor\":\"#E5ECF6\",\"gridcolor\":\"white\",\"linecolor\":\"white\",\"showbackground\":true,\"ticks\":\"\",\"zerolinecolor\":\"white\",\"gridwidth\":2},\"yaxis\":{\"backgroundcolor\":\"#E5ECF6\",\"gridcolor\":\"white\",\"linecolor\":\"white\",\"showbackground\":true,\"ticks\":\"\",\"zerolinecolor\":\"white\",\"gridwidth\":2},\"zaxis\":{\"backgroundcolor\":\"#E5ECF6\",\"gridcolor\":\"white\",\"linecolor\":\"white\",\"showbackground\":true,\"ticks\":\"\",\"zerolinecolor\":\"white\",\"gridwidth\":2}},\"shapedefaults\":{\"line\":{\"color\":\"#2a3f5f\"}},\"annotationdefaults\":{\"arrowcolor\":\"#2a3f5f\",\"arrowhead\":0,\"arrowwidth\":1},\"geo\":{\"bgcolor\":\"white\",\"landcolor\":\"#E5ECF6\",\"subunitcolor\":\"white\",\"showland\":true,\"showlakes\":true,\"lakecolor\":\"white\"},\"title\":{\"x\":0.05},\"mapbox\":{\"style\":\"light\"}}},\"xaxis\":{\"anchor\":\"y\",\"domain\":[0.0,1.0],\"title\":{\"text\":\"x\"}},\"yaxis\":{\"anchor\":\"x\",\"domain\":[0.0,1.0],\"title\":{\"text\":\"Weekly_Sales\"}},\"legend\":{\"tracegroupgap\":0},\"margin\":{\"t\":60},\"barmode\":\"relative\"},                        {\"responsive\": true}                    ).then(function(){\n",
              "                            \n",
              "var gd = document.getElementById('86922a34-4e88-437e-a82d-0cdff8dc557c');\n",
              "var x = new MutationObserver(function (mutations, observer) {{\n",
              "        var display = window.getComputedStyle(gd).display;\n",
              "        if (!display || display === 'none') {{\n",
              "            console.log([gd, 'removed!']);\n",
              "            Plotly.purge(gd);\n",
              "            observer.disconnect();\n",
              "        }}\n",
              "}});\n",
              "\n",
              "// Listen for the removal of the full notebook cells\n",
              "var notebookContainer = gd.closest('#notebook-container');\n",
              "if (notebookContainer) {{\n",
              "    x.observe(notebookContainer, {childList: true});\n",
              "}}\n",
              "\n",
              "// Listen for the clearing of the current output cell\n",
              "var outputEl = gd.closest('.output');\n",
              "if (outputEl) {{\n",
              "    x.observe(outputEl, {childList: true});\n",
              "}}\n",
              "\n",
              "                        })                };                            </script>        </div>\n",
              "</body>\n",
              "</html>"
            ]
          },
          "metadata": {}
        }
      ]
    },
    {
      "cell_type": "markdown",
      "source": [
        "# Rolling average (an example window function)"
      ],
      "metadata": {
        "id": "V-wVikAyLsfI"
      }
    },
    {
      "cell_type": "code",
      "source": [
        "weekly_agg['sales_roll3'] = weekly_agg['Weekly_Sales'].rolling(3).mean()\n",
        "weekly_agg['sales_roll5'] = weekly_agg['Weekly_Sales'].rolling(5).mean()\n",
        "weekly_agg['sales_roll20'] = weekly_agg['Weekly_Sales'].rolling(20).mean()"
      ],
      "metadata": {
        "id": "Eq8wJEvUWxZ7"
      },
      "execution_count": 48,
      "outputs": []
    },
    {
      "cell_type": "code",
      "source": [
        "weekly_agg.index"
      ],
      "metadata": {
        "colab": {
          "base_uri": "https://localhost:8080/"
        },
        "id": "Z6BV5ChzO_r2",
        "outputId": "494f6f30-9fc3-44c6-e0c3-7113ffc93357"
      },
      "execution_count": 49,
      "outputs": [
        {
          "output_type": "execute_result",
          "data": {
            "text/plain": [
              "Index([ 1,  2,  3,  4,  5,  6,  7,  8,  9, 10, 11, 12, 13, 14, 15, 16, 17, 18,\n",
              "       19, 20, 21, 22, 23, 24, 25, 26, 27, 28, 29, 30, 31, 32, 33, 34, 35, 36,\n",
              "       37, 38, 39, 40, 41, 42, 43, 44, 45, 46, 47, 48, 49, 50, 51, 52],\n",
              "      dtype='UInt32', name='Week')"
            ]
          },
          "metadata": {},
          "execution_count": 49
        }
      ]
    },
    {
      "cell_type": "markdown",
      "source": [
        "Reseting index"
      ],
      "metadata": {
        "id": "hG6w-6-fL8sE"
      }
    },
    {
      "cell_type": "code",
      "source": [
        "weekly_agg = weekly_agg.reset_index()"
      ],
      "metadata": {
        "id": "D8BZsYRjcMrj"
      },
      "execution_count": 50,
      "outputs": []
    },
    {
      "cell_type": "code",
      "source": [
        "weekly_agg.index.values"
      ],
      "metadata": {
        "colab": {
          "base_uri": "https://localhost:8080/"
        },
        "id": "3luPSKWSPL74",
        "outputId": "380099eb-beb4-480c-d3f4-9f07bc751968"
      },
      "execution_count": 51,
      "outputs": [
        {
          "output_type": "execute_result",
          "data": {
            "text/plain": [
              "array([ 0,  1,  2,  3,  4,  5,  6,  7,  8,  9, 10, 11, 12, 13, 14, 15, 16,\n",
              "       17, 18, 19, 20, 21, 22, 23, 24, 25, 26, 27, 28, 29, 30, 31, 32, 33,\n",
              "       34, 35, 36, 37, 38, 39, 40, 41, 42, 43, 44, 45, 46, 47, 48, 49, 50,\n",
              "       51])"
            ]
          },
          "metadata": {},
          "execution_count": 51
        }
      ]
    },
    {
      "cell_type": "code",
      "source": [
        "weekly_agg.head(6)"
      ],
      "metadata": {
        "colab": {
          "base_uri": "https://localhost:8080/",
          "height": 237
        },
        "id": "AXsUY0a8cGuj",
        "outputId": "6d775913-5b54-45ba-9bee-8647c8d36b41"
      },
      "execution_count": 52,
      "outputs": [
        {
          "output_type": "execute_result",
          "data": {
            "text/plain": [
              "   Week  Weekly_Sales   sales_roll3   sales_roll5  sales_roll20\n",
              "0     1  16275.965000           NaN           NaN           NaN\n",
              "1     2  17127.050000           NaN           NaN           NaN\n",
              "2     3  17853.285000  17085.433333           NaN           NaN\n",
              "3     4  18419.670000  17800.001667           NaN           NaN\n",
              "4     5  23366.916667  19879.957222  18608.577333           NaN\n",
              "5     6  40305.050000  27363.878889  23414.394333           NaN"
            ],
            "text/html": [
              "\n",
              "  <div id=\"df-75936ce0-118e-45ef-a7e4-679429eddfe2\" class=\"colab-df-container\">\n",
              "    <div>\n",
              "<style scoped>\n",
              "    .dataframe tbody tr th:only-of-type {\n",
              "        vertical-align: middle;\n",
              "    }\n",
              "\n",
              "    .dataframe tbody tr th {\n",
              "        vertical-align: top;\n",
              "    }\n",
              "\n",
              "    .dataframe thead th {\n",
              "        text-align: right;\n",
              "    }\n",
              "</style>\n",
              "<table border=\"1\" class=\"dataframe\">\n",
              "  <thead>\n",
              "    <tr style=\"text-align: right;\">\n",
              "      <th></th>\n",
              "      <th>Week</th>\n",
              "      <th>Weekly_Sales</th>\n",
              "      <th>sales_roll3</th>\n",
              "      <th>sales_roll5</th>\n",
              "      <th>sales_roll20</th>\n",
              "    </tr>\n",
              "  </thead>\n",
              "  <tbody>\n",
              "    <tr>\n",
              "      <th>0</th>\n",
              "      <td>1</td>\n",
              "      <td>16275.965000</td>\n",
              "      <td>NaN</td>\n",
              "      <td>NaN</td>\n",
              "      <td>NaN</td>\n",
              "    </tr>\n",
              "    <tr>\n",
              "      <th>1</th>\n",
              "      <td>2</td>\n",
              "      <td>17127.050000</td>\n",
              "      <td>NaN</td>\n",
              "      <td>NaN</td>\n",
              "      <td>NaN</td>\n",
              "    </tr>\n",
              "    <tr>\n",
              "      <th>2</th>\n",
              "      <td>3</td>\n",
              "      <td>17853.285000</td>\n",
              "      <td>17085.433333</td>\n",
              "      <td>NaN</td>\n",
              "      <td>NaN</td>\n",
              "    </tr>\n",
              "    <tr>\n",
              "      <th>3</th>\n",
              "      <td>4</td>\n",
              "      <td>18419.670000</td>\n",
              "      <td>17800.001667</td>\n",
              "      <td>NaN</td>\n",
              "      <td>NaN</td>\n",
              "    </tr>\n",
              "    <tr>\n",
              "      <th>4</th>\n",
              "      <td>5</td>\n",
              "      <td>23366.916667</td>\n",
              "      <td>19879.957222</td>\n",
              "      <td>18608.577333</td>\n",
              "      <td>NaN</td>\n",
              "    </tr>\n",
              "    <tr>\n",
              "      <th>5</th>\n",
              "      <td>6</td>\n",
              "      <td>40305.050000</td>\n",
              "      <td>27363.878889</td>\n",
              "      <td>23414.394333</td>\n",
              "      <td>NaN</td>\n",
              "    </tr>\n",
              "  </tbody>\n",
              "</table>\n",
              "</div>\n",
              "    <div class=\"colab-df-buttons\">\n",
              "\n",
              "  <div class=\"colab-df-container\">\n",
              "    <button class=\"colab-df-convert\" onclick=\"convertToInteractive('df-75936ce0-118e-45ef-a7e4-679429eddfe2')\"\n",
              "            title=\"Convert this dataframe to an interactive table.\"\n",
              "            style=\"display:none;\">\n",
              "\n",
              "  <svg xmlns=\"http://www.w3.org/2000/svg\" height=\"24px\" viewBox=\"0 -960 960 960\">\n",
              "    <path d=\"M120-120v-720h720v720H120Zm60-500h600v-160H180v160Zm220 220h160v-160H400v160Zm0 220h160v-160H400v160ZM180-400h160v-160H180v160Zm440 0h160v-160H620v160ZM180-180h160v-160H180v160Zm440 0h160v-160H620v160Z\"/>\n",
              "  </svg>\n",
              "    </button>\n",
              "\n",
              "  <style>\n",
              "    .colab-df-container {\n",
              "      display:flex;\n",
              "      gap: 12px;\n",
              "    }\n",
              "\n",
              "    .colab-df-convert {\n",
              "      background-color: #E8F0FE;\n",
              "      border: none;\n",
              "      border-radius: 50%;\n",
              "      cursor: pointer;\n",
              "      display: none;\n",
              "      fill: #1967D2;\n",
              "      height: 32px;\n",
              "      padding: 0 0 0 0;\n",
              "      width: 32px;\n",
              "    }\n",
              "\n",
              "    .colab-df-convert:hover {\n",
              "      background-color: #E2EBFA;\n",
              "      box-shadow: 0px 1px 2px rgba(60, 64, 67, 0.3), 0px 1px 3px 1px rgba(60, 64, 67, 0.15);\n",
              "      fill: #174EA6;\n",
              "    }\n",
              "\n",
              "    .colab-df-buttons div {\n",
              "      margin-bottom: 4px;\n",
              "    }\n",
              "\n",
              "    [theme=dark] .colab-df-convert {\n",
              "      background-color: #3B4455;\n",
              "      fill: #D2E3FC;\n",
              "    }\n",
              "\n",
              "    [theme=dark] .colab-df-convert:hover {\n",
              "      background-color: #434B5C;\n",
              "      box-shadow: 0px 1px 3px 1px rgba(0, 0, 0, 0.15);\n",
              "      filter: drop-shadow(0px 1px 2px rgba(0, 0, 0, 0.3));\n",
              "      fill: #FFFFFF;\n",
              "    }\n",
              "  </style>\n",
              "\n",
              "    <script>\n",
              "      const buttonEl =\n",
              "        document.querySelector('#df-75936ce0-118e-45ef-a7e4-679429eddfe2 button.colab-df-convert');\n",
              "      buttonEl.style.display =\n",
              "        google.colab.kernel.accessAllowed ? 'block' : 'none';\n",
              "\n",
              "      async function convertToInteractive(key) {\n",
              "        const element = document.querySelector('#df-75936ce0-118e-45ef-a7e4-679429eddfe2');\n",
              "        const dataTable =\n",
              "          await google.colab.kernel.invokeFunction('convertToInteractive',\n",
              "                                                    [key], {});\n",
              "        if (!dataTable) return;\n",
              "\n",
              "        const docLinkHtml = 'Like what you see? Visit the ' +\n",
              "          '<a target=\"_blank\" href=https://colab.research.google.com/notebooks/data_table.ipynb>data table notebook</a>'\n",
              "          + ' to learn more about interactive tables.';\n",
              "        element.innerHTML = '';\n",
              "        dataTable['output_type'] = 'display_data';\n",
              "        await google.colab.output.renderOutput(dataTable, element);\n",
              "        const docLink = document.createElement('div');\n",
              "        docLink.innerHTML = docLinkHtml;\n",
              "        element.appendChild(docLink);\n",
              "      }\n",
              "    </script>\n",
              "  </div>\n",
              "\n",
              "\n",
              "<div id=\"df-b6c8239a-9613-4046-8fe5-357cb1908cab\">\n",
              "  <button class=\"colab-df-quickchart\" onclick=\"quickchart('df-b6c8239a-9613-4046-8fe5-357cb1908cab')\"\n",
              "            title=\"Suggest charts\"\n",
              "            style=\"display:none;\">\n",
              "\n",
              "<svg xmlns=\"http://www.w3.org/2000/svg\" height=\"24px\"viewBox=\"0 0 24 24\"\n",
              "     width=\"24px\">\n",
              "    <g>\n",
              "        <path d=\"M19 3H5c-1.1 0-2 .9-2 2v14c0 1.1.9 2 2 2h14c1.1 0 2-.9 2-2V5c0-1.1-.9-2-2-2zM9 17H7v-7h2v7zm4 0h-2V7h2v10zm4 0h-2v-4h2v4z\"/>\n",
              "    </g>\n",
              "</svg>\n",
              "  </button>\n",
              "\n",
              "<style>\n",
              "  .colab-df-quickchart {\n",
              "      --bg-color: #E8F0FE;\n",
              "      --fill-color: #1967D2;\n",
              "      --hover-bg-color: #E2EBFA;\n",
              "      --hover-fill-color: #174EA6;\n",
              "      --disabled-fill-color: #AAA;\n",
              "      --disabled-bg-color: #DDD;\n",
              "  }\n",
              "\n",
              "  [theme=dark] .colab-df-quickchart {\n",
              "      --bg-color: #3B4455;\n",
              "      --fill-color: #D2E3FC;\n",
              "      --hover-bg-color: #434B5C;\n",
              "      --hover-fill-color: #FFFFFF;\n",
              "      --disabled-bg-color: #3B4455;\n",
              "      --disabled-fill-color: #666;\n",
              "  }\n",
              "\n",
              "  .colab-df-quickchart {\n",
              "    background-color: var(--bg-color);\n",
              "    border: none;\n",
              "    border-radius: 50%;\n",
              "    cursor: pointer;\n",
              "    display: none;\n",
              "    fill: var(--fill-color);\n",
              "    height: 32px;\n",
              "    padding: 0;\n",
              "    width: 32px;\n",
              "  }\n",
              "\n",
              "  .colab-df-quickchart:hover {\n",
              "    background-color: var(--hover-bg-color);\n",
              "    box-shadow: 0 1px 2px rgba(60, 64, 67, 0.3), 0 1px 3px 1px rgba(60, 64, 67, 0.15);\n",
              "    fill: var(--button-hover-fill-color);\n",
              "  }\n",
              "\n",
              "  .colab-df-quickchart-complete:disabled,\n",
              "  .colab-df-quickchart-complete:disabled:hover {\n",
              "    background-color: var(--disabled-bg-color);\n",
              "    fill: var(--disabled-fill-color);\n",
              "    box-shadow: none;\n",
              "  }\n",
              "\n",
              "  .colab-df-spinner {\n",
              "    border: 2px solid var(--fill-color);\n",
              "    border-color: transparent;\n",
              "    border-bottom-color: var(--fill-color);\n",
              "    animation:\n",
              "      spin 1s steps(1) infinite;\n",
              "  }\n",
              "\n",
              "  @keyframes spin {\n",
              "    0% {\n",
              "      border-color: transparent;\n",
              "      border-bottom-color: var(--fill-color);\n",
              "      border-left-color: var(--fill-color);\n",
              "    }\n",
              "    20% {\n",
              "      border-color: transparent;\n",
              "      border-left-color: var(--fill-color);\n",
              "      border-top-color: var(--fill-color);\n",
              "    }\n",
              "    30% {\n",
              "      border-color: transparent;\n",
              "      border-left-color: var(--fill-color);\n",
              "      border-top-color: var(--fill-color);\n",
              "      border-right-color: var(--fill-color);\n",
              "    }\n",
              "    40% {\n",
              "      border-color: transparent;\n",
              "      border-right-color: var(--fill-color);\n",
              "      border-top-color: var(--fill-color);\n",
              "    }\n",
              "    60% {\n",
              "      border-color: transparent;\n",
              "      border-right-color: var(--fill-color);\n",
              "    }\n",
              "    80% {\n",
              "      border-color: transparent;\n",
              "      border-right-color: var(--fill-color);\n",
              "      border-bottom-color: var(--fill-color);\n",
              "    }\n",
              "    90% {\n",
              "      border-color: transparent;\n",
              "      border-bottom-color: var(--fill-color);\n",
              "    }\n",
              "  }\n",
              "</style>\n",
              "\n",
              "  <script>\n",
              "    async function quickchart(key) {\n",
              "      const quickchartButtonEl =\n",
              "        document.querySelector('#' + key + ' button');\n",
              "      quickchartButtonEl.disabled = true;  // To prevent multiple clicks.\n",
              "      quickchartButtonEl.classList.add('colab-df-spinner');\n",
              "      try {\n",
              "        const charts = await google.colab.kernel.invokeFunction(\n",
              "            'suggestCharts', [key], {});\n",
              "      } catch (error) {\n",
              "        console.error('Error during call to suggestCharts:', error);\n",
              "      }\n",
              "      quickchartButtonEl.classList.remove('colab-df-spinner');\n",
              "      quickchartButtonEl.classList.add('colab-df-quickchart-complete');\n",
              "    }\n",
              "    (() => {\n",
              "      let quickchartButtonEl =\n",
              "        document.querySelector('#df-b6c8239a-9613-4046-8fe5-357cb1908cab button');\n",
              "      quickchartButtonEl.style.display =\n",
              "        google.colab.kernel.accessAllowed ? 'block' : 'none';\n",
              "    })();\n",
              "  </script>\n",
              "</div>\n",
              "\n",
              "    </div>\n",
              "  </div>\n"
            ],
            "application/vnd.google.colaboratory.intrinsic+json": {
              "type": "dataframe",
              "variable_name": "weekly_agg",
              "summary": "{\n  \"name\": \"weekly_agg\",\n  \"rows\": 52,\n  \"fields\": [\n    {\n      \"column\": \"Week\",\n      \"properties\": {\n        \"dtype\": \"UInt32\",\n        \"num_unique_values\": 52,\n        \"samples\": [\n          20,\n          42,\n          48\n        ],\n        \"semantic_type\": \"\",\n        \"description\": \"\"\n      }\n    },\n    {\n      \"column\": \"Weekly_Sales\",\n      \"properties\": {\n        \"dtype\": \"number\",\n        \"std\": 9064.398867274664,\n        \"min\": 15398.703333333333,\n        \"max\": 51359.990000000005,\n        \"num_unique_values\": 52,\n        \"samples\": [\n          16142.536666666667,\n          24360.036666666667,\n          23905.525\n        ],\n        \"semantic_type\": \"\",\n        \"description\": \"\"\n      }\n    },\n    {\n      \"column\": \"sales_roll3\",\n      \"properties\": {\n        \"dtype\": \"number\",\n        \"std\": 7342.295974350453,\n        \"min\": 15619.313333333334,\n        \"max\": 43034.90666666667,\n        \"num_unique_values\": 50,\n        \"samples\": [\n          32122.467777777772,\n          23554.454444444447,\n          15932.050000000001\n        ],\n        \"semantic_type\": \"\",\n        \"description\": \"\"\n      }\n    },\n    {\n      \"column\": \"sales_roll5\",\n      \"properties\": {\n        \"dtype\": \"number\",\n        \"std\": 5880.46225502873,\n        \"min\": 15802.766666666668,\n        \"max\": 34849.595,\n        \"num_unique_values\": 48,\n        \"samples\": [\n          15967.384666666669,\n          27470.496999999996,\n          16331.710666666666\n        ],\n        \"semantic_type\": \"\",\n        \"description\": \"\"\n      }\n    },\n    {\n      \"column\": \"sales_roll20\",\n      \"properties\": {\n        \"dtype\": \"number\",\n        \"std\": 2870.0509460898243,\n        \"min\": 16605.329833333333,\n        \"max\": 24813.417333333335,\n        \"num_unique_values\": 33,\n        \"samples\": [\n          24463.944333333337,\n          17376.617,\n          19903.07125\n        ],\n        \"semantic_type\": \"\",\n        \"description\": \"\"\n      }\n    }\n  ]\n}"
            }
          },
          "metadata": {},
          "execution_count": 52
        }
      ]
    },
    {
      "cell_type": "markdown",
      "source": [
        "Plotting multiple graps using the plotly grap object"
      ],
      "metadata": {
        "id": "V5YDgU4AMC5Z"
      }
    },
    {
      "cell_type": "code",
      "source": [
        "fig = go.Figure([\n",
        "    go.Scatter(x=weekly_agg['Week'],\n",
        "               y=weekly_agg['Weekly_Sales']),\n",
        "    go.Scatter(x=weekly_agg['Week'],\n",
        "               y=weekly_agg['sales_roll3']),\n",
        "        go.Scatter(x=weekly_agg['Week'],\n",
        "               y=weekly_agg['sales_roll5']),\n",
        "            go.Scatter(x=weekly_agg['Week'],\n",
        "               y=weekly_agg['sales_roll20'])\n",
        "]\n",
        "               )\n",
        "\n",
        "fig.update_layout(\n",
        "    title=\"rolling averages of weekly sales\",\n",
        "    yaxis_title=\"weekly sales average\", legend_title=\"rooling avg index \")\n",
        "\n",
        "fig.update_layout(\n",
        "    legend=dict(\n",
        "        x=0.05,\n",
        "        y=0.95,\n",
        "        traceorder=\"normal\",\n",
        "        font=dict(\n",
        "            family=\"sans-serif\",\n",
        "            size=12,\n",
        "            color=\"black\"\n",
        "        ),\n",
        "    )\n",
        ")\n",
        "fig.show()"
      ],
      "metadata": {
        "id": "Sm-GgCQ1WxW2",
        "colab": {
          "base_uri": "https://localhost:8080/",
          "height": 542
        },
        "outputId": "de3c9bd4-be98-44ce-aa91-20c51c1ac191"
      },
      "execution_count": 53,
      "outputs": [
        {
          "output_type": "display_data",
          "data": {
            "text/html": [
              "<html>\n",
              "<head><meta charset=\"utf-8\" /></head>\n",
              "<body>\n",
              "    <div>            <script src=\"https://cdnjs.cloudflare.com/ajax/libs/mathjax/2.7.5/MathJax.js?config=TeX-AMS-MML_SVG\"></script><script type=\"text/javascript\">if (window.MathJax && window.MathJax.Hub && window.MathJax.Hub.Config) {window.MathJax.Hub.Config({SVG: {font: \"STIX-Web\"}});}</script>                <script type=\"text/javascript\">window.PlotlyConfig = {MathJaxConfig: 'local'};</script>\n",
              "        <script charset=\"utf-8\" src=\"https://cdn.plot.ly/plotly-2.24.1.min.js\"></script>                <div id=\"e8770e34-06f1-468a-9ee5-b09b8d2a3be6\" class=\"plotly-graph-div\" style=\"height:525px; width:100%;\"></div>            <script type=\"text/javascript\">                                    window.PLOTLYENV=window.PLOTLYENV || {};                                    if (document.getElementById(\"e8770e34-06f1-468a-9ee5-b09b8d2a3be6\")) {                    Plotly.newPlot(                        \"e8770e34-06f1-468a-9ee5-b09b8d2a3be6\",                        [{\"x\":[1,2,3,4,5,6,7,8,9,10,11,12,13,14,15,16,17,18,19,20,21,22,23,24,25,26,27,28,29,30,31,32,33,34,35,36,37,38,39,40,41,42,43,44,45,46,47,48,49,50,51,52],\"y\":[16275.965,17127.050000000003,17853.285,18419.67,23366.916666666668,40305.049999999996,47500.506666666675,19630.530000000002,20756.18,21154.62,21612.583333333332,23072.67,35536.46,41475.60666666667,27014.513333333332,27877.28333333333,24805.033333333336,18233.19,18108.696666666667,16142.536666666667,16095.193333333335,16685.91,16729.046666666665,16251.06,16214.980000000001,15806.486666666666,17220.333333333332,16457.29,15825.036666666667,15678.470000000001,16477.423333333336,15398.703333333333,15920.023333333333,15539.213333333333,16066.43,18087.93,19168.643333333333,18411.106666666667,19126.56,22030.02666666667,24273.3,24360.036666666667,32537.213333333333,37062.47,19119.465,19301.75,19865.77,23905.525,32401.785,45342.945,51359.990000000005,21237.730000000003],\"type\":\"scatter\"},{\"x\":[1,2,3,4,5,6,7,8,9,10,11,12,13,14,15,16,17,18,19,20,21,22,23,24,25,26,27,28,29,30,31,32,33,34,35,36,37,38,39,40,41,42,43,44,45,46,47,48,49,50,51,52],\"y\":[null,null,17085.433333333334,17800.001666666667,19879.957222222223,27363.878888888885,37057.49111111111,35812.02888888889,29295.738888888893,20513.77666666667,21174.46111111111,21946.624444444442,26740.571111111112,33361.578888888886,34675.526666666665,32122.467777777772,26565.61,23638.502222222218,20382.306666666667,17494.807777777776,16782.14222222222,16307.88,16503.383333333335,16555.338888888888,16398.362222222222,16090.842222222223,16413.933333333334,16494.703333333335,16500.88666666667,15986.932222222224,15993.643333333335,15851.532222222224,15932.050000000001,15619.313333333334,15841.88888888889,16564.524444444443,17774.334444444445,18555.893333333333,18902.103333333333,19855.89777777778,21809.962222222224,23554.454444444447,27056.850000000002,31319.906666666666,29573.049444444445,25161.228333333333,19428.995,21024.348333333335,25391.02666666667,33883.418333333335,43034.90666666667,39313.555],\"type\":\"scatter\"},{\"x\":[1,2,3,4,5,6,7,8,9,10,11,12,13,14,15,16,17,18,19,20,21,22,23,24,25,26,27,28,29,30,31,32,33,34,35,36,37,38,39,40,41,42,43,44,45,46,47,48,49,50,51,52],\"y\":[null,null,null,null,18608.577333333335,23414.394333333334,29489.08566666667,29844.534666666666,30311.83666666667,29869.37733333333,26130.884000000002,21245.316666666666,24426.502666666664,28570.388,29742.36666666667,30995.306666666664,31341.779333333332,27881.12533333333,23207.743333333336,21033.348,18676.93,17053.105333333333,16752.276666666665,16380.749333333331,16395.238,16337.496666666668,16444.38133333333,16390.03,16304.825333333336,16197.523333333334,16331.710666666666,15967.384666666669,15859.931333333336,15802.766666666668,15880.358666666667,16202.459999999997,16956.448,17454.664666666667,18172.134,19364.853333333333,20601.927333333333,21640.206,24465.427333333333,28052.609333333334,27470.496999999996,26476.186999999998,25577.333666666666,23850.996000000003,22918.859,28163.555000000004,34575.203,34849.595],\"type\":\"scatter\"},{\"x\":[1,2,3,4,5,6,7,8,9,10,11,12,13,14,15,16,17,18,19,20,21,22,23,24,25,26,27,28,29,30,31,32,33,34,35,36,37,38,39,40,41,42,43,44,45,46,47,48,49,50,51,52],\"y\":[null,null,null,null,null,null,null,null,null,null,null,null,null,null,null,null,null,null,null,24813.417333333335,24804.378749999996,24782.32175,24726.109833333332,24617.67933333333,24260.0825,23035.154333333332,21521.145666666667,21362.483666666667,21115.9265,20842.119,20585.360999999997,20201.662666666663,19220.840833333335,17924.021166666666,17376.617,16887.14933333333,16605.329833333333,16614.225666666665,16665.118833333334,16959.493333333332,17368.398666666668,17752.105,18542.513333333332,19583.083833333334,19728.308083333333,19903.07125,20035.343083333333,20407.754833333332,21236.592249999998,22719.816,24463.944333333337,24755.89566666667],\"type\":\"scatter\"}],                        {\"template\":{\"data\":{\"histogram2dcontour\":[{\"type\":\"histogram2dcontour\",\"colorbar\":{\"outlinewidth\":0,\"ticks\":\"\"},\"colorscale\":[[0.0,\"#0d0887\"],[0.1111111111111111,\"#46039f\"],[0.2222222222222222,\"#7201a8\"],[0.3333333333333333,\"#9c179e\"],[0.4444444444444444,\"#bd3786\"],[0.5555555555555556,\"#d8576b\"],[0.6666666666666666,\"#ed7953\"],[0.7777777777777778,\"#fb9f3a\"],[0.8888888888888888,\"#fdca26\"],[1.0,\"#f0f921\"]]}],\"choropleth\":[{\"type\":\"choropleth\",\"colorbar\":{\"outlinewidth\":0,\"ticks\":\"\"}}],\"histogram2d\":[{\"type\":\"histogram2d\",\"colorbar\":{\"outlinewidth\":0,\"ticks\":\"\"},\"colorscale\":[[0.0,\"#0d0887\"],[0.1111111111111111,\"#46039f\"],[0.2222222222222222,\"#7201a8\"],[0.3333333333333333,\"#9c179e\"],[0.4444444444444444,\"#bd3786\"],[0.5555555555555556,\"#d8576b\"],[0.6666666666666666,\"#ed7953\"],[0.7777777777777778,\"#fb9f3a\"],[0.8888888888888888,\"#fdca26\"],[1.0,\"#f0f921\"]]}],\"heatmap\":[{\"type\":\"heatmap\",\"colorbar\":{\"outlinewidth\":0,\"ticks\":\"\"},\"colorscale\":[[0.0,\"#0d0887\"],[0.1111111111111111,\"#46039f\"],[0.2222222222222222,\"#7201a8\"],[0.3333333333333333,\"#9c179e\"],[0.4444444444444444,\"#bd3786\"],[0.5555555555555556,\"#d8576b\"],[0.6666666666666666,\"#ed7953\"],[0.7777777777777778,\"#fb9f3a\"],[0.8888888888888888,\"#fdca26\"],[1.0,\"#f0f921\"]]}],\"heatmapgl\":[{\"type\":\"heatmapgl\",\"colorbar\":{\"outlinewidth\":0,\"ticks\":\"\"},\"colorscale\":[[0.0,\"#0d0887\"],[0.1111111111111111,\"#46039f\"],[0.2222222222222222,\"#7201a8\"],[0.3333333333333333,\"#9c179e\"],[0.4444444444444444,\"#bd3786\"],[0.5555555555555556,\"#d8576b\"],[0.6666666666666666,\"#ed7953\"],[0.7777777777777778,\"#fb9f3a\"],[0.8888888888888888,\"#fdca26\"],[1.0,\"#f0f921\"]]}],\"contourcarpet\":[{\"type\":\"contourcarpet\",\"colorbar\":{\"outlinewidth\":0,\"ticks\":\"\"}}],\"contour\":[{\"type\":\"contour\",\"colorbar\":{\"outlinewidth\":0,\"ticks\":\"\"},\"colorscale\":[[0.0,\"#0d0887\"],[0.1111111111111111,\"#46039f\"],[0.2222222222222222,\"#7201a8\"],[0.3333333333333333,\"#9c179e\"],[0.4444444444444444,\"#bd3786\"],[0.5555555555555556,\"#d8576b\"],[0.6666666666666666,\"#ed7953\"],[0.7777777777777778,\"#fb9f3a\"],[0.8888888888888888,\"#fdca26\"],[1.0,\"#f0f921\"]]}],\"surface\":[{\"type\":\"surface\",\"colorbar\":{\"outlinewidth\":0,\"ticks\":\"\"},\"colorscale\":[[0.0,\"#0d0887\"],[0.1111111111111111,\"#46039f\"],[0.2222222222222222,\"#7201a8\"],[0.3333333333333333,\"#9c179e\"],[0.4444444444444444,\"#bd3786\"],[0.5555555555555556,\"#d8576b\"],[0.6666666666666666,\"#ed7953\"],[0.7777777777777778,\"#fb9f3a\"],[0.8888888888888888,\"#fdca26\"],[1.0,\"#f0f921\"]]}],\"mesh3d\":[{\"type\":\"mesh3d\",\"colorbar\":{\"outlinewidth\":0,\"ticks\":\"\"}}],\"scatter\":[{\"fillpattern\":{\"fillmode\":\"overlay\",\"size\":10,\"solidity\":0.2},\"type\":\"scatter\"}],\"parcoords\":[{\"type\":\"parcoords\",\"line\":{\"colorbar\":{\"outlinewidth\":0,\"ticks\":\"\"}}}],\"scatterpolargl\":[{\"type\":\"scatterpolargl\",\"marker\":{\"colorbar\":{\"outlinewidth\":0,\"ticks\":\"\"}}}],\"bar\":[{\"error_x\":{\"color\":\"#2a3f5f\"},\"error_y\":{\"color\":\"#2a3f5f\"},\"marker\":{\"line\":{\"color\":\"#E5ECF6\",\"width\":0.5},\"pattern\":{\"fillmode\":\"overlay\",\"size\":10,\"solidity\":0.2}},\"type\":\"bar\"}],\"scattergeo\":[{\"type\":\"scattergeo\",\"marker\":{\"colorbar\":{\"outlinewidth\":0,\"ticks\":\"\"}}}],\"scatterpolar\":[{\"type\":\"scatterpolar\",\"marker\":{\"colorbar\":{\"outlinewidth\":0,\"ticks\":\"\"}}}],\"histogram\":[{\"marker\":{\"pattern\":{\"fillmode\":\"overlay\",\"size\":10,\"solidity\":0.2}},\"type\":\"histogram\"}],\"scattergl\":[{\"type\":\"scattergl\",\"marker\":{\"colorbar\":{\"outlinewidth\":0,\"ticks\":\"\"}}}],\"scatter3d\":[{\"type\":\"scatter3d\",\"line\":{\"colorbar\":{\"outlinewidth\":0,\"ticks\":\"\"}},\"marker\":{\"colorbar\":{\"outlinewidth\":0,\"ticks\":\"\"}}}],\"scattermapbox\":[{\"type\":\"scattermapbox\",\"marker\":{\"colorbar\":{\"outlinewidth\":0,\"ticks\":\"\"}}}],\"scatterternary\":[{\"type\":\"scatterternary\",\"marker\":{\"colorbar\":{\"outlinewidth\":0,\"ticks\":\"\"}}}],\"scattercarpet\":[{\"type\":\"scattercarpet\",\"marker\":{\"colorbar\":{\"outlinewidth\":0,\"ticks\":\"\"}}}],\"carpet\":[{\"aaxis\":{\"endlinecolor\":\"#2a3f5f\",\"gridcolor\":\"white\",\"linecolor\":\"white\",\"minorgridcolor\":\"white\",\"startlinecolor\":\"#2a3f5f\"},\"baxis\":{\"endlinecolor\":\"#2a3f5f\",\"gridcolor\":\"white\",\"linecolor\":\"white\",\"minorgridcolor\":\"white\",\"startlinecolor\":\"#2a3f5f\"},\"type\":\"carpet\"}],\"table\":[{\"cells\":{\"fill\":{\"color\":\"#EBF0F8\"},\"line\":{\"color\":\"white\"}},\"header\":{\"fill\":{\"color\":\"#C8D4E3\"},\"line\":{\"color\":\"white\"}},\"type\":\"table\"}],\"barpolar\":[{\"marker\":{\"line\":{\"color\":\"#E5ECF6\",\"width\":0.5},\"pattern\":{\"fillmode\":\"overlay\",\"size\":10,\"solidity\":0.2}},\"type\":\"barpolar\"}],\"pie\":[{\"automargin\":true,\"type\":\"pie\"}]},\"layout\":{\"autotypenumbers\":\"strict\",\"colorway\":[\"#636efa\",\"#EF553B\",\"#00cc96\",\"#ab63fa\",\"#FFA15A\",\"#19d3f3\",\"#FF6692\",\"#B6E880\",\"#FF97FF\",\"#FECB52\"],\"font\":{\"color\":\"#2a3f5f\"},\"hovermode\":\"closest\",\"hoverlabel\":{\"align\":\"left\"},\"paper_bgcolor\":\"white\",\"plot_bgcolor\":\"#E5ECF6\",\"polar\":{\"bgcolor\":\"#E5ECF6\",\"angularaxis\":{\"gridcolor\":\"white\",\"linecolor\":\"white\",\"ticks\":\"\"},\"radialaxis\":{\"gridcolor\":\"white\",\"linecolor\":\"white\",\"ticks\":\"\"}},\"ternary\":{\"bgcolor\":\"#E5ECF6\",\"aaxis\":{\"gridcolor\":\"white\",\"linecolor\":\"white\",\"ticks\":\"\"},\"baxis\":{\"gridcolor\":\"white\",\"linecolor\":\"white\",\"ticks\":\"\"},\"caxis\":{\"gridcolor\":\"white\",\"linecolor\":\"white\",\"ticks\":\"\"}},\"coloraxis\":{\"colorbar\":{\"outlinewidth\":0,\"ticks\":\"\"}},\"colorscale\":{\"sequential\":[[0.0,\"#0d0887\"],[0.1111111111111111,\"#46039f\"],[0.2222222222222222,\"#7201a8\"],[0.3333333333333333,\"#9c179e\"],[0.4444444444444444,\"#bd3786\"],[0.5555555555555556,\"#d8576b\"],[0.6666666666666666,\"#ed7953\"],[0.7777777777777778,\"#fb9f3a\"],[0.8888888888888888,\"#fdca26\"],[1.0,\"#f0f921\"]],\"sequentialminus\":[[0.0,\"#0d0887\"],[0.1111111111111111,\"#46039f\"],[0.2222222222222222,\"#7201a8\"],[0.3333333333333333,\"#9c179e\"],[0.4444444444444444,\"#bd3786\"],[0.5555555555555556,\"#d8576b\"],[0.6666666666666666,\"#ed7953\"],[0.7777777777777778,\"#fb9f3a\"],[0.8888888888888888,\"#fdca26\"],[1.0,\"#f0f921\"]],\"diverging\":[[0,\"#8e0152\"],[0.1,\"#c51b7d\"],[0.2,\"#de77ae\"],[0.3,\"#f1b6da\"],[0.4,\"#fde0ef\"],[0.5,\"#f7f7f7\"],[0.6,\"#e6f5d0\"],[0.7,\"#b8e186\"],[0.8,\"#7fbc41\"],[0.9,\"#4d9221\"],[1,\"#276419\"]]},\"xaxis\":{\"gridcolor\":\"white\",\"linecolor\":\"white\",\"ticks\":\"\",\"title\":{\"standoff\":15},\"zerolinecolor\":\"white\",\"automargin\":true,\"zerolinewidth\":2},\"yaxis\":{\"gridcolor\":\"white\",\"linecolor\":\"white\",\"ticks\":\"\",\"title\":{\"standoff\":15},\"zerolinecolor\":\"white\",\"automargin\":true,\"zerolinewidth\":2},\"scene\":{\"xaxis\":{\"backgroundcolor\":\"#E5ECF6\",\"gridcolor\":\"white\",\"linecolor\":\"white\",\"showbackground\":true,\"ticks\":\"\",\"zerolinecolor\":\"white\",\"gridwidth\":2},\"yaxis\":{\"backgroundcolor\":\"#E5ECF6\",\"gridcolor\":\"white\",\"linecolor\":\"white\",\"showbackground\":true,\"ticks\":\"\",\"zerolinecolor\":\"white\",\"gridwidth\":2},\"zaxis\":{\"backgroundcolor\":\"#E5ECF6\",\"gridcolor\":\"white\",\"linecolor\":\"white\",\"showbackground\":true,\"ticks\":\"\",\"zerolinecolor\":\"white\",\"gridwidth\":2}},\"shapedefaults\":{\"line\":{\"color\":\"#2a3f5f\"}},\"annotationdefaults\":{\"arrowcolor\":\"#2a3f5f\",\"arrowhead\":0,\"arrowwidth\":1},\"geo\":{\"bgcolor\":\"white\",\"landcolor\":\"#E5ECF6\",\"subunitcolor\":\"white\",\"showland\":true,\"showlakes\":true,\"lakecolor\":\"white\"},\"title\":{\"x\":0.05},\"mapbox\":{\"style\":\"light\"}}},\"title\":{\"text\":\"rolling averages of weekly sales\"},\"yaxis\":{\"title\":{\"text\":\"weekly sales average\"}},\"legend\":{\"title\":{\"text\":\"rooling avg index \"},\"font\":{\"family\":\"sans-serif\",\"size\":12,\"color\":\"black\"},\"x\":0.05,\"y\":0.95,\"traceorder\":\"normal\"}},                        {\"responsive\": true}                    ).then(function(){\n",
              "                            \n",
              "var gd = document.getElementById('e8770e34-06f1-468a-9ee5-b09b8d2a3be6');\n",
              "var x = new MutationObserver(function (mutations, observer) {{\n",
              "        var display = window.getComputedStyle(gd).display;\n",
              "        if (!display || display === 'none') {{\n",
              "            console.log([gd, 'removed!']);\n",
              "            Plotly.purge(gd);\n",
              "            observer.disconnect();\n",
              "        }}\n",
              "}});\n",
              "\n",
              "// Listen for the removal of the full notebook cells\n",
              "var notebookContainer = gd.closest('#notebook-container');\n",
              "if (notebookContainer) {{\n",
              "    x.observe(notebookContainer, {childList: true});\n",
              "}}\n",
              "\n",
              "// Listen for the clearing of the current output cell\n",
              "var outputEl = gd.closest('.output');\n",
              "if (outputEl) {{\n",
              "    x.observe(outputEl, {childList: true});\n",
              "}}\n",
              "\n",
              "                        })                };                            </script>        </div>\n",
              "</body>\n",
              "</html>"
            ]
          },
          "metadata": {}
        }
      ]
    }
  ]
}