{
  "cells": [
    {
      "cell_type": "markdown",
      "metadata": {
        "id": "view-in-github",
        "colab_type": "text"
      },
      "source": [
        "<a href=\"https://colab.research.google.com/github/mdkamrulhasan/data_mining_kdd/blob/main/notebooks/W24_Assignment2_solution.ipynb\" target=\"_parent\"><img src=\"https://colab.research.google.com/assets/colab-badge.svg\" alt=\"Open In Colab\"/></a>"
      ]
    },
    {
      "cell_type": "code",
      "execution_count": 1,
      "metadata": {
        "id": "U8xDiJCuBBwd"
      },
      "outputs": [],
      "source": [
        "# Import Libraries\n",
        "import pandas as pd\n",
        "from sklearn.ensemble import RandomForestClassifier\n",
        "from sklearn.model_selection import train_test_split\n",
        "from sklearn.metrics import f1_score\n",
        "from sklearn.model_selection import cross_val_score\n",
        "import numpy as np"
      ]
    },
    {
      "cell_type": "markdown",
      "source": [
        "Q1. **[10 points]** Develop a Random Forest Classification Model:\n",
        "We ask you to build a Random Forest classification model using the following dataset:\n",
        "\n",
        "https://storage.googleapis.com/download.tensorflow.org/data/creditcard.csv\n",
        "\n",
        "Guidelines:\n",
        "\n",
        "(a) Target variable and evaluation metric [2 points]\n",
        "\n",
        "• Target Variable: Use the “Class” column as your target variable (y).\n",
        "\n",
        "• Evaluation Metric: Report the F1-score as your primary classification metric.\n",
        "\n",
        "(b) Hyperparameter Optimization: Optimize the following hyperparameters: [5 points]\n",
        "\n",
        "• Number of trees (n estimators)\n",
        "\n",
        "• Maximum tree depth (max depth)\n",
        "\n",
        "*Note: If using the scikit-learn package, these parameters are labeled as n estimators and max depth.*\n",
        "\n",
        "(c) Cross-Validation: [3 points]\n",
        "\n",
        "• Perform 5-fold cross-validation and report your best results (mean and standard-deviation of your\n",
        "F1-scores)."
      ],
      "metadata": {
        "id": "f2tl9s-gAzP_"
      }
    },
    {
      "cell_type": "code",
      "execution_count": 21,
      "metadata": {
        "id": "lBAVWn8WA7sg",
        "colab": {
          "base_uri": "https://localhost:8080/",
          "height": 141
        },
        "outputId": "2d7fe3e5-9463-46bb-d9e8-346c58d6bdbd"
      },
      "outputs": [
        {
          "output_type": "execute_result",
          "data": {
            "text/plain": [
              "   Time        V1        V2        V3        V4        V5        V6        V7  \\\n",
              "0   0.0 -1.359807 -0.072781  2.536347  1.378155 -0.338321  0.462388  0.239599   \n",
              "1   0.0  1.191857  0.266151  0.166480  0.448154  0.060018 -0.082361 -0.078803   \n",
              "\n",
              "         V8        V9  ...       V21       V22       V23       V24       V25  \\\n",
              "0  0.098698  0.363787  ... -0.018307  0.277838 -0.110474  0.066928  0.128539   \n",
              "1  0.085102 -0.255425  ... -0.225775 -0.638672  0.101288 -0.339846  0.167170   \n",
              "\n",
              "        V26       V27       V28  Amount  Class  \n",
              "0 -0.189115  0.133558 -0.021053  149.62      0  \n",
              "1  0.125895 -0.008983  0.014724    2.69      0  \n",
              "\n",
              "[2 rows x 31 columns]"
            ],
            "text/html": [
              "\n",
              "  <div id=\"df-5c149088-8aa2-464a-aedb-3ba76bee9075\" class=\"colab-df-container\">\n",
              "    <div>\n",
              "<style scoped>\n",
              "    .dataframe tbody tr th:only-of-type {\n",
              "        vertical-align: middle;\n",
              "    }\n",
              "\n",
              "    .dataframe tbody tr th {\n",
              "        vertical-align: top;\n",
              "    }\n",
              "\n",
              "    .dataframe thead th {\n",
              "        text-align: right;\n",
              "    }\n",
              "</style>\n",
              "<table border=\"1\" class=\"dataframe\">\n",
              "  <thead>\n",
              "    <tr style=\"text-align: right;\">\n",
              "      <th></th>\n",
              "      <th>Time</th>\n",
              "      <th>V1</th>\n",
              "      <th>V2</th>\n",
              "      <th>V3</th>\n",
              "      <th>V4</th>\n",
              "      <th>V5</th>\n",
              "      <th>V6</th>\n",
              "      <th>V7</th>\n",
              "      <th>V8</th>\n",
              "      <th>V9</th>\n",
              "      <th>...</th>\n",
              "      <th>V21</th>\n",
              "      <th>V22</th>\n",
              "      <th>V23</th>\n",
              "      <th>V24</th>\n",
              "      <th>V25</th>\n",
              "      <th>V26</th>\n",
              "      <th>V27</th>\n",
              "      <th>V28</th>\n",
              "      <th>Amount</th>\n",
              "      <th>Class</th>\n",
              "    </tr>\n",
              "  </thead>\n",
              "  <tbody>\n",
              "    <tr>\n",
              "      <th>0</th>\n",
              "      <td>0.0</td>\n",
              "      <td>-1.359807</td>\n",
              "      <td>-0.072781</td>\n",
              "      <td>2.536347</td>\n",
              "      <td>1.378155</td>\n",
              "      <td>-0.338321</td>\n",
              "      <td>0.462388</td>\n",
              "      <td>0.239599</td>\n",
              "      <td>0.098698</td>\n",
              "      <td>0.363787</td>\n",
              "      <td>...</td>\n",
              "      <td>-0.018307</td>\n",
              "      <td>0.277838</td>\n",
              "      <td>-0.110474</td>\n",
              "      <td>0.066928</td>\n",
              "      <td>0.128539</td>\n",
              "      <td>-0.189115</td>\n",
              "      <td>0.133558</td>\n",
              "      <td>-0.021053</td>\n",
              "      <td>149.62</td>\n",
              "      <td>0</td>\n",
              "    </tr>\n",
              "    <tr>\n",
              "      <th>1</th>\n",
              "      <td>0.0</td>\n",
              "      <td>1.191857</td>\n",
              "      <td>0.266151</td>\n",
              "      <td>0.166480</td>\n",
              "      <td>0.448154</td>\n",
              "      <td>0.060018</td>\n",
              "      <td>-0.082361</td>\n",
              "      <td>-0.078803</td>\n",
              "      <td>0.085102</td>\n",
              "      <td>-0.255425</td>\n",
              "      <td>...</td>\n",
              "      <td>-0.225775</td>\n",
              "      <td>-0.638672</td>\n",
              "      <td>0.101288</td>\n",
              "      <td>-0.339846</td>\n",
              "      <td>0.167170</td>\n",
              "      <td>0.125895</td>\n",
              "      <td>-0.008983</td>\n",
              "      <td>0.014724</td>\n",
              "      <td>2.69</td>\n",
              "      <td>0</td>\n",
              "    </tr>\n",
              "  </tbody>\n",
              "</table>\n",
              "<p>2 rows × 31 columns</p>\n",
              "</div>\n",
              "    <div class=\"colab-df-buttons\">\n",
              "\n",
              "  <div class=\"colab-df-container\">\n",
              "    <button class=\"colab-df-convert\" onclick=\"convertToInteractive('df-5c149088-8aa2-464a-aedb-3ba76bee9075')\"\n",
              "            title=\"Convert this dataframe to an interactive table.\"\n",
              "            style=\"display:none;\">\n",
              "\n",
              "  <svg xmlns=\"http://www.w3.org/2000/svg\" height=\"24px\" viewBox=\"0 -960 960 960\">\n",
              "    <path d=\"M120-120v-720h720v720H120Zm60-500h600v-160H180v160Zm220 220h160v-160H400v160Zm0 220h160v-160H400v160ZM180-400h160v-160H180v160Zm440 0h160v-160H620v160ZM180-180h160v-160H180v160Zm440 0h160v-160H620v160Z\"/>\n",
              "  </svg>\n",
              "    </button>\n",
              "\n",
              "  <style>\n",
              "    .colab-df-container {\n",
              "      display:flex;\n",
              "      gap: 12px;\n",
              "    }\n",
              "\n",
              "    .colab-df-convert {\n",
              "      background-color: #E8F0FE;\n",
              "      border: none;\n",
              "      border-radius: 50%;\n",
              "      cursor: pointer;\n",
              "      display: none;\n",
              "      fill: #1967D2;\n",
              "      height: 32px;\n",
              "      padding: 0 0 0 0;\n",
              "      width: 32px;\n",
              "    }\n",
              "\n",
              "    .colab-df-convert:hover {\n",
              "      background-color: #E2EBFA;\n",
              "      box-shadow: 0px 1px 2px rgba(60, 64, 67, 0.3), 0px 1px 3px 1px rgba(60, 64, 67, 0.15);\n",
              "      fill: #174EA6;\n",
              "    }\n",
              "\n",
              "    .colab-df-buttons div {\n",
              "      margin-bottom: 4px;\n",
              "    }\n",
              "\n",
              "    [theme=dark] .colab-df-convert {\n",
              "      background-color: #3B4455;\n",
              "      fill: #D2E3FC;\n",
              "    }\n",
              "\n",
              "    [theme=dark] .colab-df-convert:hover {\n",
              "      background-color: #434B5C;\n",
              "      box-shadow: 0px 1px 3px 1px rgba(0, 0, 0, 0.15);\n",
              "      filter: drop-shadow(0px 1px 2px rgba(0, 0, 0, 0.3));\n",
              "      fill: #FFFFFF;\n",
              "    }\n",
              "  </style>\n",
              "\n",
              "    <script>\n",
              "      const buttonEl =\n",
              "        document.querySelector('#df-5c149088-8aa2-464a-aedb-3ba76bee9075 button.colab-df-convert');\n",
              "      buttonEl.style.display =\n",
              "        google.colab.kernel.accessAllowed ? 'block' : 'none';\n",
              "\n",
              "      async function convertToInteractive(key) {\n",
              "        const element = document.querySelector('#df-5c149088-8aa2-464a-aedb-3ba76bee9075');\n",
              "        const dataTable =\n",
              "          await google.colab.kernel.invokeFunction('convertToInteractive',\n",
              "                                                    [key], {});\n",
              "        if (!dataTable) return;\n",
              "\n",
              "        const docLinkHtml = 'Like what you see? Visit the ' +\n",
              "          '<a target=\"_blank\" href=https://colab.research.google.com/notebooks/data_table.ipynb>data table notebook</a>'\n",
              "          + ' to learn more about interactive tables.';\n",
              "        element.innerHTML = '';\n",
              "        dataTable['output_type'] = 'display_data';\n",
              "        await google.colab.output.renderOutput(dataTable, element);\n",
              "        const docLink = document.createElement('div');\n",
              "        docLink.innerHTML = docLinkHtml;\n",
              "        element.appendChild(docLink);\n",
              "      }\n",
              "    </script>\n",
              "  </div>\n",
              "\n",
              "\n",
              "<div id=\"df-fbee73ab-2dab-410b-90a7-251b10a46012\">\n",
              "  <button class=\"colab-df-quickchart\" onclick=\"quickchart('df-fbee73ab-2dab-410b-90a7-251b10a46012')\"\n",
              "            title=\"Suggest charts\"\n",
              "            style=\"display:none;\">\n",
              "\n",
              "<svg xmlns=\"http://www.w3.org/2000/svg\" height=\"24px\"viewBox=\"0 0 24 24\"\n",
              "     width=\"24px\">\n",
              "    <g>\n",
              "        <path d=\"M19 3H5c-1.1 0-2 .9-2 2v14c0 1.1.9 2 2 2h14c1.1 0 2-.9 2-2V5c0-1.1-.9-2-2-2zM9 17H7v-7h2v7zm4 0h-2V7h2v10zm4 0h-2v-4h2v4z\"/>\n",
              "    </g>\n",
              "</svg>\n",
              "  </button>\n",
              "\n",
              "<style>\n",
              "  .colab-df-quickchart {\n",
              "      --bg-color: #E8F0FE;\n",
              "      --fill-color: #1967D2;\n",
              "      --hover-bg-color: #E2EBFA;\n",
              "      --hover-fill-color: #174EA6;\n",
              "      --disabled-fill-color: #AAA;\n",
              "      --disabled-bg-color: #DDD;\n",
              "  }\n",
              "\n",
              "  [theme=dark] .colab-df-quickchart {\n",
              "      --bg-color: #3B4455;\n",
              "      --fill-color: #D2E3FC;\n",
              "      --hover-bg-color: #434B5C;\n",
              "      --hover-fill-color: #FFFFFF;\n",
              "      --disabled-bg-color: #3B4455;\n",
              "      --disabled-fill-color: #666;\n",
              "  }\n",
              "\n",
              "  .colab-df-quickchart {\n",
              "    background-color: var(--bg-color);\n",
              "    border: none;\n",
              "    border-radius: 50%;\n",
              "    cursor: pointer;\n",
              "    display: none;\n",
              "    fill: var(--fill-color);\n",
              "    height: 32px;\n",
              "    padding: 0;\n",
              "    width: 32px;\n",
              "  }\n",
              "\n",
              "  .colab-df-quickchart:hover {\n",
              "    background-color: var(--hover-bg-color);\n",
              "    box-shadow: 0 1px 2px rgba(60, 64, 67, 0.3), 0 1px 3px 1px rgba(60, 64, 67, 0.15);\n",
              "    fill: var(--button-hover-fill-color);\n",
              "  }\n",
              "\n",
              "  .colab-df-quickchart-complete:disabled,\n",
              "  .colab-df-quickchart-complete:disabled:hover {\n",
              "    background-color: var(--disabled-bg-color);\n",
              "    fill: var(--disabled-fill-color);\n",
              "    box-shadow: none;\n",
              "  }\n",
              "\n",
              "  .colab-df-spinner {\n",
              "    border: 2px solid var(--fill-color);\n",
              "    border-color: transparent;\n",
              "    border-bottom-color: var(--fill-color);\n",
              "    animation:\n",
              "      spin 1s steps(1) infinite;\n",
              "  }\n",
              "\n",
              "  @keyframes spin {\n",
              "    0% {\n",
              "      border-color: transparent;\n",
              "      border-bottom-color: var(--fill-color);\n",
              "      border-left-color: var(--fill-color);\n",
              "    }\n",
              "    20% {\n",
              "      border-color: transparent;\n",
              "      border-left-color: var(--fill-color);\n",
              "      border-top-color: var(--fill-color);\n",
              "    }\n",
              "    30% {\n",
              "      border-color: transparent;\n",
              "      border-left-color: var(--fill-color);\n",
              "      border-top-color: var(--fill-color);\n",
              "      border-right-color: var(--fill-color);\n",
              "    }\n",
              "    40% {\n",
              "      border-color: transparent;\n",
              "      border-right-color: var(--fill-color);\n",
              "      border-top-color: var(--fill-color);\n",
              "    }\n",
              "    60% {\n",
              "      border-color: transparent;\n",
              "      border-right-color: var(--fill-color);\n",
              "    }\n",
              "    80% {\n",
              "      border-color: transparent;\n",
              "      border-right-color: var(--fill-color);\n",
              "      border-bottom-color: var(--fill-color);\n",
              "    }\n",
              "    90% {\n",
              "      border-color: transparent;\n",
              "      border-bottom-color: var(--fill-color);\n",
              "    }\n",
              "  }\n",
              "</style>\n",
              "\n",
              "  <script>\n",
              "    async function quickchart(key) {\n",
              "      const quickchartButtonEl =\n",
              "        document.querySelector('#' + key + ' button');\n",
              "      quickchartButtonEl.disabled = true;  // To prevent multiple clicks.\n",
              "      quickchartButtonEl.classList.add('colab-df-spinner');\n",
              "      try {\n",
              "        const charts = await google.colab.kernel.invokeFunction(\n",
              "            'suggestCharts', [key], {});\n",
              "      } catch (error) {\n",
              "        console.error('Error during call to suggestCharts:', error);\n",
              "      }\n",
              "      quickchartButtonEl.classList.remove('colab-df-spinner');\n",
              "      quickchartButtonEl.classList.add('colab-df-quickchart-complete');\n",
              "    }\n",
              "    (() => {\n",
              "      let quickchartButtonEl =\n",
              "        document.querySelector('#df-fbee73ab-2dab-410b-90a7-251b10a46012 button');\n",
              "      quickchartButtonEl.style.display =\n",
              "        google.colab.kernel.accessAllowed ? 'block' : 'none';\n",
              "    })();\n",
              "  </script>\n",
              "</div>\n",
              "\n",
              "    </div>\n",
              "  </div>\n"
            ],
            "application/vnd.google.colaboratory.intrinsic+json": {
              "type": "dataframe",
              "variable_name": "df"
            }
          },
          "metadata": {},
          "execution_count": 21
        }
      ],
      "source": [
        "# Data loading\n",
        "url = \"https://storage.googleapis.com/download.tensorflow.org/data/creditcard.csv\"\n",
        "df = pd.read_csv(url)\n",
        "df.head(2)"
      ]
    },
    {
      "cell_type": "markdown",
      "source": [
        "Part (a) Setting Target Variable and Evaluation Metrics"
      ],
      "metadata": {
        "id": "25uIZQK--tdl"
      }
    },
    {
      "cell_type": "code",
      "execution_count": 43,
      "metadata": {
        "id": "CLdABz-2FW3d",
        "colab": {
          "base_uri": "https://localhost:8080/"
        },
        "outputId": "a12915f5-a260-4740-c05b-1004ff4a27e6"
      },
      "outputs": [
        {
          "output_type": "execute_result",
          "data": {
            "text/plain": [
              "((284807, 30), (284807,))"
            ]
          },
          "metadata": {},
          "execution_count": 43
        }
      ],
      "source": [
        "# Define X (features) and y (target)\n",
        "X = df.drop(columns=[\"Class\"])\n",
        "y = df[\"Class\"].values\n",
        "X.shape, y.shape"
      ]
    },
    {
      "cell_type": "code",
      "execution_count": 44,
      "metadata": {
        "id": "u9moarZBFjKZ"
      },
      "outputs": [],
      "source": [
        "# Creating the model object\n",
        "clf = RandomForestClassifier()"
      ]
    },
    {
      "cell_type": "markdown",
      "source": [
        "Part (b) Hyperparameter Optimization"
      ],
      "metadata": {
        "id": "a4tOZEUh_l3o"
      }
    },
    {
      "cell_type": "code",
      "source": [
        "from sklearn.model_selection import RandomizedSearchCV\n",
        "\n",
        "# make it (USE_SAMPLE_DATASET) False for the final submission\n",
        "USE_SAMPLE_DATASET = False\n",
        "\n",
        "if USE_SAMPLE_DATASET:\n",
        "    X_hp = X[:10000]\n",
        "    y_hp = y[:10000]\n",
        "else:\n",
        "    X_hp = X\n",
        "    y_hp = y\n",
        "\n",
        "print(len(y), set(y))"
      ],
      "metadata": {
        "colab": {
          "base_uri": "https://localhost:8080/"
        },
        "id": "dqiaLj2KJ-Rc",
        "outputId": "263e2e0f-6d5d-45e6-f75e-5434a1212a31"
      },
      "execution_count": 45,
      "outputs": [
        {
          "output_type": "stream",
          "name": "stdout",
          "text": [
            "284807 {np.int64(0), np.int64(1)}\n"
          ]
        }
      ]
    },
    {
      "cell_type": "code",
      "source": [
        "# Define the parameter grid\n",
        "param_grid =  {\n",
        "    'n_estimators': [50, 100, 300],\n",
        "    'max_depth': [3, 5]\n",
        "}\n",
        "\n",
        "# Create a GridSearchCV instance\n",
        "param_search = RandomizedSearchCV(clf, param_grid, cv=5, scoring='f1')\n",
        "# Fit the model\n",
        "param_search.fit(X_hp, y_hp)\n",
        "\n",
        "# Access the results\n",
        "results = param_search.cv_results_\n",
        "\n",
        "# Print the mean and standard deviation for each parameter combination\n",
        "for i in range(len(results['params'])):\n",
        "    print(f\"Parameters: {results['params'][i]}\")\n",
        "    print(f\"Mean Test Score: {results['mean_test_score'][i]}\")\n",
        "    print(f\"Std Test Score: {results['std_test_score'][i]}\")\n",
        "    print(\"-\" * 20)"
      ],
      "metadata": {
        "colab": {
          "base_uri": "https://localhost:8080/"
        },
        "id": "60x_KtqQCYoI",
        "outputId": "69b66460-909e-4645-f986-e5692054cc71"
      },
      "execution_count": 46,
      "outputs": [
        {
          "output_type": "stream",
          "name": "stderr",
          "text": [
            "/usr/local/lib/python3.11/dist-packages/sklearn/model_selection/_search.py:317: UserWarning: The total space of parameters 6 is smaller than n_iter=10. Running 6 iterations. For exhaustive searches, use GridSearchCV.\n",
            "  warnings.warn(\n"
          ]
        },
        {
          "output_type": "stream",
          "name": "stdout",
          "text": [
            "Parameters: {'n_estimators': 50, 'max_depth': 3}\n",
            "Mean Test Score: 0.93006993006993\n",
            "Std Test Score: 0.10568467405489546\n",
            "--------------------\n",
            "Parameters: {'n_estimators': 100, 'max_depth': 3}\n",
            "Mean Test Score: 0.9199999999999999\n",
            "Std Test Score: 0.16\n",
            "--------------------\n",
            "Parameters: {'n_estimators': 300, 'max_depth': 3}\n",
            "Mean Test Score: 0.93006993006993\n",
            "Std Test Score: 0.10568467405489546\n",
            "--------------------\n",
            "Parameters: {'n_estimators': 50, 'max_depth': 5}\n",
            "Mean Test Score: 0.9454545454545455\n",
            "Std Test Score: 0.10909090909090909\n",
            "--------------------\n",
            "Parameters: {'n_estimators': 100, 'max_depth': 5}\n",
            "Mean Test Score: 0.8977777777777778\n",
            "Std Test Score: 0.15498307354811286\n",
            "--------------------\n",
            "Parameters: {'n_estimators': 300, 'max_depth': 5}\n",
            "Mean Test Score: 0.9232323232323232\n",
            "Std Test Score: 0.10701351626787092\n",
            "--------------------\n"
          ]
        }
      ]
    },
    {
      "cell_type": "markdown",
      "source": [
        "Part (c.) Cross Validation"
      ],
      "metadata": {
        "id": "-w-XEDJj_zdN"
      }
    },
    {
      "cell_type": "code",
      "execution_count": 47,
      "metadata": {
        "id": "w1Ebx9kaPDQq"
      },
      "outputs": [],
      "source": [
        "best_model = param_search.best_estimator_\n",
        "cv_scores = cross_val_score(best_model,X,y,scoring='f1',cv=5)"
      ]
    },
    {
      "cell_type": "code",
      "execution_count": 48,
      "metadata": {
        "id": "HaysRhGDTVDk",
        "colab": {
          "base_uri": "https://localhost:8080/"
        },
        "outputId": "fdbd2497-da16-40a6-f196-9fb4df374a20"
      },
      "outputs": [
        {
          "output_type": "stream",
          "name": "stdout",
          "text": [
            "cross validation scores: [0.75770925 0.84883721 0.72       0.82840237 0.70967742]\n",
            "cross validation score (mean): 0.7729252493244783\n",
            "cross validation score (std): 0.05634400208010684\n"
          ]
        }
      ],
      "source": [
        "print('cross validation scores:', cv_scores)\n",
        "print('cross validation score (mean):', np.mean(cv_scores))\n",
        "print('cross validation score (std):', np.std(cv_scores))"
      ]
    },
    {
      "cell_type": "markdown",
      "source": [
        "## Question 2\n",
        "\n",
        "**[10 points]** Apply a Clustering Algorithm\n",
        "\n",
        "\n",
        "We ask you to apply any clustering algorithm of your choice, following the guidelines below, on the following dataset:\n",
        "\n",
        "https://raw.githubusercontent.com/mdkamrulhasan/data-public/refs/heads/main/miscellaneous/diabetes_dataset_features.csv\n",
        "\n",
        "Guidelines:\n",
        "\n",
        "(a) Dimensionality Reduction: [3 points]\n",
        "\n",
        "• Before applying the clustering algorithm, compress your data using a linear dimensionality reduction technique (e.g., Principal Component Analysis (PCA)).\n",
        "\n",
        "• Ensure that at least 90% of the variance of your data is retained after the dimensionality reduction being applied.\n",
        "\n",
        "(b) Clustering Algorithm: [4 points]\n",
        "\n",
        "• Use a suitable clustering algorithm that fits your data.\n",
        "\n",
        "• Make a sensible choice of the number of clusters based on your data characteristics.\n",
        "\n",
        "(c) Analysis: [3 points]\n",
        "\n",
        "• Extract meaningful insights for each cluster, if you can identify any."
      ],
      "metadata": {
        "id": "rWVvJToCDJPH"
      }
    },
    {
      "cell_type": "code",
      "source": [
        "from sklearn.preprocessing import StandardScaler\n",
        "from sklearn.decomposition import PCA\n",
        "from sklearn.cluster import KMeans\n",
        "import matplotlib.pyplot as plt\n",
        "from sklearn.metrics import silhouette_score"
      ],
      "metadata": {
        "id": "Fe5Z0ouwEFQv"
      },
      "execution_count": 57,
      "outputs": []
    },
    {
      "cell_type": "code",
      "source": [
        "# Load dataset\n",
        "q2_data_path = 'https://raw.githubusercontent.com/mdkamrulhasan/data-public/refs/heads/main/miscellaneous/diabetes_dataset_features.csv'\n",
        "df_cluster = pd.read_csv(q2_data_path)"
      ],
      "metadata": {
        "id": "OpJxv_O0Dh_U"
      },
      "execution_count": 49,
      "outputs": []
    },
    {
      "cell_type": "code",
      "source": [
        "# is there any null values\n",
        "df_cluster.isna().sum().sum()"
      ],
      "metadata": {
        "colab": {
          "base_uri": "https://localhost:8080/"
        },
        "id": "zODvaY4kQbRF",
        "outputId": "ff82e0fb-7ac5-4344-b515-25507dba6136"
      },
      "execution_count": 52,
      "outputs": [
        {
          "output_type": "execute_result",
          "data": {
            "text/plain": [
              "np.int64(0)"
            ]
          },
          "metadata": {},
          "execution_count": 52
        }
      ]
    },
    {
      "cell_type": "code",
      "source": [
        "# Data preprocessing\n",
        "features_numeric = []\n",
        "features_categorical = []\n",
        "\n",
        "for col in df_cluster.columns:\n",
        "    if df_cluster[col].dtype == 'object':\n",
        "        features_categorical.append(col)\n",
        "    else:\n",
        "        features_numeric.append(col)\n",
        "print(features_numeric)\n",
        "print(features_categorical)"
      ],
      "metadata": {
        "colab": {
          "base_uri": "https://localhost:8080/"
        },
        "id": "QeE_k6CZQWAi",
        "outputId": "85091fa3-cf08-4c17-bd0e-64cd888a53b8"
      },
      "execution_count": 53,
      "outputs": [
        {
          "output_type": "stream",
          "name": "stdout",
          "text": [
            "['Insulin Levels', 'Age', 'BMI', 'Blood Pressure', 'Cholesterol Levels', 'Waist Circumference', 'Blood Glucose Levels', 'Weight Gain During Pregnancy', 'Pancreatic Health', 'Pulmonary Function', 'Neurological Assessments', 'Digestive Enzyme Levels', 'Birth Weight']\n",
            "['Genetic Markers', 'Autoantibodies', 'Family History', 'Environmental Factors', 'Physical Activity', 'Dietary Habits', 'Ethnicity', 'Socioeconomic Factors', 'Smoking Status', 'Alcohol Consumption', 'Glucose Tolerance Test', 'History of PCOS', 'Previous Gestational Diabetes', 'Pregnancy History', 'Cystic Fibrosis Diagnosis', 'Steroid Use History', 'Genetic Testing', 'Liver Function Tests', 'Urine Test', 'Early Onset Symptoms']\n"
          ]
        }
      ]
    },
    {
      "cell_type": "code",
      "source": [
        "# one hot encoding of categorical features\n",
        "one_hot_dataframes = []\n",
        "for featx in features_categorical:\n",
        "  one_hot_dataframes.append(\n",
        "      pd.get_dummies(df_cluster[featx], prefix=featx+'_')\n",
        "  )"
      ],
      "metadata": {
        "id": "QO3kXK9YQ970"
      },
      "execution_count": 54,
      "outputs": []
    },
    {
      "cell_type": "code",
      "source": [
        "# get all features in a signle dataframe\n",
        "df_all_numeric = pd.concat([df_cluster[features_numeric]]\n",
        "                           + one_hot_dataframes, axis=1)\n",
        "df_all_numeric.head()"
      ],
      "metadata": {
        "colab": {
          "base_uri": "https://localhost:8080/",
          "height": 308
        },
        "id": "mafVhtM0ROp-",
        "outputId": "466bad8f-a28c-42ce-a3fb-594923624205"
      },
      "execution_count": 55,
      "outputs": [
        {
          "output_type": "execute_result",
          "data": {
            "text/plain": [
              "   Insulin Levels  Age  BMI  Blood Pressure  Cholesterol Levels  \\\n",
              "0              40   44   38             124                 201   \n",
              "1              13    1   17              73                 121   \n",
              "2              27   36   24             121                 185   \n",
              "3               8    7   16             100                 151   \n",
              "4              17   10   17             103                 146   \n",
              "\n",
              "   Waist Circumference  Blood Glucose Levels  Weight Gain During Pregnancy  \\\n",
              "0                   50                   168                            18   \n",
              "1                   24                   178                             8   \n",
              "2                   36                   105                            15   \n",
              "3                   29                   121                            12   \n",
              "4                   33                   289                             2   \n",
              "\n",
              "   Pancreatic Health  Pulmonary Function  ...  Genetic Testing__Negative  \\\n",
              "0                 36                  76  ...                      False   \n",
              "1                 26                  60  ...                       True   \n",
              "2                 56                  80  ...                       True   \n",
              "3                 49                  89  ...                      False   \n",
              "4                 10                  41  ...                      False   \n",
              "\n",
              "   Genetic Testing__Positive  Liver Function Tests__Abnormal  \\\n",
              "0                       True                           False   \n",
              "1                      False                           False   \n",
              "2                      False                            True   \n",
              "3                       True                            True   \n",
              "4                       True                           False   \n",
              "\n",
              "   Liver Function Tests__Normal  Urine Test__Glucose Present  \\\n",
              "0                          True                        False   \n",
              "1                          True                         True   \n",
              "2                         False                        False   \n",
              "3                         False                        False   \n",
              "4                          True                        False   \n",
              "\n",
              "   Urine Test__Ketones Present  Urine Test__Normal  \\\n",
              "0                         True               False   \n",
              "1                        False               False   \n",
              "2                         True               False   \n",
              "3                         True               False   \n",
              "4                        False               False   \n",
              "\n",
              "   Urine Test__Protein Present  Early Onset Symptoms__No  \\\n",
              "0                        False                      True   \n",
              "1                        False                     False   \n",
              "2                        False                     False   \n",
              "3                        False                      True   \n",
              "4                         True                      True   \n",
              "\n",
              "   Early Onset Symptoms__Yes  \n",
              "0                      False  \n",
              "1                       True  \n",
              "2                       True  \n",
              "3                      False  \n",
              "4                      False  \n",
              "\n",
              "[5 rows x 58 columns]"
            ],
            "text/html": [
              "\n",
              "  <div id=\"df-4c2336b7-b26f-4a5f-9675-cfef071eface\" class=\"colab-df-container\">\n",
              "    <div>\n",
              "<style scoped>\n",
              "    .dataframe tbody tr th:only-of-type {\n",
              "        vertical-align: middle;\n",
              "    }\n",
              "\n",
              "    .dataframe tbody tr th {\n",
              "        vertical-align: top;\n",
              "    }\n",
              "\n",
              "    .dataframe thead th {\n",
              "        text-align: right;\n",
              "    }\n",
              "</style>\n",
              "<table border=\"1\" class=\"dataframe\">\n",
              "  <thead>\n",
              "    <tr style=\"text-align: right;\">\n",
              "      <th></th>\n",
              "      <th>Insulin Levels</th>\n",
              "      <th>Age</th>\n",
              "      <th>BMI</th>\n",
              "      <th>Blood Pressure</th>\n",
              "      <th>Cholesterol Levels</th>\n",
              "      <th>Waist Circumference</th>\n",
              "      <th>Blood Glucose Levels</th>\n",
              "      <th>Weight Gain During Pregnancy</th>\n",
              "      <th>Pancreatic Health</th>\n",
              "      <th>Pulmonary Function</th>\n",
              "      <th>...</th>\n",
              "      <th>Genetic Testing__Negative</th>\n",
              "      <th>Genetic Testing__Positive</th>\n",
              "      <th>Liver Function Tests__Abnormal</th>\n",
              "      <th>Liver Function Tests__Normal</th>\n",
              "      <th>Urine Test__Glucose Present</th>\n",
              "      <th>Urine Test__Ketones Present</th>\n",
              "      <th>Urine Test__Normal</th>\n",
              "      <th>Urine Test__Protein Present</th>\n",
              "      <th>Early Onset Symptoms__No</th>\n",
              "      <th>Early Onset Symptoms__Yes</th>\n",
              "    </tr>\n",
              "  </thead>\n",
              "  <tbody>\n",
              "    <tr>\n",
              "      <th>0</th>\n",
              "      <td>40</td>\n",
              "      <td>44</td>\n",
              "      <td>38</td>\n",
              "      <td>124</td>\n",
              "      <td>201</td>\n",
              "      <td>50</td>\n",
              "      <td>168</td>\n",
              "      <td>18</td>\n",
              "      <td>36</td>\n",
              "      <td>76</td>\n",
              "      <td>...</td>\n",
              "      <td>False</td>\n",
              "      <td>True</td>\n",
              "      <td>False</td>\n",
              "      <td>True</td>\n",
              "      <td>False</td>\n",
              "      <td>True</td>\n",
              "      <td>False</td>\n",
              "      <td>False</td>\n",
              "      <td>True</td>\n",
              "      <td>False</td>\n",
              "    </tr>\n",
              "    <tr>\n",
              "      <th>1</th>\n",
              "      <td>13</td>\n",
              "      <td>1</td>\n",
              "      <td>17</td>\n",
              "      <td>73</td>\n",
              "      <td>121</td>\n",
              "      <td>24</td>\n",
              "      <td>178</td>\n",
              "      <td>8</td>\n",
              "      <td>26</td>\n",
              "      <td>60</td>\n",
              "      <td>...</td>\n",
              "      <td>True</td>\n",
              "      <td>False</td>\n",
              "      <td>False</td>\n",
              "      <td>True</td>\n",
              "      <td>True</td>\n",
              "      <td>False</td>\n",
              "      <td>False</td>\n",
              "      <td>False</td>\n",
              "      <td>False</td>\n",
              "      <td>True</td>\n",
              "    </tr>\n",
              "    <tr>\n",
              "      <th>2</th>\n",
              "      <td>27</td>\n",
              "      <td>36</td>\n",
              "      <td>24</td>\n",
              "      <td>121</td>\n",
              "      <td>185</td>\n",
              "      <td>36</td>\n",
              "      <td>105</td>\n",
              "      <td>15</td>\n",
              "      <td>56</td>\n",
              "      <td>80</td>\n",
              "      <td>...</td>\n",
              "      <td>True</td>\n",
              "      <td>False</td>\n",
              "      <td>True</td>\n",
              "      <td>False</td>\n",
              "      <td>False</td>\n",
              "      <td>True</td>\n",
              "      <td>False</td>\n",
              "      <td>False</td>\n",
              "      <td>False</td>\n",
              "      <td>True</td>\n",
              "    </tr>\n",
              "    <tr>\n",
              "      <th>3</th>\n",
              "      <td>8</td>\n",
              "      <td>7</td>\n",
              "      <td>16</td>\n",
              "      <td>100</td>\n",
              "      <td>151</td>\n",
              "      <td>29</td>\n",
              "      <td>121</td>\n",
              "      <td>12</td>\n",
              "      <td>49</td>\n",
              "      <td>89</td>\n",
              "      <td>...</td>\n",
              "      <td>False</td>\n",
              "      <td>True</td>\n",
              "      <td>True</td>\n",
              "      <td>False</td>\n",
              "      <td>False</td>\n",
              "      <td>True</td>\n",
              "      <td>False</td>\n",
              "      <td>False</td>\n",
              "      <td>True</td>\n",
              "      <td>False</td>\n",
              "    </tr>\n",
              "    <tr>\n",
              "      <th>4</th>\n",
              "      <td>17</td>\n",
              "      <td>10</td>\n",
              "      <td>17</td>\n",
              "      <td>103</td>\n",
              "      <td>146</td>\n",
              "      <td>33</td>\n",
              "      <td>289</td>\n",
              "      <td>2</td>\n",
              "      <td>10</td>\n",
              "      <td>41</td>\n",
              "      <td>...</td>\n",
              "      <td>False</td>\n",
              "      <td>True</td>\n",
              "      <td>False</td>\n",
              "      <td>True</td>\n",
              "      <td>False</td>\n",
              "      <td>False</td>\n",
              "      <td>False</td>\n",
              "      <td>True</td>\n",
              "      <td>True</td>\n",
              "      <td>False</td>\n",
              "    </tr>\n",
              "  </tbody>\n",
              "</table>\n",
              "<p>5 rows × 58 columns</p>\n",
              "</div>\n",
              "    <div class=\"colab-df-buttons\">\n",
              "\n",
              "  <div class=\"colab-df-container\">\n",
              "    <button class=\"colab-df-convert\" onclick=\"convertToInteractive('df-4c2336b7-b26f-4a5f-9675-cfef071eface')\"\n",
              "            title=\"Convert this dataframe to an interactive table.\"\n",
              "            style=\"display:none;\">\n",
              "\n",
              "  <svg xmlns=\"http://www.w3.org/2000/svg\" height=\"24px\" viewBox=\"0 -960 960 960\">\n",
              "    <path d=\"M120-120v-720h720v720H120Zm60-500h600v-160H180v160Zm220 220h160v-160H400v160Zm0 220h160v-160H400v160ZM180-400h160v-160H180v160Zm440 0h160v-160H620v160ZM180-180h160v-160H180v160Zm440 0h160v-160H620v160Z\"/>\n",
              "  </svg>\n",
              "    </button>\n",
              "\n",
              "  <style>\n",
              "    .colab-df-container {\n",
              "      display:flex;\n",
              "      gap: 12px;\n",
              "    }\n",
              "\n",
              "    .colab-df-convert {\n",
              "      background-color: #E8F0FE;\n",
              "      border: none;\n",
              "      border-radius: 50%;\n",
              "      cursor: pointer;\n",
              "      display: none;\n",
              "      fill: #1967D2;\n",
              "      height: 32px;\n",
              "      padding: 0 0 0 0;\n",
              "      width: 32px;\n",
              "    }\n",
              "\n",
              "    .colab-df-convert:hover {\n",
              "      background-color: #E2EBFA;\n",
              "      box-shadow: 0px 1px 2px rgba(60, 64, 67, 0.3), 0px 1px 3px 1px rgba(60, 64, 67, 0.15);\n",
              "      fill: #174EA6;\n",
              "    }\n",
              "\n",
              "    .colab-df-buttons div {\n",
              "      margin-bottom: 4px;\n",
              "    }\n",
              "\n",
              "    [theme=dark] .colab-df-convert {\n",
              "      background-color: #3B4455;\n",
              "      fill: #D2E3FC;\n",
              "    }\n",
              "\n",
              "    [theme=dark] .colab-df-convert:hover {\n",
              "      background-color: #434B5C;\n",
              "      box-shadow: 0px 1px 3px 1px rgba(0, 0, 0, 0.15);\n",
              "      filter: drop-shadow(0px 1px 2px rgba(0, 0, 0, 0.3));\n",
              "      fill: #FFFFFF;\n",
              "    }\n",
              "  </style>\n",
              "\n",
              "    <script>\n",
              "      const buttonEl =\n",
              "        document.querySelector('#df-4c2336b7-b26f-4a5f-9675-cfef071eface button.colab-df-convert');\n",
              "      buttonEl.style.display =\n",
              "        google.colab.kernel.accessAllowed ? 'block' : 'none';\n",
              "\n",
              "      async function convertToInteractive(key) {\n",
              "        const element = document.querySelector('#df-4c2336b7-b26f-4a5f-9675-cfef071eface');\n",
              "        const dataTable =\n",
              "          await google.colab.kernel.invokeFunction('convertToInteractive',\n",
              "                                                    [key], {});\n",
              "        if (!dataTable) return;\n",
              "\n",
              "        const docLinkHtml = 'Like what you see? Visit the ' +\n",
              "          '<a target=\"_blank\" href=https://colab.research.google.com/notebooks/data_table.ipynb>data table notebook</a>'\n",
              "          + ' to learn more about interactive tables.';\n",
              "        element.innerHTML = '';\n",
              "        dataTable['output_type'] = 'display_data';\n",
              "        await google.colab.output.renderOutput(dataTable, element);\n",
              "        const docLink = document.createElement('div');\n",
              "        docLink.innerHTML = docLinkHtml;\n",
              "        element.appendChild(docLink);\n",
              "      }\n",
              "    </script>\n",
              "  </div>\n",
              "\n",
              "\n",
              "<div id=\"df-90773783-e636-4697-92e7-0a5781f1571e\">\n",
              "  <button class=\"colab-df-quickchart\" onclick=\"quickchart('df-90773783-e636-4697-92e7-0a5781f1571e')\"\n",
              "            title=\"Suggest charts\"\n",
              "            style=\"display:none;\">\n",
              "\n",
              "<svg xmlns=\"http://www.w3.org/2000/svg\" height=\"24px\"viewBox=\"0 0 24 24\"\n",
              "     width=\"24px\">\n",
              "    <g>\n",
              "        <path d=\"M19 3H5c-1.1 0-2 .9-2 2v14c0 1.1.9 2 2 2h14c1.1 0 2-.9 2-2V5c0-1.1-.9-2-2-2zM9 17H7v-7h2v7zm4 0h-2V7h2v10zm4 0h-2v-4h2v4z\"/>\n",
              "    </g>\n",
              "</svg>\n",
              "  </button>\n",
              "\n",
              "<style>\n",
              "  .colab-df-quickchart {\n",
              "      --bg-color: #E8F0FE;\n",
              "      --fill-color: #1967D2;\n",
              "      --hover-bg-color: #E2EBFA;\n",
              "      --hover-fill-color: #174EA6;\n",
              "      --disabled-fill-color: #AAA;\n",
              "      --disabled-bg-color: #DDD;\n",
              "  }\n",
              "\n",
              "  [theme=dark] .colab-df-quickchart {\n",
              "      --bg-color: #3B4455;\n",
              "      --fill-color: #D2E3FC;\n",
              "      --hover-bg-color: #434B5C;\n",
              "      --hover-fill-color: #FFFFFF;\n",
              "      --disabled-bg-color: #3B4455;\n",
              "      --disabled-fill-color: #666;\n",
              "  }\n",
              "\n",
              "  .colab-df-quickchart {\n",
              "    background-color: var(--bg-color);\n",
              "    border: none;\n",
              "    border-radius: 50%;\n",
              "    cursor: pointer;\n",
              "    display: none;\n",
              "    fill: var(--fill-color);\n",
              "    height: 32px;\n",
              "    padding: 0;\n",
              "    width: 32px;\n",
              "  }\n",
              "\n",
              "  .colab-df-quickchart:hover {\n",
              "    background-color: var(--hover-bg-color);\n",
              "    box-shadow: 0 1px 2px rgba(60, 64, 67, 0.3), 0 1px 3px 1px rgba(60, 64, 67, 0.15);\n",
              "    fill: var(--button-hover-fill-color);\n",
              "  }\n",
              "\n",
              "  .colab-df-quickchart-complete:disabled,\n",
              "  .colab-df-quickchart-complete:disabled:hover {\n",
              "    background-color: var(--disabled-bg-color);\n",
              "    fill: var(--disabled-fill-color);\n",
              "    box-shadow: none;\n",
              "  }\n",
              "\n",
              "  .colab-df-spinner {\n",
              "    border: 2px solid var(--fill-color);\n",
              "    border-color: transparent;\n",
              "    border-bottom-color: var(--fill-color);\n",
              "    animation:\n",
              "      spin 1s steps(1) infinite;\n",
              "  }\n",
              "\n",
              "  @keyframes spin {\n",
              "    0% {\n",
              "      border-color: transparent;\n",
              "      border-bottom-color: var(--fill-color);\n",
              "      border-left-color: var(--fill-color);\n",
              "    }\n",
              "    20% {\n",
              "      border-color: transparent;\n",
              "      border-left-color: var(--fill-color);\n",
              "      border-top-color: var(--fill-color);\n",
              "    }\n",
              "    30% {\n",
              "      border-color: transparent;\n",
              "      border-left-color: var(--fill-color);\n",
              "      border-top-color: var(--fill-color);\n",
              "      border-right-color: var(--fill-color);\n",
              "    }\n",
              "    40% {\n",
              "      border-color: transparent;\n",
              "      border-right-color: var(--fill-color);\n",
              "      border-top-color: var(--fill-color);\n",
              "    }\n",
              "    60% {\n",
              "      border-color: transparent;\n",
              "      border-right-color: var(--fill-color);\n",
              "    }\n",
              "    80% {\n",
              "      border-color: transparent;\n",
              "      border-right-color: var(--fill-color);\n",
              "      border-bottom-color: var(--fill-color);\n",
              "    }\n",
              "    90% {\n",
              "      border-color: transparent;\n",
              "      border-bottom-color: var(--fill-color);\n",
              "    }\n",
              "  }\n",
              "</style>\n",
              "\n",
              "  <script>\n",
              "    async function quickchart(key) {\n",
              "      const quickchartButtonEl =\n",
              "        document.querySelector('#' + key + ' button');\n",
              "      quickchartButtonEl.disabled = true;  // To prevent multiple clicks.\n",
              "      quickchartButtonEl.classList.add('colab-df-spinner');\n",
              "      try {\n",
              "        const charts = await google.colab.kernel.invokeFunction(\n",
              "            'suggestCharts', [key], {});\n",
              "      } catch (error) {\n",
              "        console.error('Error during call to suggestCharts:', error);\n",
              "      }\n",
              "      quickchartButtonEl.classList.remove('colab-df-spinner');\n",
              "      quickchartButtonEl.classList.add('colab-df-quickchart-complete');\n",
              "    }\n",
              "    (() => {\n",
              "      let quickchartButtonEl =\n",
              "        document.querySelector('#df-90773783-e636-4697-92e7-0a5781f1571e button');\n",
              "      quickchartButtonEl.style.display =\n",
              "        google.colab.kernel.accessAllowed ? 'block' : 'none';\n",
              "    })();\n",
              "  </script>\n",
              "</div>\n",
              "\n",
              "    </div>\n",
              "  </div>\n"
            ],
            "application/vnd.google.colaboratory.intrinsic+json": {
              "type": "dataframe",
              "variable_name": "df_all_numeric"
            }
          },
          "metadata": {},
          "execution_count": 55
        }
      ]
    },
    {
      "cell_type": "code",
      "source": [
        "# Standardize the data before PCA\n",
        "scaler = StandardScaler()\n",
        "X_scaled = scaler.fit_transform(df_all_numeric)"
      ],
      "metadata": {
        "id": "H49gXLngD3R_"
      },
      "execution_count": 58,
      "outputs": []
    },
    {
      "cell_type": "code",
      "source": [
        "# Dimensionality reduction (PCA) - reduce components first for faster computation\n",
        "print(\"Performing PCA...\")\n",
        "pca = PCA(n_components=0.9)  # Slightly more aggressive reduction for speed\n",
        "X_pca = pca.fit_transform(X_scaled)"
      ],
      "metadata": {
        "colab": {
          "base_uri": "https://localhost:8080/"
        },
        "id": "g0YUxxxxD9s2",
        "outputId": "18d716b8-3dde-4e6c-e6db-1786679d9278"
      },
      "execution_count": 59,
      "outputs": [
        {
          "output_type": "stream",
          "name": "stdout",
          "text": [
            "Performing PCA...\n"
          ]
        }
      ]
    },
    {
      "cell_type": "code",
      "source": [
        "# Determine optimal k using simplified Elbow Method\n",
        "print(\"Calculating optimal k...\")\n",
        "k_range = range(2, 8)  # Reduced range for faster computation\n",
        "wcss = []\n",
        "for k in k_range:\n",
        "    kmeans = KMeans(n_clusters=k, init='k-means++', n_init=10, random_state=42)\n",
        "    kmeans.fit(X_pca)\n",
        "    wcss.append(kmeans.inertia_)"
      ],
      "metadata": {
        "colab": {
          "base_uri": "https://localhost:8080/"
        },
        "id": "OOPXFIpFEA0j",
        "outputId": "7cd10739-43b5-4d4a-e1b8-b86b7a7da0c9"
      },
      "execution_count": 60,
      "outputs": [
        {
          "output_type": "stream",
          "name": "stdout",
          "text": [
            "Calculating optimal k...\n"
          ]
        }
      ]
    },
    {
      "cell_type": "code",
      "source": [
        "# Plot Elbow Method\n",
        "plt.figure(figsize=(10, 5))\n",
        "plt.plot(k_range, wcss, 'bx-')\n",
        "plt.xlabel('Number of clusters (k)')\n",
        "plt.ylabel('WCSS')\n",
        "plt.title('Elbow Method')\n",
        "plt.show()"
      ],
      "metadata": {
        "colab": {
          "base_uri": "https://localhost:8080/",
          "height": 487
        },
        "id": "Z4FJq99yEPbt",
        "outputId": "55cbd5e6-73aa-45fa-aa36-ba109f50aac3"
      },
      "execution_count": 61,
      "outputs": [
        {
          "output_type": "display_data",
          "data": {
            "text/plain": [
              "<Figure size 1000x500 with 1 Axes>"
            ],
            "image/png": "[encoded data removed]"
          },
          "metadata": {}
        }
      ]
    },
    {
      "cell_type": "code",
      "source": [
        "# Based on the elbow plot, choose optimal k\n",
        "optimal_k = 3  # You can adjust this based on where the elbow appears"
      ],
      "metadata": {
        "id": "DAgJtjAmEWFW"
      },
      "execution_count": 62,
      "outputs": []
    },
    {
      "cell_type": "code",
      "source": [
        "kmeans = KMeans(n_clusters=optimal_k, init='k-means++', n_init=10, random_state=42)\n",
        "# cluster_labels = kmeans.fit_predict(X_pca)\n",
        "df_cluster['Cluster'] = kmeans.fit_predict(X_pca)"
      ],
      "metadata": {
        "id": "NcYKHkyPE2Fq"
      },
      "execution_count": 63,
      "outputs": []
    },
    {
      "cell_type": "code",
      "source": [
        "# Analyze clusters by examining key features (using original scaled features)\n",
        "print(\"Analyzing clusters...\")\n",
        "cluster_features = ['Age', 'BMI', 'Blood Glucose Levels', 'Insulin Levels']\n",
        "cluster_means = df_cluster.groupby('Cluster')[cluster_features].mean()\n"
      ],
      "metadata": {
        "colab": {
          "base_uri": "https://localhost:8080/"
        },
        "id": "cPjyreKaEuzk",
        "outputId": "d4cbe645-28ac-448d-e68b-a27c9d3b6c88"
      },
      "execution_count": 64,
      "outputs": [
        {
          "output_type": "stream",
          "name": "stdout",
          "text": [
            "Analyzing clusters...\n"
          ]
        }
      ]
    },
    {
      "cell_type": "code",
      "source": [
        "# Plot cluster characteristics\n",
        "plt.figure(figsize=(12, 8))\n",
        "for i, feature in enumerate(cluster_features):\n",
        "    plt.subplot(2, 2, i+1)\n",
        "    plt.bar(cluster_means.index, cluster_means[feature])\n",
        "    plt.title(f'Average {feature} by Cluster')\n",
        "    plt.xlabel('Cluster')\n",
        "    plt.ylabel(feature)\n",
        "plt.tight_layout()\n",
        "plt.show()"
      ],
      "metadata": {
        "colab": {
          "base_uri": "https://localhost:8080/",
          "height": 807
        },
        "id": "SJPt_H4eE_UU",
        "outputId": "e836d9d6-1a85-4f1e-a080-6076e93f4818"
      },
      "execution_count": 65,
      "outputs": [
        {
          "output_type": "display_data",
          "data": {
            "text/plain": [
              "<Figure size 1200x800 with 4 Axes>"
            ],
            "image/png": "[encoded data removed]"
          },
          "metadata": {}
        }
      ]
    },
    {
      "cell_type": "code",
      "source": [
        "# Print cluster insights\n",
        "print(\"\\nCluster Characteristics:\")\n",
        "print(cluster_means)"
      ],
      "metadata": {
        "colab": {
          "base_uri": "https://localhost:8080/"
        },
        "id": "8LJ-0FvyR1Ij",
        "outputId": "3965ae26-7133-40a4-8485-85330207abcd"
      },
      "execution_count": 66,
      "outputs": [
        {
          "output_type": "stream",
          "name": "stdout",
          "text": [
            "\n",
            "Cluster Characteristics:\n",
            "               Age        BMI  Blood Glucose Levels  Insulin Levels\n",
            "Cluster                                                            \n",
            "0         6.619493  18.158932            202.488134       12.009790\n",
            "1        54.511859  29.748116            187.871515       31.486199\n",
            "2        29.646935  24.767839            121.546507       19.784066\n"
          ]
        }
      ]
    },
    {
      "cell_type": "markdown",
      "source": [
        "## A sample run interpretation (below):\n",
        "\n",
        "\n",
        "\n",
        "Cluster 0: Likely younger patients with lower BMI and insulin levels\n",
        "\n",
        "Cluster 1: Older patients with higher BMI and insulin levels\n",
        "\n",
        "Cluster 2: Middle-aged patients with moderate health metrics\n",
        "\n",
        "*Note: Cluster indices may change for each run*"
      ],
      "metadata": {
        "id": "ek9v-KY9Snjb"
      }
    },
    {
      "cell_type": "markdown",
      "source": [
        "![Screenshot 2025-04-13 at 1.54.45 PM.png](data:image/png;base64,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)"
      ],
      "metadata": {
        "id": "fUU3JWlQS3Mg"
      }
    }
  ],
  "metadata": {
    "colab": {
      "provenance": [],
      "include_colab_link": true
    },
    "kernelspec": {
      "display_name": "Python 3",
      "name": "python3"
    },
    "language_info": {
      "name": "python"
    }
  },
  "nbformat": 4,
  "nbformat_minor": 0
}